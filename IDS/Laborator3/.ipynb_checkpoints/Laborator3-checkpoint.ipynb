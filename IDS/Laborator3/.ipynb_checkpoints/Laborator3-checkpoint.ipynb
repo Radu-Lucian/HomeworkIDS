{
 "cells": [
  {
   "cell_type": "markdown",
   "metadata": {},
   "source": [
    "# Laborator 3\n",
    "\n",
    "Saptamana 11-15 martie 2019"
   ]
  },
  {
   "cell_type": "markdown",
   "metadata": {},
   "source": [
    "## Exercitii simple folosind API de NumPy  \n",
    "\n",
    "Nota: in rezolvarea exercitiilor se vor folosi cat mai mult functii NumPy vectorizate. Functiile scrise de voi vor fi documentate cu docstrings (tutoriale: Docstrings in Python, urmati NumPy Style Python Docstrings). Folositi type annotations. Utilizati doar pachetele NumPy si SciPy."
   ]
  },
  {
   "cell_type": "markdown",
   "metadata": {},
   "source": [
    "1. (0.5 puncte) Folosind functia `np.where`, determinati care sunt liniile si coloanele care contin un element dat intr-o matrice. \n",
    "1. (0.5 puncte) Pentru o matrice de numere, sa se determine produsul elementelor pe linii.\n",
    "1. (0.5 puncte) Determinati daca toate elementele unei matrice `a` sunt mai mari sau egale decat toate de pe pozitiile corespondente din `b`.\n",
    "1. (0.5 puncte) Pentru un vector de numere, care sunt *toate pozitiile* pe care apare valoarea maxima? Folositi functie NumPy.\n",
    "1. (0.5 puncte) Se considera vectorul: `a = np.array([230, 10, 284, 39, 76])`. Folosind indexarea logica, sa se inmulteasca elementele din vector care sunt mai mici ca 100 cu 2 (restul raman neschimbate). Folosind ciclare, sa se aplice aceeasi operatie pana cand toate elementele devin mai mari ca 100. Sa se afiseze din vectorul final elementele care sunt mai mari de 150 si mai mici de 200.\n",
    "1. (0.5 puncte) Sa se scrie o functie care preia doi vectori de aceeasi lungime si returneaza maximele pe pozitiile corespunzatoare:\n",
    "```python\n",
    "a = np.array([3, 7, 9, 13, -10, 200, 3])\n",
    "b = np.array([4, 5, -9, 100, 300, 230, 1])\n",
    "pair_max(a, b)\n",
    "#iesire dorita: \n",
    "array([  4,   7,   9, 100, 300, 230,   3])\n",
    "```\n",
    "1. (1 punct) Sa se calculeze suma elementelor non-NaN intr-un 2d numpy array, in 3 feluri. Folosind comanda magica `%%timeit` [Built-in magic commands](http://ipython.readthedocs.io/en/stable/interactive/magics.html#cell-magics), [IPython Magic Commands](https://jakevdp.github.io/PythonDataScienceHandbook/01.03-magic-commands.html), sa se determine care e mai rapida.\n",
    "    1. Peste o copie a tabelului initial (functia membru `copy()` a unui tablou) se suprascriu elementele nan cu 0, apoi se face suma;\n",
    "    1. Folosind functia `np.nansum`;\n",
    "    1. Folosind indiciere booleana si functia `np.isnan`, se determina colectia elementelor non-nan si se calculeaza suma lor in mod obisnuit.\n",
    "1. (1 punct) Incarcati setul de date Iris, de la adresa 'https://archive.ics.uci.edu/ml/machine-learning-databases/iris/iris.data', folosind `np.genfromtxt`.  Alegeti aleator 10 pozitii in matricea de 150 linii si 4 coloane (omiteti ultima coloana, de tip text), setati aceste valori pe NaN. Construiti o functie care, primid la intrare o matrice, returneaza un tuplu cu indicii de linie respectiv de coloana in care se gasesc valori NaN.\n",
    "1. (1 punct) Construiti o functie care, primind o matrice, determina pe ce pozitii se afla valorile in afara unui interval \\[min, max\\] dat prin parametri. \n",
    "1. (1 punct) Sa se construiasca o functie care returneaza cele mai mari `k` valori dintr-un vector de cel putin `k` elemente, impreuna cu pozitiile lor. "
   ]
  },
  {
   "cell_type": "markdown",
   "metadata": {},
   "source": [
    "**Precizari:**\n",
    "1. Se acorda 3 puncte din oficiu.\n",
    "1. Tema se va prezenta in sapatamana 18-22 martie. \n",
    "1. Modalitatea de predare a temei: \n",
    "    1. se vor forma si se va lucra in echipe de cate doua persoane (in cazul in care nu se poate, se va lucra individual)\n",
    "    2. exercitiile rezolvate se vor comite pe un repository **privat** de [Github](https://github.com/), la care vor avea doar acces membrii echipei si profesorii, Lucian Mircea Sasu (cont github: lmsasu) respectiv Arpad Kerestely (cont github: akerestely)\n",
    "    3. repository-ul va contine un fisier \"readme.md\" (in radacina repository-ului) in care vor fi mentionati autorii temelor, cu nume complet si grupa din care fac parte."
   ]
  },
  {
   "cell_type": "markdown",
   "metadata": {},
   "source": [
    "## Importuri."
   ]
  },
  {
   "cell_type": "code",
   "execution_count": 1,
   "metadata": {
    "ExecuteTime": {
     "end_time": "2019-03-13T08:51:26.482930Z",
     "start_time": "2019-03-13T08:51:26.462703Z"
    }
   },
   "outputs": [],
   "source": [
    "import numpy as np"
   ]
  },
  {
   "cell_type": "markdown",
   "metadata": {},
   "source": [
    "## Rezolvari."
   ]
  },
  {
   "cell_type": "markdown",
   "metadata": {},
   "source": [
    "1. (0.5 puncte) Folosind functia `np.where`, determinati care sunt liniile si coloanele care contin un element dat intr-o matrice. "
   ]
  },
  {
   "cell_type": "code",
   "execution_count": 2,
   "metadata": {
    "ExecuteTime": {
     "end_time": "2019-03-13T09:00:07.482915Z",
     "start_time": "2019-03-13T09:00:07.467310Z"
    }
   },
   "outputs": [
    {
     "name": "stdout",
     "output_type": "stream",
     "text": [
      "[0] [2]\n"
     ]
    }
   ],
   "source": [
    "def find_element_in_matrix(matrix :np.matrix, element :float) -> None:\n",
    "    '''\n",
    "    Prints all the positions of an element found in a matrix.\n",
    "    params      : matrix  : np.matrix, the given matrix;\n",
    "                  element : the element to be found.\n",
    "    return      : None\n",
    "    '''\n",
    "    row, column = np.where(matrix == element)\n",
    "    print(row, column)\n",
    "    \n",
    "find_element_in_matrix(np.matrix([[1, 2, 3], [4, 5, 6], [7, 8, 9]]), 3)"
   ]
  },
  {
   "cell_type": "markdown",
   "metadata": {},
   "source": [
    "2. (0.5 puncte) Pentru o matrice de numere, sa se determine produsul elementelor pe linii."
   ]
  },
  {
   "cell_type": "code",
   "execution_count": 3,
   "metadata": {
    "ExecuteTime": {
     "end_time": "2019-03-13T09:12:17.781571Z",
     "start_time": "2019-03-13T09:12:17.765937Z"
    }
   },
   "outputs": [
    {
     "name": "stdout",
     "output_type": "stream",
     "text": [
      "[[  6]\n",
      " [120]\n",
      " [504]]\n"
     ]
    }
   ],
   "source": [
    "def multiply_elem_row(matrix :np.matrix) -> None:\n",
    "    '''\n",
    "    Makes the prod to the elements of each row\n",
    "    params      : matrix  : np.matrix, the given matrix;\n",
    "    return      : None\n",
    "    '''\n",
    "    line_res = np.prod(matrix, axis=1)\n",
    "    print(line_res)\n",
    "    \n",
    "multiply_elem_row(np.matrix([[1, 2, 3], [4, 5, 6], [7, 8, 9]]))"
   ]
  },
  {
   "cell_type": "markdown",
   "metadata": {},
   "source": [
    "3. (0.5 puncte) Determinati daca toate elementele unei matrice `a` sunt mai mari sau egale decat toate de pe pozitiile corespondente din `b`."
   ]
  },
  {
   "cell_type": "code",
   "execution_count": 4,
   "metadata": {
    "ExecuteTime": {
     "end_time": "2019-03-13T09:22:25.891545Z",
     "start_time": "2019-03-13T09:22:25.860323Z"
    }
   },
   "outputs": [
    {
     "data": {
      "text/plain": [
       "False"
      ]
     },
     "execution_count": 4,
     "metadata": {},
     "output_type": "execute_result"
    }
   ],
   "source": [
    "def find_elements_grater(a :np.matrix, b :np.matrix) -> bool:\n",
    "    '''\n",
    "    Finds if all the elements of both matrices are are greater or at least equal to the first matrix 'a'\n",
    "    params   : a, b both type np.matrix\n",
    "    return   : None\n",
    "    '''\n",
    "    return a.any() < b.any()\n",
    "        \n",
    "find_elements_grater(np.matrix([[1, 2, 3], [4, 5, 6], [2, 8, 9]]), np.matrix([[1, 2, 3], [4, 5, 6], [7, 8, 9]]))"
   ]
  },
  {
   "cell_type": "markdown",
   "metadata": {},
   "source": [
    "4. (0.5 puncte) Pentru un vector de numere, care sunt *toate pozitiile* pe care apare valoarea maxima? Folositi functie NumPy."
   ]
  },
  {
   "cell_type": "code",
   "execution_count": 5,
   "metadata": {
    "ExecuteTime": {
     "end_time": "2019-03-13T09:29:55.801657Z",
     "start_time": "2019-03-13T09:29:55.770464Z"
    }
   },
   "outputs": [
    {
     "data": {
      "text/plain": [
       "(array([3], dtype=int64),)"
      ]
     },
     "execution_count": 5,
     "metadata": {},
     "output_type": "execute_result"
    }
   ],
   "source": [
    "def find_poz_max_elem(numbers :np.array) -> np.ndarray:\n",
    "    '''\n",
    "    Returns np.ndarray containing the index of max element\n",
    "    param    : numbers a np.array of numbers\n",
    "    return   : np.ndarray containing the index of max element\n",
    "    '''\n",
    "    return np.where(numbers == np.max(numbers))\n",
    "    \n",
    "find_poz_max_elem(np.array([1, 3, 2, 8, 1]))"
   ]
  },
  {
   "cell_type": "markdown",
   "metadata": {},
   "source": [
    "5. (0.5 puncte) Se considera vectorul: `a = np.array([230, 10, 284, 39, 76])`. Folosind indexarea logica, sa se inmulteasca elementele din vector care sunt mai mici ca 100 cu 2 (restul raman neschimbate). Folosind ciclare, sa se aplice aceeasi operatie pana cand toate elementele devin mai mari ca 100. Sa se afiseze din vectorul final elementele care sunt mai mari de 150 si mai mici de 200."
   ]
  },
  {
   "cell_type": "code",
   "execution_count": 6,
   "metadata": {
    "ExecuteTime": {
     "end_time": "2019-03-13T09:49:10.977168Z",
     "start_time": "2019-03-13T09:49:10.961585Z"
    }
   },
   "outputs": [
    {
     "name": "stdout",
     "output_type": "stream",
     "text": [
      "[230  20 284  78 152]\n",
      "[230  40 284 156 152]\n",
      "[230  80 284 156 152]\n",
      "[230 160 284 156 152]\n",
      "[160 156 152]\n"
     ]
    }
   ],
   "source": [
    "def logical_index(a :np.array) -> None:\n",
    "    '''\n",
    "    Modifies the matrix in a way, numbers that are smaller than 100 will get mmultiplyed by 2\n",
    "    Repeat this untill no numbers with this condition are left\n",
    "    Print the resulting np.array only with elements between 150 and 200\n",
    "    params    : a, np.array, the given array made of numbers\n",
    "    return    : None\n",
    "    '''\n",
    "    while a[a < 100].any():\n",
    "        a[a < 100] = a[a < 100] * 2\n",
    "        print(a)\n",
    "    print(a[(a > 150) & (a < 200)])\n",
    "    \n",
    "a = np.array([230, 10, 284, 39, 76])\n",
    "logical_index(a)"
   ]
  },
  {
   "cell_type": "markdown",
   "metadata": {},
   "source": [
    "6. (0.5 puncte) Sa se scrie o functie care preia doi vectori de aceeasi lungime si returneaza maximele pe pozitiile corespunzatoare:\n",
    "```python\n",
    "a = np.array([3, 7, 9, 13, -10, 200, 3])\n",
    "b = np.array([4, 5, -9, 100, 300, 230, 1])\n",
    "pair_max(a, b)\n",
    "#iesire dorita: \n",
    "array([  4,   7,   9, 100, 300, 230,   3])\n",
    "```"
   ]
  },
  {
   "cell_type": "code",
   "execution_count": 7,
   "metadata": {
    "ExecuteTime": {
     "end_time": "2019-03-13T09:51:36.602453Z",
     "start_time": "2019-03-13T09:51:36.586811Z"
    }
   },
   "outputs": [
    {
     "data": {
      "text/plain": [
       "array([ True,  True,  True,  True,  True,  True,  True])"
      ]
     },
     "execution_count": 7,
     "metadata": {},
     "output_type": "execute_result"
    }
   ],
   "source": [
    "def pair_max(a :np.array, b :np.array) -> np.array:\n",
    "    '''\n",
    "    Return the maximum a and b depending on position\n",
    "    params    : a, np.array, the first given array of numbers\n",
    "                b, np.array, the second given array of numbers\n",
    "    return    : np.array made of maximum of each index on both arrays\n",
    "    '''\n",
    "    return np.maximum(a, b)\n",
    "    \n",
    "a = np.array([3, 7, 9, 13, -10, 200, 3])\n",
    "b = np.array([4, 5, -9, 100, 300, 230, 1])\n",
    "pair_max(a, b) == np.array([  4,   7,   9, 100, 300, 230,   3])"
   ]
  },
  {
   "cell_type": "markdown",
   "metadata": {},
   "source": [
    "7. (1 punct) Sa se calculeze suma elementelor non-NaN intr-un 2d numpy array, in 3 feluri. Folosind comanda magica `%%timeit` [Built-in magic commands](http://ipython.readthedocs.io/en/stable/interactive/magics.html#cell-magics), [IPython Magic Commands](https://jakevdp.github.io/PythonDataScienceHandbook/01.03-magic-commands.html), sa se determine care e mai rapida.\n",
    "    1. Peste o copie a tabelului initial (functia membru `copy()` a unui tablou) se suprascriu elementele nan cu 0, apoi se face suma;\n",
    "    1. Folosind functia `np.nansum`;\n",
    "    1. Folosind indiciere booleana si functia `np.isnan`, se determina colectia elementelor non-nan si se calculeaza suma lor in mod obisnuit."
   ]
  },
  {
   "cell_type": "markdown",
   "metadata": {},
   "source": [
    "A. Peste o copie a tabelului initial (functia membru `copy()` a unui tablou) se suprascriu elementele nan cu 0, apoi se face suma;"
   ]
  },
  {
   "cell_type": "code",
   "execution_count": 8,
   "metadata": {
    "ExecuteTime": {
     "end_time": "2019-03-13T11:30:28.738627Z",
     "start_time": "2019-03-13T11:30:25.152852Z"
    }
   },
   "outputs": [
    {
     "name": "stdout",
     "output_type": "stream",
     "text": [
      "47.8 µs ± 948 ns per loop (mean ± std. dev. of 7 runs, 10000 loops each)\n"
     ]
    }
   ],
   "source": [
    "%%timeit\n",
    "def copy_sum(matrix :np.matrix) -> None:\n",
    "    '''\n",
    "    Dose the sum of elements of matrix\n",
    "    params    : matrix, type np.matrix, given matrix\n",
    "    return    : None\n",
    "    '''\n",
    "    np.sum(np.nan_to_num(matrix))\n",
    "    \n",
    "copy_sum(np.matrix([[1, 2, 3], [np.nan, 5, 6], [7, 8, 9]]))"
   ]
  },
  {
   "cell_type": "markdown",
   "metadata": {},
   "source": [
    "B. Folosind functia `np.nansum`;"
   ]
  },
  {
   "cell_type": "code",
   "execution_count": 9,
   "metadata": {
    "ExecuteTime": {
     "end_time": "2019-03-13T11:33:55.439217Z",
     "start_time": "2019-03-13T11:33:42.900420Z"
    }
   },
   "outputs": [
    {
     "name": "stdout",
     "output_type": "stream",
     "text": [
      "27.6 µs ± 290 ns per loop (mean ± std. dev. of 7 runs, 10000 loops each)\n"
     ]
    }
   ],
   "source": [
    "%%timeit\n",
    "def nan_sum(matrix :np.matrix) -> None:\n",
    "    '''\n",
    "    Dose the sum of elements of matrix\n",
    "    params    : matrix, type np.matrix, given matrix\n",
    "    return    : None\n",
    "    '''\n",
    "    np.nansum(matrix)\n",
    "    \n",
    "nan_sum(np.matrix([[1, 2, 3], [np.nan, 5, 6], [7, 8, 9]]))"
   ]
  },
  {
   "cell_type": "markdown",
   "metadata": {},
   "source": [
    "C. Folosind indiciere booleana si functia `np.isnan`, se determina colectia elementelor non-nan si se calculeaza suma lor in mod obisnuit."
   ]
  },
  {
   "cell_type": "code",
   "execution_count": 10,
   "metadata": {
    "ExecuteTime": {
     "end_time": "2019-03-13T11:30:33.291944Z",
     "start_time": "2019-03-13T11:30:30.748531Z"
    }
   },
   "outputs": [
    {
     "name": "stdout",
     "output_type": "stream",
     "text": [
      "32.8 µs ± 146 ns per loop (mean ± std. dev. of 7 runs, 10000 loops each)\n"
     ]
    }
   ],
   "source": [
    "%%timeit\n",
    "def boolean_index_sum(matrix :np.matrix) -> None:\n",
    "    '''\n",
    "    Dose the sum of elements of matrix\n",
    "    params    : matrix, type np.matrix, given matrix\n",
    "    return    : None\n",
    "    '''\n",
    "    np.sum(matrix[np.isnan(matrix) == False])\n",
    "    \n",
    "boolean_index_sum(np.matrix([[1, 2, 3], [np.nan, 5, 6], [7, 8, 9]]))"
   ]
  },
  {
   "cell_type": "markdown",
   "metadata": {},
   "source": [
    "8. (1 punct) Incarcati setul de date Iris, de la adresa 'https://archive.ics.uci.edu/ml/machine-learning-databases/iris/iris.data', folosind `np.genfromtxt`.  Alegeti aleator 10 pozitii in matricea de 150 linii si 4 coloane (omiteti ultima coloana, de tip text), setati aceste valori pe NaN. Construiti o functie care, primid la intrare o matrice, returneaza un tuplu cu indicii de linie respectiv de coloana in care se gasesc valori NaN."
   ]
  },
  {
   "cell_type": "code",
   "execution_count": 11,
   "metadata": {
    "ExecuteTime": {
     "end_time": "2019-03-13T18:10:18.230533Z",
     "start_time": "2019-03-13T18:10:18.219528Z"
    }
   },
   "outputs": [
    {
     "name": "stdout",
     "output_type": "stream",
     "text": [
      "[[5.1 3.5 1.4 0.2]\n",
      " [4.9 3.  1.4 0.2]\n",
      " [4.7 3.2 1.3 0.2]\n",
      " [4.6 3.1 1.5 0.2]\n",
      " [5.  3.6 1.4 0.2]\n",
      " [5.4 3.9 1.7 0.4]\n",
      " [4.6 3.4 1.4 0.3]\n",
      " [5.  3.4 1.5 0.2]\n",
      " [4.4 2.9 1.4 0.2]\n",
      " [4.9 3.1 1.5 0.1]\n",
      " [5.4 3.7 1.5 0.2]\n",
      " [4.8 3.4 1.6 0.2]\n",
      " [4.8 nan nan 0.1]\n",
      " [4.3 3.  1.1 0.1]\n",
      " [5.8 4.  1.2 0.2]\n",
      " [5.7 4.4 1.5 0.4]\n",
      " [5.4 3.9 1.3 0.4]\n",
      " [5.1 3.5 1.4 0.3]\n",
      " [5.7 3.8 1.7 0.3]\n",
      " [5.1 3.8 1.5 nan]\n",
      " [5.4 3.4 1.7 0.2]\n",
      " [5.1 3.7 1.5 0.4]\n",
      " [4.6 3.6 1.  0.2]\n",
      " [5.1 3.3 1.7 0.5]\n",
      " [4.8 3.4 1.9 0.2]\n",
      " [5.  3.  1.6 0.2]\n",
      " [5.  3.4 1.6 0.4]\n",
      " [5.2 3.5 1.5 0.2]\n",
      " [5.2 3.4 1.4 0.2]\n",
      " [4.7 3.2 1.6 0.2]\n",
      " [4.8 3.1 1.6 0.2]\n",
      " [5.4 3.4 1.5 0.4]\n",
      " [5.2 4.1 1.5 0.1]\n",
      " [5.5 4.2 1.4 0.2]\n",
      " [4.9 3.1 1.5 0.1]\n",
      " [5.  3.2 1.2 0.2]\n",
      " [5.5 3.5 1.3 0.2]\n",
      " [4.9 3.1 1.5 0.1]\n",
      " [nan 3.  1.3 0.2]\n",
      " [5.1 3.4 1.5 0.2]\n",
      " [5.  3.5 1.3 0.3]\n",
      " [4.5 2.3 1.3 0.3]\n",
      " [4.4 3.2 1.3 0.2]\n",
      " [5.  3.5 1.6 0.6]\n",
      " [5.1 3.8 1.9 0.4]\n",
      " [4.8 3.  1.4 0.3]\n",
      " [5.1 3.8 1.6 0.2]\n",
      " [4.6 3.2 1.4 0.2]\n",
      " [5.3 3.7 1.5 0.2]\n",
      " [5.  3.3 1.4 0.2]\n",
      " [7.  3.2 4.7 1.4]\n",
      " [6.4 3.2 4.5 1.5]\n",
      " [6.9 3.1 4.9 1.5]\n",
      " [5.5 2.3 4.  1.3]\n",
      " [6.5 2.8 4.6 1.5]\n",
      " [5.7 2.8 4.5 1.3]\n",
      " [6.3 3.3 4.7 1.6]\n",
      " [4.9 2.4 3.3 1. ]\n",
      " [6.6 2.9 4.6 1.3]\n",
      " [5.2 2.7 3.9 1.4]\n",
      " [5.  2.  3.5 1. ]\n",
      " [5.9 3.  4.2 1.5]\n",
      " [6.  2.2 4.  1. ]\n",
      " [6.1 2.9 4.7 1.4]\n",
      " [5.6 2.9 3.6 1.3]\n",
      " [nan 3.1 4.4 1.4]\n",
      " [5.6 nan 4.5 1.5]\n",
      " [5.8 2.7 4.1 1. ]\n",
      " [6.2 2.2 4.5 1.5]\n",
      " [5.6 2.5 3.9 1.1]\n",
      " [5.9 3.2 4.8 1.8]\n",
      " [6.1 2.8 4.  1.3]\n",
      " [6.3 2.5 nan 1.5]\n",
      " [6.1 2.8 4.7 1.2]\n",
      " [6.4 2.9 4.3 1.3]\n",
      " [6.6 3.  4.4 1.4]\n",
      " [6.8 2.8 4.8 1.4]\n",
      " [6.7 3.  5.  1.7]\n",
      " [6.  2.9 4.5 1.5]\n",
      " [5.7 2.6 3.5 1. ]\n",
      " [5.5 2.4 3.8 1.1]\n",
      " [5.5 2.4 3.7 1. ]\n",
      " [5.8 2.7 3.9 1.2]\n",
      " [6.  2.7 nan 1.6]\n",
      " [5.4 3.  4.5 1.5]\n",
      " [6.  3.4 4.5 1.6]\n",
      " [6.7 3.1 4.7 1.5]\n",
      " [6.3 2.3 4.4 1.3]\n",
      " [5.6 3.  4.1 1.3]\n",
      " [5.5 2.5 4.  1.3]\n",
      " [5.5 2.6 4.4 1.2]\n",
      " [6.1 3.  4.6 1.4]\n",
      " [5.8 2.6 4.  1.2]\n",
      " [5.  2.3 3.3 1. ]\n",
      " [5.6 2.7 4.2 1.3]\n",
      " [5.7 3.  4.2 1.2]\n",
      " [5.7 2.9 4.2 1.3]\n",
      " [6.2 2.9 4.3 1.3]\n",
      " [5.1 2.5 3.  1.1]\n",
      " [5.7 2.8 4.1 1.3]\n",
      " [6.3 3.3 6.  2.5]\n",
      " [5.8 2.7 5.1 1.9]\n",
      " [7.1 3.  5.9 2.1]\n",
      " [6.3 2.9 5.6 1.8]\n",
      " [nan 3.  5.8 2.2]\n",
      " [7.6 3.  6.6 2.1]\n",
      " [4.9 2.5 4.5 1.7]\n",
      " [7.3 2.9 6.3 1.8]\n",
      " [6.7 2.5 5.8 1.8]\n",
      " [7.2 3.6 6.1 2.5]\n",
      " [6.5 3.2 5.1 2. ]\n",
      " [6.4 2.7 5.3 1.9]\n",
      " [6.8 3.  5.5 2.1]\n",
      " [5.7 2.5 5.  2. ]\n",
      " [5.8 2.8 5.1 2.4]\n",
      " [6.4 3.2 5.3 2.3]\n",
      " [6.5 3.  5.5 1.8]\n",
      " [7.7 3.8 6.7 2.2]\n",
      " [7.7 2.6 6.9 2.3]\n",
      " [nan 2.2 5.  1.5]\n",
      " [6.9 3.2 5.7 2.3]\n",
      " [5.6 2.8 4.9 2. ]\n",
      " [7.7 2.8 6.7 2. ]\n",
      " [6.3 2.7 4.9 1.8]\n",
      " [6.7 3.3 5.7 2.1]\n",
      " [7.2 3.2 6.  1.8]\n",
      " [6.2 2.8 4.8 1.8]\n",
      " [6.1 3.  4.9 1.8]\n",
      " [6.4 2.8 5.6 2.1]\n",
      " [7.2 3.  5.8 1.6]\n",
      " [7.4 2.8 6.1 1.9]\n",
      " [7.9 3.8 6.4 2. ]\n",
      " [6.4 2.8 5.6 2.2]\n",
      " [6.3 2.8 5.1 1.5]\n",
      " [6.1 2.6 5.6 1.4]\n",
      " [7.7 3.  6.1 2.3]\n",
      " [6.3 3.4 5.6 2.4]\n",
      " [6.4 3.1 5.5 1.8]\n",
      " [6.  3.  4.8 1.8]\n",
      " [6.9 3.1 5.4 2.1]\n",
      " [6.7 3.1 5.6 2.4]\n",
      " [6.9 3.1 5.1 2.3]\n",
      " [5.8 2.7 5.1 1.9]\n",
      " [6.8 3.2 5.9 2.3]\n",
      " [6.7 3.3 5.7 2.5]\n",
      " [6.7 3.  5.2 2.3]\n",
      " [6.3 2.5 5.  1.9]\n",
      " [6.5 3.  5.2 2. ]\n",
      " [6.2 3.4 5.4 2.3]\n",
      " [5.9 3.  5.1 1.8]] [(12, 1), (12, 2), (19, 3), (38, 0), (65, 0), (66, 1), (72, 2), (83, 2), (104, 0), (119, 0)]\n"
     ]
    }
   ],
   "source": [
    "def index_of_nan(matrix :np.ndarray) -> tuple:\n",
    "    '''\n",
    "    Returns a tuple with the index of all NaN in a given matrix\n",
    "    params    : matrix, type np.ndarray, the given matrix\n",
    "    return    : a tuple with indexes\n",
    "    '''\n",
    "    return np.where(np.isnan(matrix))\n",
    "\n",
    "def load_data_set() -> None:\n",
    "    '''\n",
    "    Loads the dataset with np.genfromtxt and inserts random NaN's in the resulting matrix\n",
    "    params   : None\n",
    "    return   : None\n",
    "    '''\n",
    "    data = np.genfromtxt(\"https://archive.ics.uci.edu/ml/machine-learning-databases/iris/iris.data\", delimiter=',')[:, :-1]\n",
    "    data[np.random.randint(0, data.shape[0], 10), np.random.randint(0, data.shape[1], 10)] = np.nan\n",
    "    result = index_of_nan(data)\n",
    "    coord_list = list(zip(result[0], result[1]))\n",
    "    print(data, coord_list)\n",
    "    \n",
    "    \n",
    "load_data_set()"
   ]
  },
  {
   "cell_type": "markdown",
   "metadata": {},
   "source": [
    "9. (1 punct) Construiti o functie care, primind o matrice, determina pe ce pozitii se afla valorile in afara unui interval \\[min, max\\] dat prin parametri. "
   ]
  },
  {
   "cell_type": "code",
   "execution_count": 12,
   "metadata": {
    "ExecuteTime": {
     "end_time": "2019-03-13T18:09:56.191455Z",
     "start_time": "2019-03-13T18:09:56.185471Z"
    }
   },
   "outputs": [
    {
     "name": "stdout",
     "output_type": "stream",
     "text": [
      "[[0 0]\n",
      " [0 1]\n",
      " [0 2]\n",
      " [1 0]\n",
      " [2 0]\n",
      " [2 1]\n",
      " [2 2]]\n"
     ]
    }
   ],
   "source": [
    "def determin_index_out_of_bounds(matrix :np.matrix, minimum :int, maximum :int) -> None:\n",
    "    '''\n",
    "    Takes a matrix and finds all the values that are outside a given interval\n",
    "    params     : matrix, np.matrix, given matrix\n",
    "                 minimum, int, the lower part of interval\n",
    "                 maximum, int, the upper part of interval\n",
    "    return     : None\n",
    "    '''\n",
    "    print(np.argwhere(np.logical_or(matrix < minimum, matrix > maximum)))\n",
    "    \n",
    "determin_index_out_of_bounds(np.matrix([[1, 2, 3], [4, 5, 6], [2, 8, 9]]), 5, 6)"
   ]
  },
  {
   "cell_type": "markdown",
   "metadata": {},
   "source": [
    "10. (1 punct) Sa se construiasca o functie care returneaza cele mai mari `k` valori dintr-un vector de cel putin `k` elemente, impreuna cu pozitiile lor. "
   ]
  },
  {
   "cell_type": "code",
   "execution_count": 13,
   "metadata": {
    "ExecuteTime": {
     "end_time": "2019-03-13T17:59:57.846886Z",
     "start_time": "2019-03-13T17:59:57.840873Z"
    }
   },
   "outputs": [
    {
     "name": "stdout",
     "output_type": "stream",
     "text": [
      "(array([1, 2, 5, 3], dtype=int64), array([  7,   9, 200,  13]))\n"
     ]
    }
   ],
   "source": [
    "def max_k_elements_with_index(numbers :np.array, k :int) -> tuple:\n",
    "    '''\n",
    "    Return the max values with indeces on a given array\n",
    "    params    : numbers, np.array, the given array\n",
    "                k, int, the number of max elements to give\n",
    "    return    : tuple with position and element\n",
    "    '''\n",
    "    if len(numbers) >= k:\n",
    "        index = np.argpartition(numbers, -k)[-k:]\n",
    "        return (index, numbers[index])\n",
    "    else:\n",
    "        print(\"Can't be\")\n",
    "        return (0, 0)\n",
    "    \n",
    "print(max_k_elements_with_index(np.array([3, 7, 9, 13, -10, 200, 3]), 4))"
   ]
  }
 ],
 "metadata": {
  "kernelspec": {
   "display_name": "Python 3",
   "language": "python",
   "name": "python3"
  },
  "language_info": {
   "codemirror_mode": {
    "name": "ipython",
    "version": 3
   },
   "file_extension": ".py",
   "mimetype": "text/x-python",
   "name": "python",
   "nbconvert_exporter": "python",
   "pygments_lexer": "ipython3",
   "version": "3.7.1"
  },
  "toc": {
   "base_numbering": 1,
   "nav_menu": {},
   "number_sections": true,
   "sideBar": true,
   "skip_h1_title": false,
   "title_cell": "Table of Contents",
   "title_sidebar": "Contents",
   "toc_cell": false,
   "toc_position": {},
   "toc_section_display": true,
   "toc_window_display": false
  },
  "varInspector": {
   "cols": {
    "lenName": 16,
    "lenType": 16,
    "lenVar": 40
   },
   "kernels_config": {
    "python": {
     "delete_cmd_postfix": "",
     "delete_cmd_prefix": "del ",
     "library": "var_list.py",
     "varRefreshCmd": "print(var_dic_list())"
    },
    "r": {
     "delete_cmd_postfix": ") ",
     "delete_cmd_prefix": "rm(",
     "library": "var_list.r",
     "varRefreshCmd": "cat(var_dic_list()) "
    }
   },
   "types_to_exclude": [
    "module",
    "function",
    "builtin_function_or_method",
    "instance",
    "_Feature"
   ],
   "window_display": false
  }
 },
 "nbformat": 4,
 "nbformat_minor": 2
}
