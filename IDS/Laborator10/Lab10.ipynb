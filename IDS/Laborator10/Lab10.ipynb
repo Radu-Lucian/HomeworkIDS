{
 "cells": [
  {
   "cell_type": "markdown",
   "metadata": {},
   "source": [
    "# Laborator 10"
   ]
  },
  {
   "cell_type": "markdown",
   "metadata": {},
   "source": [
    "Folosind un set de date - de exemplu de la https://archive.ics.uci.edu/ml/datasets.php?format=&task=&att=&area=&numAtt=&numIns=&type=text&sort=taskDown&view=table - sa se rezolve o problema de clasificare sau regresie, plecand de la intrari de tip text.\n",
    "\n",
    "Se poate opta pentru codificare BOW, n-grams, word2vec sau altele adecvate. Modelele de predictie pot fi din biblioteca scikit-learn. Puteti folosi pentru preprocesare biblioteca [NLTK](https://www.nltk.org) etc.\n",
    "\n",
    "Pentru clasificare se va optimiza scorul F1; se vor raporta scorurile F1, accuracy. Pentru regresie se va optimia scorul mean squared error; se vor raporta scorurile MSE, mean absolute error, r2.\n",
    "\n",
    "Exemple:\n",
    "1. [Clasificare de SMS-uri](https://archive.ics.uci.edu/ml/datasets/SMS+Spam+Collection)\n",
    "1. [Sentence Classification Data Set](https://archive.ics.uci.edu/ml/datasets/Sentence+Classification#)\n",
    "1. [Sentiment Labelled Sentences Data Set](https://archive.ics.uci.edu/ml/datasets/Sentiment+Labelled+Sentences)\n",
    "1. [Victorian Era Authorship Attribution Data Set](https://archive.ics.uci.edu/ml/datasets/Victorian+Era+Authorship+Attribution)\n",
    "1. [Amazon Commerce reviews set Data Set](https://archive.ics.uci.edu/ml/datasets/Amazon+Commerce+reviews+set)\n",
    "1. [Farm Ads Data Set](https://archive.ics.uci.edu/ml/datasets/Farm+Ads)\n",
    "1. etc...\n",
    "\n",
    "\n",
    "Se vor investiga minim 2 seturi de date si pentru fiecare din ele minim 4 modele de clasificare sau regresie. Daca setul de date e deja impartit in train si test, se va folosi ca atare - setul de antrenare se va imparti, suplimentar in train + validation; altfel, se va face kfold CV, k=5. Valorile optimale ale hiperparametrilor vor fi alesi prin random search si grid search.\n",
    "\n",
    "Pentru fiecare set de date:\n",
    "1. (2 x 0.5 p) Se descrie setul de date, in limba romana (continut, provenienta, problema etc.)\n",
    "1. (2 x 1 p) Se face analiza exploratorie, folosind cod Python: distributia claselor sau a valorilor continue de iesire - numeric si grafic, statistici asupra textelor (de exemplu: lungime minima/medie/maxima; cele mai frecvente k cuvinte; clustering etc.). Se va explica fiecare pas si ce se urmareste prin efectuarea lui. Graficele vor avea axele numite (ce se reprezinta, evetual unitate de masura)\n",
    "1. (2 x 0.5 p) Se face preprocesare de date; se explica in limba romana care sunt metodele de preprocesare folosite, efectul lor pe datele de intrare, ce forma are iesirea obtinuta; se arata efectele pasilor de preprocesare asupra setului de date (noul numar de documente, dinamica vocabularului, trasaturile rezultate etc.) Se pot aduga grafice si tabele la acest pas.\n",
    "1. (2 x 4 x 0.5 p) Clasificare sau regresie, dupa caz: se face o descriere a modelelor considerate, in limba romana; se descrie modalitatea de cautare a hiperparametrilor; rezultatele obtinute se vor prezenta tabelar, similar cu tema precedenta. \n",
    "\n",
    "Se acorda doua puncte din oficiu.\n",
    "\n",
    "Descrierea modelelor si a pasilor de preprocesare pot fi in sectiuni separate, cu referinte la acestea unde e necesar. Partea specifica aplicarii pasilor pe datele considerate va fi prezentata respectand ordinea de aplicare. \n",
    "\n",
    "Exemple:\n",
    "1. [Working With Text Data](https://scikit-learn.org/stable/tutorial/text_analytics/working_with_text_data.html)\n",
    "1. [Text Classification with Python and Scikit-Learn](https://stackabuse.com/text-classification-with-python-and-scikit-learn/)\n",
    "1. [How to Prepare Text Data for Machine Learning with scikit-learn](https://machinelearningmastery.com/prepare-text-data-machine-learning-scikit-learn/)\n",
    "\n",
    "Prezentarea temei se va face in saptamana 20-24 mai."
   ]
  },
  {
   "cell_type": "code",
   "execution_count": 1,
   "metadata": {
    "ExecuteTime": {
     "end_time": "2019-05-21T20:47:22.513276Z",
     "start_time": "2019-05-21T20:47:21.540283Z"
    }
   },
   "outputs": [
    {
     "name": "stdout",
     "output_type": "stream",
     "text": [
      "Pandas version: 0.24.2\n"
     ]
    }
   ],
   "source": [
    "import pandas as pd\n",
    "import numpy as np\n",
    "import sklearn as sk\n",
    "import matplotlib.pyplot as plt\n",
    "import re\n",
    "from sklearn.feature_extraction.text import CountVectorizer\n",
    "from sklearn.model_selection import train_test_split\n",
    "from sklearn.model_selection import GridSearchCV, RandomizedSearchCV,cross_val_score, cross_validate\n",
    "from sklearn.svm import SVC\n",
    "from sklearn.ensemble import RandomForestClassifier\n",
    "from sklearn.tree import DecisionTreeClassifier\n",
    "from sklearn.neighbors import KNeighborsClassifier\n",
    "from sklearn.gaussian_process import GaussianProcessClassifier\n",
    "from sklearn.preprocessing import MaxAbsScaler\n",
    "\n",
    "from wordcloud import WordCloud\n",
    "import nltk\n",
    "from nltk.corpus import stopwords\n",
    "import string\n",
    "from nltk.tokenize import word_tokenize\n",
    "from textblob import TextBlob\n",
    "\n",
    "print('Pandas version:', pd.__version__) #Pandas version: 0.23.4"
   ]
  },
  {
   "cell_type": "markdown",
   "metadata": {},
   "source": [
    "# Defining the regression models and auxiliary functions."
   ]
  },
  {
   "cell_type": "code",
   "execution_count": 2,
   "metadata": {
    "ExecuteTime": {
     "end_time": "2019-05-21T20:47:22.991379Z",
     "start_time": "2019-05-21T20:47:22.987388Z"
    }
   },
   "outputs": [],
   "source": [
    "data = []\n",
    "columns = ['Model', 'Search', 'train_accuracy', 'train_f1_macro', 'test_accuracy', 'test_f1_macro']\n",
    "subset = ['train_accuracy', 'train_f1_macro', 'test_accuracy', 'test_f1_macro']"
   ]
  },
  {
   "cell_type": "markdown",
   "metadata": {},
   "source": [
    "## Highlighting functions for pandas data frame"
   ]
  },
  {
   "cell_type": "code",
   "execution_count": 3,
   "metadata": {
    "ExecuteTime": {
     "end_time": "2019-05-21T20:47:23.557226Z",
     "start_time": "2019-05-21T20:47:23.553235Z"
    }
   },
   "outputs": [],
   "source": [
    "def highlight_max(s)-> pd.DataFrame:\n",
    "    '''\n",
    "    Colors the max cells in green, given a pandas DataFrame object.\n",
    "    param:  s: the pandas DataFrame\n",
    "    return: colored pandas DataFrame\n",
    "    '''\n",
    "    is_max = s == s.max()\n",
    "    return ['background-color: green' if v else '' for v in is_max]"
   ]
  },
  {
   "cell_type": "code",
   "execution_count": 4,
   "metadata": {
    "ExecuteTime": {
     "end_time": "2019-05-21T20:47:23.775476Z",
     "start_time": "2019-05-21T20:47:23.771451Z"
    }
   },
   "outputs": [],
   "source": [
    "def highlight_min(s)-> pd.DataFrame:\n",
    "    '''\n",
    "    Colors the min cells in red, given a pandas DataFrame object.\n",
    "    param:  s: the pandas DataFrame;\n",
    "    return: colored pandas DataFrame\n",
    "    '''\n",
    "    is_min = s == s.min()\n",
    "    return ['background-color: red' if v else '' for v in is_min]"
   ]
  },
  {
   "cell_type": "markdown",
   "metadata": {},
   "source": [
    "## Errors function"
   ]
  },
  {
   "cell_type": "code",
   "execution_count": 5,
   "metadata": {
    "ExecuteTime": {
     "end_time": "2019-05-21T20:47:24.280065Z",
     "start_time": "2019-05-21T20:47:24.275079Z"
    }
   },
   "outputs": [],
   "source": [
    "def errors(model, x: np.ndarray, y: np.ndarray) -> list:\n",
    "    '''\n",
    "    Calculates the 'f1_macro' and 'accuracy' having the model as a param.\n",
    "    param:   model: sklearn model, the given model that is needed for cross_validation;\n",
    "             x: elements of data set;\n",
    "             y: labels of data set;\n",
    "    return:  list with the errors\n",
    "    '''\n",
    "    accuracy = cross_validate(model, x, y, cv=5, scoring='f1_macro', return_train_score=True)\n",
    "    f1_macro = cross_validate(model, x, y, cv=5, scoring='accuracy', return_train_score=True)\n",
    "    train_accuracy = accuracy['train_score']\n",
    "    train_f1_macro = f1_macro['train_score']\n",
    "    test_accuracy = accuracy['test_score']\n",
    "    test_f1_macro = f1_macro['test_score']\n",
    "    return [train_accuracy.mean(), train_f1_macro.mean(), \n",
    "           test_accuracy.mean(), test_f1_macro.mean()]"
   ]
  },
  {
   "cell_type": "markdown",
   "metadata": {},
   "source": [
    "## Grid search and random search functions."
   ]
  },
  {
   "cell_type": "code",
   "execution_count": 6,
   "metadata": {
    "ExecuteTime": {
     "end_time": "2019-05-21T20:47:24.701393Z",
     "start_time": "2019-05-21T20:47:24.697435Z"
    }
   },
   "outputs": [],
   "source": [
    "def search_random(parameters: dict, model, x: np.ndarray, y: np.ndarray) -> list:\n",
    "    '''\n",
    "    Dose the random cross validation search, it returns the best parameter found and than, the model goes to the error\n",
    "    function to see how well it has done.\n",
    "    param:   parameters: dictionary type, has the all the alternatives to the hyperparameters, the actual subject of\n",
    "                         this function\n",
    "             model: sklearn model, the given model that is needed for cross_validation;\n",
    "             x: elements of data set;\n",
    "             y: labels of data set;\n",
    "    return:  list with erros returned by 'errors' function and the appropiate name.\n",
    "    '''\n",
    "    randomized_search = RandomizedSearchCV(estimator = model, param_distributions = parameters, scoring='f1_macro', cv=3, return_train_score=True, iid=False)\n",
    "    randomized_search.fit(x, y)\n",
    "    return ['Random Search'] + errors(randomized_search, x, y)"
   ]
  },
  {
   "cell_type": "code",
   "execution_count": 7,
   "metadata": {
    "ExecuteTime": {
     "end_time": "2019-05-21T20:47:24.910013Z",
     "start_time": "2019-05-21T20:47:24.905026Z"
    }
   },
   "outputs": [],
   "source": [
    "def search_grid(parameters: dict, model, x: np.ndarray, y: np.ndarray) -> list:\n",
    "    '''\n",
    "    Dose the grid cross validation search, it returns the best parameter found and than, the model goes to the error\n",
    "    function to see how well it has done.\n",
    "    param:   parameters: dictionary type, has the all the alternatives to the hyperparameters, the actual subject of\n",
    "                         this function\n",
    "             model: sklearn model, the given model that is needed for cross_validation;\n",
    "             x: elements of data set;\n",
    "             y: labels of data set;\n",
    "    return:  list with erros returned by 'errors' function and the appropiate name.\n",
    "    '''\n",
    "    grid_search = GridSearchCV(estimator = model, param_grid = parameters, scoring='f1_macro', cv=3, return_train_score=True, iid=False)\n",
    "    grid_search.fit(x, y)\n",
    "    return ['Grid Search'] + errors(grid_search, x, y)"
   ]
  },
  {
   "cell_type": "markdown",
   "metadata": {},
   "source": [
    "## Model functions, KNN, SVR, Random Forest, Tree, GaussianProcessRegressor."
   ]
  },
  {
   "cell_type": "markdown",
   "metadata": {},
   "source": [
    "### KNeighborsRegressor"
   ]
  },
  {
   "cell_type": "code",
   "execution_count": 8,
   "metadata": {
    "ExecuteTime": {
     "end_time": "2019-05-21T20:47:25.220277Z",
     "start_time": "2019-05-21T20:47:25.214292Z"
    }
   },
   "outputs": [],
   "source": [
    "def search_knn(parameters: dict, x: np.ndarray, y: np.ndarray) -> None:\n",
    "    '''\n",
    "    Initialization for KNeighborsRegressor model and starting the grid and random search.\n",
    "    Appends into a list the results\n",
    "    ''' \n",
    "    model = KNeighborsClassifier()\n",
    "    data.append(['KNN'] + search_grid(parameters, model, x, y))\n",
    "    data.append(['KNN'] + search_random(parameters, model, x, y))"
   ]
  },
  {
   "cell_type": "markdown",
   "metadata": {},
   "source": [
    "### SVR"
   ]
  },
  {
   "cell_type": "code",
   "execution_count": 9,
   "metadata": {
    "ExecuteTime": {
     "end_time": "2019-05-21T20:47:25.317049Z",
     "start_time": "2019-05-21T20:47:25.314067Z"
    }
   },
   "outputs": [],
   "source": [
    "def search_svc(parameters: dict, x: np.ndarray, y: np.ndarray) -> None:\n",
    "    '''\n",
    "    Initialization for SVR model and starting the grid and random search.\n",
    "    Appends into a list the results\n",
    "    '''\n",
    "    model = SVC()\n",
    "    data.append(['SVC'] + search_grid(parameters, model, x, y))\n",
    "    data.append(['SVC'] + search_random(parameters, model, x, y))"
   ]
  },
  {
   "cell_type": "markdown",
   "metadata": {},
   "source": [
    "### RandomForestRegressor"
   ]
  },
  {
   "cell_type": "code",
   "execution_count": 10,
   "metadata": {
    "ExecuteTime": {
     "end_time": "2019-05-21T20:47:25.581393Z",
     "start_time": "2019-05-21T20:47:25.577377Z"
    }
   },
   "outputs": [],
   "source": [
    "def search_forest(parameters: dict, x: np.ndarray, y: np.ndarray) -> None:\n",
    "    '''\n",
    "    Initialization for RandomForestRegressor model and starting the grid and random search.\n",
    "    Appends into a list the results\n",
    "    '''\n",
    "    model = RandomForestClassifier()\n",
    "    data.append(['Forest'] + search_grid(parameters, model, x, y))\n",
    "    data.append(['Forest'] + search_random(parameters, model, x, y))"
   ]
  },
  {
   "cell_type": "markdown",
   "metadata": {},
   "source": [
    "### DecisionTreeRegressor"
   ]
  },
  {
   "cell_type": "code",
   "execution_count": 11,
   "metadata": {
    "ExecuteTime": {
     "end_time": "2019-05-21T20:47:25.805480Z",
     "start_time": "2019-05-21T20:47:25.801489Z"
    }
   },
   "outputs": [],
   "source": [
    "def search_tree(parameters: dict, x: np.ndarray, y: np.ndarray) -> None:\n",
    "    '''\n",
    "    Initialization for DecisionTreeRegressor model and starting the grid and random search.\n",
    "    App\n",
    "    '''\n",
    "    model = DecisionTreeClassifier()\n",
    "    data.append(['Tree'] + search_grid(parameters, model, x, y))\n",
    "    data.append(['Tree'] + search_random(parameters, model, x, y))"
   ]
  },
  {
   "cell_type": "markdown",
   "metadata": {},
   "source": [
    "### GaussianProcessRegressor"
   ]
  },
  {
   "cell_type": "code",
   "execution_count": 12,
   "metadata": {
    "ExecuteTime": {
     "end_time": "2019-05-21T20:47:26.140431Z",
     "start_time": "2019-05-21T20:47:26.136440Z"
    }
   },
   "outputs": [],
   "source": [
    "def search_GaussianProcess(parameters: dict, x: np.ndarray, y: np.ndarray) -> None:\n",
    "    '''\n",
    "    Initialization for GaussianProcessRegressor model and starting the grid and random search.\n",
    "    Appends into a list the results\n",
    "    '''\n",
    "    model = GaussianProcessClassifier()\n",
    "    data.append(['GaussianProcess'] + (search_grid(parameters, model, x, y)))\n",
    "    data.append(['GaussianProcess'] + (search_random(parameters, model, x, y)))"
   ]
  },
  {
   "cell_type": "markdown",
   "metadata": {},
   "source": [
    "## The main function to deliver the search."
   ]
  },
  {
   "cell_type": "code",
   "execution_count": 13,
   "metadata": {
    "ExecuteTime": {
     "end_time": "2019-05-21T20:47:26.640941Z",
     "start_time": "2019-05-21T20:47:26.632962Z"
    }
   },
   "outputs": [],
   "source": [
    "def search(x: np.ndarray, y: np.ndarray, name: str) -> None:\n",
    "    '''\n",
    "    Creates a pandas DataFrame object in witch it stores all the results that are needed. Exports the dataframe into a \n",
    "    HTML file.\n",
    "    param:   x: the data set for the model;\n",
    "             y: the labels set for the model;\n",
    "             name: the name of export HTML file\n",
    "    return:  None\n",
    "    '''\n",
    "    parameters_knn = {'n_neighbors': list(range(1,12)), 'p': [1, 2, 3, 4.7], 'metric': ['euclidean']}\n",
    "    parameters_svr = {'C': list([0.1, 0.2, 0.3, 0.5, 0.7, 1.0, 2.0, 3.0, 4.0, 5.0, 10.0]), 'gamma': ['auto']}\n",
    "    parameters_forest = {'n_estimators': list(range(1,13))}\n",
    "    parameters_tree = {'random_state': list([1, 50, 100, 200, 300, 333, 500, 700, 1000, 2000, 3000, 10000])}\n",
    "    parameters_gaussian = {'max_iter_predict' : [100,150,200,250,300,350,400,450,500,550,600,650]}\n",
    "    \n",
    "    search_knn(parameters_knn, x, y)\n",
    "    search_svc(parameters_svr, x, y)\n",
    "    search_forest(parameters_forest, x, y)\n",
    "    search_tree(parameters_tree, x, y)\n",
    "    #search_GaussianProcess(parameters_gaussian, x, y)\n",
    "    \n",
    "    data_frame = pd.DataFrame(data, columns=columns)\n",
    "    data_frame = data_frame.style.apply(highlight_max, subset=subset).apply(highlight_min, subset=subset)\n",
    "    f=open(f\"{name}.html\",\"w\")\n",
    "    f.write(data_frame.render())\n",
    "    f.close()\n",
    "    data.clear()"
   ]
  },
  {
   "cell_type": "markdown",
   "metadata": {},
   "source": [
    "# Data Preprocessing"
   ]
  },
  {
   "cell_type": "markdown",
   "metadata": {},
   "source": [
    "## Spam Data Set"
   ]
  },
  {
   "cell_type": "markdown",
   "metadata": {},
   "source": [
    "### Loading Data Set"
   ]
  },
  {
   "cell_type": "code",
   "execution_count": 75,
   "metadata": {},
   "outputs": [
    {
     "data": {
      "text/html": [
       "<div>\n",
       "<style scoped>\n",
       "    .dataframe tbody tr th:only-of-type {\n",
       "        vertical-align: middle;\n",
       "    }\n",
       "\n",
       "    .dataframe tbody tr th {\n",
       "        vertical-align: top;\n",
       "    }\n",
       "\n",
       "    .dataframe thead th {\n",
       "        text-align: right;\n",
       "    }\n",
       "</style>\n",
       "<table border=\"1\" class=\"dataframe\">\n",
       "  <thead>\n",
       "    <tr style=\"text-align: right;\">\n",
       "      <th></th>\n",
       "      <th>category</th>\n",
       "      <th>message</th>\n",
       "    </tr>\n",
       "  </thead>\n",
       "  <tbody>\n",
       "    <tr>\n",
       "      <th>0</th>\n",
       "      <td>ham</td>\n",
       "      <td>Go until jurong point, crazy.. Available only ...</td>\n",
       "    </tr>\n",
       "    <tr>\n",
       "      <th>1</th>\n",
       "      <td>ham</td>\n",
       "      <td>Ok lar... Joking wif u oni...</td>\n",
       "    </tr>\n",
       "    <tr>\n",
       "      <th>2</th>\n",
       "      <td>spam</td>\n",
       "      <td>Free entry in 2 a wkly comp to win FA Cup fina...</td>\n",
       "    </tr>\n",
       "    <tr>\n",
       "      <th>3</th>\n",
       "      <td>ham</td>\n",
       "      <td>U dun say so early hor... U c already then say...</td>\n",
       "    </tr>\n",
       "    <tr>\n",
       "      <th>4</th>\n",
       "      <td>ham</td>\n",
       "      <td>Nah I don't think he goes to usf, he lives aro...</td>\n",
       "    </tr>\n",
       "  </tbody>\n",
       "</table>\n",
       "</div>"
      ],
      "text/plain": [
       "  category                                            message\n",
       "0      ham  Go until jurong point, crazy.. Available only ...\n",
       "1      ham                      Ok lar... Joking wif u oni...\n",
       "2     spam  Free entry in 2 a wkly comp to win FA Cup fina...\n",
       "3      ham  U dun say so early hor... U c already then say...\n",
       "4      ham  Nah I don't think he goes to usf, he lives aro..."
      ]
     },
     "execution_count": 75,
     "metadata": {},
     "output_type": "execute_result"
    }
   ],
   "source": [
    "data_spam = pd.read_csv(\"data/SMSSpamCollection\", sep = '\\t', names = [\"category\", \"message\"])\n",
    "data_spam.head()"
   ]
  },
  {
   "cell_type": "code",
   "execution_count": 76,
   "metadata": {},
   "outputs": [
    {
     "data": {
      "text/html": [
       "<div>\n",
       "<style scoped>\n",
       "    .dataframe tbody tr th:only-of-type {\n",
       "        vertical-align: middle;\n",
       "    }\n",
       "\n",
       "    .dataframe tbody tr th {\n",
       "        vertical-align: top;\n",
       "    }\n",
       "\n",
       "    .dataframe thead tr th {\n",
       "        text-align: left;\n",
       "    }\n",
       "\n",
       "    .dataframe thead tr:last-of-type th {\n",
       "        text-align: right;\n",
       "    }\n",
       "</style>\n",
       "<table border=\"1\" class=\"dataframe\">\n",
       "  <thead>\n",
       "    <tr>\n",
       "      <th></th>\n",
       "      <th colspan=\"4\" halign=\"left\">message</th>\n",
       "    </tr>\n",
       "    <tr>\n",
       "      <th></th>\n",
       "      <th>count</th>\n",
       "      <th>unique</th>\n",
       "      <th>top</th>\n",
       "      <th>freq</th>\n",
       "    </tr>\n",
       "    <tr>\n",
       "      <th>category</th>\n",
       "      <th></th>\n",
       "      <th></th>\n",
       "      <th></th>\n",
       "      <th></th>\n",
       "    </tr>\n",
       "  </thead>\n",
       "  <tbody>\n",
       "    <tr>\n",
       "      <th>ham</th>\n",
       "      <td>4825</td>\n",
       "      <td>4516</td>\n",
       "      <td>Sorry, I'll call later</td>\n",
       "      <td>30</td>\n",
       "    </tr>\n",
       "    <tr>\n",
       "      <th>spam</th>\n",
       "      <td>747</td>\n",
       "      <td>653</td>\n",
       "      <td>Please call our customer service representativ...</td>\n",
       "      <td>4</td>\n",
       "    </tr>\n",
       "  </tbody>\n",
       "</table>\n",
       "</div>"
      ],
      "text/plain": [
       "         message                                                            \\\n",
       "           count unique                                                top   \n",
       "category                                                                     \n",
       "ham         4825   4516                             Sorry, I'll call later   \n",
       "spam         747    653  Please call our customer service representativ...   \n",
       "\n",
       "               \n",
       "         freq  \n",
       "category       \n",
       "ham        30  \n",
       "spam        4  "
      ]
     },
     "execution_count": 76,
     "metadata": {},
     "output_type": "execute_result"
    }
   ],
   "source": [
    "data_spam.groupby('category').describe()"
   ]
  },
  {
   "cell_type": "code",
   "execution_count": 77,
   "metadata": {},
   "outputs": [
    {
     "data": {
      "text/html": [
       "<div>\n",
       "<style scoped>\n",
       "    .dataframe tbody tr th:only-of-type {\n",
       "        vertical-align: middle;\n",
       "    }\n",
       "\n",
       "    .dataframe tbody tr th {\n",
       "        vertical-align: top;\n",
       "    }\n",
       "\n",
       "    .dataframe thead th {\n",
       "        text-align: right;\n",
       "    }\n",
       "</style>\n",
       "<table border=\"1\" class=\"dataframe\">\n",
       "  <thead>\n",
       "    <tr style=\"text-align: right;\">\n",
       "      <th></th>\n",
       "      <th>category</th>\n",
       "      <th>message</th>\n",
       "    </tr>\n",
       "  </thead>\n",
       "  <tbody>\n",
       "    <tr>\n",
       "      <th>0</th>\n",
       "      <td>0</td>\n",
       "      <td>Go until jurong point, crazy.. Available only ...</td>\n",
       "    </tr>\n",
       "    <tr>\n",
       "      <th>1</th>\n",
       "      <td>0</td>\n",
       "      <td>Ok lar... Joking wif u oni...</td>\n",
       "    </tr>\n",
       "    <tr>\n",
       "      <th>2</th>\n",
       "      <td>1</td>\n",
       "      <td>Free entry in 2 a wkly comp to win FA Cup fina...</td>\n",
       "    </tr>\n",
       "    <tr>\n",
       "      <th>3</th>\n",
       "      <td>0</td>\n",
       "      <td>U dun say so early hor... U c already then say...</td>\n",
       "    </tr>\n",
       "    <tr>\n",
       "      <th>4</th>\n",
       "      <td>0</td>\n",
       "      <td>Nah I don't think he goes to usf, he lives aro...</td>\n",
       "    </tr>\n",
       "  </tbody>\n",
       "</table>\n",
       "</div>"
      ],
      "text/plain": [
       "   category                                            message\n",
       "0         0  Go until jurong point, crazy.. Available only ...\n",
       "1         0                      Ok lar... Joking wif u oni...\n",
       "2         1  Free entry in 2 a wkly comp to win FA Cup fina...\n",
       "3         0  U dun say so early hor... U c already then say...\n",
       "4         0  Nah I don't think he goes to usf, he lives aro..."
      ]
     },
     "execution_count": 77,
     "metadata": {},
     "output_type": "execute_result"
    }
   ],
   "source": [
    "''' Transformam label ul de predictie din \"spam\" si \"ham\" in \"0\" si \"1\" '''\n",
    "\n",
    "data_spam = data_spam.replace(['ham','spam'], [0,1])\n",
    "data_spam.head()"
   ]
  },
  {
   "cell_type": "code",
   "execution_count": 78,
   "metadata": {},
   "outputs": [],
   "source": [
    "data_spam_X = data_spam[\"message\"]\n",
    "data_spam_Y = data_spam[\"category\"]"
   ]
  },
  {
   "cell_type": "code",
   "execution_count": 79,
   "metadata": {},
   "outputs": [
    {
     "name": "stdout",
     "output_type": "stream",
     "text": [
      "Cum este organizat textul:  <class 'pandas.core.series.Series'>\n",
      "Cate date text sunt in dataframe:  5572\n",
      "Primul text:  Go until jurong point, crazy.. Available only in bugis n great world la e buffet... Cine there got amore wat...\n",
      "Categoria asociata:  0\n",
      "Numarul de clase din setul de date:  [0 1]\n",
      "Numarul de date din fiecare clasa: [4825  747]\n"
     ]
    }
   ],
   "source": [
    "print('Cum este organizat textul: ', type(data_spam_X))\n",
    "print('Cate date text sunt in dataframe: ', len(data_spam_X))\n",
    "print('Primul text: ', data_spam_X[0])\n",
    "print('Categoria asociata: ', data_spam_Y[0])\n",
    "print('Numarul de clase din setul de date: ', np.unique(data_spam_Y))\n",
    "print('Numarul de date din fiecare clasa: {0}'.format(np.bincount(data_spam_Y)))"
   ]
  },
  {
   "cell_type": "markdown",
   "metadata": {},
   "source": [
    "### Vocabulary"
   ]
  },
  {
   "cell_type": "code",
   "execution_count": 80,
   "metadata": {},
   "outputs": [],
   "source": [
    "''' CountVectorizer din sklearn.feature_extraction.text serveste la selectarea cuvintelor din text \n",
    "si calculul frecventei de aparitie.\n",
    "- stop_words -> specifica ca textul selectat sa fie cuvinte\n",
    "- analyzer -> se face analiza de cuvinte\n",
    "- ngram_range -> seturi de cuvinte consecutive\n",
    "- min_df -> ignoră termenii care au o frecvență de aparitie (în % din documente) strict mai mică decât pragul dat\n",
    "- max_df -> ignoră termenii care au o frecvență de aparitie (în % din documente) strict mai mare decât pragul dat\n",
    "- max_feature -> limiteaza numărul de caracteristici pe care vectorizatorul le va învăța\n",
    "'''\n",
    "\n",
    "vect = CountVectorizer(stop_words=\"english\", analyzer='word', ngram_range=(1, 1), max_df=1.0, min_df=1, max_features=None)"
   ]
  },
  {
   "cell_type": "code",
   "execution_count": 81,
   "metadata": {},
   "outputs": [],
   "source": [
    "'''Aici obtinem un vector bag of words prin aplicarea metodei transform:'''\n",
    "\n",
    "data_spam_X = vect.fit_transform(data_spam_X)"
   ]
  },
  {
   "cell_type": "code",
   "execution_count": 82,
   "metadata": {},
   "outputs": [
    {
     "name": "stdout",
     "output_type": "stream",
     "text": [
      "{'jurong': 4248, 'point': 5779, 'crazy': 2282, 'available': 1284, 'bugis': 1719, 'great': 3555, 'world': 8285, 'la': 4374, 'buffet': 1717, 'cine': 2007, 'got': 3515, 'amore': 1064, 'wat': 8083, 'ok': 5377, 'lar': 4410, 'joking': 4216, 'wif': 8191, 'oni': 5403, 'free': 3280, 'entry': 2889, 'wkly': 8243, 'comp': 2123, 'win': 8203, 'fa': 3018, 'cup': 2341, 'final': 3135, 'tkts': 7569, '21st': 412, '2005': 403, 'text': 7437, '87121': 794, 'receive': 6158, 'question': 6052, 'std': 7077, 'txt': 7754, 'rate': 6104, 'apply': 1141, '08452810075over18': 77, 'dun': 2751, 'say': 6496, 'early': 2770, 'hor': 3840, 'nah': 5124, 'don': 2663, 'think': 7492, 'goes': 3479, 'usf': 7892, 'lives': 4562, 'freemsg': 3287, 'hey': 3757, 'darling': 2398, 'week': 8129, 'word': 8276, 'like': 4512, 'fun': 3342, 'tb': 7372, 'xxx': 8350, 'chgs': 1961, 'send': 6584, '50': 616, 'rcv': 6116, 'brother': 1689, 'speak': 6959, 'treat': 7687, 'aids': 997, 'patent': 5582, 'request': 6267, 'melle': 4862, 'oru': 5461, 'minnaminunginte': 4927, 'nurungu': 5315, 'vettam': 7949, 'set': 6610, 'callertune': 1787, 'callers': 1786, 'press': 5902, 'copy': 2224, 'friends': 3304, 'winner': 8214, 'valued': 7919, 'network': 5201, 'customer': 2354, 'selected': 6570, 'receivea': 6159, '900': 826, 'prize': 5934, 'reward': 6322, 'claim': 2013, '09061701461': 224, 'code': 2078, 'kl341': 4337, 'valid': 7915, '12': 323, 'hours': 3860, 'mobile': 4981, '11': 312, 'months': 5021, 'entitled': 2886, 'update': 7855, 'latest': 4423, 'colour': 2099, 'mobiles': 4982, 'camera': 1798, '08002986030': 61, 'gonna': 3495, 'home': 3813, 'soon': 6914, 'want': 8063, 'talk': 7339, 'stuff': 7166, 'anymore': 1112, 'tonight': 7618, 've': 7934, 'cried': 2299, 'today': 7588, 'chances': 1902, 'cash': 1848, '100': 298, '20': 398, '000': 1, 'pounds': 5842, 'csh11': 2317, '87575': 799, 'cost': 2236, '150p': 352, 'day': 2414, '6days': 690, '16': 364, 'tsandcs': 7721, 'reply': 6260, 'hl': 3785, 'info': 4029, 'urgent': 7872, 'won': 8260, 'membership': 4868, 'jackpot': 4144, '81010': 747, 'www': 8332, 'dbuk': 2419, 'net': 5195, 'lccltd': 4441, 'pobox': 5758, '4403ldnw1a7rw18': 565, 'searching': 6543, 'right': 6334, 'words': 8277, 'thank': 7453, 'breather': 1658, 'promise': 5967, 'wont': 8267, 'help': 3737, 'granted': 3544, 'fulfil': 3339, 'wonderful': 8264, 'blessing': 1536, 'times': 7547, 'date': 2406, 'sunday': 7233, 'xxxmobilemovieclub': 8351, 'use': 7886, 'credit': 2289, 'click': 2036, 'wap': 8068, 'link': 4534, 'message': 4886, 'http': 3880, 'com': 2102, 'qjkgighjjgcbl': 6044, 'oh': 5372, 'watching': 8088, 'eh': 2816, 'remember': 6227, 'spell': 6974, 'yes': 8387, 'did': 2546, 'naughty': 5156, 'make': 4746, 'wet': 8164, 'fine': 3142, 'way': 8100, 'feel': 3089, 'gota': 3516, 'england': 2868, 'macedonia': 4709, 'dont': 2666, 'miss': 4943, 'goals': 3475, 'team': 7384, 'news': 5214, 'ur': 7868, 'national': 5150, '87077': 793, 'try': 7717, 'wales': 8043, 'scotland': 6522, '4txt': 608, 'ú1': 8442, 'poboxox36504w45wq': 5770, 'seriously': 6603, 'going': 3484, 'ha': 3617, 'pay': 5594, 'da': 2371, 'stock': 7102, 'comin': 2113, 'aft': 971, 'finish': 3145, 'lunch': 4675, 'str': 7127, 'lor': 4617, 'ard': 1167, 'smth': 6862, 'ffffffffff': 3108, 'alright': 1043, 'meet': 4851, 'sooner': 6915, 'just': 4250, 'forced': 3234, 'eat': 2782, 'slice': 6814, 'really': 6140, 'hungry': 3899, 'tho': 7507, 'sucks': 7202, 'mark': 4782, 'getting': 3433, 'worried': 8288, 'knows': 4348, 'sick': 6735, 'turn': 7740, 'pizza': 5714, 'lol': 4594, 'convincing': 2212, 'catch': 1858, 'bus': 1739, 'frying': 3327, 'egg': 2813, 'tea': 7378, 'eating': 2785, 'mom': 5002, 'left': 4464, 'dinner': 2577, 'love': 4639, 'amp': 1065, 'packing': 5514, 'car': 1820, 'll': 4566, 'let': 4484, 'know': 4345, 'room': 6375, 'ahhh': 992, 'work': 8278, 'vaguely': 7911, 'does': 2639, 'wait': 8037, 'clear': 2030, 'sure': 7259, 'sarcastic': 6474, 'doesn': 2641, 'live': 4558, 'yeah': 8375, 'apologetic': 1128, 'fallen': 3043, 'actin': 912, 'spoilt': 7001, 'child': 1969, 'caught': 1862, 'till': 7544, 'doing': 2653, 'badly': 1335, 'cheers': 1945, 'tell': 7402, 'fear': 3081, 'fainting': 3035, 'housework': 3864, 'quick': 6055, 'cuppa': 2343, 'thanks': 7454, 'subscription': 7191, 'ringtone': 6343, 'uk': 7784, 'charged': 1914, 'month': 5018, 'confirm': 2167, 'replying': 6261, 'yup': 8426, 'look': 4605, 'timings': 7551, 'msg': 5057, 'xuhui': 8346, 'learn': 4455, '2nd': 466, 'lesson': 4482, '8am': 819, 'oops': 5416, 'roommate': 6377, 'letter': 4486, 'decide': 2436, 'hello': 3734, 'saturday': 6487, 'texting': 7445, 'decided': 2437, 'tomo': 7607, 'trying': 7719, 'invite': 4085, 'pls': 5746, 'ahead': 991, 'watts': 8096, 'wanted': 8065, 'weekend': 8131, 'abiola': 866, 'forget': 3240, 'need': 5176, 'crave': 2279, 'sweet': 7290, 'arabian': 1164, 'steed': 7084, 'mmmmmm': 4971, 'yummy': 8421, '07732584351': 30, 'rodger': 6365, 'burns': 1736, 'tried': 7696, 'sms': 6857, 'nokia': 5258, 'camcorder': 1796, '08000930705': 57, 'delivery': 2476, 'tomorrow': 7609, 'seeing': 6561, 'hope': 3831, 'man': 4756, 'endowed': 2858, 'lt': 4663, 'gt': 3584, 'inches': 3999, 'calls': 1792, 'messages': 4888, 'missed': 4945, 'didn': 2548, 'hep': 3748, 'immunisation': 3980, 'nigeria': 5227, 'fair': 3036, 'hopefully': 3834, 'tyler': 7767, 'maybe': 4827, 'ask': 1216, 'bit': 1513, 'stubborn': 7155, 'hospital': 3847, 'kept': 4294, 'telling': 7403, 'weak': 8105, 'sucker': 7200, 'hospitals': 3848, 'suckers': 7201, 'thinked': 7493, 'time': 7546, 'saw': 6495, 'class': 2022, 'gram': 3536, 'usually': 7898, 'runs': 6418, 'half': 3632, 'eighth': 2818, 'smarter': 6837, 'gets': 3429, 'second': 6547, 'fyi': 3357, 'ride': 6333, 'morning': 5028, 'crashing': 2278, 'place': 5716, 'wow': 8303, 'realized': 6138, 'embarassed': 2839, 'accomodations': 895, 'thought': 7510, 'liked': 4513, 'best': 1470, 'happy': 3667, 'cave': 1866, 'sorry': 6924, 'offered': 5359, 'embarassing': 2840, 'ac': 881, 'sptv': 7023, 'new': 5209, 'jersey': 4186, 'devils': 2526, 'detroit': 2520, 'red': 6181, 'wings': 8212, 'play': 5730, 'ice': 3933, 'hockey': 3798, 'correct': 2229, 'incorrect': 4010, 'end': 2853, 'mallika': 4755, 'sherawat': 6660, 'yesterday': 8389, 'url': 7879, 'congrats': 2173, 'year': 8376, 'special': 6961, 'cinema': 2008, 'pass': 5571, '09061209465': 219, 'suprman': 7257, 'matrix3': 4815, 'starwars3': 7065, 'bx420': 1760, 'ip4': 4094, '5we': 651, '150pm': 354, 'later': 4422, 'meeting': 4853, 'reached': 6122, 'gauti': 3391, 'sehwag': 6567, 'odi': 5352, 'series': 6602, 'pick': 5686, 'burger': 1731, 'pain': 5521, 'killing': 4319, 'good': 3497, 'joke': 4212, 'girls': 3451, 'situation': 6781, 'seekers': 6562, 'checking': 1939, 'iq': 4100, 'roommates': 6378, 'took': 7623, 'forever': 3237, 'come': 2108, 'double': 2681, 'check': 1935, 'hair': 3627, 'dresser': 2710, 'said': 6444, 'wun': 8331, 'cut': 2358, 'short': 6696, 'nice': 5221, 'pleased': 5739, 'advise': 954, 'following': 3215, 'recent': 6162, 'review': 6320, 'mob': 4979, 'awarded': 1301, '1500': 351, 'bonus': 1577, '09066364589': 267, 'song': 6909, 'dedicated': 2447, 'dedicate': 2446, 'valuable': 7917, 'frnds': 3313, 'rply': 6394, 'complimentary': 2142, 'trip': 7697, 'eurodisinc': 2931, 'trav': 7679, 'aco': 909, 'entry41': 2890, '1000': 299, 'dis': 2589, '18': 369, 'morefrmmob': 5025, 'shracomorsglsuplt': 6719, '10': 297, 'ls1': 4659, '3aj': 524, 'hear': 3712, 'divorce': 2618, 'barbie': 1366, 'comes': 2110, 'ken': 4292, 'plane': 5722, 'wah': 8030, 'lucky': 4669, 'save': 6491, 'money': 5009, 'hee': 3725, 'finished': 3147, 'hi': 3761, 'babe': 1322, 'im': 3968, 'wanna': 8061, 'xx': 8347, 'performed': 5631, 'waiting': 8040, 'machan': 4711, 'thats': 7464, 'cool': 2217, 'gentleman': 3417, 'dignity': 2567, 'respect': 6287, 'peoples': 5624, 'shy': 6730, 'pa': 5510, 'operate': 5423, 'looking': 4609, 'job': 4201, 'ta': 7317, 'earn': 2771, 'ah': 989, 'stop': 7112, 'urgnt': 7875, 'real': 6131, 'yo': 8398, 'tickets': 7534, 'jacket': 4143, 'used': 7887, 'multis': 5083, 'started': 7060, 'requests': 6268, 'came': 1797, 'bed': 1431, 'coins': 2084, 'factory': 3025, 'gotta': 3521, 'nitros': 5245, 'ela': 2822, 'kano': 4274, 'il': 3962, 'download': 2688, 'wen': 8148, 'stand': 7048, 'close': 2043, 'night': 5229, 'spent': 6979, 'late': 4419, 'afternoon': 973, 'casualty': 1856, 'means': 4840, 'haven': 3692, 'stuff42moro': 7167, 'includes': 4003, 'sheets': 6655, 'smile': 6845, 'pleasure': 5741, 'trouble': 7704, 'pours': 5844, 'rain': 6078, 'sum1': 7224, 'hurts': 3909, 'becoz': 1429, 'loves': 4647, 'smiling': 6849, 'service': 6606, 'representative': 6265, '0800': 53, '169': 367, '6031': 657, '10am': 307, '9pm': 846, 'guaranteed': 3588, '5000': 618, 'havent': 3693, 'planning': 5726, 'buy': 1750, 'lido': 4497, '530': 637, 'collected': 2093, 'simply': 6756, 'password': 5578, 'mix': 4961, '85069': 780, 'verify': 7945, 'usher': 7893, 'britney': 1679, 'fml': 3206, 'po': 5756, 'box': 1609, '5249': 634, 'mk17': 4964, '92h': 831, '450ppw': 575, 'telugu': 7408, 'movie': 5046, 'abt': 876, 'loads': 4573, 'loans': 4575, 'wk': 8239, 'hols': 3811, 'run': 6416, 'forgot': 3245, 'hairdressers': 3629, 'appointment': 1144, 'shower': 6712, 'cause': 1863, 'prob': 5939, 'coffee': 2079, 'animation': 1085, 'okay': 5378, 'price': 5915, 'long': 4601, 'legal': 4467, 'ave': 1288, 'ams': 1069, 'gone': 3493, '4the': 606, 'driving': 2719, 'test': 7431, 'mean': 4836, 'guess': 3594, 'gave': 3392, 'boston': 1598, 'men': 4872, 'changed': 1904, 'search': 6542, 'location': 4578, 'nyc': 5326, 'cuz': 2365, 'signin': 6744, 'page': 5517, 'says': 6500, 'umma': 7791, 'life': 4500, 'vava': 7931, 'lot': 4625, 'dear': 2426, 'wishes': 8226, 'birthday': 1511, 'making': 4750, 'truly': 7712, 'memorable': 4869, 'aight': 999, 'hit': 3778, 'ip': 4093, 'address': 930, 'considering': 2185, 'computer': 2148, 'isn': 4117, 'minecraft': 4921, 'server': 6605, 'grumpy': 3581, 'old': 5390, 'people': 5623, 'better': 1476, 'lying': 4689, 'jokes': 4214, 'worry': 8290, 'busy': 1745, 'plural': 5750, 'noun': 5294, 'research': 6273, 'cos': 2234, 'things': 7491, 'scared': 6506, 'mah': 4733, 'loud': 4634, 'gent': 3415, 'contact': 2190, 'weekends': 8132, 'draw': 2702, 'shows': 6718, '09064012160': 243, 'k52': 4257, '12hrs': 334, '150ppm': 356, 'wa': 8025, 'openin': 5420, 'sentence': 6595, 'formal': 3249, 'juz': 4256, 'tt': 7727, 'eatin': 2784, 'puttin': 6034, 'weight': 8137, 'haha': 3623, 'anythin': 1116, 'happened': 3659, 'entered': 2879, 'cabin': 1766, 'boss': 1597, 'felt': 3099, 'askd': 1217, 'invited': 4086, 'apartment': 1122, 'went': 8151, 'specially': 6965, 'holiday': 3808, 'flights': 3182, 'operator': 5424, '0871277810910p': 129, 'min': 4915, 'goodo': 3506, 'friday': 3299, 'potato': 5836, 'ratio': 6106, 'tortilla': 7639, 'needed': 5178, 'hmm': 3790, 'uncle': 7799, 'informed': 4032, 'paying': 5600, 'school': 6512, 'directly': 2583, 'food': 3223, 'private': 5931, '2004': 402, 'account': 898, 'statement': 7068, '07742676969': 32, '786': 719, 'unredeemed': 7842, 'points': 5780, '08719180248': 175, 'identifier': 3945, '45239': 577, 'expires': 2997, '2000': 400, 'caller': 1785, '03': 15, 'landline': 4397, '09064019788': 249, 'box42wr29c': 1621, 'apples': 1139, 'pairs': 5525, 'malarky': 4752, 'todays': 7589, 'voda': 7994, 'numbers': 5312, 'ending': 2855, '7548': 711, '350': 512, 'award': 1300, 'match': 4803, '08712300220': 111, 'quoting': 6066, '4041': 549, 'standard': 7049, 'rates': 6105, 'app': 1132, 'sao': 6468, 'mu': 5073, 'predict': 5876, 'buying': 1753, 'yetunde': 8391, 'hasn': 3679, 'sent': 6594, 'bother': 1600, 'sending': 6586, 'involve': 4090, 'shouldn': 6706, 'imposed': 3987, 'apologise': 1129, 'girl': 3448, 'del': 2466, 'bak': 1343, 'sum': 7223, 'lucyxx': 4672, 'tmorrow': 7575, 'accomodate': 894, 'answer': 1100, 'sunshine': 7240, 'quiz': 6062, 'sony': 6911, 'dvd': 2760, 'player': 5732, 'country': 2251, 'algarve': 1027, 'ansr': 1099, '82277': 754, 'sp': 6946, 'tyrone': 7771, 'laid': 4389, 'dogging': 2647, 'locations': 4579, 'direct': 2582, 'join': 4209, 'largest': 4414, 'bt': 1705, 'txting': 7760, 'gravel': 3549, '69888': 685, 'nt': 5302, 'ec2a': 2787, '31p': 504, 'haf': 3622, 'msn': 5064, 'yijue': 8395, 'hotmail': 3855, 'rooms': 6379, 'befor': 1442, 'activities': 918, 'msgs': 5063, 'chat': 1925, 'svc': 7275, 'hardcore': 3669, 'services': 6607, '69988': 689, 'age': 978, 'yr': 8416, 'lazy': 4440, 'type': 7768, 'lect': 4461, 'pouch': 5839, 'sir': 6770, 'mail': 4738, 'swt': 7304, 'nver': 5320, 'tired': 7555, 'little': 4557, 'lovable': 4638, 'persons': 5648, 'coz': 2264, 'somtimes': 6906, 'occupy': 5345, 'biggest': 1494, 'hearts': 3718, 'gud': 3590, 'ni8': 5219, 'open': 5417, 'ya': 8360, 'dot': 2680, 'whats': 8168, 'staff': 7040, 'taking': 7336, 'replied': 6258, 'randy': 6098, 'sexy': 6622, 'female': 3100, 'local': 4577, 'luv': 4680, 'netcollex': 5196, '08700621170150p': 81, 'ummma': 7793, 'begin': 1446, 'qatar': 6039, 'pray': 5871, 'hard': 3668, 'deleted': 2470, 'sindu': 6760, 'birla': 1507, 'soft': 6883, 'wine': 8210, 'flowing': 3197, 'nevering': 5206, 'thk': 7501, 'plaza': 5737, 'typical': 7770, 'dirt': 2586, 'floor': 3191, 'windows': 8207, 'shirt': 6675, 'mouth': 5043, 'dream': 2705, 'chores': 1996, 'joy': 4227, 'lots': 4627, 'tv': 7745, 'exist': 2982, 'hail': 3626, 'mist': 4953, 'aaooooright': 856, 'leaving': 4460, 'house': 3861, 'interview': 4073, 'boy': 1626, 'missing': 4947, 'annoncement': 1091, 'years': 8377, '07046744435': 24, 'arrange': 1193, '0871277810810': 128, 'safe': 6439, 'envy': 2895, 'parents': 5554, 'hand': 3641, 'excited': 2970, 'spend': 6977, 'bootydelious': 1590, '32': 505, 'inviting': 4087, 'friend': 3303, '434': 562, 'frnd': 3312, '62468': 665, 'bangbabes': 1357, 'order': 5445, 'content': 2194, 'goto': 3520, 'bangb': 1356, 'internet': 4072, 'menu': 4879, 'cultures': 2337, 'module': 4995, '09061701939': 226, 's89': 6429, 'avoid': 1294, 'missunderstding': 4951, 'wit': 8231, 'beloved': 1461, 'escape': 2916, 'fancy': 3054, 'bridge': 1664, 'needs': 5181, 'lager': 4388, 'completely': 2138, 'form': 3248, 'clark': 2019, 'utter': 7900, 'waste': 8080, 'axis': 1309, 'bank': 1359, 'hmmm': 3791, 'hop': 3830, 'muz': 5107, 'discuss': 2602, 'liao': 4491, 'coming': 2114, 'bloody': 1550, 'hell': 3732, 'believe': 1452, 'surname': 7265, 'mr': 5052, 'ill': 3964, 'clue': 2059, 'spanish': 6953, 'begins': 1447, 'bath': 1390, 'carlos': 1837, 'mall': 4754, 'turns': 7743, 'staying': 7075, 'til': 7543, 'smoke': 6851, 'worth': 8294, 'doesnt': 2642, 'log': 4585, 'spoke': 7002, 'maneesha': 4766, 'satisfied': 6483, 'experience': 2992, 'toll': 7602, 'lifted': 4506, 'hopes': 3836, 'offer': 5358, 'especially': 2920, 'approaches': 1148, 'studying': 7164, 'anyways': 1119, 'gr8': 3529, 'trust': 7714, 'guys': 3610, 'bye': 1763, 'handsome': 3647, 'finding': 3140, 'working': 8282, 'mummy': 5087, 'boytoy': 1631, 'awesome': 1303, 'minute': 4932, 'freephone': 3288, '0808': 65, '145': 344, '4742': 581, '9am': 844, '11pm': 322, 'xmas': 8343, 'radio': 6071, 'jus': 4249, 'bathe': 1391, 'sis': 6772, 'using': 7894, 'finishes': 3148, 'unique': 7827, '30th': 500, 'august': 1270, 'areyouunique': 1173, 'joined': 4210, 'league': 4453, 'touch': 7648, 'deal': 2422, 'personal': 5645, 'finally': 3137, 'completed': 2137, 'course': 2257, 'suggest': 7215, 'stays': 7076, 'able': 868, 'ors': 5459, 'stool': 7111, 'settled': 6614, 'wishin': 8227, 'mrng': 5054, 'hav': 3687, 'story': 7126, 'hamster': 3640, 'dead': 2421, 'tmr': 7576, '1pm': 386, 'orchard': 5444, 'mrt': 5055, 'kate': 4279, 'evening': 2937, 'babyjontet': 1327, 'enc': 2852, 'bucks': 1710, 'darlin': 2397, 'ive': 4133, 'college': 2097, 'refilled': 6191, 'successfully': 7199, 'inr': 4047, 'decimal': 2439, 'keralacircle': 4296, 'prepaid': 5887, 'balance': 1346, 'rs': 6396, 'transaction': 7669, 'id': 3939, 'kr': 4362, 'goodmorning': 3502, 'sleeping': 6808, 'ga': 3360, 'alter': 1045, 'dat': 2404, 'ericsson': 2903, 'oso': 5464, 'oredi': 5449, 'dats': 2410, 'straight': 7129, 'dogg': 2645, 'connection': 2178, 'refund': 6196, 'shoot': 6690, 'big': 1492, 'ready': 6130, 'bruv': 1700, 'break': 1649, 'rewarding': 6323, 'semester': 6580, 'study': 7163, 'noe': 5252, 'leh': 4470, 'sounds': 6936, 'heading': 3704, 'prediction': 5879, 'slept': 6813, 'past': 5580, 'nights': 5232, 'easy': 2781, 'sen': 6583, 'exam': 2966, 'march': 4777, 'atm': 1248, 'register': 6204, 'os': 5462, 'called': 1784, 'ubandu': 7775, 'installing': 4056, 'disk': 2605, 'important': 3985, 'files': 3126, 'repair': 6250, 'shop': 6691, 'happen': 3657, 'romantic': 6372, 'nite': 5243, 'scenery': 6509, '500': 617, '89545': 815, 'collect': 2092, 'tc': 7374, 'biz': 1519, '2optout': 470, '087187262701': 161, '50gbp': 622, 'mtmsg18': 5070, 'appreciate': 1146, 'partner': 5565, 'career': 1828, 'flyng': 3204, 'start': 7059, 'horo': 3843, 'followed': 3213, 'star': 7053, 'sign': 6740, 'aries': 1180, 'company': 2126, 'elama': 2826, 'mudyadhu': 5077, 'strict': 7141, 'teacher': 7380, 'bcoz': 1412, 'teaches': 7382, 'conducts': 2162, 'lessons': 4483, 'gandhipuram': 3374, 'walk': 8045, 'cross': 2303, 'road': 6355, 'street': 7134, 'rubber': 6404, 'battery': 1396, 'died': 2552, 'flirt': 3186, '10p': 309, 'sam': 6456, '25': 423, 'recd': 6155, 'thirtyeight': 7499, 'pence': 5618, 'printed': 5924, 'upstairs': 7865, 'closer': 2046, 'wil': 8197, 'reach': 6120, 'theory': 7478, 'argument': 1178, 'wins': 8217, 'loses': 4621, 'person': 5643, 'argue': 1176, 'kick': 4308, '447801259231': 568, 'secret': 6550, 'admirer': 937, 'reveal': 6316, 'thinks': 7496, '09058094597': 209, 'tomarrow': 7604, 'hearing': 3715, 'laptop': 4409, 'case': 1847, 'pleassssssseeeeee': 5740, 'tel': 7397, 'avent': 1290, 'sportsx': 7012, 'shining': 6670, 'meant': 4841, 'signing': 6745, 'told': 7598, 'baig': 1340, 'face': 3021, 'watches': 8086, 'watch': 8084, 'fr': 3267, 'thanx': 7459, 'touched': 7649, 'commercial': 2118, 'website': 8119, 'slippers': 6820, 'asked': 1218, 'kallis': 4268, 'bat': 1387, 'innings': 4042, 'didnt': 2549, 'goodnight': 3503, 'fix': 3163, 'wake': 8041, 'dearly': 2429, 'sleep': 6806, 'congratulations': 2175, 'cd': 1872, 'vouchers': 8008, '125gift': 331, 'music': 5099, '87066': 791, 'tncs': 7581, 'ldew': 4443, 'com1win150ppmx3age16': 2103, 'ranjith': 6101, 'cal': 1772, 'drpd': 2726, 'deeraj': 2453, 'deepak': 2450, '5min': 645, 'hold': 3804, 'bcums': 1415, 'angry': 1083, 'wid': 8189, 'dnt': 2627, 'childish': 1970, 'true': 7709, 'showing': 6715, 'deep': 2449, 'affection': 962, 'care': 1825, 'kettoda': 4298, 'manda': 4762, 'ups': 7863, '3days': 526, 'shipping': 6674, 'takes': 7334, '2wks': 482, 'usps': 7896, 'lag': 4386, 'bribe': 1662, 'nipost': 5241, 'lemme': 4473, 'necessarily': 5170, 'expect': 2987, 'headin': 3703, 'mmm': 4968, 'jolt': 4218, 'suzy': 7274, 'lover': 4644, 'video': 7958, 'handset': 3646, '750': 710, 'anytime': 1118, 'networks': 5203, 'mins': 4929, 'unlimited': 7837, 'parked': 5558, 'mini': 4922, 'shopping': 6693, 'disturb': 2612, 'luton': 4679, '0125698789': 8, 'ring': 6340, 'horny': 3842, 'naked': 5127, 'hot': 3852, '69698': 681, 'unsubscribe': 7847, 'dint': 2579, 'wana': 8060, 'plan': 5721, 'sometme': 6901, 'credits': 2291, 'club4mobiles': 2055, 'choose': 1992, 'club': 2053, '87070': 792, 'club4': 2054, 'box1146': 1610, 'mk45': 4965, '2wt': 483, 'evo': 2955, 'flash': 3173, 'jealous': 4173, 'singles': 6765, 'chart': 1920, 'quality': 6046, 'charge': 1913, 'sorting': 6928, 'narcotics': 5141, 'ended': 2854, 'sunny': 7236, 'rays': 6112, 'leaves': 4459, 'worries': 8289, 'blue': 1556, 'bay': 1399, 'hmv': 3795, 'genuine': 3419, 'questions': 6054, '86688': 788, '100percent': 303, 'objection': 5338, 'bf': 1482, 'rob': 6358, 'mack': 4715, 'gf': 3435, 'theater': 7467, 'handed': 3642, 'celebrations': 1881, 'swing': 7299, 'tool': 7625, 'definitely': 2459, 'gdeve': 3403, 'far': 3059, 'okie': 5382, 'usual': 7897, 'guy': 3609, 'passed': 5573, 'ahold': 995, 'anybody': 1111, 'throw': 7519, 'lets': 4485, 'baby': 1325, 'cruisin': 2311, 'hour': 3858, 'fone': 3219, 'jenny': 4180, 'ge': 3404, 'shall': 6639, 'tonite': 7620, 'varunnathu': 7926, 'edukkukayee': 2801, 'raksha': 6089, 'ollu': 5392, 'sense': 6590, 'gautham': 3390, 'stupid': 7172, 'cam': 1795, 'buzy': 1755, 'accidentally': 891, 'resend': 6274, 'phone': 5671, 'upgrade': 7857, 'sim': 6752, 'card': 1821, 'loyalty': 4657, '0845': 73, '021': 14, '3680': 517, 'ends': 2859, '28thfeb': 436, 'unless': 7835, 'gurl': 3607, 'appropriate': 1150, 'hurt': 3907, 'tease': 7388, 'die': 2551, 'plz': 5753, 'rose': 6381, 'grave': 3548, 'bslvyl': 1701, 'somebody': 6894, 'high': 3766, 'diesel': 2553, 'shit': 6677, 'shocking': 6687, 'scary': 6507, 'imagine': 3972, 'def': 2454, 'crash': 2276, 'taxi': 7367, 'fridge': 3301, 'meal': 4834, 'womdarfull': 8258, 'actor': 919, 'blind': 1539, '4u': 609, 'rodds1': 6364, '21': 410, 'aberdeen': 863, 'united': 7828, 'kingdom': 4326, 'img': 3975, 'icmb3cktz8r7': 3937, 'dates': 2408, 'hide': 3763, 'remb': 6226, 'book': 1580, 'jos': 4224, 'friendship': 3306, 'hanging': 3652, 'thread': 7514, 'themob': 7475, 'newest': 5211, 'selection': 6571, 'games': 3372, 'tones': 7612, 'gossip': 3514, 'babes': 1323, 'sport': 7010, 'fit': 3161, 'funky': 3349, '82468': 756, 'garage': 3379, 'keys': 4301, 'aren': 1169, 'bookshelf': 1586, 'accept': 886, 'sister': 6773, 'dear1': 2427, 'best1': 1471, 'clos1': 2042, 'lvblefrnd': 4686, 'jstfrnd': 4233, 'cutefrnd': 2360, 'lifpartnr': 4504, 'belovd': 1460, 'swtheart': 7305, 'bstfrnd': 1704, 'enemy': 2861, 'smart': 6835, '200': 399, 'weekly': 8133, '85222': 781, 'cs': 2314, 'winnersclub': 8215, '84': 771, 'm26': 4696, '3uz': 540, 'gbp1': 3399, '2day': 442, 'normal': 5276, 'rest': 6296, 'mylife': 5111, 'wot': 8296, 'lost': 4624, 'advance': 950, 'pongal': 5795, 'kb': 4285, 'power': 5846, 'yoga': 8399, 'dunno': 2753, 'tahan': 7327, 'anot': 1097, 'lo': 4571, 'dude': 2744, 'afraid': 968, 'december': 2434, '11mths': 321, '08002986906': 62, 'cake': 1770, 'merry': 4883, 'christmas': 2001, 'kisses': 4332, 'cud': 2331, 'ppl': 5849, 'gona': 3492, 'l8': 4369, 'buses': 1741, 'gon': 3491, 'waitin': 8039, 'pete': 5654, 'guild': 3602, 'bristol': 1677, 'plans': 5727, 'flight': 3181, 'problem': 5941, 'track': 7657, 'record': 6172, 'reading': 6129, 'women': 8259, 'read': 6126, 'light': 4508, 'apo': 1127, 'return': 6311, 'immediately': 3979, 'germany': 3425, 'fixed': 3165, 'line': 4527, 'access': 887, 'number': 5311, '0844': 70, '861': 786, '85': 777, 'prepayment': 5890, 'chance': 1901, 'evaporated': 2934, 'violated': 7973, 'privacy': 5930, 'stealing': 7081, 'employer': 2850, 'paperwork': 5543, 'report': 6263, 'supervisor': 7246, 'valentines': 7914, 'lifetime': 4503, '83600': 769, 'rcvd': 6117, 'custcare': 2352, '08718720201': 157, 'daaaaa': 2372, 'wined': 8211, 'dined': 2573, 'surfing': 7262, 'calling': 1790, 'post': 5828, '1000s': 301, 'texts': 7448, 'wiv': 8237, 'caroline': 1840, 'favourite': 3079, 'bless': 1534, 'hiding': 3765, 'stranger': 7132, 'interested': 4067, 'cleared': 2031, 'round': 6384, 'gudnite': 3592, 'practice': 5858, 'huiming': 3892, 'num': 5310, 'small': 6833, 'prestige': 5905, 'shag': 6631, 'sextextuk': 6620, 'xxuk': 8349, '69876': 684, 'txts': 7762, 'jeremiah': 4182, 'iphone': 4098, 'apeshit': 1124, 'misbehaved': 4938, 'slap': 6804, 'urself': 7882, 'fault': 3073, 'basically': 1383, 'figure': 3122, 'alcohol': 1019, 'jay': 4165, 'safely': 6440, 'weed': 8128, 'ish': 4113, 'minutes': 4933, 'ago': 987, 'wtf': 8323, 'onam': 5398, 'sirji': 6771, 'remembered': 6228, 'met': 4893, 'insurance': 4062, 'insha': 4049, 'allah': 1034, 'rakhesh': 6088, 'ex': 2963, 'tata': 7360, 'aig': 998, 'tissco': 7561, 'tayseer': 7371, 'currently': 2347, 'maximize': 4824, 'cc': 1869, '08708800282': 103, 'hg': 3759, 'suite342': 7219, '2lands': 456, 'row': 6388, 'w1j6hl': 8019, 'unemployed': 7815, 'moment': 5003, 'st': 7036, 'andrews': 1080, 'cold': 2087, 'posted': 5832, 'chikku': 1968, 'db': 2418, 'audrey': 1268, 'status': 7071, 'forward': 3258, 'dawns': 2413, 'refreshed': 6195, 'alive': 1033, 'breathe': 1656, 'air': 1002, 'update_now': 7856, 'motorola': 5039, 'sonyericsson': 6912, 'bluetooth': 1557, 'orange': 5441, 'mobileupd8': 4985, '08000839402': 56, 'call2optout': 1779, 'f4q': 3017, 'discount': 2600, 'rp176781': 6392, 'regalportfolio': 6200, '08717205546': 149, 'uniform': 7824, 'geeee': 3406, 'woke': 8255, 'wish': 8224, 'cuddling': 2334, 'spoil': 6999, 'talking': 7343, 'agree': 988, 'willing': 8201, 'reference': 6187, 't91': 7316, 'gbp': 3398, '09057039994': 200, 'seen': 6564, 'recognise': 6170, 'happening': 3661, 'lindsay': 4526, 'sighs': 6738, 'bars': 1378, 'ptbo': 6004, 'heron': 3751, 'payasam': 5595, 'rinu': 6346, 'brings': 1674, 'taught': 7364, 'becaus': 1427, 'hes': 3752, 'verifying': 7946, 'project': 5962, 'prabu': 5855, 'mistake': 4954, 'body': 1567, 'repairs': 6251, 'quite': 6059, 'slow': 6826, 'tests': 7433, 'guide': 3600, 'ovulation': 5498, 'relax': 6215, 'reason': 6145, 'followin': 3214, 'couple': 2254, 'wallet': 8052, 'leave': 4458, '945': 834, '6months': 695, 'phones': 5675, 'n9dx': 5118, 'owl': 5502, 'licks': 4496, 'mm': 4967, '4mths': 601, 'rental': 6246, 'mobilesdirect': 4983, '08000938767': 58, 'or2stoptxt': 5439, 'having': 3696, 'huh': 3890, 'sat': 6479, 'intro': 4078, 'pilates': 5700, 'kickboxing': 4309, 'office': 5362, 'lap': 4407, 'days': 2415, 'shut': 6729, 'bout': 1605, '30ish': 496, 'performance': 5630, 'calculated': 1773, 'current': 2346, 'period': 5634, 'actually': 921, 'rock': 6361, 'putting': 6035, 'business': 1743, 'pictures': 5693, 'ass': 1226, 'facebook': 3022, 'picture': 5692, 'al': 1014, 'salam': 6447, 'wahleykkum': 8035, 'sharing': 6649, 'grace': 3533, 'god': 3477, 'inshah': 4050, 'visitor': 7986, 'india': 4018, 'change': 1903, 'field': 3113, 'quickly': 6056, 'administrator': 936, '87131': 795, 'poly': 5788, 'tone': 7611, '2814032': 433, '1st': 387, '3x': 542, '150pw': 359, 'nd': 5162, 'chechi': 1934, 'cream': 2285, 'shipped': 6673, 'yep': 8385, 'loxahatchee': 4655, 'tree': 7692, 'burning': 1735, 'starts': 7062, 'stoners': 7109, 'slightly': 6818, 'disastrous': 2595, 'pm': 5754, 'fav': 3074, 'darlings': 2399, 'wld': 8247, 'stay': 7072, 'drink': 2711, 'busetop': 1742, 'sender': 6585, 'fullonsms': 3340, 'iron': 4104, 'thing': 7490, 'okies': 5383, 'yan': 8366, 'jiu': 4197, 'skip': 6795, 'den': 2481, 'blah': 1524, 'bring': 1672, 'wendy': 8149, 'dating': 2409, '09064012103': 242, 'box334sk38ch': 1616, 'whatsup': 8169, 'goal': 3474, '250': 424, 'competition': 2130, '80086': 737, 'txttowin': 7765, 'head': 3701, 'logo': 4589, 'names': 5133, 'heart': 3716, 'name1': 5130, 'name2': 5131, 'mobno': 4986, 'adam': 923, 'eve': 2935, '07123456789': 28, 'yahoo': 8362, 'pobox36504w45wq': 5765, 'txtno': 7761, 'ads': 946, 'contacted': 2191, '09111032124': 293, 'pobox12n146tf150p': 5762, 'siva': 6783, 'hostel': 3850, 'aha': 990, '09058094455': 204, 'land': 4395, '3030': 494, 'voice': 7997, 'speaking': 6960, 'expression': 3006, 'sentiment': 6597, 'rowdy': 6389, 'ful': 3338, 'attitude': 1259, 'attractive': 1261, 'funny': 3350, 'irritating': 4108, 'aathi': 857, 'urination': 7878, 'esplanade': 2921, 'mind': 4918, 'giving': 3456, 'lift': 4505, 'wnt': 8251, 'bmw': 1562, 'urgently': 7873, 'vry': 8010, 'hv': 3914, 'shortage': 6697, 'lacs': 4382, 'source': 6939, 'arng': 1188, 'amt': 1070, 'fucking': 3332, 'respond': 6290, '3650': 515, '09066382422': 272, '3mins': 533, 'vary': 7927, '300603': 491, 'bcm4284': 1410, 'ldn': 4444, 'wc1n3xx': 8104, 'booked': 1581, 'ticket': 7533, 'hillsborough': 3771, 'th': 7450, 'askin': 1219, 'dollars': 2659, 'shoul': 6704, 'iouri': 4092, 'applebees': 1138, 'journey': 4226, 'gd': 3402, 'bhaji': 1485, 'cricketer': 2297, 'sachin': 6432, 'tough': 7650, 'supposed': 7255, 'oic': 5374, 'tot': 7644, 'din': 2571, 'group': 3574, 'werethe': 8156, 'monkeespeople': 5010, 'monkeyaround': 5012, 'howdy': 3868, 'gorgeous': 3511, 'howu': 3870, 'doin': 2651, 'foundurself': 3261, 'jobyet': 4203, 'sausage': 6489, 'jen': 4178, 'blimey': 1538, 'exercise': 2977, 'kinda': 4323, 'concentration': 2155, 'hanks': 3653, 'lotsly': 4628, 'transfer': 7671, 'acc': 883, 'optimistic': 5434, 'improve': 3994, 'loan': 4574, 'purpose': 6027, '75': 709, 'homeowners': 3814, 'tenants': 7413, 'welcome': 8144, 'previously': 5913, 'refused': 6198, '1956669': 375, 'si': 6731, 'oreo': 5450, 'truffles': 7711, 'amy': 1072, 'ure': 7870, 'beautiful': 1424, 'intelligent': 4063, 'woman': 8257, 'result': 6304, 'consistently': 2186, 'kind': 4322, 'asking': 1220, 'practicum': 5860, 'links': 4535, 'ears': 2773, 'ttyl': 7728, 'isnt': 4118, 'bad': 1333, 'different': 2560, 'feeling': 3091, 'wavering': 8098, 'decisions': 2441, 'coping': 2222, 'individual': 4022, 'heal': 3708, 'gives': 3455, 'reasons': 6147, 'upgrdcentre': 7859, '0207': 10, '153': 361, '9153': 829, '26th': 430, 'july': 4242, 'opt': 5432, 'railway': 6077, 'princess': 5922, 'receiving': 6161, 'oral': 5440, 'doggy': 2648, 'style': 7173, 'fave': 3075, 'position': 5819, 'enjoy': 2870, 'roads': 6356, 'slippery': 6821, 'bike': 1495, 'language': 4404, 'okmail': 5384, 'dave': 2412, 'notice': 5288, 'tenerife': 7415, '09061743806': 229, 'tcs': 7376, 'sae': 6437, 'box326': 1614, 'cw25wx': 2366, 'screamed': 6530, 'enters': 2880, 'remove': 6239, 'flat': 3174, 'transfered': 7672, 'removed': 6240, 'banks': 1360, 'differ': 2557, 'charges': 1915, '9ja': 845, 'details': 2517, 'moan': 4978, '69888nyt': 686, 'broken': 1684, 'cum': 2338, 'infront': 4034, 'wise': 8223, '9t': 847, 'tension': 7417, 'machi': 4712, '8th': 824, 'thinking': 7495, 'mcr': 4833, 'sec': 6546, 'taste': 7357, 'fb': 3080, 'jaykwon': 4167, 'thuglyfe': 7527, 'falconerf': 3041, 'activate': 916, 'terms': 7421, 'conditions': 2161, 'visit': 7984, '07781482378': 35, 'depends': 2494, 'boye': 1627, 'faded': 3027, 'glory': 3464, 'ralphs': 6091, 'dry': 2735, 'trade': 7659, 'reunion': 6315, 'meh': 4858, 'nope': 5270, 'monday': 5007, 'accenture': 885, 'jackson': 4145, 'rec': 6154, 'center': 1884, '7ish': 724, 'reache': 6121, 'fighting': 3119, 'lose': 4619, 'fightng': 3120, 'some1': 6893, 'dificult': 2563, 'nuerologist': 5309, 'lolnice': 4595, 'fish': 3158, 'water': 8090, '123': 328, '1450': 345, '09050002311': 193, 'b4280703': 1315, '08718727868': 166, 'bored': 1592, 'outside': 5483, 'westshore': 8163, 'hyde': 3918, 'park': 5557, 'village': 7971, 'near': 5165, 'anthony': 1108, 'bringing': 1673, 'fees': 3095, 'rent': 6245, 'significance': 6742, 'opinion': 5425, 'jada': 4147, 'kusruthi': 4366, 'silent': 6748, 'spl': 6992, 'character': 1911, 'matured': 4819, 'stylish': 7176, 'simple': 6754, 'scrounge': 6534, 'ammo': 1062, 'ak': 1011, 'prabha': 5854, 'soryda': 6931, 'realy': 6142, 'frm': 3310, 'sory': 6930, 'forgiven': 3243, 'jst': 4232, 'tat': 7359, '40gb': 552, 'ipod': 4099, 'mp3': 5050, '83355': 765, 'ibhltd': 3925, 'ldnw15h': 4445, 'mtmsgrcvd18': 5071, 'boltblue': 1573, 'mono': 5014, 'poly3': 5789, 'cha': 1892, 'slide': 6816, 'jamz': 4153, 'toxic': 7654, 'topped': 7633, 'bubbletext': 1709, 'renewal': 6242, 'pin': 5704, 'tgxxrz': 7449, 'transport': 7676, 'problematic': 5942, 'bday': 1417, 'definite': 2458, 'nos': 5280, 'booking': 1583, 'fri': 3298, 'unconscious': 7803, 'children': 1972, 'adults': 949, 'behave': 1450, 'abnormally': 869, 'ebay': 2786, 'pickle': 5689, 'tacos': 7322, 'rude': 6405, 'campus': 1800, '02': 9, '09': 183, 'attempt': 1253, '0871': 106, '872': 797, '9755': 837, 'box95qu': 1624, 'mas': 4795, '150': 350, '85023': 779, 'savamob': 6490, 'member': 4866, 'offers': 5361, '08717898035': 155, '00': 0, 'sub': 7178, 'unsub': 7846, 'pretty': 5909, 'lady': 4385, 'single': 6764, 'recieve': 6168, '24hrs': 420, 'channel': 1907, 'teletext': 7401, 'pg': 5659, 'faggot': 3028, '2003': 401, '07815296484': 43, '800': 732, 'redeemed': 6183, '08718738001': 171, '41782': 555, '04': 16, 'hoping': 3839, 'l8r': 4371, 'malaria': 4751, 'bani': 1358, 'leads': 4450, 'passionate': 5576, 'kiss': 4331, 'sea': 6541, 'probably': 5940, 'fat': 3067, 'fingers': 3144, 'buttons': 1749, 'ummmmmaah': 7794, 'returns': 6314, 'tirupur': 7559, 'applausestore': 1137, 'monthlysubscription': 5020, '50p': 623, 'max6': 4823, 'csc': 2316, 'web': 8114, 'age16': 979, '2stop': 475, 'famous': 3050, 'quote': 6065, 'develop': 2522, 'ability': 865, 'listen': 4547, 'unconditionally': 7802, 'losing': 4622, 'temper': 7411, 'self': 6572, 'confidence': 2165, 'married': 4789, 'oclock': 5349, 'bash': 1381, 'recovery': 6177, 'cooped': 2218, 'hotel': 3853, 'invitation': 4084, 'cali': 1775, 'english': 2869, 'bloke': 1545, 'weddin': 8121, 'omw': 5397, 'btw': 1707, 'alibi': 1032, 'cutting': 2364, 'sink': 6766, 'paces': 5511, 'cage': 1769, 'cock': 2075, 'surrounded': 7269, 'reminding': 6235, 'owns': 5504, 'cuck': 2330, 'hurry': 3906, 'deficient': 2457, 'acknowledgement': 906, 'astoundingly': 1237, 'tactless': 7324, 'generally': 3412, 'faggy': 3029, 'demand': 2480, 'blood': 1549, 'oath': 5334, 'fo': 3208, 'warm': 8070, 'milk': 4910, 'magic': 4730, 'loose': 4614, 'pan': 5528, 'cheap': 1930, 'silly': 6750, 'likely': 4514, 'uv': 7903, 'causes': 1864, 'mutations': 5106, 'sunscreen': 7239, 'essential': 2923, 'thesedays': 7482, 'online': 5405, 'pics': 5690, 'aiyo': 1009, 'mei': 4859, 'fast': 3064, 'workin': 8281, 'bao': 1364, 'sugardad': 7214, 'gee': 3405, 'brownie': 1693, 'geeeee': 3407, 'barely': 1369, 'fuck': 3329, '2mrw': 464, 'ninish': 5239, 'icky': 3936, 'american': 1055, 'freek': 3285, 'callin': 1789, 'oooh': 5413, 'ridden': 6332, 'ey': 3013, 'gym': 3613, 'smiles': 6847, 'daddy': 2376, 'scream': 6529, 'dick': 2543, 'missy': 4952, 'yar': 8367, 'mum': 5084, 'sch': 6510, 'clean': 2028, 'lab': 4378, 'goggles': 3480, 'door': 2673, 'call09050000327': 1778, 'arguing': 1177, 'claims': 2015, '09050005321': 195, 'arngd': 1189, 'marriage': 4788, 'walkin': 8048, 'unfortuntly': 7819, 'snake': 6864, 'bites': 1517, 'dancing': 2386, 'frnt': 3318, 'sayin': 6498, 'bite': 1516, 'izzit': 4138, 'textand': 7439, '08002988890': 63, 'wife': 8192, 'kids': 4314, 'jjc': 4198, 'tendencies': 7414, 'headache': 3702, 'quit': 6058, 'jazz': 4169, 'yogasana': 8400, 'em': 2836, 'meive': 4860, 'hardly': 3672, 'gotany': 3517, 'srsly': 7033, 'yi': 8393, 'spree': 7019, '80878': 746, '08715705022': 146, '1x150p': 396, 'pound': 5840, '08712402050': 117, 'lines': 4531, '10ppm': 310, 'ag': 976, 'promo': 5970, '07753741225': 33, '08715203677': 141, '42478': 559, '24': 419, 'grand': 3539, 'prix': 5932, 'stands': 7051, 'nitz': 5247, 'announcement': 1093, '542': 639, '0825': 68, 'exhausted': 2980, 'train': 7662, 'pie': 5694, 'present': 5897, 'ar': 1162, 'blastin': 1531, 'tsunamis': 7726, 'occur': 5346, 'rajnikant': 6087, 'stopped': 7118, 'swimming': 7297, 'indian': 4019, 'ocean': 5348, 'noon': 5267, 'xclusive': 8341, 'clubsaisai': 2057, '2morow': 459, '28': 432, 'soiree': 6886, 'speciale': 6962, 'zouk': 8439, 'nichols': 5222, 'paris': 5555, 'roses': 6382, 'ladies': 4384, '07946746291': 48, '07880867867': 46, 'bridgwater': 1665, 'banter': 1363, 'neva': 5204, 'imma': 3977, 'somethin': 6900, '22': 413, 'euro2004': 2930, 'results': 6305, 'daily': 2379, '83222': 762, 'valentine': 7913, 'game': 3371, 'answers': 1104, 'ques': 6051, 'suits': 7221, 'dependents': 2493, 'thanx4': 7460, 'cer': 1887, 'future': 3354, 'hundreds': 3897, 'handsomes': 3648, 'beauties': 1423, 'aunties': 1273, 'uncles': 7800, 'shock': 6686, 'shuhui': 6727, 'leona': 4478, 'reaction': 6125, 'family': 3049, 'happiness': 3666, 'snow': 6874, 'weather': 8113, 'friendships': 3307, 'grow': 3575, 'dismay': 2607, 'alex': 1025, 'concerned': 2157, 'pub': 6006, 'bud': 1711, 'drinks': 2714, 'useful': 7888, 'officially': 5365, 'paid': 5520, 'market': 4783, 'tootsie': 7630, 'pop': 5805, 'longer': 4602, 'darren': 2400, 'textbuddy': 7441, 'area': 1168, '25p': 427, 'postcode': 5831, 'gaytextbuddy': 3396, '89693': 817, 'vodafone': 7995, '4882': 584, 'matches': 4805, '09064019014': 248, 'forwarded': 3259, 'seventeen': 6617, 'seven': 6616, 'ml': 4966, 'voucher': 8007, 'holder': 3805, 'weeks': 8134, 'pc': 5605, 'tlp': 7571, 'expressoffer': 3007, 'ts': 7720, '80062': 734, 'sweetheart': 7292, 'biola': 1504, 'login': 4588, 'dad': 2375, 'fetching': 3104, 'restock': 6298, 'thanksgiving': 7456, 'sound': 6934, 'effects': 2809, 'brighten': 1668, 'wee': 8127, 'thursday': 7529, 'allo': 1038, 'braved': 1643, 'taken': 7333, 'trains': 7666, 'triumphed': 7701, 'ham': 3638, 'jolly': 4217, 'cartoon': 1846, 'listening': 4550, 'temple': 7412, 'church': 2005, 'uncomfortable': 7801, '08715203694': 143, '40533': 551, '31': 501, 'email': 2837, 'rstm': 6397, 'sw7': 7276, '3ss': 539, 'gentle': 3416, 'sonetimes': 6908, 'rough': 6383, 'starting': 7061, 'panic': 5532, 'tuesday': 7731, 'wesleys': 8158, 'town': 7653, 'bet': 1472, 'hella': 3733, 'drugs': 2729, 'drug': 2727, 'dealer': 2423, 'impatient': 3982, 'sun': 7231, 'earth': 2774, 'cloud': 2051, 'river': 6354, 'evng': 2954, 'wikipedia': 8196, '88800': 806, '89034': 810, 'premium': 5886, '08718711108': 156, 'lays': 4439, 'envelope': 2893, 'paper': 5541, 'repent': 6254, 'fetch': 3103, 'prepare': 5888, 'positions': 5820, 'kama': 4270, 'sutra': 7272, 'en': 2851, 'nange': 5137, 'bakra': 1344, 'kalstiya': 4269, 'lakhs': 4390, 'ho': 3797, 'belly': 1457, 'laugh': 4426, 'sun0819': 7232, 'posts': 5835, '08452810071': 75, 'ditto': 2615, 'saying': 6499, 'peace': 5608, 'knw': 4349, 'wetherspoons': 8165, 'piggy': 5699, 'awake': 1299, 'freaky': 3278, 'yelling': 8380, 'scrappy': 6526, 'lonely': 4600, 'hex': 3756, 'explain': 2999, 'sdryb8i': 6539, 'xy': 8358, 'sue': 7206, 'lapdancer': 4408, 'sex': 6618, 'bedroom': 1435, '89555': 816, 'textoperator': 7446, 'g2': 3358, '1da': 379, '150ppmsg': 358, 'king': 4325, 'crying': 2313, 'building': 1721, 'map': 4772, 'imprtant': 3996, 'tomorw': 7610, 'cherthala': 1954, 'cochin': 2074, 'bfore': 1484, 'accordingly': 897, 'tmorow': 7574, 'engaged': 2864, 'ans': 1098, 'torch': 7637, 'bold': 1570, '448712404000': 569, '08712404000': 122, 'farm': 3060, '4d': 590, '1405': 342, '1680': 366, '1843': 371, 'law': 4434, 'purchase': 6022, 'poop': 5801, 'looks': 4610, 'gpu': 3528, 'entrepreneurs': 2887, 'corporation': 2227, 'gap': 3377, 'prevent': 5910, 'dehydration': 2465, 'fluids': 3198, 'weird': 8139, 'idea': 3941, 'away': 1302, 'trek': 7693, 'harri': 3676, 'drivin': 2718, 'fantastic': 3057, 'gage': 3361, 'deck': 2442, 'cnupdates': 2067, 'newsletter': 5216, 'alerts': 1023, 'height': 3728, 'aeronautics': 957, 'professors': 5955, 'wer': 8153, 'calld': 1783, 'sit': 6775, 'aeroplane': 958, 'aftr': 975, 'ws': 8320, 'students': 7160, 'dey': 2529, 'hurried': 3905, 'datz': 2411, 'timing': 7550, 'shitstorm': 6682, 'attributed': 1263, '08714712388': 133, '7pm': 727, 'stress': 7135, 'dorm': 2675, 'sell': 6576, '449071512431': 571, '1250': 330, '09071512433': 277, 'b4': 1313, '050703': 19, 'csbcm4235wc1n3xx': 2315, 'callcost': 1781, 'mobilesvary': 4984, 'max': 4821, 'sth': 7095, 'specs': 6968, 'px3748': 6038, '08714712394': 134, 'macha': 4710, 'upset': 7864, 'assume': 1232, 'mindset': 4920, 'wondar': 8261, 'flim': 3183, 'cookies': 2215, 'jelly': 4177, 'running': 6417, 'admit': 939, 'mad': 4718, 'correction': 2230, 'scrumptious': 6535, 'wants': 8067, 'ba': 1318, 'dao': 2391, 'half8th': 3633, 'exactly': 2965, 'jide': 4196, 'visiting': 7985, 'alertfrom': 1022, 'jeri': 4183, 'stewartsize': 7093, '2kbsubject': 455, 'low': 4652, 'prescripiton': 5894, 'drvgsto': 2734, 'spring': 7020, 'yay': 8373, 'steak': 7079, 'twice': 7747, 'neglect': 5186, 'opportunity': 5428, 'add': 924, 'prayers': 5872, 'nokia6650': 5260, 'txtauction': 7758, '81151': 748, '4t': 604, 'ctxt': 2328, 'mtmsg': 5069, 'mayb': 4826, 'rite': 6352, 'faster': 3065, 'gals': 3368, 'attached': 1251, 'glad': 3457, 'hadn': 3621, 'clocks': 2041, 'shouted': 6707, 'realised': 6134, 'wahay': 8032, 'shorter': 6700, 'gaze': 3397, 'eyes': 3016, '930': 832, 'subscribed': 7188, '82324': 755, 'helpline': 3743, '08706091795': 96, 'spoken': 7003, 'gist': 3452, 'realize': 6137, '40': 544, 'thousands': 7512, 'tattoos': 7362, 'premier': 5885, 'gimme': 3445, 'lip': 4541, 'caveboy': 1867, 'library': 4494, 'confused': 2171, 'holla': 3809, 'spare': 6954, 'faith': 3037, 'makes': 4747, 'possible': 5826, 'vibrate': 7952, 'acting': 913, '79': 721, '08704439680ts': 95, 'grandmas': 3542, 'hungover': 3898, 'unclaimed': 7798, '09066368327': 268, 'closingdate04': 2048, 'claimcode': 2014, 'm39m51': 4698, '50pmmorefrommobile2bremoved': 627, 'mobypobox734ls27yf': 4991, 'gua': 3585, 'mt': 5065, 'faber': 3020, 'yest': 8388, 'wishing': 8228, 'city': 2010, 'summer': 7227, 'store': 7122, '88039': 801, 'skilgme': 6789, 'tscs087147403231winawk': 7724, '50perwksub': 625, 'goin': 3482, 'meetin': 4852, 'wonder': 8263, 'tis': 7560, 'dramatic': 2700, 'schools': 6513, 'closed': 2045, 'apparently': 1133, 'drive': 2716, 'inch': 3998, 'damn': 2381, 'hunting': 3903, 'drunkard': 2732, 'wats': 8095, 'idc': 3940, 'weaseling': 8111, 'space': 6947, 'picking': 5688, 'trash': 7677, 'smokes': 6853, 'begging': 1445, 'lovely': 4642, 'sing': 6761, 'slave': 6805, 'punish': 6016, 'beerage': 1440, '0578': 20, 'randomlly': 6096, 'opening': 5421, 'couldn': 2247, 'fixes': 3167, 'spelling': 6976, 'diff': 2556, 'living': 4563, 'perfect': 5628, 'community': 2121, '100p': 302, 'polyphonic': 5793, '087018728737': 89, 'toppoly': 7634, 'tune': 7737, 'subpoly': 7183, '81618': 750, 'pole': 5784, '08718727870': 167, 'enjoyed': 2871, 'fondly': 3218, 'bein': 1451, 'thot': 7508, 'dogbreath': 2644, 'sounding': 6935, 'jan': 4154, 'omg': 5396, 'weighed': 8136, 'woohoo': 8271, 'uncountable': 7806, 'dictionary': 2545, 'pieces': 5696, '9996': 842, '14thmarch': 348, 'availa': 1283, 'petey': 5656, 'whereare': 8175, 'friendsare': 3305, 'thekingshead': 7472, 'canlove': 1809, 'nic': 5220, 'pobox84': 5769, 'm263uz': 4697, 'appt': 1155, 'no1': 5250, '8077': 745, 'mates': 4807, 'getzed': 3434, '36504': 516, 'w45wq': 8023, 'norm150p': 5275, 'cashto': 1851, '08000407165': 54, 'getstop': 3431, '88222': 804, 'php': 5680, 'rg21': 6324, '4jx': 599, 'dled': 2623, '3d': 525, 'imp': 3981, 'ain': 1000, 'smokin': 6854, 'boooo': 1587, 'bec': 1426, 'ugh': 7778, 'nervous': 5193, 'costumes': 2241, 'gift': 3440, 'yowifes': 8414, 'hint': 3773, 'borrow': 1596, 'bag': 1337, 'outbid': 5474, 'simonwatson5120': 6753, 'shinco': 6668, 'plyr': 5752, 'bid': 1490, 'smsrewards': 6860, 'notifications': 5289, 'ones': 5402, 'model': 4993, 'youi': 8404, 'galileo': 3367, 'dobby': 2629, 'responding': 6291, 'boo': 1578, 'enjoyin': 2872, 'yourjob': 8410, 'gettin': 3432, 'hunny': 3901, 'llspeak': 4568, '2u': 478, 'soonlots': 6916, 'loveme': 4643, 'xxxx': 8352, 'starshine': 7058, 'ache': 903, 'sips': 6769, 'cappuccino': 1816, 'teasing': 7389, 'smsservices': 6861, 'yourinclusive': 8409, 'comuk': 2151, '3qxj9': 537, 'extra': 3010, '08702840625': 92, '220': 414, 'cm2': 2061, '9ae': 843, 'alfie': 1026, 'moon': 5023, 'm8s': 4702, 'charity': 1916, '8007': 735, 'nokias': 5261, 'polys': 5794, 'zed': 8432, '08701417012': 84, 'profit': 5958, 'bits': 1518, 'hahaha': 3624, 'brain': 1634, 'turned': 7741, 'green': 3560, 'burial': 1733, 'mojibiola': 4999, '09065174042': 253, 'cust': 2351, '07821230901': 44, 'mate': 4806, 'rv': 6423, 'hol': 3802, 'ages': 984, 'rvx': 6424, 'skyped': 6800, 'kz': 4368, 'sura': 7258, 'given': 3454, 'ultimatum': 7789, 'countin': 2249, 'aburo': 878, 'surely': 7260, 'successful': 7198, '08002888812': 60, 'inconsiderate': 4007, 'nag': 5122, 'recession': 6165, 'wed': 8120, 'soo': 6913, 'understand': 7809, '2morrow': 461, 'comprehensive': 2144, 'prashanthettan': 5869, 'mother': 5033, '09066350750': 258, 'ibiza': 3926, 'await': 1297, 'collection': 2095, 'sk3': 6786, '8wp': 825, 'ppm': 5851, 'suite': 7218, 'xavier': 8339, 'seconds': 6549, 'warning': 8074, 'samantha': 6458, 'playing': 5735, 'guitar': 3604, 'impress': 3990, 'doug': 2686, 'realizes': 6139, 'stomach': 7106, 'trauma': 7678, 'swear': 7287, 'matter': 4816, 'shoes': 6688, 'wan': 8058, 'inner': 4041, 'tigress': 7540, 'version': 7947, 'poor': 5802, 'urfeeling': 7871, 'bettersn': 1477, 'probthat': 5948, 'overdose': 5492, 'careful': 1830, 'spk': 6991, 'sn': 6863, 'lovejen': 4641, 'returned': 6312, 'fall': 3042, 'worlds': 8286, 'discreet': 2601, 'vip': 7976, '83110': 760, 'hai': 3625, 'ana': 1073, 'sathy': 6481, 'rto': 6401, 'spoons': 7008, 'named': 5132, 'tampa': 7349, 'genius': 3414, 'connections': 2179, 'sort': 6925, 'lotta': 4630, 'corvettes': 2233, 'lately': 4420, 'yrs': 8417, 'supply': 7251, 'cds': 1874, 'virgin': 7979, 'records': 6175, 'mystery': 5116, '09061104283': 218, 'smsco': 6858, '50pm': 626, 'approx': 1153, 'consider': 2184, 'walls': 8054, 'bunkers': 1728, 'peaceful': 5609, '07808': 40, 'xxxxxx': 8354, '08719899217': 180, '41685': 554, '07': 22, 'posh': 5817, 'birds': 1506, 'chaps': 1909, 'user': 7890, 'trial': 7695, 'prods': 5951, 'champneys': 1900, 'dob': 2628, 'asap': 1208, '0721072': 29, 'philosophical': 5667, 'hole': 3807, 'saved': 6492, 'drop': 2722, 'cuddle': 2332, 'nap': 5140, 'atleast': 1247, 'shakespeare': 6637, 'shesil': 6662, '10k': 308, '5k': 644, 'travel': 7680, '09064011000': 241, 'ntt': 5305, 'cr01327bt': 2268, 'fixedline': 3166, 'castor': 1855, 'liverpool': 4561, 'played': 5731, 'mid': 4901, '09058094565': 206, '09065171142': 252, 'stopsms': 7120, '08': 52, 'reminder': 6234, 'downloaded': 2689, 'doit': 2654, 'mymoby': 5112, 'knew': 4341, 'woul': 8299, 'lead': 4447, 'wanting': 8066, 'curfew': 2344, 'gibe': 3439, 'midnight': 4903, 'getsleep': 3430, 'studdying': 7157, 'ear': 2767, 'training': 7664, 'massages': 4798, 'oil': 5375, 'sup': 7242, 'yoyyooo': 8415, 'permissions': 5638, 'mac': 4708, 'usb': 7884, 'gibbs': 3438, 'unsold': 7844, 'mike': 4906, 'hussey': 3911, 'failed': 3031, 'sad': 6436, 'unbelievable': 7796, 'faglord': 3030, 'murder': 5093, 'nutter': 5319, 'cutter': 2363, 'ctter': 2326, 'cttergg': 2327, 'cttargg': 2325, 'ctargg': 2321, 'ctagg': 2320, 'superb': 7244, 'grateful': 3547, 'happier': 3663, 'agents': 983, 'experiment': 2994, 'outstanding': 5486, 'invoices': 4089, 'teach': 7379, 'smell': 6841, 'tobacco': 7584, 'derek': 2501, 'taylor': 7370, 'assumed': 1233, 'worst': 8293, 'charles': 1917, 'lastest': 4417, 'stereophonics': 7089, 'marley': 4786, 'dizzee': 2621, 'racal': 6068, 'libertines': 4493, 'strokes': 7147, 'nookii': 5266, 'bookmark': 1584, 'plus': 5751, 'grinule': 3567, 'greet': 3561, 'white': 8180, 'fudge': 3335, 'oreos': 5451, 'stores': 7123, 'january': 4158, 'male': 4753, 'sale': 6449, 'gay': 3393, 'cheaper': 1931, '08709222922': 104, '5p': 647, '8p': 822, 'peak': 5611, '08712460324': 125, 'zaher': 8429, 'ym': 8396, 'nauseous': 5157, 'pissed': 5709, 'sweets': 7294, 'pig': 5698, 'dieting': 2555, 'chip': 1985, 'iam': 3922, 'addicted': 927, 'msging': 5059, 'wrong': 8317, 'photo': 5677, 'registered': 6205, 'yck': 8374, 'ma': 4704, 'ashley': 1211, 'avalarr': 1285, 'hollalater': 3810, 'attend': 1255, 'rounds': 6386, 'blogging': 1543, 'magicalsongs': 4732, 'blogspot': 1544, 'diet': 2554, 'ate': 1242, 'slices': 6815, 'kvb': 4367, '88600': 805, '1million': 385, 'ppt150x3': 5853, 'box403': 1619, 'w1t1jy': 8021, 'alternative': 1046, 'term': 7419, 'ore': 5448, 'mo': 4977, 'owo': 5505, 'moments': 5004, 'fro': 3319, 'samus': 6460, 'shoulders': 6705, 'matthew': 4818, '09063440451': 237, 'lux': 4683, 'ppm150': 5852, 'box334': 1615, 'sk38xh': 6787, 'wear': 8109, 'jeans': 4174, 'fever': 3105, 'vomitin': 8002, '09061749602': 233, '528': 636, 'hp20': 3873, '1yf': 397, 'stuffed': 7168, 'bleh': 1533, 'writhing': 8310, 'tons': 7621, 'paypal': 5604, 'voila': 7999, 'pockets': 5774, 'theyre': 7487, 'places': 5719, 'medical': 4847, 'folks': 3211, 'sorta': 6926, 'blown': 1554, 'recently': 6163, 'scores': 6519, 'sophas': 6920, 'secondary': 6548, 'application': 1140, 'applying': 1143, 'ogunrinde': 5371, 'expensive': 2991, 'photos': 5678, '114': 316, '14': 340, 'tcr': 7375, 'w1': 8014, 'lodging': 4584, 'chk': 1987, 'ms': 5056, 'dict': 2544, 'shb': 6652, 'truth': 7716, 'gravity': 3550, 'carefully': 1831, 'feels': 3094, 'heavy': 3723, 'bowl': 1607, 'filthy': 3133, 'stories': 7124, 'brand': 1639, 'decision': 2440, 'simpler': 6755, 'magical': 4731, 'welp': 8147, 'retired': 6309, 'natwest': 5155, '09050001808': 192, 'm95': 4703, 'valid12hrs': 7916, 'chad': 1894, 'gymnastics': 3614, 'site': 6776, 'christians': 2000, 'necklace': 5174, 'token': 7595, 'liking': 4517, 'aptitude': 1160, '15': 349, 'horse': 3845, 'racing': 6069, 'earlier': 2768, 'chicken': 1964, 'rice': 6329, 'closes': 2047, 'wrongly': 8318, 'ad': 922, 'crap': 2275, 'borin': 1593, 'boggy': 1568, 'boring': 1594, 'biatch': 1489, 'nxt': 5324, 'hesitate': 3754, 'weakness': 8106, 'notebook': 5285, 'salary': 6448, 'chocolate': 1989, 'potential': 5837, 'talent': 7337, 'reckon': 6169, 'eightish': 2819, 'carpark': 1841, '3g': 527, 'videophones': 7960, '09063458130': 239, 'videochat': 7959, 'java': 4164, 'dload': 2625, 'polyph': 5792, 'noline': 5262, 'rentl': 6248, 'fuckin': 3331, 'dropped': 2723, 'loving': 4649, 'yun': 8422, 'ubi': 7776, '67441233': 675, 'irene': 4102, 'ere': 2901, 'bus8': 1740, '65': 670, '61': 660, '66': 672, '382': 522, 'cres': 2294, 'tech': 7390, '6ph': 696, '5wkg': 652, 'èn': 8441, 'sd': 6537, 'butt': 1746, 'sore': 6921, 'relaxing': 6216, '7am': 722, 'party': 5568, '5ish': 643, 'stripes': 7145, 'skirt': 6796, 'miracle': 4935, 'jesus': 4188, 'blessed': 1535, 'escalator': 2915, 'quiet': 6057, 'beth': 1474, 'aunts': 1274, 'charlie': 1918, 'helen': 3730, 'heard': 3713, 'syllabus': 7307, 'panasonic': 5530, 'bluetoothhdset': 1558, 'doublemins': 2682, 'doubletxt': 2684, 'contract': 2201, '30pm': 497, 'poyyarikatur': 5848, 'kolathupalayam': 4354, 'unjalur': 7832, 'erode': 2905, 'hero': 3749, 'apt': 1159, 'kerala': 4295, 'terrible': 7424, 'fan': 3051, 'meat': 4843, 'lovers': 4646, 'supreme': 7256, 'regret': 6207, 'cudnt': 2335, 'drove': 2725, 'ctla': 2323, 'ente': 2877, 'ishtamayoo': 4114, 'bakrid': 1345, 'exe': 2975, 'glorious': 3463, 'anniversary': 1090, 'finds': 3141, 'prey': 5914, 'coaxing': 2071, 'images': 3970, 'fond': 3217, 'souveniers': 6943, 'cougar': 2243, 'pen': 5617, 'secretly': 6552, 'fancies': 3053, '09065394514': 254, 'datebox1282essexcm61xn': 2407, 'pattern': 5588, 'throat': 7518, 'scratches': 6527, 'plm': 5744, 'asleep': 1223, 'foreign': 3236, 'stamps': 7047, 'lecture': 4462, 'sheffield': 6656, 'nanny': 5138, 'raise': 6080, 'zoe': 8436, 'shitin': 6679, 'defo': 2461, 'hardest': 3671, 'millions': 4913, 'lekdog': 4472, 'setting': 6611, 'filling': 3128, 'loverboy': 4645, 'blankets': 1530, 'sufficient': 7210, 'thx': 7530, 'nyt': 5328, 'edison': 2795, 'rightly': 6336, 'fool': 3224, 'speechless': 6969, 'viva': 7990, 'gm': 3466, 'gn': 3468, 'gnt': 3470, 'atten': 1254, 'roast': 6357, '09058097218': 214, 'ls15hb': 4660, 'concentrate': 2153, 'educational': 2800, 'flirting': 3187, 'chatting': 1929, 'walked': 8047, 'kickoff': 4310, 'euro': 2929, 'june': 4245, '3rd': 538, 'sells': 6578, 'data': 2405, 'analysis': 1075, 'thesis': 7483, 'belligerent': 1456, 'hiya': 3784, 'april': 1157, 'les': 4480, 'rudi': 6406, 'snoring': 6872, 'drunk': 2731, 'sends': 6587, 'ink': 4038, '515': 631, 'throwing': 7521, 'deciding': 2438, 'eastenders': 2779, 'flower': 3195, 'compare': 2127, 'violet': 7975, 'tulip': 7735, 'lily': 4519, '84025': 772, 'wkent': 8241, '150p16': 353, 'technical': 7391, 'support': 7252, 'process': 5949, 'networking': 5202, 'prepared': 5889, 'finalise': 3136, 'works': 8284, 'flirtparty': 3188, 'replys150': 6262, 'bitch': 1514, 'dentist': 2487, '09058091854': 201, 'revealed': 6317, 'box385': 1617, 'm6': 4699, '6wu': 700, 'bathing': 1392, '09050003091': 194, 'c52': 1764, 'xchat': 8340, 'lul': 4674, 'juicy': 4237, 'nurses': 5314, 'shes': 6661, 'obese': 5336, 'oyea': 5507, 'oi': 5373, 'ami': 1056, 'parchi': 5551, 'na': 5119, 'kicchu': 4307, 'kaaj': 4260, 'korte': 4359, 'iccha': 3932, 'korche': 4356, 'tul': 7734, 'movies': 5047, 'copies': 2221, 'sculpture': 6536, 'convey': 2208, 'regards': 6203, 'surya': 7271, 'vijay': 7965, 'pokkiri': 5783, 'pic': 5685, 'dearer': 2428, 'dem': 2479, 'attraction': 1260, 'thoughts': 7511, 'breath': 1655, 'sorrows': 6923, 'fight': 3118, 'craziest': 2281, 'proove': 5977, 'planet': 5723, 'singing': 6763, 'praises': 5862, 'curry': 2348, 'makiing': 4748, 'sambar': 6459, 'ndship': 5163, 'needle': 5180, 'clock': 2040, 'evn': 2953, 'itz': 4131, '4few': 592, 'alwys': 1050, 'conected': 2163, 'spatula': 6958, 'hands': 3645, 'sipix': 6768, 'digital': 2565, '09061221061': 221, '28days': 434, 'box177': 1612, 'm221bp': 4694, '2yr': 486, 'warranty': 8075, '99': 841, '09061790121': 234, 'doctor': 2634, 'complexities': 2141, 'freely': 3286, 'taxes': 7366, 'outrageous': 5480, 'tomorro': 7608, 'ryder': 6427, 'subscriber': 7189, 'receipt': 6156, 'elvis': 2835, 'presleys': 5900, 'fret': 3297, 'strips': 7146, 'postal': 5829, 'gifts': 3442, 'cliff': 2037, 'ne': 5164, 'interesting': 4068, 'wrking': 8313, 'uni': 7822, 'depressed': 2497, 'sittin': 6779, 'wind': 8205, 'drops': 2724, 'black': 1521, 'aiyah': 1007, 'information': 4031, 'o2': 5332, 'urawinner': 7869, 'surprise': 7266, 'awaiting': 1298, 'hen': 3746, 'italian': 4122, 'grins': 3566, 'smoked': 6852, 'math': 4808, 'dhoni': 2533, 'rocks': 6363, 'teju': 7396, 'hourish': 3859, 'ground': 3573, 'amla': 1059, 'durban': 2755, 'convenience': 2204, 'evaluation': 2933, '449050000301': 570, '09050000301': 185, 'speed': 6970, 'speedchat': 6971, '80155': 739, 'swap': 7281, 'chatter': 1928, 'chat80155': 1926, 'rcd': 6114, 'cancel': 1805, 'cheyyamo': 1958, '08000776320': 55, 'aiyar': 1008, 'survey': 7270, '80160': 740, 'txt43': 7756, 'catching': 1860, 'throws': 7523, 'gal': 3366, 'falls': 3045, 'brothers': 1690, 'whos': 8183, 'hmv1': 3796, 'errors': 2909, 'difficulties': 2562, 'howz': 3871, 'tau': 7363, 'sar': 6470, 'piah': 5684, '1stchoice': 389, '08707808226': 101, 'wearing': 8110, 'film': 3130, 'shade': 6629, 'copied': 2220, 'notified': 5290, 'luck': 4667, 'marketing': 4784, '84122': 773, '08450542832': 74, 'raining': 6079, 'station': 7070, 'tank': 7350, 'virgins': 7980, '4fil': 593, 'sexual': 6621, 'theirs': 7471, 'cute': 2359, '69911': 687, 'sitter': 6778, 'kaitlyn': 4264, 'adult': 948, 'danger': 2389, 'peeps': 5614, 'comment': 2117, 'veggie': 7937, 'neighbors': 5189, 'computerless': 2149, 'balloon': 1349, 'silently': 6749, 'drms': 2721, 'wrc': 8304, 'rally': 6090, 'oz': 5509, 'lucozade': 4670, 'energy': 2862, 'le': 4446, '61200': 661, 'packs': 5515, 'itcould': 4123, 'melody': 4864, 'horrible': 3844, 'macs': 4717, 'toot': 7627, 'bigger': 1493, 'nw': 5323, 'hme': 3789, 'islands': 4116, 'chennai': 1951, 'velachery': 7939, 'flippin': 3185, 'breaking': 1653, 'cstore': 2319, 'annoying': 1095, 'hangin': 3651, 'makin': 4749, 'lodge': 4583, 'worrying': 8291, 'shame': 6640, 'quizzes': 6064, 'popcorn': 5806, 'jordan': 4222, 'celeb': 1877, 'pocketbabe': 5773, '087016248': 87, 'voicemail': 7998, '08719181503': 177, 'arguments': 1179, 'fed': 3086, 'himso': 3772, '2go': 450, 'neft': 5184, 'credited': 2290, 'beneficiary': 1466, 'tuition': 7733, 'understanding': 7810, 'choice': 1990, 'enter': 2878, 'subs16': 7185, '1win150ppmx3': 393, 'appreciated': 1147, 'semi': 6581, 'apart': 1121, 'delivered': 2474, 'exp': 2986, '30apr': 495, 'strong': 7148, 'arms': 1187, 'maaaan': 4705, 'guessin': 3597, 'walmart': 8055, 'ilol': 3967, 'personally': 5647, 'wuldnt': 8330, 'mite': 4957, 'creepy': 2293, 'lunchtime': 4676, 'organise': 5453, '08719181513': 178, 'complete': 2136, 'passable': 5572, 'score': 6518, 'phd': 5664, '5years': 654, 'easier': 2775, 'nok': 5257, '87021': 790, 'txtin': 7759, '4info': 598, 'prakesh': 5865, 'apps': 1154, 'rofl': 6366, 'betta': 1475, 'invest': 4082, 'anti': 1109, 'aging': 986, 'products': 5952, '1hr': 381, 'delay': 2467, 'accommodation': 892, 'various': 7924, 'global': 3462, 'phb1': 5663, 'ph': 5660, '08700435505150p': 79, 'submitting': 7182, '84128': 774, 'textcomp': 7442, '08712405020': 123, 'snatch': 6867, 'purse': 6028, 'drivby': 2715, '0quit': 296, 'edrunk': 2797, 'iff': 3951, 'pthis': 6005, 'senrd': 6589, 'dnot': 2626, 'dancce': 2383, 'drum': 2730, 'basq': 1386, 'ihave': 3957, '2nhite': 467, 'ros': 6380, 'xxxxxxx': 8355, 'morn': 5026, 'relieved': 6219, 'westonzoyland': 8162, 'greatness': 3558, 'europe': 2932, 'chinese': 1981, 'docs': 2633, 'songs': 6910, 'havin': 3695, 'goin2bed': 3483, 'only1more': 5407, 'mc': 4829, 'hun': 3896, '2nite': 469, 'every1': 2942, 'ava': 1282, 'goodtime': 3508, 'oli': 5391, 'rang': 6099, 'melnite': 4863, 'ifink': 3952, 'sorted': 6927, 'everythin': 2948, 'mon': 5006, 'l8rs': 4372, '08712402779': 119, 'flip': 3184, 'shun': 6728, 'bian': 1488, 'glass': 3460, 'exhibition': 2981, 'el': 2821, 'nino': 5240, 'cbe': 1868, 'honey': 3819, 'jd': 4171, 'accounts': 900, 'executive': 2976, 'picked': 5687, 'downstem': 2693, '08718730555': 169, 'wahala': 8031, 'inperialmusic': 4045, 'listening2the': 4551, 'weirdest': 8140, 'leafcutter': 4452, 'john': 4208, 'insects': 4048, 'molested': 5001, 'plumbing': 5749, 'remixed': 6237, 'evil': 2952, 'acid': 905, 'didntgive': 2550, 'bellearlier': 1455, 'bedbut': 1432, 'thepub': 7480, 'l8tr': 4373, 'uwana': 7905, 'jenxxx': 4181, 'exact': 2964, '09096102316': 286, '2moro': 458, 'jane': 4156, 'minmoremobsemspobox45po139wa': 4926, 'tee': 7393, 'cheery': 1946, 'cell': 1882, 'thts': 7526, 'dough': 2687, 'control': 2203, '80488': 743, 'weirdo': 8141, 'mode': 4992, 'stalk': 7044, 'profiles': 5957, 'jerry': 4185, 'irritates': 4107, 'fails': 3033, 'express': 3005, 'drinkin': 2712, 'wondering': 8265, 'dog': 2643, 'tour': 7652, '5pm': 648, '95': 836, 'pax': 5593, 'deposit': 2495, 'jap': 4160, 'disappeared': 2591, 'birthdate': 1510, 'certificate': 1891, 'publish': 6008, 'dreams': 2706, 'nydc': 5327, 'wheellock': 8172, 'destination': 2514, 'favour': 3078, 'settling': 6615, 'happenin': 3660, 'ola': 5386, 'cocksuckers': 2076, 'ipads': 4097, 'worthless': 8295, 'garbage': 3380, 'novelty': 5295, 'items': 4124, 'fran': 3269, 'broke': 1683, 'knackered': 4338, 'janx': 4159, 'dads': 2377, 'designation': 2506, 'software': 6884, 'developer': 2524, 'jamster': 4152, 'videosound': 7962, 'gold': 3486, 'videosounds': 7963, 'logos': 4592, 'musicnews': 5101, '09701213186': 294, 'lions': 4540, 'lionm': 4538, 'lionp': 4539, 'ringtones': 6345, 'original': 5457, '3gbp': 528, 'jokin': 4215, 'spirit': 6988, 'bb': 1400, 'shattered': 6650, 'alrite': 1044, 'idiot': 3947, 'girlie': 3450, 'colours': 2101, 'darker': 2394, 'styling': 7175, 'whenevr': 8173, 'gray': 3552, 'remembr': 6230, 'listn': 4552, 'watevr': 8092, 'harry': 3677, 'potter': 5838, 'phoenix': 5670, 'readers': 6127, 'shd': 6653, 'minus': 4931, 'paragraphs': 5548, 'coveragd': 2262, 'vasai': 7928, 'retard': 6308, 'bathroom': 1393, 'sang': 6463, 'uptown': 7867, '80': 731, 'february': 3085, 'rush': 6420, 'icic': 3934, 'syria': 7312, 'canada': 1802, 'cares': 1833, 'goodnoon': 3505, 'gauge': 3389, 'patty': 5589, 'vl': 7993, 'completing': 2140, 'ax': 1307, 'chill': 1975, '6hrs': 692, 'surgical': 7263, 'emergency': 2844, 'unfolds': 7817, 'frens': 3293, 'korean': 4357, 'fredericksburg': 3279, 'que': 6048, 'pases': 5570, 'buen': 1715, 'tiempo': 7536, 'chillin': 1977, 'super': 7243, 'free2day': 3281, 'george': 3422, '89080': 812, 'saucy': 6488, '0870241182716': 90, 'theres': 7481, 'tmrw': 7577, 'compass': 2128, 'soul': 6933, 'gnun': 3471, 'way2sms': 8101, 'baaaaabe': 1321, 'misss': 4950, 'youuuuu': 8411, 'ned': 5175, 'convince': 2210, 'tht': 7525, 'witot': 8235, 'hurting': 3908, 'main': 4742, 'sweetie': 7293, 'blackberry': 1522, 'buyer': 1751, '4a': 588, 'pple': 5850, 'marry': 4790, 'becz': 1430, 'undrstndng': 7814, 'avoids': 1296, 'problems': 5943, 'chain': 1895, 'suffer': 7207, 'whn': 8181, 'arrested': 1195, 'suntec': 7241, 'steamboat': 7083, 'dance': 2384, 'moji': 4998, 'forgive': 3242, 'messenger': 4891, 'reaching': 6123, 'tp': 7656, 'fantasies': 3056, '08707509020': 99, '20p': 409, '1327': 338, 'croydon': 2306, 'cr9': 2269, '5wb': 650, '0870': 78, 'bbq': 1404, '6ish': 693, 'everyso': 2947, 'panicks': 5533, 'bar': 1365, 'write': 8309, 'cover': 2261, 'screen': 6532, 'gently': 3418, 'bears': 1421, 'nick': 5223, 'tom': 7603, 'fact': 3024, 'types': 7769, 'upload': 7860, '08718730666': 170, 'auntie': 1272, 'huai': 3882, 'juan': 4235, 'linerental': 4530, 'lf56': 4489, 'tlk': 7570, 'ideal': 3942, 'path': 5583, 'appear': 1135, 'paths': 5585, 'walking': 8049, 'arm': 1184, 'shot': 6703, 'reserve': 6277, 'thirunelvali': 7500, 'tirunelvali': 7558, 'tackle': 7321, 'storming': 7125, 'phne': 5669, 'wt': 8321, 'meaning': 4837, 'margaret': 4779, 'girlfrnd': 3449, 'grahmbell': 3535, 'invnted': 4088, 'telphone': 7407, 'moral': 5024, '4get': 594, 'popped': 5807, 'tonght': 7616, 'ploughing': 5745, 'pile': 5701, 'ironing': 4105, 'chinky': 1982, 'wi': 8185, 'nz': 5330, 'players': 5733, 'effect': 2808, 'aust': 1276, 'bk': 1520, 'cafe': 1768, 'recharged': 6167, 'kidding': 4313, 'papa': 5540, 'shld': 6684, 'stretch': 7139, 'detailed': 2516, 'sinco': 6759, 'payee': 5599, 'icicibank': 3935, 'urn': 7881, 'beware': 1481, 'frauds': 3274, 'share': 6647, 'disclose': 2597, 'vote': 8004, 'caring': 1834, 'losers': 4620, 'kaiez': 4262, 'option': 5436, 'beta': 1473, 'practicing': 5859, 'babies': 1324, 'noncomittal': 5264, 'beneath': 1465, 'pale': 5526, 'goodnite': 3504, 'msgrcvdhg': 5062, 'snickering': 6870, 'tells': 7405, 'totally': 7646, 'chords': 1995, 'rem': 6223, 'silver': 6751, 'lmao': 4569, 'silence': 6747, 'win150ppmx3age16': 8204, 'exams': 2967, 'revision': 6321, 'boyf': 1628, 'interviw': 4075, 'exeter': 2978, 'spreadsheet': 7018, 'determine': 2518, 'entire': 2884, 'arsenal': 1200, 'dartboard': 2401, 'condition': 2160, 'doubles': 2683, 'trebles': 7691, 'coat': 2070, 'painful': 5522, 'everybody': 2943, 'recognises': 6171, 'wisheds': 8225, 'intrepid': 4077, 'duo': 2754, 'missin': 4946, 'guilty': 3603, 'aiya': 1006, 'cardiff': 1822, 'addie': 928, 'tues': 7730, 'breeze': 1660, 'bright': 1667, 'fresh': 3295, 'twittering': 7752, 'restaurant': 6297, 'textpod': 7447, 'pod': 5776, 'ducking': 2743, 'chinchillas': 1980, 'function': 3343, 'headstart': 3707, 'desperate': 2511, 'rummer': 6414, 'flying': 3203, 'monkeys': 5013, 'certainly': 1890, 'optin': 5435, 'bbc': 1401, 'charts': 1921, 'thanks2': 7455, 'rajini': 6085, 'practical': 5857, 'summers': 7228, 'matched': 4804, 'optout': 5437, 'help08714742804': 3739, 'spys': 7025, 'mails': 4741, 'claire': 2016, '09099725823': 287, 'bought': 1603, 'costing': 2238, 'offering': 5360, 'yalru': 8364, 'lyfu': 4688, 'astne': 1236, 'innu': 4044, 'mundhe': 5090, 'lyf': 4687, 'ali': 1030, 'halla': 3635, 'ke': 4286, 'bilo': 1501, 'program': 5959, 'edhae': 2794, 'ovr': 5496, 'vargu': 7923, 'meow': 4880, 'aah': 854, '09066362231': 264, '07xxxxxxxxx': 51, '06': 21, 'prone': 5975, '07801543489': 39, 'latests': 4424, 'llc': 4567, 'ny': 5325, 'usa': 7883, 'msgrcvd18': 5061, 'permission': 5637, 'lucy': 4671, 'hubby': 3883, 'meetins': 4854, 'cumin': 2339, '09099726395': 288, 'minmobsmorelkpobox177hp51fl': 4925, 'wonders': 8266, '7th': 728, '6th': 698, '5th': 649, '4th': 605, 'personality': 5646, 'nature': 5154, 'dose': 2678, 'tablet': 7319, 'incomm': 4006, 'blake': 1525, 'lotr': 4626, 'keeping': 4288, 'google': 3509, 'maps': 4774, 'tiring': 7556, 'modules': 4996, 'concentrating': 2154, 'browsin': 1697, 'compulsory': 2146, 'purity': 6025, 'musthu': 5103, 'investigate': 4083, 'vomit': 8001, 'aint': 1001, 'sha': 6628, 'vitamin': 7989, 'centre': 1885, 'crucial': 2307, 'jsco': 4231, '2channel': 441, 'leadership': 4448, 'skills': 6791, 'psychic': 6001, 'host': 3849, 'based': 1380, 'idps': 3949, 'linux': 4536, 'systems': 7314, 'total': 7645, 'converter': 2207, 'stars': 7057, 'karaoke': 4276, 'testing': 7432, 'sayy': 6501, 'loved': 4640, 'nit': 5242, 'leanne': 4454, 'file': 3125, 'format': 3251, 'disc': 2596, 'hows': 3869, 'champ': 1898, 'glasgow': 3459, 'lovin': 4648, 'arrive': 1197, 'shortly': 6701, 'install': 4054, 'browse': 1695, 'artists': 1202, 'corect': 2225, 'speling': 6973, 'sarcasm': 6473, '4719': 580, '523': 633, 'forum': 3256, 'ron': 6374, 'cts': 2324, 'employee': 2849, 'aunt': 1271, 'nike': 5235, 'sooo': 6917, 'screaming': 6531, 'shouting': 6708, 'dang': 2388, 'unfortunately': 7818, 'airport': 1004, '7250i': 705, 'auction': 1265, '86021': 785, 'w1jhl': 8020, 'difficult': 2561, 'earliest': 2769, 'nordstrom': 5273, 'konw': 4355, 'waht': 8036, 'rael': 6073, 'gving': 3612, 'yuo': 8424, 'exmpel': 2983, 'jsut': 4234, 'ese': 2917, 'tihs': 7541, 'evrey': 2958, 'splleing': 6998, 'wrnog': 8316, 'sitll': 6777, 'raed': 6072, 'wihtuot': 8195, 'ayn': 1311, 'mitsake': 4958, 'conference': 2164, 'ow': 5499, 'degree': 2462, 'joining': 4211, 'finance': 3138, 'prospects': 5985, 'bleak': 1532, 'filled': 3127, 'shant': 6645, 'jia': 4194, 'bishan': 1512, 'nearer': 5167, 'sux': 7273, 'raiden': 6076, 'buff': 1716, 'south': 6941, 'preferably': 5882, 'kegger': 4290, 'totes': 7647, 'pierre': 5697, 'cardin': 1823, 'costs': 2239, 'rhythm': 6328, 'establish': 2924, 'truro': 7713, 'ext': 3008, 'gas': 3386, 'gang': 3376, 'adventure': 951, 'cloth': 2049, 'pack': 5512, 'tablets': 7320, 'sunroof': 7238, 'excellent': 2968, 'finishing': 3149, 'doors': 2674, 'wifi': 8194, 'blanked': 1528, 'image': 3969, 'rumour': 6415, 'kalainar': 4266, 'thenampet': 7476, '7250': 704, 'nosy': 5283, 'idk': 3948, 'reacting': 6124, 'freaked': 3276, 'satanic': 6480, 'imposter': 3989, 'destiny': 2515, 'companion': 2125, 'chef': 1950, 'listener': 4549, 'organizer': 5454, 'boyfriend': 1629, 'sympathetic': 7309, 'athletic': 1243, 'courageous': 2256, 'determined': 2519, 'dependable': 2492, 'psychologist': 6002, 'pest': 5653, 'exterminator': 3009, 'psychiatrist': 6000, 'healer': 3709, 'stylist': 7177, 'driver': 2717, 'aaniye': 855, 'pudunga': 6010, 'venaam': 7942, 'brothas': 1688, 'chasing': 1923, 'chez': 1959, 'jules': 4239, 'hhahhaahahah': 3760, 'nig': 5226, 'leonardo': 4479, 'kicks': 4311, '2years': 485, 'strain': 7130, 'dime': 2569, 'withdraw': 8232, 'falling': 3044, 'force': 3233, 'smeone': 6843, 'millers': 4911, 'spark': 6956, 'flame': 3172, 'rawring': 6109, 'xoxo': 8344, 'somewhr': 6904, 'crushes': 2312, 'honeymoon': 3821, 'outfit': 5476, 'propose': 5981, '08719899230': 182, 'blame': 1526, 'gods': 3478, 'blessings': 1537, 'cheque': 1952, 'olympics': 5395, 'leo': 4477, 'haul': 3685, 'wildlife': 8200, 'want2come': 8064, 'that2worzels': 7462, 'wizzle': 8238, 'dippeditinadew': 2581, 'lovingly': 4650, 'itwhichturnedinto': 4129, 'gifted': 3441, 'tomeandsaid': 7606, 'shanghai': 6643, 'instead': 4059, 'cya': 2367, 'freezing': 3289, '645': 669, 'rt': 6398, 'pro': 5938, 'ringtoneking': 6344, '08701237397': 83, 'redeemable': 6182, 'thnx': 7506, 'sef': 6565, 'anjie': 1086, 'batch': 1388, 'fring': 3308, 'flaky': 3171, 'sooooo': 6919, 'laughing': 4428, 'winning': 8216, 'tooo': 7626, 'nte': 5303, '09058094599': 210, 'confuses': 2172, 'wating': 8093, 'british': 1678, 'hotels': 3854, 'london': 4598, '02072069400': 11, 'bx': 1759, '526': 635, 'sw73ss': 7277, 'talents': 7338, '6pm': 697, 'animal': 1084, 'buzz': 1756, 'adoring': 941, 'eerie': 2806, 'title': 7562, 'dracula': 2697, 'titles': 7563, 'ghost': 3437, 'addamsfa': 925, 'munsters': 5091, 'exorcist': 2985, 'twilight': 7749, 'brought': 1691, 'shiny': 6671, 'warming': 8071, 'constant': 2188, 'cared': 1827, 'wasn': 8078, 'surprised': 7267, 'french': 3292, 'fooled': 3225, '0a': 295, 'allow': 1039, 'companies': 2124, 'responsible': 6295, 'suppliers': 7249, 'guarantee': 3587, 'comedy': 2109, 'feelin': 3090, 'lnly': 4570, 'moby': 4990, '82242': 753, 'msg150p': 5058, '2rcv': 474, 'hlp': 3787, '08712317606': 113, 'keen': 4287, 'switch': 7301, 'dammit': 2380, 'wright': 8308, 'fly': 3202, 'somewhat': 6902, 'event': 2939, 'laden': 4383, 'wrecked': 8305, 'spontaneously': 7005, 'goodevening': 3498, 'lei': 4471, 'action': 914, '80608': 744, 'movietrivia': 5048, '08712405022': 124, 'waking': 8042, 'partnership': 5566, 'rgent': 6326, 'lookin': 4608, 'daytime': 2416, 'busty': 1744, '09099726429': 289, 'janinexx': 4157, 'inside': 4051, 'spageddies': 6950, 'phasing': 5662, 'fourth': 3262, 'dimension': 2570, 'meaningful': 4838, 'compromised': 2145, 'mornin': 5027, '09050001295': 191, 'a21': 851, 'monthly': 5019, 'mobsi': 4988, '391784': 523, 'dub': 2740, 'je': 4172, 'toughest': 7651, 'unspoken': 7845, 'ideas': 3943, 'sight': 6739, 'remain': 6224, 'maintain': 4743, 'sh': 6627, 'jas': 4162, 'squatting': 7027, 'cramps': 2274, '0089': 4, 'digits': 2566, 'received': 6160, '09063442151': 238, 'nan': 5136, 'sonathaya': 6907, 'soladha': 6888, 'raping': 6103, 'dudes': 2745, 'poker': 5781, 'weightloss': 8138, 'mushy': 5098, 'embarrassed': 2841, 'stash': 7066, 'ran': 6094, 'priya': 5933, 'ordered': 5446, '81303': 749, 'father': 3069, 'messy': 4892, 'kilos': 4321, 'accidant': 889, 'tookplace': 7624, 'ghodbandar': 3436, 'rd': 6118, 'traffic': 7661, 'moves': 5045, 'slovely': 6825, 'slip': 6819, 'wkg': 8242, 'nus': 5316, 'sc': 6502, 'specialise': 6964, 'wad': 8028, 'likes': 4515, 'dislikes': 2606, 'keeps': 4289, 'queen': 6049, 'desparately': 2510, 'fren': 3291, 'promises': 5969, 'gotten': 3522, 'stereo': 7088, 'mi': 4898, 'unknown': 7834, 'album': 1018, '121': 326, '60p': 659, 'connect': 2176, '09094646899': 284, 'vu': 8013, 'bcm1896wc1n3xx': 1409, 'classmates': 2025, 'fires': 3155, 'boys': 1630, '2007': 405, 'pre': 5875, 'trackmarque': 7658, 'vipclub4u': 7977, 'missionary': 4948, 'hook': 3827, 'standing': 7050, 'entertaining': 2882, 'hugh': 3888, 'laurie': 4431, 'stick': 7096, 'praps': 5866, 'jon': 4219, 'bin': 1503, 'spain': 6951, 'dinero': 2574, 'rents': 6249, '000pes': 2, '48': 583, 'james': 4151, 'maangalyam': 4706, 'alaipayuthe': 1016, 'complaining': 2133, 'mandy': 4765, 'sullivan': 7222, 'hotmix': 3856, 'fm': 3205, 'chosen': 1997, 'easter': 2780, 'telephone': 7399, '09041940223': 184, '29': 437, '05': 18, 'transferred': 7673, 'finn': 3151, 'di': 2535, 'bahamas': 1339, 'callfreefone': 1788, '08081560665': 67, 'cruise': 2310, '07786200117': 36, 'calm': 1794, 'downon': 2691, 'theacusations': 7466, 'itxt': 4130, 'iwana': 4134, 'wotu': 8297, 'thew': 7486, 'haventcn': 3694, 'up4': 7851, 'nething': 5198, 'dine': 2572, 'conacted': 2152, '09111030116': 292, 'pobox12n146tf15': 5761, 'social': 6881, 'inspection': 4052, 'nursery': 5313, 'slowly': 6829, 'habit': 3619, 'follow': 3212, 'panren': 5534, 'paru': 5569, 'chuckin': 2004, 'trainners': 7665, 'carryin': 1843, 'bac': 1330, 'schedule': 6511, 'dhanush': 2531, 'needing': 5179, 'stuck': 7156, 'habba': 3618, 'hw': 3917, 'dileep': 2568, 'muchand': 5075, 'contacts': 2192, 'venugopal': 7943, 'mentioned': 4876, 'remembrs': 6231, 'forgets': 3241, 'everytime': 2949, 'mandan': 4763, '07734396839': 31, 'ibh': 3924, 'nokia6600': 5259, 'regarding': 6202, '3230': 507, 'textbook': 7440, 'algorithms': 1029, 'edition': 2796, 'selling': 6577, 'buns': 1729, 'adore': 940, 'invaders': 4080, 'orig': 5456, 'arcade': 1165, 'console': 2187, 'settings': 6612, 'alert': 1021, '09064018838': 247, 'cro1327': 2301, 'atlanta': 1245, 'recharge': 6166, 'created': 2286, 'fills': 3129, 'gaps': 3378, 'holding': 3806, 'arun': 1206, 'transfr': 7674, 'takin': 7335, 'philosophy': 5668, 'intend': 4064, 'iwas': 4135, 'marine': 4781, 'itried2tell': 4128, 'urmom': 7880, 'careabout': 1826, 'foley': 3210, 'exciting': 2971, 'prizes': 5936, 'eye': 3014, '82050': 751, 'desparate': 2509, 'learned': 4456, 'fake': 3038, 'answering': 1103, 'iraq': 4101, 'afghanistan': 967, 'stable': 7038, 'honest': 3816, 'traveling': 7681, '1225': 327, '50award': 620, '3100': 502, 'pai': 5519, 'seh': 6566, 'beer': 1439, 'combine': 2107, 'parts': 5567, 'walsall': 8056, 'tue': 7729, 'terry': 7428, 'jess': 4187, 'sian': 6732, 'ccna': 1871, 'shrek': 6720, 'dirty': 2588, 'fellow': 3098, 'dying': 2763, 'lifting': 4507, 'teresa': 7418, 'package': 5513, 'dec': 2432, 'ld': 4442, 'bam': 1351, 'aid': 996, 'usmle': 7895, 'squishy': 7031, 'mwahs': 5109, 'hottest': 3857, 'g696ga': 3359, 'prominent': 5966, 'cheek': 1942, 'september': 6600, 'husband': 3910, 'hack': 3620, 'backdoor': 1331, 'fraction': 3268, 'neo69': 5192, '09050280520': 197, 'subscribe': 7186, 'dps': 2695, 'bcm': 1408, '8027': 742, 'norm': 5274, 'list': 4545, 'joanna': 4200, 'comingdown': 2115, 'replacement': 6256, 'murali': 5092, 'sts': 7153, 'engalnd': 2866, 'telly': 7406, 'mia': 4899, 'elliot': 2833, 'kissing': 4333, 'upto': 7866, '12mths': 335, '2price': 472, '100txt': 304, 'mth': 5067, 'tooth': 7628, '08001950382': 59, 'd3wv': 2370, 'wipro': 8220, 'matric': 4814, '850': 778, 'toa': 7582, 'payoh': 5603, '650': 671, '08718726970': 162, 'payments': 5602, 'fedex': 3087, 'reception': 6164, 'hate': 3682, 'consensus': 2181, 'entertain': 2881, 'delete': 2469, 'tag': 7325, 'wednesday': 8125, 'skype': 6799, 'laundry': 4430, 'underwear': 7812, 'bras': 1641, 'strewn': 7140, 'pillows': 5702, 'waheed': 8033, 'fathima': 3070, 'mmmm': 4969, 'weaknesses': 8107, 'pushes': 6031, 'knee': 4339, 'exposes': 3004, 'pulls': 6013, 'wicked': 8186, 'supports': 7253, 'srt': 7034, 'thnk': 7504, 'ps3': 5996, 'jontin': 4221, 'nearly': 5168, 'banned': 1361, 'biro': 1508, 'masters': 4801, '09058094594': 208, 'shell': 6658, 'unconsciously': 7804, 'avoiding': 1295, 'unhappy': 7821, 'excuse': 2972, 'jog': 4206, '0776xxxxxxx': 34, '18yrs': 373, '09061743811': 231, 'abta': 877, '326': 509, 'season': 6544, 'lark': 4415, '09090900040': 281, 'extreme': 3012, 'sic': 6734, '7mp': 725, '0870753331018': 100, 'fones': 3221, 'wild': 8198, 'stop2stop': 7114, 'uh': 7780, 'heads': 3705, 'lim': 4520, 'vday': 7933, 'parachute': 5545, 'placed': 5717, '80182': 741, '08452810073': 76, 'table': 7318, 'lambda': 4391, 'build': 1720, 'snowman': 6877, 'angels': 1082, 'snowball': 6875, 'fights': 3121, 'ello': 2834, 'ikea': 3959, 'ofice': 5367, 'cn': 2064, 'duffer': 2747, 'grr': 3579, 'prescription': 5895, 'pharmacy': 5661, 'cook': 2213, 'electricity': 2831, '08715500022': 145, 'rpl': 6393, 'cnl': 2065, 'fffff': 3107, 'kadeem': 4261, 'fujitsu': 3337, 'lifebook': 4501, 'scold': 6515, 'zhong': 8434, 'se': 6540, 'qing': 6043, 'act': 910, 'hypertension': 3920, 'wud': 8327, 'annoyin': 1094, '08702490080': 91, '09066358152': 259, 'prompts': 5974, 'vpod': 8009, 'carry': 1842, 'disturbing': 2614, 'avatar': 1286, 'nigro': 5234, 'scratching': 6528, 'anyplaces': 1114, 'stops': 7119, 'cleaning': 2029, 'priority': 5928, 'constantly': 2189, 'ecstasy': 2791, '09090204448': 280, 'minded': 4919, 'minapn': 4917, 'ls278bb': 4661, 'flies': 3180, 'hittng': 3783, 'reflex': 6193, 'costa': 2237, 'sol': 6887, '09050090044': 196, 'toclaim': 7587, 'pobox334': 5764, 'stockport': 7104, 'max10mins': 4822, 'lousy': 4636, 'cat': 1857, 'woken': 8256, 'hip': 3774, 'adewale': 932, 'aka': 1012, 'egbon': 2812, 'ic': 3931, 'mary': 4794, 'deduct': 2448, 'wrks': 8314, 'monkey': 5011, 'asshole': 1228, 'grab': 3532, 'sliding': 6817, '09065394973': 255, 'payback': 5596, 'honeybee': 3820, 'sweetest': 7291, 'laughed': 4427, 'havnt': 3698, 'crack': 2271, 'tescos': 7429, 'feathery': 3082, 'bowa': 1606, 'infra': 4033, 'nvm': 5321, 'gep': 3423, 'delhi': 2471, 'thinkin': 7494, '2006': 404, 'fifa': 3116, 'held': 3729, '87239': 798, 'boat': 1564, 'moms': 5005, 'shhhhh': 6664, 'related': 6211, 'arul': 1205, 'amk': 1058, '09061743810': 230, 'length': 4474, 'fringe': 3309, 'distract': 2611, 'antha': 1107, 'corrct': 2228, 'dane': 2387, 'basket': 1384, 'proof': 5976, 'rupaul': 6419, '61610': 662, '08712400602450p': 115, 'provided': 5989, 'tones2you': 7614, 'practising': 5861, 'curtsey': 2349, 'yeh': 8379, 'payed2day': 5598, 'havbeen': 3690, 'rise': 6349, '4my': 602, 'havebeen': 3691, 'preschoolco': 5892, 'ordinator': 5447, '2i': 454, 'feelingood': 3092, 'memory': 4871, 'converted': 2206, 'downloads': 2690, 'members': 4867, 'african': 970, 'soil': 6885, 'major': 4745, 'roles': 6369, 'outreach': 5481, 'mel': 4861, 'birth': 1509, '8lb': 821, '7oz': 726, 'brilliantly': 1670, 'forwarding': 3260, 'intention': 4065, 'visitors': 7987, 'rules': 6411, 'responsibility': 6294, 'bend': 1464, 'rule': 6410, 'thia': 7489, 'inlude': 4039, 'previews': 5911, 'freefone': 3284, '08006344447': 64, 'ambrith': 1054, 'madurai': 4725, 'dha': 2530, 'marrge': 4787, 'kitty': 4336, 'shaved': 6651, 'natural': 5153, 'onwards': 5410, 'tactful': 7323, 'tscs': 7722, 'skillgame': 6790, '1winaweek': 394, '150ppermesssubscription': 355, 'theatre': 7468, 'obviously': 5342, 'eggs': 2814, 'pert': 5650, 'crammed': 2273, 'satsgettin': 6485, '47per': 582, 'lie': 4498, 'apologize': 1130, 'pei': 5616, 'kid': 4312, 'boost': 1588, 'subtoitles': 7196, 'sitting': 6780, 'jot': 4225, 'cereals': 1888, 'gari': 3383, 'infernal': 4027, 'affair': 960, 'including': 4004, 'bold2': 1571, 'calicut': 1776, '09094100151': 282, 'cast': 1853, 'aom': 1120, 'gbp5': 3401, 'box61': 1623, 'm60': 4700, '1er': 380, 'thkin': 7502, 'parco': 5552, 'nb': 5160, 'resubbing': 6302, 'shadow': 6630, 'breadstick': 1648, 'ahmad': 994, 'saeed': 6438, 'hallaq': 3636, '09066362220': 263, 'box97n7qp': 1625, 'purple': 6026, 'pink': 5705, 'lyk': 4690, 'yelow': 8382, 'bck': 1407, 'brown': 1692, 'giv': 3453, 'color': 2098, 'arranging': 1194, 'eldest': 2828, 'drugdealer': 2728, 'gender': 3410, 'wither': 8233, '23f': 417, '23g': 418, 'sleepwell': 6811, 'wondarfull': 8262, 'web2mobile': 8115, 'txt250': 7755, 'box139': 1611, 'la32wu': 4377, 'txtx': 7766, 'normally': 5277, 'onbus': 5399, 'donyt': 2671, 'latelyxxx': 4421, '85233': 782, 'mca': 4830, 'rich': 6330, 'justthought': 4254, 'sayhey': 6497, 'endof': 2857, 'offdam': 5356, 'nevamind': 5205, '2hook': 452, 'uwant': 7906, 'm8': 4701, 'official': 5364, 'flag': 3169, 'yer': 8386, '84199': 775, 'eng': 2863, 'box39822': 1618, 'w111wx': 8015, 'yor': 8401, 'stressed': 7136, 'jason': 4163, 'soooo': 6918, 'provider': 5990, 'tming': 7573, 'subs': 7184, 'cutest': 2361, 'dice': 2542, 'art': 1201, 'inclusive': 4005, '08700469649': 80, 'box420': 1620, 'howda': 3867, 'mathe': 4809, 'samachara': 6457, 'audrie': 1269, 'autocorrect': 1280, 'simulate': 6758, 'readiness': 6128, 'armand': 1185, 'vomiting': 8003, 'rub': 6403, 'feet': 3096, 'lara': 4411, 'supplies': 7250, 'clever': 2035, 'guesses': 3596, 'attach': 1250, '087123002209am': 112, 'med': 4846, 'stamped': 7046, '113': 314, 'bray': 1644, 'wicklow': 8188, 'eire': 2820, 'washob': 8077, 'nobbing': 5251, 'nickey': 5224, 'platt': 5729, 'ryan': 6426, 'vikky': 7967, 'idew': 3946, 'argh': 1175, 'spotty': 7015, 'province': 5992, 'sterling': 7090, 'looked': 4607, 'xam': 8338, 'hall': 3634, 'manage': 4757, 'hesitation': 3755, 'intha': 4076, 'ponnungale': 5796, 'ipaditan': 4096, 'rejected': 6210, 'shitload': 6681, 'diamonds': 2540, 'tessy': 7430, 'favor': 3076, 'nimya': 5238, 'shijas': 6666, 'aunty': 1275, 'china': 1978, 'noisy': 5256, 'needa': 5177, 'mcat': 4831, 'manual': 4771, 'reset': 6280, 'troubleshooting': 7705, 'b4u': 1316, '27': 431, 'marsms': 4791, 'b4utele': 1317, '08717168528': 148, 'strongly': 7149, 'sacrifice': 6435, 'beg': 1443, 'expecting': 2989, 'creativity': 2288, 'stifled': 7098, 'morphine': 5030, 'requirements': 6271, 'stayin': 7074, '2getha': 448, 'buffy': 1718, 'satisfy': 6484, 'pix': 5712, 'qlynnbv': 6045, 'help08700621170150p': 3738, '30': 488, 'cld': 2027, 'prefer': 5881, 'nosh': 5282, 'waaaat': 8027, 'lololo': 4596, 'occupied': 5344, 'kindly': 4324, 'documents': 2636, 'submitted': 7181, 'stapati': 7052, 'miles': 4909, 'cutie': 2362, 'hills': 3770, 'killed': 4318, 'colleagues': 2091, 'sed': 6559, 'mood': 5022, 'minuts': 4934, 'latr': 4425, 'kidz': 4315, 'sofa': 6882, 'honesty': 3818, 'specialisation': 6963, 'labor': 4379, 'shakara': 6635, 'beggar': 1444, 'smashed': 6839, 'dent': 2485, 'crickiting': 2298, 'imin': 3976, 'dontmatter': 2669, 'urgoin': 7876, 'outl8r': 5479, 'reallyneed': 6141, '2docd': 443, 'dontplease': 2670, 'dontignore': 2668, 'mycalls': 5110, 'thecd': 7469, 'isv': 4121, 'tome': 7605, 'yavnt': 8370, 'popping': 5808, 'ibuprofens': 3930, 'sip': 6767, 'ps': 5995, 'grown': 3577, 'chinatown': 1979, 'porridge': 5810, 'claypot': 2026, 'yam': 8365, 'fishhead': 3159, 'beehoon': 1437, 'tok': 7594, 'specific': 6966, 'jaklin': 4149, 'nearby': 5166, 'cliffs': 2038, '49': 586, 'ntwk': 5306, 'bundle': 1727, 'deals': 2425, 'avble': 1287, 'mf': 4895, 'pages': 5518, 'figures': 3123, 'ooh': 5412, '4got': 596, 'moseley': 5032, 'weds': 8126, 'thankyou': 7458, 'pending': 5620, 'aluable': 1048, 'ffectionate': 3106, 'oveable': 5489, 'ternal': 7423, 'oble': 5339, 'ruthful': 6422, 'ntimate': 5304, 'atural': 1264, 'namous': 5135, 'textin': 7444, 'cousin': 2260, 'frndship': 3314, 'excuses': 2974, 'raji': 6084, 'legs': 4469, 'neck': 5173, 'amigos': 1057, 'burn': 1734, 'progress': 5961, 'continue': 2199, 'holy': 3812, 'weren': 8155, 'arty': 1204, 'collages': 2089, 'tryin': 7718, 'billion': 1498, 'classes': 2023, '2hrs': 453, 'waliking': 8044, 'cartons': 1845, 'shelves': 6659, '08714712379': 132, 'distance': 2610, 'mirror': 4936, 'youre': 8408, 'turning': 7742, 'freak': 3275, 'ref': 6186, 'k718': 4259, '09065069120': 250, 'jod': 4205, 'keris': 4297, 'smidgin': 6844, 'belive': 1453, 'intentions': 4066, 'slots': 6824, 'accordin': 896, 'discussed': 2603, 'knocking': 4344, 'como': 2122, 'listened2the': 4548, 'plaid': 5720, 'air1': 1003, 'hilarious': 3768, 'braindance': 1635, 'ofstuff': 5369, 'aphex': 1125, 'abel': 862, 'hav2hear': 3688, 'nelson': 5191, 'temp': 7410, 'unmits': 7838, 'display': 2609, 'newspapers': 5217, 'soup': 6938, 'yummmm': 8420, 'management': 4760, 'puzzeles': 6036, 'include': 4002, '4goten': 597, 'scammers': 6504, 'regular': 6209, 'prem': 5883, '2morro': 460, 'passion': 5575, '09099726481': 290, 'dena': 2482, 'spoiled': 7000, 'r836': 6067, '09065069154': 251, 'threats': 7515, 'sales': 6450, 'shifad': 6665, 'raised': 6081, 'complaint': 2134, 'doctors': 2635, 'reminds': 6236, 'lounge': 4635, 'lk': 4564, 'role': 6368, 'lov': 4637, 'tolerat': 7601, 'bcs': 1413, 'comfort': 2112, 'checked': 1937, 'splashmobile': 6994, 'subscrition': 7194, '300p': 493, 'dust': 2758, 'u4': 7773, '01223585334': 7, '2c': 440, 'shagged': 6632, '8552': 783, '2end': 444, '88877': 808, '88066': 802, '3pound': 536, 'watchin': 8087, 'meaningless': 4839, 'brdget': 1646, 'jones': 4220, 'inever': 4024, 'hype': 3919, '700': 702, 'studio': 7162, 'bedrm': 1434, 'unable': 7795, 'waited': 8038, 'velly': 7940, 'wkend': 8240, 'huge': 3886, 'marking': 4785, 'letters': 4487, 'mids': 4904, 'oranges': 5442, 'upd8': 7853, '2stoptx': 476, 'annie': 1089, 'remind': 6232, '08718738034': 173, '21870000': 411, 'mailbox': 4739, 'messaging': 4889, '09056242159': 199, 'retrieve': 6310, 'va': 7908, 'hrishi': 3876, 'nothin': 5287, 'hanger': 3650, 'poem': 5777, 'cheer': 1943, 'tear': 7386, 'duchess': 2742, 'cornwall': 2226, '008704050406': 3, 'arrow': 1199, 'bags': 1338, 'blanket': 1529, '08718726971': 163, 'tddnewsletter': 7377, 'emc1': 2843, 'thedailydraw': 7470, 'dozens': 2694, 'prizeswith': 5937, 'significant': 6743, 'waqt': 8069, 'pehle': 5615, 'naseeb': 5143, 'zyada': 8440, 'kisi': 4330, 'ko': 4350, 'kuch': 4364, 'nahi': 5125, 'milta': 4914, 'zindgi': 8435, 'wo': 8252, 'jo': 4199, 'hum': 3893, 'sochte': 6880, 'jeetey': 4175, 'worse': 8292, 'stalking': 7045, 'dan': 2382, 'reminded': 6233, 'varaya': 7922, 'elaya': 2827, '09066368753': 270, '97n7qp': 839, 'anand': 1076, 'beach': 1418, 'expected': 2988, 'aww': 1305, 'jez': 4192, 'iscoming': 4112, 'todo': 7590, 'workand': 8280, 'whilltake': 8178, 'zogtorius': 8437, 'staring': 7055, 'financial': 3139, 'alian': 1031, 'or2optout': 5438, 'hv9d': 3915, 'posible': 5818, 'century': 1886, 'cm': 2060, 'frwd': 3326, 'unnecessarily': 7839, 'affectionate': 963, 'sorts': 6929, 'restrictions': 6301, 'buddys': 1713, '80082': 736, '08712402902': 120, 'owned': 5503, 'possessive': 5823, 'clarification': 2017, 'spook': 7006, 'halloween': 3637, '08701417012150p': 85, 'issue': 4119, 'weigh': 8135, 'fantasy': 3058, 'football': 3228, 'sky': 6797, 'gamestar': 3373, 'active': 917, '250k': 425, 'scoring': 6520, '88088': 803, 'coimbatore': 2081, 'expired': 2996, 'monoc': 5015, 'monos': 5016, 'polyc': 5790, 'stream': 7133, '0871212025016': 110, 'opinions': 5426, 'categories': 1861, 'measure': 4842, 'ethnicity': 2926, 'census': 1883, 'transcribing': 7670, 'propsd': 5983, 'gv': 3611, 'lv': 4685, 'lttrs': 4665, 'threw': 7516, 'thm': 7503, 'aproach': 1158, 'dt': 2738, 'truck': 7708, 'speeding': 6972, 'wn': 8249, 'instantly': 4058, 'thy': 7531, 'lived': 4559, 'happily': 3665, '2gthr': 451, 'drinking': 2713, 'evrydy': 2961, 'paragon': 5547, 'arent': 1170, 'cakes': 1771, 'bluff': 1559, 'impossible': 3988, 'draws': 2703, 'goodmate': 3501, 'sary': 6477, 'asusual': 1241, 'cheered': 1944, 'franyxxxxx': 3273, 'batt': 1395, 'added': 926, 'pussy': 6032, 'becausethey': 1428, '09058098002': 215, 'pobox1': 5759, 'w14rg': 8016, 'responce': 6289, 'happend': 3658, 'piece': 5695, 'wiskey': 8230, 'brandy': 1640, 'rum': 6412, 'gin': 3447, 'vodka': 7996, 'scotch': 6521, 'shampain': 6641, 'kudi': 4365, 'yarasu': 8368, 'dhina': 2532, 'vaazhthukkal': 7909, 'gained': 3365, 'kg': 4304, 'sugar': 7213, 'pressure': 5904, 'limits': 4524, 'dumb': 2749, 'thangam': 7452, 'okey': 5381, 'doke': 2655, 'dressed': 2709, 'laying': 4438, 'kills': 4320, 'neshanth': 5194, 'byatch': 1762, 'whassup': 8167, 'kay': 4283, 'roger': 6367, 'cl': 2012, 'nasty': 5144, 'filthyguys': 3134, 'slo': 6822, '4msgs': 600, 'wasted': 8081, 'chiong': 1984, 'christ': 1999, 'dialogue': 2538, 'reltnship': 6222, 'wipe': 8219, 'tears': 7387, 'solve': 6891, 'murdered': 5094, 'police': 5785, 'questioned': 6053, 'cooking': 2216, 'gardener': 3382, 'vegetables': 7936, 'maid': 4737, 'neighbour': 5190, 'murderer': 5095, 'brilliant': 1669, 'pose': 5816, 'comb': 2105, 'dryer': 2736, 'fps': 3266, 'computational': 2147, 'science': 6514, 'push': 6029, 'answered': 1101, 'madam': 4721, 'disturbance': 2613, 'dlf': 2624, 'premarica': 5884, 'rgds': 6325, 'gotto': 3523, '220cm2': 415, 'settle': 6613, 'err': 2907, '8pm': 823, 'bloo': 1548, 'hitter': 3782, 'offline': 5366, 'anjola': 1087, 'asjesus': 1215, 'wrote': 8319, 'indians': 4020, 'swiss': 7300, 'directors': 2585, 'lac': 4380, 'crore': 2302, 'deposited': 2496, 'taxless': 7368, 'budget': 1714, 'jobs': 4202, 'lane': 4402, 'suply': 7247, 'projects': 5963, 'citizen': 2009, 'imf': 3974, 'blocked': 1541, 'politicians': 5786, 'rights': 6337, 'corrupt': 2232, 'itna': 4127, 'karo': 4278, 'ki': 4306, 'pura': 6021, 'padhe': 5516, 'torrents': 7638, 'particularly': 5563, 'slowing': 6828, 'commit': 2119, 'random': 6095, '83370': 766, 'trivia': 7702, 'rightio': 6335, 'brum': 1699, 'donno': 2665, 'scorable': 6517, 'paranoid': 5549, 'brin': 1671, 'properly': 5979, 'sheet': 6654, 'complain': 2132, 'bettr': 1478, 'bsnl': 1703, 'offc': 5354, 'payed': 5597, 'suganya': 7212, 'dessert': 2513, 'abeg': 861, 'sponsors': 7004, 'onum': 5409, 'poet': 5778, 'imagination': 3971, 'rr': 6395, 'famamus': 3047, '630': 667, 'sry': 7035, 'furniture': 3352, 'lock': 4581, 'locks': 4582, 'key': 4299, 'jenne': 4179, 'easiest': 2776, 'barcelona': 1367, 'ru': 6402, 'sppok': 7017, '09066612661': 273, 'complementary': 2135, 'wa14': 8026, '2px': 473, 'pansy': 5535, 'jungle': 4246, 'kanji': 4273, 'srs': 7032, 'drizzling': 2720, 'appointments': 1145, 'shoving': 6710, 'papers': 5542, 'greetings': 3563, 'excused': 2973, 'drama': 2698, 'struggling': 7152, 'strange': 7131, 'ego': 2815, 'necessity': 5172, 'reppurcussions': 6264, 'released': 6217, 'cosign': 2235, 'hvae': 3916, '09061701444': 223, 'acl03530150pm': 907, 'hcl': 3699, 'requires': 6272, 'freshers': 3296, 'suman': 7225, 'telephonic': 7400, 'indyarocks': 4023, 'dai': 2378, 'resume': 6306, 'cars': 1844, 'bids': 1491, 'reliant': 6218, 'fwiw': 3356, 'afford': 966, 'happens': 3662, 'whr': 8184, 'maga': 4727, 'sq825': 7026, 'arrival': 1196, 'yunny': 8423, 'citylink': 2011, 'er': 2900, 'props': 5982, 'pleasant': 5738, 'statements': 7069, '6230': 664, '83383': 767, 'pobox114': 5760, '14tcr': 347, 'bognor': 1569, 'splendid': 6996, 'ktv': 4363, 'misplaced': 4942, 'computers': 2150, 'mmmmm': 4970, 'medicine': 4848, 'begun': 1448, 'registration': 6206, 'permanent': 5636, 'residency': 6281, 'plenty': 5743, 'relatives': 6214, 'deliver': 2473, 'risks': 6351, 'benefits': 1467, 'predicting': 5878, 'accumulation': 901, 'programs': 5960, 'belongs': 1459, 'fated': 3068, 'shoranur': 6694, 'incident': 4000, 'fuelled': 3336, 'concern': 2156, 'prior': 5927, 'grief': 3564, 'violence': 7974, 'environment': 2894, 'terrific': 7425, 'text82228': 7438, 'txt82228': 7757, 'honestly': 3817, 'promptly': 5973, 'burnt': 1737, 'advice': 953, 'snap': 6865, 'quizclub': 6063, '80122300p': 738, 'rwm': 6425, '08704050406': 93, 'gmw': 3467, 'connected': 2177, 'someplace': 6897, 'goods': 3507, 'pressies': 5903, 'dr': 2696, 'superior': 7245, 'ultimately': 7788, 'tor': 7636, 'motive': 5037, 'tui': 7732, 'achieve': 904, 'korli': 4358, 'dock': 2631, 'rolled': 6370, 'newscaster': 5215, 'dabbles': 2373, 'flute': 3201, 'wheel': 8171, 'amazing': 1052, 'picsfree1': 5691, 'vid': 7957, 'keyword': 4302, 'ruin': 6408, 'erm': 2904, 'the4th': 7465, 'october': 5350, '83435': 768, 'elaborating': 2824, 'safety': 6441, 'aspects': 1225, 'issues': 4120, 'tarot': 7355, '85555': 784, 'department': 2491, 'hr': 3875, 'conform': 2170, 'horniest': 3841, 'instructions': 4061, '3lp': 531, 'flow': 3194, 'developed': 2523, 'ovarian': 5488, 'cysts': 2369, 'bc': 1405, 'shrink': 6721, 'upping': 7862, 'grams': 3537, 'timin': 7549, 'apes': 1123, 'death': 2430, 'ibm': 3927, 'hp': 3872, 'toshiba': 7642, 'gosh': 3512, 'spose': 7013, 'rimac': 6339, 'arestaurant': 1171, 'squid': 7030, 'dosomething': 2679, 'wrk': 8311, 'dabooks': 2374, 'hrs': 3877, 'eachother': 2766, 'luckily': 4668, 'starring': 7056, 'restocked': 6299, 'knock': 4343, 'tkls': 7568, 'stoptxtstop': 7121, 'innocent': 4043, 'mental': 4874, 'smoothly': 6856, 'hoped': 3832, 'bills': 1499, 'challenging': 1897, '2marrow': 457, 'hon': 3815, 'breakfast': 1651, 'hamper': 3639, 'cc100p': 1870, 'reality': 6136, '0870737910216yrs': 97, 'unni': 7840, 'lacking': 4381, 'particular': 5562, 'dramastorm': 2699, 'forfeit': 3239, 'treated': 7688, 'digi': 2564, 'fab': 3019, 'coupla': 2253, 'wks': 8245, '077xxx': 37, '09066362206': 262, 'sundayish': 7234, 'prasad': 5867, 'tiwary': 7564, 'rcb': 6113, 'battle': 1397, 'bang': 1355, 'kochi': 4351, 'cancer': 1808, 'checkup': 1941, 'pap': 5539, 'smear': 6840, 'gobi': 3476, 'arts': 1203, 'pandy': 5531, '4w': 611, 'technologies': 7392, 'olowoyey': 5394, 'usc': 7885, 'edu': 2798, 'argentina': 1174, 'secretary': 6551, 'taxt': 7369, 'massage': 4797, 'tie': 7535, 'pos': 5815, 'lool': 4611, 'dollar': 2658, 'pull': 6011, 'spending': 6978, 'shaking': 6638, 'booty': 1589, 'lil': 4518, 'scarcasim': 6505, 'naal': 5120, 'eruku': 2911, 'w4': 8022, '5wq': 653, 'remains': 6225, 'bro': 1680, 'bros': 1686, 'impressively': 3993, 'sensible': 6592, '69696': 680, 'response': 6292, 'nalla': 5128, 'obedient': 5335, 'ft': 3328, 'combination': 2106, 'needy': 5182, 'pouts': 5845, 'stomps': 7107, 'northampton': 5279, 'abj': 867, 'serving': 6608, 'playng': 5736, 'mcfly': 4832, 'ab': 858, 'sara': 6471, 'jorge': 4223, 'smith': 6850, 'anna': 1088, 'nagar': 5123, 'yupz': 8427, 'ericson': 2902, 'der': 2500, 'luks': 4673, 'modl': 4994, 'cheesy': 1948, 'frosty': 3324, 'witin': 8234, 'sports': 7011, 'fans': 3055, '0870141701216': 86, '120p': 325, '10th': 311, 'sept': 6599, '09050000555': 188, 'ba128nnfwfly150ppm': 1319, 'shirts': 6676, 'nudist': 5308, 'themed': 7473, 'pump': 6014, 'petrol': 5657, 'feb': 3084, 'ignore': 3955, 'evr': 2957, 'signal': 6741, 'unusual': 7850, 'hugs': 3889, 'snogs': 6871, 'west': 8159, 'palm': 5527, 'printing': 5926, 'handing': 3643, 'uks': 7786, 'fastest': 3066, 'growing': 3576, '83021': 757, 'chase': 1922, 'stated': 7067, 'tariffs': 7354, '2stoptxt': 477, 'perpetual': 5639, 'dd': 2420, 'steam': 7082, 'reg': 6199, 'pract': 5856, 'flung': 3199, 'public': 6007, 'govt': 3525, 'instituitions': 4060, 'justbeen': 4251, 'overa': 5490, 'brains': 1637, 'mush': 5097, 'tunde': 7736, 'missions': 4949, 'luxury': 4684, 'canary': 1804, '20m12aq': 408, 'eh74rr': 2817, 'sleepy': 6812, 'dare': 2392, 'ben': 1463, 'mag': 4726, 'avo': 1293, 'middle': 4902, 'crashed': 2277, 'cuddled': 2333, 'chachi': 1893, 'pl': 5715, 'tiz': 7566, 'kanagu': 4271, 'prices': 5916, 'ringing': 6341, 'houseful': 3862, 'brats': 1642, 'pulling': 6012, 'diwali': 2619, 'tick': 7532, 'onion': 5404, 'derp': 2502, 'abusers': 880, 'lipo': 4542, 'netflix': 5197, 'thgt': 7488, 'clash': 2021, 'arr': 1192, 'oscar': 5463, 'rebtel': 6153, 'firefox': 3153, 'lower': 4653, '69969': 688, 'bcmsfwc1n3xx': 1411, 'impressed': 3991, 'funs': 3351, 'footy': 3232, 'stadium': 7039, 'large': 4413, 'coca': 2072, 'cola': 2085, 'dark': 2393, 'teenager': 7394, 'exhaust': 2979, 'replacing': 6257, 'mittelschmertz': 4959, 'paracetamol': 5544, 'pee': 5613, 'arrived': 1198, 'cthen': 2322, 'enuff': 2892, 'conclusion': 2159, 'contents': 2197, 'references': 6188, 'success': 7197, 'instant': 4057, '08715203028': 137, '9th': 848, 'rugby': 6407, 'affidavit': 965, 'twiggs': 7748, 'division': 2617, 'courtroom': 2259, 'creep': 2292, 'showers': 6714, 'possessiveness': 5824, 'poured': 5843, 'lies': 4499, 'golden': 3488, 'lasting': 4418, 'mobs': 4987, 'breathe1': 1657, 'crazyin': 2283, 'sleepingwith': 6809, 'finest': 3143, 'ymca': 8397, 'pobox365o4w45wq': 5766, 'wtc': 8322, 'weiyi': 8143, 'property': 5980, 'interflora': 4069, 'flowers': 3196, '505060': 619, 'teeth': 7395, 'paining': 5523, 'romcapspam': 6373, 'presence': 5896, 'outgoing': 5478, 'maggi': 4729, 'mee': 4850, '08712103738': 109, 'cough': 2244, '09058099801': 216, 'b4190604': 1314, '7876150ppm': 720, 'bbd': 1402, 'pooja': 5798, 'pimples': 5703, 'sweatter': 7289, 'ambitious': 1053, 'miiiiiiissssssssss': 4905, 'tunji': 7738, 'iz': 4137, 'yellow': 8381, 'misscall': 4944, 'frndz': 3317, '6missed': 694, 'frog': 3320, 'mad1': 4719, 'mad2': 4720, '88888': 809, 'tall': 7345, 'doubt': 2685, 'handle': 3644, 'note': 5284, 'robs': 6360, 'avenge': 1289, 'japanese': 4161, 'proverb': 5988, 'strike': 7142, 'choices': 1991, 'toss': 7643, 'coin': 2082, 'gudni8': 3591, 'dancin': 2385, 'explicitly': 3001, 'nora': 5271, 'gayle': 3394, 'crucify': 2308, 'moved': 5044, 'butting': 1748, 'freedom': 3282, 'vs': 8011, 'cedar': 1875, 'durham': 2756, 'reserved': 6278, 'seat': 6545, 'porn': 5809, '69855': 682, 'stopbcm': 7115, 'sf': 6625, 'painting': 5524, 'wall': 8051, 'printer': 5925, 'groovy': 3571, 'groovying': 3572, 'harish': 3674, 'transfred': 7675, 'acnt': 908, 'nowadays': 5298, 'showrooms': 6717, 'shaping': 6646, 'attending': 1257, 'talks': 7344, 'probs': 5947, 'doinat': 2652, 'callon': 1791, 'swatch': 7284, 'ganesh': 3375, 'dress': 2708, 'pdate_now': 5607, 'yhl': 8392, 'collecting': 2094, 'configure': 2166, 'trips': 7699, 'anal': 1074, 'pears': 5612, 'helloooo': 3736, 'welcomes': 8145, 'celebrate': 1878, 'oooooh': 5414, '09058094454': 203, '54': 638, 'resubmit': 6303, 'expiry': 2998, '2geva': 449, 'mint': 4930, 'humans': 3895, 'studyn': 7165, 'wuld': 8329, 'everyboy': 2944, 'xxxxxxxx': 8356, 'solved': 6892, '1thing': 391, 'answr': 1105, 'liquor': 4544, 'flaked': 3170, 'loko': 4593, '730': 706, 'lined': 4529, 'tm': 7572, 'ing': 4035, 'laughs': 4429, 'fireplace': 3154, 'icon': 3938, '08712400200': 114, 'fifth': 3117, 'woozles': 8274, 'weasels': 8112, '08718723815': 158, 'gary': 3385, 'machines': 4713, 'fucks': 3334, 'sake': 6445, 'ignorant': 3954, 'mys': 5114, 'bruce': 1698, 'downs': 2692, 'fletcher': 3178, '08714714011': 136, 'teaching': 7383, 'bowls': 1608, 'cozy': 2265, 'buzzzz': 1757, 'chest': 1956, 'vibrator': 7953, 'shake': 6636, 'covers': 2263, 'trends': 7694, 'pros': 5984, 'cons': 2180, 'brief': 1666, 'description': 2503, 'nuclear': 5307, 'fusion': 3353, 'history': 3777, 'iter': 4125, 'jet': 4189, 'ikno': 3960, 'doesdiscount': 2640, 'shitinnit': 6680, 'jabo': 4141, 'abi': 864, 'slower': 6827, 'maniac': 4769, 'sapna': 6469, 'manege': 4767, 'hogidhe': 3799, 'chinnu': 1983, 'swalpa': 7278, 'agidhane': 985, 'footbl': 3229, 'crckt': 2284, 'swell': 7295, 'tim': 7545, 'bollox': 1572, 'tol': 7597, 'hang': 3649, 'ingredients': 4036, 'pocy': 5775, 'bell': 1454, 'non': 5263, '4qf2': 603, 'senor': 6588, 'giggle': 3443, 'possibly': 5827, 'person2die': 5644, 'nvq': 5322, 'professional': 5954, 'tiger': 7537, 'woods': 8270, 'reboot': 6151, 'grinder': 3565, 'pt2': 6003, 'buyers': 1752, 'figuring': 3124, 'entirely': 2885, 'understood': 7811, 'phoned': 5674, 'disconnected': 2599, 'onluy': 5406, 'matters': 4817, 'offcampus': 5355, 'improved': 3995, 'riley': 6338, 'ew': 2962, 'wesley': 8157, 'lingo': 4533, '400mins': 546, 'j5q': 4139, 'hm': 3788, '69200': 678, 'chrgd': 1998, '2exit': 445, 'salon': 6454, 'approaching': 1149, 'sankranti': 6465, 'republic': 6266, 'shivratri': 6683, 'ugadi': 7777, 'fools': 3226, 'independence': 4015, 'teachers': 7381, 'childrens': 1973, 'festival': 3102, 'dasara': 2403, 'mornings': 5029, 'afternoons': 974, 'evenings': 2938, 'rememberi': 6229, 'raj': 6082, 'joys': 4228, 'lifeis': 4502, 'daywith': 2417, 'somewheresomeone': 6903, 'tosend': 7641, 'greeting': 3562, 'selflessness': 6575, 'initiate': 4037, 'tallent': 7347, 'wasting': 8082, 'payment': 5601, 'portal': 5812, 't4get2text': 7315, 'lennon': 4476, 'bothering': 1601, 'crab': 2270, 'shore': 6695, 'waves': 8099, 'footprints': 3231, 'clearing': 2033, 'fox': 3265, 'frndsship': 3316, 'dwn': 2762, 'slaaaaave': 6802, 'summon': 7229, '33': 510, 'changes': 1905, 'appendix': 1136, 'range': 6100, 'slob': 6823, 'smiled': 6846, 'topic': 7631, 'webpage': 8118, 'yeesh': 8378, 'unsubscribed': 7848, 'hunks': 3900, 'gotbabes': 3518, 'subscriptions': 7192, 'gopalettan': 3510, 'participate': 5561, 'admin': 935, 'abroad': 871, 'xxsp': 8348, 'visionsms': 7983, 'stopcost': 7116, '08712400603': 116, 'agent': 982, 'goodies': 3500, 'mat': 4802, 'ay': 1310, 'andros': 1081, 'steal': 7080, 'isaiah': 4111, 'meets': 4855, 'foot': 3227, 'penis': 5621, 'expert': 2995, 'sigh': 6737, 'thinl': 7498, 'importantly': 3986, 'tightly': 7539, 'wnevr': 8250, 'fal': 3040, 'vth': 8012, 'books': 1585, 'fals': 3046, 'yen': 8383, 'madodu': 4722, 'nav': 5158, 'pretsorginta': 5907, 'nammanna': 5134, 'pretsovru': 5908, 'alwa': 1049, 'eveb': 2936, 'window': 8206, 'lord': 4618, 'rings': 6342, 'soundtrack': 6937, 'stdtxtrate': 7078, 'sg': 6626, 'phyhcmk': 5682, 'pc1323': 5606, 'emigrated': 2846, 'hopeful': 3833, 'olol': 5393, 'stagwood': 7042, 'winterstone': 8218, 'victors': 7956, 'hill': 3769, 'jp': 4229, 'mofo': 4997, 'pathaya': 5584, 'enketa': 2874, 'maraikara': 4775, 'priest': 5918, 'reserves': 6279, 'intrude': 4079, 'walkabout': 8046, 'cashed': 1850, 'announced': 1092, 'blog': 1542, '28th': 435, 'removal': 6238, '08708034412': 102, 'prove': 5987, 'footie': 3230, 'blow': 1552, 'phil': 5666, 'neville': 5207, 'abbey': 859, 'returning': 6313, 'knowing': 4346, 'punj': 6018, 'str8': 7128, 'classic': 2024, '200p': 406, 'thurs': 7528, 'cancelled': 1807, 'sacked': 6434, 'lookatme': 4606, 'clip': 2039, '35p': 514, 'mmsto': 4973, '32323': 508, 'barred': 1374, 'twat': 7746, 'dungerees': 2752, 'decking': 2443, 'punch': 6015, 'mentionned': 4877, 'vat': 7929, 'planned': 5725, 'grl': 3568, 'hogolo': 3801, 'kodstini': 4352, 'agalla': 977, 'madstini': 4724, 'hogli': 3800, 'mutai': 5105, 'eerulli': 2807, 'kodthini': 4353, 'thasa': 7461, 'messed': 4890, 'shudvetold': 6726, 'urgran': 7877, 'neway': 5210, 'illspeak': 3966, 'u2moro': 7772, 'tex': 7434, 'mecause': 4845, 'werebored': 8154, 'okden': 5380, 'uin': 7782, 'likeyour': 4516, 'gr8fun': 3530, 'updat': 7854, 'countinlots': 2250, 'xxxxx': 8353, 'tagged': 7326, 'count': 2248, 'challenge': 1896, 'hdd': 3700, 'casing': 1852, 'opened': 5418, '09053750005': 198, '310303': 503, '08718725756': 159, '140ppm': 343, 'asus': 1240, 'randomly': 6097, 'reformat': 6194, 'otside': 5468, 'plumbers': 5748, 'tape': 7353, 'wrench': 8306, 'bcum': 1414, 'films': 3131, 'appeal': 1134, 'thriller': 7517, 'director': 2584, 'size': 6784, 'elephant': 2832, 'shove': 6709, 'um': 7790, 'cr': 2267, 'pookie': 5799, 'wouldn': 8301, 'nri': 5301, '08712101358': 108, 'x2': 8334, 'deserve': 2505, 'tight': 7538, 'lick': 4495, 'diddy': 2547, 'neighbor': 5188, 'toothpaste': 7629, 'av': 1281, 'poking': 5782, 'everyday': 2945, 'curious': 2345, 'coccooning': 2073, 'auto': 1279, 'mus': 5096, 'newquay': 5213, 'postcard': 5830, '1im': 382, 'talkin': 7342, 'bread': 1647, 'windy': 8209, '09066358361': 260, 'y87': 8359, 'mahal': 4734, 'tirunelvai': 7557, 'dusk': 2757, 'puzzles': 6037, 'x29': 8335, '09065989180': 256, 'stairs': 7043, 'phews': 5665, 'relation': 6212, 'luvs': 4682, 'praying': 5873, 'recycling': 6180, 'earning': 2772, 'toledo': 7599, 'ding': 2575, 'tai': 7328, 'feng': 3101, 'reservations': 6276, 'swimsuit': 7298, 'allowed': 1040, 'necessary': 5171, 'watever': 8091, 'shared': 6648, 'squeeeeeze': 7028, 'hug': 3885, 'lik': 4511, 'frndshp': 3315, 'luvd': 4681, 'asks': 1221, 'volcanoes': 8000, 'erupt': 2912, 'arise': 1181, 'hurricanes': 3904, 'sway': 7285, 'aroundn': 1191, 'disasters': 2594, 'lighters': 4509, 'lasagna': 4416, 'chickened': 1965, 'messaged': 4887, 'woould': 8273, '08718726978': 164, 'deus': 2521, '44': 563, '7732584351': 717, '3510i': 513, 'deliveredtomorrow': 2475, '300': 489, 'tap': 7352, 'spile': 6984, 'broad': 1681, 'canal': 1803, 'engin': 2867, 'edge': 2793, 'raviyog': 6108, 'peripherals': 5635, 'bhayandar': 1487, 'east': 2778, 'sunoco': 7237, 'howard': 3866, 'musical': 5100, 'plate': 5728, 'leftovers': 4465, 'starving': 7064, 'cooked': 2214, 'cheat': 1932, 'fatty': 3072, 'badrith': 1336, 'owe': 5500, 'checkin': 1938, 'block': 1540, 'armenia': 1186, 'swann': 7280, '09058097189': 213, '09061221066': 222, 'fromm': 3321, '330': 511, '1120': 313, '1205': 324, 'smoking': 6855, 'wylie': 8333, 'justify': 4253, 'ruining': 6409, 'meds': 4849, 'hunt': 3902, 'in2': 3997, '5226': 632, 'hava': 3689, '1131': 315, 'rct': 6115, 'thnq': 7505, 'adrian': 944, 'vatian': 7930, 'everyones': 2946, 'babysitting': 1329, 'gonnamissu': 3496, 'buttheres': 1747, 'aboutas': 870, 'merememberin': 4882, 'asthere': 1234, 'ofsi': 5368, 'breakin': 1652, 'yaxx': 8371, 'ee': 2804, 'poortiyagi': 5804, 'odalebeku': 5351, 'hanumanji': 3656, 'hanuman': 3655, 'bajarangabali': 1342, 'maruti': 4792, 'pavanaputra': 5592, 'sankatmochan': 6464, 'ramaduth': 6092, 'mahaveer': 4735, 'janarige': 4155, 'ivatte': 4132, 'kalisidare': 4267, 'olage': 5387, 'ondu': 5401, 'keluviri': 4291, 'maretare': 4778, 'inde': 4014, 'dodda': 2637, 'problum': 5945, 'nalli': 5129, 'siguviri': 6746, 'idu': 3950, 'matra': 4813, 'neglet': 5187, 'easily': 2777, 'ijust': 3958, 'talked': 7341, 'opps': 5431, 'gei': 3408, 'tron': 7703, 'dl': 2622, 'selfish': 6574, 'spiffing': 6983, 'workage': 8279, 'craving': 2280, 'supose': 7248, 'babysit': 1328, 'spaces': 6949, 'embassy': 2842, 'lightly': 4510, 'custom': 2353, 'checkboxes': 1936, 'sac': 6431, 'batsman': 1394, 'yetty': 8390, 'jiayin': 4195, '09050000928': 190, 'pobox45w2tg150p': 5767, 'forgotten': 3246, 'reverse': 6319, 'cheating': 1933, 'mathematics': 4810, '2waxsto': 481, 'basic': 1382, 'emailed': 2838, 'yifeng': 8394, 'slurp': 6831, 'minimum': 4923, '3miles': 532, 'brainless': 1636, 'doll': 2657, 'vehicle': 7938, 'sariyag': 6476, 'madoke': 4723, 'barolla': 1373, '07090201529': 25, 'postponed': 5834, 'stocked': 7103, 'elaine': 2825, 'tiime': 7542, 'afternon': 972, 'interviews': 4074, 'resizing': 6282, '09066364349': 266, 'box434sk38wp150ppm18': 1622, 'opposed': 5429, 'drunken': 2733, 'billed': 1496, 'shortcode': 6699, '83332': 763, '08081263000': 66, 'refunded': 6197, 'somerset': 6898, 'overtime': 5495, 'nigpun': 5233, 'dismissial': 2608, 'screwd': 6533, '08712402972': 121, 'bull': 1724, 'floating': 3189, 'mess': 4885, '09058095201': 212, 'heehee': 3726, 'arithmetic': 1183, 'percentages': 5626, 'chillaxin': 1976, 'das': 2402, 'iknow': 3961, 'wellda': 8146, 'peril': 5633, 'studentfinancial': 7159, 'crisis': 2300, 'monster': 5017, '____': 850, 'ths': 7524, 'ias': 3923, 'obey': 5337, 'uhhhhrmm': 7781, 'mb': 4828, '600': 656, '400': 545, 'deltomorrow': 2477, '09066368470': 269, '24m': 421, 'smartcall': 6836, '68866': 676, 'subscriptn3gbp': 7193, '08448714184': 72, 'landlineonly': 4398, 'mths': 5068, 'callback': 1780, 'orno': 5458, 'fink': 3150, '09099726553': 291, 'promised': 5968, 'carlie': 1835, 'minmobsmore': 4924, 'lkpobox177hp51fl': 4565, 'youphone': 8407, 'athome': 1244, 'youwanna': 8412, 'jack': 4142, 'helpful': 3741, 'pretend': 5906, 'hypotheticalhuagauahahuagahyuhagga': 3921, 'brainy': 1638, 'occasion': 5343, 'celebrated': 1879, 'reflection': 6192, 'values': 7920, 'desires': 2507, 'affections': 964, 'traditions': 7660, 'cantdo': 1812, 'anythingtomorrow': 1117, 'myparents': 5113, 'aretaking': 1172, 'outfor': 5477, 'katexxx': 4280, 'level': 4488, 'gate': 3388, '89105': 813, 'wedding': 8122, 'lingerie': 4532, 'bridal': 1663, 'petticoatdreams': 5658, 'weddingfriend': 8123, 'board': 1563, 'overheating': 5494, 'reslove': 6283, 'inst': 4053, 'western': 8160, 'outta': 5487, 'notixiquating': 5291, 'laxinorficated': 4435, 'bambling': 1352, 'entropication': 2888, 'oblisingately': 5340, 'opted': 5433, 'masteriastering': 4800, 'amplikater': 1066, 'fidalfication': 3112, 'champlaxigating': 1899, 'atrocious': 1249, 'wotz': 8298, 'junna': 4247, 'knickers': 4342, '01223585236': 6, 'nikiyu4': 5236, 'accident': 890, 'a30': 852, 'divert': 2616, 'wadebridge': 8029, 'vill': 7969, '1030': 306, 'orc': 5443, 'bloomberg': 1551, '447797706009': 567, 'careers': 1829, 'seeking': 6563, 'priscilla': 5929, 'wisdom': 8222, 'inform': 4030, 'wherre': 8177, 'phone750': 5672, 'resolution': 6284, 'frank': 3270, 'logoff': 4590, 'parkin': 5559, 'kent': 4293, 'vale': 7912, 'cann': 1810, 'asa': 1207, '09050000878': 189, 'wan2': 8059, 'westlife': 8161, 'unbreakable': 7797, 'untamed': 7849, 'unkempt': 7833, '83049': 759, 'prince': 5920, 'charming': 1919, 'mention': 4875, 'served': 6604, 'arnt': 1190, 'xxxxxxxxxxxxxx': 8357, 'dorothy': 2677, 'kiefer': 4316, 'granite': 3543, 'explosive': 3002, 'nasdaq': 5142, 'symbol': 7308, 'cdgt': 1873, 'alle': 1037, 'mone': 5008, 'eppolum': 2897, 'allalo': 1035, 'fundamentals': 3346, '1mega': 384, 'pixels': 5713, '3optical': 535, '5digital': 641, 'dooms': 2672, 'noi': 5253, 'js': 4230, 'burgundy': 1732, 'captaining': 1819, 'base': 1379, 'placement': 5718, 'amrita': 1068, 'profile': 5956, 'bpo': 1632, 'nighters': 5230, 'persevered': 5640, 'regretted': 6208, 'spouse': 7016, 'pmt': 5755, 'sumthin': 7230, '4give': 595, 'shldxxxx': 6685, 'scenario': 6508, 'spun': 7024, 'wrld': 8315, 'nytho': 5329, 'tx': 7753, 'fonin': 3222, '2mwen': 465, 'frmcloud': 3311, '09071517866': 278, '150ppmpobox10183bhamb64xe': 357, 'pounded': 5841, 'lion': 4537, 'devouring': 2528, 'airtel': 1005, 'broadband': 1682, 'processed': 5950, 'installation': 4055, 'tensed': 7416, 'coughing': 2245, 'warned': 8072, 'sprint': 7022, 'prolly': 5964, 'gower': 3526, 'morrow': 5031, 'chik': 1967, 'filth': 3132, '69669': 679, 'saristar': 6475, 'e14': 2765, '9yt': 849, '08701752560': 88, '450p': 574, 'stop2': 7113, '420': 556, '9061100010': 827, 'wire3': 8221, '1st4terms': 388, 'mobcudb': 4980, 'sabarish': 6430, 'jaya': 4166, '09050000460': 187, 'j89': 4140, 'box245c2150pm': 1613, 'inpersonation': 4046, 'flea': 3177, 'forums': 3257, 'banneduk': 1362, 'highest': 3767, 'maximum': 4825, '71': 703, 'taj': 7330, 'lesser': 4481, 'known': 4347, 'facts': 3026, 'mumtaz': 5089, 'shahjahan': 6634, 'wifes': 8193, 'arises': 1182, 'hari': 3673, '69101': 677, 'rtf': 6399, 'sphosting': 6980, 'webadres': 8116, 'geting': 3428, 'incredible': 4012, 'o2fwd': 5333, '18p': 372, 'ship': 6672, 'maturity': 4820, 'confirmed': 2169, 'passport': 5577, 'multiply': 5082, 'independently': 4016, 'showed': 6711, 'twins': 7751, 'strt': 7150, 'ltdhelpdesk': 4664, '02085076972': 13, 'equally': 2899, 'uneventful': 7816, 'pesky': 5652, 'cyclists': 2368, 'adi': 933, 'entey': 2883, 'nattil': 5152, 'kittum': 4335, 'kavalan': 4282, 'hire': 3776, 'hitman': 3780, '09066660100': 275, '2309': 416, 'cps': 2266, 'causing': 1865, 'outages': 5473, 'conserve': 2183, 'voted': 8005, 'epi': 2896, 'bare': 1368, 'bhaskar': 1486, 'dubsack': 2741, 'gong': 3494, 'kaypoh': 4284, 'basketball': 1385, 'outdoors': 5475, 'macho': 4714, 'interfued': 4070, 'blank': 1527, 'listed': 4546, 'apology': 1131, 'hustle': 3912, 'forth': 3254, 'audition': 1267, 'harlem': 3675, 'workout': 8283, 'fats': 3071, 'zac': 8428, 'tonights': 7619, 'hui': 3891, 'xin': 8342, 'lib': 4492, 'difference': 2558, 'versus': 7948, 'underdtand': 7808, 'muchxxlove': 5076, 'locaxx': 4580, '07090298926': 26, '9307622': 833, 'skateboarding': 6788, 'despite': 2512, 'thrown': 7522, 'winds': 8208, 'bandages': 1354, 'html': 3879, 'gbp4': 3400, 'mfl': 4896, '1146': 317, 'hectic': 3724, 'fell': 3097, 'swoop': 7303, 'wamma': 8057, 'doggin': 2646, 'dogs': 2649, 'langport': 4403, 'virtual': 7981, 'senthil': 6596, 'apnt': 1126, 'pants': 5538, 'go2sri': 3473, 'lanka': 4405, 'merely': 4881, 'relationship': 6213, 'wherevr': 8176, 'forevr': 3238, 'gudnyt': 3593, 'mistakes': 4955, 'plum': 5747, 'smacks': 6832, '50s': 630, 'alot': 1042, 'formatting': 3252, 'attracts': 1262, 'promotion': 5972, '8714714': 796, 'vegas': 7935, 'lou': 4633, 'lancaster': 4394, 'soc': 6879, 'bsn': 1702, 'advising': 955, 'lobby': 4576, 'texted': 7443, 'showered': 6713, 'ything': 8419, 'vewy': 7950, 'lubly': 4666, '087147123779am': 131, 'catches': 1859, 'specify': 6967, 'domain': 2662, 'nusstu': 5317, 'bari': 1370, 'hudgi': 3884, 'yorge': 8402, 'pataistha': 5581, 'ertini': 2910, 'hasbro': 3678, 'jump': 4243, 'hoops': 3829, 'ummifying': 7792, 'associate': 1230, 'rip': 6347, 'uterus': 7899, 'pool': 5800, 'jacuzzi': 4146, 'x49': 8336, '09065989182': 257, 'txtstar': 7763, '2nights': 468, 'uve': 7904, 'wildest': 8199, 'aldrine': 1020, 'rtm': 6400, 'sources': 6940, 'unhappiness': 7820, 'necesity': 5169, 'witout': 8236, 'colleg': 2096, 'wth': 8324, 'functions': 3344, 'events': 2940, 'espe': 2919, 'irritated': 4106, '4wrd': 613, 'wthout': 8325, 'takecare': 7332, 'univ': 7830, 'rajas': 6083, 'burrito': 1738, 'disconnect': 2598, 'terrorist': 7427, 'confirmd': 2168, 'verified': 7944, 'cnn': 2066, 'ibn': 3928, 'stitch': 7101, 'trouser': 7706, '146tf150p': 346, 'cheetos': 1949, 'synced': 7311, 'shangela': 6642, 'hppnss': 3874, 'sorrow': 6922, 'goodfriend': 3499, 'passes': 5574, '08704439680': 94, 'poo': 5797, 'gloucesterroad': 3465, 'uup': 7902, 'ouch': 5470, 'stayed': 7073, 'forgiveness': 3244, 'fruit': 3325, 'stone': 7108, 'glo': 3461, '09058095107': 211, 's3xy': 6428, 'wlcome': 8246, 'eaten': 2783, 'timi': 7548, 'mila': 4907, 'age23': 980, 'blonde': 1547, 'mtalk': 5066, '69866': 683, '30pp': 498, '5free': 642, 'increments': 4013, 'help08718728876': 3740, 'fishrman': 3160, 'sack': 6433, 'stones': 7110, 'strtd': 7151, 'throwin': 7520, 'atlast': 1246, '1stone': 390, '08717895698': 154, 'mobstorequiz10ppm': 4989, 'physics': 5683, 'praveesh': 5870, 'delicious': 2472, 'salad': 6446, 'desert': 2504, 'beers': 1441, 'whore': 8182, 'funk': 3348, 'tones2u': 7613, 'twinks': 7750, 'scallies': 6503, 'skins': 6793, 'jocks': 4204, '08712466669': 126, 'nat': 5145, 'flood': 3190, 'beads': 1419, 'wishlist': 8229, 'section': 6555, 'nitro': 5244, 'sold': 6889, 'creative': 2287, 'reffering': 6190, 'getiing': 3427, 'weirdy': 8142, 'brownies': 1694, '09061701851': 225, 'k61': 4258, '12hours': 333, 'restrict': 6300, 'funeral': 3347, 'vivek': 7991, '74355': 708, 'tnc': 7580, 'brah': 1633, 'possession': 5822, 'greece': 3559, 'protect': 5986, 'sib': 6733, 'sensitive': 6593, 'passwords': 5579, 'recorded': 6173, 'someday': 6895, 'grandfather': 3540, 'blu': 1555, 'concert': 2158, 'november': 5296, '09061104276': 217, '75max': 712, 'yuou': 8425, 'spot': 7014, 'ipad': 4095, 'bunch': 1726, 'lotto': 4631, 'bird': 1505, 'purchases': 6023, 'authorise': 1278, '45pm': 578, 'gimmi': 3446, 'goss': 3513, 'ystrday': 8418, 'chile': 1974, 'subletting': 7180, 'ammae': 1061, 'steering': 7085, 'sleeps': 6810, 'rounder': 6385, 'required': 6270, 'lambu': 4392, 'ji': 4193, 'batchlor': 1389, 'zoom': 8438, '62220cncl': 663, 'stopcs': 7117, '08717890890': 153, 'cheese': 1947, 'tms': 7578, 'widelive': 8190, 'index': 4017, 'wml': 8248, '1b6a5ecef91ff9': 377, '37819': 520, 'true18': 7710, '0430': 17, 'jul': 4238, 'xafter': 8337, 'cst': 2318, 'chg': 1960, 'pure': 6024, 'hearted': 3717, 'enemies': 2860, 'smiley': 6848, 'gail': 3362, 'yaxxx': 8372, 'theoretically': 7477, 'hooked': 3828, 'formally': 3250, 'multimedia': 5081, 'hsbc': 3878, 'vague': 7910, 'accounting': 899, 'delayed': 2468, 'housing': 3865, 'agency': 981, 'renting': 6247, 'presents': 5898, 'nicky': 5225, 'gumby': 3605, 'alto18': 1047, 'wave': 8097, 'asp': 1224, '44345': 566, 'sized': 6785, 'tarpon': 7356, 'springs': 7021, 'cab': 1765, 'steps': 7087, 'limited': 4522, 'hf8': 3758, '09061702893': 227, '08719181259': 176, '26': 428, 'radiator': 6070, 'proper': 5978, 'tongued': 7617, 'shorts': 6702, 'qi': 6042, 'suddenly': 7204, 'flurries': 3200, 'melt': 4865, 'eek': 2805, 'born': 1595, 'real1': 6132, 'pushbutton': 6030, 'dontcha': 2667, 'babygoodbye': 1326, 'golddigger': 3487, 'webeburnin': 8117, 'perform': 5629, 'cards': 1824, 'rebooting': 6152, 'nigh': 5228, 'nooooooo': 5268, 'cable': 1767, 'outage': 5472, 'sos': 6932, 'playin': 5734, 'guoyang': 3606, 'rahul': 6075, 'dengra': 2483, 'antelope': 1106, 'toplay': 7632, 'fieldof': 3114, 'selfindependence': 6573, 'contention': 2196, 'gnarls': 3469, 'barkleys': 1371, 'borderline': 1591, '545': 640, 'nightnight': 5231, 'possibility': 5825, 'grooved': 3570, 'affairs': 961, 'mising': 4941, 'secured': 6558, 'unsecured': 7843, '195': 374, '6669': 673, 'lanre': 4406, 'fakeye': 3039, 'eckankar': 2789, '3000': 490, '09061743386': 228, 'heater': 3720, 'degrees': 2463, 'dodgey': 2638, '674': 674, 'seing': 6568, 'asssssholeeee': 1231, 'ceri': 1889, 'rebel': 6150, 'dreamz': 2707, 'buddy': 1712, 'blokes': 1546, '84484': 776, 'nationwide': 5151, 'newport': 5212, 'juliana': 4240, 'nachos': 5121, 'eta': 2925, 'dizzamn': 2620, 'suitemates': 7220, 'nimbomsons': 5237, 'continent': 2198, 'housewives': 3863, '0871750': 150, '77': 716, 'landlines': 4399, '087104711148': 107, 'emerging': 2845, 'fiend': 3115, 'impede': 3983, 'hesitant': 3753, '60': 655, '400thousad': 547, 'nose': 5281, 'essay': 2922, 'tram': 7667, 'vic': 7954, 'coherently': 2080, 'triple': 7698, 'echo': 2788, 'gran': 3538, 'onlyfound': 5408, 'afew': 959, 'cusoon': 2350, 'honi': 3822, 'dial': 2536, 'bx526': 1761, 'university': 7831, 'southern': 6942, 'california': 1777, 'rayan': 6110, 'macleran': 4716, 'balls': 1350, 'olave': 5388, 'mandara': 4764, 'trishul': 7700, 'woo': 8268, 'hoo': 3824, 'panties': 5537, 'thout': 7513, '09066364311': 265, 'flatter': 3175, 'pints': 5706, 'carlin': 1836, 'literally': 4555, 'ciao': 2006, 'starve': 7063, 'impression': 3992, 'motivate': 5035, 'darkness': 2396, 'wknd': 8244, 'yalrigu': 8363, 'heltini': 3745, 'iyo': 4136, 'kothi': 4361, 'uttered': 7901, 'trusting': 7715, 'noice': 5254, 'esaplanade': 2914, 'accessible': 888, '08709501522': 105, '139': 339, 'la3': 4376, '2wu': 484, 'occurs': 5347, 'prof': 5953, 'sem': 6579, 'student': 7158, 'enna': 2875, 'kalaachutaarama': 4265, 'coco': 2077, 'sporadically': 7009, '09064017305': 246, 'pobox75ldns7': 5768, 'tbs': 7373, 'persolvo': 5642, '38': 521, 'kath': 4281, 'manchester': 4761, 'burden': 1730, 'noworriesloans': 5299, '08717111821': 147, 'actual': 920, 'harder': 3670, 'nbme': 5161, 'sickness': 6736, 'villa': 7970, 'sathya': 6482, 'gam': 3369, 'smash': 6838, 'religiously': 6220, 'heroes': 3750, 'tips': 7554, '07973788240': 50, '08715203649': 138, 'dealing': 2424, 'muhommad': 5079, 'penny': 5622, 'doc': 2630, 'fiting': 3162, 'load': 4572, 'mj': 4962, 'unconvinced': 7805, 'elaborate': 2823, 'willpower': 8202, 'value': 7918, 'absence': 872, 'answerin': 1102, 'reasonable': 6146, 'evey': 2950, 'mnth': 4975, 'prin': 5919, 'gsoh': 3583, 'spam': 6952, 'gigolo': 3444, 'mens': 4873, 'oncall': 5400, 'mjzgroup': 4963, '08714342399': 130, '50rcvd': 629, 'ashwini': 1212, '08707500020': 98, 'ukp': 7785, '09061790125': 235, 'thet': 7485, 'skinny': 6792, 'casting': 1854, 'elections': 2830, '116': 318, 'hlday': 3786, 'camp': 1799, 'amrca': 1067, 'serena': 6601, 'prescribed': 5893, 'kappa': 4275, 'meatballs': 4844, 'approve': 1151, 'panalam': 5529, 'spjanuary': 6990, 'fortune': 3255, 'allday': 1036, 'piss': 5708, 'perf': 5627, 'outsider': 5484, 'receipts': 6157, '98321561': 840, 'familiar': 3048, 'depression': 2498, 'infact': 4025, 'simpsons': 6757, 'band': 1353, 'shite': 6678, 'kip': 4329, 'hont': 3823, 'amanda': 1051, 'regard': 6201, 'renewing': 6244, 'upgrading': 7858, 'subject': 7179, 'nannys': 5139, 'puts': 6033, 'perspective': 5649, 'conveying': 2209, 'debating': 2431, 'wtlp': 8326, 'guessing': 3598, 'jb': 4170, 'florida': 3193, 'hidden': 3762, 'royal': 6391, 'tog': 7591, 'teams': 7385, 'swhrt': 7296, '0906346330': 240, '47': 579, 'po19': 5757, '2ez': 446, 'general': 3411, 'jetton': 4190, 'cmon': 2063, 'sticky': 7097, 'replies': 6259, 'lunsford': 4677, 'enjoying': 2873, '0796xxxxxx': 49, 'prizeawaiting': 5935, 'kfc': 4303, 'meals': 4835, 'gravy': 3551, '07008009200': 23, 'attended': 1256, 'mw': 5108, 'tuth': 7744, 'eviction': 2951, 'spiral': 6987, 'michael': 4900, 'riddance': 6331, 'suffers': 7209, 'raglan': 6074, 'edward': 2802, 'cricket': 2296, 'closeby': 2044, 'skye': 6798, 'bookedthe': 1582, 'hut': 3913, 'drastic': 2701, 'indicate': 4021, '3750': 519, 'garments': 3384, 'sez': 6624, 'arab': 1163, 'evry1': 2960, 'eshxxxxxxxxxxx': 2918, 'lay': 4436, 'bimbo': 1502, 'ugo': 7779, '3lions': 530, 'portege': 5813, 'm100': 4693, 'semiobscure': 6582, 'gprs': 3527, 'repeat': 6252, 'loosu': 4616, 'careless': 1832, 'freaking': 3277, 'myspace': 5115, 'logged': 4586, 'method': 4894, 'calculation': 1774, 'blur': 1560, 'clothes': 2050, 'jewelry': 4191, 'breaker': 1650, 'deluxe': 2478, 'features': 3083, 'graphics': 3545, 'bbdeluxe': 1403, 'lush': 4678, 'fumbling': 3341, '2find': 447, 'taunton': 7365, 'weekdays': 8130, 'haiz': 3631, 'nails': 5126, 'common': 2120, 'asia': 1213, 'greatest': 3556, 'courage': 2255, 'bear': 1420, 'defeat': 2455, 'stil': 7099, 'fucked': 3330, 'tobed': 7585, '430': 561, 'beauty': 1425, 'natalja': 5149, '440': 564, 'nat27081980': 5146, 'asthma': 1235, 'attack': 1252, 'ball': 1347, 'moving': 5049, 'spin': 6985, 'haiyoh': 3630, 'million': 4912, 'prsn': 5994, 'saves': 6493, 'sunlight': 7235, 'loss': 4623, 'audiitions': 1266, 'relocate': 6221, 'pocked': 5772, 'motivating': 5036, 'brison': 1676, 'spelled': 6975, 'caps': 1817, 'bullshit': 1725, 'motherfucker': 5034, 'kit': 4334, 'strip': 7144, '1013': 305, 'ig11': 3953, 'oja': 5376, '08712402578': 118, 'thesmszone': 7484, 'anonymous': 1096, 'masked': 4796, 'abuse': 879, 'woodland': 8269, 'avenue': 1291, 'parish': 5556, 'magazine': 4728, 'billy': 1500, 'jogging': 4207, 'awww': 1306, 'useless': 7889, 'loo': 4604, 'ed': 2792, 'shelf': 6657, 'swollen': 7302, 'glands': 3458, 'previous': 5912, 'captain': 1818, 'bcaz': 1406, 'stu': 7154, 'truble': 7707, 'evone': 2956, 'hates': 3683, 'mokka': 5000, 'view': 7964, 'gays': 3395, 'dual': 2739, 'hostile': 3851, 'haircut': 3628, 'breezy': 1661, '09061744553': 232, 'polyh': 5791, '1apple': 376, '1tulsi': 392, 'leaf': 4451, '1lemon': 383, '1cup': 378, 'bone': 1575, 'problms': 5944, 'litres': 4556, 'watr': 8094, 'diseases': 2604, 'snd': 6868, 'lavender': 4433, 'manky': 4770, 'scouse': 6524, 'steve': 7092, 'travelling': 7683, 'inmind': 4040, 'recreation': 6179, 'epsilon': 2898, 'mesages': 4884, 'judgemental': 4236, 'fridays': 3300, 'waheeda': 8034, 'bot': 1599, 'notes': 5286, 'eventually': 2941, 'tolerance': 7600, 'hits': 3781, '0789xxxxxxx': 47, 'hellogorgeous': 3735, 'lst': 4662, 'nitw': 5246, 'texd': 7436, 'hopeu': 3838, '4ward': 612, 'jaz': 4168, '09058091870': 202, 'exorcism': 2984, 'emily': 2847, 'evry': 2959, 'emotion': 2848, 'dsn': 2737, 'prayrs': 5874, 'othrwise': 5467, 'ujhhhhhhh': 7783, 'sandiago': 6461, 'parantella': 5550, 'hugging': 3887, 'sweater': 7288, 'mango': 4768, 'massive': 4799, 'involved': 4091, 'landmark': 4400, 'bob': 1566, 'barry': 1377, '83738': 770, 'absolutly': 874, 'consent': 2182, 'forms': 3253, 'tonexs': 7615, 'renewed': 6243, 'clubzed': 2058, 'billing': 1497, 'polo': 5787, '373': 518, 'w1j': 8018, '6hl': 691, 'mathews': 4811, 'tait': 7329, 'edwards': 2803, 'anderson': 1077, 'haunt': 3686, 'promoting': 5971, 'crowd': 2305, '8000930705': 733, 'snowboarding': 6876, 'christmassy': 2002, 'recpt': 6178, 'baaaaaaaabe': 1320, 'ignoring': 3956, 'shola': 6689, 'academic': 882, 'sagamu': 6442, 'lautech': 4432, 'vital': 7988, 'completes': 2139, 'education': 2799, 'zealand': 8430, 'qet': 6041, 'browser': 1696, 'surf': 7261, 'subscribers': 7190, 'convinced': 2211, 'conversations': 2205, 'senses': 6591, 'overemphasise': 5493, 'headset': 3706, 'adp': 942, 'internal': 4071, 'extract': 3011, 'immed': 3978, 'skint': 6794, 'fancied': 3052, 'bevies': 1480, 'waz': 8102, 'othrs': 5466, 'spoon': 7007, 'watchng': 8089, 'comfey': 2111, 'quitting': 6061, 'least5times': 4457, 'wudn': 8328, 'coast': 2069, 'frequently': 3294, 'cupboard': 2342, 'route': 6387, '2mro': 463, 'floppy': 3192, 'snappy': 6866, 'risk': 6350, 'grasp': 3546, 'flavour': 3176, 'laready': 4412, 'denying': 2490, 'dom': 2661, 'ffffuuuuuuu': 3109, 'julianaland': 4241, 'oblivious': 5341, 'dehydrated': 2464, 'mapquest': 4773, 'dogwood': 2650, 'tiny': 7552, 'parking': 5560, 'suppose': 7254, 'archive': 1166, '08719839835': 179, 'mgs': 4897, '89123': 814, 'lengths': 4475, 'behalf': 1449, 'stunning': 7171, 'visa': 7982, 'gucci': 3589, 'sozi': 6945, 'culdnt': 2336, 'talkbut': 7340, 'wannatell': 8062, 'wenwecan': 8152, 'smsing': 6859, 'efficient': 2810, 'explicit': 3000, 'secs': 6554, '02073162414': 12, '15pm': 363, 'erutupalam': 2913, 'thandiyachu': 7451, 'invention': 4081, 'lyrics': 4692, 'nevr': 5208, 'unrecognized': 7841, 'somone': 6905, 'valuing': 7921, 'definitly': 2460, 'undrstnd': 7813, 'ger': 3424, 'toking': 7596, 'syd': 7306, 'khelate': 4305, 'kintu': 4327, 'opponenter': 5427, 'dhorte': 2534, 'lage': 4387, 'fried': 3302, 'spares': 6955, 'looovvve': 4613, 'warwick': 8076, 'tmw': 7579, 'canceled': 1806, 'havn': 3697, 'tops': 7635, 'grandma': 3541, 'parade': 5546, 'proze': 5993, 'norcorp': 5272, 'posting': 5833, '7cfca1a': 723, 'grumble': 3580, 'linear': 4528, 'algebra': 1028, 'decorating': 2445, 'wining': 8213, '946': 835, 'roomate': 6376, 'graduated': 3534, 'adjustable': 934, 'cooperative': 2219, 'allows': 1041, 'nottingham': 5292, '63miles': 668, '40mph': 553, 'clearly': 2034, 'thanku': 7457, 'guessed': 3595, '89938': 818, 'strings': 7143, '50ea': 621, 'otbox': 5465, '731': 707, 'la1': 4375, '7ws': 729, 'gain': 3364, 'brisk': 1675, 'walks': 8050, 'sexiest': 6619, 'dirtiest': 2587, '89070': 811, 'tellmiss': 7404, 'contribute': 2202, 'greatly': 3557, 'urgh': 7874, 'coach': 2068, 'smells': 6842, 'duvet': 2759, 'predictive': 5880, 'w8in': 8024, '4utxt': 610, '24th': 422, 'beverage': 1479, 'pist': 5710, 'surrender': 7268, 'symptoms': 7310, 'rdy': 6119, 'realise': 6133, 'backwards': 1332, 'abstract': 875, 'africa': 969, 'avin': 1292, 'chit': 1986, 'logon': 4591, '8883': 807, '4217': 558, 'w1a': 8017, '6zf': 701, '118p': 320, 'quiteamuzing': 6060, 'scool': 6516, 'probpop': 5946, 'cu': 2329, 'satthen': 6486, '4brekkie': 589, 'psxtra': 5999, 'lrg': 4658, 'portions': 5814, '1000call': 300, '09071512432': 276, '300603t': 492, 'callcost150ppmmobilesvary': 1782, 'rows': 6390, 'mnths': 4976, 'engagement': 2865, 'fixd': 3164, 'njan': 5248, 'vilikkam': 7968, 'sudn': 7205, 'maths': 4812, 'chapter': 1910, 'chop': 1994, 'noooooooo': 5269, '08718727870150ppm': 168, 'firsg': 3157, 'split': 6997, 'wasnt': 8079, 'heat': 3719, 'applyed': 1142, 'sumfing': 7226, '86888': 789, 'subscribe6gbp': 7187, '3hrs': 529, 'txtstop': 7764, 'hopeso': 3837, 'amnow': 1063, 'ithink': 4126, 'tonsolitusaswell': 7622, 'layin': 4437, 'bedreal': 1433, 'lotsof': 4629, 'hiphop': 3775, 'managed': 4759, 'oxygen': 5506, 'resort': 6286, 'roller': 6371, 'recorder': 6174, 'canname': 1811, 'capital': 1815, 'australia': 1277, 'mquiz': 5051, 'showr': 6716, 'acted': 911, 'ceiling': 1876, 'presnts': 5901, 'bcz': 1416, 'mis': 4937, 'jeevithathile': 4176, 'irulinae': 4110, 'neekunna': 5183, 'prakasamanu': 5864, 'sneham': 6869, 'prakasam': 5863, 'ennal': 2876, 'mns': 4974, 'blowing': 1553, '7634': 714, '7684': 715, 'firmware': 3156, 'vijaykanth': 7966, 'anythiing': 1115, 'ripped': 6348, 'clubmoby': 2056, '08717509990': 152, 'keypad': 4300, 'btwn': 1708, 'decades': 2433, 'goverment': 3524, 'expects': 2990, 'loyal': 4656, 'customers': 2356, '09066380611': 271, 'spice': 6981, 'prasanth': 5868, 'ettans': 2928, '08718738002': 172, '48922': 585, 'appy': 1156, 'fizz': 3168, 'contains': 2193, 'genus': 3420, 'robinson': 6359, 'print': 5923, 'outs': 5482, 'soz': 6944, 'imat': 3973, 'mums': 5088, 'freinds': 3290, 'sometext': 6899, '07099833605': 27, '9280114': 830, 'chloe': 1988, 'wewa': 8166, '130': 337, 'iriver': 4103, '255': 426, '128': 332, 'bw': 1758, 'surly': 7264, '07808726822': 42, '9758': 838, 'dokey': 2656, 'mmmmmmm': 4972, 'snuggles': 6878, 'contented': 2195, 'whispers': 8179, 'error': 2908, 'healthy': 3710, '2bold': 439, 'scraped': 6525, 'barrel': 1375, 'misfits': 4940, 'sleepin': 6807, 'sections': 6556, 'clearer': 2032, 'peach': 5610, 'tasts': 7358, 'rayman': 6111, 'golf': 3490, 'activ8': 915, 'termsapply': 7422, 'minor': 4928, 'shindig': 6669, 'phonebook': 5673, 'rocking': 6362, 'ashes': 1210, 'shijutta': 6667, 'offense': 5357, 'dvg': 2761, 'vinobanagar': 7972, 'ovulate': 5497, '3wks': 541, 'woah': 8253, 'realising': 6135, 'orh': 5455, 'hides': 3764, 'secrets': 6553, 'n8': 5117, 'axel': 1308, 'akon': 1013, 'eyed': 3015, 'cashbin': 1849, 'canteen': 1813, 'stressfull': 7138, 'adds': 931, 'continued': 2200, 'president': 5899, '140': 341, '180': 370, 'pleasured': 5742, 'providing': 5991, 'assistance': 1229, 'whens': 8174, '1172': 319, 'built': 1722, 'lonlines': 4603, 'lotz': 4632, 'memories': 4870, 'gailxx': 3363, 'complacent': 2131, 'denis': 2484, 'mina': 4916, 'miwa': 4960, 'woulda': 8300, '09066649731from': 274, 'opposite': 5430, 'heavily': 3722, 'dolls': 2660, 'patrick': 5587, 'swayze': 7286, 'santa': 6466, '09077818151': 279, 'calls1': 1793, '50ppm': 628, '30s': 499, 'santacalling': 6467, 'miserable': 4939, 'quarter': 6047, 'fired': 3152, 'limping': 4525, 'aa': 853, '078498': 45, '08719180219': 174, 'oga': 5370, 'poorly': 5803, 'punishment': 6017, 'brb': 1645, 'kill': 4317, 'predicte': 5877, 'situations': 6782, 'loosing': 4615, 'smaller': 6834, 'capacity': 1814, 'videos': 7961, 'shsex': 6723, 'netun': 5199, 'fgkslpopw': 3111, 'fgkslpo': 3110, '0871277810710p': 127, 'defer': 2456, 'admission': 938, 'checkmate': 1940, 'chess': 1955, 'persian': 5641, 'phrase': 5681, 'shah': 6633, 'maat': 4707, 'rats': 6107, 'themes': 7474, 'photoshop': 5679, 'manageable': 4758, '08715203652': 139, '42810': 560, 'shoppin': 6692, 'increase': 4011, 'north': 5278, 'carolina': 1839, 'texas': 7435, 'gre': 3554, 'bomb': 1574, 'breathing': 1659, 'powerful': 5847, 'weapon': 8108, 'lovly': 4651, 'msgrcvd': 5060, 'customercare': 2355, '08718726270': 160, 'clas': 2020, 'lit': 4554, 'loooooool': 4612, 'couch': 2242, 'celebration': 1880, 'swashbuckling': 7282, 'terror': 7426, 'cruel': 2309, 'decent': 2435, 'joker': 4213, 'dip': 2580, 'gek1510': 3409, 'nuther': 5318, 'lyricalladie': 4691, '910': 828, 'hmmross': 3793, 'happiest': 3664, 'characters': 1912, 'differences': 2559, 'lists': 4553, 'antibiotic': 1110, 'abdomen': 860, 'gynae': 3615, 'infections': 4026, '6times': 699, 'exposed': 3003, 'chastity': 1924, 'device': 2525, 'beatings': 1422, 'uses': 7891, 'gut': 3608, 'wrenching': 8307, 'tallahassee': 7346, 'ou': 5469, 'taka': 7331, 'pobox202': 5763, 'nr31': 5300, '7zs': 730, '450pw': 576, 'ritten': 6353, 'fold': 3209, 'warner': 8073, '83118': 761, 'colin': 2088, 'farrell': 3061, 'swat': 7283, 'kiosk': 4328, 'mre': 5053, 'solihull': 6890, 'nhs': 5218, '2b': 438, 'terminated': 7420, 'inconvenience': 4008, 'dentists': 2488, 'henry': 3747, 'yards': 8369, 'bergkamp': 1469, 'margin': 4780, '78': 718, 'parent': 5553, 'snot': 6873, 'unintentional': 7825, 'nonetheless': 5265, 'hooch': 3825, 'toaday': 7583, 'splat': 6995, 'grazed': 3553, 'knees': 4340, 'deny': 2489, 'hearin': 3714, 'yah': 8361, 'torture': 7640, 'hopeing': 3835, 'sisters': 6774, 'sexychat': 6623, 'lips': 4543, 'congratulation': 2174, 'court': 2258, 'chapel': 1908, 'frontierville': 3323, 'mountain': 5040, 'deer': 2452, 'mailed': 4740, 'varma': 7925, 'secure': 6557, 'parties': 5564, 'farting': 3062, 'ortxt': 5460, 'select': 6569, 'trained': 7663, 'advisors': 956, 'dialling': 2537, '402': 548, 'woot': 8272, 'stuffing': 7169, 'ahhhh': 993, 'dining': 2576, 'experiencehttp': 2993, 'vouch4me': 8006, 'etlp': 2927, 'kaila': 4263, '09058094507': 205, 'donate': 2664, 'unicef': 7823, 'asian': 1214, 'tsunami': 7725, 'disaster': 2593, 'fund': 3345, '864233': 787, 'cme': 2062, 'hos': 3846, 'collapsed': 2090, 'cumming': 2340, 'jade': 4148, 'paul': 5590, 'barmed': 1372, 'thinkthis': 7497, 'dangerous': 2390, 'goldviking': 3489, '762': 713, 'rushing': 6421, 'coulda': 2246, 'phony': 5676, 'okday': 5379, 'buz': 1754, 'wedlunch': 8124, 'outsomewhere': 5485, 'adrink': 945, '2watershd': 480, 'fromwrk': 3322, 'bthere': 1706, 'petexxx': 5655, 'hmph': 3794, 'baller': 1348, 'punto': 6019, 'ayo': 1312, 'travelled': 7682, '125': 329, 'freeentry': 3283, 'xt': 8345, 'toyota': 7655, 'camry': 1801, 'olayiwola': 5389, 'mileage': 4908, 'landing': 4396, 'clover': 2052, 'achan': 902, 'amma': 1060, 'rencontre': 6241, 'mountains': 5041, '08714712412': 135, 'nìte': 5331, 'puppy': 6020, 'noise': 5255, 'sarasota': 6472, 'meg': 4856, '08715203685': 142, '4xx26': 614, '13': 336, 'crossing': 2304, 'deepest': 2451, 'darkest': 2395, '09094646631': 283, 'inconvenient': 4009, 'adsense': 947, 'approved': 1152, 'dudette': 2746, 'perumbavoor': 5651, 'stage': 7041, 'cherish': 1953, 'clarify': 2018, 'preponed': 5891, 'natalie': 5147, '165': 365, 'natalie2k9': 5148, 'younger': 8406, 'wallpaper': 8053, '08701213186': 82, 'liver': 4560, 'opener': 5419, 'guides': 3601, 'watched': 8085, 'loneliness': 4599, 'skyving': 6801, 'onwords': 5411, 'mtnl': 5072, 'mumbai': 5085, '83039': 758, '62735': 666, '450': 573, 'accommodationvouchers': 893, 'mustprovide': 5104, '15541': 362, 'rajitha': 6086, 'ranju': 6102, 'styles': 7174, 'tscs08714740323': 7723, '1winawk': 395, '50perweeksub': 624, 'slp': 6830, 'muah': 5074, '09066361921': 261, 'disagreeable': 2590, 'vivekanand': 7992, 'uawake': 7774, 'feellikw': 3093, 'justfound': 4252, 'aletter': 1024, 'thatmum': 7463, 'gotmarried': 3519, '4thnov': 607, 'ourbacks': 5471, 'fuckinnice': 3333, 'deviousbitch': 2527, 'rearrange': 6144, 'dormitory': 2676, 'astronomer': 1239, 'starer': 7054, 'election': 2829, 'recount': 6176, 'hitler': 3779, 'worms': 8287, 'suffering': 7208, 'dysentry': 2764, 'andre': 1078, 'virgil': 7978, 'gokila': 3485, 'shanil': 6644, 'exchanged': 2969, 'uncut': 7807, 'diamond': 2539, 'dino': 2578, 'kotees': 4360, 'panther': 5536, 'sugababes': 7211, 'zebra': 8431, 'badass': 1334, 'hoody': 3826, 'resent': 6275, 'queries': 6050, 'customersqueries': 2357, 'netvision': 5200, 'hassling': 3680, 'andres': 1079, 'haughaighgtujhyguj': 3684, 'fassyole': 3063, 'blacko': 1523, 'londn': 4597, '4eva': 591, 'responsibilities': 6293, '08715205273': 144, 'vco': 7932, 'humanities': 3894, 'reassurance': 6148, 'aslamalaikkum': 1222, 'tohar': 7592, 'beeen': 1436, 'muht': 5080, 'albi': 1017, 'mufti': 5078, 'mahfuuz': 4736, '078': 38, 'enufcredeit': 2891, 'tocall': 7586, 'ileave': 3963, 'treats': 7690, 'okors': 5385, 'ibored': 3929, 'adding': 929, 'zeros': 8433, 'savings': 6494, 'goigng': 3481, 'perfume': 5632, 'sday': 6538, 'grocers': 3569, 'pubs': 6009, 'frankie': 3271, 'bennys': 1468, 'changing': 1906, 'diapers': 2541, 'owed': 5501, 'unlike': 7836, 'patients': 5586, 'turkeys': 7739, 'helens': 3731, 'princes': 5921, 'unintentionally': 7826, 'garden': 3381, 'bulbs': 1723, 'seeds': 6560, 'scotsman': 6523, 'go2': 3472, 'notxt': 5293, 'wenever': 8150, 'stability': 7037, 'tranquility': 7668, 'vibrant': 7951, 'colourful': 2100, 'bawling': 1398, 'failure': 3034, 'failing': 3032, 'velusamy': 7941, 'facilities': 3023, 'karnan': 4277, 'bluray': 1561, 'salt': 6455, 'wounds': 8302, 'logging': 4587, 'geoenvironmental': 3421, 'implications': 3984, 'fuuuuck': 3355, 'salmon': 6453, 'uploaded': 7861, 'wrkin': 8312, 'ree': 6185, 'compensation': 2129, 'awkward': 1304, 'splash': 6993, 'leg': 4466, 'musta': 5102, 'overdid': 5491, 'telediscount': 7398, 'gastroenteritis': 3387, 'replace': 6255, 'reduce': 6184, 'limiting': 4523, 'illness': 3965, 'foned': 3220, 'chuck': 2003, 'port': 5811, 'step': 7086, 'stuffs': 7170, 'juswoke': 4255, 'boatin': 1565, 'docks': 2632, 'spinout': 6986, '08715203656': 140, '42049': 557, 'uworld': 7907, 'qbank': 6040, 'assessment': 1227, 'someonone': 6896, '09064015307': 244, 'tke': 7567, 'temales': 7409, 'finishd': 3146, '09061213237': 220, '177': 368, 'm227xy': 4695, 'dull': 2748, 'studies': 7161, 'anyones': 1113, 'treadmill': 7685, 'craigslist': 2272, 'absolutely': 873, 'swan': 7279, 'sall': 6452, 'hehe': 3727, 'shexy': 6663, 'lamp': 4393, 'foward': 3263, '09061790126': 236, 'misundrstud': 4956, '2u2': 479, 'genes': 3413, 'com1win150ppmx3age16subscription': 2104, 'resuming': 6307, 'reapply': 6143, 'treatin': 7689, 'treacle': 7684, 'mumhas': 5086, 'beendropping': 1438, 'theplace': 7479, 'adress': 943, 'favorite': 3077, 'oyster': 5508, 'sashimi': 6478, 'rumbling': 6413, 'marandratha': 4776, 'correctly': 2231, 'alaikkum': 1015, 'pride': 5917, 'respectful': 6288, 'heaven': 3721, 'pisces': 5707, 'aquarius': 1161, '2yrs': 487, 'steyn': 7094, 'wicket': 8187, 'sterm': 7091, 'resolved': 6285, 'jam': 4150, 'hannaford': 3654, 'wheat': 8170, 'chex': 1957, 'grownup': 3578, 'costume': 2240, 'jerk': 4184, 'stink': 7100, 'follows': 3216, 'subsequent': 7195, 'openings': 5422, 'upcharge': 7852, 'guai': 3586, 'bottle': 1602, 'amused': 1071, 'astrology': 1238, 'slacking': 6803, 'mentor': 4878, 'percent': 5625, '09095350301': 285, 'erotic': 2906, 'ecstacy': 2790, 'dept': 2499, '08717507382': 151, 'coincidence': 2083, 'sane': 6462, 'helping': 3742, 'leading': 4449, '151': 360, 'pause': 5591, 'gr8prizes': 3531, '8800': 800, 'psp': 5998, 'spacebucks': 6948, '083': 69, '6089': 658, 'squeezed': 7029, 'maintaining': 4744, 'dreading': 2704, 'thou': 7509, 'suggestion': 7216, 'lands': 4401, 'helps': 3744, 'forgt': 3247, 'ajith': 1010, 'ooooooh': 5415, 'yoville': 8413, 'mega': 4857, 'asda': 1209, 'counts': 2252, 'officer': 5363, 'bffs': 1483, 'carly': 1838, 'seperated': 6598, '〨ud': 8443, 'brolly': 1685, 'franxx': 3272, 'prometazine': 5965, 'syrup': 7313, '5mls': 646, 'feed': 3088, 'shu': 6724, 'singapore': 6762, 'victoria': 7955, 'island': 4115, 'pocay': 5771, 'wocay': 8254, '2morrowxxxx': 462, 'broth': 1687, 'ramen': 6093, 'fowler': 3264, 'tats': 7361, 'flew': 3179, '09058094583': 207, 'attention': 1258, 'tix': 7565, 'fne': 3207, 'youdoing': 8403, 'worc': 8275, 'foregate': 3235, 'shrub': 6722, 'get4an18th': 3426, '32000': 506, 'legitimat': 4468, 'efreefone': 2811, 'pendent': 5619, 'toilet': 7593, 'stolen': 7105, 'cops': 2223, 'hu': 3881, 'navigate': 5159, 'choosing': 1993, 'require': 6269, 'guidance': 3599, 'chick': 1963, 'boobs': 1579, 'revealing': 6318, 'sparkling': 6957, 'breaks': 1654, '45': 572, '0121': 5, '2025050': 407, 'shortbreaks': 6698, 'org': 5452, 'gyno': 3616, 'belong': 1458, 'gamb': 3370, 'treasure': 7686, '820554ad0a1705572711': 752, '09050000332': 186, 'positive': 5821, 'negative': 5185, 'hmmmm': 3792, 'command': 2116, 'stressful': 7137, 'holby': 3803, '09064017295': 245, 'li': 4490, 'lecturer': 4463, 'repeating': 6253, 'yeovil': 8384, 'motor': 5038, 'rhode': 6327, 'bong': 1576, 'ofcourse': 5353, '2p': 471, '08448350055': 71, 'planettalkinstant': 5724, 'marvel': 4793, 'ultimate': 7787, 'spider': 6982, '83338': 764, '8ball': 820, 'tamilnadu': 7348, 'tip': 7553, '07808247860': 41, '08719899229': 181, '40411': 550, 'identification': 3944, 'limit': 4521, 'boundaries': 1604, 'endless': 2856, 'reassuring': 6149, 'young': 8405, 'referin': 6189, 'saibaba': 6443, 'colany': 2086, 'chic': 1962, 'declare': 2444, '49557': 587, 'disappointment': 2592, 'irritation': 4109, 'tantrum': 7351, 'compliments': 2143, 'adventuring': 952, 'chief': 1966, 'gsex': 3582, '2667': 429, 'wc1n': 8103, '3xx': 543, '3mobile': 534, 'chatlines': 1927, 'inclu': 4001, 'servs': 6609, 'l8er': 4370, 'bailiff': 1341, 'mouse': 5042, 'desk': 2508, 'childporn': 1971, 'jumpers': 4244, 'hat': 3681, 'belt': 1462, 'cribbs': 2295, 'spiritual': 6989, 'barring': 1376, 'sudden': 7203, 'influx': 4028, 'kane': 4272, 'shud': 6725, 'pshew': 5997, 'units': 7829, 'accent': 884, '4years': 615, 'dental': 2486, 'nmde': 5249, 'dump': 2750, 'heap': 3711, 'lowes': 4654, 'salesman': 6451, '087187272008': 165, 'now1': 5297, 'pity': 5711, 'suggestions': 7217, 'bitching': 1515}\n"
     ]
    }
   ],
   "source": [
    "''' Cuvintele distincte din text: '''\n",
    "\n",
    "print(vect.vocabulary_)"
   ]
  },
  {
   "cell_type": "code",
   "execution_count": 83,
   "metadata": {},
   "outputs": [
    {
     "name": "stdout",
     "output_type": "stream",
     "text": [
      "  (0, 4248)\t1\n",
      "  (0, 5779)\t1\n",
      "  (0, 2282)\t1\n",
      "  (0, 1284)\t1\n",
      "  (0, 1719)\t1\n",
      "  (0, 3555)\t1\n",
      "  (0, 8285)\t1\n",
      "  (0, 4374)\t1\n",
      "  (0, 1717)\t1\n",
      "  (0, 2007)\t1\n",
      "  (0, 3515)\t1\n",
      "  (0, 1064)\t1\n",
      "  (0, 8083)\t1\n",
      "  (1, 5377)\t1\n",
      "  (1, 4410)\t1\n",
      "  (1, 4216)\t1\n",
      "  (1, 8191)\t1\n",
      "  (1, 5403)\t1\n",
      "  (2, 3280)\t1\n",
      "  (2, 2889)\t2\n",
      "  (2, 8243)\t1\n",
      "  (2, 2123)\t1\n",
      "  (2, 8203)\t1\n",
      "  (2, 3018)\t2\n",
      "  (2, 2341)\t1\n",
      "  :\t:\n",
      "  (5567, 2781)\t1\n",
      "  (5567, 309)\t1\n",
      "  (5567, 710)\t1\n",
      "  (5567, 5840)\t1\n",
      "  (5567, 165)\t1\n",
      "  (5567, 5297)\t1\n",
      "  (5568, 3813)\t1\n",
      "  (5568, 3484)\t1\n",
      "  (5568, 3267)\t1\n",
      "  (5568, 2921)\t1\n",
      "  (5569, 5022)\t1\n",
      "  (5569, 5711)\t1\n",
      "  (5569, 7217)\t1\n",
      "  (5570, 3280)\t1\n",
      "  (5570, 8129)\t1\n",
      "  (5570, 4512)\t1\n",
      "  (5570, 2546)\t1\n",
      "  (5570, 3392)\t1\n",
      "  (5570, 1753)\t1\n",
      "  (5570, 3609)\t1\n",
      "  (5570, 4067)\t1\n",
      "  (5570, 911)\t1\n",
      "  (5570, 1515)\t1\n",
      "  (5571, 7709)\t1\n",
      "  (5571, 6366)\t1\n"
     ]
    }
   ],
   "source": [
    "''' Reprezentarea ca vectori rari: '''\n",
    "\n",
    "print(data_spam_X)"
   ]
  },
  {
   "cell_type": "code",
   "execution_count": 84,
   "metadata": {},
   "outputs": [
    {
     "name": "stdout",
     "output_type": "stream",
     "text": [
      "[[0 0 0 ... 0 0 0]\n",
      " [0 0 0 ... 0 0 0]\n",
      " [0 0 0 ... 0 0 0]\n",
      " ...\n",
      " [0 0 0 ... 0 0 0]\n",
      " [0 0 0 ... 0 0 0]\n",
      " [0 0 0 ... 0 0 0]]\n"
     ]
    }
   ],
   "source": [
    "''' Reprezentarea ca vectori: '''\n",
    "\n",
    "print(data_spam_X.toarray())"
   ]
  },
  {
   "cell_type": "code",
   "execution_count": 85,
   "metadata": {},
   "outputs": [
    {
     "name": "stdout",
     "output_type": "stream",
     "text": [
      "  (0, 1064)\t1.0\n",
      "  (0, 1284)\t1.0\n",
      "  (0, 1717)\t1.0\n",
      "  (0, 1719)\t1.0\n",
      "  (0, 2007)\t1.0\n",
      "  (0, 2282)\t0.5\n",
      "  (0, 3515)\t0.5\n",
      "  (0, 3555)\t0.3333333333333333\n",
      "  (0, 4248)\t1.0\n",
      "  (0, 4374)\t1.0\n",
      "  (0, 5779)\t1.0\n",
      "  (0, 8083)\t0.5\n",
      "  (0, 8285)\t0.5\n",
      "  (1, 4216)\t1.0\n",
      "  (1, 4410)\t0.5\n",
      "  (1, 5377)\t0.3333333333333333\n",
      "  (1, 5403)\t1.0\n",
      "  (1, 8191)\t0.5\n",
      "  (2, 77)\t1.0\n",
      "  (2, 403)\t1.0\n",
      "  (2, 412)\t1.0\n",
      "  (2, 794)\t1.0\n",
      "  (2, 1141)\t1.0\n",
      "  (2, 2123)\t1.0\n",
      "  (2, 2341)\t1.0\n",
      "  :\t:\n",
      "  (5567, 5840)\t1.0\n",
      "  (5567, 5934)\t0.5\n",
      "  (5567, 6104)\t1.0\n",
      "  (5567, 7546)\t0.3333333333333333\n",
      "  (5567, 7696)\t1.0\n",
      "  (5567, 8260)\t1.0\n",
      "  (5568, 2921)\t1.0\n",
      "  (5568, 3267)\t1.0\n",
      "  (5568, 3484)\t0.5\n",
      "  (5568, 3813)\t0.5\n",
      "  (5569, 5022)\t1.0\n",
      "  (5569, 5711)\t1.0\n",
      "  (5569, 7217)\t1.0\n",
      "  (5570, 911)\t1.0\n",
      "  (5570, 1515)\t1.0\n",
      "  (5570, 1753)\t0.5\n",
      "  (5570, 2546)\t0.3333333333333333\n",
      "  (5570, 3280)\t0.3333333333333333\n",
      "  (5570, 3392)\t1.0\n",
      "  (5570, 3609)\t0.5\n",
      "  (5570, 4067)\t1.0\n",
      "  (5570, 4512)\t0.3333333333333333\n",
      "  (5570, 8129)\t0.3333333333333333\n",
      "  (5571, 6366)\t1.0\n",
      "  (5571, 7709)\t0.5\n"
     ]
    }
   ],
   "source": [
    "''' Se realizeaza scalarea datelor '''\n",
    "\n",
    "scaler = MaxAbsScaler()\n",
    "\n",
    "data_spam_X = scaler.fit_transform(data_spam_X)\n",
    "print(data_spam_X)"
   ]
  },
  {
   "cell_type": "code",
   "execution_count": 86,
   "metadata": {},
   "outputs": [
    {
     "name": "stdout",
     "output_type": "stream",
     "text": [
      "8444\n"
     ]
    }
   ],
   "source": [
    "''' Dimensiunea vocabularului: '''\n",
    "\n",
    "feature_names = vect.get_feature_names()\n",
    "print(len(feature_names))"
   ]
  },
  {
   "cell_type": "code",
   "execution_count": 87,
   "metadata": {},
   "outputs": [
    {
     "name": "stdout",
     "output_type": "stream",
     "text": [
      "['00', '000', '000pes', '008704050406', '0089', '0121', '01223585236', '01223585334', '0125698789', '02', '0207', '02072069400', '02073162414', '02085076972', '021', '03', '04', '0430', '05', '050703', '0578', '06', '07', '07008009200', '07046744435', '07090201529', '07090298926', '07099833605', '07123456789', '0721072', '07732584351', '07734396839', '07742676969', '07753741225', '0776xxxxxxx', '07781482378', '07786200117', '077xxx', '078', '07801543489', '07808', '07808247860', '07808726822', '07815296484', '07821230901', '078498', '07880867867', '0789xxxxxxx', '07946746291', '0796xxxxxx', '07973788240', '07xxxxxxxxx', '08', '0800', '08000407165', '08000776320', '08000839402', '08000930705', '08000938767', '08001950382', '08002888812', '08002986030', '08002986906', '08002988890', '08006344447', '0808', '08081263000', '08081560665', '0825', '083', '0844', '08448350055', '08448714184', '0845', '08450542832', '08452810071', '08452810073', '08452810075over18', '0870', '08700435505150p', '08700469649', '08700621170150p', '08701213186', '08701237397', '08701417012', '08701417012150p', '0870141701216', '087016248', '08701752560', '087018728737', '0870241182716', '08702490080', '08702840625', '08704050406', '08704439680', '08704439680ts', '08706091795', '0870737910216yrs', '08707500020', '08707509020', '0870753331018', '08707808226', '08708034412', '08708800282', '08709222922', '08709501522', '0871', '087104711148', '08712101358', '08712103738', '0871212025016', '08712300220', '087123002209am', '08712317606', '08712400200', '08712400602450p', '08712400603', '08712402050', '08712402578', '08712402779', '08712402902', '08712402972', '08712404000', '08712405020', '08712405022', '08712460324', '08712466669', '0871277810710p', '0871277810810', '0871277810910p', '08714342399', '087147123779am', '08714712379', '08714712388', '08714712394', '08714712412', '08714714011', '08715203028', '08715203649', '08715203652', '08715203656', '08715203677', '08715203685', '08715203694', '08715205273', '08715500022', '08715705022', '08717111821', '08717168528', '08717205546', '0871750', '08717507382', '08717509990', '08717890890', '08717895698', '08717898035', '08718711108', '08718720201', '08718723815', '08718725756', '08718726270', '087187262701', '08718726970', '08718726971', '08718726978', '087187272008', '08718727868', '08718727870', '08718727870150ppm', '08718730555', '08718730666', '08718738001', '08718738002', '08718738034', '08719180219', '08719180248', '08719181259', '08719181503', '08719181513', '08719839835', '08719899217', '08719899229', '08719899230', '09', '09041940223', '09050000301', '09050000332', '09050000460', '09050000555', '09050000878', '09050000928', '09050001295', '09050001808', '09050002311', '09050003091', '09050005321', '09050090044', '09050280520', '09053750005', '09056242159', '09057039994', '09058091854', '09058091870', '09058094454', '09058094455', '09058094507', '09058094565', '09058094583', '09058094594', '09058094597', '09058094599', '09058095107', '09058095201', '09058097189', '09058097218', '09058098002', '09058099801', '09061104276', '09061104283', '09061209465', '09061213237', '09061221061', '09061221066', '09061701444', '09061701461', '09061701851', '09061701939', '09061702893', '09061743386', '09061743806', '09061743810', '09061743811', '09061744553', '09061749602', '09061790121', '09061790125', '09061790126', '09063440451', '09063442151', '09063458130', '0906346330', '09064011000', '09064012103', '09064012160', '09064015307', '09064017295', '09064017305', '09064018838', '09064019014', '09064019788', '09065069120', '09065069154', '09065171142', '09065174042', '09065394514', '09065394973', '09065989180', '09065989182', '09066350750', '09066358152', '09066358361', '09066361921', '09066362206', '09066362220', '09066362231', '09066364311', '09066364349', '09066364589', '09066368327', '09066368470', '09066368753', '09066380611', '09066382422', '09066612661', '09066649731from', '09066660100', '09071512432', '09071512433', '09071517866', '09077818151', '09090204448', '09090900040', '09094100151', '09094646631', '09094646899', '09095350301', '09096102316', '09099725823', '09099726395', '09099726429', '09099726481', '09099726553', '09111030116', '09111032124', '09701213186', '0a', '0quit', '10', '100', '1000', '1000call', '1000s', '100p', '100percent', '100txt', '1013', '1030', '10am', '10k', '10p', '10ppm', '10th', '11', '1120', '113', '1131', '114', '1146', '116', '1172', '118p', '11mths', '11pm', '12', '1205', '120p', '121', '1225', '123', '125', '1250', '125gift', '128', '12hours', '12hrs', '12mths', '13', '130', '1327', '139', '14', '140', '1405', '140ppm', '145', '1450', '146tf150p', '14tcr', '14thmarch', '15', '150', '1500', '150p', '150p16', '150pm', '150ppermesssubscription', '150ppm', '150ppmpobox10183bhamb64xe', '150ppmsg', '150pw', '151', '153', '15541', '15pm', '16', '165', '1680', '169', '177', '18', '180', '1843', '18p', '18yrs', '195', '1956669', '1apple', '1b6a5ecef91ff9', '1cup', '1da', '1er', '1hr', '1im', '1lemon', '1mega', '1million', '1pm', '1st', '1st4terms', '1stchoice', '1stone', '1thing', '1tulsi', '1win150ppmx3', '1winaweek', '1winawk', '1x150p', '1yf', '20', '200', '2000', '2003', '2004', '2005', '2006', '2007', '200p', '2025050', '20m12aq', '20p', '21', '21870000', '21st', '22', '220', '220cm2', '2309', '23f', '23g', '24', '24hrs', '24m', '24th', '25', '250', '250k', '255', '25p', '26', '2667', '26th', '27', '28', '2814032', '28days', '28th', '28thfeb', '29', '2b', '2bold', '2c', '2channel', '2day', '2docd', '2end', '2exit', '2ez', '2find', '2getha', '2geva', '2go', '2gthr', '2hook', '2hrs', '2i', '2kbsubject', '2lands', '2marrow', '2moro', '2morow', '2morro', '2morrow', '2morrowxxxx', '2mro', '2mrw', '2mwen', '2nd', '2nhite', '2nights', '2nite', '2optout', '2p', '2price', '2px', '2rcv', '2stop', '2stoptx', '2stoptxt', '2u', '2u2', '2watershd', '2waxsto', '2wks', '2wt', '2wu', '2years', '2yr', '2yrs', '30', '300', '3000', '300603', '300603t', '300p', '3030', '30apr', '30ish', '30pm', '30pp', '30s', '30th', '31', '3100', '310303', '31p', '32', '32000', '3230', '32323', '326', '33', '330', '350', '3510i', '35p', '3650', '36504', '3680', '373', '3750', '37819', '38', '382', '391784', '3aj', '3d', '3days', '3g', '3gbp', '3hrs', '3lions', '3lp', '3miles', '3mins', '3mobile', '3optical', '3pound', '3qxj9', '3rd', '3ss', '3uz', '3wks', '3x', '3xx', '40', '400', '400mins', '400thousad', '402', '4041', '40411', '40533', '40gb', '40mph', '41685', '41782', '420', '42049', '4217', '42478', '42810', '430', '434', '44', '440', '4403ldnw1a7rw18', '44345', '447797706009', '447801259231', '448712404000', '449050000301', '449071512431', '45', '450', '450p', '450ppw', '450pw', '45239', '45pm', '47', '4719', '4742', '47per', '48', '4882', '48922', '49', '49557', '4a', '4brekkie', '4d', '4eva', '4few', '4fil', '4get', '4give', '4got', '4goten', '4info', '4jx', '4msgs', '4mths', '4my', '4qf2', '4t', '4th', '4the', '4thnov', '4txt', '4u', '4utxt', '4w', '4ward', '4wrd', '4xx26', '4years', '50', '500', '5000', '505060', '50award', '50ea', '50gbp', '50p', '50perweeksub', '50perwksub', '50pm', '50pmmorefrommobile2bremoved', '50ppm', '50rcvd', '50s', '515', '5226', '523', '5249', '526', '528', '530', '54', '542', '545', '5digital', '5free', '5ish', '5k', '5min', '5mls', '5p', '5pm', '5th', '5wb', '5we', '5wkg', '5wq', '5years', '60', '600', '6031', '6089', '60p', '61', '61200', '61610', '62220cncl', '6230', '62468', '62735', '630', '63miles', '645', '65', '650', '66', '6669', '674', '67441233', '68866', '69101', '69200', '69669', '69696', '69698', '69855', '69866', '69876', '69888', '69888nyt', '69911', '69969', '69988', '6days', '6hl', '6hrs', '6ish', '6missed', '6months', '6ph', '6pm', '6th', '6times', '6wu', '6zf', '700', '71', '7250', '7250i', '730', '731', '74355', '75', '750', '7548', '75max', '762', '7634', '7684', '77', '7732584351', '78', '786', '7876150ppm', '79', '7am', '7cfca1a', '7ish', '7mp', '7oz', '7pm', '7th', '7ws', '7zs', '80', '800', '8000930705', '80062', '8007', '80082', '80086', '80122300p', '80155', '80160', '80182', '8027', '80488', '80608', '8077', '80878', '81010', '81151', '81303', '81618', '82050', '820554ad0a1705572711', '82242', '82277', '82324', '82468', '83021', '83039', '83049', '83110', '83118', '83222', '83332', '83338', '83355', '83370', '83383', '83435', '83600', '83738', '84', '84025', '84122', '84128', '84199', '84484', '85', '850', '85023', '85069', '85222', '85233', '8552', '85555', '86021', '861', '864233', '86688', '86888', '87021', '87066', '87070', '87077', '87121', '87131', '8714714', '872', '87239', '87575', '8800', '88039', '88066', '88088', '88222', '88600', '88800', '8883', '88877', '88888', '89034', '89070', '89080', '89105', '89123', '89545', '89555', '89693', '89938', '8am', '8ball', '8lb', '8p', '8pm', '8th', '8wp', '900', '9061100010', '910', '9153', '9280114', '92h', '930', '9307622', '945', '946', '95', '9755', '9758', '97n7qp', '98321561', '99', '9996', '9ae', '9am', '9ja', '9pm', '9t', '9th', '9yt', '____', 'a21', 'a30', 'aa', 'aah', 'aaniye', 'aaooooright', 'aathi', 'ab', 'abbey', 'abdomen', 'abeg', 'abel', 'aberdeen', 'abi', 'ability', 'abiola', 'abj', 'able', 'abnormally', 'aboutas', 'abroad', 'absence', 'absolutely', 'absolutly', 'abstract', 'abt', 'abta', 'aburo', 'abuse', 'abusers', 'ac', 'academic', 'acc', 'accent', 'accenture', 'accept', 'access', 'accessible', 'accidant', 'accident', 'accidentally', 'accommodation', 'accommodationvouchers', 'accomodate', 'accomodations', 'accordin', 'accordingly', 'account', 'accounting', 'accounts', 'accumulation', 'achan', 'ache', 'achieve', 'acid', 'acknowledgement', 'acl03530150pm', 'acnt', 'aco', 'act', 'acted', 'actin', 'acting', 'action', 'activ8', 'activate', 'active', 'activities', 'actor', 'actual', 'actually', 'ad', 'adam', 'add', 'addamsfa', 'added', 'addicted', 'addie', 'adding', 'address', 'adds', 'adewale', 'adi', 'adjustable', 'admin', 'administrator', 'admirer', 'admission', 'admit', 'adore', 'adoring', 'adp', 'adress', 'adrian', 'adrink', 'ads', 'adsense', 'adult', 'adults', 'advance', 'adventure', 'adventuring', 'advice', 'advise', 'advising', 'advisors', 'aeronautics', 'aeroplane', 'afew', 'affair', 'affairs', 'affection', 'affectionate', 'affections', 'affidavit', 'afford', 'afghanistan', 'afraid', 'africa', 'african', 'aft', 'afternon', 'afternoon', 'afternoons', 'aftr', 'ag', 'agalla', 'age', 'age16', 'age23', 'agency', 'agent', 'agents', 'ages', 'agidhane', 'aging', 'ago', 'agree', 'ah', 'aha', 'ahead', 'ahhh', 'ahhhh', 'ahmad', 'ahold', 'aid', 'aids', 'aig', 'aight', 'ain', 'aint', 'air', 'air1', 'airport', 'airtel', 'aiya', 'aiyah', 'aiyar', 'aiyo', 'ajith', 'ak', 'aka', 'akon', 'al', 'alaikkum', 'alaipayuthe', 'albi', 'album', 'alcohol', 'aldrine', 'alert', 'alertfrom', 'alerts', 'aletter', 'alex', 'alfie', 'algarve', 'algebra', 'algorithms', 'ali', 'alian', 'alibi', 'alive', 'allah', 'allalo', 'allday', 'alle', 'allo', 'allow', 'allowed', 'allows', 'alot', 'alright', 'alrite', 'alter', 'alternative', 'alto18', 'aluable', 'alwa', 'alwys', 'amanda', 'amazing', 'ambitious', 'ambrith', 'american', 'ami', 'amigos', 'amk', 'amla', 'amma', 'ammae', 'ammo', 'amnow', 'amore', 'amp', 'amplikater', 'amrca', 'amrita', 'ams', 'amt', 'amused', 'amy', 'ana', 'anal', 'analysis', 'anand', 'anderson', 'andre', 'andres', 'andrews', 'andros', 'angels', 'angry', 'animal', 'animation', 'anjie', 'anjola', 'anna', 'annie', 'anniversary', 'annoncement', 'announced', 'announcement', 'annoyin', 'annoying', 'anonymous', 'anot', 'ans', 'ansr', 'answer', 'answered', 'answerin', 'answering', 'answers', 'answr', 'antelope', 'antha', 'anthony', 'anti', 'antibiotic', 'anybody', 'anymore', 'anyones', 'anyplaces', 'anythiing', 'anythin', 'anythingtomorrow', 'anytime', 'anyways', 'aom', 'apart', 'apartment', 'apes', 'apeshit', 'aphex', 'apnt', 'apo', 'apologetic', 'apologise', 'apologize', 'apology', 'app', 'apparently', 'appeal', 'appear', 'appendix', 'applausestore', 'applebees', 'apples', 'application', 'apply', 'applyed', 'applying', 'appointment', 'appointments', 'appreciate', 'appreciated', 'approaches', 'approaching', 'appropriate', 'approve', 'approved', 'approx', 'apps', 'appt', 'appy', 'april', 'aproach', 'apt', 'aptitude', 'aquarius', 'ar', 'arab', 'arabian', 'arcade', 'archive', 'ard', 'area', 'aren', 'arent', 'arestaurant', 'aretaking', 'areyouunique', 'argentina', 'argh', 'argue', 'arguing', 'argument', 'arguments', 'aries', 'arise', 'arises', 'arithmetic', 'arm', 'armand', 'armenia', 'arms', 'arng', 'arngd', 'arnt', 'aroundn', 'arr', 'arrange', 'arranging', 'arrested', 'arrival', 'arrive', 'arrived', 'arrow', 'arsenal', 'art', 'artists', 'arts', 'arty', 'arul', 'arun', 'asa', 'asap', 'asda', 'ashes', 'ashley', 'ashwini', 'asia', 'asian', 'asjesus', 'ask', 'askd', 'asked', 'askin', 'asking', 'asks', 'aslamalaikkum', 'asleep', 'asp', 'aspects', 'ass', 'assessment', 'asshole', 'assistance', 'associate', 'asssssholeeee', 'assume', 'assumed', 'asthere', 'asthma', 'astne', 'astoundingly', 'astrology', 'astronomer', 'asus', 'asusual', 'ate', 'athletic', 'athome', 'atlanta', 'atlast', 'atleast', 'atm', 'atrocious', 'attach', 'attached', 'attack', 'attempt', 'atten', 'attend', 'attended', 'attending', 'attention', 'attitude', 'attraction', 'attractive', 'attracts', 'attributed', 'atural', 'auction', 'audiitions', 'audition', 'audrey', 'audrie', 'august', 'aunt', 'auntie', 'aunties', 'aunts', 'aunty', 'aust', 'australia', 'authorise', 'auto', 'autocorrect', 'av', 'ava', 'availa', 'available', 'avalarr', 'avatar', 'avble', 'ave', 'avenge', 'avent', 'avenue', 'avin', 'avo', 'avoid', 'avoiding', 'avoids', 'await', 'awaiting', 'awake', 'award', 'awarded', 'away', 'awesome', 'awkward', 'aww', 'awww', 'ax', 'axel', 'axis', 'ay', 'ayn', 'ayo', 'b4', 'b4190604', 'b4280703', 'b4u', 'b4utele', 'ba', 'ba128nnfwfly150ppm', 'baaaaaaaabe', 'baaaaabe', 'babe', 'babes', 'babies', 'baby', 'babygoodbye', 'babyjontet', 'babysit', 'babysitting', 'bac', 'backdoor', 'backwards', 'bad', 'badass', 'badly', 'badrith', 'bag', 'bags', 'bahamas', 'baig', 'bailiff', 'bajarangabali', 'bak', 'bakra', 'bakrid', 'balance', 'ball', 'baller', 'balloon', 'balls', 'bam', 'bambling', 'band', 'bandages', 'bang', 'bangb', 'bangbabes', 'bani', 'bank', 'banks', 'banned', 'banneduk', 'banter', 'bao', 'bar', 'barbie', 'barcelona', 'bare', 'barely', 'bari', 'barkleys', 'barmed', 'barolla', 'barred', 'barrel', 'barring', 'barry', 'bars', 'base', 'based', 'bash', 'basic', 'basically', 'basket', 'basketball', 'basq', 'bat', 'batch', 'batchlor', 'bath', 'bathe', 'bathing', 'bathroom', 'batsman', 'batt', 'battery', 'battle', 'bawling', 'bay', 'bb', 'bbc', 'bbd', 'bbdeluxe', 'bbq', 'bc', 'bcaz', 'bck', 'bcm', 'bcm1896wc1n3xx', 'bcm4284', 'bcmsfwc1n3xx', 'bcoz', 'bcs', 'bcum', 'bcums', 'bcz', 'bday', 'beach', 'beads', 'bear', 'bears', 'beatings', 'beauties', 'beautiful', 'beauty', 'bec', 'becaus', 'becausethey', 'becoz', 'becz', 'bed', 'bedbut', 'bedreal', 'bedrm', 'bedroom', 'beeen', 'beehoon', 'beendropping', 'beer', 'beerage', 'beers', 'befor', 'beg', 'beggar', 'begging', 'begin', 'begins', 'begun', 'behalf', 'behave', 'bein', 'believe', 'belive', 'bell', 'bellearlier', 'belligerent', 'belly', 'belong', 'belongs', 'belovd', 'beloved', 'belt', 'ben', 'bend', 'beneath', 'beneficiary', 'benefits', 'bennys', 'bergkamp', 'best', 'best1', 'bet', 'beta', 'beth', 'betta', 'better', 'bettersn', 'bettr', 'beverage', 'bevies', 'beware', 'bf', 'bffs', 'bfore', 'bhaji', 'bhaskar', 'bhayandar', 'bian', 'biatch', 'bid', 'bids', 'big', 'bigger', 'biggest', 'bike', 'billed', 'billing', 'billion', 'bills', 'billy', 'bilo', 'bimbo', 'bin', 'biola', 'bird', 'birds', 'birla', 'biro', 'birth', 'birthdate', 'birthday', 'bishan', 'bit', 'bitch', 'bitching', 'bite', 'bites', 'bits', 'biz', 'bk', 'black', 'blackberry', 'blacko', 'blah', 'blake', 'blame', 'blank', 'blanked', 'blanket', 'blankets', 'blastin', 'bleak', 'bleh', 'bless', 'blessed', 'blessing', 'blessings', 'blimey', 'blind', 'block', 'blocked', 'blog', 'blogging', 'blogspot', 'bloke', 'blokes', 'blonde', 'bloo', 'blood', 'bloody', 'bloomberg', 'blow', 'blowing', 'blown', 'blu', 'blue', 'bluetooth', 'bluetoothhdset', 'bluff', 'blur', 'bluray', 'bmw', 'board', 'boat', 'boatin', 'bob', 'body', 'boggy', 'bognor', 'bold', 'bold2', 'bollox', 'boltblue', 'bomb', 'bone', 'bong', 'bonus', 'boo', 'boobs', 'book', 'booked', 'bookedthe', 'booking', 'bookmark', 'books', 'bookshelf', 'boooo', 'boost', 'booty', 'bootydelious', 'borderline', 'bored', 'borin', 'boring', 'born', 'borrow', 'boss', 'boston', 'bot', 'bother', 'bothering', 'bottle', 'bought', 'boundaries', 'bout', 'bowa', 'bowl', 'bowls', 'box', 'box1146', 'box139', 'box177', 'box245c2150pm', 'box326', 'box334', 'box334sk38ch', 'box385', 'box39822', 'box403', 'box420', 'box42wr29c', 'box434sk38wp150ppm18', 'box61', 'box95qu', 'box97n7qp', 'boy', 'boye', 'boyf', 'boyfriend', 'boys', 'boytoy', 'bpo', 'brah', 'brain', 'braindance', 'brainless', 'brains', 'brainy', 'brand', 'brandy', 'bras', 'brats', 'braved', 'bray', 'brb', 'brdget', 'bread', 'breadstick', 'break', 'breaker', 'breakfast', 'breakin', 'breaking', 'breaks', 'breath', 'breathe', 'breathe1', 'breather', 'breathing', 'breeze', 'breezy', 'bribe', 'bridal', 'bridge', 'bridgwater', 'brief', 'bright', 'brighten', 'brilliant', 'brilliantly', 'brin', 'bring', 'bringing', 'brings', 'brisk', 'brison', 'bristol', 'british', 'britney', 'bro', 'broad', 'broadband', 'broke', 'broken', 'brolly', 'bros', 'broth', 'brothas', 'brother', 'brothers', 'brought', 'brown', 'brownie', 'brownies', 'browse', 'browser', 'browsin', 'bruce', 'brum', 'bruv', 'bslvyl', 'bsn', 'bsnl', 'bstfrnd', 'bt', 'bthere', 'btw', 'btwn', 'bubbletext', 'bucks', 'bud', 'buddy', 'buddys', 'budget', 'buen', 'buff', 'buffet', 'buffy', 'bugis', 'build', 'building', 'built', 'bulbs', 'bull', 'bullshit', 'bunch', 'bundle', 'bunkers', 'buns', 'burden', 'burger', 'burgundy', 'burial', 'burn', 'burning', 'burns', 'burnt', 'burrito', 'bus', 'bus8', 'buses', 'busetop', 'business', 'busty', 'busy', 'butt', 'buttheres', 'butting', 'buttons', 'buy', 'buyer', 'buyers', 'buying', 'buz', 'buzy', 'buzz', 'buzzzz', 'bw', 'bx', 'bx420', 'bx526', 'byatch', 'bye', 'c52', 'cab', 'cabin', 'cable', 'cafe', 'cage', 'cake', 'cakes', 'cal', 'calculated', 'calculation', 'cali', 'calicut', 'california', 'call09050000327', 'call2optout', 'callback', 'callcost', 'callcost150ppmmobilesvary', 'calld', 'called', 'caller', 'callers', 'callertune', 'callfreefone', 'callin', 'calling', 'callon', 'calls', 'calls1', 'calm', 'cam', 'camcorder', 'came', 'camera', 'camp', 'campus', 'camry', 'canada', 'canal', 'canary', 'cancel', 'canceled', 'cancelled', 'cancer', 'canlove', 'cann', 'canname', 'cantdo', 'canteen', 'capacity', 'capital', 'cappuccino', 'caps', 'captain', 'captaining', 'car', 'card', 'cardiff', 'cardin', 'cards', 'care', 'careabout', 'cared', 'career', 'careers', 'careful', 'carefully', 'careless', 'cares', 'caring', 'carlie', 'carlin', 'carlos', 'carly', 'carolina', 'caroline', 'carpark', 'carry', 'carryin', 'cars', 'cartons', 'cartoon', 'case', 'cash', 'cashbin', 'cashed', 'cashto', 'casing', 'cast', 'casting', 'castor', 'casualty', 'cat', 'catch', 'catches', 'catching', 'categories', 'caught', 'cause', 'causes', 'causing', 'cave', 'caveboy', 'cbe', 'cc', 'cc100p', 'ccna', 'cd', 'cdgt', 'cds', 'cedar', 'ceiling', 'celeb', 'celebrate', 'celebrated', 'celebration', 'celebrations', 'cell', 'census', 'center', 'centre', 'century', 'cer', 'cereals', 'ceri', 'certainly', 'certificate', 'cha', 'chachi', 'chad', 'chain', 'challenge', 'challenging', 'champ', 'champlaxigating', 'champneys', 'chance', 'chances', 'change', 'changed', 'changes', 'changing', 'channel', 'chapel', 'chaps', 'chapter', 'character', 'characters', 'charge', 'charged', 'charges', 'charity', 'charles', 'charlie', 'charming', 'chart', 'charts', 'chase', 'chasing', 'chastity', 'chat', 'chat80155', 'chatlines', 'chatter', 'chatting', 'cheap', 'cheaper', 'cheat', 'cheating', 'chechi', 'check', 'checkboxes', 'checked', 'checkin', 'checking', 'checkmate', 'checkup', 'cheek', 'cheer', 'cheered', 'cheers', 'cheery', 'cheese', 'cheesy', 'cheetos', 'chef', 'chennai', 'cheque', 'cherish', 'cherthala', 'chess', 'chest', 'chex', 'cheyyamo', 'chez', 'chg', 'chgs', 'chic', 'chick', 'chicken', 'chickened', 'chief', 'chik', 'chikku', 'child', 'childish', 'childporn', 'children', 'childrens', 'chile', 'chill', 'chillaxin', 'chillin', 'china', 'chinatown', 'chinchillas', 'chinese', 'chinky', 'chinnu', 'chiong', 'chip', 'chit', 'chk', 'chloe', 'chocolate', 'choice', 'choices', 'choose', 'choosing', 'chop', 'chords', 'chores', 'chosen', 'chrgd', 'christ', 'christians', 'christmas', 'christmassy', 'chuck', 'chuckin', 'church', 'ciao', 'cine', 'cinema', 'citizen', 'city', 'citylink', 'cl', 'claim', 'claimcode', 'claims', 'claire', 'clarification', 'clarify', 'clark', 'clas', 'clash', 'class', 'classes', 'classic', 'classmates', 'claypot', 'cld', 'clean', 'cleaning', 'clear', 'cleared', 'clearer', 'clearing', 'clearly', 'clever', 'click', 'cliff', 'cliffs', 'clip', 'clock', 'clocks', 'clos1', 'close', 'closeby', 'closed', 'closer', 'closes', 'closingdate04', 'cloth', 'clothes', 'cloud', 'clover', 'club', 'club4', 'club4mobiles', 'clubmoby', 'clubsaisai', 'clubzed', 'clue', 'cm', 'cm2', 'cme', 'cmon', 'cn', 'cnl', 'cnn', 'cnupdates', 'coach', 'coast', 'coat', 'coaxing', 'coca', 'coccooning', 'cochin', 'cock', 'cocksuckers', 'coco', 'code', 'coffee', 'coherently', 'coimbatore', 'coin', 'coincidence', 'coins', 'cola', 'colany', 'cold', 'colin', 'collages', 'collapsed', 'colleagues', 'collect', 'collected', 'collecting', 'collection', 'colleg', 'college', 'color', 'colour', 'colourful', 'colours', 'com', 'com1win150ppmx3age16', 'com1win150ppmx3age16subscription', 'comb', 'combination', 'combine', 'come', 'comedy', 'comes', 'comfey', 'comfort', 'comin', 'coming', 'comingdown', 'command', 'comment', 'commercial', 'commit', 'common', 'community', 'como', 'comp', 'companies', 'companion', 'company', 'compare', 'compass', 'compensation', 'competition', 'complacent', 'complain', 'complaining', 'complaint', 'complementary', 'complete', 'completed', 'completely', 'completes', 'completing', 'complexities', 'complimentary', 'compliments', 'comprehensive', 'compromised', 'compulsory', 'computational', 'computer', 'computerless', 'computers', 'comuk', 'conacted', 'concentrate', 'concentrating', 'concentration', 'concern', 'concerned', 'concert', 'conclusion', 'condition', 'conditions', 'conducts', 'conected', 'conference', 'confidence', 'configure', 'confirm', 'confirmd', 'confirmed', 'conform', 'confused', 'confuses', 'congrats', 'congratulation', 'congratulations', 'connect', 'connected', 'connection', 'connections', 'cons', 'consensus', 'consent', 'conserve', 'consider', 'considering', 'consistently', 'console', 'constant', 'constantly', 'contact', 'contacted', 'contacts', 'contains', 'content', 'contented', 'contention', 'contents', 'continent', 'continue', 'continued', 'contract', 'contribute', 'control', 'convenience', 'conversations', 'converted', 'converter', 'convey', 'conveying', 'convince', 'convinced', 'convincing', 'cook', 'cooked', 'cookies', 'cooking', 'cool', 'cooped', 'cooperative', 'copied', 'copies', 'coping', 'cops', 'copy', 'corect', 'cornwall', 'corporation', 'corrct', 'correct', 'correction', 'correctly', 'corrupt', 'corvettes', 'cos', 'cosign', 'cost', 'costa', 'costing', 'costs', 'costume', 'costumes', 'couch', 'cougar', 'cough', 'coughing', 'coulda', 'couldn', 'count', 'countin', 'countinlots', 'country', 'counts', 'coupla', 'couple', 'courage', 'courageous', 'course', 'court', 'courtroom', 'cousin', 'cover', 'coveragd', 'covers', 'coz', 'cozy', 'cps', 'cr', 'cr01327bt', 'cr9', 'crab', 'crack', 'craigslist', 'crammed', 'cramps', 'crap', 'crash', 'crashed', 'crashing', 'crave', 'craving', 'craziest', 'crazy', 'crazyin', 'crckt', 'cream', 'created', 'creative', 'creativity', 'credit', 'credited', 'credits', 'creep', 'creepy', 'cres', 'cribbs', 'cricket', 'cricketer', 'crickiting', 'cried', 'crisis', 'cro1327', 'crore', 'cross', 'crossing', 'crowd', 'croydon', 'crucial', 'crucify', 'cruel', 'cruise', 'cruisin', 'crushes', 'crying', 'cs', 'csbcm4235wc1n3xx', 'csc', 'csh11', 'cst', 'cstore', 'ctagg', 'ctargg', 'cthen', 'ctla', 'cts', 'cttargg', 'ctter', 'cttergg', 'ctxt', 'cu', 'cuck', 'cud', 'cuddle', 'cuddled', 'cuddling', 'cudnt', 'culdnt', 'cultures', 'cum', 'cumin', 'cumming', 'cup', 'cupboard', 'cuppa', 'curfew', 'curious', 'current', 'currently', 'curry', 'curtsey', 'cusoon', 'cust', 'custcare', 'custom', 'customer', 'customercare', 'customers', 'customersqueries', 'cut', 'cute', 'cutefrnd', 'cutest', 'cutie', 'cutter', 'cutting', 'cuz', 'cw25wx', 'cya', 'cyclists', 'cysts', 'd3wv', 'da', 'daaaaa', 'dabbles', 'dabooks', 'dad', 'daddy', 'dads', 'dai', 'daily', 'dammit', 'damn', 'dan', 'dancce', 'dance', 'dancin', 'dancing', 'dane', 'dang', 'danger', 'dangerous', 'dao', 'dare', 'dark', 'darker', 'darkest', 'darkness', 'darlin', 'darling', 'darlings', 'darren', 'dartboard', 'das', 'dasara', 'dat', 'data', 'date', 'datebox1282essexcm61xn', 'dates', 'dating', 'dats', 'datz', 'dave', 'dawns', 'day', 'days', 'daytime', 'daywith', 'db', 'dbuk', 'dd', 'dead', 'deal', 'dealer', 'dealing', 'deals', 'dear', 'dear1', 'dearer', 'dearly', 'death', 'debating', 'dec', 'decades', 'december', 'decent', 'decide', 'decided', 'deciding', 'decimal', 'decision', 'decisions', 'deck', 'decking', 'declare', 'decorating', 'dedicate', 'dedicated', 'deduct', 'deep', 'deepak', 'deepest', 'deer', 'deeraj', 'def', 'defeat', 'defer', 'deficient', 'definite', 'definitely', 'definitly', 'defo', 'degree', 'degrees', 'dehydrated', 'dehydration', 'del', 'delay', 'delayed', 'delete', 'deleted', 'delhi', 'delicious', 'deliver', 'delivered', 'deliveredtomorrow', 'delivery', 'deltomorrow', 'deluxe', 'dem', 'demand', 'den', 'dena', 'dengra', 'denis', 'dent', 'dental', 'dentist', 'dentists', 'deny', 'denying', 'department', 'dependable', 'dependents', 'depends', 'deposit', 'deposited', 'depressed', 'depression', 'dept', 'der', 'derek', 'derp', 'description', 'desert', 'deserve', 'designation', 'desires', 'desk', 'desparate', 'desparately', 'desperate', 'despite', 'dessert', 'destination', 'destiny', 'detailed', 'details', 'determine', 'determined', 'detroit', 'deus', 'develop', 'developed', 'developer', 'device', 'devils', 'deviousbitch', 'devouring', 'dey', 'dha', 'dhanush', 'dhina', 'dhoni', 'dhorte', 'di', 'dial', 'dialling', 'dialogue', 'diamond', 'diamonds', 'diapers', 'dice', 'dick', 'dict', 'dictionary', 'did', 'diddy', 'didn', 'didnt', 'didntgive', 'die', 'died', 'diesel', 'diet', 'dieting', 'diff', 'differ', 'difference', 'differences', 'different', 'difficult', 'difficulties', 'dificult', 'digi', 'digital', 'digits', 'dignity', 'dileep', 'dime', 'dimension', 'din', 'dine', 'dined', 'dinero', 'ding', 'dining', 'dinner', 'dino', 'dint', 'dip', 'dippeditinadew', 'direct', 'directly', 'director', 'directors', 'dirt', 'dirtiest', 'dirty', 'dis', 'disagreeable', 'disappeared', 'disappointment', 'disaster', 'disasters', 'disastrous', 'disc', 'disclose', 'disconnect', 'disconnected', 'discount', 'discreet', 'discuss', 'discussed', 'diseases', 'disk', 'dislikes', 'dismay', 'dismissial', 'display', 'distance', 'distract', 'disturb', 'disturbance', 'disturbing', 'ditto', 'divert', 'division', 'divorce', 'diwali', 'dizzamn', 'dizzee', 'dl', 'dled', 'dlf', 'dload', 'dnot', 'dnt', 'dob', 'dobby', 'doc', 'dock', 'docks', 'docs', 'doctor', 'doctors', 'documents', 'dodda', 'dodgey', 'does', 'doesdiscount', 'doesn', 'doesnt', 'dog', 'dogbreath', 'dogg', 'doggin', 'dogging', 'doggy', 'dogs', 'dogwood', 'doin', 'doinat', 'doing', 'doit', 'doke', 'dokey', 'doll', 'dollar', 'dollars', 'dolls', 'dom', 'domain', 'don', 'donate', 'donno', 'dont', 'dontcha', 'dontignore', 'dontmatter', 'dontplease', 'donyt', 'dooms', 'door', 'doors', 'dorm', 'dormitory', 'dorothy', 'dose', 'dosomething', 'dot', 'double', 'doublemins', 'doubles', 'doubletxt', 'doubt', 'doug', 'dough', 'download', 'downloaded', 'downloads', 'downon', 'downs', 'downstem', 'dozens', 'dps', 'dr', 'dracula', 'drama', 'dramastorm', 'dramatic', 'drastic', 'draw', 'draws', 'dreading', 'dream', 'dreams', 'dreamz', 'dress', 'dressed', 'dresser', 'drink', 'drinkin', 'drinking', 'drinks', 'drivby', 'drive', 'driver', 'drivin', 'driving', 'drizzling', 'drms', 'drop', 'dropped', 'drops', 'drove', 'drpd', 'drug', 'drugdealer', 'drugs', 'drum', 'drunk', 'drunkard', 'drunken', 'drvgsto', 'dry', 'dryer', 'dsn', 'dt', 'dual', 'dub', 'dubsack', 'duchess', 'ducking', 'dude', 'dudes', 'dudette', 'duffer', 'dull', 'dumb', 'dump', 'dun', 'dungerees', 'dunno', 'duo', 'durban', 'durham', 'dusk', 'dust', 'duvet', 'dvd', 'dvg', 'dwn', 'dying', 'dysentry', 'e14', 'eachother', 'ear', 'earlier', 'earliest', 'early', 'earn', 'earning', 'ears', 'earth', 'easier', 'easiest', 'easily', 'east', 'eastenders', 'easter', 'easy', 'eat', 'eaten', 'eatin', 'eating', 'ebay', 'ec2a', 'echo', 'eckankar', 'ecstacy', 'ecstasy', 'ed', 'edge', 'edhae', 'edison', 'edition', 'edrunk', 'edu', 'education', 'educational', 'edukkukayee', 'edward', 'edwards', 'ee', 'eek', 'eerie', 'eerulli', 'effect', 'effects', 'efficient', 'efreefone', 'egbon', 'egg', 'eggs', 'ego', 'eh', 'eh74rr', 'eighth', 'eightish', 'eire', 'el', 'ela', 'elaborate', 'elaborating', 'elaine', 'elama', 'elaya', 'eldest', 'election', 'elections', 'electricity', 'elephant', 'elliot', 'ello', 'elvis', 'em', 'email', 'emailed', 'embarassed', 'embarassing', 'embarrassed', 'embassy', 'emc1', 'emergency', 'emerging', 'emigrated', 'emily', 'emotion', 'employee', 'employer', 'en', 'enc', 'end', 'ended', 'ending', 'endless', 'endof', 'endowed', 'ends', 'enemies', 'enemy', 'energy', 'eng', 'engaged', 'engagement', 'engalnd', 'engin', 'england', 'english', 'enjoy', 'enjoyed', 'enjoyin', 'enjoying', 'enketa', 'enna', 'ennal', 'ente', 'enter', 'entered', 'enters', 'entertain', 'entertaining', 'entey', 'entire', 'entirely', 'entitled', 'entrepreneurs', 'entropication', 'entry', 'entry41', 'enufcredeit', 'enuff', 'envelope', 'environment', 'envy', 'epi', 'eppolum', 'epsilon', 'equally', 'er', 'ere', 'ericson', 'ericsson', 'erm', 'erode', 'erotic', 'err', 'error', 'errors', 'ertini', 'eruku', 'erupt', 'erutupalam', 'esaplanade', 'escalator', 'escape', 'ese', 'eshxxxxxxxxxxx', 'espe', 'especially', 'esplanade', 'essay', 'essential', 'establish', 'eta', 'ethnicity', 'etlp', 'ettans', 'euro', 'euro2004', 'eurodisinc', 'europe', 'evaluation', 'evaporated', 'eve', 'eveb', 'evening', 'evenings', 'event', 'events', 'eventually', 'every1', 'everybody', 'everyboy', 'everyday', 'everyones', 'everyso', 'everythin', 'everytime', 'evey', 'eviction', 'evil', 'evn', 'evng', 'evo', 'evone', 'evr', 'evrey', 'evry', 'evry1', 'evrydy', 'ew', 'ex', 'exact', 'exactly', 'exam', 'exams', 'excellent', 'exchanged', 'excited', 'exciting', 'excuse', 'excused', 'excuses', 'exe', 'executive', 'exercise', 'exeter', 'exhaust', 'exhausted', 'exhibition', 'exist', 'exmpel', 'exorcism', 'exorcist', 'exp', 'expect', 'expected', 'expecting', 'expects', 'expensive', 'experience', 'experiencehttp', 'experiment', 'expert', 'expired', 'expires', 'expiry', 'explain', 'explicit', 'explicitly', 'explosive', 'exposed', 'exposes', 'express', 'expression', 'expressoffer', 'ext', 'exterminator', 'extra', 'extract', 'extreme', 'ey', 'eye', 'eyed', 'eyes', 'f4q', 'fa', 'fab', 'faber', 'face', 'facebook', 'facilities', 'fact', 'factory', 'facts', 'faded', 'faggot', 'faggy', 'faglord', 'failed', 'failing', 'fails', 'failure', 'fainting', 'fair', 'faith', 'fake', 'fakeye', 'fal', 'falconerf', 'fall', 'fallen', 'falling', 'falls', 'fals', 'famamus', 'familiar', 'family', 'famous', 'fan', 'fancied', 'fancies', 'fancy', 'fans', 'fantasies', 'fantastic', 'fantasy', 'far', 'farm', 'farrell', 'farting', 'fassyole', 'fast', 'faster', 'fastest', 'fat', 'fated', 'father', 'fathima', 'fats', 'fatty', 'fault', 'fav', 'fave', 'favor', 'favorite', 'favour', 'favourite', 'fb', 'fear', 'feathery', 'features', 'feb', 'february', 'fed', 'fedex', 'feed', 'feel', 'feelin', 'feeling', 'feelingood', 'feellikw', 'feels', 'fees', 'feet', 'fell', 'fellow', 'felt', 'female', 'feng', 'festival', 'fetch', 'fetching', 'fever', 'ffectionate', 'fffff', 'ffffffffff', 'ffffuuuuuuu', 'fgkslpo', 'fgkslpopw', 'fidalfication', 'field', 'fieldof', 'fiend', 'fifa', 'fifth', 'fight', 'fighting', 'fightng', 'fights', 'figure', 'figures', 'figuring', 'file', 'files', 'filled', 'filling', 'fills', 'film', 'films', 'filth', 'filthy', 'filthyguys', 'final', 'finalise', 'finally', 'finance', 'financial', 'finding', 'finds', 'fine', 'finest', 'fingers', 'finish', 'finishd', 'finished', 'finishes', 'finishing', 'fink', 'finn', 'fired', 'firefox', 'fireplace', 'fires', 'firmware', 'firsg', 'fish', 'fishhead', 'fishrman', 'fit', 'fiting', 'fix', 'fixd', 'fixed', 'fixedline', 'fixes', 'fizz', 'flag', 'flaked', 'flaky', 'flame', 'flash', 'flat', 'flatter', 'flavour', 'flea', 'fletcher', 'flew', 'flies', 'flight', 'flights', 'flim', 'flip', 'flippin', 'flirt', 'flirting', 'flirtparty', 'floating', 'flood', 'floor', 'floppy', 'florida', 'flow', 'flower', 'flowers', 'flowing', 'fluids', 'flung', 'flurries', 'flute', 'fly', 'flying', 'flyng', 'fm', 'fml', 'fne', 'fo', 'fold', 'foley', 'folks', 'follow', 'followed', 'followin', 'following', 'follows', 'fond', 'fondly', 'fone', 'foned', 'fones', 'fonin', 'food', 'fool', 'fooled', 'fools', 'foot', 'football', 'footbl', 'footie', 'footprints', 'footy', 'force', 'forced', 'foregate', 'foreign', 'forever', 'forevr', 'forfeit', 'forget', 'forgets', 'forgive', 'forgiven', 'forgiveness', 'forgot', 'forgotten', 'forgt', 'form', 'formal', 'formally', 'format', 'formatting', 'forms', 'forth', 'fortune', 'forum', 'forums', 'forward', 'forwarded', 'forwarding', 'foundurself', 'fourth', 'foward', 'fowler', 'fox', 'fps', 'fr', 'fraction', 'fran', 'frank', 'frankie', 'franxx', 'franyxxxxx', 'frauds', 'freak', 'freaked', 'freaking', 'freaky', 'fredericksburg', 'free', 'free2day', 'freedom', 'freeentry', 'freefone', 'freek', 'freely', 'freemsg', 'freephone', 'freezing', 'freinds', 'fren', 'french', 'frens', 'frequently', 'fresh', 'freshers', 'fret', 'fri', 'friday', 'fridays', 'fridge', 'fried', 'friend', 'friends', 'friendsare', 'friendship', 'friendships', 'fring', 'fringe', 'frm', 'frmcloud', 'frnd', 'frnds', 'frndship', 'frndshp', 'frndsship', 'frndz', 'frnt', 'fro', 'frog', 'fromm', 'fromwrk', 'frontierville', 'frosty', 'fruit', 'frwd', 'frying', 'ft', 'fuck', 'fucked', 'fuckin', 'fucking', 'fuckinnice', 'fucks', 'fudge', 'fuelled', 'fujitsu', 'ful', 'fulfil', 'fullonsms', 'fumbling', 'fun', 'function', 'functions', 'fund', 'fundamentals', 'funeral', 'funk', 'funky', 'funny', 'funs', 'furniture', 'fusion', 'future', 'fuuuuck', 'fwiw', 'fyi', 'g2', 'g696ga', 'ga', 'gage', 'gail', 'gailxx', 'gain', 'gained', 'gal', 'galileo', 'gals', 'gam', 'gamb', 'game', 'games', 'gamestar', 'gandhipuram', 'ganesh', 'gang', 'gap', 'gaps', 'garage', 'garbage', 'garden', 'gardener', 'gari', 'garments', 'gary', 'gas', 'gastroenteritis', 'gate', 'gauge', 'gautham', 'gauti', 'gave', 'gay', 'gayle', 'gays', 'gaytextbuddy', 'gaze', 'gbp', 'gbp1', 'gbp4', 'gbp5', 'gd', 'gdeve', 'ge', 'gee', 'geeee', 'geeeee', 'gei', 'gek1510', 'gender', 'general', 'generally', 'genes', 'genius', 'gent', 'gentle', 'gentleman', 'gently', 'genuine', 'genus', 'geoenvironmental', 'george', 'gep', 'ger', 'germany', 'get4an18th', 'getiing', 'geting', 'gets', 'getsleep', 'getstop', 'gettin', 'getting', 'getzed', 'gf', 'ghodbandar', 'ghost', 'gibbs', 'gibe', 'gift', 'gifted', 'gifts', 'giggle', 'gigolo', 'gimme', 'gimmi', 'gin', 'girl', 'girlfrnd', 'girlie', 'girls', 'gist', 'giv', 'given', 'gives', 'giving', 'glad', 'glands', 'glasgow', 'glass', 'glo', 'global', 'glorious', 'glory', 'gloucesterroad', 'gm', 'gmw', 'gn', 'gnarls', 'gnt', 'gnun', 'go2', 'go2sri', 'goal', 'goals', 'gobi', 'god', 'gods', 'goes', 'goggles', 'goigng', 'goin', 'goin2bed', 'going', 'gokila', 'gold', 'golddigger', 'golden', 'goldviking', 'golf', 'gon', 'gona', 'gone', 'gong', 'gonna', 'gonnamissu', 'good', 'goodevening', 'goodfriend', 'goodies', 'goodmate', 'goodmorning', 'goodnight', 'goodnite', 'goodnoon', 'goodo', 'goods', 'goodtime', 'google', 'gopalettan', 'gorgeous', 'gosh', 'goss', 'gossip', 'got', 'gota', 'gotany', 'gotbabes', 'gotmarried', 'goto', 'gotta', 'gotten', 'gotto', 'goverment', 'govt', 'gower', 'gprs', 'gpu', 'gr8', 'gr8fun', 'gr8prizes', 'grab', 'grace', 'graduated', 'grahmbell', 'gram', 'grams', 'gran', 'grand', 'grandfather', 'grandma', 'grandmas', 'granite', 'granted', 'graphics', 'grasp', 'grateful', 'grave', 'gravel', 'gravity', 'gravy', 'gray', 'grazed', 'gre', 'great', 'greatest', 'greatly', 'greatness', 'greece', 'green', 'greet', 'greeting', 'greetings', 'grief', 'grinder', 'grins', 'grinule', 'grl', 'grocers', 'grooved', 'groovy', 'groovying', 'ground', 'group', 'grow', 'growing', 'grown', 'grownup', 'grr', 'grumble', 'grumpy', 'gsex', 'gsoh', 'gt', 'gua', 'guai', 'guarantee', 'guaranteed', 'gucci', 'gud', 'gudni8', 'gudnite', 'gudnyt', 'guess', 'guessed', 'guesses', 'guessin', 'guessing', 'guidance', 'guide', 'guides', 'guild', 'guilty', 'guitar', 'gumby', 'guoyang', 'gurl', 'gut', 'guy', 'guys', 'gv', 'gving', 'gym', 'gymnastics', 'gynae', 'gyno', 'ha', 'habba', 'habit', 'hack', 'hadn', 'haf', 'haha', 'hahaha', 'hai', 'hail', 'hair', 'haircut', 'hairdressers', 'haiyoh', 'haiz', 'half', 'half8th', 'hall', 'halla', 'hallaq', 'halloween', 'ham', 'hamper', 'hamster', 'hand', 'handed', 'handing', 'handle', 'hands', 'handset', 'handsome', 'handsomes', 'hang', 'hanger', 'hangin', 'hanging', 'hanks', 'hannaford', 'hanuman', 'hanumanji', 'happen', 'happend', 'happened', 'happenin', 'happening', 'happens', 'happier', 'happiest', 'happily', 'happiness', 'happy', 'hard', 'hardcore', 'harder', 'hardest', 'hardly', 'hari', 'harish', 'harlem', 'harri', 'harry', 'hasbro', 'hasn', 'hassling', 'hat', 'hate', 'hates', 'haughaighgtujhyguj', 'haul', 'haunt', 'hav', 'hav2hear', 'hava', 'havbeen', 'havebeen', 'haven', 'havent', 'haventcn', 'havin', 'having', 'havn', 'havnt', 'hcl', 'hdd', 'head', 'headache', 'headin', 'heading', 'heads', 'headset', 'headstart', 'heal', 'healer', 'healthy', 'heap', 'hear', 'heard', 'hearin', 'hearing', 'heart', 'hearted', 'hearts', 'heat', 'heater', 'heaven', 'heavily', 'heavy', 'hectic', 'hee', 'heehee', 'hehe', 'height', 'held', 'helen', 'helens', 'hell', 'hella', 'hello', 'hellogorgeous', 'helloooo', 'help', 'help08700621170150p', 'help08714742804', 'help08718728876', 'helpful', 'helping', 'helpline', 'helps', 'heltini', 'hen', 'henry', 'hep', 'hero', 'heroes', 'heron', 'hes', 'hesitant', 'hesitate', 'hesitation', 'hex', 'hey', 'hf8', 'hg', 'hhahhaahahah', 'hi', 'hidden', 'hide', 'hides', 'hiding', 'high', 'highest', 'hilarious', 'hill', 'hills', 'hillsborough', 'himso', 'hint', 'hip', 'hiphop', 'hire', 'history', 'hit', 'hitler', 'hitman', 'hits', 'hitter', 'hittng', 'hiya', 'hl', 'hlday', 'hlp', 'hm', 'hme', 'hmm', 'hmmm', 'hmmmm', 'hmmross', 'hmph', 'hmv', 'hmv1', 'ho', 'hockey', 'hogidhe', 'hogli', 'hogolo', 'hol', 'holby', 'hold', 'holder', 'holding', 'hole', 'holiday', 'holla', 'hollalater', 'hols', 'holy', 'home', 'homeowners', 'hon', 'honest', 'honestly', 'honesty', 'honey', 'honeybee', 'honeymoon', 'honi', 'hont', 'hoo', 'hooch', 'hoody', 'hook', 'hooked', 'hoops', 'hop', 'hope', 'hoped', 'hopeful', 'hopefully', 'hopeing', 'hopes', 'hopeso', 'hopeu', 'hoping', 'hor', 'horniest', 'horny', 'horo', 'horrible', 'horse', 'hos', 'hospital', 'hospitals', 'host', 'hostel', 'hostile', 'hot', 'hotel', 'hotels', 'hotmail', 'hotmix', 'hottest', 'hour', 'hourish', 'hours', 'house', 'houseful', 'housewives', 'housework', 'housing', 'howard', 'howda', 'howdy', 'hows', 'howu', 'howz', 'hp', 'hp20', 'hppnss', 'hr', 'hrishi', 'hrs', 'hsbc', 'html', 'http', 'hu', 'huai', 'hubby', 'hudgi', 'hug', 'huge', 'hugging', 'hugh', 'hugs', 'huh', 'hui', 'huiming', 'hum', 'humanities', 'humans', 'hun', 'hundreds', 'hungover', 'hungry', 'hunks', 'hunny', 'hunt', 'hunting', 'hurricanes', 'hurried', 'hurry', 'hurt', 'hurting', 'hurts', 'husband', 'hussey', 'hustle', 'hut', 'hv', 'hv9d', 'hvae', 'hw', 'hyde', 'hype', 'hypertension', 'hypotheticalhuagauahahuagahyuhagga', 'iam', 'ias', 'ibh', 'ibhltd', 'ibiza', 'ibm', 'ibn', 'ibored', 'ibuprofens', 'ic', 'iccha', 'ice', 'icic', 'icicibank', 'icky', 'icmb3cktz8r7', 'icon', 'id', 'idc', 'idea', 'ideal', 'ideas', 'identification', 'identifier', 'idew', 'idiot', 'idk', 'idps', 'idu', 'iff', 'ifink', 'ig11', 'ignorant', 'ignore', 'ignoring', 'ihave', 'ijust', 'ikea', 'ikno', 'iknow', 'il', 'ileave', 'ill', 'illness', 'illspeak', 'ilol', 'im', 'image', 'images', 'imagination', 'imagine', 'imat', 'imf', 'img', 'imin', 'imma', 'immed', 'immediately', 'immunisation', 'imp', 'impatient', 'impede', 'implications', 'important', 'importantly', 'imposed', 'impossible', 'imposter', 'impress', 'impressed', 'impression', 'impressively', 'improve', 'improved', 'imprtant', 'in2', 'inch', 'inches', 'incident', 'inclu', 'include', 'includes', 'including', 'inclusive', 'incomm', 'inconsiderate', 'inconvenience', 'inconvenient', 'incorrect', 'increase', 'incredible', 'increments', 'inde', 'independence', 'independently', 'index', 'india', 'indian', 'indians', 'indicate', 'individual', 'indyarocks', 'inever', 'infact', 'infections', 'infernal', 'influx', 'info', 'inform', 'information', 'informed', 'infra', 'infront', 'ing', 'ingredients', 'initiate', 'ink', 'inlude', 'inmind', 'inner', 'innings', 'innocent', 'innu', 'inperialmusic', 'inpersonation', 'inr', 'insects', 'insha', 'inshah', 'inside', 'inspection', 'inst', 'install', 'installation', 'installing', 'instant', 'instantly', 'instead', 'instituitions', 'instructions', 'insurance', 'intelligent', 'intend', 'intention', 'intentions', 'interested', 'interesting', 'interflora', 'interfued', 'internal', 'internet', 'interview', 'interviews', 'interviw', 'intha', 'intrepid', 'intro', 'intrude', 'invaders', 'invention', 'invest', 'investigate', 'invitation', 'invite', 'invited', 'inviting', 'invnted', 'invoices', 'involve', 'involved', 'iouri', 'ip', 'ip4', 'ipad', 'ipaditan', 'ipads', 'iphone', 'ipod', 'iq', 'iraq', 'irene', 'iriver', 'iron', 'ironing', 'irritated', 'irritates', 'irritating', 'irritation', 'irulinae', 'isaiah', 'iscoming', 'ish', 'ishtamayoo', 'island', 'islands', 'isn', 'isnt', 'issue', 'issues', 'isv', 'italian', 'itcould', 'items', 'iter', 'ithink', 'itna', 'itried2tell', 'itwhichturnedinto', 'itxt', 'itz', 'ivatte', 'ive', 'iwana', 'iwas', 'iyo', 'iz', 'izzit', 'j5q', 'j89', 'jabo', 'jack', 'jacket', 'jackpot', 'jackson', 'jacuzzi', 'jada', 'jade', 'jaklin', 'jam', 'james', 'jamster', 'jamz', 'jan', 'janarige', 'jane', 'janinexx', 'january', 'janx', 'jap', 'japanese', 'jas', 'jason', 'java', 'jay', 'jaya', 'jaykwon', 'jaz', 'jazz', 'jb', 'jd', 'je', 'jealous', 'jeans', 'jeetey', 'jeevithathile', 'jelly', 'jen', 'jenne', 'jenny', 'jenxxx', 'jeremiah', 'jeri', 'jerk', 'jerry', 'jersey', 'jess', 'jesus', 'jet', 'jetton', 'jewelry', 'jez', 'ji', 'jia', 'jiayin', 'jide', 'jiu', 'jjc', 'jo', 'joanna', 'job', 'jobs', 'jobyet', 'jocks', 'jod', 'jog', 'jogging', 'john', 'join', 'joined', 'joining', 'joke', 'joker', 'jokes', 'jokin', 'joking', 'jolly', 'jolt', 'jon', 'jones', 'jontin', 'jordan', 'jorge', 'jos', 'jot', 'journey', 'joy', 'joys', 'jp', 'js', 'jsco', 'jst', 'jstfrnd', 'jsut', 'juan', 'judgemental', 'juicy', 'jul', 'jules', 'juliana', 'julianaland', 'july', 'jump', 'jumpers', 'june', 'jungle', 'junna', 'jurong', 'jus', 'just', 'justbeen', 'justfound', 'justify', 'justthought', 'juswoke', 'juz', 'k52', 'k61', 'k718', 'kaaj', 'kadeem', 'kaiez', 'kaila', 'kaitlyn', 'kalaachutaarama', 'kalainar', 'kalisidare', 'kallis', 'kalstiya', 'kama', 'kanagu', 'kane', 'kanji', 'kano', 'kappa', 'karaoke', 'karnan', 'karo', 'kate', 'katexxx', 'kath', 'kavalan', 'kay', 'kaypoh', 'kb', 'ke', 'keen', 'keeping', 'keeps', 'kegger', 'keluviri', 'ken', 'kent', 'kept', 'kerala', 'keralacircle', 'keris', 'kettoda', 'key', 'keypad', 'keys', 'keyword', 'kfc', 'kg', 'khelate', 'ki', 'kicchu', 'kick', 'kickboxing', 'kickoff', 'kicks', 'kid', 'kidding', 'kids', 'kidz', 'kiefer', 'kill', 'killed', 'killing', 'kills', 'kilos', 'kind', 'kinda', 'kindly', 'king', 'kingdom', 'kintu', 'kiosk', 'kip', 'kisi', 'kiss', 'kisses', 'kissing', 'kit', 'kittum', 'kitty', 'kl341', 'knackered', 'knee', 'knees', 'knew', 'knickers', 'knock', 'knocking', 'know', 'knowing', 'known', 'knows', 'knw', 'ko', 'kochi', 'kodstini', 'kodthini', 'kolathupalayam', 'konw', 'korche', 'korean', 'korli', 'korte', 'kotees', 'kothi', 'kr', 'ktv', 'kuch', 'kudi', 'kusruthi', 'kvb', 'kz', 'l8', 'l8er', 'l8r', 'l8rs', 'l8tr', 'la', 'la1', 'la3', 'la32wu', 'lab', 'labor', 'lac', 'lacking', 'lacs', 'laden', 'ladies', 'lady', 'lag', 'lage', 'lager', 'laid', 'lakhs', 'lambda', 'lambu', 'lamp', 'lancaster', 'land', 'landing', 'landline', 'landlineonly', 'landlines', 'landmark', 'lands', 'lane', 'langport', 'language', 'lanka', 'lanre', 'lap', 'lapdancer', 'laptop', 'lar', 'lara', 'laready', 'large', 'largest', 'lark', 'lasagna', 'lastest', 'lasting', 'late', 'lately', 'latelyxxx', 'later', 'latest', 'latests', 'latr', 'laugh', 'laughed', 'laughing', 'laughs', 'laundry', 'laurie', 'lautech', 'lavender', 'law', 'laxinorficated', 'lay', 'layin', 'laying', 'lays', 'lazy', 'lccltd', 'ld', 'ldew', 'ldn', 'ldnw15h', 'le', 'lead', 'leadership', 'leading', 'leads', 'leaf', 'leafcutter', 'league', 'leanne', 'learn', 'learned', 'least5times', 'leave', 'leaves', 'leaving', 'lect', 'lecture', 'lecturer', 'left', 'leftovers', 'leg', 'legal', 'legitimat', 'legs', 'leh', 'lei', 'lekdog', 'lemme', 'length', 'lengths', 'lennon', 'leo', 'leona', 'leonardo', 'les', 'lesser', 'lesson', 'lessons', 'let', 'lets', 'letter', 'letters', 'level', 'lf56', 'li', 'liao', 'lib', 'libertines', 'library', 'lick', 'licks', 'lido', 'lie', 'lies', 'life', 'lifebook', 'lifeis', 'lifetime', 'lifpartnr', 'lift', 'lifted', 'lifting', 'light', 'lighters', 'lightly', 'lik', 'like', 'liked', 'likely', 'likes', 'likeyour', 'liking', 'lil', 'lily', 'lim', 'limit', 'limited', 'limiting', 'limits', 'limping', 'lindsay', 'line', 'linear', 'lined', 'linerental', 'lines', 'lingerie', 'lingo', 'link', 'links', 'linux', 'lion', 'lionm', 'lionp', 'lions', 'lip', 'lipo', 'lips', 'liquor', 'list', 'listed', 'listen', 'listened2the', 'listener', 'listening', 'listening2the', 'listn', 'lists', 'lit', 'literally', 'litres', 'little', 'live', 'lived', 'liver', 'liverpool', 'lives', 'living', 'lk', 'lkpobox177hp51fl', 'll', 'llc', 'llspeak', 'lmao', 'lnly', 'lo', 'load', 'loads', 'loan', 'loans', 'lobby', 'local', 'location', 'locations', 'locaxx', 'lock', 'locks', 'lodge', 'lodging', 'log', 'logged', 'logging', 'login', 'logo', 'logoff', 'logon', 'logos', 'loko', 'lol', 'lolnice', 'lololo', 'londn', 'london', 'loneliness', 'lonely', 'long', 'longer', 'lonlines', 'loo', 'look', 'lookatme', 'looked', 'lookin', 'looking', 'looks', 'lool', 'loooooool', 'looovvve', 'loose', 'loosing', 'loosu', 'lor', 'lord', 'lose', 'losers', 'loses', 'losing', 'loss', 'lost', 'lot', 'lotr', 'lots', 'lotsly', 'lotsof', 'lotta', 'lotto', 'lotz', 'lou', 'loud', 'lounge', 'lousy', 'lov', 'lovable', 'love', 'loved', 'lovejen', 'lovely', 'loveme', 'lover', 'loverboy', 'lovers', 'loves', 'lovin', 'loving', 'lovingly', 'lovly', 'low', 'lower', 'lowes', 'loxahatchee', 'loyal', 'loyalty', 'lrg', 'ls1', 'ls15hb', 'ls278bb', 'lst', 'lt', 'ltdhelpdesk', 'lttrs', 'lubly', 'luck', 'luckily', 'lucky', 'lucozade', 'lucy', 'lucyxx', 'luks', 'lul', 'lunch', 'lunchtime', 'lunsford', 'lush', 'luton', 'luv', 'luvd', 'luvs', 'lux', 'luxury', 'lv', 'lvblefrnd', 'lyf', 'lyfu', 'lying', 'lyk', 'lyricalladie', 'lyrics', 'm100', 'm221bp', 'm227xy', 'm26', 'm263uz', 'm39m51', 'm6', 'm60', 'm8', 'm8s', 'm95', 'ma', 'maaaan', 'maangalyam', 'maat', 'mac', 'macedonia', 'macha', 'machan', 'machi', 'machines', 'macho', 'mack', 'macleran', 'macs', 'mad', 'mad1', 'mad2', 'madam', 'madodu', 'madoke', 'madstini', 'madurai', 'mag', 'maga', 'magazine', 'maggi', 'magic', 'magical', 'magicalsongs', 'mah', 'mahal', 'mahaveer', 'mahfuuz', 'maid', 'mail', 'mailbox', 'mailed', 'mails', 'main', 'maintain', 'maintaining', 'major', 'make', 'makes', 'makiing', 'makin', 'making', 'malaria', 'malarky', 'male', 'mall', 'mallika', 'man', 'manage', 'manageable', 'managed', 'management', 'manchester', 'manda', 'mandan', 'mandara', 'mandy', 'maneesha', 'manege', 'mango', 'maniac', 'manky', 'manual', 'map', 'mapquest', 'maps', 'maraikara', 'marandratha', 'march', 'maretare', 'margaret', 'margin', 'marine', 'mark', 'market', 'marketing', 'marking', 'marley', 'marrge', 'marriage', 'married', 'marry', 'marsms', 'maruti', 'marvel', 'mary', 'mas', 'masked', 'massage', 'massages', 'massive', 'masteriastering', 'masters', 'mat', 'match', 'matched', 'matches', 'mate', 'mates', 'math', 'mathe', 'mathematics', 'mathews', 'maths', 'matra', 'matric', 'matrix3', 'matter', 'matters', 'matthew', 'matured', 'maturity', 'max', 'max10mins', 'max6', 'maximize', 'maximum', 'mayb', 'maybe', 'mb', 'mc', 'mca', 'mcat', 'mcfly', 'mcr', 'meal', 'meals', 'mean', 'meaning', 'meaningful', 'meaningless', 'means', 'meant', 'measure', 'meat', 'meatballs', 'mecause', 'med', 'medical', 'medicine', 'meds', 'mee', 'meet', 'meetin', 'meeting', 'meetins', 'meets', 'meg', 'mega', 'meh', 'mei', 'meive', 'mel', 'melle', 'melnite', 'melody', 'melt', 'member', 'members', 'membership', 'memorable', 'memories', 'memory', 'men', 'mens', 'mental', 'mention', 'mentioned', 'mentionned', 'mentor', 'menu', 'meow', 'merely', 'merememberin', 'merry', 'mesages', 'mess', 'message', 'messaged', 'messages', 'messaging', 'messed', 'messenger', 'messy', 'met', 'method', 'mf', 'mfl', 'mgs', 'mi', 'mia', 'michael', 'mid', 'middle', 'midnight', 'mids', 'miiiiiiissssssssss', 'mike', 'mila', 'mileage', 'miles', 'milk', 'millers', 'million', 'millions', 'milta', 'min', 'mina', 'minapn', 'mind', 'minded', 'mindset', 'minecraft', 'mini', 'minimum', 'minmobsmore', 'minmobsmorelkpobox177hp51fl', 'minmoremobsemspobox45po139wa', 'minnaminunginte', 'minor', 'mins', 'mint', 'minus', 'minute', 'minutes', 'minuts', 'miracle', 'mirror', 'mis', 'misbehaved', 'miserable', 'misfits', 'mising', 'misplaced', 'miss', 'misscall', 'missed', 'missin', 'missing', 'missionary', 'missions', 'misss', 'missunderstding', 'missy', 'mist', 'mistake', 'mistakes', 'misundrstud', 'mite', 'mitsake', 'mittelschmertz', 'miwa', 'mix', 'mj', 'mjzgroup', 'mk17', 'mk45', 'ml', 'mm', 'mmm', 'mmmm', 'mmmmm', 'mmmmmm', 'mmmmmmm', 'mmsto', 'mns', 'mnth', 'mnths', 'mo', 'moan', 'mob', 'mobcudb', 'mobile', 'mobiles', 'mobilesdirect', 'mobilesvary', 'mobileupd8', 'mobno', 'mobs', 'mobsi', 'mobstorequiz10ppm', 'moby', 'mobypobox734ls27yf', 'mode', 'model', 'modl', 'module', 'modules', 'mofo', 'moji', 'mojibiola', 'mokka', 'molested', 'mom', 'moment', 'moments', 'moms', 'mon', 'monday', 'mone', 'money', 'monkeespeople', 'monkey', 'monkeyaround', 'monkeys', 'mono', 'monoc', 'monos', 'monster', 'month', 'monthly', 'monthlysubscription', 'months', 'mood', 'moon', 'moral', 'morefrmmob', 'morn', 'mornin', 'morning', 'mornings', 'morphine', 'morrow', 'moseley', 'mother', 'motherfucker', 'motivate', 'motivating', 'motive', 'motor', 'motorola', 'mountain', 'mountains', 'mouse', 'mouth', 'moved', 'moves', 'movie', 'movies', 'movietrivia', 'moving', 'mp3', 'mquiz', 'mr', 'mre', 'mrng', 'mrt', 'ms', 'msg', 'msg150p', 'msging', 'msgrcvd', 'msgrcvd18', 'msgrcvdhg', 'msgs', 'msn', 'mt', 'mtalk', 'mth', 'mths', 'mtmsg', 'mtmsg18', 'mtmsgrcvd18', 'mtnl', 'mu', 'muah', 'muchand', 'muchxxlove', 'mudyadhu', 'mufti', 'muhommad', 'muht', 'multimedia', 'multiply', 'multis', 'mum', 'mumbai', 'mumhas', 'mummy', 'mums', 'mumtaz', 'mundhe', 'munsters', 'murali', 'murder', 'murdered', 'murderer', 'mus', 'mush', 'mushy', 'music', 'musical', 'musicnews', 'musta', 'musthu', 'mustprovide', 'mutai', 'mutations', 'muz', 'mw', 'mwahs', 'mycalls', 'mylife', 'mymoby', 'myparents', 'mys', 'myspace', 'mystery', 'n8', 'n9dx', 'na', 'naal', 'nachos', 'nag', 'nagar', 'nah', 'nahi', 'nails', 'naked', 'nalla', 'nalli', 'name1', 'name2', 'named', 'names', 'nammanna', 'namous', 'nan', 'nange', 'nanny', 'nannys', 'nap', 'narcotics', 'nasdaq', 'naseeb', 'nasty', 'nat', 'nat27081980', 'natalie', 'natalie2k9', 'natalja', 'national', 'nationwide', 'nattil', 'natural', 'nature', 'natwest', 'naughty', 'nauseous', 'nav', 'navigate', 'nb', 'nbme', 'nd', 'ndship', 'ne', 'near', 'nearby', 'nearer', 'nearly', 'necesity', 'necessarily', 'necessary', 'necessity', 'neck', 'necklace', 'ned', 'need', 'needa', 'needed', 'needing', 'needle', 'needs', 'needy', 'neekunna', 'neft', 'negative', 'neglect', 'neglet', 'neighbor', 'neighbors', 'neighbour', 'nelson', 'neo69', 'nervous', 'neshanth', 'net', 'netcollex', 'netflix', 'nething', 'netun', 'netvision', 'network', 'networking', 'networks', 'neva', 'nevamind', 'nevering', 'neville', 'nevr', 'new', 'neway', 'newest', 'newport', 'newquay', 'news', 'newscaster', 'newsletter', 'newspapers', 'nhs', 'ni8', 'nic', 'nice', 'nichols', 'nick', 'nickey', 'nicky', 'nig', 'nigeria', 'nigh', 'night', 'nighters', 'nightnight', 'nights', 'nigpun', 'nigro', 'nike', 'nikiyu4', 'nimbomsons', 'nimya', 'ninish', 'nino', 'nipost', 'nit', 'nite', 'nitro', 'nitros', 'nitw', 'nitz', 'njan', 'nmde', 'no1', 'nobbing', 'noe', 'noi', 'noice', 'noise', 'noisy', 'nok', 'nokia', 'nokia6600', 'nokia6650', 'nokias', 'noline', 'non', 'noncomittal', 'nonetheless', 'nookii', 'noon', 'nooooooo', 'noooooooo', 'nope', 'nora', 'norcorp', 'nordstrom', 'norm', 'norm150p', 'normal', 'normally', 'north', 'northampton', 'nos', 'nose', 'nosh', 'nosy', 'note', 'notebook', 'notes', 'nothin', 'notice', 'notifications', 'notified', 'notixiquating', 'nottingham', 'notxt', 'noun', 'novelty', 'november', 'now1', 'nowadays', 'noworriesloans', 'nr31', 'nri', 'nt', 'nte', 'ntimate', 'ntt', 'ntwk', 'nuclear', 'nudist', 'nuerologist', 'num', 'number', 'numbers', 'nursery', 'nurses', 'nurungu', 'nus', 'nusstu', 'nuther', 'nutter', 'nver', 'nvm', 'nvq', 'nw', 'nxt', 'ny', 'nyc', 'nydc', 'nyt', 'nytho', 'nz', 'nìte', 'o2', 'o2fwd', 'oath', 'obedient', 'obese', 'obey', 'objection', 'oble', 'oblisingately', 'oblivious', 'obviously', 'occasion', 'occupied', 'occupy', 'occur', 'occurs', 'ocean', 'oclock', 'october', 'odalebeku', 'odi', 'ofcourse', 'offc', 'offcampus', 'offdam', 'offense', 'offer', 'offered', 'offering', 'offers', 'office', 'officer', 'official', 'officially', 'offline', 'ofice', 'ofsi', 'ofstuff', 'oga', 'ogunrinde', 'oh', 'oi', 'oic', 'oil', 'oja', 'ok', 'okay', 'okday', 'okden', 'okey', 'okie', 'okies', 'okmail', 'okors', 'ola', 'olage', 'olave', 'olayiwola', 'old', 'oli', 'ollu', 'olol', 'olowoyey', 'olympics', 'omg', 'omw', 'onam', 'onbus', 'oncall', 'ondu', 'ones', 'oni', 'onion', 'online', 'onluy', 'only1more', 'onlyfound', 'onum', 'onwards', 'onwords', 'ooh', 'oooh', 'oooooh', 'ooooooh', 'oops', 'open', 'opened', 'opener', 'openin', 'opening', 'openings', 'operate', 'operator', 'opinion', 'opinions', 'opponenter', 'opportunity', 'opposed', 'opposite', 'opps', 'opt', 'opted', 'optimistic', 'optin', 'option', 'optout', 'or2optout', 'or2stoptxt', 'oral', 'orange', 'oranges', 'orc', 'orchard', 'order', 'ordered', 'ordinator', 'ore', 'oredi', 'oreo', 'oreos', 'org', 'organise', 'organizer', 'orh', 'orig', 'original', 'orno', 'ors', 'ortxt', 'oru', 'os', 'oscar', 'oso', 'otbox', 'othrs', 'othrwise', 'otside', 'ou', 'ouch', 'ourbacks', 'outage', 'outages', 'outbid', 'outdoors', 'outfit', 'outfor', 'outgoing', 'outl8r', 'outrageous', 'outreach', 'outs', 'outside', 'outsider', 'outsomewhere', 'outstanding', 'outta', 'ovarian', 'oveable', 'overa', 'overdid', 'overdose', 'overemphasise', 'overheating', 'overtime', 'ovr', 'ovulate', 'ovulation', 'ow', 'owe', 'owed', 'owl', 'owned', 'owns', 'owo', 'oxygen', 'oyea', 'oyster', 'oz', 'pa', 'paces', 'pack', 'package', 'packing', 'packs', 'padhe', 'page', 'pages', 'pai', 'paid', 'pain', 'painful', 'paining', 'painting', 'pairs', 'pale', 'palm', 'pan', 'panalam', 'panasonic', 'pandy', 'panic', 'panicks', 'panren', 'pansy', 'panther', 'panties', 'pants', 'pap', 'papa', 'paper', 'papers', 'paperwork', 'paracetamol', 'parachute', 'parade', 'paragon', 'paragraphs', 'paranoid', 'parantella', 'parchi', 'parco', 'parent', 'parents', 'paris', 'parish', 'park', 'parked', 'parkin', 'parking', 'participate', 'particular', 'particularly', 'parties', 'partner', 'partnership', 'parts', 'party', 'paru', 'pases', 'pass', 'passable', 'passed', 'passes', 'passion', 'passionate', 'passport', 'password', 'passwords', 'past', 'pataistha', 'patent', 'path', 'pathaya', 'paths', 'patients', 'patrick', 'pattern', 'patty', 'paul', 'pause', 'pavanaputra', 'pax', 'pay', 'payasam', 'payback', 'payed', 'payed2day', 'payee', 'paying', 'payment', 'payments', 'payoh', 'paypal', 'pc', 'pc1323', 'pdate_now', 'peace', 'peaceful', 'peach', 'peak', 'pears', 'pee', 'peeps', 'pehle', 'pei', 'pen', 'pence', 'pendent', 'pending', 'penis', 'penny', 'people', 'peoples', 'percent', 'percentages', 'perf', 'perfect', 'perform', 'performance', 'performed', 'perfume', 'peril', 'period', 'peripherals', 'permanent', 'permission', 'permissions', 'perpetual', 'persevered', 'persian', 'persolvo', 'person', 'person2die', 'personal', 'personality', 'personally', 'persons', 'perspective', 'pert', 'perumbavoor', 'pesky', 'pest', 'pete', 'petexxx', 'petey', 'petrol', 'petticoatdreams', 'pg', 'ph', 'pharmacy', 'phasing', 'phb1', 'phd', 'phews', 'phil', 'philosophical', 'philosophy', 'phne', 'phoenix', 'phone', 'phone750', 'phonebook', 'phoned', 'phones', 'phony', 'photo', 'photos', 'photoshop', 'php', 'phrase', 'phyhcmk', 'physics', 'piah', 'pic', 'pick', 'picked', 'picking', 'pickle', 'pics', 'picsfree1', 'picture', 'pictures', 'pie', 'piece', 'pieces', 'pierre', 'pig', 'piggy', 'pilates', 'pile', 'pillows', 'pimples', 'pin', 'pink', 'pints', 'pisces', 'piss', 'pissed', 'pist', 'pity', 'pix', 'pixels', 'pizza', 'pl', 'place', 'placed', 'placement', 'places', 'plaid', 'plan', 'plane', 'planet', 'planettalkinstant', 'planned', 'planning', 'plans', 'plate', 'platt', 'play', 'played', 'player', 'players', 'playin', 'playing', 'playng', 'plaza', 'pleasant', 'pleased', 'pleassssssseeeeee', 'pleasure', 'pleasured', 'plenty', 'plm', 'ploughing', 'pls', 'plum', 'plumbers', 'plumbing', 'plural', 'plus', 'plyr', 'plz', 'pm', 'pmt', 'po', 'po19', 'pobox', 'pobox1', 'pobox114', 'pobox12n146tf15', 'pobox12n146tf150p', 'pobox202', 'pobox334', 'pobox36504w45wq', 'pobox365o4w45wq', 'pobox45w2tg150p', 'pobox75ldns7', 'pobox84', 'poboxox36504w45wq', 'pocay', 'pocked', 'pocketbabe', 'pockets', 'pocy', 'pod', 'poem', 'poet', 'point', 'points', 'poker', 'poking', 'pokkiri', 'pole', 'police', 'politicians', 'polo', 'poly', 'poly3', 'polyc', 'polyh', 'polyph', 'polyphonic', 'polys', 'pongal', 'ponnungale', 'poo', 'pooja', 'pookie', 'pool', 'poop', 'poor', 'poorly', 'poortiyagi', 'pop', 'popcorn', 'popped', 'popping', 'porn', 'porridge', 'port', 'portal', 'portege', 'portions', 'pos', 'pose', 'posh', 'posible', 'position', 'positions', 'positive', 'possession', 'possessive', 'possessiveness', 'possibility', 'possible', 'possibly', 'post', 'postal', 'postcard', 'postcode', 'posted', 'posting', 'postponed', 'posts', 'potato', 'potential', 'potter', 'pouch', 'pound', 'pounded', 'pounds', 'poured', 'pours', 'pouts', 'power', 'powerful', 'poyyarikatur', 'ppl', 'pple', 'ppm', 'ppm150', 'ppt150x3', 'prabha', 'prabu', 'pract', 'practical', 'practice', 'practicing', 'practicum', 'practising', 'praises', 'prakasam', 'prakasamanu', 'prakesh', 'praps', 'prasad', 'prasanth', 'prashanthettan', 'praveesh', 'pray', 'prayers', 'praying', 'prayrs', 'pre', 'predict', 'predicte', 'predicting', 'prediction', 'predictive', 'prefer', 'preferably', 'prem', 'premarica', 'premier', 'premium', 'prepaid', 'prepare', 'prepared', 'prepayment', 'preponed', 'preschoolco', 'prescribed', 'prescripiton', 'prescription', 'presence', 'present', 'presents', 'president', 'presleys', 'presnts', 'press', 'pressies', 'pressure', 'prestige', 'pretend', 'pretsorginta', 'pretsovru', 'pretty', 'prevent', 'previews', 'previous', 'previously', 'prey', 'price', 'prices', 'pride', 'priest', 'prin', 'prince', 'princes', 'princess', 'print', 'printed', 'printer', 'printing', 'prior', 'priority', 'priscilla', 'privacy', 'private', 'prix', 'priya', 'prize', 'prizeawaiting', 'prizes', 'prizeswith', 'pro', 'prob', 'probably', 'problem', 'problematic', 'problems', 'problms', 'problum', 'probpop', 'probs', 'probthat', 'process', 'processed', 'prods', 'products', 'prof', 'professional', 'professors', 'profile', 'profiles', 'profit', 'program', 'programs', 'progress', 'project', 'projects', 'prolly', 'prometazine', 'prominent', 'promise', 'promised', 'promises', 'promo', 'promoting', 'promotion', 'promptly', 'prompts', 'prone', 'proof', 'proove', 'proper', 'properly', 'property', 'propose', 'props', 'propsd', 'pros', 'prospects', 'protect', 'prove', 'proverb', 'provided', 'provider', 'providing', 'province', 'proze', 'prsn', 'ps', 'ps3', 'pshew', 'psp', 'psxtra', 'psychiatrist', 'psychic', 'psychologist', 'pt2', 'ptbo', 'pthis', 'pub', 'public', 'publish', 'pubs', 'pudunga', 'pull', 'pulling', 'pulls', 'pump', 'punch', 'punish', 'punishment', 'punj', 'punto', 'puppy', 'pura', 'purchase', 'purchases', 'pure', 'purity', 'purple', 'purpose', 'purse', 'push', 'pushbutton', 'pushes', 'pussy', 'puts', 'puttin', 'putting', 'puzzeles', 'puzzles', 'px3748', 'qatar', 'qbank', 'qet', 'qi', 'qing', 'qjkgighjjgcbl', 'qlynnbv', 'quality', 'quarter', 'que', 'queen', 'queries', 'ques', 'question', 'questioned', 'questions', 'quick', 'quickly', 'quiet', 'quit', 'quite', 'quiteamuzing', 'quitting', 'quiz', 'quizclub', 'quizzes', 'quote', 'quoting', 'r836', 'racal', 'racing', 'radiator', 'radio', 'raed', 'rael', 'raglan', 'rahul', 'raiden', 'railway', 'rain', 'raining', 'raise', 'raised', 'raj', 'rajas', 'raji', 'rajini', 'rajitha', 'rajnikant', 'rakhesh', 'raksha', 'rally', 'ralphs', 'ramaduth', 'ramen', 'ran', 'random', 'randomlly', 'randomly', 'randy', 'rang', 'range', 'ranjith', 'ranju', 'raping', 'rate', 'rates', 'ratio', 'rats', 'raviyog', 'rawring', 'rayan', 'rayman', 'rays', 'rcb', 'rcd', 'rct', 'rcv', 'rcvd', 'rd', 'rdy', 'reach', 'reache', 'reached', 'reaching', 'reacting', 'reaction', 'read', 'readers', 'readiness', 'reading', 'ready', 'real', 'real1', 'realise', 'realised', 'realising', 'reality', 'realize', 'realized', 'realizes', 'really', 'reallyneed', 'realy', 'reapply', 'rearrange', 'reason', 'reasonable', 'reasons', 'reassurance', 'reassuring', 'rebel', 'reboot', 'rebooting', 'rebtel', 'rec', 'recd', 'receipt', 'receipts', 'receive', 'receivea', 'received', 'receiving', 'recent', 'recently', 'reception', 'recession', 'recharge', 'recharged', 'recieve', 'reckon', 'recognise', 'recognises', 'record', 'recorded', 'recorder', 'records', 'recount', 'recovery', 'recpt', 'recreation', 'recycling', 'red', 'redeemable', 'redeemed', 'reduce', 'ree', 'ref', 'reference', 'references', 'referin', 'reffering', 'refilled', 'reflection', 'reflex', 'reformat', 'refreshed', 'refund', 'refunded', 'refused', 'reg', 'regalportfolio', 'regard', 'regarding', 'regards', 'register', 'registered', 'registration', 'regret', 'regretted', 'regular', 'rejected', 'related', 'relation', 'relationship', 'relatives', 'relax', 'relaxing', 'released', 'reliant', 'relieved', 'religiously', 'relocate', 'reltnship', 'rem', 'remain', 'remains', 'remb', 'remember', 'remembered', 'rememberi', 'remembr', 'remembrs', 'remind', 'reminded', 'reminder', 'reminding', 'reminds', 'remixed', 'removal', 'remove', 'removed', 'rencontre', 'renewal', 'renewed', 'renewing', 'rent', 'rental', 'renting', 'rentl', 'rents', 'repair', 'repairs', 'repeat', 'repeating', 'repent', 'replace', 'replacement', 'replacing', 'replied', 'replies', 'reply', 'replying', 'replys150', 'report', 'reppurcussions', 'representative', 'republic', 'request', 'requests', 'require', 'required', 'requirements', 'requires', 'research', 'resend', 'resent', 'reservations', 'reserve', 'reserved', 'reserves', 'reset', 'residency', 'resizing', 'reslove', 'resolution', 'resolved', 'resort', 'respect', 'respectful', 'responce', 'respond', 'responding', 'response', 'responsibilities', 'responsibility', 'responsible', 'rest', 'restaurant', 'restock', 'restocked', 'restrict', 'restrictions', 'resubbing', 'resubmit', 'result', 'results', 'resume', 'resuming', 'retard', 'retired', 'retrieve', 'return', 'returned', 'returning', 'returns', 'reunion', 'reveal', 'revealed', 'revealing', 'reverse', 'review', 'revision', 'reward', 'rewarding', 'rg21', 'rgds', 'rgent', 'rhode', 'rhythm', 'rice', 'rich', 'riddance', 'ridden', 'ride', 'right', 'rightio', 'rightly', 'rights', 'riley', 'rimac', 'ring', 'ringing', 'rings', 'ringtone', 'ringtoneking', 'ringtones', 'rinu', 'rip', 'ripped', 'rise', 'risk', 'risks', 'rite', 'ritten', 'river', 'road', 'roads', 'roast', 'rob', 'robinson', 'robs', 'rock', 'rocking', 'rocks', 'rodds1', 'rodger', 'rofl', 'roger', 'role', 'roles', 'rolled', 'roller', 'romantic', 'romcapspam', 'ron', 'room', 'roomate', 'roommate', 'roommates', 'rooms', 'ros', 'rose', 'roses', 'rough', 'round', 'rounder', 'rounds', 'route', 'row', 'rowdy', 'rows', 'royal', 'rp176781', 'rpl', 'rply', 'rr', 'rs', 'rstm', 'rt', 'rtf', 'rtm', 'rto', 'ru', 'rub', 'rubber', 'rude', 'rudi', 'rugby', 'ruin', 'ruining', 'rule', 'rules', 'rum', 'rumbling', 'rummer', 'rumour', 'run', 'running', 'runs', 'rupaul', 'rush', 'rushing', 'ruthful', 'rv', 'rvx', 'rwm', 'ryan', 'ryder', 's3xy', 's89', 'sabarish', 'sac', 'sachin', 'sack', 'sacked', 'sacrifice', 'sad', 'sae', 'saeed', 'safe', 'safely', 'safety', 'sagamu', 'saibaba', 'said', 'sake', 'salad', 'salam', 'salary', 'sale', 'sales', 'salesman', 'sall', 'salmon', 'salon', 'salt', 'sam', 'samachara', 'samantha', 'sambar', 'samus', 'sandiago', 'sane', 'sang', 'sankatmochan', 'sankranti', 'santa', 'santacalling', 'sao', 'sapna', 'sar', 'sara', 'sarasota', 'sarcasm', 'sarcastic', 'saristar', 'sariyag', 'sary', 'sashimi', 'sat', 'satanic', 'sathy', 'sathya', 'satisfied', 'satisfy', 'satsgettin', 'satthen', 'saturday', 'saucy', 'sausage', 'savamob', 'save', 'saved', 'saves', 'savings', 'saw', 'say', 'sayhey', 'sayin', 'saying', 'says', 'sayy', 'sc', 'scallies', 'scammers', 'scarcasim', 'scared', 'scary', 'scenario', 'scenery', 'sch', 'schedule', 'school', 'schools', 'science', 'scold', 'scool', 'scorable', 'score', 'scores', 'scoring', 'scotch', 'scotland', 'scotsman', 'scouse', 'scraped', 'scrappy', 'scratches', 'scratching', 'scream', 'screamed', 'screaming', 'screen', 'screwd', 'scrounge', 'scrumptious', 'sculpture', 'sd', 'sday', 'sdryb8i', 'se', 'sea', 'search', 'searching', 'season', 'seat', 'sec', 'second', 'secondary', 'seconds', 'secret', 'secretary', 'secretly', 'secrets', 'secs', 'section', 'sections', 'secure', 'secured', 'sed', 'seeds', 'seeing', 'seekers', 'seeking', 'seen', 'sef', 'seh', 'sehwag', 'seing', 'select', 'selected', 'selection', 'self', 'selfindependence', 'selfish', 'selflessness', 'sell', 'selling', 'sells', 'sem', 'semester', 'semi', 'semiobscure', 'sen', 'send', 'sender', 'sending', 'sends', 'senor', 'senrd', 'sense', 'senses', 'sensible', 'sensitive', 'sent', 'sentence', 'senthil', 'sentiment', 'seperated', 'sept', 'september', 'serena', 'series', 'seriously', 'served', 'server', 'service', 'services', 'serving', 'servs', 'set', 'setting', 'settings', 'settle', 'settled', 'settling', 'seven', 'seventeen', 'sex', 'sexiest', 'sextextuk', 'sexual', 'sexy', 'sexychat', 'sez', 'sf', 'sg', 'sh', 'sha', 'shade', 'shadow', 'shag', 'shagged', 'shah', 'shahjahan', 'shakara', 'shake', 'shakespeare', 'shaking', 'shall', 'shame', 'shampain', 'shangela', 'shanghai', 'shanil', 'shant', 'shaping', 'share', 'shared', 'sharing', 'shattered', 'shaved', 'shb', 'shd', 'sheet', 'sheets', 'sheffield', 'shelf', 'shell', 'shelves', 'sherawat', 'shes', 'shesil', 'shexy', 'shhhhh', 'shifad', 'shijas', 'shijutta', 'shinco', 'shindig', 'shining', 'shiny', 'ship', 'shipped', 'shipping', 'shirt', 'shirts', 'shit', 'shite', 'shitin', 'shitinnit', 'shitload', 'shitstorm', 'shivratri', 'shld', 'shldxxxx', 'shock', 'shocking', 'shoes', 'shola', 'shoot', 'shop', 'shoppin', 'shopping', 'shoranur', 'shore', 'short', 'shortage', 'shortbreaks', 'shortcode', 'shorter', 'shortly', 'shorts', 'shot', 'shoul', 'shoulders', 'shouldn', 'shouted', 'shouting', 'shove', 'shoving', 'showed', 'shower', 'showered', 'showers', 'showing', 'showr', 'showrooms', 'shows', 'shracomorsglsuplt', 'shrek', 'shrink', 'shrub', 'shsex', 'shu', 'shud', 'shudvetold', 'shuhui', 'shun', 'shut', 'shy', 'si', 'sian', 'sib', 'sic', 'sick', 'sickness', 'sigh', 'sighs', 'sight', 'sign', 'signal', 'significance', 'significant', 'signin', 'signing', 'siguviri', 'silence', 'silent', 'silently', 'silly', 'silver', 'sim', 'simonwatson5120', 'simple', 'simpler', 'simply', 'simpsons', 'simulate', 'sinco', 'sindu', 'sing', 'singapore', 'singing', 'single', 'singles', 'sink', 'sip', 'sipix', 'sips', 'sir', 'sirji', 'sis', 'sister', 'sisters', 'sit', 'site', 'sitll', 'sitter', 'sittin', 'sitting', 'situation', 'situations', 'siva', 'size', 'sized', 'sk3', 'sk38xh', 'skateboarding', 'skilgme', 'skillgame', 'skills', 'skinny', 'skins', 'skint', 'skip', 'skirt', 'sky', 'skye', 'skype', 'skyped', 'skyving', 'slaaaaave', 'slacking', 'slap', 'slave', 'sleep', 'sleepin', 'sleeping', 'sleepingwith', 'sleeps', 'sleepwell', 'sleepy', 'slept', 'slice', 'slices', 'slide', 'sliding', 'slightly', 'slip', 'slippers', 'slippery', 'slo', 'slob', 'slots', 'slovely', 'slow', 'slower', 'slowing', 'slowly', 'slp', 'slurp', 'smacks', 'small', 'smaller', 'smart', 'smartcall', 'smarter', 'smash', 'smashed', 'smear', 'smell', 'smells', 'smeone', 'smidgin', 'smile', 'smiled', 'smiles', 'smiley', 'smiling', 'smith', 'smoke', 'smoked', 'smokes', 'smokin', 'smoking', 'smoothly', 'sms', 'smsco', 'smsing', 'smsrewards', 'smsservices', 'smth', 'sn', 'snake', 'snap', 'snappy', 'snatch', 'snd', 'sneham', 'snickering', 'snogs', 'snoring', 'snot', 'snow', 'snowball', 'snowboarding', 'snowman', 'snuggles', 'soc', 'sochte', 'social', 'sofa', 'soft', 'software', 'soil', 'soiree', 'sol', 'soladha', 'sold', 'solihull', 'solve', 'solved', 'some1', 'somebody', 'someday', 'someonone', 'someplace', 'somerset', 'sometext', 'somethin', 'sometme', 'somewhat', 'somewheresomeone', 'somewhr', 'somone', 'somtimes', 'sonathaya', 'sonetimes', 'song', 'songs', 'sony', 'sonyericsson', 'soo', 'soon', 'sooner', 'soonlots', 'sooo', 'soooo', 'sooooo', 'sophas', 'sore', 'sorrow', 'sorrows', 'sorry', 'sort', 'sorta', 'sorted', 'sorting', 'sorts', 'sory', 'soryda', 'sos', 'soul', 'sound', 'sounding', 'sounds', 'soundtrack', 'soup', 'source', 'sources', 'south', 'southern', 'souveniers', 'soz', 'sozi', 'sp', 'space', 'spacebucks', 'spaces', 'spageddies', 'spain', 'spam', 'spanish', 'spare', 'spares', 'spark', 'sparkling', 'spatula', 'speak', 'speaking', 'special', 'speciale', 'specialisation', 'specialise', 'specially', 'specific', 'specify', 'specs', 'speechless', 'speed', 'speedchat', 'speeding', 'speling', 'spell', 'spelled', 'spelling', 'spend', 'spending', 'spent', 'sphosting', 'spice', 'spider', 'spiffing', 'spile', 'spin', 'spinout', 'spiral', 'spirit', 'spiritual', 'spjanuary', 'spk', 'spl', 'splash', 'splashmobile', 'splat', 'splendid', 'split', 'splleing', 'spoil', 'spoiled', 'spoilt', 'spoke', 'spoken', 'sponsors', 'spontaneously', 'spook', 'spoon', 'spoons', 'sporadically', 'sport', 'sports', 'sportsx', 'spose', 'spot', 'spotty', 'spouse', 'sppok', 'spreadsheet', 'spree', 'spring', 'springs', 'sprint', 'sptv', 'spun', 'spys', 'sq825', 'squatting', 'squeeeeeze', 'squeezed', 'squid', 'squishy', 'srs', 'srsly', 'srt', 'sry', 'st', 'stability', 'stable', 'stadium', 'staff', 'stage', 'stagwood', 'stairs', 'stalk', 'stalking', 'stamped', 'stamps', 'stand', 'standard', 'standing', 'stands', 'stapati', 'star', 'starer', 'staring', 'starring', 'stars', 'starshine', 'start', 'started', 'starting', 'starts', 'starve', 'starving', 'starwars3', 'stash', 'stated', 'statement', 'statements', 'station', 'status', 'stay', 'stayed', 'stayin', 'staying', 'stays', 'std', 'stdtxtrate', 'steak', 'steal', 'stealing', 'steam', 'steamboat', 'steed', 'steering', 'step', 'steps', 'stereo', 'stereophonics', 'sterling', 'sterm', 'steve', 'stewartsize', 'steyn', 'sth', 'stick', 'sticky', 'stifled', 'stil', 'stink', 'stitch', 'stock', 'stocked', 'stockport', 'stolen', 'stomach', 'stomps', 'stone', 'stoners', 'stones', 'stool', 'stop', 'stop2', 'stop2stop', 'stopbcm', 'stopcost', 'stopcs', 'stopped', 'stops', 'stopsms', 'stoptxtstop', 'store', 'stores', 'stories', 'storming', 'story', 'str', 'str8', 'straight', 'strain', 'strange', 'stranger', 'stream', 'street', 'stress', 'stressed', 'stressful', 'stressfull', 'stretch', 'strewn', 'strict', 'strike', 'strings', 'strip', 'stripes', 'strips', 'strokes', 'strong', 'strongly', 'strt', 'strtd', 'struggling', 'sts', 'stu', 'stubborn', 'stuck', 'studdying', 'student', 'studentfinancial', 'students', 'studies', 'studio', 'study', 'studying', 'studyn', 'stuff', 'stuff42moro', 'stuffed', 'stuffing', 'stuffs', 'stunning', 'stupid', 'style', 'styles', 'styling', 'stylish', 'stylist', 'sub', 'subject', 'subletting', 'submitted', 'submitting', 'subpoly', 'subs', 'subs16', 'subscribe', 'subscribe6gbp', 'subscribed', 'subscriber', 'subscribers', 'subscription', 'subscriptions', 'subscriptn3gbp', 'subscrition', 'subsequent', 'subtoitles', 'success', 'successful', 'successfully', 'sucker', 'suckers', 'sucks', 'sudden', 'suddenly', 'sudn', 'sue', 'suffer', 'suffering', 'suffers', 'sufficient', 'sugababes', 'suganya', 'sugar', 'sugardad', 'suggest', 'suggestion', 'suggestions', 'suite', 'suite342', 'suitemates', 'suits', 'sullivan', 'sum', 'sum1', 'suman', 'sumfing', 'summer', 'summers', 'summon', 'sumthin', 'sun', 'sun0819', 'sunday', 'sundayish', 'sunlight', 'sunny', 'sunoco', 'sunroof', 'sunscreen', 'sunshine', 'suntec', 'sup', 'super', 'superb', 'superior', 'supervisor', 'suply', 'supose', 'suppliers', 'supplies', 'supply', 'support', 'supports', 'suppose', 'supposed', 'supreme', 'suprman', 'sura', 'sure', 'surely', 'surf', 'surfing', 'surgical', 'surly', 'surname', 'surprise', 'surprised', 'surrender', 'surrounded', 'survey', 'surya', 'sutra', 'sux', 'suzy', 'svc', 'sw7', 'sw73ss', 'swalpa', 'swan', 'swann', 'swap', 'swashbuckling', 'swat', 'swatch', 'sway', 'swayze', 'swear', 'sweater', 'sweatter', 'sweet', 'sweetest', 'sweetheart', 'sweetie', 'sweets', 'swell', 'swhrt', 'swimming', 'swimsuit', 'swing', 'swiss', 'switch', 'swollen', 'swoop', 'swt', 'swtheart', 'syd', 'syllabus', 'symbol', 'sympathetic', 'symptoms', 'synced', 'syria', 'syrup', 'systems', 't4get2text', 't91', 'ta', 'table', 'tablet', 'tablets', 'tackle', 'tacos', 'tactful', 'tactless', 'tag', 'tagged', 'tahan', 'tai', 'tait', 'taj', 'taka', 'takecare', 'taken', 'takes', 'takin', 'taking', 'talent', 'talents', 'talk', 'talkbut', 'talked', 'talkin', 'talking', 'talks', 'tall', 'tallahassee', 'tallent', 'tamilnadu', 'tampa', 'tank', 'tantrum', 'tap', 'tape', 'tariffs', 'tarot', 'tarpon', 'taste', 'tasts', 'tat', 'tata', 'tats', 'tattoos', 'tau', 'taught', 'taunton', 'taxes', 'taxi', 'taxless', 'taxt', 'taylor', 'tayseer', 'tb', 'tbs', 'tc', 'tcr', 'tcs', 'tddnewsletter', 'tea', 'teach', 'teacher', 'teachers', 'teaches', 'teaching', 'team', 'teams', 'tear', 'tears', 'tease', 'teasing', 'tech', 'technical', 'technologies', 'tee', 'teenager', 'teeth', 'teju', 'tel', 'telediscount', 'telephone', 'telephonic', 'teletext', 'tell', 'telling', 'tellmiss', 'tells', 'telly', 'telphone', 'telugu', 'temales', 'temp', 'temper', 'temple', 'tenants', 'tendencies', 'tenerife', 'tensed', 'tension', 'teresa', 'term', 'terminated', 'terms', 'termsapply', 'ternal', 'terrible', 'terrific', 'terror', 'terrorist', 'terry', 'tescos', 'tessy', 'test', 'testing', 'tests', 'tex', 'texas', 'texd', 'text', 'text82228', 'textand', 'textbook', 'textbuddy', 'textcomp', 'texted', 'textin', 'texting', 'textoperator', 'textpod', 'texts', 'tgxxrz', 'th', 'thandiyachu', 'thangam', 'thank', 'thanks', 'thanks2', 'thanksgiving', 'thanku', 'thankyou', 'thanx', 'thanx4', 'thasa', 'that2worzels', 'thatmum', 'thats', 'the4th', 'theacusations', 'theater', 'theatre', 'thecd', 'thedailydraw', 'theirs', 'thekingshead', 'themed', 'themes', 'themob', 'thenampet', 'theoretically', 'theory', 'theplace', 'thepub', 'theres', 'thesedays', 'thesis', 'thesmszone', 'thet', 'thew', 'theyre', 'thgt', 'thia', 'thing', 'things', 'think', 'thinked', 'thinkin', 'thinking', 'thinks', 'thinkthis', 'thinl', 'thirtyeight', 'thirunelvali', 'thk', 'thkin', 'thm', 'thnk', 'thnq', 'thnx', 'tho', 'thot', 'thou', 'thought', 'thoughts', 'thousands', 'thout', 'thread', 'threats', 'threw', 'thriller', 'throat', 'throw', 'throwin', 'throwing', 'thrown', 'throws', 'ths', 'tht', 'thts', 'thuglyfe', 'thurs', 'thursday', 'thx', 'thy', 'tick', 'ticket', 'tickets', 'tie', 'tiempo', 'tiger', 'tight', 'tightly', 'tigress', 'tihs', 'tiime', 'til', 'till', 'tim', 'time', 'times', 'timi', 'timin', 'timing', 'timings', 'tiny', 'tip', 'tips', 'tired', 'tiring', 'tirunelvai', 'tirunelvali', 'tirupur', 'tis', 'tissco', 'title', 'titles', 'tiwary', 'tix', 'tiz', 'tke', 'tkls', 'tkts', 'tlk', 'tlp', 'tm', 'tming', 'tmorow', 'tmorrow', 'tmr', 'tmrw', 'tms', 'tmw', 'tnc', 'tncs', 'toa', 'toaday', 'tobacco', 'tobed', 'tocall', 'toclaim', 'today', 'todays', 'todo', 'tog', 'tohar', 'toilet', 'tok', 'token', 'toking', 'tol', 'told', 'toledo', 'tolerance', 'tolerat', 'toll', 'tom', 'tomarrow', 'tome', 'tomeandsaid', 'tomo', 'tomorro', 'tomorrow', 'tomorw', 'tone', 'tones', 'tones2u', 'tones2you', 'tonexs', 'tonght', 'tongued', 'tonight', 'tonights', 'tonite', 'tons', 'tonsolitusaswell', 'took', 'tookplace', 'tool', 'tooo', 'toot', 'tooth', 'toothpaste', 'tootsie', 'topic', 'toplay', 'topped', 'toppoly', 'tops', 'tor', 'torch', 'torrents', 'tortilla', 'torture', 'tosend', 'toshiba', 'toss', 'tot', 'total', 'totally', 'totes', 'touch', 'touched', 'tough', 'toughest', 'tour', 'town', 'toxic', 'toyota', 'tp', 'track', 'trackmarque', 'trade', 'traditions', 'traffic', 'train', 'trained', 'training', 'trainners', 'trains', 'tram', 'tranquility', 'transaction', 'transcribing', 'transfer', 'transfered', 'transferred', 'transfr', 'transfred', 'transport', 'trash', 'trauma', 'trav', 'travel', 'traveling', 'travelled', 'travelling', 'treacle', 'treadmill', 'treasure', 'treat', 'treated', 'treatin', 'treats', 'trebles', 'tree', 'trek', 'trends', 'trial', 'tried', 'trip', 'triple', 'trips', 'trishul', 'triumphed', 'trivia', 'tron', 'trouble', 'troubleshooting', 'trouser', 'truble', 'truck', 'true', 'true18', 'truffles', 'truly', 'truro', 'trust', 'trusting', 'truth', 'try', 'tryin', 'trying', 'ts', 'tsandcs', 'tscs', 'tscs08714740323', 'tscs087147403231winawk', 'tsunami', 'tsunamis', 'tt', 'ttyl', 'tue', 'tues', 'tuesday', 'tui', 'tuition', 'tul', 'tulip', 'tunde', 'tune', 'tunji', 'turkeys', 'turn', 'turned', 'turning', 'turns', 'tuth', 'tv', 'twat', 'twice', 'twiggs', 'twilight', 'twinks', 'twins', 'twittering', 'tx', 'txt', 'txt250', 'txt43', 'txt82228', 'txtauction', 'txtin', 'txting', 'txtno', 'txts', 'txtstar', 'txtstop', 'txttowin', 'txtx', 'tyler', 'type', 'types', 'typical', 'tyrone', 'u2moro', 'u4', 'uawake', 'ubandu', 'ubi', 'ugadi', 'ugh', 'ugo', 'uh', 'uhhhhrmm', 'uin', 'ujhhhhhhh', 'uk', 'ukp', 'uks', 'ultimate', 'ultimately', 'ultimatum', 'um', 'umma', 'ummifying', 'ummma', 'ummmmmaah', 'unable', 'unbelievable', 'unbreakable', 'unclaimed', 'uncle', 'uncles', 'uncomfortable', 'unconditionally', 'unconscious', 'unconsciously', 'unconvinced', 'uncountable', 'uncut', 'underdtand', 'understand', 'understanding', 'understood', 'underwear', 'undrstnd', 'undrstndng', 'unemployed', 'uneventful', 'unfolds', 'unfortunately', 'unfortuntly', 'unhappiness', 'unhappy', 'uni', 'unicef', 'uniform', 'unintentional', 'unintentionally', 'unique', 'united', 'units', 'univ', 'university', 'unjalur', 'unkempt', 'unknown', 'unless', 'unlike', 'unlimited', 'unmits', 'unnecessarily', 'unni', 'unrecognized', 'unredeemed', 'unsecured', 'unsold', 'unspoken', 'unsub', 'unsubscribe', 'unsubscribed', 'untamed', 'unusual', 'up4', 'upcharge', 'upd8', 'updat', 'update', 'update_now', 'upgrade', 'upgrading', 'upgrdcentre', 'upload', 'uploaded', 'upping', 'ups', 'upset', 'upstairs', 'upto', 'uptown', 'ur', 'urawinner', 'ure', 'urfeeling', 'urgent', 'urgently', 'urgh', 'urgnt', 'urgoin', 'urgran', 'urination', 'url', 'urmom', 'urn', 'urself', 'usa', 'usb', 'usc', 'use', 'used', 'useful', 'useless', 'user', 'uses', 'usf', 'usher', 'using', 'usmle', 'usps', 'usual', 'usually', 'uterus', 'utter', 'uttered', 'uup', 'uv', 'uve', 'uwana', 'uwant', 'uworld', 'va', 'vaazhthukkal', 'vague', 'vaguely', 'vale', 'valentine', 'valentines', 'valid', 'valid12hrs', 'valuable', 'value', 'valued', 'values', 'valuing', 'varaya', 'vargu', 'various', 'varma', 'varunnathu', 'vary', 'vasai', 'vat', 'vatian', 'vava', 'vco', 'vday', 've', 'vegas', 'vegetables', 'veggie', 'vehicle', 'velachery', 'velly', 'velusamy', 'venaam', 'venugopal', 'verified', 'verify', 'verifying', 'version', 'versus', 'vettam', 'vewy', 'vibrant', 'vibrate', 'vibrator', 'vic', 'victoria', 'victors', 'vid', 'video', 'videochat', 'videophones', 'videos', 'videosound', 'videosounds', 'view', 'vijay', 'vijaykanth', 'vikky', 'vilikkam', 'vill', 'villa', 'village', 'vinobanagar', 'violated', 'violence', 'violet', 'vip', 'vipclub4u', 'virgil', 'virgin', 'virgins', 'virtual', 'visa', 'visionsms', 'visit', 'visiting', 'visitor', 'visitors', 'vital', 'vitamin', 'viva', 'vivek', 'vivekanand', 'vl', 'voda', 'vodafone', 'vodka', 'voice', 'voicemail', 'voila', 'volcanoes', 'vomit', 'vomitin', 'vomiting', 'vote', 'voted', 'vouch4me', 'voucher', 'vouchers', 'vpod', 'vry', 'vs', 'vth', 'vu', 'w1', 'w111wx', 'w14rg', 'w1a', 'w1j', 'w1j6hl', 'w1jhl', 'w1t1jy', 'w4', 'w45wq', 'w8in', 'wa', 'wa14', 'waaaat', 'wad', 'wadebridge', 'wah', 'wahala', 'wahay', 'waheed', 'waheeda', 'wahleykkum', 'waht', 'wait', 'waited', 'waitin', 'waiting', 'wake', 'waking', 'wales', 'waliking', 'walk', 'walkabout', 'walked', 'walkin', 'walking', 'walks', 'wall', 'wallet', 'wallpaper', 'walls', 'walmart', 'walsall', 'wamma', 'wan', 'wan2', 'wana', 'wanna', 'wannatell', 'want', 'want2come', 'wanted', 'wanting', 'wants', 'wap', 'waqt', 'warm', 'warming', 'warned', 'warner', 'warning', 'warranty', 'warwick', 'washob', 'wasn', 'wasnt', 'waste', 'wasted', 'wasting', 'wat', 'watch', 'watched', 'watches', 'watchin', 'watching', 'watchng', 'water', 'watever', 'watevr', 'wating', 'watr', 'wats', 'watts', 'wave', 'wavering', 'waves', 'way', 'way2sms', 'waz', 'wc1n', 'wc1n3xx', 'weak', 'weakness', 'weaknesses', 'weapon', 'wear', 'wearing', 'weaseling', 'weasels', 'weather', 'web', 'web2mobile', 'webadres', 'webeburnin', 'webpage', 'website', 'wed', 'weddin', 'wedding', 'weddingfriend', 'wedlunch', 'wednesday', 'weds', 'wee', 'weed', 'week', 'weekdays', 'weekend', 'weekends', 'weekly', 'weeks', 'weigh', 'weighed', 'weight', 'weightloss', 'weird', 'weirdest', 'weirdo', 'weirdy', 'weiyi', 'welcome', 'welcomes', 'wellda', 'welp', 'wen', 'wendy', 'wenever', 'went', 'wenwecan', 'wer', 'werebored', 'weren', 'werethe', 'wesley', 'wesleys', 'west', 'western', 'westlife', 'westonzoyland', 'westshore', 'wet', 'wetherspoons', 'wewa', 'whassup', 'whats', 'whatsup', 'wheat', 'wheel', 'wheellock', 'whenevr', 'whens', 'whereare', 'wherevr', 'wherre', 'whilltake', 'whispers', 'white', 'whn', 'whore', 'whos', 'whr', 'wi', 'wicked', 'wicket', 'wicklow', 'wid', 'widelive', 'wif', 'wife', 'wifes', 'wifi', 'wihtuot', 'wikipedia', 'wil', 'wild', 'wildest', 'wildlife', 'willing', 'willpower', 'win', 'win150ppmx3age16', 'wind', 'window', 'windows', 'winds', 'windy', 'wine', 'wined', 'wings', 'wining', 'winner', 'winnersclub', 'winning', 'wins', 'winterstone', 'wipe', 'wipro', 'wire3', 'wisdom', 'wise', 'wish', 'wisheds', 'wishes', 'wishin', 'wishing', 'wishlist', 'wiskey', 'wit', 'withdraw', 'wither', 'witin', 'witot', 'witout', 'wiv', 'wizzle', 'wk', 'wkend', 'wkent', 'wkg', 'wkly', 'wknd', 'wks', 'wlcome', 'wld', 'wml', 'wn', 'wnevr', 'wnt', 'wo', 'woah', 'wocay', 'woke', 'woken', 'woman', 'womdarfull', 'women', 'won', 'wondar', 'wondarfull', 'wonder', 'wonderful', 'wondering', 'wonders', 'wont', 'woo', 'woodland', 'woods', 'woohoo', 'woot', 'woould', 'woozles', 'worc', 'word', 'words', 'work', 'workage', 'workand', 'workin', 'working', 'workout', 'works', 'world', 'worlds', 'worms', 'worried', 'worries', 'worry', 'worrying', 'worse', 'worst', 'worth', 'worthless', 'wot', 'wotu', 'wotz', 'woul', 'woulda', 'wouldn', 'wounds', 'wow', 'wrc', 'wrecked', 'wrench', 'wrenching', 'wright', 'write', 'writhing', 'wrk', 'wrkin', 'wrking', 'wrks', 'wrld', 'wrnog', 'wrong', 'wrongly', 'wrote', 'ws', 'wt', 'wtc', 'wtf', 'wth', 'wthout', 'wtlp', 'wud', 'wudn', 'wuld', 'wuldnt', 'wun', 'www', 'wylie', 'x2', 'x29', 'x49', 'xafter', 'xam', 'xavier', 'xchat', 'xclusive', 'xin', 'xmas', 'xoxo', 'xt', 'xuhui', 'xx', 'xxsp', 'xxuk', 'xxx', 'xxxmobilemovieclub', 'xxxx', 'xxxxx', 'xxxxxx', 'xxxxxxx', 'xxxxxxxx', 'xxxxxxxxxxxxxx', 'xy', 'y87', 'ya', 'yah', 'yahoo', 'yalrigu', 'yalru', 'yam', 'yan', 'yar', 'yarasu', 'yards', 'yavnt', 'yaxx', 'yaxxx', 'yay', 'yck', 'yeah', 'year', 'years', 'yeesh', 'yeh', 'yelling', 'yellow', 'yelow', 'yen', 'yeovil', 'yep', 'yer', 'yes', 'yest', 'yesterday', 'yetty', 'yetunde', 'yhl', 'yi', 'yifeng', 'yijue', 'ym', 'ymca', 'yo', 'yoga', 'yogasana', 'yor', 'yorge', 'youdoing', 'youi', 'young', 'younger', 'youphone', 'youre', 'yourinclusive', 'yourjob', 'youuuuu', 'youwanna', 'yoville', 'yowifes', 'yoyyooo', 'yr', 'yrs', 'ystrday', 'ything', 'yummmm', 'yummy', 'yun', 'yunny', 'yuo', 'yuou', 'yup', 'yupz', 'zac', 'zaher', 'zealand', 'zebra', 'zed', 'zeros', 'zhong', 'zindgi', 'zoe', 'zogtorius', 'zoom', 'zouk', 'zyada', 'èn', 'ú1', '〨ud']\n"
     ]
    }
   ],
   "source": [
    "'''Vocabularul in sine'''\n",
    "\n",
    "print(feature_names)"
   ]
  },
  {
   "cell_type": "markdown",
   "metadata": {},
   "source": [
    "### Stats About Data Set"
   ]
  },
  {
   "cell_type": "code",
   "execution_count": 88,
   "metadata": {
    "ExecuteTime": {
     "end_time": "2019-05-21T20:47:29.624717Z",
     "start_time": "2019-05-21T20:47:29.569845Z"
    }
   },
   "outputs": [
    {
     "data": {
      "text/html": [
       "<div>\n",
       "<style scoped>\n",
       "    .dataframe tbody tr th:only-of-type {\n",
       "        vertical-align: middle;\n",
       "    }\n",
       "\n",
       "    .dataframe tbody tr th {\n",
       "        vertical-align: top;\n",
       "    }\n",
       "\n",
       "    .dataframe thead th {\n",
       "        text-align: right;\n",
       "    }\n",
       "</style>\n",
       "<table border=\"1\" class=\"dataframe\">\n",
       "  <thead>\n",
       "    <tr style=\"text-align: right;\">\n",
       "      <th></th>\n",
       "      <th>category</th>\n",
       "      <th>message</th>\n",
       "    </tr>\n",
       "  </thead>\n",
       "  <tbody>\n",
       "    <tr>\n",
       "      <th>0</th>\n",
       "      <td>0</td>\n",
       "      <td>Go until jurong point, crazy.. Available only ...</td>\n",
       "    </tr>\n",
       "    <tr>\n",
       "      <th>1</th>\n",
       "      <td>0</td>\n",
       "      <td>Ok lar... Joking wif u oni...</td>\n",
       "    </tr>\n",
       "    <tr>\n",
       "      <th>2</th>\n",
       "      <td>1</td>\n",
       "      <td>Free entry in 2 a wkly comp to win FA Cup fina...</td>\n",
       "    </tr>\n",
       "    <tr>\n",
       "      <th>3</th>\n",
       "      <td>0</td>\n",
       "      <td>U dun say so early hor... U c already then say...</td>\n",
       "    </tr>\n",
       "    <tr>\n",
       "      <th>4</th>\n",
       "      <td>0</td>\n",
       "      <td>Nah I don't think he goes to usf, he lives aro...</td>\n",
       "    </tr>\n",
       "  </tbody>\n",
       "</table>\n",
       "</div>"
      ],
      "text/plain": [
       "   category                                            message\n",
       "0         0  Go until jurong point, crazy.. Available only ...\n",
       "1         0                      Ok lar... Joking wif u oni...\n",
       "2         1  Free entry in 2 a wkly comp to win FA Cup fina...\n",
       "3         0  U dun say so early hor... U c already then say...\n",
       "4         0  Nah I don't think he goes to usf, he lives aro..."
      ]
     },
     "execution_count": 88,
     "metadata": {},
     "output_type": "execute_result"
    }
   ],
   "source": [
    "spam_dataFrame = data_spam\n",
    "spam_dataFrame.head()"
   ]
  },
  {
   "cell_type": "code",
   "execution_count": 89,
   "metadata": {
    "ExecuteTime": {
     "end_time": "2019-05-21T20:47:30.052156Z",
     "start_time": "2019-05-21T20:47:30.043182Z"
    }
   },
   "outputs": [
    {
     "name": "stdout",
     "output_type": "stream",
     "text": [
      "<class 'pandas.core.frame.DataFrame'>\n",
      "RangeIndex: 5572 entries, 0 to 5571\n",
      "Data columns (total 2 columns):\n",
      "category    5572 non-null int64\n",
      "message     5572 non-null object\n",
      "dtypes: int64(1), object(1)\n",
      "memory usage: 87.1+ KB\n"
     ]
    }
   ],
   "source": [
    "spam_dataFrame.info()"
   ]
  },
  {
   "cell_type": "code",
   "execution_count": 90,
   "metadata": {
    "ExecuteTime": {
     "end_time": "2019-05-21T20:47:30.682932Z",
     "start_time": "2019-05-21T20:47:30.610547Z"
    }
   },
   "outputs": [
    {
     "data": {
      "image/png": "[encoded data removed]",
      "text/plain": [
       "<Figure size 432x432 with 1 Axes>"
      ]
     },
     "metadata": {},
     "output_type": "display_data"
    }
   ],
   "source": [
    "spam_dataFrame[\"category\"].value_counts().plot(kind = 'pie', explode = [0, 0.1], figsize = (6, 6), autopct = '%1.1f%%', shadow = True)\n",
    "plt.show()"
   ]
  },
  {
   "cell_type": "code",
   "execution_count": 91,
   "metadata": {},
   "outputs": [],
   "source": [
    "spam_dataFrame['review_len'] =  spam_dataFrame['message'].astype(str).apply(len)\n",
    "spam_dataFrame['word_count'] =  spam_dataFrame['message'].apply(lambda x: len(str(x).split()))"
   ]
  },
  {
   "cell_type": "code",
   "execution_count": 92,
   "metadata": {},
   "outputs": [
    {
     "data": {
      "text/plain": [
       "[]"
      ]
     },
     "execution_count": 92,
     "metadata": {},
     "output_type": "execute_result"
    },
    {
     "data": {
      "image/png": "[encoded data removed]",
      "text/plain": [
       "<Figure size 432x288 with 1 Axes>"
      ]
     },
     "metadata": {
      "needs_background": "light"
     },
     "output_type": "display_data"
    }
   ],
   "source": [
    "spam_dataFrame['review_len'].plot(\n",
    "    kind='hist',\n",
    "    bins=100,\n",
    "    title='Review Text Length Distribution')\n",
    "plt.ylabel(\"count\")\n",
    "plt.xlabel(\"review length\")\n",
    "plt.plot()"
   ]
  },
  {
   "cell_type": "code",
   "execution_count": 93,
   "metadata": {},
   "outputs": [
    {
     "data": {
      "text/plain": [
       "[]"
      ]
     },
     "execution_count": 93,
     "metadata": {},
     "output_type": "execute_result"
    },
    {
     "data": {
      "image/png": "[encoded data removed]",
      "text/plain": [
       "<Figure size 432x288 with 1 Axes>"
      ]
     },
     "metadata": {
      "needs_background": "light"
     },
     "output_type": "display_data"
    }
   ],
   "source": [
    "spam_dataFrame['word_count'].plot(\n",
    "    kind='hist',\n",
    "    bins=100,\n",
    "    title='Review Text Word Count Distribution')\n",
    "plt.ylabel(\"count\")\n",
    "plt.xlabel(\"word count\")\n",
    "plt.plot()"
   ]
  },
  {
   "cell_type": "code",
   "execution_count": 22,
   "metadata": {
    "ExecuteTime": {
     "end_time": "2019-05-21T20:47:31.101963Z",
     "start_time": "2019-05-21T20:47:31.093985Z"
    }
   },
   "outputs": [],
   "source": [
    "spam_messages = spam_dataFrame[spam_dataFrame[\"category\"] == \"spam\"][\"message\"]\n",
    "ham_messages = spam_dataFrame[spam_dataFrame[\"category\"] == \"ham\"][\"message\"]\n",
    "spam_words = []\n",
    "ham_words = []"
   ]
  },
  {
   "cell_type": "code",
   "execution_count": 23,
   "metadata": {
    "ExecuteTime": {
     "end_time": "2019-05-21T20:47:31.653162Z",
     "start_time": "2019-05-21T20:47:31.648902Z"
    }
   },
   "outputs": [],
   "source": [
    "def extractSpamWords(spamMessages):\n",
    "    global spam_words\n",
    "    words = [word.lower() for word in word_tokenize(spamMessages) if word.lower() not in stopwords.words(\"english\") and word.lower().isalpha()]\n",
    "    spam_words = spam_words + words"
   ]
  },
  {
   "cell_type": "code",
   "execution_count": 24,
   "metadata": {
    "ExecuteTime": {
     "end_time": "2019-05-21T20:47:32.149627Z",
     "start_time": "2019-05-21T20:47:32.145639Z"
    }
   },
   "outputs": [],
   "source": [
    "def extractHamWords(hamMessages):\n",
    "    global ham_words\n",
    "    words = [word.lower() for word in word_tokenize(hamMessages) if word.lower() not in stopwords.words(\"english\") and word.lower().isalpha()]\n",
    "    ham_words = ham_words + words"
   ]
  },
  {
   "cell_type": "code",
   "execution_count": 25,
   "metadata": {
    "ExecuteTime": {
     "end_time": "2019-05-21T20:47:52.893492Z",
     "start_time": "2019-05-21T20:47:32.706475Z"
    }
   },
   "outputs": [
    {
     "data": {
      "text/plain": [
       "0       None\n",
       "1       None\n",
       "3       None\n",
       "4       None\n",
       "6       None\n",
       "7       None\n",
       "10      None\n",
       "13      None\n",
       "14      None\n",
       "16      None\n",
       "17      None\n",
       "18      None\n",
       "20      None\n",
       "21      None\n",
       "22      None\n",
       "23      None\n",
       "24      None\n",
       "25      None\n",
       "26      None\n",
       "27      None\n",
       "28      None\n",
       "29      None\n",
       "30      None\n",
       "31      None\n",
       "32      None\n",
       "33      None\n",
       "35      None\n",
       "36      None\n",
       "37      None\n",
       "38      None\n",
       "        ... \n",
       "5540    None\n",
       "5541    None\n",
       "5543    None\n",
       "5544    None\n",
       "5545    None\n",
       "5546    None\n",
       "5547    None\n",
       "5548    None\n",
       "5550    None\n",
       "5551    None\n",
       "5552    None\n",
       "5553    None\n",
       "5554    None\n",
       "5555    None\n",
       "5556    None\n",
       "5557    None\n",
       "5558    None\n",
       "5559    None\n",
       "5560    None\n",
       "5561    None\n",
       "5562    None\n",
       "5563    None\n",
       "5564    None\n",
       "5565    None\n",
       "5566    None\n",
       "5567    None\n",
       "5570    None\n",
       "5571    None\n",
       "5572    None\n",
       "5573    None\n",
       "Name: message, Length: 4827, dtype: object"
      ]
     },
     "execution_count": 25,
     "metadata": {},
     "output_type": "execute_result"
    }
   ],
   "source": [
    "spam_messages.apply(extractSpamWords)\n",
    "ham_messages.apply(extractHamWords)"
   ]
  },
  {
   "cell_type": "code",
   "execution_count": 26,
   "metadata": {
    "ExecuteTime": {
     "end_time": "2019-05-21T20:47:52.928399Z",
     "start_time": "2019-05-21T20:47:52.919423Z"
    }
   },
   "outputs": [
    {
     "name": "stdout",
     "output_type": "stream",
     "text": [
      "Top 10 Spam words are :\n",
      "\n"
     ]
    },
    {
     "data": {
      "text/plain": [
       "call      346\n",
       "free      217\n",
       "txt       156\n",
       "ur        144\n",
       "u         144\n",
       "mobile    123\n",
       "text      121\n",
       "stop      118\n",
       "claim     113\n",
       "reply     104\n",
       "dtype: int64"
      ]
     },
     "execution_count": 26,
     "metadata": {},
     "output_type": "execute_result"
    }
   ],
   "source": [
    "print(\"Top 10 Spam words are :\\n\")\n",
    "pd.Series(spam_words).value_counts().head(n = 10)"
   ]
  },
  {
   "cell_type": "code",
   "execution_count": 27,
   "metadata": {
    "ExecuteTime": {
     "end_time": "2019-05-21T20:47:59.294430Z",
     "start_time": "2019-05-21T20:47:59.277505Z"
    }
   },
   "outputs": [
    {
     "name": "stdout",
     "output_type": "stream",
     "text": [
      "Top 10 Ham words are :\n",
      "\n"
     ]
    },
    {
     "data": {
      "text/plain": [
       "u       991\n",
       "gt      318\n",
       "lt      316\n",
       "get     302\n",
       "go      249\n",
       "ur      247\n",
       "ok      247\n",
       "got     245\n",
       "know    235\n",
       "like    233\n",
       "dtype: int64"
      ]
     },
     "execution_count": 27,
     "metadata": {},
     "output_type": "execute_result"
    }
   ],
   "source": [
    "print(\"Top 10 Ham words are :\\n\")\n",
    "pd.Series(ham_words).value_counts().head(n = 10)"
   ]
  },
  {
   "cell_type": "markdown",
   "metadata": {},
   "source": [
    "## Sentiment Data Set"
   ]
  },
  {
   "cell_type": "markdown",
   "metadata": {},
   "source": [
    "## Loading Data Set"
   ]
  },
  {
   "cell_type": "code",
   "execution_count": 47,
   "metadata": {},
   "outputs": [
    {
     "data": {
      "text/html": [
       "<div>\n",
       "<style scoped>\n",
       "    .dataframe tbody tr th:only-of-type {\n",
       "        vertical-align: middle;\n",
       "    }\n",
       "\n",
       "    .dataframe tbody tr th {\n",
       "        vertical-align: top;\n",
       "    }\n",
       "\n",
       "    .dataframe thead th {\n",
       "        text-align: right;\n",
       "    }\n",
       "</style>\n",
       "<table border=\"1\" class=\"dataframe\">\n",
       "  <thead>\n",
       "    <tr style=\"text-align: right;\">\n",
       "      <th></th>\n",
       "      <th>message</th>\n",
       "      <th>category</th>\n",
       "    </tr>\n",
       "  </thead>\n",
       "  <tbody>\n",
       "    <tr>\n",
       "      <th>0</th>\n",
       "      <td>A very, very, very slow-moving, aimless movie ...</td>\n",
       "      <td>0</td>\n",
       "    </tr>\n",
       "    <tr>\n",
       "      <th>1</th>\n",
       "      <td>Not sure who was more lost - the flat characte...</td>\n",
       "      <td>0</td>\n",
       "    </tr>\n",
       "    <tr>\n",
       "      <th>2</th>\n",
       "      <td>Attempting artiness with black &amp; white and cle...</td>\n",
       "      <td>0</td>\n",
       "    </tr>\n",
       "    <tr>\n",
       "      <th>3</th>\n",
       "      <td>Very little music or anything to speak of.</td>\n",
       "      <td>0</td>\n",
       "    </tr>\n",
       "    <tr>\n",
       "      <th>4</th>\n",
       "      <td>The best scene in the movie was when Gerardo i...</td>\n",
       "      <td>1</td>\n",
       "    </tr>\n",
       "  </tbody>\n",
       "</table>\n",
       "</div>"
      ],
      "text/plain": [
       "                                             message  category\n",
       "0  A very, very, very slow-moving, aimless movie ...         0\n",
       "1  Not sure who was more lost - the flat characte...         0\n",
       "2  Attempting artiness with black & white and cle...         0\n",
       "3       Very little music or anything to speak of.           0\n",
       "4  The best scene in the movie was when Gerardo i...         1"
      ]
     },
     "execution_count": 47,
     "metadata": {},
     "output_type": "execute_result"
    }
   ],
   "source": [
    "dataframe_imdb = pd.read_csv(\"data/imdb_labelled\", names = [\"message\", \"category\"], sep = '\\t')\n",
    "dataframe_yelp = pd.read_csv(\"data/yelp_labelled\", names = [\"message\", \"category\"], sep = '\\t')\n",
    "dataframe_amazon = pd.read_csv(\"data/amazon_cells_labelled\", names = [\"message\", \"category\"], sep = '\\t')\n",
    "\n",
    "dataframe = dataframe_imdb\n",
    "dataframe.append(dataframe_yelp, ignore_index=True)\n",
    "dataframe.append(dataframe_amazon, ignore_index=True)\n",
    "\n",
    "dataframe.head()"
   ]
  },
  {
   "cell_type": "code",
   "execution_count": 48,
   "metadata": {},
   "outputs": [
    {
     "data": {
      "text/html": [
       "<div>\n",
       "<style scoped>\n",
       "    .dataframe tbody tr th:only-of-type {\n",
       "        vertical-align: middle;\n",
       "    }\n",
       "\n",
       "    .dataframe tbody tr th {\n",
       "        vertical-align: top;\n",
       "    }\n",
       "\n",
       "    .dataframe thead tr th {\n",
       "        text-align: left;\n",
       "    }\n",
       "\n",
       "    .dataframe thead tr:last-of-type th {\n",
       "        text-align: right;\n",
       "    }\n",
       "</style>\n",
       "<table border=\"1\" class=\"dataframe\">\n",
       "  <thead>\n",
       "    <tr>\n",
       "      <th></th>\n",
       "      <th colspan=\"4\" halign=\"left\">message</th>\n",
       "    </tr>\n",
       "    <tr>\n",
       "      <th></th>\n",
       "      <th>count</th>\n",
       "      <th>unique</th>\n",
       "      <th>top</th>\n",
       "      <th>freq</th>\n",
       "    </tr>\n",
       "    <tr>\n",
       "      <th>category</th>\n",
       "      <th></th>\n",
       "      <th></th>\n",
       "      <th></th>\n",
       "      <th></th>\n",
       "    </tr>\n",
       "  </thead>\n",
       "  <tbody>\n",
       "    <tr>\n",
       "      <th>0</th>\n",
       "      <td>362</td>\n",
       "      <td>361</td>\n",
       "      <td>Not recommended.</td>\n",
       "      <td>2</td>\n",
       "    </tr>\n",
       "    <tr>\n",
       "      <th>1</th>\n",
       "      <td>386</td>\n",
       "      <td>384</td>\n",
       "      <td>Definitely worth checking out.</td>\n",
       "      <td>2</td>\n",
       "    </tr>\n",
       "  </tbody>\n",
       "</table>\n",
       "</div>"
      ],
      "text/plain": [
       "         message                                              \n",
       "           count unique                               top freq\n",
       "category                                                      \n",
       "0            362    361                Not recommended.      2\n",
       "1            386    384  Definitely worth checking out.      2"
      ]
     },
     "execution_count": 48,
     "metadata": {},
     "output_type": "execute_result"
    }
   ],
   "source": [
    "dataframe.groupby('category').describe()"
   ]
  },
  {
   "cell_type": "code",
   "execution_count": 49,
   "metadata": {},
   "outputs": [],
   "source": [
    "dataframe_X = dataframe[\"message\"]\n",
    "dataframe_Y = dataframe[\"category\"]"
   ]
  },
  {
   "cell_type": "code",
   "execution_count": 50,
   "metadata": {},
   "outputs": [
    {
     "name": "stdout",
     "output_type": "stream",
     "text": [
      "Cum este organizat textul:  <class 'pandas.core.series.Series'>\n",
      "Cate date text sunt in dataframe:  748\n",
      "Primul text:  A very, very, very slow-moving, aimless movie about a distressed, drifting young man.  \n",
      "Categoria asociata:  0\n",
      "Numarul de clase din setul de date:  [0 1]\n",
      "Numarul de date din fiecare clasa: [362 386]\n"
     ]
    }
   ],
   "source": [
    "print('Cum este organizat textul: ', type(dataframe_X))\n",
    "print('Cate date text sunt in dataframe: ', len(dataframe_X))\n",
    "print('Primul text: ', dataframe_X[0])\n",
    "print('Categoria asociata: ', dataframe_Y[0])\n",
    "print('Numarul de clase din setul de date: ', np.unique(dataframe_Y))\n",
    "print('Numarul de date din fiecare clasa: {0}'.format(np.bincount(dataframe_Y)))"
   ]
  },
  {
   "cell_type": "markdown",
   "metadata": {},
   "source": [
    "### Vocabulary"
   ]
  },
  {
   "cell_type": "code",
   "execution_count": 53,
   "metadata": {},
   "outputs": [],
   "source": [
    "''' CountVectorizer din sklearn.feature_extraction.text serveste la selectarea cuvintelor din text \n",
    "si calculul frecventei de aparitie.\n",
    "- stop_words -> specifica ca textul selectat sa fie cuvinte\n",
    "- analyzer -> se face analiza de cuvinte\n",
    "- ngram_range -> seturi de cuvinte consecutive\n",
    "- min_df -> ignoră termenii care au o frecvență de aparitie (în % din documente) strict mai mică decât pragul dat\n",
    "- max_df -> ignoră termenii care au o frecvență de aparitie (în % din documente) strict mai mare decât pragul dat\n",
    "- max_feature -> limiteaza numărul de caracteristici pe care vectorizatorul le va învăța\n",
    "'''\n",
    "\n",
    "vect = CountVectorizer(stop_words=\"english\", analyzer='word', ngram_range=(1, 1), max_df=1.0, min_df=1, max_features=None)"
   ]
  },
  {
   "cell_type": "code",
   "execution_count": 54,
   "metadata": {},
   "outputs": [
    {
     "data": {
      "text/plain": [
       "<748x2811 sparse matrix of type '<class 'numpy.int64'>'\n",
       "\twith 6251 stored elements in Compressed Sparse Row format>"
      ]
     },
     "execution_count": 54,
     "metadata": {},
     "output_type": "execute_result"
    }
   ],
   "source": [
    "'''Aici obtinem un vector bag of words prin aplicarea metodei transform:'''\n",
    "\n",
    "dataframe_X = vect.fit_transform(dataframe_X)\n",
    "dataframe_X"
   ]
  },
  {
   "cell_type": "code",
   "execution_count": 56,
   "metadata": {},
   "outputs": [
    {
     "name": "stdout",
     "output_type": "stream",
     "text": [
      "{'slow': 2233, 'moving': 1627, 'aimless': 87, 'movie': 1625, 'distressed': 697, 'drifting': 732, 'young': 2803, 'man': 1524, 'sure': 2389, 'lost': 1491, 'flat': 958, 'characters': 385, 'audience': 170, 'nearly': 1650, 'half': 1117, 'walked': 2695, 'attempting': 166, 'artiness': 145, 'black': 250, 'white': 2741, 'clever': 432, 'camera': 333, 'angles': 114, 'disappointed': 679, 'ridiculous': 2041, 'acting': 54, 'poor': 1847, 'plot': 1831, 'lines': 1461, 'non': 1672, 'existent': 851, 'little': 1467, 'music': 1636, 'speak': 2274, 'best': 238, 'scene': 2108, 'gerardo': 1049, 'trying': 2555, 'song': 2255, 'keeps': 1367, 'running': 2076, 'head': 1145, 'rest': 2023, 'lacks': 1398, 'art': 143, 'charm': 390, 'meaning': 1555, 'emptiness': 788, 'works': 2775, 'guess': 1106, 'wasted': 2711, 'hours': 1210, 'saw': 2099, 'today': 2495, 'thought': 2469, 'good': 1075, 'effort': 765, 'messages': 1576, 'kids': 1374, 'bit': 248, 'predictable': 1868, 'loved': 1497, 'casting': 360, 'jimmy': 1340, 'buffet': 315, 'science': 2118, 'teacher': 2428, 'baby': 191, 'owls': 1738, 'adorable': 70, 'showed': 2195, 'lot': 1492, 'florida': 965, 'look': 1482, 'appealing': 130, 'songs': 2256, 'muppets': 1631, 'hilarious': 1176, 'cool': 533, 'right': 2043, 'case': 356, 'delivers': 632, 'face': 877, 'average': 176, 'main': 1513, 'person': 1788, 'low': 1500, 'budget': 313, 'clearly': 431, 'review': 2035, 'long': 1480, 'overdue': 1732, 'consider': 502, 'tale': 2416, 'sisters': 2215, 'single': 2210, 'greatest': 1094, 'film': 935, 'll': 1471, 'gem': 1039, 'terms': 2448, 'screenplay': 2126, 'cinematography': 425, 'post': 1858, 'production': 1894, 'editing': 758, 'directing': 674, 'aspect': 153, 'making': 1520, 'practically': 1864, 'perfect': 1781, 'true': 2549, 'masterpiece': 1542, 'sea': 2134, 'faux': 915, 'masterpieces': 1543, 'structure': 2342, 'easily': 750, 'tightly': 2484, 'constructed': 511, 'history': 1180, 'cinema': 422, 'think': 2464, 'vitally': 2681, 'important': 1248, 'occurs': 1697, 'minute': 1589, 'words': 2771, 'content': 515, 'level': 1440, 'dozen': 717, 'films': 940, 'mind': 1584, 'ask': 151, 'quite': 1936, 'simply': 2207, 'highest': 1173, 'superlative': 2384, 'form': 989, 'imaginable': 1239, 'yes': 2802, 'does': 704, 'require': 2018, 'significant': 2202, 'puzzle': 1925, 'solving': 2252, 'pieces': 1806, 'fit': 953, 'create': 560, 'beautiful': 218, 'picture': 1803, 'short': 2190, 'certainly': 373, 'pulls': 1915, 'punches': 1917, 'graphics': 1090, 'far': 902, 'game': 1028, 'number': 1683, 'th': 2453, 'series': 2160, 'deserves': 644, 'strong': 2340, 'love': 1496, 'insane': 1279, 'massive': 1539, 'levels': 1441, 'unlockable': 2616, 'just': 1362, 'waste': 2710, 'money': 1606, 'kind': 1380, 'properly': 1902, 'actually': 61, 'time': 2485, 'crap': 554, 'say': 2100, 'canada': 337, 'fun': 1015, 'aye': 187, 'rocks': 2056, 'buy': 325, 'play': 1818, 'enjoy': 802, 'pure': 1922, 'brilliance': 302, 'flick': 963, 'doomed': 713, 'conception': 484, 'idea': 1229, 'lame': 1401, 'minor': 1588, 'character': 383, 'mediocre': 1559, 'pg': 1792, '13': 2, 'make': 1516, 'complete': 473, 'sequel': 2156, 'changing': 381, 'tone': 2501, 'rated': 1948, 'family': 895, 'wasn': 2709, 'interested': 1300, 'did': 666, 'confirm': 493, 'unfunny': 2607, 'generic': 1043, 'managed': 1525, 'away': 183, 'entire': 810, 'exaggerating': 836, 'moment': 1603, 'point': 1838, 'joke': 1346, 'told': 2496, 'trailer': 2523, 'funny': 1019, 'talented': 2418, 'carrell': 350, 'save': 2097, 'stars': 2302, 'don': 710, 'fare': 904, 'better': 239, 'people': 1779, 'like': 1451, 'morgan': 1614, 'freeman': 1001, 'jonah': 1348, 'hill': 1177, 'ed': 756, 'helms': 1159, 'story': 2327, 'lazy': 1421, 'real': 1958, 'effects': 764, 'work': 2772, 'presence': 1874, 'animals': 118, 'integration': 1293, 'scenes': 2110, 'worst': 2779, 'obvious': 1692, 'blue': 260, 'green': 1096, 'screen': 2124, 've': 2654, 'seen': 2144, 'cost': 540, 'didn': 667, 'translate': 2528, 'quality': 1929, 'succeeds': 2366, 'despite': 652, 'obviously': 1693, 'meagre': 1552, 'glad': 1065, 'choice': 414, 'lesser': 1435, 'addition': 66, 'having': 1140, 'lovely': 1498, 'written': 2793, 'french': 1002, 'cancan': 338, 'boasts': 262, 'cutest': 586, 'leading': 1423, 'ladies': 1399, 'grace': 1085, 'hard': 1132, 'fall': 888, 'heels': 1154, 'girl': 1058, 'negative': 1655, 'insipid': 1282, 'cause': 364, 'regret': 1984, 'life': 1447, 'whiny': 2740, 'pointless': 1840, 'recommend': 1972, 'waiting': 2692, 'future': 1020, 'efforts': 766, 'let': 1437, 'excellent': 838, 'cast': 358, 'line': 1459, 'performances': 1785, 'totally': 2512, 'believable': 226, 'anne': 123, 'heche': 1153, 'utterly': 2647, 'convincing': 531, 'sam': 2087, 'shepard': 2185, 'portrayal': 1851, 'gung': 1109, 'ho': 1182, 'marine': 1531, 'sobering': 2246, 'sat': 2093, 'riveted': 2049, 'tv': 2563, 'resounding': 2021, '10': 0, 'tom': 2499, 'hanks': 1127, 'actor': 57, 'enjoyed': 804, 'reading': 1956, 'book': 275, 'children': 408, 'annoying': 125, 'voice': 2685, 'gives': 1063, 'feeling': 922, 'fingernails': 948, 'chalkboard': 376, 'unnecessary': 2620, 'train': 2524, 'roller': 2060, 'coaster': 445, 'absolutely': 38, 'warmth': 2702, 'grates': 1092, 'nerves': 1659, 'improved': 1253, 'improvisation': 1255, 'actors': 58, 'twice': 2564, 'worry': 2777, 'delivering': 631, 'honestly': 1195, 'dialogue': 663, 'doesn': 705, 'really': 1964, 'follow': 971, 'surroundings': 2398, 'crackles': 552, 'unpredictable': 2625, 'youthful': 2805, 'energy': 798, 'concentrate': 483, 'meanders': 1554, 'badly': 196, 'generally': 1041, 'great': 1093, 'things': 2463, 'wouldn': 2784, 'worth': 2780, 'suspense': 2400, 'builders': 317, 'cross': 576, 'especially': 821, 'liked': 1452, 'cliche': 433, 'choices': 415, 'parents': 1759, 'movies': 1626, 'predict': 1867, 'dialog': 661, 'verbatim': 2658, 'writing': 2792, 'selections': 2145, 'want': 2697, 'gross': 1103, 'chills': 410, 'alexander': 93, 'nevsky': 1664, 'amazing': 102, 'artist': 146, 'lived': 1468, 'pretentious': 1878, 'piece': 1805, 'planned': 1816, 'dodge': 703, 'stratus': 2333, 'big': 243, 'shots': 2193, 'gonna': 1074, 'help': 1160, 'makers': 1518, 'aren': 138, 'restrained': 2024, 'business': 324, 'québec': 1937, 'given': 1062, 'years': 2800, 'needed': 1653, 'word': 2770, 'mouth': 1621, 'promote': 1898, 'overall': 1730, 'interesting': 1301, 'provoking': 1907, 'plus': 1833, 'paced': 1743, 'suited': 2375, 'relatively': 1994, 'run': 2075, 'gave': 1036, 'wind': 2754, 'lion': 1463, 'superbly': 2382, 'acted': 53, 'classic': 428, 'turned': 2561, 'pretty': 1880, 'decent': 614, 'list': 1464, 'horror': 1205, 'definitely': 624, 'checking': 397, 'problem': 1885, 'script': 2129, 'horrendous': 1200, 'frustration': 1010, 'retarded': 2028, 'girls': 1060, 'manna': 1527, 'heaven': 1152, 'terrific': 2451, 'occasionally': 1694, 'touching': 2515, 'evaluate': 828, 'lives': 1469, 'going': 1072, 'veteran': 2663, 'nostalgia': 1677, 'trip': 2543, 'ursula': 2638, 'burton': 323, 'nun': 1685, 'nuns': 1686, 'church': 421, 'looking': 1484, 'including': 1260, 'shirley': 2187, 'jones': 1349, 'rendition': 2008, 'way': 2722, 'tonight': 2503, 'uplifting': 2634, 'ending': 794, 'try': 2554, 'frankly': 998, 'cotton': 543, 'club': 441, 'unfaithful': 2602, 'embarrassing': 777, 'watch': 2714, 'lane': 1404, 'gere': 1050, 'bad': 195, 'dialogs': 662, 'extremely': 873, 'shallow': 2171, 'insincere': 1281, 'chick': 405, 'politically': 1844, 'correct': 539, 'disappointing': 680, 'thing': 2462, 'watching': 2717, 'scenery': 2109, 'house': 1211, 'lousy': 1494, 'hour': 1209, 'wish': 2756, 'bring': 305, 'fresh': 1003, 'bold': 267, 'helps': 1162, 'maybe': 1549, 'idiot': 1234, 'savant': 2096, 'sister': 2214, 'played': 1819, 'joy': 1351, 'boring': 283, 'occupied': 1695, 'peaking': 1774, 'paper': 1757, 'instead': 1287, 'happened': 1129, 'columbo': 454, 'oh': 1703, 'mature': 1548, 'neighbour': 1657, 'misplace': 1595, 'weaker': 2728, 'episode': 813, 'debated': 609, 'sack': 2081, 'trumpeter': 2552, 'falsely': 891, 'accused': 48, 'murder': 1632, 'stupid': 2351, 'applause': 134, 'prelude': 1871, 'director': 676, 'edge': 757, 'seat': 2139, 'somewhat': 2253, 'afraid': 78, 'car': 344, 'end': 791, 'night': 1668, 'nice': 1666, 'advise': 73, 'brilliant': 303, 'playing': 1822, 'villain': 2672, 'rent': 2010, 'michael': 1579, 'ironside': 1316, 'rocked': 2055, 'world': 2776, 'social': 2247, 'physical': 1800, 'outlets': 1726, 'fact': 881, 'tremendously': 2539, 'chemistry': 404, 'ben': 233, 'affleck': 77, 'sandra': 2090, 'bullock': 320, 'couldn': 544, 'understand': 2591, 'leaving': 1428, 'wife': 2746, 'supposedly': 2388, 'knocked': 1386, 'moments': 1604, 'need': 1652, 'excruciatingly': 846, 'remake': 2001, 'friends': 1005, 'wedding': 2732, 'disappointment': 681, 'believe': 227, 'agreed': 86, 'stand': 2296, 'fear': 918, 'losing': 1490, 'network': 1663, 'aired': 89, 'dribble': 730, 'watched': 2716, 'putting': 1924, 'imdb': 1243, 'ratings': 1950, 'awful': 185, 'numbers': 1684, 'cases': 357, 'mirrormask': 1591, 'unsatisfactory': 2631, 'experience': 858, 'unfortunately': 2606, 'inexperience': 1275, 'direction': 675, 'meant': 1557, 'passed': 1766, 'dramatic': 724, 'tension': 2445, 'conflict': 494, 'central': 370, 'themes': 2460, 'handled': 1122, 'ineptly': 1274, 'stereotypically': 2315, 'depth': 639, 'imagination': 1240, 'pictures': 1804, 'flawed': 960, 'core': 536, 'following': 972, 'bunch': 322, 'high': 1171, 'schoolers': 2114, 'whine': 2739, 'relate': 1988, 'hell': 1157, 'barely': 207, 'cult': 581, 'viewing': 2670, 'sharing': 2175, 'disaster': 682, 'confuses': 495, 'incredibly': 1265, 'fish': 950, 'underwater': 2597, 'repeated': 2012, 'thousand': 2471, 'times': 2489, 'truly': 2550, 'terrible': 2449, 'worse': 2778, 'possible': 1856, 'redeemed': 1977, 'mst3k': 1629, 'fodder': 970, 'paid': 1746, 'treat': 2535, 'anthony': 126, 'quinn': 1935, 'crazy': 559, 'horse': 1206, 'whatsoever': 2738, 'horrible': 1202, 'gosh': 1079, 'walk': 2694, 'theatre': 2456, 'minutes': 1590, 'relief': 1998, 'hate': 1135, 'yeah': 2798, 'sucked': 2369, 'storyline': 2328, 'pillow': 1808, 'girlfriend': 1059, 'boyfriend': 290, 'gone': 1073, 'disliked': 690, 'tickets': 2483, 'dollars': 708, 'mad': 1511, '50': 24, 'identifies': 1232, 'cardboard': 346, 'cutouts': 588, 'stereotypes': 2314, 'predictably': 1869, 'reverse': 2034, 'ugly': 2573, 'cartoon': 354, 'crafted': 553, 'paul': 1772, 'haggis': 1114, 'handle': 1121, 'strokes': 2339, 'storytelling': 2329, 'painted': 1750, 'crayons': 558, 'crash': 555, 'depressing': 638, 'provokes': 1906, 'emotion': 783, 'teaches': 2429, 'know': 1387, 'racism': 1940, 'prejudice': 1870, 'empowerment': 787, 'women': 2760, 'brain': 292, 'attempt': 164, 'shut': 2197, 'primal': 1882, 'impulse': 1256, 'self': 2146, 'preservation': 1876, 'left': 1430, 'shattered': 2178, 'took': 2506, 'fully': 1013, 'recover': 1975, 'joins': 1345, 'revenge': 2032, 'boogeyman': 274, 'zombiez': 2810, 'hellish': 1158, 'trinity': 2542, 'mean': 1553, 'distinction': 694, 'redeeming': 1978, 'features': 920, 'appalling': 129, 'artless': 148, 'endlessly': 795, 'presents': 1875, 'ugliest': 2572, 'setting': 2165, 'lead': 1422, 'charisma': 386, 'free': 999, 'merit': 1573, 'akin': 91, 'torture': 2509, 'reasonable': 1966, 'explanation': 863, 'atrocity': 163, 'pleasant': 1824, 'voyage': 2690, 'discovery': 686, 'highly': 1175, 'unrecommended': 2628, 'premise': 1872, 'sound': 2263, 'performance': 1784, 'ms': 1628, 'garbo': 1032, 'bat': 214, 'talents': 2419, 'carry': 352, 'silent': 2203, 'era': 816, 'wanted': 2698, 'netflix': 1662, 'stocking': 2321, 'renowned': 2009, 'screenwriter': 2127, 'frances': 996, 'marion': 1532, 'hasn': 1134, 'missed': 1597, 'step': 2312, 'suffered': 2371, 'close': 438, 'ups': 2636, 'drag': 721, 'heroes': 1166, 'freedom': 1000, 'ones': 1711, 'received': 1969, 'age': 81, 'john': 1344, 'wayne': 2724, 'incredible': 1264, 'job': 1341, 'industry': 1273, 'shined': 2186, 'senior': 2149, 'older': 1707, 'indulgent': 1272, 'junk': 1360, 'probably': 1884, 'hadn': 1113, 'spent': 2279, 'showcasing': 2194, 'isn': 1319, 'noteworthy': 1681, 'got': 1080, 'punched': 1916, 'gallon': 1027, 'blood': 258, 'spew': 2280, 'forth': 992, 'soon': 2257, 'jamie': 1327, 'foxx': 995, 'ray': 1953, 'charles': 388, 'genius': 1044, 'owns': 1740, 'spacek': 2271, 'owned': 1739, 'coal': 443, 'miner': 1586, 'daughter': 599, 'quaid': 1927, 'balls': 204, 'remember': 2003, 'legendary': 1432, 'provided': 1905, 'biographical': 246, 'material': 1544, 'goes': 1071, 'musician': 1637, 'hitchcock': 1181, 'ironically': 1314, 'total': 2511, 'secondly': 2142, 'perfected': 1782, 'thriller': 2475, 'chase': 392, 'pandering': 1753, 'sabotages': 2080, 'certain': 372, 'rumbles': 2074, 'machine': 1510, 'desperately': 649, 'depending': 634, 'new': 1665, 'usual': 2645, 'logic': 1477, 'flaws': 961, 'mishima': 1594, 'uninteresting': 2609, 'chilly': 411, 'unremarkable': 2629, 'author': 175, 'living': 1470, 'working': 2774, 'abstruse': 39, 'culture': 582, 'reenactments': 1979, 'hold': 1185, 'attention': 168, 'emotionally': 784, 'adrift': 71, 'stagy': 2295, 'sits': 2220, 'soldiers': 2248, 'singing': 2209, 'masculinity': 1538, 'pledge': 1828, 'hairsplitting': 1116, 'purity': 1923, 'admiration': 68, 'swords': 2407, 'bore': 281, 'kill': 1376, 'momentum': 1605, 'quicker': 1933, 'schrader': 2115, 'resume': 2027, 'amateurish': 99, '80s': 30, 'fascinated': 905, 'dancing': 595, 'recently': 1971, 'dvd': 744, 'completely': 475, 'struck': 2341, 'contained': 512, 'holes': 1188, 'inconsistencies': 1262, 'horrid': 1203, 'realistic': 1960, 'gotten': 1083, 'ballet': 203, 'repertory': 2015, 'pathetic': 1770, 'developments': 658, 'lacked': 1397, 'woa': 2759, 'talk': 2420, 'sappiest': 2091, 'unwatchable': 2632, 'tell': 2441, 'talent': 2417, 'action': 55, 'check': 396, 'filmography': 939, 'site': 2218, 'chance': 378, 'intentions': 1298, 'master': 1540, 'theme': 2459, 'undertone': 2596, 'fifties': 934, 'existential': 852, 'weariness': 2729, 'aerial': 74, 'ought': 1724, 'thrilled': 2474, 'senses': 2151, 'deeply': 621, 'care': 348, 'regrettably': 1986, 'fails': 884, 'visual': 2679, 'drama': 723, 'expression': 867, 'celebration': 366, 'patriotism': 1771, 'underlines': 2587, 'narrative': 1641, 'actress': 59, 'used': 2640, 'june': 1359, 'allison': 95, 'plain': 1814, 'called': 329, 'soundtrack': 2266, 'concert': 488, 'sequences': 2159, 'cheap': 394, 'trash': 2531, 'considering': 505, 'ridiculousness': 2042, 'came': 331, 'angry': 115, 'spoilers': 2288, 'said': 2084, 'surface': 2392, 'stunning': 2350, 'fx': 1021, 'state': 2306, 'conceptually': 485, 'offers': 1702, 'everybody': 830, 'fantasy': 901, 'fans': 899, 'sour': 2267, 'note': 1680, 'wise': 2755, 'surprisingly': 2396, 'solid': 2250, 'considered': 504, 'thanks': 2454, 'released': 1997, 'mexican': 1578, 'understood': 2595, 'matter': 1546, 'identified': 1231, 'felt': 927, 'ranks': 1945, 'noir': 1671, 'crime': 570, 'belmondo': 232, 'lino': 1462, 'ventura': 2656, 'complex': 476, 'psychological': 1910, 'portrayals': 1852, 'detailing': 654, 'loyalty': 1502, 'treachery': 2533, 'hope': 1197, 'tremendous': 2538, 'melville': 1562, 'journey': 1350, 'eyes': 875, 'soul': 2262, 'child': 406, 'water': 2718, 'manages': 1526, 'transcend': 2526, 'limitations': 1456, 'indie': 1269, 'continually': 516, 'subverting': 2364, 'expectations': 855, 'emerge': 779, 'intense': 1296, 'gripping': 1101, 'crocdodile': 574, 'website': 2731, 'believed': 228, 'crocs': 575, 'swamp': 2403, 'location': 1474, 'fabulous': 876, 'thoroughly': 2467, 'christopher': 420, 'eccleston': 755, 'control': 526, 'tardis': 2423, 'continuation': 517, 'turn': 2560, 'day': 601, 'disturbing': 698, 'memories': 1566, 'succeeded': 2365, 'places': 1813, 'forced': 978, 'pi': 1801, 'started': 2304, 'jerky': 1334, 'camerawork': 334, 'theater': 2455, 'sick': 2199, 'summary': 2377, 'witticisms': 2757, 'weren': 2737, 'witty': 2758, 'billy': 245, 'bob': 263, 'rise': 2046, 'rating': 1949, 'finale': 942, 'possibly': 1857, 'trilogy': 2541, 'kieslowski': 1375, 'ceases': 365, 'amaze': 100, 'favourite': 917, 'directors': 678, 'use': 2639, 'colours': 453, 'flag': 954, 'shot': 2192, 'visually': 2680, 'subtle': 2362, 'connections': 497, 'awesome': 184, 'mention': 1570, 'huge': 1216, 'spoiler': 2287, 'remaining': 2000, 'survivors': 2399, 'ferry': 930, 'valentine': 2648, 'judge': 1354, 'old': 1705, 'solidifying': 2251, 'happiness': 1130, 'suffering': 2372, 'dealt': 607, 'smile': 2239, 'wrap': 2788, 'loves': 1499, 'literally': 1465, 'vomited': 2689, 'roth': 2065, 'pearls': 1775, 'awarded': 181, 'eloquently': 775, 'francis': 997, 'ford': 980, 'coppola': 534, '25': 21, 'earlier': 747, 'unfolds': 2603, 'gradually': 1087, 'leaves': 1427, 'room': 2063, 'develop': 656, 'wonderful': 2764, 'lies': 1445, 'contrast': 522, 'directed': 673, 'nicola': 1667, 'roeg': 2057, 'wih': 2747, 'sublime': 2358, 'translating': 2529, 'year': 2799, 'offensive': 1700, 'intelligence': 1294, 'strives': 2338, 'greatness': 1095, 'poetry': 1836, 'muddled': 1630, 'disparate': 692, 'reviewer': 2036, 'accurately': 47, 'defined': 623, 'intelligent': 1295, 'masterful': 1541, 'sense': 2150, 'pitiful': 1810, 'human': 1218, 'nature': 1647, 'tolerate': 2498, 'political': 1843, 'incorrectness': 1263, 'artistic': 147, 'suspension': 2401, 'disbelief': 683, 'slavic': 2226, 'female': 928, 'entertaining': 809, 'outlandish': 1725, 'array': 142, 'memorable': 1565, 'psychotic': 1911, 'lovable': 1495, 'nuts': 1689, 'enjoyment': 805, 'games': 1029, 'dangerous': 596, 'sweet': 2405, 'telephone': 2439, 'repair': 2011, 'reactions': 1954, 'bitchy': 249, 'boss': 285, 'genuine': 1047, 'smart': 2237, 'twist': 2566, 'shed': 2179, 'tear': 2431, 'seeing': 2143, 'forget': 984, 'underneath': 2589, 'malta': 1523, 'settings': 2166, 'dry': 736, 'barren': 210, 'hockey': 1183, 'defensemen': 622, 'goalies': 1069, 'diving': 699, 'feet': 924, 'wide': 2744, 'net': 1661, 'haven': 1138, 'particular': 1763, 'relationship': 1992, 'bakery': 199, 'assistant': 158, 'waitress': 2693, 'superficial': 2383, 'stagey': 2294, 'stage': 2293, 'farce': 903, 'pyromaniac': 1926, 'waylaid': 2723, 'bored': 282, 'switched': 2406, 'pay': 1773, 'laugh': 1416, 'yawn': 2797, 'educational': 760, 'barney': 209, 'super': 2379, 'duper': 741, 'babie': 190, 'bop': 277, 'cute': 585, 'storm': 2326, 'trooper': 2546, 'wonderfully': 2765, 'guy': 1110, 'potted': 1859, 'plants': 1817, 'shameful': 2173, 'television': 2440, 'writers': 2791, 'smack': 2235, 'actresses': 60, 'bonus': 271, 'taped': 2422, 'episodes': 814, 'exactly': 835, 'latched': 1410, 'endearing': 792, 'special': 2276, 'likes': 1453, 'wholesome': 2743, 'shows': 2196, 'sibling': 2198, 'bond': 269, 'unneeded': 2621, 'controversy': 527, 'damian': 592, 'versatile': 2659, 'ways': 2725, 'portraying': 1854, 'different': 669, 'cutting': 590, 'pleased': 1825, 'modern': 1600, 'letting': 1439, 'passion': 1767, 'drive': 733, 'taking': 2415, 'forgetting': 986, 'ireland': 1313, 'scared': 2105, 'horrified': 1204, 'sympathetic': 2409, 'movements': 1623, 'attempts': 167, 'supposed': 2387, 'light': 1449, 'situation': 2221, 'leave': 1426, 'shelf': 2181, 'elias': 774, 'koteas': 1390, 'jack': 1324, 'palance': 1752, 'roles': 2059, 'angelina': 112, 'hot': 1208, 'gets': 1051, 'naked': 1639, 'drago': 722, 'appears': 132, 'cameo': 332, 'sven': 2402, 'ole': 1708, 'thorsen': 2468, 'enjoyable': 803, 'bought': 288, 'ebay': 753, 'poler': 1842, 'bear': 217, 'kinda': 1381, 'question': 1930, 'fort': 991, 'steele': 2311, 'unrealistic': 2626, '90': 32, 'utter': 2646, 'looked': 1483, '70000': 27, 'lucy': 1504, 'bell': 229, 'higher': 1172, 'sink': 2212, 'slackers': 2225, 'excuses': 848, 'actions': 56, 'god': 1070, 'parts': 1765, 'wonder': 2762, 'excerpts': 842, 'sets': 2164, 'designed': 647, 'stylized': 2354, 'effective': 763, 'exemplars': 850, 'set': 2163, 'designer': 648, 'stories': 2325, 'powerful': 1861, 'explorations': 865, 'learn': 1425, 'politics': 1845, 'japanese': 1328, 'rendering': 2007, 'america': 104, 'imperial': 1246, 'makes': 1519, 'values': 2650, 'faultless': 913, 'photography': 1798, 'composition': 479, 'underappreciated': 2585, 'brian': 298, 'keith': 1369, 'bully': 321, 'teddy': 2434, 'vivid': 2683, 'largely': 1406, 'son': 2254, 'member': 1563, 'identify': 1233, 'sean': 2137, 'connery': 498, 'noble': 1670, 'brigand': 300, 'candace': 339, 'bergen': 236, 'feisty': 925, 'heroine': 1167, 'huston': 1226, 'wily': 2752, 'hay': 1141, 'steve': 2316, 'kanaly': 1365, 'spiffy': 2282, 'radiant': 1941, 'ruthless': 2077, 'lieutenant': 1446, 'roosevelt': 2064, 'stick': 2318, 'adventure': 72, 'robert': 2052, 'ryans': 2079, 'portrayed': 1853, 'father': 912, 'schizophrenic': 2112, 'murdered': 1633, 'affected': 76, 'second': 2140, 'war': 2701, 'humour': 1224, 'apt': 137, 'mother': 1616, 'brother': 310, 'ryan': 2078, 'type': 2569, 'imitation': 1244, 'individual': 1270, 'impressed': 1250, 'cover': 549, 'fashioned': 908, 'tuneful': 2558, 'rita': 2047, 'hayworth': 1143, 'pedestal': 1777, 'example': 837, 'hollywood': 1191, 'exploit': 864, 'financial': 944, 'gain': 1024, 'linear': 1460, 'narration': 1640, 'flashbacks': 957, 'articulated': 144, 'monica': 1607, 'bellucci': 230, 'commentary': 465, 'undoubtedly': 2598, 'timers': 2488, 'popular': 1850, 'plenty': 1829, 'laughs': 1419, 'feel': 921, 'northern': 1676, 'positive': 1855, 'community': 469, 'represents': 2017, 'seriously': 2161, 'created': 561, 'unique': 2611, 'vivian': 2682, 'schilling': 2111, '95': 33, 'garbage': 1031, 'theatres': 2457, 'role': 2058, 'screamy': 2123, 'masculine': 1537, 'casted': 359, 'ready': 1957, 'european': 827, 'throwback': 2477, 'student': 2345, '1980': 13, 'experiences': 859, 'abroad': 37, 'interacting': 1299, 'nationalities': 1644, 'circumstances': 426, 'slightly': 2230, 'fan': 897, 'ticker': 2482, 'buildings': 318, 'couple': 545, 'locations': 1475, 'hummh': 1221, 'blew': 257, 'angel': 109, 'scamp': 2103, 'yelps': 2801, 'hes': 1169, 'funniest': 1018, 'caught': 363, 'curtain': 583, 'ive': 1323, 'coming': 462, 'edition': 759, '20': 17, 'lid': 1443, 'explain': 861, 'romantic': 2062, 'charming': 391, 'junkyard': 1361, 'dogs': 706, 'laughed': 1418, 'comes': 458, 'chosen': 417, 'tortured': 2510, 'disgusting': 688, 'blatant': 256, 'american': 105, 'propaganda': 1901, 'americans': 106, 'hatred': 1137, 'clichés': 434, 'admitted': 69, 'involved': 1309, 'return': 2030, 'school': 2113, 'pile': 1807, 'round': 2067, 'enter': 806, 'admins': 67, 'place': 1812, 'thunderbirds': 2481, 'motion': 1617, 'needlessly': 1654, 'repeats': 2014, 'backed': 194, 'continuity': 519, 'thrown': 2478, 'reason': 1965, 'vehicles': 2655, 'corn': 537, 'flakes': 955, 'box': 289, 'directorial': 677, 'style': 2353, 'bordered': 278, 'stupidity': 2352, 'reviews': 2038, 'star': 2299, 'proud': 1903, 'filmmaker': 938, 'hide': 1170, 'sand': 2089, 'monumental': 1612, 'player': 1820, 'halfway': 1118, 'embarrassed': 776, 'howell': 1215, 'nut': 1688, 'bag': 197, 'stephen': 2313, 'mchattie': 1550, 'lance': 1402, 'hendrikson': 1163, 'raging': 1942, 'cheekbones': 399, 'professionals': 1895, 'debbie': 610, 'rochon': 2054, 'contributory': 524, 'chimp': 412, 'tolerable': 2497, 'oy': 1741, 'vey': 2664, 'scale': 2102, 'simplifying': 2206, 'sake': 2085, 'brevity': 297, 'problems': 1886, 'fulfilling': 1012, 'jobs': 1342, 'amusing': 107, 'convoluted': 532, 'convince': 530, 'weird': 2734, 'questioning': 1931, 'glance': 1066, 'hated': 1136, '15': 3, 'bela': 225, 'lugosi': 1505, 'extraneous': 871, 'intoning': 1306, 'odd': 1698, 'decidely': 615, 'wooden': 2769, 'period': 1786, 'universal': 2613, 'armand': 141, 'assante': 156, 'cable': 326, 'company': 470, 'sounded': 2264, 'tying': 2568, 'loose': 1486, 'ends': 796, 'score': 2120, 'won': 2761, 'wow': 2787, 'frightening': 1007, 'comprehensible': 480, 'hang': 1125, 'camp': 335, 'value': 2649, 'expecting': 857, 'oscar': 1723, 'iq': 1312, 'particularly': 1764, 'mollusk': 1602, 'loosely': 1487, 'insult': 1290, 'public': 1912, 'knew': 1384, 'string': 2337, 'lower': 1501, 'fox': 994, 'channel': 382, 'contract': 521, 'scripts': 2132, 'victor': 2666, 'mclaglen': 1551, 'donlevy': 711, 'unrecognizable': 2627, 'relations': 1991, 'taylor': 2427, 'stanwyck': 2298, 'surprising': 2395, 'president': 1877, 'death': 608, 'row': 2069, 'entirely': 811, 'unmoving': 2619, 'producer': 1891, 'come': 455, 'gifted': 1056, 'cheerless': 401, 'heist': 1155, 'characterisation': 384, 'lots': 1493, 'underbite': 2586, 'stoic': 2323, 'emoting': 782, 'chow': 418, 'yun': 2807, 'fat': 911, 'tomorrow': 2500, 'cheesy': 403, 'abandoned': 35, 'factory': 882, 'poorly': 1848, 'executed': 849, 'flying': 967, 'judo': 1357, 'rolls': 2061, 'la': 1394, 'woo': 2768, 'squibs': 2291, 'proceedings': 1887, 'remotely': 2005, 'derivative': 640, 'mercy': 1571, 'killing': 1378, 'hopeless': 1199, 'overacting': 1729, 'space': 2270, 'uneasy': 2599, 'composed': 478, '30': 22, 'footage': 975, 'elderly': 771, 'awkwardly': 186, 'babbling': 189, 'overwrought': 1736, 'pseudo': 1909, 'satanic': 2094, 'gibberish': 1055, 'corny': 538, 'teen': 2436, 'goth': 1081, 'blush': 261, 'olde': 1706, 'english': 800, 'latin': 1415, 'sloppy': 2232, 'hackneyed': 1112, 'course': 546, 'blah': 251, 'balanced': 201, 'perfectly': 1783, 'underacting': 2584, 'finally': 943, 'competent': 472, 'jerry': 1335, 'falwell': 892, 'share': 2174, 'starring': 2301, 'jaclyn': 1325, 'smith': 2241, '12': 1, 'ago': 84, 'opened': 1713, 'length': 1433, 'rate': 1947, 'lifetime': 1448, 'air': 88, 'knows': 1389, 'store': 2324, 'sells': 2147, 'assaulted': 157, 'strident': 2336, 'cords': 535, 'blare': 255, 'warning': 2704, 'sort': 2261, 'pap': 1756, 'screened': 2125, 'afternoon': 80, 'punish': 1918, 'unemployed': 2600, 'loads': 1472, 'understatement': 2594, 'comedy': 457, 'creates': 562, 'universe': 2614, 'fascinating': 906, 'team': 2430, 'continue': 518, 'forgot': 987, 'superb': 2380, 'trond': 2545, 'fausa': 914, 'aurvåg': 172, 'bothersome': 287, 'doing': 707, 'humorous': 1223, 'comment': 464, '2006': 19, 'initially': 1277, 'local': 1473, 'sites': 2219, 'filmed': 936, 'buffalo': 314, 'intrigued': 1307, 'later': 1412, 'power': 1860, 'applauded': 133, 'conclusion': 489, 'lilt': 1455, 'heart': 1149, 'race': 1938, 'duris': 742, 'appearance': 131, 'fine': 946, 'views': 2671, 'barcelona': 206, 'famed': 894, 'gaudi': 1035, 'towers': 2517, 'thoughts': 2470, 'dislike': 689, 'ended': 793, 'despised': 651, 'looks': 1485, 'rough': 2066, 'draft': 720, 'shooting': 2189, 'began': 221, 'finished': 949, 'completed': 474, 'happen': 1128, 'personalities': 1789, 'change': 379, 'twists': 2567, 'occur': 1696, 'calls': 330, 'irritating': 1317, 'indescribably': 1266, 'idiotic': 1235, 'produce': 1889, 'mess': 1575, 'season': 2138, 'contains': 514, 'cheesiness': 402, 'unethical': 2601, 'normally': 1675, 'nc': 1649, '17': 5, 'final': 941, 'zillion': 2808, 'reality': 1961, 'washing': 2708, 'twirling': 2565, 'hurt': 1225, 'grade': 1086, 'pull': 1913, '20th': 20, 'century': 371, 'road': 2051, '1948': 9, 'silly': 2204, 'implausible': 1247, 'unmitigated': 2618, 'unconvincing': 2583, 'blandly': 254, 'edward': 761, 'chodorov': 413, 'produced': 1890, 'jean': 1332, 'negulesco': 1656, 'expect': 854, 'deal': 606, 'widmark': 2745, 'turns': 2562, 'unintentionally': 2608, 'comical': 461, 'marbles': 1529, 'early': 748, 'marred': 1534, 'constant': 509, 'studio': 2347, 'indoor': 1271, 'exteriors': 870, 'prompted': 1899, 'documentary': 702, 'dont': 712, 'start': 2303, 'martin': 1536, 'middle': 1582, 'aged': 82, 'upper': 2635, 'class': 427, 'uptight': 2637, 'add': 64, 'betty': 240, 'mistakes': 1598, 'racial': 1939, 'jokes': 1347, 'offend': 1699, 'littered': 1466, 'overt': 1735, 'slurs': 2234, 'members': 1564, 'whites': 2742, 'depicted': 636, 'morons': 1615, 'boobs': 273, 'card': 345, 'aside': 150, 'lets': 1438, 'major': 1515, 'flaw': 959, 'destroy': 653, 'latifa': 1414, 'wouldnt': 2785, 'steamboat': 2310, 'willie': 2751, 'amazingly': 103, 'mickey': 1580, 'mouse': 1620, 'plane': 1815, 'famous': 896, 'ground': 1104, 'breaking': 295, 'hear': 1147, 'tons': 2504, 'granted': 1089, 'crowd': 577, 'pleaser': 1826, '1928': 7, 'amazed': 101, 'timeless': 2486, 'turkey': 2559, 'straw': 2334, 'imaginative': 1241, 'cruel': 579, '80': 29, 'bipolarity': 247, 'thug': 2479, 'killer': 1377, 'luv': 1507, 'diaper': 664, 'commercial': 468, 'terribly': 2450, 'receive': 1968, 'awards': 182, 'accolades': 45, 'deserving': 645, 'original': 1719, 'body': 264, '1947': 8, 'garfield': 1033, 'ann': 122, 'revere': 2033, 'lilli': 1454, 'plmer': 1830, 'william': 2750, 'conrad': 500, 'lee': 1429, 'cinematographers': 424, 'james': 1326, 'wong': 2766, 'howe': 1214, 'qualities': 1928, 'shame': 2172, 'thomerson': 2466, 'credit': 567, '1986': 14, 'version': 2660, 'watchable': 2715, 'professor': 1896, 'dumb': 739, 'established': 824, 'zombie': 2809, 'students': 2346, 'humans': 1220, 'removing': 2006, 'necklace': 1651, 'containing': 513, 'meteorite': 1577, 'matthews': 1547, 'wrote': 2795, 'weak': 2727, '1995': 15, 'monster': 1610, 'grim': 1099, 'pace': 1742, 'lighting': 1450, 'bland': 253, 'aspects': 154, 'lack': 1396, 'notable': 1678, 'gore': 1076, 'convention': 528, 'worked': 2773, 'past': 1768, 'cg': 374, 'opening': 1714, 'sequence': 2158, 'microsoft': 1581, 'slideshow': 2228, 'explosion': 866, 'gas': 1034, 'tanks': 2421, 'okay': 1704, 'fair': 885, 'critic': 572, 'creature': 565, 'gotta': 1082, 'slimy': 2231, 'drooling': 734, 'teeth': 2438, 'sum': 2376, 'breeders': 296, 'cheaply': 395, 'avoided': 179, 'ebola': 754, 'virus': 2677, 'recommended': 1973, 'unbearable': 2578, 'comedic': 456, 'timing': 2490, 'debits': 611, 'popcorn': 1849, 'borders': 280, 'lewis': 1442, 'considerable': 503, 'incendiary': 1258, 'unrestrained': 2630, 'allow': 96, 'sole': 2249, 'bright': 301, 'spot': 2289, 'recent': 1970, 'superbad': 2381, 'weight': 2733, 'interim': 1302, 'originality': 1720, 'freshness': 1004, 'offer': 1701, 'evidently': 831, 'limited': 1457, 'reflected': 1981, 'par': 1758, 'borrowed': 284, 'balance': 200, 'filmiing': 937, 'expansive': 853, 'failed': 883, 'convey': 529, 'broad': 307, 'sweep': 2404, 'landscapes': 1403, 'sign': 2201, 'improvement': 1254, 'expected': 856, 'asleep': 152, 'beware': 241, 'trashy': 2532, 'precisely': 1866, 'giving': 1064, 'proudly': 1904, 'classical': 429, 'wb': 2726, 'cartoons': 355, 'tiny': 2491, 'toons': 2507, 'kept': 1370, 'vibe': 2665, 'delivered': 630, 'underrated': 2590, 'murky': 1635, 'product': 1893, 'related': 1989, 'tender': 2444, 'getting': 1052, 'dark': 597, 'sitcoms': 2217, 'oriented': 1718, 'teenagers': 2437, 'peculiarity': 1776, 'deserved': 643, 'element': 773, 'excessively': 843, 'phony': 1796, 'contrived': 525, 'painful': 1747, 'sit': 2216, 'um': 2576, 'perabo': 1780, 'comfortable': 459, 'excuse': 847, 'volcano': 2687, 'los': 1489, 'angeles': 111, 'honest': 1194, 'unbelievable': 2580, 'nonsense': 1674, 'foolish': 974, 'bother': 286, 'accents': 42, 'abysmal': 40, 'hypocrisy': 1228, 'vomit': 2688, 'rubbish': 2072, 'researched': 2020, 'pitch': 1809, 'longer': 1481, 'surprised': 2393, 'omit': 1710, 'instant': 1286, 'catchy': 362, 'credits': 568, 'miss': 1596, 'simmering': 2205, 'boiling': 266, 'warts': 2706, 'study': 2348, 'poet': 1835, 'bohemian': 265, 'wartime': 2705, 'span': 2273, 'bombardments': 268, 'london': 1478, 'outward': 1728, 'tranquillity': 2525, 'welsh': 2735, 'coastal': 444, 'retreat': 2029, 'borderlines': 279, 'friendship': 1006, 'lust': 1506, 'dedication': 618, 'versus': 2661, 'practical': 1863, 'concerns': 487, 'jealousy': 1331, 'rivalry': 2048, 'cowardice': 550, 'egotism': 767, 'heroism': 1168, 'sacrifice': 2082, 'suggests': 2374, 'brings': 306, 'focus': 969, 'underlying': 2588, 'tensions': 2446, 'served': 2162, 'apart': 128, 'inappropriate': 1257, 'smiling': 2240, 'keira': 1368, 'knightley': 1385, 'prone': 1900, 'exquisite': 868, 'inventive': 1308, 'elegant': 772, 'angle': 113, 'pointillistic': 1839, 'home': 1192, 'behold': 224, 'continuously': 520, 'bertolucci': 237, 'relationships': 1993, 'engaging': 799, 'basic': 212, 'sidelined': 2200, 'inexplicable': 1276, 'crew': 569, 'regardless': 1983, 'avoid': 178, 'costs': 541, 'christmas': 419, 'errol': 817, 'flynn': 968, 'custer': 584, 'alongside': 98, 'olivia': 1709, 'havilland': 1139, 'fantastic': 900, 'known': 1388, 'dads': 591, 'grew': 1098, 'realised': 1959, 'jim': 1339, 'connor': 499, 'energetic': 797, 'george': 1048, 'dull': 738, 'hosting': 1207, 'overs': 1734, 'monotonous': 1609, 'guests': 1107, 'shenanigans': 2184, 'surrounding': 2397, 'spy': 2290, 'kidnapped': 1373, 'nasty': 1642, 'foreign': 981, 'random': 1943, 'taxidermists': 2426, 'stewart': 2317, 'hero': 1165, 'rips': 2045, 'climax': 437, 'embassy': 778, 'function': 1016, 'brooding': 309, 'menace': 1568, 'stable': 2292, 'excellently': 839, 'tops': 2508, 'typical': 2570, 'sci': 2117, 'fi': 932, 'producers': 1892, 'scot': 2121, 'vandiver': 2652, 'nonetheless': 1673, 'campy': 336, 'delight': 626, 'bendingly': 234, 'scares': 2106, 'medical': 1558, 'terminology': 2447, 'iffy': 1237, 'insulin': 1289, 'dependant': 633, 'diabetic': 660, 'revealing': 2031, 'complexity': 477, 'task': 2424, 'challenges': 377, 'facing': 880, 'south': 2268, 'africa': 79, 'outside': 1727, 'attempted': 165, 'truth': 2553, 'reconciliation': 1974, 'process': 1888, 'magnificent': 1512, 'seamlessly': 2136, 'woven': 2786, 'splendid': 2283, 'view': 2668, 'subtitles': 2361, 'aversion': 177, 'therapy': 2461, 'shakespear': 2169, 'macbeth': 1509, 'jason': 1329, 'moved': 1622, 'tears': 2432, 'monolog': 1608, 'brief': 299, 'candle': 340, 'sphere': 2281, 'moral': 1613, 'decay': 613, 'forces': 979, 'helen': 1156, 'baxendale': 216, 'credible': 566, 'lady': 1400, 'cheerfull': 400, 'naughty': 1648, 'deadly': 604, 'taste': 2425, 'evil': 832, 'shakespears': 2170, 'lyrics': 1508, 'delightful': 627, 'adaptation': 63, 'dr': 718, 'seuss': 2167, 'brilliantly': 304, 'animated': 119, 'upa': 2633, 'finest': 947, 'academy': 41, 'award': 180, 'integral': 1292, 'helping': 1161, 'bailey': 198, 'crisp': 571, 'beautifully': 219, 'colored': 451, 'design': 646, 'costumes': 542, 'eiko': 769, 'ishioka': 1318, 'went': 2736, 'dracula': 719, 'allowing': 97, '1971': 11, 'format': 990, 'mini': 1587, 'baaaaaad': 188, 'unless': 2615, 'collect': 449, 'extant': 869, 'austen': 173, 'skip': 2224, 'small': 2236, 'consolations': 508, 'speaking': 2275, 'unbearably': 2579, 'kitchy': 1383, 'dropped': 735, 'ball': 202, 'raw': 1952, 'sublimely': 2359, 'overly': 1733, 'theatrical': 2458, 'plays': 1823, 'terror': 2452, 'lie': 1444, 'escalating': 819, 'monstrous': 1611, 'consequences': 501, 'players': 1821, 'mesmerising': 1574, 'wilkinson': 2749, 'broke': 308, 'judging': 1355, 'fumbling': 1014, 'hankies': 1126, 'hands': 1124, 'faces': 878, 'males': 1522, 'females': 929, 'alike': 94, 'julian': 1358, 'fellowes': 926, 'triumphed': 2544, 'national': 1643, 'treasure': 2534, 'phrase': 1799, 'owed': 1737, 'kris': 1391, 'kristoffersen': 1392, 'difference': 668, 'documentaries': 701, 'marriage': 1535, 'errors': 818, 'user': 2641, 'commented': 466, 'cars': 353, 'garage': 1030, 'joe': 1343, 'glasses': 1067, 'facial': 879, 'hair': 1115, 'configuration': 492, 'inspiration': 1284, 'overcome': 1731, 'rejection': 1987, 'punishment': 1919, 'park': 1760, 'southern': 2269, 'california': 328, 'desert': 642, 'using': 2643, 'patent': 1769, 'watkins': 2719, 'peter': 1791, 'accessible': 43, 'wont': 2767, 'thinking': 2465, 'miserable': 1592, 'hollow': 1190, 'laughable': 1417, 'angela': 110, 'bennett': 235, 'computer': 482, 'expert': 860, 'pretext': 1879, 'repeating': 2013, 'robotic': 2053, 'moves': 1624, 'results': 2026, 'delete': 625, 'begin': 222, 'ass': 155, 'comments': 467, 'wall': 2696, 'uncalled': 2581, 'geek': 1038, 'bible': 242, 'thumper': 2480, 'heard': 1148, 'cole': 448, 'pulling': 1914, 'plug': 1832, 'equivalent': 815, 'dickens': 665, 'carol': 349, 'sensibility': 2152, 'success': 2367, 'depends': 635, 'sydney': 2408, 'greenstreet': 1097, 'yardley': 2796, 'attractive': 169, 'eye': 874, 'pleasing': 1827, 'im': 1238, 'rpg': 2070, 'disgrace': 687, 'respecting': 2022, 'rpger': 2071, 'cuts': 589, 'audio': 171, 'wrong': 2794, 'youtube': 2806, 'lassie': 1408, 'sleep': 2227, 'forever': 983, 'painfully': 1748, 'dreary': 729, 'waster': 2712, 'forgettable': 985, 'achievement': 49, 'shell': 2182, 'wasting': 2713, 'kid': 1372, 'barking': 208, 'transfers': 2527, 'relaxing': 1995, 'late': 1411, 'title': 2493, 'handles': 1123, 'tough': 2516, 'issues': 1321, 'dignity': 670, 'shocking': 2188, 'happy': 1131, 'touches': 2514, 'memorized': 1567, 'pair': 1751, 'fishnet': 951, 'stockings': 2322, 'astonishingly': 159, 'ham': 1119, 'fisted': 952, 'earth': 749, 'irons': 1315, 'holds': 1187, 'emily': 781, 'watson': 2720, 'unconditional': 2582, 'prepared': 1873, 'ordeal': 1717, 'takes': 2414, 'hand': 1120, 'progresses': 1897, 'anguish': 116, 'quick': 1932, 'pans': 1754, 'reviewers': 2037, 'interview': 1305, 'vampire': 2651, 'lestat': 1436, 'stuart': 2344, 'townsend': 2518, 'cruise': 580, 'aailiyah': 34, 'akasha': 90, 'compelling': 471, 'entrance': 812, 'dance': 594, 'rice': 2039, 'sensitivities': 2153, 'treatments': 2536, 'details': 655, 'dysfunction': 746, 'football': 976, 'perplexing': 1787, 'skilled': 2223, 'meredith': 1572, 'sentiment': 2154, 'rare': 1946, 'maker': 1517, 'worthy': 2783, 'trap': 2530, 'syrupy': 2410, 'goremeister': 1077, 'lucio': 1503, 'fulci': 1011, 'giallo': 1054, 'sub': 2355, 'genre': 1045, 'italian': 1322, 'thrillers': 2476, '70': 26, 'standout': 2297, 'unpleasant': 2623, 'technically': 2433, 'impressive': 1252, 'riz': 2050, 'ortolani': 1722, 'recurring': 1976, 'unaccompanied': 2577, 'vocal': 2684, 'sounds': 2265, 'distant': 693, 'wild': 2748, 'stuff': 2349, 'beginning': 223, 'dustin': 743, 'hoffman': 1184, 'stay': 2307, 'personally': 1790, 'compromise': 481, 'involving': 1311, 'issue': 1320, 'tired': 2492, 'fast': 909, 'ps': 1908, 'finds': 945, 'blown': 259, 'effect': 762, 'jennifer': 1333, 'rubin': 2073, 'harris': 1133, 'changes': 380, 'nervous': 1660, 'starlet': 2300, 'strange': 2331, 'events': 829, 'inside': 1280, 'emotions': 785, 'situations': 2222, 'coach': 442, 'mark': 1533, 'snow': 2244, 'ultra': 2575, 'result': 2025, 'exciting': 845, 'slightest': 2229, 'uniqueness': 2612, 'foreigner': 982, '1973': 12, 'stranger': 2332, 'duet': 737, 'astronaut': 160, 'doctor': 700, 'exchange': 844, 'considers': 506, 'cold': 447, 'biggest': 244, 'crashed': 556, 'ussr': 2644, 'scary': 2107, 'scream': 2122, 'scare': 2104, 'extraordinary': 872, 'courtroom': 548, 'indictment': 1268, 'justice': 1363, 'highlights': 1174, 'fundamental': 1017, 'legal': 1431, 'discovering': 685, 'guilt': 1108, 'innocence': 1278, 'court': 547, 'understated': 2593, 'routine': 2068, 'based': 211, 'boost': 276, 'clear': 430, 'range': 1944, 'ability': 36, 'carries': 351, 'constantine': 510, 'intensity': 1297, 'understanding': 2592, 'motivations': 1618, 'inspiring': 1285, 'video': 2667, 'stinker': 2319, 'smells': 2238, 'direct': 672, 'release': 1996, 'trek': 2537, 'frontier': 1008, 'includes': 1259, 'shatner': 2177, 'nimoy': 1669, 'washed': 2707, 'tacky': 2411, 'spock': 2284, 'rescue': 2019, 'kirk': 1382, 'jet': 1338, 'pack': 1745, 'falls': 890, 'mountain': 1619, 'humor': 1222, 'dosen': 714, 'basically': 213, 'involves': 1310, 'vulcan': 2691, 'stealing': 2309, 'enterprise': 807, 'uhura': 2574, 'belly': 231, 'distract': 696, 'male': 1521, 'guards': 1105, 'phenomenal': 1794, 'opinion': 1716, 'subjects': 2357, 'jay': 1330, 'adams': 62, 'unfortunate': 2605, 'subject': 2356, 'neil': 1658, 'evokes': 834, '70s': 28, 'grainy': 1088, 'enhanced': 801, 'delights': 628, 'surprises': 2394, 'achille': 50, 'philippa': 1795, 'sing': 2208, 'giovanni': 1057, 'describes': 641, 'appreciate': 135, 'layers': 1420, '18th': 6, 'jutland': 1364, 'instruments': 1288, 'touch': 2513, 'general': 1040, 'loewenhielm': 1476, 'partaking': 1762, 'cailles': 327, 'en': 789, 'sarcophage': 2092, 'sample': 2088, 'savor': 2098, 'lasting': 1409, 'impression': 1251, 'generates': 1042, 'austere': 174, 'backdrop': 193, 'wanting': 2699, 'notch': 1679, 'fleshed': 962, 'grimes': 1100, 'blake': 252, 'deliver': 629, 'sharply': 2176, 'scripted': 2130, 'deadpan': 605, 'tongue': 2502, 'cheek': 398, 'angus': 117, 'scrimm': 2128, 'gently': 1046, 'menacing': 1569, 'violin': 2675, 'anatomist': 108, 'entertained': 808, 'struggle': 2343, 'dead': 603, 'phantasm': 1793, 'falling': 889, '40': 23, '1949': 10, 'collective': 450, 'heads': 1146, 'concerning': 486, 'kudos': 1393, 'exceptional': 840, 'easy': 751, 'modest': 1601, 'juano': 1353, 'hernandez': 1164, 'supporting': 2386, 'murdering': 1634, 'trumbull': 2551, 'open': 1712, 'reminded': 2004, 'evinced': 833, 'faithful': 887, 'joyce': 1352, 'acclaimed': 44, 'novella': 1682, 'feelings': 923, 'gabriel': 1022, 'discomfort': 684, 'intangibles': 1291, 'leap': 1424, 'viewer': 2669, 'grasp': 1091, 'wondered': 2763, 'shortlist': 2191, 'emperor': 786, 'spend': 2278, 'childhood': 407, 'days': 602, 'surely': 2390, 'coherent': 446, 'force': 977, 'obliged': 1690, 'write': 2789, 'creative': 563, 'confusing': 496, 'subplots': 2360, 'native': 1645, 'eating': 752, 'brainsucking': 293, 'telly': 2442, 'savalas': 2095, 'boyle': 291, '54': 25, 'sheer': 2180, 'tedium': 2435, 'melodrama': 1561, 'sinking': 2213, 'lord': 1488, 'imagine': 1242, 'decisions': 617, 'atrocious': 162, 'stinks': 2320, 'trouble': 2547, 'impossible': 1249, 'establish': 823, 'follows': 973, 'band': 205, 'mansonites': 1528, 'reporter': 2016, 'anniversary': 124, 'killings': 1379, 'spoil': 2285, 'indication': 1267, 'writer': 2790, 'meld': 1560, 'volatile': 2686, 'temperaments': 2443, 'seamless': 2135, 'union': 2610, 'creativity': 564, 'powerhouse': 1862, 'timely': 2487, 'fascination': 907, 'celebrity': 367, 'distorted': 695, 'interpretations': 1304, 'fame': 893, 'forgotten': 988, 'kevin': 1371, 'spacey': 2272, 'verbal': 2657, 'tsunami': 2557, 'buddy': 312, 'ackerman': 51, 'scripting': 2131, 'unmatched': 2617, 'ages': 83, 'younger': 2804, 'references': 1980, 'galley': 1026, 'pm': 1834, '8pm': 31, '15pm': 4, 'forwarded': 993, 'sucks': 2370, 'horrendously': 1201, 'starts': 2305, 'build': 316, 'captain': 341, 'howdy': 1213, 'says': 2101, 'semi': 2148, 'truck': 2548, 'linda': 1458, 'cardellini': 347, 'poised': 1841, 'dee': 619, 'snider': 2243, 'act': 52, 'villains': 2673, 'damn': 593, 'pacing': 1744, 'suck': 2368, 'tries': 2540, 'sophisticated': 2258, 'miserably': 1593, 'unoriginal': 2622, 'cinematic': 423, 'captured': 342, 'celluloid': 368, 'stayed': 2308, 'supernatural': 2385, 'consistent': 507, 'thread': 2472, 'holding': 1186, 'leni': 1434, 'parker': 1761, 'anita': 121, 'laselva': 1407, 'taelons': 2412, 'quiet': 1934, 'idealogical': 1230, 'mainly': 1514, 'centers': 369, 'atmosphere': 161, 'puppets': 1921, 'puppet': 1920, 'flicks': 964, 'explains': 862, 'sinister': 2211, 'origins': 1721, 'previous': 1881, 'insomniacs': 1283, 'heartwarming': 1151, 'chasing': 393, 'dreams': 728, 'nurse': 1687, 'unpredictability': 2624, 'labute': 1395, 'uses': 2642, 'brutal': 311, 'violence': 2674, 'seperate': 2155, 'sorry': 2260, 'secondary': 2141, 'incomprehensible': 1261, 'relation': 1990, 'primary': 1883, 'mystifying': 1638, 'speed': 2277, 'shelves': 2183, 'doubt': 715, 'warn': 2703, 'dumbest': 740, 'hbo': 1144, 'realize': 1962, 'hopefully': 1198, 'cox': 551, 'feature': 919, 'win': 2753, 'agree': 85, 'jessica': 1336, 'dimensional': 671, 'guys': 1111, 'elaborately': 770, 'aesthetically': 75, 'sculpture': 2133, 'soap': 2245, 'operas': 1715, 'hip': 1179, 'pray': 1865, 'hype': 1227, 'charismatic': 387, 'paolo': 1755, 'sorrentino': 2259, 'loneliness': 1479, 'tony': 2505, 'built': 319, 'unforgettable': 2604, 'titta': 2494, 'di': 659, 'girolamo': 1061, 'vision': 2678, 'emilio': 780, 'estevez': 826, 'debut': 612, 'interplay': 1303, 'development': 657, 'suggest': 2373, 'natural': 1646, 'street': 2335, 'charlie': 389, 'kathy': 1366, 'bates': 215, 'desperation': 650, 'escapism': 820, 'variation': 2653, 'fields': 933, 'readers': 1955, 'miyazaki': 1599, 'worthwhile': 2782, 'condescends': 490, 'hearts': 1150, 'arts': 149, 'daughters': 600, 'paint': 1749, 'photograph': 1797, 'poignant': 1837, 'realized': 1963, 'closed': 439, 'depicts': 637, 'alert': 92, 'decipher': 616, 'meanings': 1556, 'matrix': 1545, 'sequels': 2157, 'mindblowing': 1585, 'dream': 727, 'rickman': 2040, 'stowe': 2330, 'hilt': 1178, 'childrens': 409, 'subversive': 2363, 'tract': 2520, 'gloriously': 1068, 'fairly': 886, 'accurate': 46, 'raver': 1951, 'idyllic': 1236, 'downs': 716, 'groove': 1102, 'antithesis': 127, 'traffic': 2522, 'crowe': 578, 'picked': 1802, 'government': 1084, 'scientist': 2119, 'argued': 139, 'humanity': 1219, 'reasons': 1967, 'gadget': 1023, 'dwight': 745, 'schultz': 2116, 'critical': 573, 'gorman': 1078, 'bechard': 220, 'homework': 1193, 'appropriate': 136, 'captures': 343, 'essence': 822, 'track': 2519, 'commands': 463, 'contributing': 523, 'threshold': 2473, 'hayao': 1142, 'latest': 1413, 'eighth': 768, 'ghibili': 1053, 'gake': 1025, 'ue': 2571, 'ponyo': 1846, 'cliff': 436, 'animation': 120, 'dominated': 709, 'disney': 691, 'pixar': 1811, 'cgi': 375, 'refreshing': 1982, 'comforting': 460, 'relying': 1999, 'traditional': 2521, 'drawn': 726, 'enchanting': 790, 'remarkable': 2002, 'crayon': 557, 'pencil': 1778, 'drawings': 725, 'colorful': 452, 'fanciful': 898, 'drift': 731, 'wants': 2700, 'surf': 2391, 'wave': 2721, '1998': 16, 'deep': 620, 'impact': 1245, 'armageddon': 140, 'choked': 416, 'worthless': 2781, 'vessel': 2662, 'taken': 2413, 'mighty': 1583, 'frost': 1009, 'added': 65, 'bonuses': 272, 'fest': 931, 'spoiled': 2286, 'brat': 294, 'babysitting': 192, 'sundays': 2378, 'march': 1530, '2005': 18, 'judith': 1356, 'favorite': 916, 'sad': 2083, 'cutie': 587, 'confidence': 491, 'riot': 2044, 'hugo': 1217, 'weaving': 2730, 'sex': 2168, 'obsessed': 1691, 'gay': 1037, 'estate': 825, 'salesman': 2086, 'clients': 435, 'houses': 1212, 'trysts': 2556, 'flaming': 956, 'darren': 598, 'hollander': 1189, 'flowed': 966, 'smoothly': 2242, 'bonding': 270, 'hoot': 1196, 'cat': 361, 'lange': 1405, 'faster': 910, 'jessice': 1337, 'clothes': 440, 'virtue': 2676, 'regrettable': 1985, 'exceptionally': 841}\n"
     ]
    }
   ],
   "source": [
    "''' Cuvintele distincte din text: '''\n",
    "\n",
    "print(vect.vocabulary_)"
   ]
  },
  {
   "cell_type": "code",
   "execution_count": 57,
   "metadata": {},
   "outputs": [
    {
     "name": "stdout",
     "output_type": "stream",
     "text": [
      "  (0, 2233)\t1\n",
      "  (0, 1627)\t1\n",
      "  (0, 87)\t1\n",
      "  (0, 1625)\t1\n",
      "  (0, 697)\t1\n",
      "  (0, 732)\t1\n",
      "  (0, 2803)\t1\n",
      "  (0, 1524)\t1\n",
      "  (1, 2389)\t1\n",
      "  (1, 1491)\t1\n",
      "  (1, 958)\t1\n",
      "  (1, 385)\t1\n",
      "  (1, 170)\t1\n",
      "  (1, 1650)\t1\n",
      "  (1, 1117)\t1\n",
      "  (1, 2695)\t1\n",
      "  (2, 1625)\t1\n",
      "  (2, 166)\t1\n",
      "  (2, 145)\t1\n",
      "  (2, 250)\t1\n",
      "  (2, 2741)\t1\n",
      "  (2, 432)\t1\n",
      "  (2, 333)\t1\n",
      "  (2, 114)\t1\n",
      "  (2, 679)\t1\n",
      "  :\t:\n",
      "  (742, 910)\t1\n",
      "  (743, 1362)\t1\n",
      "  (743, 2717)\t1\n",
      "  (743, 1080)\t1\n",
      "  (743, 282)\t1\n",
      "  (743, 1405)\t1\n",
      "  (743, 1337)\t1\n",
      "  (743, 440)\t1\n",
      "  (744, 1491)\t1\n",
      "  (744, 935)\t1\n",
      "  (744, 1894)\t1\n",
      "  (744, 2772)\t1\n",
      "  (744, 2129)\t1\n",
      "  (744, 2606)\t1\n",
      "  (744, 2676)\t1\n",
      "  (744, 1985)\t1\n",
      "  (745, 2770)\t1\n",
      "  (745, 777)\t1\n",
      "  (746, 195)\t1\n",
      "  (746, 841)\t1\n",
      "  (747, 2710)\t1\n",
      "  (747, 1606)\t1\n",
      "  (747, 1216)\t1\n",
      "  (747, 1294)\t1\n",
      "  (747, 1290)\t1\n"
     ]
    }
   ],
   "source": [
    "''' Reprezentarea ca vectori rari: '''\n",
    "\n",
    "print(dataframe_X)"
   ]
  },
  {
   "cell_type": "code",
   "execution_count": 58,
   "metadata": {},
   "outputs": [
    {
     "name": "stdout",
     "output_type": "stream",
     "text": [
      "[[0 0 0 ... 0 0 0]\n",
      " [0 0 0 ... 0 0 0]\n",
      " [0 0 0 ... 0 0 0]\n",
      " ...\n",
      " [0 0 0 ... 0 0 0]\n",
      " [0 0 0 ... 0 0 0]\n",
      " [0 0 0 ... 0 0 0]]\n"
     ]
    }
   ],
   "source": [
    "''' Reprezentarea ca vectori: '''\n",
    "\n",
    "print(dataframe_X.toarray())"
   ]
  },
  {
   "cell_type": "code",
   "execution_count": 59,
   "metadata": {},
   "outputs": [
    {
     "name": "stdout",
     "output_type": "stream",
     "text": [
      "  (0, 87)\t1.0\n",
      "  (0, 697)\t1.0\n",
      "  (0, 732)\t1.0\n",
      "  (0, 1524)\t0.5\n",
      "  (0, 1625)\t0.0625\n",
      "  (0, 1627)\t1.0\n",
      "  (0, 2233)\t1.0\n",
      "  (0, 2803)\t1.0\n",
      "  (1, 170)\t1.0\n",
      "  (1, 385)\t0.3333333333333333\n",
      "  (1, 958)\t1.0\n",
      "  (1, 1117)\t1.0\n",
      "  (1, 1491)\t1.0\n",
      "  (1, 1650)\t1.0\n",
      "  (1, 2389)\t1.0\n",
      "  (1, 2695)\t1.0\n",
      "  (2, 54)\t0.25\n",
      "  (2, 114)\t1.0\n",
      "  (2, 145)\t1.0\n",
      "  (2, 166)\t1.0\n",
      "  (2, 250)\t0.5\n",
      "  (2, 333)\t1.0\n",
      "  (2, 432)\t1.0\n",
      "  (2, 679)\t1.0\n",
      "  (2, 851)\t1.0\n",
      "  :\t:\n",
      "  (742, 2695)\t1.0\n",
      "  (743, 282)\t1.0\n",
      "  (743, 440)\t1.0\n",
      "  (743, 1080)\t1.0\n",
      "  (743, 1337)\t1.0\n",
      "  (743, 1362)\t0.16666666666666666\n",
      "  (743, 1405)\t1.0\n",
      "  (743, 2717)\t0.3333333333333333\n",
      "  (744, 935)\t0.07142857142857142\n",
      "  (744, 1491)\t1.0\n",
      "  (744, 1894)\t1.0\n",
      "  (744, 1985)\t1.0\n",
      "  (744, 2129)\t0.25\n",
      "  (744, 2606)\t1.0\n",
      "  (744, 2676)\t1.0\n",
      "  (744, 2772)\t0.5\n",
      "  (745, 777)\t1.0\n",
      "  (745, 2770)\t1.0\n",
      "  (746, 195)\t0.125\n",
      "  (746, 841)\t1.0\n",
      "  (747, 1216)\t1.0\n",
      "  (747, 1290)\t1.0\n",
      "  (747, 1294)\t1.0\n",
      "  (747, 1606)\t0.5\n",
      "  (747, 2710)\t0.5\n"
     ]
    }
   ],
   "source": [
    "''' Se realizeaza scalarea datelor '''\n",
    "\n",
    "scaler = MaxAbsScaler()\n",
    "\n",
    "dataframe_X = scaler.fit_transform(dataframe_X)\n",
    "print(dataframe_X)"
   ]
  },
  {
   "cell_type": "code",
   "execution_count": 60,
   "metadata": {},
   "outputs": [
    {
     "name": "stdout",
     "output_type": "stream",
     "text": [
      "2811\n"
     ]
    }
   ],
   "source": [
    "''' Dimensiunea vocabularului: '''\n",
    "\n",
    "feature_names = vect.get_feature_names()\n",
    "print(len(feature_names))"
   ]
  },
  {
   "cell_type": "code",
   "execution_count": 61,
   "metadata": {},
   "outputs": [
    {
     "name": "stdout",
     "output_type": "stream",
     "text": [
      "['10', '12', '13', '15', '15pm', '17', '18th', '1928', '1947', '1948', '1949', '1971', '1973', '1980', '1986', '1995', '1998', '20', '2005', '2006', '20th', '25', '30', '40', '50', '54', '70', '70000', '70s', '80', '80s', '8pm', '90', '95', 'aailiyah', 'abandoned', 'ability', 'abroad', 'absolutely', 'abstruse', 'abysmal', 'academy', 'accents', 'accessible', 'acclaimed', 'accolades', 'accurate', 'accurately', 'accused', 'achievement', 'achille', 'ackerman', 'act', 'acted', 'acting', 'action', 'actions', 'actor', 'actors', 'actress', 'actresses', 'actually', 'adams', 'adaptation', 'add', 'added', 'addition', 'admins', 'admiration', 'admitted', 'adorable', 'adrift', 'adventure', 'advise', 'aerial', 'aesthetically', 'affected', 'affleck', 'afraid', 'africa', 'afternoon', 'age', 'aged', 'ages', 'ago', 'agree', 'agreed', 'aimless', 'air', 'aired', 'akasha', 'akin', 'alert', 'alexander', 'alike', 'allison', 'allow', 'allowing', 'alongside', 'amateurish', 'amaze', 'amazed', 'amazing', 'amazingly', 'america', 'american', 'americans', 'amusing', 'anatomist', 'angel', 'angela', 'angeles', 'angelina', 'angle', 'angles', 'angry', 'anguish', 'angus', 'animals', 'animated', 'animation', 'anita', 'ann', 'anne', 'anniversary', 'annoying', 'anthony', 'antithesis', 'apart', 'appalling', 'appealing', 'appearance', 'appears', 'applauded', 'applause', 'appreciate', 'appropriate', 'apt', 'aren', 'argued', 'armageddon', 'armand', 'array', 'art', 'articulated', 'artiness', 'artist', 'artistic', 'artless', 'arts', 'aside', 'ask', 'asleep', 'aspect', 'aspects', 'ass', 'assante', 'assaulted', 'assistant', 'astonishingly', 'astronaut', 'atmosphere', 'atrocious', 'atrocity', 'attempt', 'attempted', 'attempting', 'attempts', 'attention', 'attractive', 'audience', 'audio', 'aurvåg', 'austen', 'austere', 'author', 'average', 'aversion', 'avoid', 'avoided', 'award', 'awarded', 'awards', 'away', 'awesome', 'awful', 'awkwardly', 'aye', 'baaaaaad', 'babbling', 'babie', 'baby', 'babysitting', 'backdrop', 'backed', 'bad', 'badly', 'bag', 'bailey', 'bakery', 'balance', 'balanced', 'ball', 'ballet', 'balls', 'band', 'barcelona', 'barely', 'barking', 'barney', 'barren', 'based', 'basic', 'basically', 'bat', 'bates', 'baxendale', 'bear', 'beautiful', 'beautifully', 'bechard', 'began', 'begin', 'beginning', 'behold', 'bela', 'believable', 'believe', 'believed', 'bell', 'bellucci', 'belly', 'belmondo', 'ben', 'bendingly', 'bennett', 'bergen', 'bertolucci', 'best', 'better', 'betty', 'beware', 'bible', 'big', 'biggest', 'billy', 'biographical', 'bipolarity', 'bit', 'bitchy', 'black', 'blah', 'blake', 'bland', 'blandly', 'blare', 'blatant', 'blew', 'blood', 'blown', 'blue', 'blush', 'boasts', 'bob', 'body', 'bohemian', 'boiling', 'bold', 'bombardments', 'bond', 'bonding', 'bonus', 'bonuses', 'boobs', 'boogeyman', 'book', 'boost', 'bop', 'bordered', 'borderlines', 'borders', 'bore', 'bored', 'boring', 'borrowed', 'boss', 'bother', 'bothersome', 'bought', 'box', 'boyfriend', 'boyle', 'brain', 'brainsucking', 'brat', 'breaking', 'breeders', 'brevity', 'brian', 'brief', 'brigand', 'bright', 'brilliance', 'brilliant', 'brilliantly', 'bring', 'brings', 'broad', 'broke', 'brooding', 'brother', 'brutal', 'buddy', 'budget', 'buffalo', 'buffet', 'build', 'builders', 'buildings', 'built', 'bullock', 'bully', 'bunch', 'burton', 'business', 'buy', 'cable', 'cailles', 'california', 'called', 'calls', 'came', 'cameo', 'camera', 'camerawork', 'camp', 'campy', 'canada', 'cancan', 'candace', 'candle', 'captain', 'captured', 'captures', 'car', 'card', 'cardboard', 'cardellini', 'care', 'carol', 'carrell', 'carries', 'carry', 'cars', 'cartoon', 'cartoons', 'case', 'cases', 'cast', 'casted', 'casting', 'cat', 'catchy', 'caught', 'cause', 'ceases', 'celebration', 'celebrity', 'celluloid', 'centers', 'central', 'century', 'certain', 'certainly', 'cg', 'cgi', 'chalkboard', 'challenges', 'chance', 'change', 'changes', 'changing', 'channel', 'character', 'characterisation', 'characters', 'charisma', 'charismatic', 'charles', 'charlie', 'charm', 'charming', 'chase', 'chasing', 'cheap', 'cheaply', 'check', 'checking', 'cheek', 'cheekbones', 'cheerfull', 'cheerless', 'cheesiness', 'cheesy', 'chemistry', 'chick', 'child', 'childhood', 'children', 'childrens', 'chills', 'chilly', 'chimp', 'chodorov', 'choice', 'choices', 'choked', 'chosen', 'chow', 'christmas', 'christopher', 'church', 'cinema', 'cinematic', 'cinematographers', 'cinematography', 'circumstances', 'class', 'classic', 'classical', 'clear', 'clearly', 'clever', 'cliche', 'clichés', 'clients', 'cliff', 'climax', 'close', 'closed', 'clothes', 'club', 'coach', 'coal', 'coastal', 'coaster', 'coherent', 'cold', 'cole', 'collect', 'collective', 'colored', 'colorful', 'colours', 'columbo', 'come', 'comedic', 'comedy', 'comes', 'comfortable', 'comforting', 'comical', 'coming', 'commands', 'comment', 'commentary', 'commented', 'comments', 'commercial', 'community', 'company', 'compelling', 'competent', 'complete', 'completed', 'completely', 'complex', 'complexity', 'composed', 'composition', 'comprehensible', 'compromise', 'computer', 'concentrate', 'conception', 'conceptually', 'concerning', 'concerns', 'concert', 'conclusion', 'condescends', 'confidence', 'configuration', 'confirm', 'conflict', 'confuses', 'confusing', 'connections', 'connery', 'connor', 'conrad', 'consequences', 'consider', 'considerable', 'considered', 'considering', 'considers', 'consistent', 'consolations', 'constant', 'constantine', 'constructed', 'contained', 'containing', 'contains', 'content', 'continually', 'continuation', 'continue', 'continuity', 'continuously', 'contract', 'contrast', 'contributing', 'contributory', 'contrived', 'control', 'controversy', 'convention', 'convey', 'convince', 'convincing', 'convoluted', 'cool', 'coppola', 'cords', 'core', 'corn', 'corny', 'correct', 'cost', 'costs', 'costumes', 'cotton', 'couldn', 'couple', 'course', 'court', 'courtroom', 'cover', 'cowardice', 'cox', 'crackles', 'crafted', 'crap', 'crash', 'crashed', 'crayon', 'crayons', 'crazy', 'create', 'created', 'creates', 'creative', 'creativity', 'creature', 'credible', 'credit', 'credits', 'crew', 'crime', 'crisp', 'critic', 'critical', 'crocdodile', 'crocs', 'cross', 'crowd', 'crowe', 'cruel', 'cruise', 'cult', 'culture', 'curtain', 'custer', 'cute', 'cutest', 'cutie', 'cutouts', 'cuts', 'cutting', 'dads', 'damian', 'damn', 'dance', 'dancing', 'dangerous', 'dark', 'darren', 'daughter', 'daughters', 'day', 'days', 'dead', 'deadly', 'deadpan', 'deal', 'dealt', 'death', 'debated', 'debbie', 'debits', 'debut', 'decay', 'decent', 'decidely', 'decipher', 'decisions', 'dedication', 'dee', 'deep', 'deeply', 'defensemen', 'defined', 'definitely', 'delete', 'delight', 'delightful', 'delights', 'deliver', 'delivered', 'delivering', 'delivers', 'dependant', 'depending', 'depends', 'depicted', 'depicts', 'depressing', 'depth', 'derivative', 'describes', 'desert', 'deserved', 'deserves', 'deserving', 'design', 'designed', 'designer', 'desperately', 'desperation', 'despised', 'despite', 'destroy', 'detailing', 'details', 'develop', 'development', 'developments', 'di', 'diabetic', 'dialog', 'dialogs', 'dialogue', 'diaper', 'dickens', 'did', 'didn', 'difference', 'different', 'dignity', 'dimensional', 'direct', 'directed', 'directing', 'direction', 'director', 'directorial', 'directors', 'disappointed', 'disappointing', 'disappointment', 'disaster', 'disbelief', 'discomfort', 'discovering', 'discovery', 'disgrace', 'disgusting', 'dislike', 'disliked', 'disney', 'disparate', 'distant', 'distinction', 'distorted', 'distract', 'distressed', 'disturbing', 'diving', 'doctor', 'documentaries', 'documentary', 'dodge', 'does', 'doesn', 'dogs', 'doing', 'dollars', 'dominated', 'don', 'donlevy', 'dont', 'doomed', 'dosen', 'doubt', 'downs', 'dozen', 'dr', 'dracula', 'draft', 'drag', 'drago', 'drama', 'dramatic', 'drawings', 'drawn', 'dream', 'dreams', 'dreary', 'dribble', 'drift', 'drifting', 'drive', 'drooling', 'dropped', 'dry', 'duet', 'dull', 'dumb', 'dumbest', 'duper', 'duris', 'dustin', 'dvd', 'dwight', 'dysfunction', 'earlier', 'early', 'earth', 'easily', 'easy', 'eating', 'ebay', 'ebola', 'eccleston', 'ed', 'edge', 'editing', 'edition', 'educational', 'edward', 'effect', 'effective', 'effects', 'effort', 'efforts', 'egotism', 'eighth', 'eiko', 'elaborately', 'elderly', 'elegant', 'element', 'elias', 'eloquently', 'embarrassed', 'embarrassing', 'embassy', 'emerge', 'emilio', 'emily', 'emoting', 'emotion', 'emotionally', 'emotions', 'emperor', 'empowerment', 'emptiness', 'en', 'enchanting', 'end', 'endearing', 'ended', 'ending', 'endlessly', 'ends', 'energetic', 'energy', 'engaging', 'english', 'enhanced', 'enjoy', 'enjoyable', 'enjoyed', 'enjoyment', 'enter', 'enterprise', 'entertained', 'entertaining', 'entire', 'entirely', 'entrance', 'episode', 'episodes', 'equivalent', 'era', 'errol', 'errors', 'escalating', 'escapism', 'especially', 'essence', 'establish', 'established', 'estate', 'estevez', 'european', 'evaluate', 'events', 'everybody', 'evidently', 'evil', 'evinced', 'evokes', 'exactly', 'exaggerating', 'example', 'excellent', 'excellently', 'exceptional', 'exceptionally', 'excerpts', 'excessively', 'exchange', 'exciting', 'excruciatingly', 'excuse', 'excuses', 'executed', 'exemplars', 'existent', 'existential', 'expansive', 'expect', 'expectations', 'expected', 'expecting', 'experience', 'experiences', 'expert', 'explain', 'explains', 'explanation', 'exploit', 'explorations', 'explosion', 'expression', 'exquisite', 'extant', 'exteriors', 'extraneous', 'extraordinary', 'extremely', 'eye', 'eyes', 'fabulous', 'face', 'faces', 'facial', 'facing', 'fact', 'factory', 'failed', 'fails', 'fair', 'fairly', 'faithful', 'fall', 'falling', 'falls', 'falsely', 'falwell', 'fame', 'famed', 'family', 'famous', 'fan', 'fanciful', 'fans', 'fantastic', 'fantasy', 'far', 'farce', 'fare', 'fascinated', 'fascinating', 'fascination', 'fashioned', 'fast', 'faster', 'fat', 'father', 'faultless', 'fausa', 'faux', 'favorite', 'favourite', 'fear', 'feature', 'features', 'feel', 'feeling', 'feelings', 'feet', 'feisty', 'fellowes', 'felt', 'female', 'females', 'ferry', 'fest', 'fi', 'fields', 'fifties', 'film', 'filmed', 'filmiing', 'filmmaker', 'filmography', 'films', 'final', 'finale', 'finally', 'financial', 'finds', 'fine', 'finest', 'fingernails', 'finished', 'fish', 'fishnet', 'fisted', 'fit', 'flag', 'flakes', 'flaming', 'flashbacks', 'flat', 'flaw', 'flawed', 'flaws', 'fleshed', 'flick', 'flicks', 'florida', 'flowed', 'flying', 'flynn', 'focus', 'fodder', 'follow', 'following', 'follows', 'foolish', 'footage', 'football', 'force', 'forced', 'forces', 'ford', 'foreign', 'foreigner', 'forever', 'forget', 'forgettable', 'forgetting', 'forgot', 'forgotten', 'form', 'format', 'fort', 'forth', 'forwarded', 'fox', 'foxx', 'frances', 'francis', 'frankly', 'free', 'freedom', 'freeman', 'french', 'fresh', 'freshness', 'friends', 'friendship', 'frightening', 'frontier', 'frost', 'frustration', 'fulci', 'fulfilling', 'fully', 'fumbling', 'fun', 'function', 'fundamental', 'funniest', 'funny', 'future', 'fx', 'gabriel', 'gadget', 'gain', 'gake', 'galley', 'gallon', 'game', 'games', 'garage', 'garbage', 'garbo', 'garfield', 'gas', 'gaudi', 'gave', 'gay', 'geek', 'gem', 'general', 'generally', 'generates', 'generic', 'genius', 'genre', 'gently', 'genuine', 'george', 'gerardo', 'gere', 'gets', 'getting', 'ghibili', 'giallo', 'gibberish', 'gifted', 'giovanni', 'girl', 'girlfriend', 'girls', 'girolamo', 'given', 'gives', 'giving', 'glad', 'glance', 'glasses', 'gloriously', 'goalies', 'god', 'goes', 'going', 'gone', 'gonna', 'good', 'gore', 'goremeister', 'gorman', 'gosh', 'got', 'goth', 'gotta', 'gotten', 'government', 'grace', 'grade', 'gradually', 'grainy', 'granted', 'graphics', 'grasp', 'grates', 'great', 'greatest', 'greatness', 'green', 'greenstreet', 'grew', 'grim', 'grimes', 'gripping', 'groove', 'gross', 'ground', 'guards', 'guess', 'guests', 'guilt', 'gung', 'guy', 'guys', 'hackneyed', 'hadn', 'haggis', 'hair', 'hairsplitting', 'half', 'halfway', 'ham', 'hand', 'handle', 'handled', 'handles', 'hands', 'hang', 'hankies', 'hanks', 'happen', 'happened', 'happiness', 'happy', 'hard', 'harris', 'hasn', 'hate', 'hated', 'hatred', 'haven', 'havilland', 'having', 'hay', 'hayao', 'hayworth', 'hbo', 'head', 'heads', 'hear', 'heard', 'heart', 'hearts', 'heartwarming', 'heaven', 'heche', 'heels', 'heist', 'helen', 'hell', 'hellish', 'helms', 'help', 'helping', 'helps', 'hendrikson', 'hernandez', 'hero', 'heroes', 'heroine', 'heroism', 'hes', 'hide', 'high', 'higher', 'highest', 'highlights', 'highly', 'hilarious', 'hill', 'hilt', 'hip', 'history', 'hitchcock', 'ho', 'hockey', 'hoffman', 'hold', 'holding', 'holds', 'holes', 'hollander', 'hollow', 'hollywood', 'home', 'homework', 'honest', 'honestly', 'hoot', 'hope', 'hopefully', 'hopeless', 'horrendous', 'horrendously', 'horrible', 'horrid', 'horrified', 'horror', 'horse', 'hosting', 'hot', 'hour', 'hours', 'house', 'houses', 'howdy', 'howe', 'howell', 'huge', 'hugo', 'human', 'humanity', 'humans', 'hummh', 'humor', 'humorous', 'humour', 'hurt', 'huston', 'hype', 'hypocrisy', 'idea', 'idealogical', 'identified', 'identifies', 'identify', 'idiot', 'idiotic', 'idyllic', 'iffy', 'im', 'imaginable', 'imagination', 'imaginative', 'imagine', 'imdb', 'imitation', 'impact', 'imperial', 'implausible', 'important', 'impossible', 'impressed', 'impression', 'impressive', 'improved', 'improvement', 'improvisation', 'impulse', 'inappropriate', 'incendiary', 'includes', 'including', 'incomprehensible', 'inconsistencies', 'incorrectness', 'incredible', 'incredibly', 'indescribably', 'indication', 'indictment', 'indie', 'individual', 'indoor', 'indulgent', 'industry', 'ineptly', 'inexperience', 'inexplicable', 'initially', 'innocence', 'insane', 'inside', 'insincere', 'insipid', 'insomniacs', 'inspiration', 'inspiring', 'instant', 'instead', 'instruments', 'insulin', 'insult', 'intangibles', 'integral', 'integration', 'intelligence', 'intelligent', 'intense', 'intensity', 'intentions', 'interacting', 'interested', 'interesting', 'interim', 'interplay', 'interpretations', 'interview', 'intoning', 'intrigued', 'inventive', 'involved', 'involves', 'involving', 'iq', 'ireland', 'ironically', 'irons', 'ironside', 'irritating', 'ishioka', 'isn', 'issue', 'issues', 'italian', 'ive', 'jack', 'jaclyn', 'james', 'jamie', 'japanese', 'jason', 'jay', 'jealousy', 'jean', 'jennifer', 'jerky', 'jerry', 'jessica', 'jessice', 'jet', 'jim', 'jimmy', 'job', 'jobs', 'joe', 'john', 'joins', 'joke', 'jokes', 'jonah', 'jones', 'journey', 'joy', 'joyce', 'juano', 'judge', 'judging', 'judith', 'judo', 'julian', 'june', 'junk', 'junkyard', 'just', 'justice', 'jutland', 'kanaly', 'kathy', 'keeps', 'keira', 'keith', 'kept', 'kevin', 'kid', 'kidnapped', 'kids', 'kieslowski', 'kill', 'killer', 'killing', 'killings', 'kind', 'kinda', 'kirk', 'kitchy', 'knew', 'knightley', 'knocked', 'know', 'known', 'knows', 'koteas', 'kris', 'kristoffersen', 'kudos', 'la', 'labute', 'lack', 'lacked', 'lacks', 'ladies', 'lady', 'lame', 'lance', 'landscapes', 'lane', 'lange', 'largely', 'laselva', 'lassie', 'lasting', 'latched', 'late', 'later', 'latest', 'latifa', 'latin', 'laugh', 'laughable', 'laughed', 'laughs', 'layers', 'lazy', 'lead', 'leading', 'leap', 'learn', 'leave', 'leaves', 'leaving', 'lee', 'left', 'legal', 'legendary', 'length', 'leni', 'lesser', 'lestat', 'let', 'lets', 'letting', 'level', 'levels', 'lewis', 'lid', 'lie', 'lies', 'lieutenant', 'life', 'lifetime', 'light', 'lighting', 'like', 'liked', 'likes', 'lilli', 'lilt', 'limitations', 'limited', 'linda', 'line', 'linear', 'lines', 'lino', 'lion', 'list', 'literally', 'littered', 'little', 'lived', 'lives', 'living', 'll', 'loads', 'local', 'location', 'locations', 'loewenhielm', 'logic', 'london', 'loneliness', 'long', 'longer', 'look', 'looked', 'looking', 'looks', 'loose', 'loosely', 'lord', 'los', 'losing', 'lost', 'lot', 'lots', 'lousy', 'lovable', 'love', 'loved', 'lovely', 'loves', 'low', 'lower', 'loyalty', 'lucio', 'lucy', 'lugosi', 'lust', 'luv', 'lyrics', 'macbeth', 'machine', 'mad', 'magnificent', 'main', 'mainly', 'major', 'make', 'maker', 'makers', 'makes', 'making', 'male', 'males', 'malta', 'man', 'managed', 'manages', 'manna', 'mansonites', 'marbles', 'march', 'marine', 'marion', 'mark', 'marred', 'marriage', 'martin', 'masculine', 'masculinity', 'massive', 'master', 'masterful', 'masterpiece', 'masterpieces', 'material', 'matrix', 'matter', 'matthews', 'mature', 'maybe', 'mchattie', 'mclaglen', 'meagre', 'mean', 'meanders', 'meaning', 'meanings', 'meant', 'medical', 'mediocre', 'meld', 'melodrama', 'melville', 'member', 'members', 'memorable', 'memories', 'memorized', 'menace', 'menacing', 'mention', 'mercy', 'meredith', 'merit', 'mesmerising', 'mess', 'messages', 'meteorite', 'mexican', 'michael', 'mickey', 'microsoft', 'middle', 'mighty', 'mind', 'mindblowing', 'miner', 'mini', 'minor', 'minute', 'minutes', 'mirrormask', 'miserable', 'miserably', 'mishima', 'misplace', 'miss', 'missed', 'mistakes', 'miyazaki', 'modern', 'modest', 'mollusk', 'moment', 'moments', 'momentum', 'money', 'monica', 'monolog', 'monotonous', 'monster', 'monstrous', 'monumental', 'moral', 'morgan', 'morons', 'mother', 'motion', 'motivations', 'mountain', 'mouse', 'mouth', 'moved', 'movements', 'moves', 'movie', 'movies', 'moving', 'ms', 'mst3k', 'muddled', 'muppets', 'murder', 'murdered', 'murdering', 'murky', 'music', 'musician', 'mystifying', 'naked', 'narration', 'narrative', 'nasty', 'national', 'nationalities', 'native', 'natural', 'nature', 'naughty', 'nc', 'nearly', 'necklace', 'need', 'needed', 'needlessly', 'negative', 'negulesco', 'neighbour', 'neil', 'nerves', 'nervous', 'net', 'netflix', 'network', 'nevsky', 'new', 'nice', 'nicola', 'night', 'nimoy', 'noble', 'noir', 'non', 'nonetheless', 'nonsense', 'normally', 'northern', 'nostalgia', 'notable', 'notch', 'note', 'noteworthy', 'novella', 'number', 'numbers', 'nun', 'nuns', 'nurse', 'nut', 'nuts', 'obliged', 'obsessed', 'obvious', 'obviously', 'occasionally', 'occupied', 'occur', 'occurs', 'odd', 'offend', 'offensive', 'offer', 'offers', 'oh', 'okay', 'old', 'olde', 'older', 'ole', 'olivia', 'omit', 'ones', 'open', 'opened', 'opening', 'operas', 'opinion', 'ordeal', 'oriented', 'original', 'originality', 'origins', 'ortolani', 'oscar', 'ought', 'outlandish', 'outlets', 'outside', 'outward', 'overacting', 'overall', 'overcome', 'overdue', 'overly', 'overs', 'overt', 'overwrought', 'owed', 'owls', 'owned', 'owns', 'oy', 'pace', 'paced', 'pacing', 'pack', 'paid', 'painful', 'painfully', 'paint', 'painted', 'pair', 'palance', 'pandering', 'pans', 'paolo', 'pap', 'paper', 'par', 'parents', 'park', 'parker', 'partaking', 'particular', 'particularly', 'parts', 'passed', 'passion', 'past', 'patent', 'pathetic', 'patriotism', 'paul', 'pay', 'peaking', 'pearls', 'peculiarity', 'pedestal', 'pencil', 'people', 'perabo', 'perfect', 'perfected', 'perfectly', 'performance', 'performances', 'period', 'perplexing', 'person', 'personalities', 'personally', 'peter', 'pg', 'phantasm', 'phenomenal', 'philippa', 'phony', 'photograph', 'photography', 'phrase', 'physical', 'pi', 'picked', 'picture', 'pictures', 'piece', 'pieces', 'pile', 'pillow', 'pitch', 'pitiful', 'pixar', 'place', 'places', 'plain', 'plane', 'planned', 'plants', 'play', 'played', 'player', 'players', 'playing', 'plays', 'pleasant', 'pleased', 'pleaser', 'pleasing', 'pledge', 'plenty', 'plmer', 'plot', 'plug', 'plus', 'pm', 'poet', 'poetry', 'poignant', 'point', 'pointillistic', 'pointless', 'poised', 'poler', 'political', 'politically', 'politics', 'ponyo', 'poor', 'poorly', 'popcorn', 'popular', 'portrayal', 'portrayals', 'portrayed', 'portraying', 'positive', 'possible', 'possibly', 'post', 'potted', 'power', 'powerful', 'powerhouse', 'practical', 'practically', 'pray', 'precisely', 'predict', 'predictable', 'predictably', 'prejudice', 'prelude', 'premise', 'prepared', 'presence', 'presents', 'preservation', 'president', 'pretentious', 'pretext', 'pretty', 'previous', 'primal', 'primary', 'probably', 'problem', 'problems', 'proceedings', 'process', 'produce', 'produced', 'producer', 'producers', 'product', 'production', 'professionals', 'professor', 'progresses', 'promote', 'prompted', 'prone', 'propaganda', 'properly', 'proud', 'proudly', 'provided', 'provokes', 'provoking', 'ps', 'pseudo', 'psychological', 'psychotic', 'public', 'pull', 'pulling', 'pulls', 'punched', 'punches', 'punish', 'punishment', 'puppet', 'puppets', 'pure', 'purity', 'putting', 'puzzle', 'pyromaniac', 'quaid', 'qualities', 'quality', 'question', 'questioning', 'quick', 'quicker', 'quiet', 'quinn', 'quite', 'québec', 'race', 'racial', 'racism', 'radiant', 'raging', 'random', 'range', 'ranks', 'rare', 'rate', 'rated', 'rating', 'ratings', 'raver', 'raw', 'ray', 'reactions', 'readers', 'reading', 'ready', 'real', 'realised', 'realistic', 'reality', 'realize', 'realized', 'really', 'reason', 'reasonable', 'reasons', 'receive', 'received', 'recent', 'recently', 'recommend', 'recommended', 'reconciliation', 'recover', 'recurring', 'redeemed', 'redeeming', 'reenactments', 'references', 'reflected', 'refreshing', 'regardless', 'regret', 'regrettable', 'regrettably', 'rejection', 'relate', 'related', 'relation', 'relations', 'relationship', 'relationships', 'relatively', 'relaxing', 'release', 'released', 'relief', 'relying', 'remaining', 'remake', 'remarkable', 'remember', 'reminded', 'remotely', 'removing', 'rendering', 'rendition', 'renowned', 'rent', 'repair', 'repeated', 'repeating', 'repeats', 'repertory', 'reporter', 'represents', 'require', 'rescue', 'researched', 'resounding', 'respecting', 'rest', 'restrained', 'result', 'results', 'resume', 'retarded', 'retreat', 'return', 'revealing', 'revenge', 'revere', 'reverse', 'review', 'reviewer', 'reviewers', 'reviews', 'rice', 'rickman', 'ridiculous', 'ridiculousness', 'right', 'riot', 'rips', 'rise', 'rita', 'rivalry', 'riveted', 'riz', 'road', 'robert', 'robotic', 'rochon', 'rocked', 'rocks', 'roeg', 'role', 'roles', 'roller', 'rolls', 'romantic', 'room', 'roosevelt', 'roth', 'rough', 'round', 'routine', 'row', 'rpg', 'rpger', 'rubbish', 'rubin', 'rumbles', 'run', 'running', 'ruthless', 'ryan', 'ryans', 'sabotages', 'sack', 'sacrifice', 'sad', 'said', 'sake', 'salesman', 'sam', 'sample', 'sand', 'sandra', 'sappiest', 'sarcophage', 'sat', 'satanic', 'savalas', 'savant', 'save', 'savor', 'saw', 'say', 'says', 'scale', 'scamp', 'scare', 'scared', 'scares', 'scary', 'scene', 'scenery', 'scenes', 'schilling', 'schizophrenic', 'school', 'schoolers', 'schrader', 'schultz', 'sci', 'science', 'scientist', 'score', 'scot', 'scream', 'screamy', 'screen', 'screened', 'screenplay', 'screenwriter', 'scrimm', 'script', 'scripted', 'scripting', 'scripts', 'sculpture', 'sea', 'seamless', 'seamlessly', 'sean', 'season', 'seat', 'second', 'secondary', 'secondly', 'seeing', 'seen', 'selections', 'self', 'sells', 'semi', 'senior', 'sense', 'senses', 'sensibility', 'sensitivities', 'sentiment', 'seperate', 'sequel', 'sequels', 'sequence', 'sequences', 'series', 'seriously', 'served', 'set', 'sets', 'setting', 'settings', 'seuss', 'sex', 'shakespear', 'shakespears', 'shallow', 'shame', 'shameful', 'share', 'sharing', 'sharply', 'shatner', 'shattered', 'shed', 'sheer', 'shelf', 'shell', 'shelves', 'shenanigans', 'shepard', 'shined', 'shirley', 'shocking', 'shooting', 'short', 'shortlist', 'shot', 'shots', 'showcasing', 'showed', 'shows', 'shut', 'sibling', 'sick', 'sidelined', 'sign', 'significant', 'silent', 'silly', 'simmering', 'simplifying', 'simply', 'sing', 'singing', 'single', 'sinister', 'sink', 'sinking', 'sister', 'sisters', 'sit', 'sitcoms', 'site', 'sites', 'sits', 'situation', 'situations', 'skilled', 'skip', 'slackers', 'slavic', 'sleep', 'slideshow', 'slightest', 'slightly', 'slimy', 'sloppy', 'slow', 'slurs', 'smack', 'small', 'smart', 'smells', 'smile', 'smiling', 'smith', 'smoothly', 'snider', 'snow', 'soap', 'sobering', 'social', 'soldiers', 'sole', 'solid', 'solidifying', 'solving', 'somewhat', 'son', 'song', 'songs', 'soon', 'sophisticated', 'sorrentino', 'sorry', 'sort', 'soul', 'sound', 'sounded', 'sounds', 'soundtrack', 'sour', 'south', 'southern', 'space', 'spacek', 'spacey', 'span', 'speak', 'speaking', 'special', 'speed', 'spend', 'spent', 'spew', 'sphere', 'spiffy', 'splendid', 'spock', 'spoil', 'spoiled', 'spoiler', 'spoilers', 'spot', 'spy', 'squibs', 'stable', 'stage', 'stagey', 'stagy', 'stand', 'standout', 'stanwyck', 'star', 'starlet', 'starring', 'stars', 'start', 'started', 'starts', 'state', 'stay', 'stayed', 'stealing', 'steamboat', 'steele', 'step', 'stephen', 'stereotypes', 'stereotypically', 'steve', 'stewart', 'stick', 'stinker', 'stinks', 'stocking', 'stockings', 'stoic', 'store', 'stories', 'storm', 'story', 'storyline', 'storytelling', 'stowe', 'strange', 'stranger', 'stratus', 'straw', 'street', 'strident', 'string', 'strives', 'strokes', 'strong', 'struck', 'structure', 'struggle', 'stuart', 'student', 'students', 'studio', 'study', 'stuff', 'stunning', 'stupid', 'stupidity', 'style', 'stylized', 'sub', 'subject', 'subjects', 'sublime', 'sublimely', 'subplots', 'subtitles', 'subtle', 'subversive', 'subverting', 'succeeded', 'succeeds', 'success', 'suck', 'sucked', 'sucks', 'suffered', 'suffering', 'suggest', 'suggests', 'suited', 'sum', 'summary', 'sundays', 'super', 'superb', 'superbad', 'superbly', 'superficial', 'superlative', 'supernatural', 'supporting', 'supposed', 'supposedly', 'sure', 'surely', 'surf', 'surface', 'surprised', 'surprises', 'surprising', 'surprisingly', 'surrounding', 'surroundings', 'survivors', 'suspense', 'suspension', 'sven', 'swamp', 'sweep', 'sweet', 'switched', 'swords', 'sydney', 'sympathetic', 'syrupy', 'tacky', 'taelons', 'taken', 'takes', 'taking', 'tale', 'talent', 'talented', 'talents', 'talk', 'tanks', 'taped', 'tardis', 'task', 'taste', 'taxidermists', 'taylor', 'teacher', 'teaches', 'team', 'tear', 'tears', 'technically', 'teddy', 'tedium', 'teen', 'teenagers', 'teeth', 'telephone', 'television', 'tell', 'telly', 'temperaments', 'tender', 'tension', 'tensions', 'terminology', 'terms', 'terrible', 'terribly', 'terrific', 'terror', 'th', 'thanks', 'theater', 'theatre', 'theatres', 'theatrical', 'theme', 'themes', 'therapy', 'thing', 'things', 'think', 'thinking', 'thomerson', 'thoroughly', 'thorsen', 'thought', 'thoughts', 'thousand', 'thread', 'threshold', 'thrilled', 'thriller', 'thrillers', 'throwback', 'thrown', 'thug', 'thumper', 'thunderbirds', 'ticker', 'tickets', 'tightly', 'time', 'timeless', 'timely', 'timers', 'times', 'timing', 'tiny', 'tired', 'title', 'titta', 'today', 'told', 'tolerable', 'tolerate', 'tom', 'tomorrow', 'tone', 'tongue', 'tonight', 'tons', 'tony', 'took', 'toons', 'tops', 'torture', 'tortured', 'total', 'totally', 'touch', 'touches', 'touching', 'tough', 'towers', 'townsend', 'track', 'tract', 'traditional', 'traffic', 'trailer', 'train', 'tranquillity', 'transcend', 'transfers', 'translate', 'translating', 'trap', 'trash', 'trashy', 'treachery', 'treasure', 'treat', 'treatments', 'trek', 'tremendous', 'tremendously', 'tries', 'trilogy', 'trinity', 'trip', 'triumphed', 'trond', 'trooper', 'trouble', 'truck', 'true', 'truly', 'trumbull', 'trumpeter', 'truth', 'try', 'trying', 'trysts', 'tsunami', 'tuneful', 'turkey', 'turn', 'turned', 'turns', 'tv', 'twice', 'twirling', 'twist', 'twists', 'tying', 'type', 'typical', 'ue', 'ugliest', 'ugly', 'uhura', 'ultra', 'um', 'unaccompanied', 'unbearable', 'unbearably', 'unbelievable', 'uncalled', 'unconditional', 'unconvincing', 'underacting', 'underappreciated', 'underbite', 'underlines', 'underlying', 'underneath', 'underrated', 'understand', 'understanding', 'understated', 'understatement', 'understood', 'undertone', 'underwater', 'undoubtedly', 'uneasy', 'unemployed', 'unethical', 'unfaithful', 'unfolds', 'unforgettable', 'unfortunate', 'unfortunately', 'unfunny', 'unintentionally', 'uninteresting', 'union', 'unique', 'uniqueness', 'universal', 'universe', 'unless', 'unlockable', 'unmatched', 'unmitigated', 'unmoving', 'unnecessary', 'unneeded', 'unoriginal', 'unpleasant', 'unpredictability', 'unpredictable', 'unrealistic', 'unrecognizable', 'unrecommended', 'unremarkable', 'unrestrained', 'unsatisfactory', 'unwatchable', 'upa', 'uplifting', 'upper', 'ups', 'uptight', 'ursula', 'use', 'used', 'user', 'uses', 'using', 'ussr', 'usual', 'utter', 'utterly', 'valentine', 'value', 'values', 'vampire', 'vandiver', 'variation', 've', 'vehicles', 'ventura', 'verbal', 'verbatim', 'versatile', 'version', 'versus', 'vessel', 'veteran', 'vey', 'vibe', 'victor', 'video', 'view', 'viewer', 'viewing', 'views', 'villain', 'villains', 'violence', 'violin', 'virtue', 'virus', 'vision', 'visual', 'visually', 'vitally', 'vivian', 'vivid', 'vocal', 'voice', 'volatile', 'volcano', 'vomit', 'vomited', 'voyage', 'vulcan', 'waiting', 'waitress', 'walk', 'walked', 'wall', 'want', 'wanted', 'wanting', 'wants', 'war', 'warmth', 'warn', 'warning', 'wartime', 'warts', 'washed', 'washing', 'wasn', 'waste', 'wasted', 'waster', 'wasting', 'watch', 'watchable', 'watched', 'watching', 'water', 'watkins', 'watson', 'wave', 'way', 'waylaid', 'wayne', 'ways', 'wb', 'weak', 'weaker', 'weariness', 'weaving', 'website', 'wedding', 'weight', 'weird', 'welsh', 'went', 'weren', 'whatsoever', 'whine', 'whiny', 'white', 'whites', 'wholesome', 'wide', 'widmark', 'wife', 'wih', 'wild', 'wilkinson', 'william', 'willie', 'wily', 'win', 'wind', 'wise', 'wish', 'witticisms', 'witty', 'woa', 'women', 'won', 'wonder', 'wondered', 'wonderful', 'wonderfully', 'wong', 'wont', 'woo', 'wooden', 'word', 'words', 'work', 'worked', 'working', 'works', 'world', 'worry', 'worse', 'worst', 'worth', 'worthless', 'worthwhile', 'worthy', 'wouldn', 'wouldnt', 'woven', 'wow', 'wrap', 'write', 'writer', 'writers', 'writing', 'written', 'wrong', 'wrote', 'yardley', 'yawn', 'yeah', 'year', 'years', 'yelps', 'yes', 'young', 'younger', 'youthful', 'youtube', 'yun', 'zillion', 'zombie', 'zombiez']\n"
     ]
    }
   ],
   "source": [
    "'''Vocabularul in sine'''\n",
    "\n",
    "print(feature_names)"
   ]
  },
  {
   "cell_type": "markdown",
   "metadata": {},
   "source": [
    "### Stats About"
   ]
  },
  {
   "cell_type": "code",
   "execution_count": 62,
   "metadata": {
    "ExecuteTime": {
     "end_time": "2019-05-21T20:48:07.641907Z",
     "start_time": "2019-05-21T20:48:07.627946Z"
    }
   },
   "outputs": [],
   "source": [
    "sentiment_dataFrame = dataframe"
   ]
  },
  {
   "cell_type": "code",
   "execution_count": 63,
   "metadata": {
    "ExecuteTime": {
     "end_time": "2019-05-21T20:48:08.267640Z",
     "start_time": "2019-05-21T20:48:08.260660Z"
    }
   },
   "outputs": [
    {
     "name": "stdout",
     "output_type": "stream",
     "text": [
      "<class 'pandas.core.frame.DataFrame'>\n",
      "RangeIndex: 748 entries, 0 to 747\n",
      "Data columns (total 2 columns):\n",
      "message     748 non-null object\n",
      "category    748 non-null int64\n",
      "dtypes: int64(1), object(1)\n",
      "memory usage: 11.8+ KB\n"
     ]
    }
   ],
   "source": [
    "sentiment_dataFrame.info()"
   ]
  },
  {
   "cell_type": "code",
   "execution_count": 64,
   "metadata": {
    "ExecuteTime": {
     "end_time": "2019-05-21T20:48:09.909136Z",
     "start_time": "2019-05-21T20:48:09.851290Z"
    }
   },
   "outputs": [
    {
     "data": {
      "image/png": "[encoded data removed]",
      "text/plain": [
       "<Figure size 432x432 with 1 Axes>"
      ]
     },
     "metadata": {},
     "output_type": "display_data"
    }
   ],
   "source": [
    "sentiment_dataFrame[\"category\"].value_counts().plot(kind = 'pie', explode = [0, 0.1], figsize = (6, 6), autopct = '%1.1f%%', shadow = True)\n",
    "plt.show()"
   ]
  },
  {
   "cell_type": "code",
   "execution_count": 68,
   "metadata": {},
   "outputs": [],
   "source": [
    "''' Folosind TextBlob calculam polaritatea sentimentului care se situează în intervalul [-1,1] unde 1 înseamnă sentiment pozitiv și -1 înseamnă un sentiment negativ. '''\n",
    "\n",
    "sentiment_dataFrame['polarity'] = sentiment_dataFrame['message'].map(lambda text: TextBlob(text).sentiment.polarity)\n",
    "sentiment_dataFrame['review_len'] =  sentiment_dataFrame['message'].astype(str).apply(len)\n",
    "sentiment_dataFrame['word_count'] =  sentiment_dataFrame['message'].apply(lambda x: len(str(x).split()))"
   ]
  },
  {
   "cell_type": "code",
   "execution_count": 69,
   "metadata": {},
   "outputs": [
    {
     "name": "stdout",
     "output_type": "stream",
     "text": [
      "5 review-uri random cu notate cu sentiment pozitiv: \n",
      "An excellent performance from Ms.  \n",
      "The best scene in the movie was when Gerardo is trying to find a song that keeps running through his head.  \n",
      "This movie is so awesome!  \n",
      "I was deeply impressed with the character he played.  \n",
      "Excellently produced by one of Sci-fi's best producers Scot Vandiver !  \n"
     ]
    }
   ],
   "source": [
    "print('5 review-uri random cu notate cu sentiment pozitiv: ')\n",
    "data = sentiment_dataFrame.loc[sentiment_dataFrame.polarity == 1, ['message']].sample(5).values\n",
    "for value in data:\n",
    "    print(value[0])"
   ]
  },
  {
   "cell_type": "code",
   "execution_count": 70,
   "metadata": {},
   "outputs": [
    {
     "name": "stdout",
     "output_type": "stream",
     "text": [
      "5 review-uri random cu notate cu sentiment negativ: \n",
      "Every time he opened his mouth you expect to hear, \"you see kids...\" Pulling the plug was a mercy killing for this horrible show.  \n",
      "Oh yeah, and the storyline was pathetic too.  \n",
      "The \"explosion\" of the Gas tanks at the end was just as awful.  \n",
      "The story line is just awful!  \n",
      "It was so BORING!  \n"
     ]
    }
   ],
   "source": [
    "print('5 review-uri random cu notate cu sentiment negativ: ')\n",
    "data = sentiment_dataFrame.loc[sentiment_dataFrame.polarity == -1, ['message']].sample(5).values\n",
    "for value in data:\n",
    "    print(value[0])"
   ]
  },
  {
   "cell_type": "code",
   "execution_count": 71,
   "metadata": {},
   "outputs": [
    {
     "name": "stdout",
     "output_type": "stream",
     "text": [
      "5 review-uri random cu notate cu sentiment neutru: \n",
      "This is not movie-making.  \n",
      "See it.  \n",
      "However, after seeing the short again after about 25 years, I was amazed at how timeless the film actually is.  \n",
      "You will leave the theater wanting to go out and dance under the stars.  \n",
      "Too politically correct.  \n"
     ]
    }
   ],
   "source": [
    "print('5 review-uri random cu notate cu sentiment neutru: ')\n",
    "data = sentiment_dataFrame.loc[sentiment_dataFrame.polarity == 0, ['message']].sample(5).values\n",
    "for value in data:\n",
    "    print(value[0])"
   ]
  },
  {
   "cell_type": "code",
   "execution_count": 72,
   "metadata": {},
   "outputs": [
    {
     "data": {
      "text/plain": [
       "[]"
      ]
     },
     "execution_count": 72,
     "metadata": {},
     "output_type": "execute_result"
    },
    {
     "data": {
      "image/png": "[encoded data removed]",
      "text/plain": [
       "<Figure size 432x288 with 1 Axes>"
      ]
     },
     "metadata": {
      "needs_background": "light"
     },
     "output_type": "display_data"
    }
   ],
   "source": [
    "sentiment_dataFrame['polarity'].plot(\n",
    "    kind='hist',\n",
    "    bins=50,\n",
    "    title='Sentiment Polarity Distribution')\n",
    "plt.ylabel(\"count\")\n",
    "plt.xlabel(\"polarity\")\n",
    "plt.plot()"
   ]
  },
  {
   "cell_type": "code",
   "execution_count": 73,
   "metadata": {},
   "outputs": [
    {
     "data": {
      "text/plain": [
       "[]"
      ]
     },
     "execution_count": 73,
     "metadata": {},
     "output_type": "execute_result"
    },
    {
     "data": {
      "image/png": "[encoded data removed]",
      "text/plain": [
       "<Figure size 432x288 with 1 Axes>"
      ]
     },
     "metadata": {
      "needs_background": "light"
     },
     "output_type": "display_data"
    }
   ],
   "source": [
    "sentiment_dataFrame['review_len'].plot(\n",
    "    kind='hist',\n",
    "    bins=100,\n",
    "    title='Review Text Length Distribution')\n",
    "plt.ylabel(\"count\")\n",
    "plt.xlabel(\"review length\")\n",
    "plt.plot()"
   ]
  },
  {
   "cell_type": "code",
   "execution_count": 74,
   "metadata": {},
   "outputs": [
    {
     "data": {
      "text/plain": [
       "[]"
      ]
     },
     "execution_count": 74,
     "metadata": {},
     "output_type": "execute_result"
    },
    {
     "data": {
      "image/png": "[encoded data removed]",
      "text/plain": [
       "<Figure size 432x288 with 1 Axes>"
      ]
     },
     "metadata": {
      "needs_background": "light"
     },
     "output_type": "display_data"
    }
   ],
   "source": [
    "sentiment_dataFrame['word_count'].plot(\n",
    "    kind='hist',\n",
    "    bins=100,\n",
    "    title='Review Text Word Count Distribution')\n",
    "plt.ylabel(\"count\")\n",
    "plt.xlabel(\"word count\")\n",
    "plt.plot()"
   ]
  },
  {
   "cell_type": "code",
   "execution_count": 36,
   "metadata": {
    "ExecuteTime": {
     "end_time": "2019-05-21T20:48:10.209079Z",
     "start_time": "2019-05-21T20:48:10.204092Z"
    }
   },
   "outputs": [],
   "source": [
    "bad_review_messages = sentiment_dataFrame[sentiment_dataFrame[\"category\"] == 0][\"message\"]\n",
    "good_review_messages = sentiment_dataFrame[sentiment_dataFrame[\"category\"] == 1][\"message\"]\n",
    "\n",
    "bad_review_words = []\n",
    "good_review_words = []"
   ]
  },
  {
   "cell_type": "code",
   "execution_count": 37,
   "metadata": {
    "ExecuteTime": {
     "end_time": "2019-05-21T20:48:10.608106Z",
     "start_time": "2019-05-21T20:48:10.603120Z"
    }
   },
   "outputs": [],
   "source": [
    "def extract_bad_review_words(badReview):\n",
    "    global bad_review_words\n",
    "    words = [word.lower() for word in word_tokenize(badReview) if word.lower() not in stopwords.words(\"english\") and word.lower().isalpha()]\n",
    "    bad_review_words = bad_review_words + words"
   ]
  },
  {
   "cell_type": "code",
   "execution_count": 38,
   "metadata": {
    "ExecuteTime": {
     "end_time": "2019-05-21T20:48:11.030441Z",
     "start_time": "2019-05-21T20:48:11.024428Z"
    }
   },
   "outputs": [],
   "source": [
    "def extract_good_review_words(goodReview):\n",
    "    global good_review_words\n",
    "    words = [word.lower() for word in word_tokenize(goodReview) if word.lower() not in stopwords.words(\"english\") and word.lower().isalpha()]\n",
    "    good_review_words = good_review_words + words"
   ]
  },
  {
   "cell_type": "code",
   "execution_count": 39,
   "metadata": {
    "ExecuteTime": {
     "end_time": "2019-05-21T20:48:20.362052Z",
     "start_time": "2019-05-21T20:48:12.522798Z"
    }
   },
   "outputs": [
    {
     "data": {
      "text/plain": [
       "1       None\n",
       "2       None\n",
       "4       None\n",
       "7       None\n",
       "10      None\n",
       "11      None\n",
       "13      None\n",
       "15      None\n",
       "17      None\n",
       "18      None\n",
       "21      None\n",
       "23      None\n",
       "25      None\n",
       "26      None\n",
       "31      None\n",
       "34      None\n",
       "36      None\n",
       "38      None\n",
       "40      None\n",
       "42      None\n",
       "44      None\n",
       "45      None\n",
       "48      None\n",
       "51      None\n",
       "52      None\n",
       "53      None\n",
       "54      None\n",
       "55      None\n",
       "57      None\n",
       "58      None\n",
       "        ... \n",
       "2850    None\n",
       "2852    None\n",
       "2853    None\n",
       "2856    None\n",
       "2857    None\n",
       "2860    None\n",
       "2861    None\n",
       "2863    None\n",
       "2864    None\n",
       "2865    None\n",
       "2866    None\n",
       "2867    None\n",
       "2868    None\n",
       "2872    None\n",
       "2873    None\n",
       "2877    None\n",
       "2878    None\n",
       "2882    None\n",
       "2888    None\n",
       "2890    None\n",
       "2891    None\n",
       "2894    None\n",
       "2895    None\n",
       "2896    None\n",
       "2897    None\n",
       "2899    None\n",
       "2901    None\n",
       "2907    None\n",
       "2909    None\n",
       "2922    None\n",
       "Name: message, Length: 1500, dtype: object"
      ]
     },
     "execution_count": 39,
     "metadata": {},
     "output_type": "execute_result"
    }
   ],
   "source": [
    "bad_review_messages.apply(extract_bad_review_words)\n",
    "good_review_messages.apply(extract_good_review_words)"
   ]
  },
  {
   "cell_type": "code",
   "execution_count": 40,
   "metadata": {
    "ExecuteTime": {
     "end_time": "2019-05-21T20:48:20.413889Z",
     "start_time": "2019-05-21T20:48:20.401922Z"
    }
   },
   "outputs": [
    {
     "name": "stdout",
     "output_type": "stream",
     "text": [
      "Top 10 bad review words are :\n",
      "\n"
     ]
    },
    {
     "data": {
      "text/plain": [
       "bad      97\n",
       "movie    94\n",
       "phone    78\n",
       "one      69\n",
       "like     67\n",
       "would    66\n",
       "food     65\n",
       "time     61\n",
       "film     57\n",
       "place    56\n",
       "dtype: int64"
      ]
     },
     "execution_count": 40,
     "metadata": {},
     "output_type": "execute_result"
    }
   ],
   "source": [
    "print(\"Top 10 bad review words are :\\n\")\n",
    "pd.Series(bad_review_words).value_counts().head(n = 10)"
   ]
  },
  {
   "cell_type": "code",
   "execution_count": 41,
   "metadata": {
    "ExecuteTime": {
     "end_time": "2019-05-21T20:48:20.462455Z",
     "start_time": "2019-05-21T20:48:20.453478Z"
    }
   },
   "outputs": [
    {
     "name": "stdout",
     "output_type": "stream",
     "text": [
      "Top 10 good review words are :\n",
      "\n"
     ]
    },
    {
     "data": {
      "text/plain": [
       "great    200\n",
       "good     173\n",
       "film     102\n",
       "phone     87\n",
       "movie     86\n",
       "one       76\n",
       "best      63\n",
       "well      62\n",
       "food      60\n",
       "place     58\n",
       "dtype: int64"
      ]
     },
     "execution_count": 41,
     "metadata": {},
     "output_type": "execute_result"
    }
   ],
   "source": [
    "print(\"Top 10 good review words are :\\n\")\n",
    "pd.Series(good_review_words).value_counts().head(n = 10)"
   ]
  },
  {
   "cell_type": "markdown",
   "metadata": {},
   "source": [
    "# Learning the machine"
   ]
  },
  {
   "cell_type": "markdown",
   "metadata": {},
   "source": [
    "## Spam"
   ]
  },
  {
   "cell_type": "code",
   "execution_count": 51,
   "metadata": {
    "ExecuteTime": {
     "end_time": "2019-05-21T20:04:39.633655Z",
     "start_time": "2019-05-21T19:40:09.032020Z"
    }
   },
   "outputs": [
    {
     "name": "stderr",
     "output_type": "stream",
     "text": [
      "D:\\Anaconda\\lib\\site-packages\\sklearn\\metrics\\classification.py:1143: UndefinedMetricWarning: F-score is ill-defined and being set to 0.0 in labels with no predicted samples.\n",
      "  'precision', 'predicted', average, warn_for)\n",
      "D:\\Anaconda\\lib\\site-packages\\sklearn\\metrics\\classification.py:1143: UndefinedMetricWarning: F-score is ill-defined and being set to 0.0 in labels with no predicted samples.\n",
      "  'precision', 'predicted', average, warn_for)\n",
      "D:\\Anaconda\\lib\\site-packages\\sklearn\\metrics\\classification.py:1143: UndefinedMetricWarning: F-score is ill-defined and being set to 0.0 in labels with no predicted samples.\n",
      "  'precision', 'predicted', average, warn_for)\n",
      "D:\\Anaconda\\lib\\site-packages\\sklearn\\metrics\\classification.py:1143: UndefinedMetricWarning: F-score is ill-defined and being set to 0.0 in labels with no predicted samples.\n",
      "  'precision', 'predicted', average, warn_for)\n",
      "D:\\Anaconda\\lib\\site-packages\\sklearn\\metrics\\classification.py:1143: UndefinedMetricWarning: F-score is ill-defined and being set to 0.0 in labels with no predicted samples.\n",
      "  'precision', 'predicted', average, warn_for)\n",
      "D:\\Anaconda\\lib\\site-packages\\sklearn\\metrics\\classification.py:1143: UndefinedMetricWarning: F-score is ill-defined and being set to 0.0 in labels with no predicted samples.\n",
      "  'precision', 'predicted', average, warn_for)\n",
      "D:\\Anaconda\\lib\\site-packages\\sklearn\\metrics\\classification.py:1143: UndefinedMetricWarning: F-score is ill-defined and being set to 0.0 in labels with no predicted samples.\n",
      "  'precision', 'predicted', average, warn_for)\n",
      "D:\\Anaconda\\lib\\site-packages\\sklearn\\metrics\\classification.py:1143: UndefinedMetricWarning: F-score is ill-defined and being set to 0.0 in labels with no predicted samples.\n",
      "  'precision', 'predicted', average, warn_for)\n",
      "D:\\Anaconda\\lib\\site-packages\\sklearn\\metrics\\classification.py:1143: UndefinedMetricWarning: F-score is ill-defined and being set to 0.0 in labels with no predicted samples.\n",
      "  'precision', 'predicted', average, warn_for)\n",
      "D:\\Anaconda\\lib\\site-packages\\sklearn\\metrics\\classification.py:1143: UndefinedMetricWarning: F-score is ill-defined and being set to 0.0 in labels with no predicted samples.\n",
      "  'precision', 'predicted', average, warn_for)\n",
      "D:\\Anaconda\\lib\\site-packages\\sklearn\\metrics\\classification.py:1143: UndefinedMetricWarning: F-score is ill-defined and being set to 0.0 in labels with no predicted samples.\n",
      "  'precision', 'predicted', average, warn_for)\n",
      "D:\\Anaconda\\lib\\site-packages\\sklearn\\metrics\\classification.py:1143: UndefinedMetricWarning: F-score is ill-defined and being set to 0.0 in labels with no predicted samples.\n",
      "  'precision', 'predicted', average, warn_for)\n",
      "D:\\Anaconda\\lib\\site-packages\\sklearn\\metrics\\classification.py:1143: UndefinedMetricWarning: F-score is ill-defined and being set to 0.0 in labels with no predicted samples.\n",
      "  'precision', 'predicted', average, warn_for)\n",
      "D:\\Anaconda\\lib\\site-packages\\sklearn\\metrics\\classification.py:1143: UndefinedMetricWarning: F-score is ill-defined and being set to 0.0 in labels with no predicted samples.\n",
      "  'precision', 'predicted', average, warn_for)\n",
      "D:\\Anaconda\\lib\\site-packages\\sklearn\\metrics\\classification.py:1143: UndefinedMetricWarning: F-score is ill-defined and being set to 0.0 in labels with no predicted samples.\n",
      "  'precision', 'predicted', average, warn_for)\n",
      "D:\\Anaconda\\lib\\site-packages\\sklearn\\metrics\\classification.py:1143: UndefinedMetricWarning: F-score is ill-defined and being set to 0.0 in labels with no predicted samples.\n",
      "  'precision', 'predicted', average, warn_for)\n",
      "D:\\Anaconda\\lib\\site-packages\\sklearn\\metrics\\classification.py:1143: UndefinedMetricWarning: F-score is ill-defined and being set to 0.0 in labels with no predicted samples.\n",
      "  'precision', 'predicted', average, warn_for)\n",
      "D:\\Anaconda\\lib\\site-packages\\sklearn\\metrics\\classification.py:1143: UndefinedMetricWarning: F-score is ill-defined and being set to 0.0 in labels with no predicted samples.\n",
      "  'precision', 'predicted', average, warn_for)\n",
      "D:\\Anaconda\\lib\\site-packages\\sklearn\\metrics\\classification.py:1143: UndefinedMetricWarning: F-score is ill-defined and being set to 0.0 in labels with no predicted samples.\n",
      "  'precision', 'predicted', average, warn_for)\n",
      "D:\\Anaconda\\lib\\site-packages\\sklearn\\metrics\\classification.py:1143: UndefinedMetricWarning: F-score is ill-defined and being set to 0.0 in labels with no predicted samples.\n",
      "  'precision', 'predicted', average, warn_for)\n",
      "D:\\Anaconda\\lib\\site-packages\\sklearn\\metrics\\classification.py:1143: UndefinedMetricWarning: F-score is ill-defined and being set to 0.0 in labels with no predicted samples.\n",
      "  'precision', 'predicted', average, warn_for)\n",
      "D:\\Anaconda\\lib\\site-packages\\sklearn\\metrics\\classification.py:1143: UndefinedMetricWarning: F-score is ill-defined and being set to 0.0 in labels with no predicted samples.\n",
      "  'precision', 'predicted', average, warn_for)\n"
     ]
    }
   ],
   "source": [
    "search(data_spam_X, data_spam_Y, \"spam\")"
   ]
  },
  {
   "cell_type": "markdown",
   "metadata": {},
   "source": [
    "## Sentiment"
   ]
  },
  {
   "cell_type": "code",
   "execution_count": 52,
   "metadata": {
    "ExecuteTime": {
     "end_time": "2019-05-21T20:20:03.142029Z",
     "start_time": "2019-05-21T20:06:56.124872Z"
    }
   },
   "outputs": [
    {
     "name": "stderr",
     "output_type": "stream",
     "text": [
      "D:\\Anaconda\\lib\\site-packages\\sklearn\\metrics\\classification.py:1143: UndefinedMetricWarning: F-score is ill-defined and being set to 0.0 in labels with no predicted samples.\n",
      "  'precision', 'predicted', average, warn_for)\n",
      "D:\\Anaconda\\lib\\site-packages\\sklearn\\metrics\\classification.py:1143: UndefinedMetricWarning: F-score is ill-defined and being set to 0.0 in labels with no predicted samples.\n",
      "  'precision', 'predicted', average, warn_for)\n",
      "D:\\Anaconda\\lib\\site-packages\\sklearn\\metrics\\classification.py:1143: UndefinedMetricWarning: F-score is ill-defined and being set to 0.0 in labels with no predicted samples.\n",
      "  'precision', 'predicted', average, warn_for)\n",
      "D:\\Anaconda\\lib\\site-packages\\sklearn\\metrics\\classification.py:1143: UndefinedMetricWarning: F-score is ill-defined and being set to 0.0 in labels with no predicted samples.\n",
      "  'precision', 'predicted', average, warn_for)\n",
      "D:\\Anaconda\\lib\\site-packages\\sklearn\\metrics\\classification.py:1143: UndefinedMetricWarning: F-score is ill-defined and being set to 0.0 in labels with no predicted samples.\n",
      "  'precision', 'predicted', average, warn_for)\n",
      "D:\\Anaconda\\lib\\site-packages\\sklearn\\metrics\\classification.py:1143: UndefinedMetricWarning: F-score is ill-defined and being set to 0.0 in labels with no predicted samples.\n",
      "  'precision', 'predicted', average, warn_for)\n",
      "D:\\Anaconda\\lib\\site-packages\\sklearn\\metrics\\classification.py:1143: UndefinedMetricWarning: F-score is ill-defined and being set to 0.0 in labels with no predicted samples.\n",
      "  'precision', 'predicted', average, warn_for)\n",
      "D:\\Anaconda\\lib\\site-packages\\sklearn\\metrics\\classification.py:1143: UndefinedMetricWarning: F-score is ill-defined and being set to 0.0 in labels with no predicted samples.\n",
      "  'precision', 'predicted', average, warn_for)\n",
      "D:\\Anaconda\\lib\\site-packages\\sklearn\\metrics\\classification.py:1143: UndefinedMetricWarning: F-score is ill-defined and being set to 0.0 in labels with no predicted samples.\n",
      "  'precision', 'predicted', average, warn_for)\n",
      "D:\\Anaconda\\lib\\site-packages\\sklearn\\metrics\\classification.py:1143: UndefinedMetricWarning: F-score is ill-defined and being set to 0.0 in labels with no predicted samples.\n",
      "  'precision', 'predicted', average, warn_for)\n",
      "D:\\Anaconda\\lib\\site-packages\\sklearn\\metrics\\classification.py:1143: UndefinedMetricWarning: F-score is ill-defined and being set to 0.0 in labels with no predicted samples.\n",
      "  'precision', 'predicted', average, warn_for)\n",
      "D:\\Anaconda\\lib\\site-packages\\sklearn\\metrics\\classification.py:1143: UndefinedMetricWarning: F-score is ill-defined and being set to 0.0 in labels with no predicted samples.\n",
      "  'precision', 'predicted', average, warn_for)\n",
      "D:\\Anaconda\\lib\\site-packages\\sklearn\\metrics\\classification.py:1143: UndefinedMetricWarning: F-score is ill-defined and being set to 0.0 in labels with no predicted samples.\n",
      "  'precision', 'predicted', average, warn_for)\n",
      "D:\\Anaconda\\lib\\site-packages\\sklearn\\metrics\\classification.py:1143: UndefinedMetricWarning: F-score is ill-defined and being set to 0.0 in labels with no predicted samples.\n",
      "  'precision', 'predicted', average, warn_for)\n",
      "D:\\Anaconda\\lib\\site-packages\\sklearn\\metrics\\classification.py:1143: UndefinedMetricWarning: F-score is ill-defined and being set to 0.0 in labels with no predicted samples.\n",
      "  'precision', 'predicted', average, warn_for)\n",
      "D:\\Anaconda\\lib\\site-packages\\sklearn\\metrics\\classification.py:1143: UndefinedMetricWarning: F-score is ill-defined and being set to 0.0 in labels with no predicted samples.\n",
      "  'precision', 'predicted', average, warn_for)\n"
     ]
    }
   ],
   "source": [
    "search(data_sentiment_X, data_sentiment_Y, \"sentiment\")"
   ]
  },
  {
   "cell_type": "markdown",
   "metadata": {},
   "source": [
    "# Documentation Of Data Sets"
   ]
  },
  {
   "cell_type": "markdown",
   "metadata": {},
   "source": [
    "## Spam"
   ]
  },
  {
   "cell_type": "code",
   "execution_count": null,
   "metadata": {},
   "outputs": [],
   "source": [
    "'''\n",
    "Scopul acestui set de date este de a afla daca un text este sau nu spam.\n",
    "Informatiile data-setului au fost preluate de la surse de cercetare gratuite, printre care se enumera urmatoarele:\n",
    "[1] GÃ³mez Hidalgo, J.M., Cajigas Bringas, G., Puertas Sanz, E., Carrero GarcÃ­a, F. Content Based SMS Spam Filtering.\n",
    "    Proceedings of the 2006 ACM Symposium on Document Engineering (ACM DOCENG'06),\n",
    "    Amsterdam, The Netherlands, 10-13,2006. \n",
    "[2] Cormack, G. V., GÃ³mez Hidalgo, J. M., and Puertas SÃ¡nz, E. Feature engineering for mobile (SMS) spam filtering.\n",
    "    Proceedings of the 30th Annual international ACM Conference on Research and Development in information Retrieval\n",
    "    (ACM SIGIR'07), New York, NY, 871-872, 2007. \n",
    "[3] Cormack, G. V., GÃ³mez Hidalgo, J. M., and Puertas SÃ¡nz, E. Spam filtering for short messages. \n",
    "    Proceedings of the 16th ACM Conference on Information and Knowledge Management (ACM CIKM'07).\n",
    "    Lisbon, Portugal, 313-320, 2007.\n",
    "Setul contine clasa la inceput (0 daca este spam , altfel 1), dupa care e acompaniat de un text care reprezinta emailul.\n",
    "'''"
   ]
  },
  {
   "cell_type": "markdown",
   "metadata": {},
   "source": [
    "## Sentiment"
   ]
  },
  {
   "cell_type": "code",
   "execution_count": null,
   "metadata": {},
   "outputs": [],
   "source": [
    "'''\n",
    "Informatiile de la acest set de date sunt preluate de la 'From Group to Individual Labels using Deep Features', \n",
    "Kotzias et. al,. KDD 2015.\n",
    "Setul de date contine o recenzie facuta la un film , produs etc si un scor pozitiv sau negativ, \n",
    "care arata sentimentul pozitiv sau negativ al textului, atasat fiecaruia.\n",
    "Problema setului de date este de a afla daca un text are o recenzie buna sau proasta. (\"sentimentul utilizatorului\")\n",
    "'''"
   ]
  }
 ],
 "metadata": {
  "kernelspec": {
   "display_name": "Python 3",
   "language": "python",
   "name": "python3"
  },
  "language_info": {
   "codemirror_mode": {
    "name": "ipython",
    "version": 3
   },
   "file_extension": ".py",
   "mimetype": "text/x-python",
   "name": "python",
   "nbconvert_exporter": "python",
   "pygments_lexer": "ipython3",
   "version": "3.7.2"
  },
  "toc": {
   "base_numbering": 1,
   "nav_menu": {},
   "number_sections": true,
   "sideBar": true,
   "skip_h1_title": false,
   "title_cell": "Table of Contents",
   "title_sidebar": "Contents",
   "toc_cell": false,
   "toc_position": {
    "height": "calc(100% - 180px)",
    "left": "10px",
    "top": "150px",
    "width": "352px"
   },
   "toc_section_display": true,
   "toc_window_display": true
  },
  "varInspector": {
   "cols": {
    "lenName": 16,
    "lenType": 16,
    "lenVar": 40
   },
   "kernels_config": {
    "python": {
     "delete_cmd_postfix": "",
     "delete_cmd_prefix": "del ",
     "library": "var_list.py",
     "varRefreshCmd": "print(var_dic_list())"
    },
    "r": {
     "delete_cmd_postfix": ") ",
     "delete_cmd_prefix": "rm(",
     "library": "var_list.r",
     "varRefreshCmd": "cat(var_dic_list()) "
    }
   },
   "types_to_exclude": [
    "module",
    "function",
    "builtin_function_or_method",
    "instance",
    "_Feature"
   ],
   "window_display": false
  }
 },
 "nbformat": 4,
 "nbformat_minor": 2
}
