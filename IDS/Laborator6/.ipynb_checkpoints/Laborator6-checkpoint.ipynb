{
 "cells": [
  {
   "cell_type": "markdown",
   "metadata": {},
   "source": [
    "# Laborator 6"
   ]
  },
  {
   "cell_type": "markdown",
   "metadata": {},
   "source": [
    "## Modele de clasificare\n",
    "\n",
    "Folositi urmatoarele seturi de date:\n",
    "1. [Semeion Handwritten Digit Data Set](http://archive.ics.uci.edu/ml/datasets/Semeion+Handwritten+Digit)\n",
    "1. [Wireless Indoor Localization Data Set](http://archive.ics.uci.edu/ml/datasets/Wireless+Indoor+Localization)\n",
    "1. [Spambase Data Set](http://archive.ics.uci.edu/ml/datasets/Spambase)\n",
    "1. [Smartphone Dataset for Human Activity Recognition (HAR) in Ambient Assisted Living (AAL) Data Set ](http://archive.ics.uci.edu/ml/datasets/Smartphone+Dataset+for+Human+Activity+Recognition+%28HAR%29+in+Ambient+Assisted+Living+%28AAL%29)\n",
    "\n",
    "plus inca doua seturi de date de clasificare alese de voi, din repository-urile specificate in Cursul 4. \n",
    "\n",
    "1. Daca e necesar, aplicati o metoda de missing value imputation sau eliminati inregistrarile/coloanele care au valori lipsa; documentati metoda folosita.\n",
    "1. Pentru fiecare set de date aplicati 5 modele de clasificare din scikit learn. Pentru fiecare raportati: acuratete, scor F1 - a se vedea [sklearn.metrics](http://scikit-learn.org/stable/modules/classes.html#module-sklearn.metrics) folosind 5 fold cross validation. Raportati mediile rezultatelor atat pentru fold-urile de antrenare, cat si pentru cele de testare. Revedeti formele ulterioare ale acestui document pentru precizari despre: continutul rezultatelor raportate, modalitate de notare. \n",
    "1. Documentati in jupyter notebook fiecare din modelele folosite, in limba romana. Puteti face o sectiune o sectiune separata cu documentarea algoritmilor + trimitere la algoritm. \n",
    "1. Pentru fiecare model: efectuati o cautare a hiperparametrilor optimi folosind grid search si random search.\n",
    "\n",
    "Exemple de modele de clasificare:\n",
    "1. [Multi-layer Perceptron classifier](https://scikit-learn.org/stable/modules/generated/sklearn.neural_network.MLPClassifier.html#sklearn.neural_network.MLPClassifier)\n",
    "1. [KNN](https://scikit-learn.org/stable/modules/generated/sklearn.neighbors.KNeighborsClassifier.html#sklearn.neighbors.KNeighborsClassifier)\n",
    "1. [SVM](https://scikit-learn.org/stable/modules/generated/sklearn.svm.SVC.html#sklearn.svm.SVC)\n",
    "1. [Gaussian processes](https://scikit-learn.org/stable/modules/generated/sklearn.gaussian_process.GaussianProcessClassifier.html#sklearn.gaussian_process.GaussianProcessClassifier)\n",
    "1. [RBF](https://scikit-learn.org/stable/modules/generated/sklearn.gaussian_process.kernels.RBF.html#sklearn.gaussian_process.kernels.RBF)\n",
    "1. [Decision tree](https://scikit-learn.org/stable/modules/generated/sklearn.tree.DecisionTreeClassifier.html#sklearn.tree.DecisionTreeClassifier)\n",
    "1. [Random forest](https://scikit-learn.org/stable/modules/generated/sklearn.ensemble.RandomForestClassifier.html#sklearn.ensemble.RandomForestClassifier)\n",
    "1. [Gaussian Naive bayes](https://scikit-learn.org/stable/modules/generated/sklearn.naive_bayes.GaussianNB.html#sklearn.naive_bayes.GaussianNB) \n",
    "\n",
    "Pentru fiecare set de date raportati rezultalele obtinute de fiecare model. "
   ]
  },
  {
   "cell_type": "markdown",
   "metadata": {},
   "source": [
    "*Predare:* laboratorul va fi salvat in repository-ul de github si predat in saptamana 15-19 aprilie."
   ]
  },
  {
   "cell_type": "code",
   "execution_count": 1,
   "metadata": {
    "ExecuteTime": {
     "end_time": "2019-04-24T05:22:43.526197Z",
     "start_time": "2019-04-24T05:22:38.220290Z"
    }
   },
   "outputs": [
    {
     "name": "stdout",
     "output_type": "stream",
     "text": [
      "Pandas version: 0.24.1\n"
     ]
    }
   ],
   "source": [
    "import pandas as pd\n",
    "import numpy as np\n",
    "from sklearn.neighbors import KNeighborsClassifier\n",
    "import sklearn\n",
    "from sklearn.model_selection import train_test_split, GridSearchCV, RandomizedSearchCV\n",
    "from sklearn.gaussian_process.kernels import RBF, ConstantKernel as C\n",
    "from sklearn import metrics\n",
    "from sklearn.model_selection import cross_val_score\n",
    "from sklearn.neural_network import MLPClassifier\n",
    "from sklearn.linear_model import LogisticRegression\n",
    "from sklearn.svm import SVC\n",
    "from sklearn.gaussian_process import GaussianProcessClassifier\n",
    "\n",
    "print('Pandas version:', pd.__version__) #Pandas version: 0.23.4"
   ]
  },
  {
   "cell_type": "markdown",
   "metadata": {},
   "source": [
    "## Efectuati o cautare a hiperparametrilor optimi folosind grid search si random search."
   ]
  },
  {
   "cell_type": "markdown",
   "metadata": {},
   "source": [
    "### KNeighborsClassifier"
   ]
  },
  {
   "cell_type": "code",
   "execution_count": 30,
   "metadata": {
    "ExecuteTime": {
     "end_time": "2019-04-24T07:08:36.138523Z",
     "start_time": "2019-04-24T07:08:36.107286Z"
    }
   },
   "outputs": [],
   "source": [
    "def search_knn(x_train, y_train, x_test, y_test):\n",
    "    parameter = {'n_neighbors': list(range(1, 10)), 'p': [1, 2, 3, 4.7]}\n",
    "    \n",
    "    grid_search = GridSearchCV(estimator = KNeighborsClassifier(), param_grid = parameter, scoring='accuracy', cv=5, \n",
    "                           return_train_score=True, iid=False)\n",
    "    \n",
    "    grid_search_f1 = GridSearchCV(estimator = KNeighborsClassifier(), param_grid = parameter, scoring='f1_micro', cv=5, \n",
    "                           return_train_score=True, iid=False)\n",
    "    \n",
    "    grid_search.fit(x_train, y_train)\n",
    "    grid_search_f1.fit(x_train, y_train)\n",
    "    \n",
    "    y_estimated = grid_search.predict(x_test)\n",
    "    result_grid_search_acc = metrics.accuracy_score(y_test, y_estimated)\n",
    "    print(f\"KNN Grid Search accuracy Test: {result_grid_search_acc}\")\n",
    "    y_estimated_train = grid_search.predict(x_train)\n",
    "    result_train_grid_search_acc = metrics.accuracy_score(y_train, y_estimated_train)\n",
    "    print(f\"KNN Grid Search accuracy Train: {result_train_grid_search_acc}\")\n",
    "    y_estimated_f1 = grid_search.predict(x_test)\n",
    "    result_grid_search_f1 = metrics.f1_score(y_test, y_estimated_f1, average='micro')\n",
    "    print(f\"KNN Grid Search accuracy f1 Test: {result_grid_search_f1}\")\n",
    "    y_estimated_f1_train = grid_search.predict(x_train)\n",
    "    result_train_grid_search_f1 = metrics.f1_score(y_train, y_estimated_f1_train, average='micro')\n",
    "    print(f\"KNN Grid Search accuracy f1 Train: {result_train_grid_search_f1}\")\n",
    "    \n",
    "        \n",
    "    randomize_search = RandomizedSearchCV(estimator = KNeighborsClassifier(), param_distributions = parameter, scoring='accuracy', \n",
    "                                     cv=5, return_train_score=True, iid=False)\n",
    "    randomize_search_f1 = RandomizedSearchCV(estimator = KNeighborsClassifier(), param_distributions = parameter, scoring='f1_micro', \n",
    "                                     cv=5, return_train_score=True, iid=False)\n",
    "    \n",
    "    randomize_search.fit(x_train, y_train)\n",
    "    randomize_search_f1.fit(x_train, y_train)\n",
    "    \n",
    "    y_estimated = randomize_search.predict(x_test)\n",
    "    result_random_acc = metrics.accuracy_score(y_test, y_estimated)\n",
    "    print(f\"KNN Random Search accuracy: {result_random_acc}\")\n",
    "    y_estimated_train = randomize_search.predict(x_train)\n",
    "    result_train_random_acc = metrics.accuracy_score(y_train, y_estimated_train)\n",
    "    print(f\"KNN Random Search accuracy: {result_train_random_acc}\")\n",
    "    y_estimated_f1 = randomize_search.predict(x_test)\n",
    "    result_random_f1 = metrics.f1_score(y_test, y_estimated_f1, average='micro')\n",
    "    print(f\"KNN Random Searchf1: {result_random_f1}\")\n",
    "    y_estimated_f1_train = randomize_search.predict(x_train)\n",
    "    result_train_random_f1 = metrics.f1_score(y_train, y_estimated_f1_train, average='micro')\n",
    "    print(f\"KNN Random Searchf1: {result_train_random_f1}\")\n",
    "    \n",
    "    data = np.array([['KNeighborsClassifier', 'Grid', grid_search.get_params(), result_train_grid_search_acc ,result_grid_search_acc, grid_search_f1.get_params(), result_train_grid_search_f1, result_grid_search_f1], ['KNeighborsClassifier', 'Random', randomize_search.get_params(), result_train_random_acc ,result_random_acc, randomize_search_f1.get_params(), result_random_f1, result_train_random_f1]])\n",
    "    \n",
    "    print(data)\n",
    "    \n",
    "    data_frame = pd.DataFrame(data, columns=['Model', 'Search', 'Params', 'Train Acc', 'Test Acc', 'Params f1', 'Train', 'Test'])\n",
    "    data_frame.head()\n",
    "    print(data_frame)\n",
    "    return data_frame"
   ]
  },
  {
   "cell_type": "markdown",
   "metadata": {},
   "source": [
    "### Multi-layer Perceptron classifier"
   ]
  },
  {
   "cell_type": "code",
   "execution_count": 146,
   "metadata": {},
   "outputs": [],
   "source": [
    "def search_mlpc(x_train, y_train, x_test, y_test):\n",
    "    parameter = {'alpha' : list([0.001, 0.0001, 0.01, 0.005, 0.0005, 0.05])}\n",
    "    \n",
    "    grid_search = GridSearchCV(estimator = MLPClassifier(), param_grid = parameter, scoring='accuracy', cv=5, \n",
    "                           return_train_score=True, iid=False)\n",
    "    grid_search.fit(x_train, y_train)\n",
    "    \n",
    "    y_estimated = grid_search.predict(x_test)\n",
    "    print(f\"KNN Grid Search accuracy: {metrics.accuracy_score(y_test, y_estimated)}\")\n",
    "\n",
    "    randomize_search = RandomizedSearchCV(estimator = MLPClassifier(), param_distributions = parameter, scoring='accuracy', \n",
    "                                     cv=5, return_train_score=True, iid=False)\n",
    "    randomize_search.fit(x_train, y_train)\n",
    "    \n",
    "    y_estimated = randomize_search.predict(x_test)\n",
    "    print(f\"KNN Random Search accuracy: {metrics.accuracy_score(y_test, y_estimated)}\")"
   ]
  },
  {
   "cell_type": "markdown",
   "metadata": {},
   "source": [
    "### Logistic Regression"
   ]
  },
  {
   "cell_type": "code",
   "execution_count": 147,
   "metadata": {},
   "outputs": [],
   "source": [
    "def search_logistic_reg(x_train, y_train, x_test, y_test):\n",
    "    parameter = {'solver': ['liblinear'], 'multi_class' : ['auto'],  'C': list([0.1, 0.2, 0.3, 0.5, 0.7, 1.0])}\n",
    "    \n",
    "    grid_search = GridSearchCV(estimator = LogisticRegression(), param_grid = parameter, scoring='accuracy', cv=5, \n",
    "                           return_train_score=True, iid=False)\n",
    "    grid_search.fit(x_train, y_train)\n",
    "    \n",
    "    y_estimated = grid_search.predict(x_test)\n",
    "    print(f\"KNN Grid Search accuracy: {metrics.accuracy_score(y_test, y_estimated)}\")\n",
    "\n",
    "    randomize_search = RandomizedSearchCV(estimator = LogisticRegression(), param_distributions = parameter, scoring='accuracy', \n",
    "                                     cv=5, return_train_score=True, iid=False)\n",
    "    randomize_search.fit(x_train, y_train)\n",
    "    \n",
    "    y_estimated = randomize_search.predict(x_test)\n",
    "    print(f\"KNN Random Search accuracy: {metrics.accuracy_score(y_test, y_estimated)}\")"
   ]
  },
  {
   "cell_type": "markdown",
   "metadata": {},
   "source": [
    "### SVC"
   ]
  },
  {
   "cell_type": "code",
   "execution_count": 148,
   "metadata": {},
   "outputs": [],
   "source": [
    "def search_svc(x_train, y_train, x_test, y_test):\n",
    "    parameter =  {'gamma' : ['scale'], 'C': list([0.1, 0.2, 0.3, 0.5, 0.7, 1.0, 2.0, 3.0, 4.0, 5.0, 10.0])}\n",
    "    \n",
    "    grid_search = GridSearchCV(estimator = SVC(), param_grid = parameter, scoring='accuracy', cv=5, \n",
    "                           return_train_score=True, iid=False)\n",
    "    grid_search.fit(x_train, y_train)\n",
    "    \n",
    "    y_estimated = grid_search.predict(x_test)\n",
    "    print(f\"KNN Grid Search accuracy: {metrics.accuracy_score(y_test, y_estimated)}\")\n",
    "\n",
    "    randomize_search = RandomizedSearchCV(estimator = SVC(), param_distributions = parameter, scoring='accuracy', \n",
    "                                     cv=5, return_train_score=True, iid=False)\n",
    "    randomize_search.fit(x_train, y_train)\n",
    "    \n",
    "    y_estimated = randomize_search.predict(x_test)\n",
    "    print(f\"KNN Random Search accuracy: {metrics.accuracy_score(y_test, y_estimated)}\")"
   ]
  },
  {
   "cell_type": "markdown",
   "metadata": {},
   "source": [
    "### Gaussian Process"
   ]
  },
  {
   "cell_type": "code",
   "execution_count": 149,
   "metadata": {},
   "outputs": [],
   "source": [
    "def search_gaussian(x_train, y_train, x_test, y_test):\n",
    "    parameter = {'kernel' : [ \n",
    "        RBF(length_scale=0.1)\n",
    "        ,RBF(length_scale=1.0, length_scale_bounds=(1e-3, 1e3))\n",
    "        ,C(1.0, (1e-2, 1e2)) * RBF(length_scale=1.0, length_scale_bounds=(1e-3, 1e3))]}\n",
    "    \n",
    "    grid_search = GridSearchCV(estimator = GaussianProcessClassifier(), param_grid = parameter, scoring='accuracy', cv=5, \n",
    "                           return_train_score=True, iid=False)\n",
    "    grid_search.fit(x_train, y_train)\n",
    "    \n",
    "    y_estimated = grid_search.predict(x_test)\n",
    "    print(f\"KNN Grid Search accuracy: {metrics.accuracy_score(y_test, y_estimated)}\")\n",
    "\n",
    "    randomize_search = RandomizedSearchCV(estimator = GaussianProcessClassifier(), param_distributions = parameter, scoring='accuracy', \n",
    "                                     cv=5, return_train_score=True, iid=False)\n",
    "    randomize_search.fit(x_train, y_train)\n",
    "    \n",
    "    y_estimated = randomize_search.predict(x_test)\n",
    "    print(f\"KNN Random Search accuracy: {metrics.accuracy_score(y_test, y_estimated)}\")"
   ]
  },
  {
   "cell_type": "markdown",
   "metadata": {
    "ExecuteTime": {
     "end_time": "2019-04-13T12:31:43.878896Z",
     "start_time": "2019-04-13T12:31:43.873910Z"
    }
   },
   "source": [
    "## [Semeion Handwritten Digit Data Set](http://archive.ics.uci.edu/ml/datasets/Semeion+Handwritten+Digit)"
   ]
  },
  {
   "cell_type": "code",
   "execution_count": 4,
   "metadata": {
    "ExecuteTime": {
     "end_time": "2019-04-24T05:36:12.120078Z",
     "start_time": "2019-04-24T05:36:11.885689Z"
    }
   },
   "outputs": [
    {
     "data": {
      "text/html": [
       "<div>\n",
       "<style scoped>\n",
       "    .dataframe tbody tr th:only-of-type {\n",
       "        vertical-align: middle;\n",
       "    }\n",
       "\n",
       "    .dataframe tbody tr th {\n",
       "        vertical-align: top;\n",
       "    }\n",
       "\n",
       "    .dataframe thead th {\n",
       "        text-align: right;\n",
       "    }\n",
       "</style>\n",
       "<table border=\"1\" class=\"dataframe\">\n",
       "  <thead>\n",
       "    <tr style=\"text-align: right;\">\n",
       "      <th></th>\n",
       "      <th>0</th>\n",
       "      <th>1</th>\n",
       "      <th>2</th>\n",
       "      <th>3</th>\n",
       "      <th>4</th>\n",
       "      <th>5</th>\n",
       "      <th>6</th>\n",
       "      <th>7</th>\n",
       "      <th>8</th>\n",
       "      <th>9</th>\n",
       "      <th>...</th>\n",
       "      <th>256</th>\n",
       "      <th>257</th>\n",
       "      <th>258</th>\n",
       "      <th>259</th>\n",
       "      <th>260</th>\n",
       "      <th>261</th>\n",
       "      <th>262</th>\n",
       "      <th>263</th>\n",
       "      <th>264</th>\n",
       "      <th>265</th>\n",
       "    </tr>\n",
       "  </thead>\n",
       "  <tbody>\n",
       "    <tr>\n",
       "      <th>0</th>\n",
       "      <td>0.0</td>\n",
       "      <td>0.0</td>\n",
       "      <td>0.0</td>\n",
       "      <td>0.0</td>\n",
       "      <td>0.0</td>\n",
       "      <td>0.0</td>\n",
       "      <td>1.0</td>\n",
       "      <td>1.0</td>\n",
       "      <td>1.0</td>\n",
       "      <td>1.0</td>\n",
       "      <td>...</td>\n",
       "      <td>1</td>\n",
       "      <td>0</td>\n",
       "      <td>0</td>\n",
       "      <td>0</td>\n",
       "      <td>0</td>\n",
       "      <td>0</td>\n",
       "      <td>0</td>\n",
       "      <td>0</td>\n",
       "      <td>0</td>\n",
       "      <td>0</td>\n",
       "    </tr>\n",
       "    <tr>\n",
       "      <th>1</th>\n",
       "      <td>0.0</td>\n",
       "      <td>0.0</td>\n",
       "      <td>0.0</td>\n",
       "      <td>0.0</td>\n",
       "      <td>0.0</td>\n",
       "      <td>1.0</td>\n",
       "      <td>1.0</td>\n",
       "      <td>1.0</td>\n",
       "      <td>1.0</td>\n",
       "      <td>1.0</td>\n",
       "      <td>...</td>\n",
       "      <td>1</td>\n",
       "      <td>0</td>\n",
       "      <td>0</td>\n",
       "      <td>0</td>\n",
       "      <td>0</td>\n",
       "      <td>0</td>\n",
       "      <td>0</td>\n",
       "      <td>0</td>\n",
       "      <td>0</td>\n",
       "      <td>0</td>\n",
       "    </tr>\n",
       "    <tr>\n",
       "      <th>2</th>\n",
       "      <td>0.0</td>\n",
       "      <td>0.0</td>\n",
       "      <td>0.0</td>\n",
       "      <td>0.0</td>\n",
       "      <td>0.0</td>\n",
       "      <td>0.0</td>\n",
       "      <td>0.0</td>\n",
       "      <td>0.0</td>\n",
       "      <td>0.0</td>\n",
       "      <td>1.0</td>\n",
       "      <td>...</td>\n",
       "      <td>1</td>\n",
       "      <td>0</td>\n",
       "      <td>0</td>\n",
       "      <td>0</td>\n",
       "      <td>0</td>\n",
       "      <td>0</td>\n",
       "      <td>0</td>\n",
       "      <td>0</td>\n",
       "      <td>0</td>\n",
       "      <td>0</td>\n",
       "    </tr>\n",
       "    <tr>\n",
       "      <th>3</th>\n",
       "      <td>0.0</td>\n",
       "      <td>0.0</td>\n",
       "      <td>0.0</td>\n",
       "      <td>0.0</td>\n",
       "      <td>0.0</td>\n",
       "      <td>0.0</td>\n",
       "      <td>1.0</td>\n",
       "      <td>1.0</td>\n",
       "      <td>1.0</td>\n",
       "      <td>1.0</td>\n",
       "      <td>...</td>\n",
       "      <td>1</td>\n",
       "      <td>0</td>\n",
       "      <td>0</td>\n",
       "      <td>0</td>\n",
       "      <td>0</td>\n",
       "      <td>0</td>\n",
       "      <td>0</td>\n",
       "      <td>0</td>\n",
       "      <td>0</td>\n",
       "      <td>0</td>\n",
       "    </tr>\n",
       "    <tr>\n",
       "      <th>4</th>\n",
       "      <td>0.0</td>\n",
       "      <td>0.0</td>\n",
       "      <td>0.0</td>\n",
       "      <td>0.0</td>\n",
       "      <td>0.0</td>\n",
       "      <td>0.0</td>\n",
       "      <td>0.0</td>\n",
       "      <td>0.0</td>\n",
       "      <td>0.0</td>\n",
       "      <td>1.0</td>\n",
       "      <td>...</td>\n",
       "      <td>1</td>\n",
       "      <td>0</td>\n",
       "      <td>0</td>\n",
       "      <td>0</td>\n",
       "      <td>0</td>\n",
       "      <td>0</td>\n",
       "      <td>0</td>\n",
       "      <td>0</td>\n",
       "      <td>0</td>\n",
       "      <td>0</td>\n",
       "    </tr>\n",
       "  </tbody>\n",
       "</table>\n",
       "<p>5 rows × 266 columns</p>\n",
       "</div>"
      ],
      "text/plain": [
       "   0    1    2    3    4    5    6    7    8    9    ...  256  257  258  259  \\\n",
       "0  0.0  0.0  0.0  0.0  0.0  0.0  1.0  1.0  1.0  1.0  ...    1    0    0    0   \n",
       "1  0.0  0.0  0.0  0.0  0.0  1.0  1.0  1.0  1.0  1.0  ...    1    0    0    0   \n",
       "2  0.0  0.0  0.0  0.0  0.0  0.0  0.0  0.0  0.0  1.0  ...    1    0    0    0   \n",
       "3  0.0  0.0  0.0  0.0  0.0  0.0  1.0  1.0  1.0  1.0  ...    1    0    0    0   \n",
       "4  0.0  0.0  0.0  0.0  0.0  0.0  0.0  0.0  0.0  1.0  ...    1    0    0    0   \n",
       "\n",
       "   260  261  262  263  264  265  \n",
       "0    0    0    0    0    0    0  \n",
       "1    0    0    0    0    0    0  \n",
       "2    0    0    0    0    0    0  \n",
       "3    0    0    0    0    0    0  \n",
       "4    0    0    0    0    0    0  \n",
       "\n",
       "[5 rows x 266 columns]"
      ]
     },
     "execution_count": 4,
     "metadata": {},
     "output_type": "execute_result"
    }
   ],
   "source": [
    "semeion_df = pd.read_csv('data/semeion.data', sep=r'\\s+', header=None)\n",
    "semeion_df.head()"
   ]
  },
  {
   "cell_type": "code",
   "execution_count": 5,
   "metadata": {
    "ExecuteTime": {
     "end_time": "2019-04-24T05:36:13.588702Z",
     "start_time": "2019-04-24T05:36:13.557444Z"
    }
   },
   "outputs": [
    {
     "name": "stdout",
     "output_type": "stream",
     "text": [
      "<class 'pandas.core.frame.DataFrame'>\n",
      "RangeIndex: 1593 entries, 0 to 1592\n",
      "Columns: 266 entries, 0 to 265\n",
      "dtypes: float64(256), int64(10)\n",
      "memory usage: 3.2 MB\n"
     ]
    }
   ],
   "source": [
    "semeion_df.info()"
   ]
  },
  {
   "cell_type": "code",
   "execution_count": 6,
   "metadata": {
    "ExecuteTime": {
     "end_time": "2019-04-24T05:36:13.760549Z",
     "start_time": "2019-04-24T05:36:13.698067Z"
    }
   },
   "outputs": [
    {
     "name": "stdout",
     "output_type": "stream",
     "text": [
      "(1593,) (1593, 256)\n"
     ]
    }
   ],
   "source": [
    "X_semeion = semeion_df.values[:, :256]\n",
    "y_semeion = semeion_df.values[:, 256:]\n",
    "y_semeion = np.argmax(y_semeion, axis=1)\n",
    "print(y_semeion.shape, X_semeion.shape)"
   ]
  },
  {
   "cell_type": "code",
   "execution_count": 7,
   "metadata": {
    "ExecuteTime": {
     "end_time": "2019-04-24T05:36:13.916789Z",
     "start_time": "2019-04-24T05:36:13.854292Z"
    }
   },
   "outputs": [
    {
     "name": "stdout",
     "output_type": "stream",
     "text": [
      "(1062, 256) (531, 256) (1062,) (531,)\n"
     ]
    }
   ],
   "source": [
    "X_semeion_train, X_semeion_test, y_semeion_train, y_semeion_test = \\\n",
    "    train_test_split(X_semeion, y_semeion, test_size=1/3, random_state=5)\n",
    "print(X_semeion_train.shape, X_semeion_test.shape, y_semeion_train.shape, y_semeion_test.shape)"
   ]
  },
  {
   "cell_type": "markdown",
   "metadata": {},
   "source": [
    "### KNeighborsClassifier"
   ]
  },
  {
   "cell_type": "code",
   "execution_count": 8,
   "metadata": {
    "ExecuteTime": {
     "end_time": "2019-04-24T05:36:21.917126Z",
     "start_time": "2019-04-24T05:36:21.870258Z"
    }
   },
   "outputs": [
    {
     "data": {
      "text/plain": [
       "KNeighborsClassifier(algorithm='auto', leaf_size=30, metric='minkowski',\n",
       "           metric_params=None, n_jobs=None, n_neighbors=5, p=2,\n",
       "           weights='uniform')"
      ]
     },
     "execution_count": 8,
     "metadata": {},
     "output_type": "execute_result"
    }
   ],
   "source": [
    "model_semeion_KNN = KNeighborsClassifier(n_neighbors=5)\n",
    "model_semeion_KNN.fit(X_semeion_train, y_semeion_train)"
   ]
  },
  {
   "cell_type": "code",
   "execution_count": 9,
   "metadata": {
    "ExecuteTime": {
     "end_time": "2019-04-24T05:36:22.385884Z",
     "start_time": "2019-04-24T05:36:22.042132Z"
    }
   },
   "outputs": [],
   "source": [
    "y_semeion_predicted_KNN = model_semeion_KNN.predict(X_semeion_test)"
   ]
  },
  {
   "cell_type": "code",
   "execution_count": 10,
   "metadata": {
    "ExecuteTime": {
     "end_time": "2019-04-24T05:36:22.479584Z",
     "start_time": "2019-04-24T05:36:22.448339Z"
    }
   },
   "outputs": [
    {
     "name": "stdout",
     "output_type": "stream",
     "text": [
      "Acuratete: 0.9077212806026366\n"
     ]
    }
   ],
   "source": [
    "print('Acuratete:', metrics.accuracy_score(y_semeion_test, y_semeion_predicted_KNN))"
   ]
  },
  {
   "cell_type": "code",
   "execution_count": 11,
   "metadata": {
    "ExecuteTime": {
     "end_time": "2019-04-24T05:36:24.901297Z",
     "start_time": "2019-04-24T05:36:22.932677Z"
    }
   },
   "outputs": [
    {
     "name": "stdout",
     "output_type": "stream",
     "text": [
      "Scores cross val: [0.90092879 0.8875     0.92476489 0.92744479 0.87579618], Scores cross val Mean: 0.9032869312296843\n",
      "Scores f1: 0.9060284292322865\n",
      "Scores cross val train: [0.88990826 0.90697674 0.89099526 0.88038278 0.85645933], Scores cross val Mean: 0.8849444733986891\n",
      "Scores cross val test: [0.81981982 0.90740741 0.82075472 0.875      0.82352941], Scores cross val Mean: 0.849302271194613\n",
      "Scores cross val train f1: [0.88992493 0.90396924 0.88893042 0.87191494 0.85047784], Scores cross val Mean: 0.8810434741047176\n",
      "Scores cross val test f1: [0.81535902 0.91188424 0.81855499 0.8731071  0.81318477], Scores cross val Mean: 0.8464180237854506\n"
     ]
    }
   ],
   "source": [
    "scores_semeion_KNN_cross_val = cross_val_score(model_semeion_KNN, X_semeion, y_semeion, cv=5, scoring='accuracy')\n",
    "scores_semeion_KNN_f1 = metrics.f1_score(y_semeion_test, y_semeion_predicted_KNN, average='weighted')\n",
    "print(f'Scores cross val: {scores_semeion_KNN_cross_val}, Scores cross val Mean: {scores_semeion_KNN_cross_val.mean()}')\n",
    "print(f'Scores f1: {scores_semeion_KNN_f1}')\n",
    "\n",
    "scores_semeion_KNN_cross_val_train = cross_val_score(model_semeion_KNN, X_semeion_train, y_semeion_train, cv=5, scoring='accuracy')\n",
    "print(f'Scores cross val train: {scores_semeion_KNN_cross_val_train}, Scores cross val Mean: {scores_semeion_KNN_cross_val_train.mean()}')\n",
    "\n",
    "scores_semeion_KNN_cross_val_test = cross_val_score(model_semeion_KNN, X_semeion_test, y_semeion_test, cv=5, scoring='accuracy')\n",
    "print(f'Scores cross val test: {scores_semeion_KNN_cross_val_test}, Scores cross val Mean: {scores_semeion_KNN_cross_val_test.mean()}')\n",
    "\n",
    "scores_semeion_KNN_cross_val_train_f1 = cross_val_score(model_semeion_KNN, X_semeion_train, y_semeion_train, cv=5, scoring='f1_macro')\n",
    "print(f'Scores cross val train f1: {scores_semeion_KNN_cross_val_train_f1}, Scores cross val Mean: {scores_semeion_KNN_cross_val_train_f1.mean()}')\n",
    "\n",
    "scores_semeion_KNN_cross_val_test_f1 = cross_val_score(model_semeion_KNN, X_semeion_test, y_semeion_test, cv=5, scoring='f1_macro')\n",
    "print(f'Scores cross val test f1: {scores_semeion_KNN_cross_val_test_f1}, Scores cross val Mean: {scores_semeion_KNN_cross_val_test_f1.mean()}')"
   ]
  },
  {
   "cell_type": "code",
   "execution_count": 31,
   "metadata": {
    "ExecuteTime": {
     "end_time": "2019-04-24T07:19:57.861485Z",
     "start_time": "2019-04-24T07:09:07.018950Z"
    }
   },
   "outputs": [
    {
     "name": "stdout",
     "output_type": "stream",
     "text": [
      "KNN Grid Search accuracy Test: 0.9190207156308852\n",
      "KNN Grid Search accuracy Train: 1.0\n",
      "KNN Grid Search accuracy f1 Test: 0.9190207156308852\n",
      "KNN Grid Search accuracy f1 Train: 1.0\n",
      "KNN Random Search accuracy: 0.9190207156308852\n",
      "KNN Random Search accuracy: 1.0\n",
      "KNN Random Searchf1: 0.9190207156308852\n",
      "KNN Random Searchf1: 1.0\n",
      "[['KNeighborsClassifier' 'Grid'\n",
      "  {'cv': 5, 'error_score': 'raise-deprecating', 'estimator__algorithm': 'auto', 'estimator__leaf_size': 30, 'estimator__metric': 'minkowski', 'estimator__metric_params': None, 'estimator__n_jobs': None, 'estimator__n_neighbors': 5, 'estimator__p': 2, 'estimator__weights': 'uniform', 'estimator': KNeighborsClassifier(algorithm='auto', leaf_size=30, metric='minkowski',\n",
      "           metric_params=None, n_jobs=None, n_neighbors=5, p=2,\n",
      "           weights='uniform'), 'fit_params': None, 'iid': False, 'n_jobs': None, 'param_grid': {'n_neighbors': [1, 2, 3, 4, 5, 6, 7, 8, 9], 'p': [1, 2, 3, 4.7]}, 'pre_dispatch': '2*n_jobs', 'refit': True, 'return_train_score': True, 'scoring': 'accuracy', 'verbose': 0}\n",
      "  1.0 0.9190207156308852\n",
      "  {'cv': 5, 'error_score': 'raise-deprecating', 'estimator__algorithm': 'auto', 'estimator__leaf_size': 30, 'estimator__metric': 'minkowski', 'estimator__metric_params': None, 'estimator__n_jobs': None, 'estimator__n_neighbors': 5, 'estimator__p': 2, 'estimator__weights': 'uniform', 'estimator': KNeighborsClassifier(algorithm='auto', leaf_size=30, metric='minkowski',\n",
      "           metric_params=None, n_jobs=None, n_neighbors=5, p=2,\n",
      "           weights='uniform'), 'fit_params': None, 'iid': False, 'n_jobs': None, 'param_grid': {'n_neighbors': [1, 2, 3, 4, 5, 6, 7, 8, 9], 'p': [1, 2, 3, 4.7]}, 'pre_dispatch': '2*n_jobs', 'refit': True, 'return_train_score': True, 'scoring': 'f1_micro', 'verbose': 0}\n",
      "  1.0 0.9190207156308852]\n",
      " ['KNeighborsClassifier' 'Random'\n",
      "  {'cv': 5, 'error_score': 'raise-deprecating', 'estimator__algorithm': 'auto', 'estimator__leaf_size': 30, 'estimator__metric': 'minkowski', 'estimator__metric_params': None, 'estimator__n_jobs': None, 'estimator__n_neighbors': 5, 'estimator__p': 2, 'estimator__weights': 'uniform', 'estimator': KNeighborsClassifier(algorithm='auto', leaf_size=30, metric='minkowski',\n",
      "           metric_params=None, n_jobs=None, n_neighbors=5, p=2,\n",
      "           weights='uniform'), 'fit_params': None, 'iid': False, 'n_iter': 10, 'n_jobs': None, 'param_distributions': {'n_neighbors': [1, 2, 3, 4, 5, 6, 7, 8, 9], 'p': [1, 2, 3, 4.7]}, 'pre_dispatch': '2*n_jobs', 'random_state': None, 'refit': True, 'return_train_score': True, 'scoring': 'accuracy', 'verbose': 0}\n",
      "  1.0 0.9190207156308852\n",
      "  {'cv': 5, 'error_score': 'raise-deprecating', 'estimator__algorithm': 'auto', 'estimator__leaf_size': 30, 'estimator__metric': 'minkowski', 'estimator__metric_params': None, 'estimator__n_jobs': None, 'estimator__n_neighbors': 5, 'estimator__p': 2, 'estimator__weights': 'uniform', 'estimator': KNeighborsClassifier(algorithm='auto', leaf_size=30, metric='minkowski',\n",
      "           metric_params=None, n_jobs=None, n_neighbors=5, p=2,\n",
      "           weights='uniform'), 'fit_params': None, 'iid': False, 'n_iter': 10, 'n_jobs': None, 'param_distributions': {'n_neighbors': [1, 2, 3, 4, 5, 6, 7, 8, 9], 'p': [1, 2, 3, 4.7]}, 'pre_dispatch': '2*n_jobs', 'random_state': None, 'refit': True, 'return_train_score': True, 'scoring': 'f1_micro', 'verbose': 0}\n",
      "  0.9190207156308852 1.0]]\n",
      "                  Model  Search  \\\n",
      "0  KNeighborsClassifier    Grid   \n",
      "1  KNeighborsClassifier  Random   \n",
      "\n",
      "                                              Params Train Acc  Test Acc  \\\n",
      "0  {'cv': 5, 'error_score': 'raise-deprecating', ...         1  0.919021   \n",
      "1  {'cv': 5, 'error_score': 'raise-deprecating', ...         1  0.919021   \n",
      "\n",
      "                                           Params f1     Train      Test  \n",
      "0  {'cv': 5, 'error_score': 'raise-deprecating', ...         1  0.919021  \n",
      "1  {'cv': 5, 'error_score': 'raise-deprecating', ...  0.919021         1  \n"
     ]
    }
   ],
   "source": [
    "#HYPERPARAMETRII\n",
    "data_frame = search_knn(X_semeion_train, y_semeion_train, X_semeion_test, y_semeion_test)"
   ]
  },
  {
   "cell_type": "code",
   "execution_count": 34,
   "metadata": {
    "ExecuteTime": {
     "end_time": "2019-04-24T07:23:43.778612Z",
     "start_time": "2019-04-24T07:23:43.747367Z"
    }
   },
   "outputs": [
    {
     "data": {
      "text/html": [
       "<div>\n",
       "<style scoped>\n",
       "    .dataframe tbody tr th:only-of-type {\n",
       "        vertical-align: middle;\n",
       "    }\n",
       "\n",
       "    .dataframe tbody tr th {\n",
       "        vertical-align: top;\n",
       "    }\n",
       "\n",
       "    .dataframe thead th {\n",
       "        text-align: right;\n",
       "    }\n",
       "</style>\n",
       "<table border=\"1\" class=\"dataframe\">\n",
       "  <thead>\n",
       "    <tr style=\"text-align: right;\">\n",
       "      <th></th>\n",
       "      <th>Model</th>\n",
       "      <th>Search</th>\n",
       "      <th>Params</th>\n",
       "      <th>Train Acc</th>\n",
       "      <th>Test Acc</th>\n",
       "      <th>Params f1</th>\n",
       "      <th>Train</th>\n",
       "      <th>Test</th>\n",
       "    </tr>\n",
       "  </thead>\n",
       "  <tbody>\n",
       "    <tr>\n",
       "      <th>0</th>\n",
       "      <td>KNeighborsClassifier</td>\n",
       "      <td>Grid</td>\n",
       "      <td>{'cv': 5, 'error_score': 'raise-deprecating', ...</td>\n",
       "      <td>1</td>\n",
       "      <td>0.919021</td>\n",
       "      <td>{'cv': 5, 'error_score': 'raise-deprecating', ...</td>\n",
       "      <td>1</td>\n",
       "      <td>0.919021</td>\n",
       "    </tr>\n",
       "    <tr>\n",
       "      <th>1</th>\n",
       "      <td>KNeighborsClassifier</td>\n",
       "      <td>Random</td>\n",
       "      <td>{'cv': 5, 'error_score': 'raise-deprecating', ...</td>\n",
       "      <td>1</td>\n",
       "      <td>0.919021</td>\n",
       "      <td>{'cv': 5, 'error_score': 'raise-deprecating', ...</td>\n",
       "      <td>0.919021</td>\n",
       "      <td>1</td>\n",
       "    </tr>\n",
       "  </tbody>\n",
       "</table>\n",
       "</div>"
      ],
      "text/plain": [
       "                  Model  Search  \\\n",
       "0  KNeighborsClassifier    Grid   \n",
       "1  KNeighborsClassifier  Random   \n",
       "\n",
       "                                              Params Train Acc  Test Acc  \\\n",
       "0  {'cv': 5, 'error_score': 'raise-deprecating', ...         1  0.919021   \n",
       "1  {'cv': 5, 'error_score': 'raise-deprecating', ...         1  0.919021   \n",
       "\n",
       "                                           Params f1     Train      Test  \n",
       "0  {'cv': 5, 'error_score': 'raise-deprecating', ...         1  0.919021  \n",
       "1  {'cv': 5, 'error_score': 'raise-deprecating', ...  0.919021         1  "
      ]
     },
     "execution_count": 34,
     "metadata": {},
     "output_type": "execute_result"
    }
   ],
   "source": [
    "data_frame.head()"
   ]
  },
  {
   "cell_type": "markdown",
   "metadata": {
    "ExecuteTime": {
     "end_time": "2019-04-13T13:23:55.990763Z",
     "start_time": "2019-04-13T13:23:55.986738Z"
    }
   },
   "source": [
    "### Multi-layer Perceptron classifier"
   ]
  },
  {
   "cell_type": "code",
   "execution_count": 73,
   "metadata": {
    "ExecuteTime": {
     "end_time": "2019-04-15T12:48:14.763783Z",
     "start_time": "2019-04-15T12:48:13.724923Z"
    }
   },
   "outputs": [
    {
     "data": {
      "text/plain": [
       "MLPClassifier(activation='relu', alpha=0.0001, batch_size='auto', beta_1=0.9,\n",
       "       beta_2=0.999, early_stopping=False, epsilon=1e-08,\n",
       "       hidden_layer_sizes=(100,), learning_rate='constant',\n",
       "       learning_rate_init=0.001, max_iter=1000, momentum=0.9,\n",
       "       n_iter_no_change=10, nesterovs_momentum=True, power_t=0.5,\n",
       "       random_state=None, shuffle=True, solver='adam', tol=0.0001,\n",
       "       validation_fraction=0.1, verbose=False, warm_start=False)"
      ]
     },
     "execution_count": 73,
     "metadata": {},
     "output_type": "execute_result"
    }
   ],
   "source": [
    "model_semeion_MLPC = MLPClassifier(max_iter=1000)\n",
    "model_semeion_MLPC.fit(X_semeion_train, y_semeion_train)"
   ]
  },
  {
   "cell_type": "code",
   "execution_count": 74,
   "metadata": {
    "ExecuteTime": {
     "end_time": "2019-04-15T12:48:15.850605Z",
     "start_time": "2019-04-15T12:48:15.846617Z"
    }
   },
   "outputs": [],
   "source": [
    "y_semeion_predicted_MLPC = model_semeion_MLPC.predict(X_semeion_test)"
   ]
  },
  {
   "cell_type": "code",
   "execution_count": 75,
   "metadata": {
    "ExecuteTime": {
     "end_time": "2019-04-15T12:48:16.129289Z",
     "start_time": "2019-04-15T12:48:16.125300Z"
    }
   },
   "outputs": [
    {
     "name": "stdout",
     "output_type": "stream",
     "text": [
      "Acuratete: 0.9322033898305084\n"
     ]
    }
   ],
   "source": [
    "print('Acuratete:', metrics.accuracy_score(y_semeion_test, y_semeion_predicted_MLPC))"
   ]
  },
  {
   "cell_type": "code",
   "execution_count": 76,
   "metadata": {
    "ExecuteTime": {
     "end_time": "2019-04-15T12:48:34.427702Z",
     "start_time": "2019-04-15T12:48:16.525049Z"
    }
   },
   "outputs": [
    {
     "name": "stdout",
     "output_type": "stream",
     "text": [
      "Scores cross val: [0.9380805  0.90625    0.95297806 0.92429022 0.91719745], Scores cross val Mean: 0.9277592449663716\n",
      "Scores f1: 0.9318110678799426\n",
      "Scores cross val train: [0.9266055  0.93488372 0.87203791 0.89952153 0.92344498], Scores cross val Mean: 0.911298729477273\n",
      "Scores cross val test: [0.91891892 0.94444444 0.85849057 0.92307692 0.91176471], Scores cross val Mean: 0.9113391116720753\n",
      "Scores cross val train f1: [0.92162556 0.93023266 0.9003715  0.92833381 0.93255636], Scores cross val Mean: 0.9226239776199472\n",
      "Scores cross val test f1: [0.90505566 0.92310371 0.86920608 0.91952092 0.87782456], Scores cross val Mean: 0.8989421865363012\n"
     ]
    }
   ],
   "source": [
    "scores_semeion_MLPC_cross_val = cross_val_score(model_semeion_MLPC, X_semeion, y_semeion, cv=5, scoring='accuracy')\n",
    "scores_semeion_MLPC_f1 = metrics.f1_score(y_semeion_test, y_semeion_predicted_MLPC, average='weighted')\n",
    "print(f'Scores cross val: {scores_semeion_MLPC_cross_val}, Scores cross val Mean: {scores_semeion_MLPC_cross_val.mean()}')\n",
    "print(f'Scores f1: {scores_semeion_MLPC_f1}')\n",
    "\n",
    "scores_semeion_MLPC_cross_val_train = cross_val_score(model_semeion_MLPC, X_semeion_train, y_semeion_train, cv=5, scoring='accuracy')\n",
    "print(f'Scores cross val train: {scores_semeion_MLPC_cross_val_train}, Scores cross val Mean: {scores_semeion_MLPC_cross_val_train.mean()}')\n",
    "\n",
    "scores_semeion_MLPC_cross_val_test = cross_val_score(model_semeion_MLPC, X_semeion_test, y_semeion_test, cv=5, scoring='accuracy')\n",
    "print(f'Scores cross val test: {scores_semeion_MLPC_cross_val_test}, Scores cross val Mean: {scores_semeion_MLPC_cross_val_test.mean()}')\n",
    "\n",
    "scores_semeion_MLPC_cross_val_train_f1 = cross_val_score(model_semeion_MLPC, X_semeion_train, y_semeion_train, cv=5, scoring='f1_macro')\n",
    "print(f'Scores cross val train f1: {scores_semeion_MLPC_cross_val_train_f1}, Scores cross val Mean: {scores_semeion_MLPC_cross_val_train_f1.mean()}')\n",
    "\n",
    "scores_semeion_MLPC_cross_val_test_f1 = cross_val_score(model_semeion_MLPC, X_semeion_test, y_semeion_test, cv=5, scoring='f1_macro')\n",
    "print(f'Scores cross val test f1: {scores_semeion_MLPC_cross_val_test_f1}, Scores cross val Mean: {scores_semeion_MLPC_cross_val_test_f1.mean()}')"
   ]
  },
  {
   "cell_type": "code",
   "execution_count": 123,
   "metadata": {},
   "outputs": [
    {
     "name": "stdout",
     "output_type": "stream",
     "text": [
      "KNN Grid Search accuracy: 0.9133709981167608\n"
     ]
    },
    {
     "name": "stderr",
     "output_type": "stream",
     "text": [
      "C:\\Users\\biama\\Anaconda3\\envs\\ids\\lib\\site-packages\\sklearn\\model_selection\\_search.py:271: UserWarning: The total space of parameters 6 is smaller than n_iter=10. Running 6 iterations. For exhaustive searches, use GridSearchCV.\n",
      "  % (grid_size, self.n_iter, grid_size), UserWarning)\n"
     ]
    },
    {
     "name": "stdout",
     "output_type": "stream",
     "text": [
      "KNN Random Search accuracy: 0.9209039548022598\n"
     ]
    }
   ],
   "source": [
    "#HYPERPARAMETRII\n",
    "search_mlpc(X_semeion_train, y_semeion_train, X_semeion_test, y_semeion_test)"
   ]
  },
  {
   "cell_type": "markdown",
   "metadata": {},
   "source": [
    "### Logistic Regression"
   ]
  },
  {
   "cell_type": "code",
   "execution_count": null,
   "metadata": {
    "ExecuteTime": {
     "end_time": "2019-04-13T15:04:51.462366Z",
     "start_time": "2019-04-13T15:04:51.249426Z"
    }
   },
   "outputs": [],
   "source": [
    "model_semeion_LogisticReg = LogisticRegression(solver='lbfgs', multi_class='auto', max_iter=1000)\n",
    "model_semeion_LogisticReg.fit(X_semeion_train, y_semeion_train)"
   ]
  },
  {
   "cell_type": "code",
   "execution_count": null,
   "metadata": {
    "ExecuteTime": {
     "end_time": "2019-04-13T14:48:54.012610Z",
     "start_time": "2019-04-13T14:48:54.008644Z"
    }
   },
   "outputs": [],
   "source": [
    "y_semeion_predicted_LogisticReg = model_semeion_LogisticReg.predict(X_semeion_test)"
   ]
  },
  {
   "cell_type": "code",
   "execution_count": null,
   "metadata": {
    "ExecuteTime": {
     "end_time": "2019-04-13T14:49:02.227728Z",
     "start_time": "2019-04-13T14:49:02.223738Z"
    }
   },
   "outputs": [],
   "source": [
    "print('Acuratete:', metrics.accuracy_score(y_semeion_test, y_semeion_predicted_MLPC))"
   ]
  },
  {
   "cell_type": "code",
   "execution_count": null,
   "metadata": {
    "ExecuteTime": {
     "end_time": "2019-04-13T15:05:04.626528Z",
     "start_time": "2019-04-13T15:05:03.224659Z"
    }
   },
   "outputs": [],
   "source": [
    "scores_semeion_LogisticReg_cross_val = cross_val_score(model_semeion_LogisticReg, X_semeion, y_semeion, cv=5, scoring='accuracy')\n",
    "scores_semeion_LogisticReg_f1 = metrics.f1_score(y_semeion_test, y_semeion_predicted_LogisticReg, average='weighted')\n",
    "print(f'Scores cross val: {scores_semeion_LogisticReg_cross_val}, Scores cross val Mean: {scores_semeion_LogisticReg_cross_val.mean()}')\n",
    "print(f'Scores f1: {scores_semeion_LogisticReg_f1}')\n",
    "\n",
    "scores_semeion_LogisticReg_cross_val_train = cross_val_score(model_semeion_LogisticReg, X_semeion_train, y_semeion_train, cv=5, scoring='accuracy')\n",
    "print(f'Scores cross val train: {scores_semeion_LogisticReg_cross_val_train}, Scores cross val Mean: {scores_semeion_LogisticReg_cross_val_train.mean()}')\n",
    "\n",
    "scores_semeion_LogisticReg_cross_val_test = cross_val_score(model_semeion_LogisticReg, X_semeion_test, y_semeion_test, cv=5, scoring='accuracy')\n",
    "print(f'Scores cross val test: {scores_semeion_LogisticReg_cross_val_test}, Scores cross val Mean: {scores_semeion_LogisticReg_cross_val_test.mean()}')\n",
    "\n",
    "scores_semeion_LogisticReg_cross_val_train_f1 = cross_val_score(model_semeion_LogisticReg, X_semeion_train, y_semeion_train, cv=5, scoring='f1_macro')\n",
    "print(f'Scores cross val train f1: {scores_semeion_LogisticReg_cross_val_train_f1}, Scores cross val Mean: {scores_semeion_LogisticReg_cross_val_train_f1.mean()}')\n",
    "\n",
    "scores_semeion_LogisticReg_cross_val_test_f1 = cross_val_score(model_semeion_LogisticReg, X_semeion_test, y_semeion_test, cv=5, scoring='f1_macro')\n",
    "print(f'Scores cross val test f1: {scores_semeion_LogisticReg_cross_val_test_f1}, Scores cross val Mean: {scores_semeion_LogisticReg_cross_val_test_f1.mean()}')"
   ]
  },
  {
   "cell_type": "code",
   "execution_count": 132,
   "metadata": {},
   "outputs": [
    {
     "name": "stdout",
     "output_type": "stream",
     "text": [
      "KNN Grid Search accuracy: 0.9077212806026366\n"
     ]
    },
    {
     "name": "stderr",
     "output_type": "stream",
     "text": [
      "C:\\Users\\biama\\Anaconda3\\envs\\ids\\lib\\site-packages\\sklearn\\model_selection\\_search.py:271: UserWarning: The total space of parameters 6 is smaller than n_iter=10. Running 6 iterations. For exhaustive searches, use GridSearchCV.\n",
      "  % (grid_size, self.n_iter, grid_size), UserWarning)\n"
     ]
    },
    {
     "name": "stdout",
     "output_type": "stream",
     "text": [
      "KNN Random Search accuracy: 0.9077212806026366\n"
     ]
    }
   ],
   "source": [
    "#HYPERPARAMETRII\n",
    "search_logistic_reg(X_semeion_train, y_semeion_train, X_semeion_test, y_semeion_test)"
   ]
  },
  {
   "cell_type": "markdown",
   "metadata": {},
   "source": [
    "### SVC"
   ]
  },
  {
   "cell_type": "code",
   "execution_count": null,
   "metadata": {
    "ExecuteTime": {
     "end_time": "2019-04-13T15:07:19.684627Z",
     "start_time": "2019-04-13T15:07:19.417341Z"
    }
   },
   "outputs": [],
   "source": [
    "model_semeion_SVC = SVC(gamma='scale')\n",
    "model_semeion_SVC.fit(X_semeion_train, y_semeion_train)"
   ]
  },
  {
   "cell_type": "code",
   "execution_count": null,
   "metadata": {
    "ExecuteTime": {
     "end_time": "2019-04-13T15:08:11.736720Z",
     "start_time": "2019-04-13T15:08:11.609051Z"
    }
   },
   "outputs": [],
   "source": [
    "y_semeion_predicted_SVC = model_semeion_SVC.predict(X_semeion_test)"
   ]
  },
  {
   "cell_type": "code",
   "execution_count": null,
   "metadata": {
    "ExecuteTime": {
     "end_time": "2019-04-13T15:08:27.533207Z",
     "start_time": "2019-04-13T15:08:27.529216Z"
    }
   },
   "outputs": [],
   "source": [
    "print('Acuratete:', metrics.accuracy_score(y_semeion_test, y_semeion_predicted_SVC))"
   ]
  },
  {
   "cell_type": "code",
   "execution_count": null,
   "metadata": {
    "ExecuteTime": {
     "end_time": "2019-04-13T15:38:15.063280Z",
     "start_time": "2019-04-13T15:38:12.958159Z"
    }
   },
   "outputs": [],
   "source": [
    "scores_semeion_SVC_cross_val = cross_val_score(model_semeion_SVC, X_semeion, y_semeion, cv=5, scoring='accuracy')\n",
    "scores_semeion_SVC_f1 = metrics.f1_score(y_semeion_test, y_semeion_predicted_SVC, average='weighted')\n",
    "print(f'Scores cross val: {scores_semeion_SVC_cross_val}, Scores cross val Mean: {scores_semeion_SVC_cross_val.mean()}')\n",
    "print(f'Scores f1: {scores_semeion_SVC_f1}')\n",
    "\n",
    "scores_semeion_SVC_cross_val_train = cross_val_score(model_semeion_SVC, X_semeion_train, y_semeion_train, cv=5, scoring='accuracy')\n",
    "print(f'Scores cross val train: {scores_semeion_SVC_cross_val_train}, Scores cross val Mean: {scores_semeion_SVC_cross_val_train.mean()}')\n",
    "\n",
    "scores_semeion_SVC_cross_val_test = cross_val_score(model_semeion_SVC, X_semeion_test, y_semeion_test, cv=5, scoring='accuracy')\n",
    "print(f'Scores cross val test: {scores_semeion_SVC_cross_val_test}, Scores cross val Mean: {scores_semeion_SVC_cross_val_test.mean()}')\n",
    "\n",
    "scores_semeion_SVC_cross_val_train_f1 = cross_val_score(model_semeion_SVC, X_semeion_train, y_semeion_train, cv=5, scoring='f1_macro')\n",
    "print(f'Scores cross val train f1: {scores_semeion_SVC_cross_val_train_f1}, Scores cross val Mean: {scores_semeion_SVC_cross_val_train_f1.mean()}')\n",
    "\n",
    "scores_semeion_SVC_cross_val_test_f1 = cross_val_score(model_semeion_SVC, X_semeion_test, y_semeion_test, cv=5, scoring='f1_macro')\n",
    "print(f'Scores cross val test f1: {scores_semeion_SVC_cross_val_test_f1}, Scores cross val Mean: {scores_semeion_SVC_cross_val_test_f1.mean()}')"
   ]
  },
  {
   "cell_type": "code",
   "execution_count": 135,
   "metadata": {},
   "outputs": [
    {
     "name": "stdout",
     "output_type": "stream",
     "text": [
      "KNN Grid Search accuracy: 0.9548022598870056\n",
      "KNN Random Search accuracy: 0.9548022598870056\n"
     ]
    }
   ],
   "source": [
    "#HYPERPARAMETRII\n",
    "search_svc(X_semeion_train, y_semeion_train, X_semeion_test, y_semeion_test)"
   ]
  },
  {
   "cell_type": "markdown",
   "metadata": {},
   "source": [
    "### Gaussian Process"
   ]
  },
  {
   "cell_type": "code",
   "execution_count": null,
   "metadata": {
    "ExecuteTime": {
     "end_time": "2019-04-13T17:52:07.624306Z",
     "start_time": "2019-04-13T17:52:01.567795Z"
    }
   },
   "outputs": [],
   "source": [
    "model_semeion_Gaussian = GaussianProcessClassifier()\n",
    "model_semeion_Gaussian.fit(X_semeion_train, y_semeion_train)"
   ]
  },
  {
   "cell_type": "code",
   "execution_count": null,
   "metadata": {
    "ExecuteTime": {
     "end_time": "2019-04-13T17:52:09.813482Z",
     "start_time": "2019-04-13T17:52:07.740993Z"
    }
   },
   "outputs": [],
   "source": [
    "y_semeion_predicted_Gaussian = model_semeion_Gaussian.predict(X_semeion_test)"
   ]
  },
  {
   "cell_type": "code",
   "execution_count": null,
   "metadata": {
    "ExecuteTime": {
     "end_time": "2019-04-13T17:52:09.989520Z",
     "start_time": "2019-04-13T17:52:09.985530Z"
    }
   },
   "outputs": [],
   "source": [
    "print('Acuratete:', metrics.accuracy_score(y_semeion_test, y_semeion_predicted_Gaussian))"
   ]
  },
  {
   "cell_type": "code",
   "execution_count": null,
   "metadata": {
    "ExecuteTime": {
     "end_time": "2019-04-13T17:52:15.235326Z",
     "start_time": "2019-04-13T17:52:10.106099Z"
    }
   },
   "outputs": [],
   "source": [
    "scores_semeion_Gaussian_cross_val = cross_val_score(model_semeion_Gaussian, X_semeion, y_semeion, cv=5, scoring='accuracy')\n",
    "scores_semeion_Gaussian_f1 = metrics.f1_score(y_semeion_test, y_semeion_predicted_Gaussian, average='weighted')\n",
    "print(f'Scores cross val: {scores_semeion_Gaussian_cross_val}, Scores cross val Mean: {scores_semeion_Gaussian_cross_val.mean()}')\n",
    "print(f'Scores f1: {scores_semeion_Gaussian_f1}')\n",
    "\n",
    "scores_semeion_Gaussian_cross_val_train = cross_val_score(model_semeion_Gaussian, X_semeion_train, y_semeion_train, cv=5, scoring='accuracy')\n",
    "print(f'Scores cross val train: {scores_semeion_Gaussian_cross_val_train}, Scores cross val Mean: {scores_semeion_Gaussian_cross_val_train.mean()}')\n",
    "\n",
    "scores_semeion_Gaussian_cross_val_test = cross_val_score(model_semeion_Gaussian, X_semeion_test, y_semeion_test, cv=5, scoring='accuracy')\n",
    "print(f'Scores cross val test: {scores_semeion_Gaussian_cross_val_test}, Scores cross val Mean: {scores_semeion_Gaussian_cross_val_test.mean()}')\n",
    "\n",
    "scores_semeion_Gaussian_cross_val_train_f1 = cross_val_score(model_semeion_Gaussian, X_semeion_train, y_semeion_train, cv=5, scoring='f1_macro')\n",
    "print(f'Scores cross val train f1: {scores_semeion_Gaussian_cross_val_train_f1}, Scores cross val Mean: {scores_semeion_Gaussian_cross_val_train_f1.mean()}')\n",
    "\n",
    "scores_semeion_Gaussian_cross_val_test_f1 = cross_val_score(model_semeion_Gaussian, X_semeion_test, y_semeion_test, cv=5, scoring='f1_macro')\n",
    "print(f'Scores cross val test f1: {scores_semeion_Gaussian_cross_val_test_f1}, Scores cross val Mean: {scores_semeion_Gaussian_cross_val_test_f1.mean()}')"
   ]
  },
  {
   "cell_type": "code",
   "execution_count": 143,
   "metadata": {},
   "outputs": [
    {
     "ename": "KeyboardInterrupt",
     "evalue": "",
     "output_type": "error",
     "traceback": [
      "\u001b[1;31m---------------------------------------------------------------------------\u001b[0m",
      "\u001b[1;31mAttributeError\u001b[0m                            Traceback (most recent call last)",
      "\u001b[1;32m~\\Anaconda3\\envs\\ids\\lib\\site-packages\\sklearn\\multiclass.py\u001b[0m in \u001b[0;36m_predict_binary\u001b[1;34m(estimator, X)\u001b[0m\n\u001b[0;32m     94\u001b[0m     \u001b[1;32mtry\u001b[0m\u001b[1;33m:\u001b[0m\u001b[1;33m\u001b[0m\u001b[1;33m\u001b[0m\u001b[0m\n\u001b[1;32m---> 95\u001b[1;33m         \u001b[0mscore\u001b[0m \u001b[1;33m=\u001b[0m \u001b[0mnp\u001b[0m\u001b[1;33m.\u001b[0m\u001b[0mravel\u001b[0m\u001b[1;33m(\u001b[0m\u001b[0mestimator\u001b[0m\u001b[1;33m.\u001b[0m\u001b[0mdecision_function\u001b[0m\u001b[1;33m(\u001b[0m\u001b[0mX\u001b[0m\u001b[1;33m)\u001b[0m\u001b[1;33m)\u001b[0m\u001b[1;33m\u001b[0m\u001b[1;33m\u001b[0m\u001b[0m\n\u001b[0m\u001b[0;32m     96\u001b[0m     \u001b[1;32mexcept\u001b[0m \u001b[1;33m(\u001b[0m\u001b[0mAttributeError\u001b[0m\u001b[1;33m,\u001b[0m \u001b[0mNotImplementedError\u001b[0m\u001b[1;33m)\u001b[0m\u001b[1;33m:\u001b[0m\u001b[1;33m\u001b[0m\u001b[1;33m\u001b[0m\u001b[0m\n",
      "\u001b[1;31mAttributeError\u001b[0m: '_BinaryGaussianProcessClassifierLaplace' object has no attribute 'decision_function'",
      "\nDuring handling of the above exception, another exception occurred:\n",
      "\u001b[1;31mKeyboardInterrupt\u001b[0m                         Traceback (most recent call last)",
      "\u001b[1;32m<ipython-input-143-f98d67db7ea3>\u001b[0m in \u001b[0;36m<module>\u001b[1;34m\u001b[0m\n\u001b[0;32m      1\u001b[0m \u001b[1;31m#HYPERPARAMETRII\u001b[0m\u001b[1;33m\u001b[0m\u001b[1;33m\u001b[0m\u001b[1;33m\u001b[0m\u001b[0m\n\u001b[1;32m----> 2\u001b[1;33m \u001b[0msearch_gaussian\u001b[0m\u001b[1;33m(\u001b[0m\u001b[0mX_semeion_train\u001b[0m\u001b[1;33m,\u001b[0m \u001b[0my_semeion_train\u001b[0m\u001b[1;33m,\u001b[0m \u001b[0mX_semeion_test\u001b[0m\u001b[1;33m,\u001b[0m \u001b[0my_semeion_test\u001b[0m\u001b[1;33m)\u001b[0m\u001b[1;33m\u001b[0m\u001b[1;33m\u001b[0m\u001b[0m\n\u001b[0m",
      "\u001b[1;32m<ipython-input-142-952b166459dd>\u001b[0m in \u001b[0;36msearch_gaussian\u001b[1;34m(x_train, y_train, x_test, y_test)\u001b[0m\n\u001b[0;32m      9\u001b[0m     grid_search = GridSearchCV(estimator = GaussianProcessClassifier(), param_grid = parameter, scoring='accuracy', cv=5, \n\u001b[0;32m     10\u001b[0m                            return_train_score=True, iid=False)\n\u001b[1;32m---> 11\u001b[1;33m     \u001b[0mgrid_search\u001b[0m\u001b[1;33m.\u001b[0m\u001b[0mfit\u001b[0m\u001b[1;33m(\u001b[0m\u001b[0mx_train\u001b[0m\u001b[1;33m,\u001b[0m \u001b[0my_train\u001b[0m\u001b[1;33m)\u001b[0m\u001b[1;33m\u001b[0m\u001b[1;33m\u001b[0m\u001b[0m\n\u001b[0m\u001b[0;32m     12\u001b[0m \u001b[1;33m\u001b[0m\u001b[0m\n\u001b[0;32m     13\u001b[0m     \u001b[0my_estimated\u001b[0m \u001b[1;33m=\u001b[0m \u001b[0mgrid_search\u001b[0m\u001b[1;33m.\u001b[0m\u001b[0mpredict\u001b[0m\u001b[1;33m(\u001b[0m\u001b[0mx_test\u001b[0m\u001b[1;33m)\u001b[0m\u001b[1;33m\u001b[0m\u001b[1;33m\u001b[0m\u001b[0m\n",
      "\u001b[1;32m~\\Anaconda3\\envs\\ids\\lib\\site-packages\\sklearn\\model_selection\\_search.py\u001b[0m in \u001b[0;36mfit\u001b[1;34m(self, X, y, groups, **fit_params)\u001b[0m\n\u001b[0;32m    720\u001b[0m                 \u001b[1;32mreturn\u001b[0m \u001b[0mresults_container\u001b[0m\u001b[1;33m[\u001b[0m\u001b[1;36m0\u001b[0m\u001b[1;33m]\u001b[0m\u001b[1;33m\u001b[0m\u001b[1;33m\u001b[0m\u001b[0m\n\u001b[0;32m    721\u001b[0m \u001b[1;33m\u001b[0m\u001b[0m\n\u001b[1;32m--> 722\u001b[1;33m             \u001b[0mself\u001b[0m\u001b[1;33m.\u001b[0m\u001b[0m_run_search\u001b[0m\u001b[1;33m(\u001b[0m\u001b[0mevaluate_candidates\u001b[0m\u001b[1;33m)\u001b[0m\u001b[1;33m\u001b[0m\u001b[1;33m\u001b[0m\u001b[0m\n\u001b[0m\u001b[0;32m    723\u001b[0m \u001b[1;33m\u001b[0m\u001b[0m\n\u001b[0;32m    724\u001b[0m         \u001b[0mresults\u001b[0m \u001b[1;33m=\u001b[0m \u001b[0mresults_container\u001b[0m\u001b[1;33m[\u001b[0m\u001b[1;36m0\u001b[0m\u001b[1;33m]\u001b[0m\u001b[1;33m\u001b[0m\u001b[1;33m\u001b[0m\u001b[0m\n",
      "\u001b[1;32m~\\Anaconda3\\envs\\ids\\lib\\site-packages\\sklearn\\model_selection\\_search.py\u001b[0m in \u001b[0;36m_run_search\u001b[1;34m(self, evaluate_candidates)\u001b[0m\n\u001b[0;32m   1189\u001b[0m     \u001b[1;32mdef\u001b[0m \u001b[0m_run_search\u001b[0m\u001b[1;33m(\u001b[0m\u001b[0mself\u001b[0m\u001b[1;33m,\u001b[0m \u001b[0mevaluate_candidates\u001b[0m\u001b[1;33m)\u001b[0m\u001b[1;33m:\u001b[0m\u001b[1;33m\u001b[0m\u001b[1;33m\u001b[0m\u001b[0m\n\u001b[0;32m   1190\u001b[0m         \u001b[1;34m\"\"\"Search all candidates in param_grid\"\"\"\u001b[0m\u001b[1;33m\u001b[0m\u001b[1;33m\u001b[0m\u001b[0m\n\u001b[1;32m-> 1191\u001b[1;33m         \u001b[0mevaluate_candidates\u001b[0m\u001b[1;33m(\u001b[0m\u001b[0mParameterGrid\u001b[0m\u001b[1;33m(\u001b[0m\u001b[0mself\u001b[0m\u001b[1;33m.\u001b[0m\u001b[0mparam_grid\u001b[0m\u001b[1;33m)\u001b[0m\u001b[1;33m)\u001b[0m\u001b[1;33m\u001b[0m\u001b[1;33m\u001b[0m\u001b[0m\n\u001b[0m\u001b[0;32m   1192\u001b[0m \u001b[1;33m\u001b[0m\u001b[0m\n\u001b[0;32m   1193\u001b[0m \u001b[1;33m\u001b[0m\u001b[0m\n",
      "\u001b[1;32m~\\Anaconda3\\envs\\ids\\lib\\site-packages\\sklearn\\model_selection\\_search.py\u001b[0m in \u001b[0;36mevaluate_candidates\u001b[1;34m(candidate_params)\u001b[0m\n\u001b[0;32m    709\u001b[0m                                \u001b[1;32mfor\u001b[0m \u001b[0mparameters\u001b[0m\u001b[1;33m,\u001b[0m \u001b[1;33m(\u001b[0m\u001b[0mtrain\u001b[0m\u001b[1;33m,\u001b[0m \u001b[0mtest\u001b[0m\u001b[1;33m)\u001b[0m\u001b[1;33m\u001b[0m\u001b[1;33m\u001b[0m\u001b[0m\n\u001b[0;32m    710\u001b[0m                                in product(candidate_params,\n\u001b[1;32m--> 711\u001b[1;33m                                           cv.split(X, y, groups)))\n\u001b[0m\u001b[0;32m    712\u001b[0m \u001b[1;33m\u001b[0m\u001b[0m\n\u001b[0;32m    713\u001b[0m                 \u001b[0mall_candidate_params\u001b[0m\u001b[1;33m.\u001b[0m\u001b[0mextend\u001b[0m\u001b[1;33m(\u001b[0m\u001b[0mcandidate_params\u001b[0m\u001b[1;33m)\u001b[0m\u001b[1;33m\u001b[0m\u001b[1;33m\u001b[0m\u001b[0m\n",
      "\u001b[1;32m~\\Anaconda3\\envs\\ids\\lib\\site-packages\\sklearn\\externals\\joblib\\parallel.py\u001b[0m in \u001b[0;36m__call__\u001b[1;34m(self, iterable)\u001b[0m\n\u001b[0;32m    915\u001b[0m             \u001b[1;31m# remaining jobs.\u001b[0m\u001b[1;33m\u001b[0m\u001b[1;33m\u001b[0m\u001b[1;33m\u001b[0m\u001b[0m\n\u001b[0;32m    916\u001b[0m             \u001b[0mself\u001b[0m\u001b[1;33m.\u001b[0m\u001b[0m_iterating\u001b[0m \u001b[1;33m=\u001b[0m \u001b[1;32mFalse\u001b[0m\u001b[1;33m\u001b[0m\u001b[1;33m\u001b[0m\u001b[0m\n\u001b[1;32m--> 917\u001b[1;33m             \u001b[1;32mif\u001b[0m \u001b[0mself\u001b[0m\u001b[1;33m.\u001b[0m\u001b[0mdispatch_one_batch\u001b[0m\u001b[1;33m(\u001b[0m\u001b[0miterator\u001b[0m\u001b[1;33m)\u001b[0m\u001b[1;33m:\u001b[0m\u001b[1;33m\u001b[0m\u001b[1;33m\u001b[0m\u001b[0m\n\u001b[0m\u001b[0;32m    918\u001b[0m                 \u001b[0mself\u001b[0m\u001b[1;33m.\u001b[0m\u001b[0m_iterating\u001b[0m \u001b[1;33m=\u001b[0m \u001b[0mself\u001b[0m\u001b[1;33m.\u001b[0m\u001b[0m_original_iterator\u001b[0m \u001b[1;32mis\u001b[0m \u001b[1;32mnot\u001b[0m \u001b[1;32mNone\u001b[0m\u001b[1;33m\u001b[0m\u001b[1;33m\u001b[0m\u001b[0m\n\u001b[0;32m    919\u001b[0m \u001b[1;33m\u001b[0m\u001b[0m\n",
      "\u001b[1;32m~\\Anaconda3\\envs\\ids\\lib\\site-packages\\sklearn\\externals\\joblib\\parallel.py\u001b[0m in \u001b[0;36mdispatch_one_batch\u001b[1;34m(self, iterator)\u001b[0m\n\u001b[0;32m    757\u001b[0m                 \u001b[1;32mreturn\u001b[0m \u001b[1;32mFalse\u001b[0m\u001b[1;33m\u001b[0m\u001b[1;33m\u001b[0m\u001b[0m\n\u001b[0;32m    758\u001b[0m             \u001b[1;32melse\u001b[0m\u001b[1;33m:\u001b[0m\u001b[1;33m\u001b[0m\u001b[1;33m\u001b[0m\u001b[0m\n\u001b[1;32m--> 759\u001b[1;33m                 \u001b[0mself\u001b[0m\u001b[1;33m.\u001b[0m\u001b[0m_dispatch\u001b[0m\u001b[1;33m(\u001b[0m\u001b[0mtasks\u001b[0m\u001b[1;33m)\u001b[0m\u001b[1;33m\u001b[0m\u001b[1;33m\u001b[0m\u001b[0m\n\u001b[0m\u001b[0;32m    760\u001b[0m                 \u001b[1;32mreturn\u001b[0m \u001b[1;32mTrue\u001b[0m\u001b[1;33m\u001b[0m\u001b[1;33m\u001b[0m\u001b[0m\n\u001b[0;32m    761\u001b[0m \u001b[1;33m\u001b[0m\u001b[0m\n",
      "\u001b[1;32m~\\Anaconda3\\envs\\ids\\lib\\site-packages\\sklearn\\externals\\joblib\\parallel.py\u001b[0m in \u001b[0;36m_dispatch\u001b[1;34m(self, batch)\u001b[0m\n\u001b[0;32m    714\u001b[0m         \u001b[1;32mwith\u001b[0m \u001b[0mself\u001b[0m\u001b[1;33m.\u001b[0m\u001b[0m_lock\u001b[0m\u001b[1;33m:\u001b[0m\u001b[1;33m\u001b[0m\u001b[1;33m\u001b[0m\u001b[0m\n\u001b[0;32m    715\u001b[0m             \u001b[0mjob_idx\u001b[0m \u001b[1;33m=\u001b[0m \u001b[0mlen\u001b[0m\u001b[1;33m(\u001b[0m\u001b[0mself\u001b[0m\u001b[1;33m.\u001b[0m\u001b[0m_jobs\u001b[0m\u001b[1;33m)\u001b[0m\u001b[1;33m\u001b[0m\u001b[1;33m\u001b[0m\u001b[0m\n\u001b[1;32m--> 716\u001b[1;33m             \u001b[0mjob\u001b[0m \u001b[1;33m=\u001b[0m \u001b[0mself\u001b[0m\u001b[1;33m.\u001b[0m\u001b[0m_backend\u001b[0m\u001b[1;33m.\u001b[0m\u001b[0mapply_async\u001b[0m\u001b[1;33m(\u001b[0m\u001b[0mbatch\u001b[0m\u001b[1;33m,\u001b[0m \u001b[0mcallback\u001b[0m\u001b[1;33m=\u001b[0m\u001b[0mcb\u001b[0m\u001b[1;33m)\u001b[0m\u001b[1;33m\u001b[0m\u001b[1;33m\u001b[0m\u001b[0m\n\u001b[0m\u001b[0;32m    717\u001b[0m             \u001b[1;31m# A job can complete so quickly than its callback is\u001b[0m\u001b[1;33m\u001b[0m\u001b[1;33m\u001b[0m\u001b[1;33m\u001b[0m\u001b[0m\n\u001b[0;32m    718\u001b[0m             \u001b[1;31m# called before we get here, causing self._jobs to\u001b[0m\u001b[1;33m\u001b[0m\u001b[1;33m\u001b[0m\u001b[1;33m\u001b[0m\u001b[0m\n",
      "\u001b[1;32m~\\Anaconda3\\envs\\ids\\lib\\site-packages\\sklearn\\externals\\joblib\\_parallel_backends.py\u001b[0m in \u001b[0;36mapply_async\u001b[1;34m(self, func, callback)\u001b[0m\n\u001b[0;32m    180\u001b[0m     \u001b[1;32mdef\u001b[0m \u001b[0mapply_async\u001b[0m\u001b[1;33m(\u001b[0m\u001b[0mself\u001b[0m\u001b[1;33m,\u001b[0m \u001b[0mfunc\u001b[0m\u001b[1;33m,\u001b[0m \u001b[0mcallback\u001b[0m\u001b[1;33m=\u001b[0m\u001b[1;32mNone\u001b[0m\u001b[1;33m)\u001b[0m\u001b[1;33m:\u001b[0m\u001b[1;33m\u001b[0m\u001b[1;33m\u001b[0m\u001b[0m\n\u001b[0;32m    181\u001b[0m         \u001b[1;34m\"\"\"Schedule a func to be run\"\"\"\u001b[0m\u001b[1;33m\u001b[0m\u001b[1;33m\u001b[0m\u001b[0m\n\u001b[1;32m--> 182\u001b[1;33m         \u001b[0mresult\u001b[0m \u001b[1;33m=\u001b[0m \u001b[0mImmediateResult\u001b[0m\u001b[1;33m(\u001b[0m\u001b[0mfunc\u001b[0m\u001b[1;33m)\u001b[0m\u001b[1;33m\u001b[0m\u001b[1;33m\u001b[0m\u001b[0m\n\u001b[0m\u001b[0;32m    183\u001b[0m         \u001b[1;32mif\u001b[0m \u001b[0mcallback\u001b[0m\u001b[1;33m:\u001b[0m\u001b[1;33m\u001b[0m\u001b[1;33m\u001b[0m\u001b[0m\n\u001b[0;32m    184\u001b[0m             \u001b[0mcallback\u001b[0m\u001b[1;33m(\u001b[0m\u001b[0mresult\u001b[0m\u001b[1;33m)\u001b[0m\u001b[1;33m\u001b[0m\u001b[1;33m\u001b[0m\u001b[0m\n",
      "\u001b[1;32m~\\Anaconda3\\envs\\ids\\lib\\site-packages\\sklearn\\externals\\joblib\\_parallel_backends.py\u001b[0m in \u001b[0;36m__init__\u001b[1;34m(self, batch)\u001b[0m\n\u001b[0;32m    547\u001b[0m         \u001b[1;31m# Don't delay the application, to avoid keeping the input\u001b[0m\u001b[1;33m\u001b[0m\u001b[1;33m\u001b[0m\u001b[1;33m\u001b[0m\u001b[0m\n\u001b[0;32m    548\u001b[0m         \u001b[1;31m# arguments in memory\u001b[0m\u001b[1;33m\u001b[0m\u001b[1;33m\u001b[0m\u001b[1;33m\u001b[0m\u001b[0m\n\u001b[1;32m--> 549\u001b[1;33m         \u001b[0mself\u001b[0m\u001b[1;33m.\u001b[0m\u001b[0mresults\u001b[0m \u001b[1;33m=\u001b[0m \u001b[0mbatch\u001b[0m\u001b[1;33m(\u001b[0m\u001b[1;33m)\u001b[0m\u001b[1;33m\u001b[0m\u001b[1;33m\u001b[0m\u001b[0m\n\u001b[0m\u001b[0;32m    550\u001b[0m \u001b[1;33m\u001b[0m\u001b[0m\n\u001b[0;32m    551\u001b[0m     \u001b[1;32mdef\u001b[0m \u001b[0mget\u001b[0m\u001b[1;33m(\u001b[0m\u001b[0mself\u001b[0m\u001b[1;33m)\u001b[0m\u001b[1;33m:\u001b[0m\u001b[1;33m\u001b[0m\u001b[1;33m\u001b[0m\u001b[0m\n",
      "\u001b[1;32m~\\Anaconda3\\envs\\ids\\lib\\site-packages\\sklearn\\externals\\joblib\\parallel.py\u001b[0m in \u001b[0;36m__call__\u001b[1;34m(self)\u001b[0m\n\u001b[0;32m    223\u001b[0m         \u001b[1;32mwith\u001b[0m \u001b[0mparallel_backend\u001b[0m\u001b[1;33m(\u001b[0m\u001b[0mself\u001b[0m\u001b[1;33m.\u001b[0m\u001b[0m_backend\u001b[0m\u001b[1;33m,\u001b[0m \u001b[0mn_jobs\u001b[0m\u001b[1;33m=\u001b[0m\u001b[0mself\u001b[0m\u001b[1;33m.\u001b[0m\u001b[0m_n_jobs\u001b[0m\u001b[1;33m)\u001b[0m\u001b[1;33m:\u001b[0m\u001b[1;33m\u001b[0m\u001b[1;33m\u001b[0m\u001b[0m\n\u001b[0;32m    224\u001b[0m             return [func(*args, **kwargs)\n\u001b[1;32m--> 225\u001b[1;33m                     for func, args, kwargs in self.items]\n\u001b[0m\u001b[0;32m    226\u001b[0m \u001b[1;33m\u001b[0m\u001b[0m\n\u001b[0;32m    227\u001b[0m     \u001b[1;32mdef\u001b[0m \u001b[0m__len__\u001b[0m\u001b[1;33m(\u001b[0m\u001b[0mself\u001b[0m\u001b[1;33m)\u001b[0m\u001b[1;33m:\u001b[0m\u001b[1;33m\u001b[0m\u001b[1;33m\u001b[0m\u001b[0m\n",
      "\u001b[1;32m~\\Anaconda3\\envs\\ids\\lib\\site-packages\\sklearn\\externals\\joblib\\parallel.py\u001b[0m in \u001b[0;36m<listcomp>\u001b[1;34m(.0)\u001b[0m\n\u001b[0;32m    223\u001b[0m         \u001b[1;32mwith\u001b[0m \u001b[0mparallel_backend\u001b[0m\u001b[1;33m(\u001b[0m\u001b[0mself\u001b[0m\u001b[1;33m.\u001b[0m\u001b[0m_backend\u001b[0m\u001b[1;33m,\u001b[0m \u001b[0mn_jobs\u001b[0m\u001b[1;33m=\u001b[0m\u001b[0mself\u001b[0m\u001b[1;33m.\u001b[0m\u001b[0m_n_jobs\u001b[0m\u001b[1;33m)\u001b[0m\u001b[1;33m:\u001b[0m\u001b[1;33m\u001b[0m\u001b[1;33m\u001b[0m\u001b[0m\n\u001b[0;32m    224\u001b[0m             return [func(*args, **kwargs)\n\u001b[1;32m--> 225\u001b[1;33m                     for func, args, kwargs in self.items]\n\u001b[0m\u001b[0;32m    226\u001b[0m \u001b[1;33m\u001b[0m\u001b[0m\n\u001b[0;32m    227\u001b[0m     \u001b[1;32mdef\u001b[0m \u001b[0m__len__\u001b[0m\u001b[1;33m(\u001b[0m\u001b[0mself\u001b[0m\u001b[1;33m)\u001b[0m\u001b[1;33m:\u001b[0m\u001b[1;33m\u001b[0m\u001b[1;33m\u001b[0m\u001b[0m\n",
      "\u001b[1;32m~\\Anaconda3\\envs\\ids\\lib\\site-packages\\sklearn\\model_selection\\_validation.py\u001b[0m in \u001b[0;36m_fit_and_score\u001b[1;34m(estimator, X, y, scorer, train, test, verbose, parameters, fit_params, return_train_score, return_parameters, return_n_test_samples, return_times, return_estimator, error_score)\u001b[0m\n\u001b[0;32m    566\u001b[0m         \u001b[0mfit_time\u001b[0m \u001b[1;33m=\u001b[0m \u001b[0mtime\u001b[0m\u001b[1;33m.\u001b[0m\u001b[0mtime\u001b[0m\u001b[1;33m(\u001b[0m\u001b[1;33m)\u001b[0m \u001b[1;33m-\u001b[0m \u001b[0mstart_time\u001b[0m\u001b[1;33m\u001b[0m\u001b[1;33m\u001b[0m\u001b[0m\n\u001b[0;32m    567\u001b[0m         \u001b[1;31m# _score will return dict if is_multimetric is True\u001b[0m\u001b[1;33m\u001b[0m\u001b[1;33m\u001b[0m\u001b[1;33m\u001b[0m\u001b[0m\n\u001b[1;32m--> 568\u001b[1;33m         \u001b[0mtest_scores\u001b[0m \u001b[1;33m=\u001b[0m \u001b[0m_score\u001b[0m\u001b[1;33m(\u001b[0m\u001b[0mestimator\u001b[0m\u001b[1;33m,\u001b[0m \u001b[0mX_test\u001b[0m\u001b[1;33m,\u001b[0m \u001b[0my_test\u001b[0m\u001b[1;33m,\u001b[0m \u001b[0mscorer\u001b[0m\u001b[1;33m,\u001b[0m \u001b[0mis_multimetric\u001b[0m\u001b[1;33m)\u001b[0m\u001b[1;33m\u001b[0m\u001b[1;33m\u001b[0m\u001b[0m\n\u001b[0m\u001b[0;32m    569\u001b[0m         \u001b[0mscore_time\u001b[0m \u001b[1;33m=\u001b[0m \u001b[0mtime\u001b[0m\u001b[1;33m.\u001b[0m\u001b[0mtime\u001b[0m\u001b[1;33m(\u001b[0m\u001b[1;33m)\u001b[0m \u001b[1;33m-\u001b[0m \u001b[0mstart_time\u001b[0m \u001b[1;33m-\u001b[0m \u001b[0mfit_time\u001b[0m\u001b[1;33m\u001b[0m\u001b[1;33m\u001b[0m\u001b[0m\n\u001b[0;32m    570\u001b[0m         \u001b[1;32mif\u001b[0m \u001b[0mreturn_train_score\u001b[0m\u001b[1;33m:\u001b[0m\u001b[1;33m\u001b[0m\u001b[1;33m\u001b[0m\u001b[0m\n",
      "\u001b[1;32m~\\Anaconda3\\envs\\ids\\lib\\site-packages\\sklearn\\model_selection\\_validation.py\u001b[0m in \u001b[0;36m_score\u001b[1;34m(estimator, X_test, y_test, scorer, is_multimetric)\u001b[0m\n\u001b[0;32m    603\u001b[0m     \"\"\"\n\u001b[0;32m    604\u001b[0m     \u001b[1;32mif\u001b[0m \u001b[0mis_multimetric\u001b[0m\u001b[1;33m:\u001b[0m\u001b[1;33m\u001b[0m\u001b[1;33m\u001b[0m\u001b[0m\n\u001b[1;32m--> 605\u001b[1;33m         \u001b[1;32mreturn\u001b[0m \u001b[0m_multimetric_score\u001b[0m\u001b[1;33m(\u001b[0m\u001b[0mestimator\u001b[0m\u001b[1;33m,\u001b[0m \u001b[0mX_test\u001b[0m\u001b[1;33m,\u001b[0m \u001b[0my_test\u001b[0m\u001b[1;33m,\u001b[0m \u001b[0mscorer\u001b[0m\u001b[1;33m)\u001b[0m\u001b[1;33m\u001b[0m\u001b[1;33m\u001b[0m\u001b[0m\n\u001b[0m\u001b[0;32m    606\u001b[0m     \u001b[1;32melse\u001b[0m\u001b[1;33m:\u001b[0m\u001b[1;33m\u001b[0m\u001b[1;33m\u001b[0m\u001b[0m\n\u001b[0;32m    607\u001b[0m         \u001b[1;32mif\u001b[0m \u001b[0my_test\u001b[0m \u001b[1;32mis\u001b[0m \u001b[1;32mNone\u001b[0m\u001b[1;33m:\u001b[0m\u001b[1;33m\u001b[0m\u001b[1;33m\u001b[0m\u001b[0m\n",
      "\u001b[1;32m~\\Anaconda3\\envs\\ids\\lib\\site-packages\\sklearn\\model_selection\\_validation.py\u001b[0m in \u001b[0;36m_multimetric_score\u001b[1;34m(estimator, X_test, y_test, scorers)\u001b[0m\n\u001b[0;32m    633\u001b[0m             \u001b[0mscore\u001b[0m \u001b[1;33m=\u001b[0m \u001b[0mscorer\u001b[0m\u001b[1;33m(\u001b[0m\u001b[0mestimator\u001b[0m\u001b[1;33m,\u001b[0m \u001b[0mX_test\u001b[0m\u001b[1;33m)\u001b[0m\u001b[1;33m\u001b[0m\u001b[1;33m\u001b[0m\u001b[0m\n\u001b[0;32m    634\u001b[0m         \u001b[1;32melse\u001b[0m\u001b[1;33m:\u001b[0m\u001b[1;33m\u001b[0m\u001b[1;33m\u001b[0m\u001b[0m\n\u001b[1;32m--> 635\u001b[1;33m             \u001b[0mscore\u001b[0m \u001b[1;33m=\u001b[0m \u001b[0mscorer\u001b[0m\u001b[1;33m(\u001b[0m\u001b[0mestimator\u001b[0m\u001b[1;33m,\u001b[0m \u001b[0mX_test\u001b[0m\u001b[1;33m,\u001b[0m \u001b[0my_test\u001b[0m\u001b[1;33m)\u001b[0m\u001b[1;33m\u001b[0m\u001b[1;33m\u001b[0m\u001b[0m\n\u001b[0m\u001b[0;32m    636\u001b[0m \u001b[1;33m\u001b[0m\u001b[0m\n\u001b[0;32m    637\u001b[0m         \u001b[1;32mif\u001b[0m \u001b[0mhasattr\u001b[0m\u001b[1;33m(\u001b[0m\u001b[0mscore\u001b[0m\u001b[1;33m,\u001b[0m \u001b[1;34m'item'\u001b[0m\u001b[1;33m)\u001b[0m\u001b[1;33m:\u001b[0m\u001b[1;33m\u001b[0m\u001b[1;33m\u001b[0m\u001b[0m\n",
      "\u001b[1;32m~\\Anaconda3\\envs\\ids\\lib\\site-packages\\sklearn\\metrics\\scorer.py\u001b[0m in \u001b[0;36m__call__\u001b[1;34m(self, estimator, X, y_true, sample_weight)\u001b[0m\n\u001b[0;32m     89\u001b[0m         \"\"\"\n\u001b[0;32m     90\u001b[0m \u001b[1;33m\u001b[0m\u001b[0m\n\u001b[1;32m---> 91\u001b[1;33m         \u001b[0my_pred\u001b[0m \u001b[1;33m=\u001b[0m \u001b[0mestimator\u001b[0m\u001b[1;33m.\u001b[0m\u001b[0mpredict\u001b[0m\u001b[1;33m(\u001b[0m\u001b[0mX\u001b[0m\u001b[1;33m)\u001b[0m\u001b[1;33m\u001b[0m\u001b[1;33m\u001b[0m\u001b[0m\n\u001b[0m\u001b[0;32m     92\u001b[0m         \u001b[1;32mif\u001b[0m \u001b[0msample_weight\u001b[0m \u001b[1;32mis\u001b[0m \u001b[1;32mnot\u001b[0m \u001b[1;32mNone\u001b[0m\u001b[1;33m:\u001b[0m\u001b[1;33m\u001b[0m\u001b[1;33m\u001b[0m\u001b[0m\n\u001b[0;32m     93\u001b[0m             return self._sign * self._score_func(y_true, y_pred,\n",
      "\u001b[1;32m~\\Anaconda3\\envs\\ids\\lib\\site-packages\\sklearn\\gaussian_process\\gpc.py\u001b[0m in \u001b[0;36mpredict\u001b[1;34m(self, X)\u001b[0m\n\u001b[0;32m    658\u001b[0m         \u001b[0mcheck_is_fitted\u001b[0m\u001b[1;33m(\u001b[0m\u001b[0mself\u001b[0m\u001b[1;33m,\u001b[0m \u001b[1;33m[\u001b[0m\u001b[1;34m\"classes_\"\u001b[0m\u001b[1;33m,\u001b[0m \u001b[1;34m\"n_classes_\"\u001b[0m\u001b[1;33m]\u001b[0m\u001b[1;33m)\u001b[0m\u001b[1;33m\u001b[0m\u001b[1;33m\u001b[0m\u001b[0m\n\u001b[0;32m    659\u001b[0m         \u001b[0mX\u001b[0m \u001b[1;33m=\u001b[0m \u001b[0mcheck_array\u001b[0m\u001b[1;33m(\u001b[0m\u001b[0mX\u001b[0m\u001b[1;33m)\u001b[0m\u001b[1;33m\u001b[0m\u001b[1;33m\u001b[0m\u001b[0m\n\u001b[1;32m--> 660\u001b[1;33m         \u001b[1;32mreturn\u001b[0m \u001b[0mself\u001b[0m\u001b[1;33m.\u001b[0m\u001b[0mbase_estimator_\u001b[0m\u001b[1;33m.\u001b[0m\u001b[0mpredict\u001b[0m\u001b[1;33m(\u001b[0m\u001b[0mX\u001b[0m\u001b[1;33m)\u001b[0m\u001b[1;33m\u001b[0m\u001b[1;33m\u001b[0m\u001b[0m\n\u001b[0m\u001b[0;32m    661\u001b[0m \u001b[1;33m\u001b[0m\u001b[0m\n\u001b[0;32m    662\u001b[0m     \u001b[1;32mdef\u001b[0m \u001b[0mpredict_proba\u001b[0m\u001b[1;33m(\u001b[0m\u001b[0mself\u001b[0m\u001b[1;33m,\u001b[0m \u001b[0mX\u001b[0m\u001b[1;33m)\u001b[0m\u001b[1;33m:\u001b[0m\u001b[1;33m\u001b[0m\u001b[1;33m\u001b[0m\u001b[0m\n",
      "\u001b[1;32m~\\Anaconda3\\envs\\ids\\lib\\site-packages\\sklearn\\multiclass.py\u001b[0m in \u001b[0;36mpredict\u001b[1;34m(self, X)\u001b[0m\n\u001b[0;32m    299\u001b[0m             \u001b[0margmaxima\u001b[0m \u001b[1;33m=\u001b[0m \u001b[0mnp\u001b[0m\u001b[1;33m.\u001b[0m\u001b[0mzeros\u001b[0m\u001b[1;33m(\u001b[0m\u001b[0mn_samples\u001b[0m\u001b[1;33m,\u001b[0m \u001b[0mdtype\u001b[0m\u001b[1;33m=\u001b[0m\u001b[0mint\u001b[0m\u001b[1;33m)\u001b[0m\u001b[1;33m\u001b[0m\u001b[1;33m\u001b[0m\u001b[0m\n\u001b[0;32m    300\u001b[0m             \u001b[1;32mfor\u001b[0m \u001b[0mi\u001b[0m\u001b[1;33m,\u001b[0m \u001b[0me\u001b[0m \u001b[1;32min\u001b[0m \u001b[0menumerate\u001b[0m\u001b[1;33m(\u001b[0m\u001b[0mself\u001b[0m\u001b[1;33m.\u001b[0m\u001b[0mestimators_\u001b[0m\u001b[1;33m)\u001b[0m\u001b[1;33m:\u001b[0m\u001b[1;33m\u001b[0m\u001b[1;33m\u001b[0m\u001b[0m\n\u001b[1;32m--> 301\u001b[1;33m                 \u001b[0mpred\u001b[0m \u001b[1;33m=\u001b[0m \u001b[0m_predict_binary\u001b[0m\u001b[1;33m(\u001b[0m\u001b[0me\u001b[0m\u001b[1;33m,\u001b[0m \u001b[0mX\u001b[0m\u001b[1;33m)\u001b[0m\u001b[1;33m\u001b[0m\u001b[1;33m\u001b[0m\u001b[0m\n\u001b[0m\u001b[0;32m    302\u001b[0m                 \u001b[0mnp\u001b[0m\u001b[1;33m.\u001b[0m\u001b[0mmaximum\u001b[0m\u001b[1;33m(\u001b[0m\u001b[0mmaxima\u001b[0m\u001b[1;33m,\u001b[0m \u001b[0mpred\u001b[0m\u001b[1;33m,\u001b[0m \u001b[0mout\u001b[0m\u001b[1;33m=\u001b[0m\u001b[0mmaxima\u001b[0m\u001b[1;33m)\u001b[0m\u001b[1;33m\u001b[0m\u001b[1;33m\u001b[0m\u001b[0m\n\u001b[0;32m    303\u001b[0m                 \u001b[0margmaxima\u001b[0m\u001b[1;33m[\u001b[0m\u001b[0mmaxima\u001b[0m \u001b[1;33m==\u001b[0m \u001b[0mpred\u001b[0m\u001b[1;33m]\u001b[0m \u001b[1;33m=\u001b[0m \u001b[0mi\u001b[0m\u001b[1;33m\u001b[0m\u001b[1;33m\u001b[0m\u001b[0m\n",
      "\u001b[1;32m~\\Anaconda3\\envs\\ids\\lib\\site-packages\\sklearn\\multiclass.py\u001b[0m in \u001b[0;36m_predict_binary\u001b[1;34m(estimator, X)\u001b[0m\n\u001b[0;32m     96\u001b[0m     \u001b[1;32mexcept\u001b[0m \u001b[1;33m(\u001b[0m\u001b[0mAttributeError\u001b[0m\u001b[1;33m,\u001b[0m \u001b[0mNotImplementedError\u001b[0m\u001b[1;33m)\u001b[0m\u001b[1;33m:\u001b[0m\u001b[1;33m\u001b[0m\u001b[1;33m\u001b[0m\u001b[0m\n\u001b[0;32m     97\u001b[0m         \u001b[1;31m# probabilities of the positive class\u001b[0m\u001b[1;33m\u001b[0m\u001b[1;33m\u001b[0m\u001b[1;33m\u001b[0m\u001b[0m\n\u001b[1;32m---> 98\u001b[1;33m         \u001b[0mscore\u001b[0m \u001b[1;33m=\u001b[0m \u001b[0mestimator\u001b[0m\u001b[1;33m.\u001b[0m\u001b[0mpredict_proba\u001b[0m\u001b[1;33m(\u001b[0m\u001b[0mX\u001b[0m\u001b[1;33m)\u001b[0m\u001b[1;33m[\u001b[0m\u001b[1;33m:\u001b[0m\u001b[1;33m,\u001b[0m \u001b[1;36m1\u001b[0m\u001b[1;33m]\u001b[0m\u001b[1;33m\u001b[0m\u001b[1;33m\u001b[0m\u001b[0m\n\u001b[0m\u001b[0;32m     99\u001b[0m     \u001b[1;32mreturn\u001b[0m \u001b[0mscore\u001b[0m\u001b[1;33m\u001b[0m\u001b[1;33m\u001b[0m\u001b[0m\n\u001b[0;32m    100\u001b[0m \u001b[1;33m\u001b[0m\u001b[0m\n",
      "\u001b[1;32m~\\Anaconda3\\envs\\ids\\lib\\site-packages\\sklearn\\gaussian_process\\gpc.py\u001b[0m in \u001b[0;36mpredict_proba\u001b[1;34m(self, X)\u001b[0m\n\u001b[0;32m    285\u001b[0m         \u001b[0mK_star\u001b[0m \u001b[1;33m=\u001b[0m \u001b[0mself\u001b[0m\u001b[1;33m.\u001b[0m\u001b[0mkernel_\u001b[0m\u001b[1;33m(\u001b[0m\u001b[0mself\u001b[0m\u001b[1;33m.\u001b[0m\u001b[0mX_train_\u001b[0m\u001b[1;33m,\u001b[0m \u001b[0mX\u001b[0m\u001b[1;33m)\u001b[0m  \u001b[1;31m# K_star =k(x_star)\u001b[0m\u001b[1;33m\u001b[0m\u001b[1;33m\u001b[0m\u001b[0m\n\u001b[0;32m    286\u001b[0m         \u001b[0mf_star\u001b[0m \u001b[1;33m=\u001b[0m \u001b[0mK_star\u001b[0m\u001b[1;33m.\u001b[0m\u001b[0mT\u001b[0m\u001b[1;33m.\u001b[0m\u001b[0mdot\u001b[0m\u001b[1;33m(\u001b[0m\u001b[0mself\u001b[0m\u001b[1;33m.\u001b[0m\u001b[0my_train_\u001b[0m \u001b[1;33m-\u001b[0m \u001b[0mself\u001b[0m\u001b[1;33m.\u001b[0m\u001b[0mpi_\u001b[0m\u001b[1;33m)\u001b[0m  \u001b[1;31m# Line 4\u001b[0m\u001b[1;33m\u001b[0m\u001b[1;33m\u001b[0m\u001b[0m\n\u001b[1;32m--> 287\u001b[1;33m         \u001b[0mv\u001b[0m \u001b[1;33m=\u001b[0m \u001b[0msolve\u001b[0m\u001b[1;33m(\u001b[0m\u001b[0mself\u001b[0m\u001b[1;33m.\u001b[0m\u001b[0mL_\u001b[0m\u001b[1;33m,\u001b[0m \u001b[0mself\u001b[0m\u001b[1;33m.\u001b[0m\u001b[0mW_sr_\u001b[0m\u001b[1;33m[\u001b[0m\u001b[1;33m:\u001b[0m\u001b[1;33m,\u001b[0m \u001b[0mnp\u001b[0m\u001b[1;33m.\u001b[0m\u001b[0mnewaxis\u001b[0m\u001b[1;33m]\u001b[0m \u001b[1;33m*\u001b[0m \u001b[0mK_star\u001b[0m\u001b[1;33m)\u001b[0m  \u001b[1;31m# Line 5\u001b[0m\u001b[1;33m\u001b[0m\u001b[1;33m\u001b[0m\u001b[0m\n\u001b[0m\u001b[0;32m    288\u001b[0m         \u001b[1;31m# Line 6 (compute np.diag(v.T.dot(v)) via einsum)\u001b[0m\u001b[1;33m\u001b[0m\u001b[1;33m\u001b[0m\u001b[1;33m\u001b[0m\u001b[0m\n\u001b[0;32m    289\u001b[0m         \u001b[0mvar_f_star\u001b[0m \u001b[1;33m=\u001b[0m \u001b[0mself\u001b[0m\u001b[1;33m.\u001b[0m\u001b[0mkernel_\u001b[0m\u001b[1;33m.\u001b[0m\u001b[0mdiag\u001b[0m\u001b[1;33m(\u001b[0m\u001b[0mX\u001b[0m\u001b[1;33m)\u001b[0m \u001b[1;33m-\u001b[0m \u001b[0mnp\u001b[0m\u001b[1;33m.\u001b[0m\u001b[0meinsum\u001b[0m\u001b[1;33m(\u001b[0m\u001b[1;34m\"ij,ij->j\"\u001b[0m\u001b[1;33m,\u001b[0m \u001b[0mv\u001b[0m\u001b[1;33m,\u001b[0m \u001b[0mv\u001b[0m\u001b[1;33m)\u001b[0m\u001b[1;33m\u001b[0m\u001b[1;33m\u001b[0m\u001b[0m\n",
      "\u001b[1;32m~\\Anaconda3\\envs\\ids\\lib\\site-packages\\scipy\\linalg\\basic.py\u001b[0m in \u001b[0;36msolve\u001b[1;34m(a, b, sym_pos, lower, overwrite_a, overwrite_b, debug, check_finite, assume_a, transposed)\u001b[0m\n\u001b[0;32m    216\u001b[0m         \u001b[0m_solve_check\u001b[0m\u001b[1;33m(\u001b[0m\u001b[0mn\u001b[0m\u001b[1;33m,\u001b[0m \u001b[0minfo\u001b[0m\u001b[1;33m)\u001b[0m\u001b[1;33m\u001b[0m\u001b[1;33m\u001b[0m\u001b[0m\n\u001b[0;32m    217\u001b[0m         x, info = getrs(lu, ipvt, b1,\n\u001b[1;32m--> 218\u001b[1;33m                         trans=trans, overwrite_b=overwrite_b)\n\u001b[0m\u001b[0;32m    219\u001b[0m         \u001b[0m_solve_check\u001b[0m\u001b[1;33m(\u001b[0m\u001b[0mn\u001b[0m\u001b[1;33m,\u001b[0m \u001b[0minfo\u001b[0m\u001b[1;33m)\u001b[0m\u001b[1;33m\u001b[0m\u001b[1;33m\u001b[0m\u001b[0m\n\u001b[0;32m    220\u001b[0m         \u001b[0mrcond\u001b[0m\u001b[1;33m,\u001b[0m \u001b[0minfo\u001b[0m \u001b[1;33m=\u001b[0m \u001b[0mgecon\u001b[0m\u001b[1;33m(\u001b[0m\u001b[0mlu\u001b[0m\u001b[1;33m,\u001b[0m \u001b[0manorm\u001b[0m\u001b[1;33m,\u001b[0m \u001b[0mnorm\u001b[0m\u001b[1;33m=\u001b[0m\u001b[0mnorm\u001b[0m\u001b[1;33m)\u001b[0m\u001b[1;33m\u001b[0m\u001b[1;33m\u001b[0m\u001b[0m\n",
      "\u001b[1;31mKeyboardInterrupt\u001b[0m: "
     ]
    }
   ],
   "source": [
    "#HYPERPARAMETRII\n",
    "search_gaussian(X_semeion_train, y_semeion_train, X_semeion_test, y_semeion_test)"
   ]
  },
  {
   "cell_type": "markdown",
   "metadata": {},
   "source": [
    "## [Wireless Indoor Localization Data Set](http://archive.ics.uci.edu/ml/datasets/Wireless+Indoor+Localization)"
   ]
  },
  {
   "cell_type": "code",
   "execution_count": 45,
   "metadata": {
    "ExecuteTime": {
     "end_time": "2019-04-14T17:38:19.331382Z",
     "start_time": "2019-04-14T17:38:19.208433Z"
    },
    "scrolled": false
   },
   "outputs": [
    {
     "data": {
      "text/html": [
       "<div>\n",
       "<style scoped>\n",
       "    .dataframe tbody tr th:only-of-type {\n",
       "        vertical-align: middle;\n",
       "    }\n",
       "\n",
       "    .dataframe tbody tr th {\n",
       "        vertical-align: top;\n",
       "    }\n",
       "\n",
       "    .dataframe thead th {\n",
       "        text-align: right;\n",
       "    }\n",
       "</style>\n",
       "<table border=\"1\" class=\"dataframe\">\n",
       "  <thead>\n",
       "    <tr style=\"text-align: right;\">\n",
       "      <th></th>\n",
       "      <th>0</th>\n",
       "      <th>1</th>\n",
       "      <th>2</th>\n",
       "      <th>3</th>\n",
       "      <th>4</th>\n",
       "      <th>5</th>\n",
       "      <th>6</th>\n",
       "      <th>7</th>\n",
       "    </tr>\n",
       "  </thead>\n",
       "  <tbody>\n",
       "    <tr>\n",
       "      <th>0</th>\n",
       "      <td>-64</td>\n",
       "      <td>-56</td>\n",
       "      <td>-61</td>\n",
       "      <td>-66</td>\n",
       "      <td>-71</td>\n",
       "      <td>-82</td>\n",
       "      <td>-81</td>\n",
       "      <td>1</td>\n",
       "    </tr>\n",
       "    <tr>\n",
       "      <th>1</th>\n",
       "      <td>-68</td>\n",
       "      <td>-57</td>\n",
       "      <td>-61</td>\n",
       "      <td>-65</td>\n",
       "      <td>-71</td>\n",
       "      <td>-85</td>\n",
       "      <td>-85</td>\n",
       "      <td>1</td>\n",
       "    </tr>\n",
       "    <tr>\n",
       "      <th>2</th>\n",
       "      <td>-63</td>\n",
       "      <td>-60</td>\n",
       "      <td>-60</td>\n",
       "      <td>-67</td>\n",
       "      <td>-76</td>\n",
       "      <td>-85</td>\n",
       "      <td>-84</td>\n",
       "      <td>1</td>\n",
       "    </tr>\n",
       "    <tr>\n",
       "      <th>3</th>\n",
       "      <td>-61</td>\n",
       "      <td>-60</td>\n",
       "      <td>-68</td>\n",
       "      <td>-62</td>\n",
       "      <td>-77</td>\n",
       "      <td>-90</td>\n",
       "      <td>-80</td>\n",
       "      <td>1</td>\n",
       "    </tr>\n",
       "    <tr>\n",
       "      <th>4</th>\n",
       "      <td>-63</td>\n",
       "      <td>-65</td>\n",
       "      <td>-60</td>\n",
       "      <td>-63</td>\n",
       "      <td>-77</td>\n",
       "      <td>-81</td>\n",
       "      <td>-87</td>\n",
       "      <td>1</td>\n",
       "    </tr>\n",
       "  </tbody>\n",
       "</table>\n",
       "</div>"
      ],
      "text/plain": [
       "    0   1   2   3   4   5   6  7\n",
       "0 -64 -56 -61 -66 -71 -82 -81  1\n",
       "1 -68 -57 -61 -65 -71 -85 -85  1\n",
       "2 -63 -60 -60 -67 -76 -85 -84  1\n",
       "3 -61 -60 -68 -62 -77 -90 -80  1\n",
       "4 -63 -65 -60 -63 -77 -81 -87  1"
      ]
     },
     "execution_count": 45,
     "metadata": {},
     "output_type": "execute_result"
    }
   ],
   "source": [
    "wifi_df = pd.read_csv('data/wifi_localization.txt', sep=r'\\s+', header=None)\n",
    "wifi_df.head()"
   ]
  },
  {
   "cell_type": "code",
   "execution_count": 46,
   "metadata": {
    "ExecuteTime": {
     "end_time": "2019-04-14T17:38:20.134963Z",
     "start_time": "2019-04-14T17:38:20.126956Z"
    },
    "scrolled": true
   },
   "outputs": [
    {
     "name": "stdout",
     "output_type": "stream",
     "text": [
      "<class 'pandas.core.frame.DataFrame'>\n",
      "RangeIndex: 2000 entries, 0 to 1999\n",
      "Data columns (total 8 columns):\n",
      "0    2000 non-null int64\n",
      "1    2000 non-null int64\n",
      "2    2000 non-null int64\n",
      "3    2000 non-null int64\n",
      "4    2000 non-null int64\n",
      "5    2000 non-null int64\n",
      "6    2000 non-null int64\n",
      "7    2000 non-null int64\n",
      "dtypes: int64(8)\n",
      "memory usage: 125.1 KB\n"
     ]
    }
   ],
   "source": [
    "wifi_df.info()"
   ]
  },
  {
   "cell_type": "code",
   "execution_count": 47,
   "metadata": {
    "ExecuteTime": {
     "end_time": "2019-04-14T17:38:22.431958Z",
     "start_time": "2019-04-14T17:38:22.427968Z"
    }
   },
   "outputs": [
    {
     "name": "stdout",
     "output_type": "stream",
     "text": [
      "(2000,) (2000, 7)\n"
     ]
    }
   ],
   "source": [
    "X_wifi = wifi_df.values[:, :-1]\n",
    "y_wifi = wifi_df.values[:, -1]\n",
    "print(y_wifi.shape, X_wifi.shape)"
   ]
  },
  {
   "cell_type": "code",
   "execution_count": 48,
   "metadata": {
    "ExecuteTime": {
     "end_time": "2019-04-14T17:38:22.874425Z",
     "start_time": "2019-04-14T17:38:22.870436Z"
    }
   },
   "outputs": [
    {
     "name": "stdout",
     "output_type": "stream",
     "text": [
      "(1333, 7) (667, 7) (1333,) (667,)\n"
     ]
    }
   ],
   "source": [
    "X_wifi_train, X_wifi_test, y_wifi_train, y_wifi_test = \\\n",
    "    train_test_split(X_wifi, y_wifi, test_size=1/3, random_state=5)\n",
    "print(X_wifi_train.shape, X_wifi_test.shape, y_wifi_train.shape, y_wifi_test.shape)"
   ]
  },
  {
   "cell_type": "markdown",
   "metadata": {},
   "source": [
    "### KNeighborsClassifier"
   ]
  },
  {
   "cell_type": "code",
   "execution_count": 49,
   "metadata": {
    "ExecuteTime": {
     "end_time": "2019-04-14T17:38:24.056431Z",
     "start_time": "2019-04-14T17:38:24.027530Z"
    }
   },
   "outputs": [
    {
     "data": {
      "text/plain": [
       "KNeighborsClassifier(algorithm='auto', leaf_size=30, metric='minkowski',\n",
       "           metric_params=None, n_jobs=None, n_neighbors=5, p=2,\n",
       "           weights='uniform')"
      ]
     },
     "execution_count": 49,
     "metadata": {},
     "output_type": "execute_result"
    }
   ],
   "source": [
    "model_wifi_KNN = KNeighborsClassifier(n_neighbors=5)\n",
    "model_wifi_KNN.fit(X_wifi_train, y_wifi_train)"
   ]
  },
  {
   "cell_type": "code",
   "execution_count": 50,
   "metadata": {
    "ExecuteTime": {
     "end_time": "2019-04-14T17:38:24.670458Z",
     "start_time": "2019-04-14T17:38:24.660483Z"
    }
   },
   "outputs": [],
   "source": [
    "y_wifi_predicted_KNN = model_wifi_KNN.predict(X_wifi_test)"
   ]
  },
  {
   "cell_type": "code",
   "execution_count": 51,
   "metadata": {
    "ExecuteTime": {
     "end_time": "2019-04-14T17:38:25.135551Z",
     "start_time": "2019-04-14T17:38:25.130564Z"
    }
   },
   "outputs": [
    {
     "name": "stdout",
     "output_type": "stream",
     "text": [
      "Acuratete: 0.9850074962518741\n"
     ]
    }
   ],
   "source": [
    "print('Acuratete:', metrics.accuracy_score(y_wifi_test, y_wifi_predicted_KNN))"
   ]
  },
  {
   "cell_type": "code",
   "execution_count": 52,
   "metadata": {
    "ExecuteTime": {
     "end_time": "2019-04-14T17:38:33.634718Z",
     "start_time": "2019-04-14T17:38:33.602804Z"
    }
   },
   "outputs": [
    {
     "name": "stdout",
     "output_type": "stream",
     "text": [
      "Scores cross val: [0.97   0.9775 0.9725 0.98   0.9825], Scores cross val Mean: 0.9765\n",
      "Scores f1: 0.9850433316294402\n",
      "Scores cross val train: [0.98880597 0.98880597 0.97752809 0.98490566 0.98490566], Scores cross val Mean: 0.984990270188173\n",
      "Scores cross val test: [0.99259259 0.99259259 0.98496241 0.99242424 0.97727273], Scores cross val Mean: 0.9879689121794385\n",
      "Scores cross val train f1: [0.98885759 0.98879969 0.97745585 0.98495459 0.98480572], Scores cross val Mean: 0.9849746886246716\n",
      "Scores cross val test f1: [0.99275362 0.99264547 0.98506971 0.99253731 0.97759197], Scores cross val Mean: 0.9881196177821744\n"
     ]
    }
   ],
   "source": [
    "scores_wifi_KNN_cross_val = cross_val_score(model_wifi_KNN, X_wifi, y_wifi, cv=5, scoring='accuracy')\n",
    "scores_wifi_KNN_f1 = metrics.f1_score(y_wifi_test, y_wifi_predicted_KNN, average='weighted')\n",
    "print(f'Scores cross val: {scores_wifi_KNN_cross_val}, Scores cross val Mean: {scores_wifi_KNN_cross_val.mean()}')\n",
    "print(f'Scores f1: {scores_wifi_KNN_f1}')\n",
    "\n",
    "scores_wifi_KNN_cross_val_train = cross_val_score(model_wifi_KNN, X_wifi_train, y_wifi_train, cv=5, scoring='accuracy')\n",
    "print(f'Scores cross val train: {scores_wifi_KNN_cross_val_train}, Scores cross val Mean: {scores_wifi_KNN_cross_val_train.mean()}')\n",
    "\n",
    "scores_wifi_KNN_cross_val_test = cross_val_score(model_wifi_KNN, X_wifi_test, y_wifi_test, cv=5, scoring='accuracy')\n",
    "print(f'Scores cross val test: {scores_wifi_KNN_cross_val_test}, Scores cross val Mean: {scores_wifi_KNN_cross_val_test.mean()}')\n",
    "\n",
    "scores_wifi_KNN_cross_val_train_f1 = cross_val_score(model_wifi_KNN, X_wifi_train, y_wifi_train, cv=5, scoring='f1_macro')\n",
    "print(f'Scores cross val train f1: {scores_wifi_KNN_cross_val_train_f1}, Scores cross val Mean: {scores_wifi_KNN_cross_val_train_f1.mean()}')\n",
    "\n",
    "scores_wifi_KNN_cross_val_test_f1 = cross_val_score(model_wifi_KNN, X_wifi_test, y_wifi_test, cv=5, scoring='f1_macro')\n",
    "print(f'Scores cross val test f1: {scores_wifi_KNN_cross_val_test_f1}, Scores cross val Mean: {scores_wifi_KNN_cross_val_test_f1.mean()}')"
   ]
  },
  {
   "cell_type": "code",
   "execution_count": 53,
   "metadata": {},
   "outputs": [],
   "source": [
    "#HYPERPARAMETRII\n",
    "search_knn(X_wifi_train, y_wifi_train, X_wifi_test, y_wifi_test)"
   ]
  },
  {
   "cell_type": "markdown",
   "metadata": {
    "ExecuteTime": {
     "end_time": "2019-04-13T13:23:55.990763Z",
     "start_time": "2019-04-13T13:23:55.986738Z"
    }
   },
   "source": [
    "### Multi-layer Perceptron classifier"
   ]
  },
  {
   "cell_type": "code",
   "execution_count": 54,
   "metadata": {
    "ExecuteTime": {
     "end_time": "2019-04-14T17:38:48.904169Z",
     "start_time": "2019-04-14T17:38:48.389596Z"
    }
   },
   "outputs": [
    {
     "data": {
      "text/plain": [
       "MLPClassifier(activation='relu', alpha=0.0001, batch_size='auto', beta_1=0.9,\n",
       "       beta_2=0.999, early_stopping=False, epsilon=1e-08,\n",
       "       hidden_layer_sizes=(100,), learning_rate='constant',\n",
       "       learning_rate_init=0.001, max_iter=1000, momentum=0.9,\n",
       "       n_iter_no_change=10, nesterovs_momentum=True, power_t=0.5,\n",
       "       random_state=None, shuffle=True, solver='adam', tol=0.0001,\n",
       "       validation_fraction=0.1, verbose=False, warm_start=False)"
      ]
     },
     "execution_count": 54,
     "metadata": {},
     "output_type": "execute_result"
    }
   ],
   "source": [
    "model_wifi_MLPC = MLPClassifier(max_iter=1000)\n",
    "model_wifi_MLPC.fit(X_wifi_train, y_wifi_train)"
   ]
  },
  {
   "cell_type": "code",
   "execution_count": 55,
   "metadata": {
    "ExecuteTime": {
     "end_time": "2019-04-14T17:38:54.428763Z",
     "start_time": "2019-04-14T17:38:54.424774Z"
    }
   },
   "outputs": [],
   "source": [
    "y_wifi_predicted_MLPC = model_wifi_MLPC.predict(X_wifi_test)"
   ]
  },
  {
   "cell_type": "code",
   "execution_count": 56,
   "metadata": {
    "ExecuteTime": {
     "end_time": "2019-04-14T17:38:55.951229Z",
     "start_time": "2019-04-14T17:38:55.947240Z"
    }
   },
   "outputs": [
    {
     "name": "stdout",
     "output_type": "stream",
     "text": [
      "Acuratete: 0.974512743628186\n"
     ]
    }
   ],
   "source": [
    "print('Acuratete:', metrics.accuracy_score(y_wifi_test, y_wifi_predicted_MLPC))"
   ]
  },
  {
   "cell_type": "code",
   "execution_count": 57,
   "metadata": {
    "ExecuteTime": {
     "end_time": "2019-04-14T17:39:00.733466Z",
     "start_time": "2019-04-14T17:38:57.576138Z"
    }
   },
   "outputs": [
    {
     "name": "stdout",
     "output_type": "stream",
     "text": [
      "Scores cross val: [0.95   0.9875 0.955  0.9775 0.97  ], Scores cross val Mean: 0.968\n",
      "Scores f1: 0.9744045357984621\n",
      "Scores cross val train: [0.98134328 0.98134328 0.97378277 0.98113208 0.97735849], Scores cross val Mean: 0.9789919809474992\n",
      "Scores cross val test: [0.97037037 0.97777778 0.97744361 0.98484848 0.96969697], Scores cross val Mean: 0.9760274423432318\n",
      "Scores cross val train f1: [0.9739734  0.97022864 0.97007919 0.9772642  0.97395707], Scores cross val Mean: 0.973100496168071\n",
      "Scores cross val test f1: [0.963437   0.97813018 0.97748541 0.98494746 0.97761194], Scores cross val Mean: 0.9763223977589173\n"
     ]
    }
   ],
   "source": [
    "scores_wifi_MLPC_cross_val = cross_val_score(model_wifi_MLPC, X_wifi, y_wifi, cv=5, scoring='accuracy')\n",
    "scores_wifi_MLPC_f1 = metrics.f1_score(y_wifi_test, y_wifi_predicted_MLPC, average='weighted')\n",
    "print(f'Scores cross val: {scores_wifi_MLPC_cross_val}, Scores cross val Mean: {scores_wifi_MLPC_cross_val.mean()}')\n",
    "print(f'Scores f1: {scores_wifi_MLPC_f1}')\n",
    "\n",
    "scores_wifi_MLPC_cross_val_train = cross_val_score(model_wifi_MLPC, X_wifi_train, y_wifi_train, cv=5, scoring='accuracy')\n",
    "print(f'Scores cross val train: {scores_wifi_MLPC_cross_val_train}, Scores cross val Mean: {scores_wifi_MLPC_cross_val_train.mean()}')\n",
    "\n",
    "scores_wifi_MLPC_cross_val_test = cross_val_score(model_wifi_MLPC, X_wifi_test, y_wifi_test, cv=5, scoring='accuracy')\n",
    "print(f'Scores cross val test: {scores_wifi_MLPC_cross_val_test}, Scores cross val Mean: {scores_wifi_MLPC_cross_val_test.mean()}')\n",
    "\n",
    "scores_wifi_MLPC_cross_val_train_f1 = cross_val_score(model_wifi_MLPC, X_wifi_train, y_wifi_train, cv=5, scoring='f1_macro')\n",
    "print(f'Scores cross val train f1: {scores_wifi_MLPC_cross_val_train_f1}, Scores cross val Mean: {scores_wifi_MLPC_cross_val_train_f1.mean()}')\n",
    "\n",
    "scores_wifi_MLPC_cross_val_test_f1 = cross_val_score(model_wifi_MLPC, X_wifi_test, y_wifi_test, cv=5, scoring='f1_macro')\n",
    "print(f'Scores cross val test f1: {scores_wifi_MLPC_cross_val_test_f1}, Scores cross val Mean: {scores_wifi_MLPC_cross_val_test_f1.mean()}')"
   ]
  },
  {
   "cell_type": "code",
   "execution_count": 58,
   "metadata": {
    "ExecuteTime": {
     "end_time": "2019-04-14T17:39:02.063602Z",
     "start_time": "2019-04-14T17:39:02.060638Z"
    }
   },
   "outputs": [],
   "source": [
    "#HYPERPARAMETRII\n",
    "search_mlpc(X_wifi_train, y_wifi_train, X_wifi_test, y_wifi_test)"
   ]
  },
  {
   "cell_type": "markdown",
   "metadata": {},
   "source": [
    "### Logistic Regression"
   ]
  },
  {
   "cell_type": "code",
   "execution_count": 59,
   "metadata": {
    "ExecuteTime": {
     "end_time": "2019-04-14T17:39:10.461610Z",
     "start_time": "2019-04-14T17:39:09.233091Z"
    }
   },
   "outputs": [
    {
     "data": {
      "text/plain": [
       "LogisticRegression(C=1.0, class_weight=None, dual=False, fit_intercept=True,\n",
       "          intercept_scaling=1, max_iter=10000, multi_class='auto',\n",
       "          n_jobs=None, penalty='l2', random_state=None, solver='lbfgs',\n",
       "          tol=0.0001, verbose=0, warm_start=False)"
      ]
     },
     "execution_count": 59,
     "metadata": {},
     "output_type": "execute_result"
    }
   ],
   "source": [
    "model_wifi_LogisticReg = LogisticRegression(solver='lbfgs', multi_class='auto', max_iter=10000)\n",
    "model_wifi_LogisticReg.fit(X_wifi_train, y_wifi_train)"
   ]
  },
  {
   "cell_type": "code",
   "execution_count": 60,
   "metadata": {
    "ExecuteTime": {
     "end_time": "2019-04-14T17:39:16.300061Z",
     "start_time": "2019-04-14T17:39:16.296072Z"
    }
   },
   "outputs": [],
   "source": [
    "y_wifi_predicted_LogisticReg = model_wifi_LogisticReg.predict(X_wifi_test)"
   ]
  },
  {
   "cell_type": "code",
   "execution_count": 61,
   "metadata": {
    "ExecuteTime": {
     "end_time": "2019-04-14T17:39:21.581875Z",
     "start_time": "2019-04-14T17:39:21.577885Z"
    }
   },
   "outputs": [
    {
     "name": "stdout",
     "output_type": "stream",
     "text": [
      "Acuratete: 0.974512743628186\n"
     ]
    }
   ],
   "source": [
    "print('Acuratete:', metrics.accuracy_score(y_wifi_test, y_wifi_predicted_MLPC))"
   ]
  },
  {
   "cell_type": "code",
   "execution_count": 62,
   "metadata": {
    "ExecuteTime": {
     "end_time": "2019-04-14T17:39:30.483757Z",
     "start_time": "2019-04-14T17:39:22.464234Z"
    }
   },
   "outputs": [
    {
     "name": "stdout",
     "output_type": "stream",
     "text": [
      "Scores cross val: [0.9725 0.985  0.955  0.98   0.98  ], Scores cross val Mean: 0.9745000000000001\n",
      "Scores f1: 0.9820406176904446\n",
      "Scores cross val train: [0.98134328 0.98507463 0.96629213 0.97358491 0.98490566], Scores cross val Mean: 0.9782401222633915\n",
      "Scores cross val test: [0.97777778 0.98518519 0.96992481 0.97727273 0.99242424], Scores cross val Mean: 0.9805169489380015\n",
      "Scores cross val train f1: [0.98128183 0.98507337 0.96610074 0.9737589  0.98480572], Scores cross val Mean: 0.9782041121113589\n",
      "Scores cross val test f1: [0.97825623 0.98539459 0.9698792  0.97737725 0.99253731], Scores cross val Mean: 0.9806889184501095\n"
     ]
    }
   ],
   "source": [
    "scores_wifi_LogisticReg_cross_val = cross_val_score(model_wifi_LogisticReg, X_wifi, y_wifi, cv=5, scoring='accuracy')\n",
    "scores_wifi_LogisticReg_f1 = metrics.f1_score(y_wifi_test, y_wifi_predicted_LogisticReg, average='weighted')\n",
    "print(f'Scores cross val: {scores_wifi_LogisticReg_cross_val}, Scores cross val Mean: {scores_wifi_LogisticReg_cross_val.mean()}')\n",
    "print(f'Scores f1: {scores_wifi_LogisticReg_f1}')\n",
    "\n",
    "scores_wifi_LogisticReg_cross_val_train = cross_val_score(model_wifi_LogisticReg, X_wifi_train, y_wifi_train, cv=5, scoring='accuracy')\n",
    "print(f'Scores cross val train: {scores_wifi_LogisticReg_cross_val_train}, Scores cross val Mean: {scores_wifi_LogisticReg_cross_val_train.mean()}')\n",
    "\n",
    "scores_wifi_LogisticReg_cross_val_test = cross_val_score(model_wifi_LogisticReg, X_wifi_test, y_wifi_test, cv=5, scoring='accuracy')\n",
    "print(f'Scores cross val test: {scores_wifi_LogisticReg_cross_val_test}, Scores cross val Mean: {scores_wifi_LogisticReg_cross_val_test.mean()}')\n",
    "\n",
    "scores_wifi_LogisticReg_cross_val_train_f1 = cross_val_score(model_wifi_LogisticReg, X_wifi_train, y_wifi_train, cv=5, scoring='f1_macro')\n",
    "print(f'Scores cross val train f1: {scores_wifi_LogisticReg_cross_val_train_f1}, Scores cross val Mean: {scores_wifi_LogisticReg_cross_val_train_f1.mean()}')\n",
    "\n",
    "scores_wifi_LogisticReg_cross_val_test_f1 = cross_val_score(model_wifi_LogisticReg, X_wifi_test, y_wifi_test, cv=5, scoring='f1_macro')\n",
    "print(f'Scores cross val test f1: {scores_wifi_LogisticReg_cross_val_test_f1}, Scores cross val Mean: {scores_wifi_LogisticReg_cross_val_test_f1.mean()}')"
   ]
  },
  {
   "cell_type": "code",
   "execution_count": 63,
   "metadata": {
    "ExecuteTime": {
     "end_time": "2019-04-14T17:39:31.642759Z",
     "start_time": "2019-04-14T17:39:31.639767Z"
    }
   },
   "outputs": [],
   "source": [
    "#HYPERPARAMETRII\n",
    "search_logistic_reg(X_wifi_train, y_wifi_train, X_wifi_test, y_wifi_test)"
   ]
  },
  {
   "cell_type": "markdown",
   "metadata": {},
   "source": [
    "### SVC"
   ]
  },
  {
   "cell_type": "code",
   "execution_count": 64,
   "metadata": {
    "ExecuteTime": {
     "end_time": "2019-04-14T17:39:32.490595Z",
     "start_time": "2019-04-14T17:39:32.468638Z"
    }
   },
   "outputs": [
    {
     "data": {
      "text/plain": [
       "SVC(C=1.0, cache_size=200, class_weight=None, coef0=0.0,\n",
       "  decision_function_shape='ovr', degree=3, gamma='scale', kernel='rbf',\n",
       "  max_iter=-1, probability=False, random_state=None, shrinking=True,\n",
       "  tol=0.001, verbose=False)"
      ]
     },
     "execution_count": 64,
     "metadata": {},
     "output_type": "execute_result"
    }
   ],
   "source": [
    "model_wifi_SVC = SVC(gamma='scale')\n",
    "model_wifi_SVC.fit(X_wifi_train, y_wifi_train)"
   ]
  },
  {
   "cell_type": "code",
   "execution_count": 65,
   "metadata": {
    "ExecuteTime": {
     "end_time": "2019-04-14T17:39:37.608222Z",
     "start_time": "2019-04-14T17:39:37.599247Z"
    }
   },
   "outputs": [],
   "source": [
    "y_wifi_predicted_SVC = model_wifi_SVC.predict(X_wifi_test)"
   ]
  },
  {
   "cell_type": "code",
   "execution_count": 66,
   "metadata": {
    "ExecuteTime": {
     "end_time": "2019-04-14T17:39:38.286183Z",
     "start_time": "2019-04-14T17:39:38.282167Z"
    }
   },
   "outputs": [
    {
     "name": "stdout",
     "output_type": "stream",
     "text": [
      "Acuratete: 0.9820089955022488\n"
     ]
    }
   ],
   "source": [
    "print('Acuratete:', metrics.accuracy_score(y_wifi_test, y_wifi_predicted_SVC))"
   ]
  },
  {
   "cell_type": "code",
   "execution_count": 67,
   "metadata": {
    "ExecuteTime": {
     "end_time": "2019-04-14T17:39:48.923971Z",
     "start_time": "2019-04-14T17:39:48.820263Z"
    }
   },
   "outputs": [
    {
     "name": "stdout",
     "output_type": "stream",
     "text": [
      "Scores cross val: [0.9775 0.9725 0.9675 0.98   0.985 ], Scores cross val Mean: 0.9765\n",
      "Scores f1: 0.9820361576315537\n",
      "Scores cross val train: [0.98507463 0.98507463 0.97378277 0.97735849 0.98867925], Scores cross val Mean: 0.9819939522231961\n",
      "Scores cross val test: [0.97777778 0.98518519 0.97744361 0.99242424 0.98484848], Scores cross val Mean: 0.9835358598516493\n",
      "Scores cross val train f1: [0.98509797 0.98501555 0.97367376 0.97724253 0.98862919], Scores cross val Mean: 0.9819318001608721\n",
      "Scores cross val test f1: [0.97825623 0.98539459 0.97758734 0.99253731 0.9850713 ], Scores cross val Mean: 0.983769355170252\n"
     ]
    }
   ],
   "source": [
    "scores_wifi_SVC_cross_val = cross_val_score(model_wifi_SVC, X_wifi, y_wifi, cv=5, scoring='accuracy')\n",
    "scores_wifi_SVC_f1 = metrics.f1_score(y_wifi_test, y_wifi_predicted_SVC, average='weighted')\n",
    "print(f'Scores cross val: {scores_wifi_SVC_cross_val}, Scores cross val Mean: {scores_wifi_SVC_cross_val.mean()}')\n",
    "print(f'Scores f1: {scores_wifi_SVC_f1}')\n",
    "\n",
    "scores_wifi_SVC_cross_val_train = cross_val_score(model_wifi_SVC, X_wifi_train, y_wifi_train, cv=5, scoring='accuracy')\n",
    "print(f'Scores cross val train: {scores_wifi_SVC_cross_val_train}, Scores cross val Mean: {scores_wifi_SVC_cross_val_train.mean()}')\n",
    "\n",
    "scores_wifi_SVC_cross_val_test = cross_val_score(model_wifi_SVC, X_wifi_test, y_wifi_test, cv=5, scoring='accuracy')\n",
    "print(f'Scores cross val test: {scores_wifi_SVC_cross_val_test}, Scores cross val Mean: {scores_wifi_SVC_cross_val_test.mean()}')\n",
    "\n",
    "scores_wifi_SVC_cross_val_train_f1 = cross_val_score(model_wifi_SVC, X_wifi_train, y_wifi_train, cv=5, scoring='f1_macro')\n",
    "print(f'Scores cross val train f1: {scores_wifi_SVC_cross_val_train_f1}, Scores cross val Mean: {scores_wifi_SVC_cross_val_train_f1.mean()}')\n",
    "\n",
    "scores_wifi_SVC_cross_val_test_f1 = cross_val_score(model_wifi_SVC, X_wifi_test, y_wifi_test, cv=5, scoring='f1_macro')\n",
    "print(f'Scores cross val test f1: {scores_wifi_SVC_cross_val_test_f1}, Scores cross val Mean: {scores_wifi_SVC_cross_val_test_f1.mean()}')"
   ]
  },
  {
   "cell_type": "code",
   "execution_count": 68,
   "metadata": {
    "ExecuteTime": {
     "end_time": "2019-04-14T17:39:50.277891Z",
     "start_time": "2019-04-14T17:39:50.273902Z"
    }
   },
   "outputs": [],
   "source": [
    "#HYPERPARAMETRII\n",
    "search_svc(X_wifi_train, y_wifi_train, X_wifi_test, y_wifi_test)"
   ]
  },
  {
   "cell_type": "markdown",
   "metadata": {},
   "source": [
    "### Gaussian Process"
   ]
  },
  {
   "cell_type": "code",
   "execution_count": 69,
   "metadata": {
    "ExecuteTime": {
     "end_time": "2019-04-14T17:39:54.245968Z",
     "start_time": "2019-04-14T17:39:51.212890Z"
    }
   },
   "outputs": [
    {
     "data": {
      "text/plain": [
       "GaussianProcessClassifier(copy_X_train=True, kernel=None,\n",
       "             max_iter_predict=100, multi_class='one_vs_rest', n_jobs=None,\n",
       "             n_restarts_optimizer=0, optimizer='fmin_l_bfgs_b',\n",
       "             random_state=None, warm_start=False)"
      ]
     },
     "execution_count": 69,
     "metadata": {},
     "output_type": "execute_result"
    }
   ],
   "source": [
    "model_wifi_Gaussian = GaussianProcessClassifier()\n",
    "model_wifi_Gaussian.fit(X_wifi_train, y_wifi_train)"
   ]
  },
  {
   "cell_type": "code",
   "execution_count": 70,
   "metadata": {
    "ExecuteTime": {
     "end_time": "2019-04-14T17:39:55.797224Z",
     "start_time": "2019-04-14T17:39:55.037371Z"
    }
   },
   "outputs": [],
   "source": [
    "y_wifi_predicted_Gaussian = model_wifi_Gaussian.predict(X_wifi_test)"
   ]
  },
  {
   "cell_type": "code",
   "execution_count": 71,
   "metadata": {
    "ExecuteTime": {
     "end_time": "2019-04-14T17:39:55.834126Z",
     "start_time": "2019-04-14T17:39:55.824153Z"
    }
   },
   "outputs": [
    {
     "name": "stdout",
     "output_type": "stream",
     "text": [
      "Acuratete: 0.95952023988006\n"
     ]
    }
   ],
   "source": [
    "print('Acuratete:', metrics.accuracy_score(y_wifi_test, y_wifi_predicted_Gaussian))"
   ]
  },
  {
   "cell_type": "code",
   "execution_count": 72,
   "metadata": {
    "ExecuteTime": {
     "end_time": "2019-04-14T17:40:34.939670Z",
     "start_time": "2019-04-14T17:39:56.621982Z"
    }
   },
   "outputs": [
    {
     "name": "stdout",
     "output_type": "stream",
     "text": [
      "Scores cross val: [0.9125 0.92   0.945  0.9675 0.9675], Scores cross val Mean: 0.9425000000000001\n",
      "Scores f1: 0.959373623033617\n",
      "Scores cross val train: [0.95895522 0.96641791 0.97378277 0.95471698 0.95849057], Scores cross val Mean: 0.9624726906067501\n",
      "Scores cross val test: [0.91111111 0.96296296 0.93984962 0.91666667 0.93939394], Scores cross val Mean: 0.9339968608389662\n",
      "Scores cross val train f1: [0.95882116 0.96690399 0.97343819 0.95451927 0.95768018], Scores cross val Mean: 0.9622725581792618\n",
      "Scores cross val test f1: [0.91122676 0.96364594 0.94014792 0.91568659 0.94006685], Scores cross val Mean: 0.9341548149465257\n"
     ]
    }
   ],
   "source": [
    "scores_wifi_Gaussian_cross_val = cross_val_score(model_wifi_Gaussian, X_wifi, y_wifi, cv=5, scoring='accuracy')\n",
    "scores_wifi_Gaussian_f1 = metrics.f1_score(y_wifi_test, y_wifi_predicted_Gaussian, average='weighted')\n",
    "print(f'Scores cross val: {scores_wifi_Gaussian_cross_val}, Scores cross val Mean: {scores_wifi_Gaussian_cross_val.mean()}')\n",
    "print(f'Scores f1: {scores_wifi_Gaussian_f1}')\n",
    "\n",
    "scores_wifi_Gaussian_cross_val_train = cross_val_score(model_wifi_Gaussian, X_wifi_train, y_wifi_train, cv=5, scoring='accuracy')\n",
    "print(f'Scores cross val train: {scores_wifi_Gaussian_cross_val_train}, Scores cross val Mean: {scores_wifi_Gaussian_cross_val_train.mean()}')\n",
    "\n",
    "scores_wifi_Gaussian_cross_val_test = cross_val_score(model_wifi_Gaussian, X_wifi_test, y_wifi_test, cv=5, scoring='accuracy')\n",
    "print(f'Scores cross val test: {scores_wifi_Gaussian_cross_val_test}, Scores cross val Mean: {scores_wifi_Gaussian_cross_val_test.mean()}')\n",
    "\n",
    "scores_wifi_Gaussian_cross_val_train_f1 = cross_val_score(model_wifi_Gaussian, X_wifi_train, y_wifi_train, cv=5, scoring='f1_macro')\n",
    "print(f'Scores cross val train f1: {scores_wifi_Gaussian_cross_val_train_f1}, Scores cross val Mean: {scores_wifi_Gaussian_cross_val_train_f1.mean()}')\n",
    "\n",
    "scores_wifi_Gaussian_cross_val_test_f1 = cross_val_score(model_wifi_Gaussian, X_wifi_test, y_wifi_test, cv=5, scoring='f1_macro')\n",
    "print(f'Scores cross val test f1: {scores_wifi_Gaussian_cross_val_test_f1}, Scores cross val Mean: {scores_wifi_Gaussian_cross_val_test_f1.mean()}')"
   ]
  },
  {
   "cell_type": "code",
   "execution_count": 73,
   "metadata": {},
   "outputs": [],
   "source": [
    "#HYPERPARAMETRII\n",
    "search_gaussian(X_wifi_train, y_wifi_train, X_wifi_test, y_wifi_test)"
   ]
  },
  {
   "cell_type": "markdown",
   "metadata": {},
   "source": [
    "## [Spambase Data Set](http://archive.ics.uci.edu/ml/datasets/Spambase)"
   ]
  },
  {
   "cell_type": "code",
   "execution_count": 74,
   "metadata": {
    "ExecuteTime": {
     "end_time": "2019-04-14T17:41:18.777689Z",
     "start_time": "2019-04-14T17:41:18.667354Z"
    },
    "scrolled": false
   },
   "outputs": [
    {
     "data": {
      "text/html": [
       "<div>\n",
       "<style scoped>\n",
       "    .dataframe tbody tr th:only-of-type {\n",
       "        vertical-align: middle;\n",
       "    }\n",
       "\n",
       "    .dataframe tbody tr th {\n",
       "        vertical-align: top;\n",
       "    }\n",
       "\n",
       "    .dataframe thead th {\n",
       "        text-align: right;\n",
       "    }\n",
       "</style>\n",
       "<table border=\"1\" class=\"dataframe\">\n",
       "  <thead>\n",
       "    <tr style=\"text-align: right;\">\n",
       "      <th></th>\n",
       "      <th>0</th>\n",
       "      <th>1</th>\n",
       "      <th>2</th>\n",
       "      <th>3</th>\n",
       "      <th>4</th>\n",
       "      <th>5</th>\n",
       "      <th>6</th>\n",
       "      <th>7</th>\n",
       "      <th>8</th>\n",
       "      <th>9</th>\n",
       "      <th>...</th>\n",
       "      <th>48</th>\n",
       "      <th>49</th>\n",
       "      <th>50</th>\n",
       "      <th>51</th>\n",
       "      <th>52</th>\n",
       "      <th>53</th>\n",
       "      <th>54</th>\n",
       "      <th>55</th>\n",
       "      <th>56</th>\n",
       "      <th>57</th>\n",
       "    </tr>\n",
       "  </thead>\n",
       "  <tbody>\n",
       "    <tr>\n",
       "      <th>0</th>\n",
       "      <td>0.00</td>\n",
       "      <td>0.64</td>\n",
       "      <td>0.64</td>\n",
       "      <td>0.0</td>\n",
       "      <td>0.32</td>\n",
       "      <td>0.00</td>\n",
       "      <td>0.00</td>\n",
       "      <td>0.00</td>\n",
       "      <td>0.00</td>\n",
       "      <td>0.00</td>\n",
       "      <td>...</td>\n",
       "      <td>0.00</td>\n",
       "      <td>0.000</td>\n",
       "      <td>0.0</td>\n",
       "      <td>0.778</td>\n",
       "      <td>0.000</td>\n",
       "      <td>0.000</td>\n",
       "      <td>3.756</td>\n",
       "      <td>61</td>\n",
       "      <td>278</td>\n",
       "      <td>1</td>\n",
       "    </tr>\n",
       "    <tr>\n",
       "      <th>1</th>\n",
       "      <td>0.21</td>\n",
       "      <td>0.28</td>\n",
       "      <td>0.50</td>\n",
       "      <td>0.0</td>\n",
       "      <td>0.14</td>\n",
       "      <td>0.28</td>\n",
       "      <td>0.21</td>\n",
       "      <td>0.07</td>\n",
       "      <td>0.00</td>\n",
       "      <td>0.94</td>\n",
       "      <td>...</td>\n",
       "      <td>0.00</td>\n",
       "      <td>0.132</td>\n",
       "      <td>0.0</td>\n",
       "      <td>0.372</td>\n",
       "      <td>0.180</td>\n",
       "      <td>0.048</td>\n",
       "      <td>5.114</td>\n",
       "      <td>101</td>\n",
       "      <td>1028</td>\n",
       "      <td>1</td>\n",
       "    </tr>\n",
       "    <tr>\n",
       "      <th>2</th>\n",
       "      <td>0.06</td>\n",
       "      <td>0.00</td>\n",
       "      <td>0.71</td>\n",
       "      <td>0.0</td>\n",
       "      <td>1.23</td>\n",
       "      <td>0.19</td>\n",
       "      <td>0.19</td>\n",
       "      <td>0.12</td>\n",
       "      <td>0.64</td>\n",
       "      <td>0.25</td>\n",
       "      <td>...</td>\n",
       "      <td>0.01</td>\n",
       "      <td>0.143</td>\n",
       "      <td>0.0</td>\n",
       "      <td>0.276</td>\n",
       "      <td>0.184</td>\n",
       "      <td>0.010</td>\n",
       "      <td>9.821</td>\n",
       "      <td>485</td>\n",
       "      <td>2259</td>\n",
       "      <td>1</td>\n",
       "    </tr>\n",
       "    <tr>\n",
       "      <th>3</th>\n",
       "      <td>0.00</td>\n",
       "      <td>0.00</td>\n",
       "      <td>0.00</td>\n",
       "      <td>0.0</td>\n",
       "      <td>0.63</td>\n",
       "      <td>0.00</td>\n",
       "      <td>0.31</td>\n",
       "      <td>0.63</td>\n",
       "      <td>0.31</td>\n",
       "      <td>0.63</td>\n",
       "      <td>...</td>\n",
       "      <td>0.00</td>\n",
       "      <td>0.137</td>\n",
       "      <td>0.0</td>\n",
       "      <td>0.137</td>\n",
       "      <td>0.000</td>\n",
       "      <td>0.000</td>\n",
       "      <td>3.537</td>\n",
       "      <td>40</td>\n",
       "      <td>191</td>\n",
       "      <td>1</td>\n",
       "    </tr>\n",
       "    <tr>\n",
       "      <th>4</th>\n",
       "      <td>0.00</td>\n",
       "      <td>0.00</td>\n",
       "      <td>0.00</td>\n",
       "      <td>0.0</td>\n",
       "      <td>0.63</td>\n",
       "      <td>0.00</td>\n",
       "      <td>0.31</td>\n",
       "      <td>0.63</td>\n",
       "      <td>0.31</td>\n",
       "      <td>0.63</td>\n",
       "      <td>...</td>\n",
       "      <td>0.00</td>\n",
       "      <td>0.135</td>\n",
       "      <td>0.0</td>\n",
       "      <td>0.135</td>\n",
       "      <td>0.000</td>\n",
       "      <td>0.000</td>\n",
       "      <td>3.537</td>\n",
       "      <td>40</td>\n",
       "      <td>191</td>\n",
       "      <td>1</td>\n",
       "    </tr>\n",
       "  </tbody>\n",
       "</table>\n",
       "<p>5 rows × 58 columns</p>\n",
       "</div>"
      ],
      "text/plain": [
       "     0     1     2    3     4     5     6     7     8     9  ...    48     49  \\\n",
       "0  0.00  0.64  0.64  0.0  0.32  0.00  0.00  0.00  0.00  0.00 ...  0.00  0.000   \n",
       "1  0.21  0.28  0.50  0.0  0.14  0.28  0.21  0.07  0.00  0.94 ...  0.00  0.132   \n",
       "2  0.06  0.00  0.71  0.0  1.23  0.19  0.19  0.12  0.64  0.25 ...  0.01  0.143   \n",
       "3  0.00  0.00  0.00  0.0  0.63  0.00  0.31  0.63  0.31  0.63 ...  0.00  0.137   \n",
       "4  0.00  0.00  0.00  0.0  0.63  0.00  0.31  0.63  0.31  0.63 ...  0.00  0.135   \n",
       "\n",
       "    50     51     52     53     54   55    56  57  \n",
       "0  0.0  0.778  0.000  0.000  3.756   61   278   1  \n",
       "1  0.0  0.372  0.180  0.048  5.114  101  1028   1  \n",
       "2  0.0  0.276  0.184  0.010  9.821  485  2259   1  \n",
       "3  0.0  0.137  0.000  0.000  3.537   40   191   1  \n",
       "4  0.0  0.135  0.000  0.000  3.537   40   191   1  \n",
       "\n",
       "[5 rows x 58 columns]"
      ]
     },
     "execution_count": 74,
     "metadata": {},
     "output_type": "execute_result"
    }
   ],
   "source": [
    "spam_df = pd.read_csv('data/spambase.data', header=None)\n",
    "spam_df.head()"
   ]
  },
  {
   "cell_type": "code",
   "execution_count": 75,
   "metadata": {
    "ExecuteTime": {
     "end_time": "2019-04-14T17:41:22.359708Z",
     "start_time": "2019-04-14T17:41:22.349735Z"
    },
    "scrolled": false
   },
   "outputs": [
    {
     "name": "stdout",
     "output_type": "stream",
     "text": [
      "<class 'pandas.core.frame.DataFrame'>\n",
      "RangeIndex: 4601 entries, 0 to 4600\n",
      "Data columns (total 58 columns):\n",
      "0     4601 non-null float64\n",
      "1     4601 non-null float64\n",
      "2     4601 non-null float64\n",
      "3     4601 non-null float64\n",
      "4     4601 non-null float64\n",
      "5     4601 non-null float64\n",
      "6     4601 non-null float64\n",
      "7     4601 non-null float64\n",
      "8     4601 non-null float64\n",
      "9     4601 non-null float64\n",
      "10    4601 non-null float64\n",
      "11    4601 non-null float64\n",
      "12    4601 non-null float64\n",
      "13    4601 non-null float64\n",
      "14    4601 non-null float64\n",
      "15    4601 non-null float64\n",
      "16    4601 non-null float64\n",
      "17    4601 non-null float64\n",
      "18    4601 non-null float64\n",
      "19    4601 non-null float64\n",
      "20    4601 non-null float64\n",
      "21    4601 non-null float64\n",
      "22    4601 non-null float64\n",
      "23    4601 non-null float64\n",
      "24    4601 non-null float64\n",
      "25    4601 non-null float64\n",
      "26    4601 non-null float64\n",
      "27    4601 non-null float64\n",
      "28    4601 non-null float64\n",
      "29    4601 non-null float64\n",
      "30    4601 non-null float64\n",
      "31    4601 non-null float64\n",
      "32    4601 non-null float64\n",
      "33    4601 non-null float64\n",
      "34    4601 non-null float64\n",
      "35    4601 non-null float64\n",
      "36    4601 non-null float64\n",
      "37    4601 non-null float64\n",
      "38    4601 non-null float64\n",
      "39    4601 non-null float64\n",
      "40    4601 non-null float64\n",
      "41    4601 non-null float64\n",
      "42    4601 non-null float64\n",
      "43    4601 non-null float64\n",
      "44    4601 non-null float64\n",
      "45    4601 non-null float64\n",
      "46    4601 non-null float64\n",
      "47    4601 non-null float64\n",
      "48    4601 non-null float64\n",
      "49    4601 non-null float64\n",
      "50    4601 non-null float64\n",
      "51    4601 non-null float64\n",
      "52    4601 non-null float64\n",
      "53    4601 non-null float64\n",
      "54    4601 non-null float64\n",
      "55    4601 non-null int64\n",
      "56    4601 non-null int64\n",
      "57    4601 non-null int64\n",
      "dtypes: float64(55), int64(3)\n",
      "memory usage: 2.0 MB\n"
     ]
    }
   ],
   "source": [
    "spam_df.info()"
   ]
  },
  {
   "cell_type": "code",
   "execution_count": 76,
   "metadata": {
    "ExecuteTime": {
     "end_time": "2019-04-14T17:41:26.138777Z",
     "start_time": "2019-04-14T17:41:26.132793Z"
    }
   },
   "outputs": [
    {
     "name": "stdout",
     "output_type": "stream",
     "text": [
      "(4601,) (4601, 57)\n"
     ]
    }
   ],
   "source": [
    "X_spam = spam_df.values[:, :-1]\n",
    "y_spam = spam_df.values[:, -1]\n",
    "print(y_spam.shape, X_spam.shape)"
   ]
  },
  {
   "cell_type": "code",
   "execution_count": 77,
   "metadata": {
    "ExecuteTime": {
     "end_time": "2019-04-14T17:41:29.248629Z",
     "start_time": "2019-04-14T17:41:29.239682Z"
    }
   },
   "outputs": [
    {
     "name": "stdout",
     "output_type": "stream",
     "text": [
      "(3067, 57) (1534, 57) (3067,) (1534,)\n"
     ]
    }
   ],
   "source": [
    "X_spam_train, X_spam_test, y_spam_train, y_spam_test = \\\n",
    "    train_test_split(X_spam, y_spam, test_size=1/3, random_state=5)\n",
    "print(X_spam_train.shape, X_spam_test.shape, y_spam_train.shape, y_spam_test.shape)"
   ]
  },
  {
   "cell_type": "markdown",
   "metadata": {},
   "source": [
    "### KNeighborsClassifier"
   ]
  },
  {
   "cell_type": "code",
   "execution_count": 78,
   "metadata": {
    "ExecuteTime": {
     "end_time": "2019-04-14T17:42:46.492691Z",
     "start_time": "2019-04-14T17:42:46.482718Z"
    }
   },
   "outputs": [
    {
     "data": {
      "text/plain": [
       "KNeighborsClassifier(algorithm='auto', leaf_size=30, metric='minkowski',\n",
       "           metric_params=None, n_jobs=None, n_neighbors=5, p=2,\n",
       "           weights='uniform')"
      ]
     },
     "execution_count": 78,
     "metadata": {},
     "output_type": "execute_result"
    }
   ],
   "source": [
    "model_spam_KNN = KNeighborsClassifier(n_neighbors=5)\n",
    "model_spam_KNN.fit(X_spam_train, y_spam_train)"
   ]
  },
  {
   "cell_type": "code",
   "execution_count": 79,
   "metadata": {
    "ExecuteTime": {
     "end_time": "2019-04-14T17:42:47.014109Z",
     "start_time": "2019-04-14T17:42:46.979181Z"
    }
   },
   "outputs": [],
   "source": [
    "y_spam_predicted_KNN = model_spam_KNN.predict(X_spam_test)"
   ]
  },
  {
   "cell_type": "code",
   "execution_count": 80,
   "metadata": {
    "ExecuteTime": {
     "end_time": "2019-04-14T17:42:47.327953Z",
     "start_time": "2019-04-14T17:42:47.322965Z"
    }
   },
   "outputs": [
    {
     "name": "stdout",
     "output_type": "stream",
     "text": [
      "Acuratete: 0.8148631029986962\n"
     ]
    }
   ],
   "source": [
    "print('Acuratete:', metrics.accuracy_score(y_spam_test, y_spam_predicted_KNN))"
   ]
  },
  {
   "cell_type": "code",
   "execution_count": 81,
   "metadata": {
    "ExecuteTime": {
     "end_time": "2019-04-14T17:42:47.893698Z",
     "start_time": "2019-04-14T17:42:47.739108Z"
    }
   },
   "outputs": [
    {
     "name": "stdout",
     "output_type": "stream",
     "text": [
      "Scores cross val: [0.74918567 0.78175896 0.81107492 0.80739935 0.71490751], Scores cross val Mean: 0.7728652798502834\n",
      "Scores f1: 0.8149829997459255\n",
      "Scores cross val train: [0.75732899 0.76547231 0.78175896 0.76998369 0.77124183], Scores cross val Mean: 0.7691571554875951\n",
      "Scores cross val test: [0.77850163 0.74918567 0.74267101 0.74918567 0.75816993], Scores cross val Mean: 0.7555427817163782\n",
      "Scores cross val train f1: [0.74422031 0.7518217  0.77014795 0.76049711 0.76177501], Scores cross val Mean: 0.757692417756727\n",
      "Scores cross val test f1: [0.75504553 0.73091327 0.7285588  0.73543073 0.74781718], Scores cross val Mean: 0.7395531000840391\n"
     ]
    }
   ],
   "source": [
    "scores_spam_KNN_cross_val = cross_val_score(model_spam_KNN, X_spam, y_spam, cv=5, scoring='accuracy')\n",
    "scores_spam_KNN_f1 = metrics.f1_score(y_spam_test, y_spam_predicted_KNN, average='weighted')\n",
    "print(f'Scores cross val: {scores_spam_KNN_cross_val}, Scores cross val Mean: {scores_spam_KNN_cross_val.mean()}')\n",
    "print(f'Scores f1: {scores_spam_KNN_f1}')\n",
    "\n",
    "scores_spam_KNN_cross_val_train = cross_val_score(model_spam_KNN, X_spam_train, y_spam_train, cv=5, scoring='accuracy')\n",
    "print(f'Scores cross val train: {scores_spam_KNN_cross_val_train}, Scores cross val Mean: {scores_spam_KNN_cross_val_train.mean()}')\n",
    "\n",
    "scores_spam_KNN_cross_val_test = cross_val_score(model_spam_KNN, X_spam_test, y_spam_test, cv=5, scoring='accuracy')\n",
    "print(f'Scores cross val test: {scores_spam_KNN_cross_val_test}, Scores cross val Mean: {scores_spam_KNN_cross_val_test.mean()}')\n",
    "\n",
    "scores_spam_KNN_cross_val_train_f1 = cross_val_score(model_spam_KNN, X_spam_train, y_spam_train, cv=5, scoring='f1_macro')\n",
    "print(f'Scores cross val train f1: {scores_spam_KNN_cross_val_train_f1}, Scores cross val Mean: {scores_spam_KNN_cross_val_train_f1.mean()}')\n",
    "\n",
    "scores_spam_KNN_cross_val_test_f1 = cross_val_score(model_spam_KNN, X_spam_test, y_spam_test, cv=5, scoring='f1_macro')\n",
    "print(f'Scores cross val test f1: {scores_spam_KNN_cross_val_test_f1}, Scores cross val Mean: {scores_spam_KNN_cross_val_test_f1.mean()}')"
   ]
  },
  {
   "cell_type": "code",
   "execution_count": 82,
   "metadata": {
    "ExecuteTime": {
     "end_time": "2019-04-14T17:42:49.149676Z",
     "start_time": "2019-04-14T17:42:49.147689Z"
    }
   },
   "outputs": [],
   "source": [
    "#HYPERPARAMETRII\n",
    "search_knn(X_spam_train, y_spam_train, X_spam_test, y_spam_test)"
   ]
  },
  {
   "cell_type": "markdown",
   "metadata": {
    "ExecuteTime": {
     "end_time": "2019-04-13T13:23:55.990763Z",
     "start_time": "2019-04-13T13:23:55.986738Z"
    }
   },
   "source": [
    "### Multi-layer Perceptron classifier"
   ]
  },
  {
   "cell_type": "code",
   "execution_count": 83,
   "metadata": {
    "ExecuteTime": {
     "end_time": "2019-04-14T17:42:53.010107Z",
     "start_time": "2019-04-14T17:42:52.258762Z"
    }
   },
   "outputs": [
    {
     "data": {
      "text/plain": [
       "MLPClassifier(activation='relu', alpha=0.0001, batch_size='auto', beta_1=0.9,\n",
       "       beta_2=0.999, early_stopping=False, epsilon=1e-08,\n",
       "       hidden_layer_sizes=(100,), learning_rate='constant',\n",
       "       learning_rate_init=0.001, max_iter=1000, momentum=0.9,\n",
       "       n_iter_no_change=10, nesterovs_momentum=True, power_t=0.5,\n",
       "       random_state=None, shuffle=True, solver='adam', tol=0.0001,\n",
       "       validation_fraction=0.1, verbose=False, warm_start=False)"
      ]
     },
     "execution_count": 83,
     "metadata": {},
     "output_type": "execute_result"
    }
   ],
   "source": [
    "model_spam_MLPC = MLPClassifier(max_iter=1000)\n",
    "model_spam_MLPC.fit(X_spam_train, y_spam_train)"
   ]
  },
  {
   "cell_type": "code",
   "execution_count": 84,
   "metadata": {
    "ExecuteTime": {
     "end_time": "2019-04-14T17:42:53.800415Z",
     "start_time": "2019-04-14T17:42:53.795429Z"
    }
   },
   "outputs": [],
   "source": [
    "y_spam_predicted_MLPC = model_spam_MLPC.predict(X_spam_test)"
   ]
  },
  {
   "cell_type": "code",
   "execution_count": 85,
   "metadata": {
    "ExecuteTime": {
     "end_time": "2019-04-14T17:42:54.424316Z",
     "start_time": "2019-04-14T17:42:54.419330Z"
    }
   },
   "outputs": [
    {
     "name": "stdout",
     "output_type": "stream",
     "text": [
      "Acuratete: 0.9282920469361148\n"
     ]
    }
   ],
   "source": [
    "print('Acuratete:', metrics.accuracy_score(y_spam_test, y_spam_predicted_MLPC))"
   ]
  },
  {
   "cell_type": "code",
   "execution_count": 86,
   "metadata": {
    "ExecuteTime": {
     "end_time": "2019-04-14T17:42:57.955448Z",
     "start_time": "2019-04-14T17:42:55.162685Z"
    }
   },
   "outputs": [
    {
     "name": "stdout",
     "output_type": "stream",
     "text": [
      "Scores cross val: [0.93485342 0.91965255 0.91856678 0.96082699 0.83786725], Scores cross val Mean: 0.9143533959751842\n",
      "Scores f1: 0.9283612735594831\n",
      "Scores cross val train: [0.92019544 0.93485342 0.92019544 0.89396411 0.92647059], Scores cross val Mean: 0.9191357997678828\n",
      "Scores cross val test: [0.86319218 0.9218241  0.93811075 0.8990228  0.84640523], Scores cross val Mean: 0.893711013178344\n",
      "Scores cross val train f1: [0.89496852 0.92225377 0.94493767 0.86889262 0.91306818], Scores cross val Mean: 0.9088241547512667\n",
      "Scores cross val test f1: [0.90577041 0.93360198 0.85642504 0.91962344 0.89450036], Scores cross val Mean: 0.9019842460694303\n"
     ]
    }
   ],
   "source": [
    "scores_spam_MLPC_cross_val = cross_val_score(model_spam_MLPC, X_spam, y_spam, cv=5, scoring='accuracy')\n",
    "scores_spam_MLPC_f1 = metrics.f1_score(y_spam_test, y_spam_predicted_MLPC, average='weighted')\n",
    "print(f'Scores cross val: {scores_spam_MLPC_cross_val}, Scores cross val Mean: {scores_spam_MLPC_cross_val.mean()}')\n",
    "print(f'Scores f1: {scores_spam_MLPC_f1}')\n",
    "\n",
    "scores_spam_MLPC_cross_val_train = cross_val_score(model_spam_MLPC, X_spam_train, y_spam_train, cv=5, scoring='accuracy')\n",
    "print(f'Scores cross val train: {scores_spam_MLPC_cross_val_train}, Scores cross val Mean: {scores_spam_MLPC_cross_val_train.mean()}')\n",
    "\n",
    "scores_spam_MLPC_cross_val_test = cross_val_score(model_spam_MLPC, X_spam_test, y_spam_test, cv=5, scoring='accuracy')\n",
    "print(f'Scores cross val test: {scores_spam_MLPC_cross_val_test}, Scores cross val Mean: {scores_spam_MLPC_cross_val_test.mean()}')\n",
    "\n",
    "scores_spam_MLPC_cross_val_train_f1 = cross_val_score(model_spam_MLPC, X_spam_train, y_spam_train, cv=5, scoring='f1_macro')\n",
    "print(f'Scores cross val train f1: {scores_spam_MLPC_cross_val_train_f1}, Scores cross val Mean: {scores_spam_MLPC_cross_val_train_f1.mean()}')\n",
    "\n",
    "scores_spam_MLPC_cross_val_test_f1 = cross_val_score(model_spam_MLPC, X_spam_test, y_spam_test, cv=5, scoring='f1_macro')\n",
    "print(f'Scores cross val test f1: {scores_spam_MLPC_cross_val_test_f1}, Scores cross val Mean: {scores_spam_MLPC_cross_val_test_f1.mean()}')"
   ]
  },
  {
   "cell_type": "code",
   "execution_count": 87,
   "metadata": {
    "ExecuteTime": {
     "end_time": "2019-04-14T17:43:01.150214Z",
     "start_time": "2019-04-14T17:43:01.147222Z"
    }
   },
   "outputs": [],
   "source": [
    "#HYPERPARAMETRII\n",
    "search_mlpc(X_spam_train, y_spam_train, X_spam_test, y_spam_test)"
   ]
  },
  {
   "cell_type": "markdown",
   "metadata": {},
   "source": [
    "### Logistic Regression"
   ]
  },
  {
   "cell_type": "code",
   "execution_count": 88,
   "metadata": {
    "ExecuteTime": {
     "end_time": "2019-04-14T17:43:06.836528Z",
     "start_time": "2019-04-14T17:43:06.347410Z"
    }
   },
   "outputs": [
    {
     "data": {
      "text/plain": [
       "LogisticRegression(C=1.0, class_weight=None, dual=False, fit_intercept=True,\n",
       "          intercept_scaling=1, max_iter=10000, multi_class='auto',\n",
       "          n_jobs=None, penalty='l2', random_state=None, solver='lbfgs',\n",
       "          tol=0.0001, verbose=0, warm_start=False)"
      ]
     },
     "execution_count": 88,
     "metadata": {},
     "output_type": "execute_result"
    }
   ],
   "source": [
    "model_spam_LogisticReg = LogisticRegression(solver='lbfgs', multi_class='auto', max_iter=10000)\n",
    "model_spam_LogisticReg.fit(X_spam_train, y_spam_train)"
   ]
  },
  {
   "cell_type": "code",
   "execution_count": 89,
   "metadata": {
    "ExecuteTime": {
     "end_time": "2019-04-14T17:43:07.565730Z",
     "start_time": "2019-04-14T17:43:07.562738Z"
    }
   },
   "outputs": [],
   "source": [
    "y_spam_predicted_LogisticReg = model_spam_LogisticReg.predict(X_spam_test)"
   ]
  },
  {
   "cell_type": "code",
   "execution_count": 90,
   "metadata": {
    "ExecuteTime": {
     "end_time": "2019-04-14T17:43:08.096343Z",
     "start_time": "2019-04-14T17:43:08.092356Z"
    }
   },
   "outputs": [
    {
     "name": "stdout",
     "output_type": "stream",
     "text": [
      "Acuratete: 0.9282920469361148\n"
     ]
    }
   ],
   "source": [
    "print('Acuratete:', metrics.accuracy_score(y_spam_test, y_spam_predicted_MLPC))"
   ]
  },
  {
   "cell_type": "code",
   "execution_count": 91,
   "metadata": {
    "ExecuteTime": {
     "end_time": "2019-04-14T17:43:11.685538Z",
     "start_time": "2019-04-14T17:43:08.807140Z"
    }
   },
   "outputs": [
    {
     "name": "stdout",
     "output_type": "stream",
     "text": [
      "Scores cross val: [0.92073833 0.92833876 0.93159609 0.94559304 0.83569097], Scores cross val Mean: 0.9123914371354408\n",
      "Scores f1: 0.9182449451958834\n",
      "Scores cross val train: [0.91856678 0.94462541 0.9267101  0.91517129 0.92156863], Scores cross val Mean: 0.9253284392650312\n",
      "Scores cross val test: [0.93485342 0.92508143 0.94136808 0.91530945 0.92156863], Scores cross val Mean: 0.9276362010602286\n",
      "Scores cross val train f1: [0.91436541 0.94219096 0.92225377 0.91071148 0.91874938], Scores cross val Mean: 0.9216542007173446\n",
      "Scores cross val test f1: [0.93048007 0.91991153 0.93785425 0.9099341  0.91550074], Scores cross val Mean: 0.9227361386000539\n"
     ]
    }
   ],
   "source": [
    "scores_spam_LogisticReg_cross_val = cross_val_score(model_spam_LogisticReg, X_spam, y_spam, cv=5, scoring='accuracy')\n",
    "scores_spam_LogisticReg_f1 = metrics.f1_score(y_spam_test, y_spam_predicted_LogisticReg, average='weighted')\n",
    "print(f'Scores cross val: {scores_spam_LogisticReg_cross_val}, Scores cross val Mean: {scores_spam_LogisticReg_cross_val.mean()}')\n",
    "print(f'Scores f1: {scores_spam_LogisticReg_f1}')\n",
    "\n",
    "scores_spam_LogisticReg_cross_val_train = cross_val_score(model_spam_LogisticReg, X_spam_train, y_spam_train, cv=5, scoring='accuracy')\n",
    "print(f'Scores cross val train: {scores_spam_LogisticReg_cross_val_train}, Scores cross val Mean: {scores_spam_LogisticReg_cross_val_train.mean()}')\n",
    "\n",
    "scores_spam_LogisticReg_cross_val_test = cross_val_score(model_spam_LogisticReg, X_spam_test, y_spam_test, cv=5, scoring='accuracy')\n",
    "print(f'Scores cross val test: {scores_spam_LogisticReg_cross_val_test}, Scores cross val Mean: {scores_spam_LogisticReg_cross_val_test.mean()}')\n",
    "\n",
    "scores_spam_LogisticReg_cross_val_train_f1 = cross_val_score(model_spam_LogisticReg, X_spam_train, y_spam_train, cv=5, scoring='f1_macro')\n",
    "print(f'Scores cross val train f1: {scores_spam_LogisticReg_cross_val_train_f1}, Scores cross val Mean: {scores_spam_LogisticReg_cross_val_train_f1.mean()}')\n",
    "\n",
    "scores_spam_LogisticReg_cross_val_test_f1 = cross_val_score(model_spam_LogisticReg, X_spam_test, y_spam_test, cv=5, scoring='f1_macro')\n",
    "print(f'Scores cross val test f1: {scores_spam_LogisticReg_cross_val_test_f1}, Scores cross val Mean: {scores_spam_LogisticReg_cross_val_test_f1.mean()}')"
   ]
  },
  {
   "cell_type": "code",
   "execution_count": 92,
   "metadata": {
    "ExecuteTime": {
     "end_time": "2019-04-14T17:43:12.973499Z",
     "start_time": "2019-04-14T17:43:12.971478Z"
    }
   },
   "outputs": [],
   "source": [
    "#HYPERPARAMETRII\n",
    "search_logistic_reg(X_spam_train, y_spam_train, X_spam_test, y_spam_test)"
   ]
  },
  {
   "cell_type": "markdown",
   "metadata": {},
   "source": [
    "### SVC"
   ]
  },
  {
   "cell_type": "code",
   "execution_count": 93,
   "metadata": {
    "ExecuteTime": {
     "end_time": "2019-04-14T17:43:14.130896Z",
     "start_time": "2019-04-14T17:43:13.675048Z"
    }
   },
   "outputs": [
    {
     "data": {
      "text/plain": [
       "SVC(C=1.0, cache_size=200, class_weight=None, coef0=0.0,\n",
       "  decision_function_shape='ovr', degree=3, gamma='scale', kernel='rbf',\n",
       "  max_iter=-1, probability=False, random_state=None, shrinking=True,\n",
       "  tol=0.001, verbose=False)"
      ]
     },
     "execution_count": 93,
     "metadata": {},
     "output_type": "execute_result"
    }
   ],
   "source": [
    "model_spam_SVC = SVC(gamma='scale')\n",
    "model_spam_SVC.fit(X_spam_train, y_spam_train)"
   ]
  },
  {
   "cell_type": "code",
   "execution_count": 94,
   "metadata": {
    "ExecuteTime": {
     "end_time": "2019-04-14T17:43:21.240246Z",
     "start_time": "2019-04-14T17:43:21.065686Z"
    }
   },
   "outputs": [],
   "source": [
    "y_spam_predicted_SVC = model_spam_SVC.predict(X_spam_test)"
   ]
  },
  {
   "cell_type": "code",
   "execution_count": 95,
   "metadata": {
    "ExecuteTime": {
     "end_time": "2019-04-14T17:43:21.878465Z",
     "start_time": "2019-04-14T17:43:21.873479Z"
    }
   },
   "outputs": [
    {
     "name": "stdout",
     "output_type": "stream",
     "text": [
      "Acuratete: 0.7685788787483703\n"
     ]
    }
   ],
   "source": [
    "print('Acuratete:', metrics.accuracy_score(y_spam_test, y_spam_predicted_SVC))"
   ]
  },
  {
   "cell_type": "code",
   "execution_count": 96,
   "metadata": {
    "ExecuteTime": {
     "end_time": "2019-04-14T17:43:27.520496Z",
     "start_time": "2019-04-14T17:43:23.814936Z"
    }
   },
   "outputs": [
    {
     "name": "stdout",
     "output_type": "stream",
     "text": [
      "Scores cross val: [0.73289902 0.76764387 0.78935939 0.8226333  0.73558215], Scores cross val Mean: 0.769623546341619\n",
      "Scores f1: 0.7654955701136343\n",
      "Scores cross val train: [0.75081433 0.75570033 0.78338762 0.74388254 0.75      ], Scores cross val Mean: 0.7567569649983261\n",
      "Scores cross val test: [0.752443   0.75895765 0.72312704 0.73289902 0.75816993], Scores cross val Mean: 0.7451193289476485\n",
      "Scores cross val train f1: [0.72878214 0.73436779 0.76175931 0.72254367 0.72717976], Scores cross val Mean: 0.7349265335237684\n",
      "Scores cross val test f1: [0.71821256 0.7334319  0.70505126 0.70327676 0.73413798], Scores cross val Mean: 0.7188220903890974\n"
     ]
    }
   ],
   "source": [
    "scores_spam_SVC_cross_val = cross_val_score(model_spam_SVC, X_spam, y_spam, cv=5, scoring='accuracy')\n",
    "scores_spam_SVC_f1 = metrics.f1_score(y_spam_test, y_spam_predicted_SVC, average='weighted')\n",
    "print(f'Scores cross val: {scores_spam_SVC_cross_val}, Scores cross val Mean: {scores_spam_SVC_cross_val.mean()}')\n",
    "print(f'Scores f1: {scores_spam_SVC_f1}')\n",
    "\n",
    "scores_spam_SVC_cross_val_train = cross_val_score(model_spam_SVC, X_spam_train, y_spam_train, cv=5, scoring='accuracy')\n",
    "print(f'Scores cross val train: {scores_spam_SVC_cross_val_train}, Scores cross val Mean: {scores_spam_SVC_cross_val_train.mean()}')\n",
    "\n",
    "scores_spam_SVC_cross_val_test = cross_val_score(model_spam_SVC, X_spam_test, y_spam_test, cv=5, scoring='accuracy')\n",
    "print(f'Scores cross val test: {scores_spam_SVC_cross_val_test}, Scores cross val Mean: {scores_spam_SVC_cross_val_test.mean()}')\n",
    "\n",
    "scores_spam_SVC_cross_val_train_f1 = cross_val_score(model_spam_SVC, X_spam_train, y_spam_train, cv=5, scoring='f1_macro')\n",
    "print(f'Scores cross val train f1: {scores_spam_SVC_cross_val_train_f1}, Scores cross val Mean: {scores_spam_SVC_cross_val_train_f1.mean()}')\n",
    "\n",
    "scores_spam_SVC_cross_val_test_f1 = cross_val_score(model_spam_SVC, X_spam_test, y_spam_test, cv=5, scoring='f1_macro')\n",
    "print(f'Scores cross val test f1: {scores_spam_SVC_cross_val_test_f1}, Scores cross val Mean: {scores_spam_SVC_cross_val_test_f1.mean()}')"
   ]
  },
  {
   "cell_type": "code",
   "execution_count": 97,
   "metadata": {
    "ExecuteTime": {
     "end_time": "2019-04-14T17:43:31.229497Z",
     "start_time": "2019-04-14T17:43:31.226480Z"
    }
   },
   "outputs": [],
   "source": [
    "#HYPERPARAMETRII\n",
    "search_svc(X_spam_train, y_spam_train, X_spam_test, y_spam_test)"
   ]
  },
  {
   "cell_type": "markdown",
   "metadata": {},
   "source": [
    "### Gaussian Process"
   ]
  },
  {
   "cell_type": "code",
   "execution_count": 98,
   "metadata": {
    "ExecuteTime": {
     "end_time": "2019-04-14T17:43:44.285473Z",
     "start_time": "2019-04-14T17:43:32.467492Z"
    }
   },
   "outputs": [
    {
     "data": {
      "text/plain": [
       "GaussianProcessClassifier(copy_X_train=True, kernel=None,\n",
       "             max_iter_predict=100, multi_class='one_vs_rest', n_jobs=None,\n",
       "             n_restarts_optimizer=0, optimizer='fmin_l_bfgs_b',\n",
       "             random_state=None, warm_start=False)"
      ]
     },
     "execution_count": 98,
     "metadata": {},
     "output_type": "execute_result"
    }
   ],
   "source": [
    "model_spam_Gaussian = GaussianProcessClassifier()\n",
    "model_spam_Gaussian.fit(X_spam_train, y_spam_train)"
   ]
  },
  {
   "cell_type": "code",
   "execution_count": 99,
   "metadata": {
    "ExecuteTime": {
     "end_time": "2019-04-14T17:43:46.456950Z",
     "start_time": "2019-04-14T17:43:46.038536Z"
    }
   },
   "outputs": [],
   "source": [
    "y_spam_predicted_Gaussian = model_spam_Gaussian.predict(X_spam_test)"
   ]
  },
  {
   "cell_type": "code",
   "execution_count": 100,
   "metadata": {
    "ExecuteTime": {
     "end_time": "2019-04-14T17:43:47.168875Z",
     "start_time": "2019-04-14T17:43:47.163891Z"
    }
   },
   "outputs": [
    {
     "name": "stdout",
     "output_type": "stream",
     "text": [
      "Acuratete: 0.818122555410691\n"
     ]
    }
   ],
   "source": [
    "print('Acuratete:', metrics.accuracy_score(y_spam_test, y_spam_predicted_Gaussian))"
   ]
  },
  {
   "cell_type": "code",
   "execution_count": 101,
   "metadata": {
    "ExecuteTime": {
     "end_time": "2019-04-14T17:45:18.897195Z",
     "start_time": "2019-04-14T17:43:47.820038Z"
    }
   },
   "outputs": [
    {
     "name": "stdout",
     "output_type": "stream",
     "text": [
      "Scores cross val: [0.77090119 0.77307275 0.79153094 0.79434168 0.68117519], Scores cross val Mean: 0.7622043504304707\n",
      "Scores f1: 0.8174556505780661\n",
      "Scores cross val train: [0.752443   0.747557   0.78338762 0.78955954 0.76797386], Scores cross val Mean: 0.7681842043178008\n",
      "Scores cross val test: [0.73941368 0.73941368 0.74918567 0.77198697 0.7745098 ], Scores cross val Mean: 0.7549019607843137\n",
      "Scores cross val train f1: [0.73535984 0.73176059 0.77096428 0.77932718 0.75804081], Scores cross val Mean: 0.7550905395456968\n",
      "Scores cross val test f1: [0.71550366 0.71991607 0.73371408 0.75305663 0.75565611], Scores cross val Mean: 0.7355693085791039\n"
     ]
    }
   ],
   "source": [
    "scores_spam_Gaussian_cross_val = cross_val_score(model_spam_Gaussian, X_spam, y_spam, cv=5, scoring='accuracy')\n",
    "scores_spam_Gaussian_f1 = metrics.f1_score(y_spam_test, y_spam_predicted_Gaussian, average='weighted')\n",
    "print(f'Scores cross val: {scores_spam_Gaussian_cross_val}, Scores cross val Mean: {scores_spam_Gaussian_cross_val.mean()}')\n",
    "print(f'Scores f1: {scores_spam_Gaussian_f1}')\n",
    "\n",
    "scores_spam_Gaussian_cross_val_train = cross_val_score(model_spam_Gaussian, X_spam_train, y_spam_train, cv=5, scoring='accuracy')\n",
    "print(f'Scores cross val train: {scores_spam_Gaussian_cross_val_train}, Scores cross val Mean: {scores_spam_Gaussian_cross_val_train.mean()}')\n",
    "\n",
    "scores_spam_Gaussian_cross_val_test = cross_val_score(model_spam_Gaussian, X_spam_test, y_spam_test, cv=5, scoring='accuracy')\n",
    "print(f'Scores cross val test: {scores_spam_Gaussian_cross_val_test}, Scores cross val Mean: {scores_spam_Gaussian_cross_val_test.mean()}')\n",
    "\n",
    "scores_spam_Gaussian_cross_val_train_f1 = cross_val_score(model_spam_Gaussian, X_spam_train, y_spam_train, cv=5, scoring='f1_macro')\n",
    "print(f'Scores cross val train f1: {scores_spam_Gaussian_cross_val_train_f1}, Scores cross val Mean: {scores_spam_Gaussian_cross_val_train_f1.mean()}')\n",
    "\n",
    "scores_spam_Gaussian_cross_val_test_f1 = cross_val_score(model_spam_Gaussian, X_spam_test, y_spam_test, cv=5, scoring='f1_macro')\n",
    "print(f'Scores cross val test f1: {scores_spam_Gaussian_cross_val_test_f1}, Scores cross val Mean: {scores_spam_Gaussian_cross_val_test_f1.mean()}')"
   ]
  },
  {
   "cell_type": "code",
   "execution_count": 102,
   "metadata": {},
   "outputs": [],
   "source": [
    "#HYPERPARAMETRII\n",
    "search_gaussian(X_spam_train, y_spam_train, X_spam_test, y_spam_test)"
   ]
  },
  {
   "cell_type": "markdown",
   "metadata": {},
   "source": [
    "## [Smartphone Dataset for Human Activity Recognition (HAR) in Ambient Assisted Living (AAL) Data Set ](http://archive.ics.uci.edu/ml/datasets/Smartphone+Dataset+for+Human+Activity+Recognition+%28HAR%29+in+Ambient+Assisted+Living+%28AAL%29)"
   ]
  },
  {
   "cell_type": "code",
   "execution_count": 103,
   "metadata": {
    "ExecuteTime": {
     "end_time": "2019-04-14T17:48:30.025219Z",
     "start_time": "2019-04-14T17:48:28.227877Z"
    }
   },
   "outputs": [
    {
     "name": "stdout",
     "output_type": "stream",
     "text": [
      "       0         1         2         3        4        5         6        7    \\\n",
      "0  1.91710  0.266330  0.626790 -0.081542 -0.31381  0.34915 -0.063587 -0.29050   \n",
      "1  0.18330  0.000917  0.047262 -0.597730 -0.56539 -0.49041 -0.637610 -0.57360   \n",
      "2 -0.14222 -0.051524  0.111800 -0.812000 -0.75592 -0.61699 -0.828580 -0.77047   \n",
      "3  0.18255 -0.002932 -0.033034 -0.834770 -0.92033 -0.67700 -0.856480 -0.92447   \n",
      "4  0.37079 -0.007905 -0.168390 -0.926470 -0.88623 -0.83995 -0.929590 -0.87669   \n",
      "\n",
      "       8        9     ...          551      552      553       554      555  \\\n",
      "0  0.54554  0.44071   ...    -0.437780 -0.27102 -0.72849 -0.968630  0.86815   \n",
      "1 -0.43668 -0.47593   ...     0.062618  0.75066  0.63855 -0.197060  0.79018   \n",
      "2 -0.61002 -0.88825   ...     0.146030  0.59439  0.42662  0.135180 -0.68971   \n",
      "3 -0.67735 -0.85759   ...     0.571890 -0.85247 -0.97792 -0.145660 -0.11779   \n",
      "4 -0.82406 -0.85759   ...     0.164860 -0.64833 -0.90281  0.038464  0.17996   \n",
      "\n",
      "        556      557       558      559      560  \n",
      "0  0.024128  0.30082 -0.297430 -0.11008 -0.42472  \n",
      "1  0.129850  0.41032 -0.284820 -0.12951 -0.42178  \n",
      "2  0.053301 -0.15466 -0.219630 -0.13284 -0.46835  \n",
      "3  0.136850 -0.19544 -0.101490 -0.12321 -0.55938  \n",
      "4  0.182920 -0.18907 -0.067717 -0.12579 -0.58138  \n",
      "\n",
      "[5 rows x 561 columns]\n",
      "       0         1         2        3        4         5        6        7    \\\n",
      "0  2.25890 -0.022376 -0.651510  0.28483 -0.31966  0.059275  0.28214 -0.38569   \n",
      "1  0.29285 -0.018404 -0.178480 -0.47754 -0.44896 -0.241460 -0.52517 -0.48042   \n",
      "2  0.17396  0.008436 -0.051125 -0.61113 -0.53955 -0.356220 -0.64649 -0.55313   \n",
      "3  0.38971 -0.026192 -0.012077 -0.68015 -0.46868 -0.416290 -0.71453 -0.50497   \n",
      "4  0.35382 -0.018021 -0.003540 -0.65372 -0.46089 -0.360500 -0.69813 -0.50064   \n",
      "\n",
      "        8        9     ...         551      552      553       554      555  \\\n",
      "0  0.036359  1.29060   ...     0.23905 -0.41445 -0.76696 -0.974270  0.46312   \n",
      "1 -0.248240 -0.06169   ...     0.21316 -0.47362 -0.84674 -0.338140  0.93831   \n",
      "2 -0.343820 -0.53636   ...     0.11844 -0.51160 -0.86103  0.670930 -0.45232   \n",
      "3 -0.422480 -0.46952   ...     0.10043 -0.63320 -0.93572 -0.141030  0.41715   \n",
      "4 -0.348730 -0.46952   ...     0.48928 -0.24234 -0.54614 -0.037312  0.34323   \n",
      "\n",
      "       556       557      558       559      560  \n",
      "0 -0.53861 -0.397320 -0.62225  0.089781  0.29091  \n",
      "1 -0.60066  0.494360 -0.59451  0.097650  0.31090  \n",
      "2  0.40514  0.437860 -0.58076  0.093523  0.32076  \n",
      "3  0.54579  0.092521 -0.60139  0.083581  0.30563  \n",
      "4  0.61432 -0.422060 -0.63910  0.088903  0.27879  \n",
      "\n",
      "[5 rows x 561 columns]\n",
      "   0\n",
      "0  4\n",
      "1  4\n",
      "2  4\n",
      "3  4\n",
      "4  4\n",
      "   0\n",
      "0  1\n",
      "1  1\n",
      "2  1\n",
      "3  1\n",
      "4  1\n"
     ]
    }
   ],
   "source": [
    "smart_X_test_df = pd.read_csv('data/final_X_test.txt', header=None)\n",
    "smart_X_train_df = pd.read_csv('data/final_X_train.txt', header=None)\n",
    "smart_y_test_df = pd.read_csv('data/final_y_test.txt', header=None)\n",
    "smart_y_train_df = pd.read_csv('data/final_y_train.txt', header=None)\n",
    "\n",
    "print(smart_X_test_df.head())\n",
    "print(smart_X_train_df.head())\n",
    "print(smart_y_test_df.head())\n",
    "print(smart_y_train_df.head()) "
   ]
  },
  {
   "cell_type": "code",
   "execution_count": 104,
   "metadata": {
    "ExecuteTime": {
     "end_time": "2019-04-14T17:56:19.823881Z",
     "start_time": "2019-04-14T17:56:19.818895Z"
    }
   },
   "outputs": [
    {
     "name": "stdout",
     "output_type": "stream",
     "text": [
      "(4252, 561) (1492, 561) (4252,) (1492,)\n"
     ]
    }
   ],
   "source": [
    "X_smart_train = smart_X_train_df.values\n",
    "X_smart_test = smart_X_test_df.values\n",
    "y_smart_train = smart_y_train_df.values[:, 0]\n",
    "y_smart_test = smart_y_test_df.values[:, 0]\n",
    "print(X_smart_train.shape, X_smart_test.shape, y_smart_train.shape, y_smart_test.shape)"
   ]
  },
  {
   "cell_type": "markdown",
   "metadata": {},
   "source": [
    "### KNeighborsClassifier"
   ]
  },
  {
   "cell_type": "code",
   "execution_count": 105,
   "metadata": {
    "ExecuteTime": {
     "end_time": "2019-04-14T17:56:22.704074Z",
     "start_time": "2019-04-14T17:56:22.579707Z"
    }
   },
   "outputs": [
    {
     "data": {
      "text/plain": [
       "KNeighborsClassifier(algorithm='auto', leaf_size=30, metric='minkowski',\n",
       "           metric_params=None, n_jobs=None, n_neighbors=5, p=2,\n",
       "           weights='uniform')"
      ]
     },
     "execution_count": 105,
     "metadata": {},
     "output_type": "execute_result"
    }
   ],
   "source": [
    "model_smart_KNN = KNeighborsClassifier(n_neighbors=5)\n",
    "model_smart_KNN.fit(X_smart_train, y_smart_train)"
   ]
  },
  {
   "cell_type": "code",
   "execution_count": 106,
   "metadata": {
    "ExecuteTime": {
     "end_time": "2019-04-14T17:56:36.168630Z",
     "start_time": "2019-04-14T17:56:31.739963Z"
    }
   },
   "outputs": [],
   "source": [
    "y_smart_predicted_KNN = model_smart_KNN.predict(X_smart_test)"
   ]
  },
  {
   "cell_type": "code",
   "execution_count": 107,
   "metadata": {
    "ExecuteTime": {
     "end_time": "2019-04-14T17:56:36.823486Z",
     "start_time": "2019-04-14T17:56:36.819525Z"
    }
   },
   "outputs": [
    {
     "name": "stdout",
     "output_type": "stream",
     "text": [
      "Acuratete: 0.7553619302949062\n"
     ]
    }
   ],
   "source": [
    "print('Acuratete:', metrics.accuracy_score(y_smart_test, y_smart_predicted_KNN))"
   ]
  },
  {
   "cell_type": "code",
   "execution_count": 108,
   "metadata": {
    "ExecuteTime": {
     "end_time": "2019-04-14T17:57:10.684609Z",
     "start_time": "2019-04-14T17:57:01.673307Z"
    }
   },
   "outputs": [
    {
     "name": "stdout",
     "output_type": "stream",
     "text": [
      "Scores cross val: [0.69483568 0.71092832 0.74735605 0.70622797 0.73435655], Scores cross val Mean: 0.7187409143429853\n",
      "Scores f1: 0.7548260100223524\n",
      "Scores cross val train: [0.69483568 0.71092832 0.74735605 0.70622797 0.73435655], Scores cross val Mean: 0.7187409143429853\n",
      "Scores cross val test: [0.70333333 0.64666667 0.61333333 0.66442953 0.73809524], Scores cross val Mean: 0.6731716203259828\n",
      "Scores cross val train f1: [0.69484809 0.70444583 0.74770328 0.7167191  0.74575992], Scores cross val Mean: 0.7218952419990676\n",
      "Scores cross val test f1: [0.68423883 0.61879117 0.57405922 0.64905227 0.74027089], Scores cross val Mean: 0.6532824776501033\n"
     ]
    }
   ],
   "source": [
    "scores_smart_KNN_cross_val = cross_val_score(model_smart_KNN, X_smart_train, y_smart_train, cv=5, scoring='accuracy')\n",
    "scores_smart_KNN_f1 = metrics.f1_score(y_smart_test, y_smart_predicted_KNN, average='weighted')\n",
    "print(f'Scores cross val: {scores_smart_KNN_cross_val}, Scores cross val Mean: {scores_smart_KNN_cross_val.mean()}')\n",
    "print(f'Scores f1: {scores_smart_KNN_f1}')\n",
    "\n",
    "scores_smart_KNN_cross_val_train = cross_val_score(model_smart_KNN, X_smart_train, y_smart_train, cv=5, scoring='accuracy')\n",
    "print(f'Scores cross val train: {scores_smart_KNN_cross_val_train}, Scores cross val Mean: {scores_smart_KNN_cross_val_train.mean()}')\n",
    "\n",
    "scores_smart_KNN_cross_val_test = cross_val_score(model_smart_KNN, X_smart_test, y_smart_test, cv=5, scoring='accuracy')\n",
    "print(f'Scores cross val test: {scores_smart_KNN_cross_val_test}, Scores cross val Mean: {scores_smart_KNN_cross_val_test.mean()}')\n",
    "\n",
    "scores_smart_KNN_cross_val_train_f1 = cross_val_score(model_smart_KNN, X_smart_train, y_smart_train, cv=5, scoring='f1_macro')\n",
    "print(f'Scores cross val train f1: {scores_smart_KNN_cross_val_train_f1}, Scores cross val Mean: {scores_smart_KNN_cross_val_train_f1.mean()}')\n",
    "\n",
    "scores_smart_KNN_cross_val_test_f1 = cross_val_score(model_smart_KNN, X_smart_test, y_smart_test, cv=5, scoring='f1_macro')\n",
    "print(f'Scores cross val test f1: {scores_smart_KNN_cross_val_test_f1}, Scores cross val Mean: {scores_smart_KNN_cross_val_test_f1.mean()}')"
   ]
  },
  {
   "cell_type": "code",
   "execution_count": 109,
   "metadata": {},
   "outputs": [],
   "source": [
    "#HYPERPARAMETRII\n",
    "search_knn(X_smart_train, y_smart_train, X_smart_test, y_smart_test)"
   ]
  },
  {
   "cell_type": "markdown",
   "metadata": {
    "ExecuteTime": {
     "end_time": "2019-04-13T13:23:55.990763Z",
     "start_time": "2019-04-13T13:23:55.986738Z"
    }
   },
   "source": [
    "### Multi-layer Perceptron classifier"
   ]
  },
  {
   "cell_type": "code",
   "execution_count": 110,
   "metadata": {
    "ExecuteTime": {
     "end_time": "2019-04-14T17:57:44.232725Z",
     "start_time": "2019-04-14T17:57:30.041858Z"
    }
   },
   "outputs": [
    {
     "data": {
      "text/plain": [
       "MLPClassifier(activation='relu', alpha=0.0001, batch_size='auto', beta_1=0.9,\n",
       "       beta_2=0.999, early_stopping=False, epsilon=1e-08,\n",
       "       hidden_layer_sizes=(100,), learning_rate='constant',\n",
       "       learning_rate_init=0.001, max_iter=1000, momentum=0.9,\n",
       "       n_iter_no_change=10, nesterovs_momentum=True, power_t=0.5,\n",
       "       random_state=None, shuffle=True, solver='adam', tol=0.0001,\n",
       "       validation_fraction=0.1, verbose=False, warm_start=False)"
      ]
     },
     "execution_count": 110,
     "metadata": {},
     "output_type": "execute_result"
    }
   ],
   "source": [
    "model_smart_MLPC = MLPClassifier(max_iter=1000)\n",
    "model_smart_MLPC.fit(X_smart_train, y_smart_train)"
   ]
  },
  {
   "cell_type": "code",
   "execution_count": 111,
   "metadata": {
    "ExecuteTime": {
     "end_time": "2019-04-14T17:57:47.309641Z",
     "start_time": "2019-04-14T17:57:47.301663Z"
    }
   },
   "outputs": [],
   "source": [
    "y_smart_predicted_MLPC = model_smart_MLPC.predict(X_smart_test)"
   ]
  },
  {
   "cell_type": "code",
   "execution_count": 112,
   "metadata": {
    "ExecuteTime": {
     "end_time": "2019-04-14T17:57:48.136697Z",
     "start_time": "2019-04-14T17:57:48.132708Z"
    }
   },
   "outputs": [
    {
     "name": "stdout",
     "output_type": "stream",
     "text": [
      "Acuratete: 0.8612600536193029\n"
     ]
    }
   ],
   "source": [
    "print('Acuratete:', metrics.accuracy_score(y_smart_test, y_smart_predicted_MLPC))"
   ]
  },
  {
   "cell_type": "code",
   "execution_count": 113,
   "metadata": {
    "ExecuteTime": {
     "end_time": "2019-04-14T17:58:15.161181Z",
     "start_time": "2019-04-14T17:57:48.972171Z"
    }
   },
   "outputs": [
    {
     "name": "stdout",
     "output_type": "stream",
     "text": [
      "Scores cross val: [0.74178404 0.69212691 0.80258519 0.77555817 0.75206612], Scores cross val Mean: 0.752824084706287\n",
      "Scores f1: 0.861614012022688\n",
      "Scores cross val train: [0.72535211 0.68625147 0.84488837 0.76615746 0.73317591], Scores cross val Mean: 0.75116506499349\n",
      "Scores cross val test: [0.82       0.70333333 0.73333333 0.77852349 0.8537415 ], Scores cross val Mean: 0.7777863306396384\n",
      "Scores cross val train f1: [0.73323457 0.70760187 0.83398951 0.77868017 0.77601686], Scores cross val Mean: 0.7659045962156894\n",
      "Scores cross val test f1: [0.81776168 0.65114752 0.74580393 0.7896176  0.85026723], Scores cross val Mean: 0.7709195923357652\n"
     ]
    }
   ],
   "source": [
    "scores_smart_MLPC_cross_val = cross_val_score(model_smart_MLPC, X_smart_train, y_smart_train, cv=5, scoring='accuracy')\n",
    "scores_smart_MLPC_f1 = metrics.f1_score(y_smart_test, y_smart_predicted_MLPC, average='weighted')\n",
    "print(f'Scores cross val: {scores_smart_MLPC_cross_val}, Scores cross val Mean: {scores_smart_MLPC_cross_val.mean()}')\n",
    "print(f'Scores f1: {scores_smart_MLPC_f1}')\n",
    "\n",
    "scores_smart_MLPC_cross_val_train = cross_val_score(model_smart_MLPC, X_smart_train, y_smart_train, cv=5, scoring='accuracy')\n",
    "print(f'Scores cross val train: {scores_smart_MLPC_cross_val_train}, Scores cross val Mean: {scores_smart_MLPC_cross_val_train.mean()}')\n",
    "\n",
    "scores_smart_MLPC_cross_val_test = cross_val_score(model_smart_MLPC, X_smart_test, y_smart_test, cv=5, scoring='accuracy')\n",
    "print(f'Scores cross val test: {scores_smart_MLPC_cross_val_test}, Scores cross val Mean: {scores_smart_MLPC_cross_val_test.mean()}')\n",
    "\n",
    "scores_smart_MLPC_cross_val_train_f1 = cross_val_score(model_smart_MLPC, X_smart_train, y_smart_train, cv=5, scoring='f1_macro')\n",
    "print(f'Scores cross val train f1: {scores_smart_MLPC_cross_val_train_f1}, Scores cross val Mean: {scores_smart_MLPC_cross_val_train_f1.mean()}')\n",
    "\n",
    "scores_smart_MLPC_cross_val_test_f1 = cross_val_score(model_smart_MLPC, X_smart_test, y_smart_test, cv=5, scoring='f1_macro')\n",
    "print(f'Scores cross val test f1: {scores_smart_MLPC_cross_val_test_f1}, Scores cross val Mean: {scores_smart_MLPC_cross_val_test_f1.mean()}')"
   ]
  },
  {
   "cell_type": "code",
   "execution_count": 114,
   "metadata": {
    "ExecuteTime": {
     "end_time": "2019-04-14T17:58:15.271534Z",
     "start_time": "2019-04-14T17:58:15.267546Z"
    }
   },
   "outputs": [],
   "source": [
    "#HYPERPARAMETRII\n",
    "search_mlpc(X_smart_train, y_smart_train, X_smart_test, y_smart_test)"
   ]
  },
  {
   "cell_type": "markdown",
   "metadata": {},
   "source": [
    "### Logistic Regression"
   ]
  },
  {
   "cell_type": "code",
   "execution_count": 115,
   "metadata": {
    "ExecuteTime": {
     "end_time": "2019-04-14T17:58:42.238519Z",
     "start_time": "2019-04-14T17:58:29.781610Z"
    }
   },
   "outputs": [
    {
     "data": {
      "text/plain": [
       "LogisticRegression(C=1.0, class_weight=None, dual=False, fit_intercept=True,\n",
       "          intercept_scaling=1, max_iter=10000, multi_class='auto',\n",
       "          n_jobs=None, penalty='l2', random_state=None, solver='lbfgs',\n",
       "          tol=0.0001, verbose=0, warm_start=False)"
      ]
     },
     "execution_count": 115,
     "metadata": {},
     "output_type": "execute_result"
    }
   ],
   "source": [
    "model_smart_LogisticReg = LogisticRegression(solver='lbfgs', multi_class='auto', max_iter=10000)\n",
    "model_smart_LogisticReg.fit(X_smart_train, y_smart_train)"
   ]
  },
  {
   "cell_type": "code",
   "execution_count": 116,
   "metadata": {
    "ExecuteTime": {
     "end_time": "2019-04-14T17:58:43.160056Z",
     "start_time": "2019-04-14T17:58:43.156051Z"
    }
   },
   "outputs": [],
   "source": [
    "y_smart_predicted_LogisticReg = model_smart_LogisticReg.predict(X_smart_test)"
   ]
  },
  {
   "cell_type": "code",
   "execution_count": 117,
   "metadata": {
    "ExecuteTime": {
     "end_time": "2019-04-14T17:58:43.719936Z",
     "start_time": "2019-04-14T17:58:43.715946Z"
    }
   },
   "outputs": [
    {
     "name": "stdout",
     "output_type": "stream",
     "text": [
      "Acuratete: 0.8612600536193029\n"
     ]
    }
   ],
   "source": [
    "print('Acuratete:', metrics.accuracy_score(y_smart_test, y_smart_predicted_MLPC))"
   ]
  },
  {
   "cell_type": "code",
   "execution_count": 118,
   "metadata": {
    "ExecuteTime": {
     "end_time": "2019-04-14T17:59:52.265147Z",
     "start_time": "2019-04-14T17:59:10.725842Z"
    }
   },
   "outputs": [
    {
     "name": "stdout",
     "output_type": "stream",
     "text": [
      "Scores cross val: [0.70422535 0.7226792  0.84018801 0.77320799 0.77922078], Scores cross val Mean: 0.7639042673947756\n",
      "Scores f1: 0.8609181607526798\n",
      "Scores cross val train: [0.70422535 0.7226792  0.84018801 0.77320799 0.77922078], Scores cross val Mean: 0.7639042673947756\n",
      "Scores cross val test: [0.86       0.69333333 0.72333333 0.77516779 0.86394558], Scores cross val Mean: 0.7831560060265716\n",
      "Scores cross val train f1: [0.70279195 0.72327466 0.84442323 0.7800445  0.78101175], Scores cross val Mean: 0.7663092189878781\n",
      "Scores cross val test f1: [0.8560514  0.66489043 0.70851993 0.77135777 0.86201056], Scores cross val Mean: 0.7725660181529712\n"
     ]
    }
   ],
   "source": [
    "scores_smart_LogisticReg_cross_val = cross_val_score(model_smart_LogisticReg, X_smart_train, y_smart_train, cv=5, scoring='accuracy')\n",
    "scores_smart_LogisticReg_f1 = metrics.f1_score(y_smart_test, y_smart_predicted_LogisticReg, average='weighted')\n",
    "print(f'Scores cross val: {scores_smart_LogisticReg_cross_val}, Scores cross val Mean: {scores_smart_LogisticReg_cross_val.mean()}')\n",
    "print(f'Scores f1: {scores_smart_LogisticReg_f1}')\n",
    "\n",
    "scores_smart_LogisticReg_cross_val_train = cross_val_score(model_smart_LogisticReg, X_smart_train, y_smart_train, cv=5, scoring='accuracy')\n",
    "print(f'Scores cross val train: {scores_smart_LogisticReg_cross_val_train}, Scores cross val Mean: {scores_smart_LogisticReg_cross_val_train.mean()}')\n",
    "\n",
    "scores_smart_LogisticReg_cross_val_test = cross_val_score(model_smart_LogisticReg, X_smart_test, y_smart_test, cv=5, scoring='accuracy')\n",
    "print(f'Scores cross val test: {scores_smart_LogisticReg_cross_val_test}, Scores cross val Mean: {scores_smart_LogisticReg_cross_val_test.mean()}')\n",
    "\n",
    "scores_smart_LogisticReg_cross_val_train_f1 = cross_val_score(model_smart_LogisticReg, X_smart_train, y_smart_train, cv=5, scoring='f1_macro')\n",
    "print(f'Scores cross val train f1: {scores_smart_LogisticReg_cross_val_train_f1}, Scores cross val Mean: {scores_smart_LogisticReg_cross_val_train_f1.mean()}')\n",
    "\n",
    "scores_smart_LogisticReg_cross_val_test_f1 = cross_val_score(model_smart_LogisticReg, X_smart_test, y_smart_test, cv=5, scoring='f1_macro')\n",
    "print(f'Scores cross val test f1: {scores_smart_LogisticReg_cross_val_test_f1}, Scores cross val Mean: {scores_smart_LogisticReg_cross_val_test_f1.mean()}')"
   ]
  },
  {
   "cell_type": "code",
   "execution_count": 119,
   "metadata": {
    "ExecuteTime": {
     "end_time": "2019-04-14T17:59:55.269342Z",
     "start_time": "2019-04-14T17:59:55.265352Z"
    }
   },
   "outputs": [],
   "source": [
    "#HYPERPARAMETRII\n",
    "search_logistic_reg(X_smart_train, y_smart_train, X_smart_test, y_smart_test)"
   ]
  },
  {
   "cell_type": "markdown",
   "metadata": {},
   "source": [
    "### SVC"
   ]
  },
  {
   "cell_type": "code",
   "execution_count": 120,
   "metadata": {
    "ExecuteTime": {
     "end_time": "2019-04-14T18:00:00.653666Z",
     "start_time": "2019-04-14T17:59:56.389472Z"
    }
   },
   "outputs": [
    {
     "data": {
      "text/plain": [
       "SVC(C=1.0, cache_size=200, class_weight=None, coef0=0.0,\n",
       "  decision_function_shape='ovr', degree=3, gamma='scale', kernel='rbf',\n",
       "  max_iter=-1, probability=False, random_state=None, shrinking=True,\n",
       "  tol=0.001, verbose=False)"
      ]
     },
     "execution_count": 120,
     "metadata": {},
     "output_type": "execute_result"
    }
   ],
   "source": [
    "model_smart_SVC = SVC(gamma='scale')\n",
    "model_smart_SVC.fit(X_smart_train, y_smart_train)"
   ]
  },
  {
   "cell_type": "code",
   "execution_count": 121,
   "metadata": {
    "ExecuteTime": {
     "end_time": "2019-04-14T18:00:04.315899Z",
     "start_time": "2019-04-14T18:00:01.814468Z"
    }
   },
   "outputs": [],
   "source": [
    "y_smart_predicted_SVC = model_smart_SVC.predict(X_smart_test)"
   ]
  },
  {
   "cell_type": "code",
   "execution_count": 122,
   "metadata": {
    "ExecuteTime": {
     "end_time": "2019-04-14T18:00:05.049590Z",
     "start_time": "2019-04-14T18:00:05.045571Z"
    }
   },
   "outputs": [
    {
     "name": "stdout",
     "output_type": "stream",
     "text": [
      "Acuratete: 0.8237265415549598\n"
     ]
    }
   ],
   "source": [
    "print('Acuratete:', metrics.accuracy_score(y_smart_test, y_smart_predicted_SVC))"
   ]
  },
  {
   "cell_type": "code",
   "execution_count": 123,
   "metadata": {
    "ExecuteTime": {
     "end_time": "2019-04-14T18:01:00.640983Z",
     "start_time": "2019-04-14T18:00:40.683760Z"
    }
   },
   "outputs": [
    {
     "name": "stdout",
     "output_type": "stream",
     "text": [
      "Scores cross val: [0.70422535 0.67450059 0.8519389  0.7720329  0.78984652], Scores cross val Mean: 0.7585088509321654\n",
      "Scores f1: 0.8233967694033858\n",
      "Scores cross val train: [0.70422535 0.67450059 0.8519389  0.7720329  0.78984652], Scores cross val Mean: 0.7585088509321654\n",
      "Scores cross val test: [0.81666667 0.61333333 0.74       0.76510067 0.82653061], Scores cross val Mean: 0.7523262566771675\n",
      "Scores cross val train f1: [0.70218882 0.66941835 0.85088313 0.78152415 0.7983985 ], Scores cross val Mean: 0.7604825913186807\n",
      "Scores cross val test f1: [0.81985706 0.55695104 0.72104204 0.75996605 0.82811709], Scores cross val Mean: 0.7371866574673536\n"
     ]
    }
   ],
   "source": [
    "scores_smart_SVC_cross_val = cross_val_score(model_smart_SVC, X_smart_train, y_smart_train, cv=5, scoring='accuracy')\n",
    "scores_smart_SVC_f1 = metrics.f1_score(y_smart_test, y_smart_predicted_SVC, average='weighted')\n",
    "print(f'Scores cross val: {scores_smart_SVC_cross_val}, Scores cross val Mean: {scores_smart_SVC_cross_val.mean()}')\n",
    "print(f'Scores f1: {scores_smart_SVC_f1}')\n",
    "\n",
    "scores_smart_SVC_cross_val_train = cross_val_score(model_smart_SVC, X_smart_train, y_smart_train, cv=5, scoring='accuracy')\n",
    "print(f'Scores cross val train: {scores_smart_SVC_cross_val_train}, Scores cross val Mean: {scores_smart_SVC_cross_val_train.mean()}')\n",
    "\n",
    "scores_smart_SVC_cross_val_test = cross_val_score(model_smart_SVC, X_smart_test, y_smart_test, cv=5, scoring='accuracy')\n",
    "print(f'Scores cross val test: {scores_smart_SVC_cross_val_test}, Scores cross val Mean: {scores_smart_SVC_cross_val_test.mean()}')\n",
    "\n",
    "scores_smart_SVC_cross_val_train_f1 = cross_val_score(model_smart_SVC, X_smart_train, y_smart_train, cv=5, scoring='f1_macro')\n",
    "print(f'Scores cross val train f1: {scores_smart_SVC_cross_val_train_f1}, Scores cross val Mean: {scores_smart_SVC_cross_val_train_f1.mean()}')\n",
    "\n",
    "scores_smart_SVC_cross_val_test_f1 = cross_val_score(model_smart_SVC, X_smart_test, y_smart_test, cv=5, scoring='f1_macro')\n",
    "print(f'Scores cross val test f1: {scores_smart_SVC_cross_val_test_f1}, Scores cross val Mean: {scores_smart_SVC_cross_val_test_f1.mean()}')"
   ]
  },
  {
   "cell_type": "code",
   "execution_count": 124,
   "metadata": {
    "ExecuteTime": {
     "end_time": "2019-04-14T18:01:03.449797Z",
     "start_time": "2019-04-14T18:01:03.445778Z"
    }
   },
   "outputs": [],
   "source": [
    "#HYPERPARAMETRII\n",
    "search_svc(X_smart_train, y_smart_train, X_smart_test, y_smart_test)"
   ]
  },
  {
   "cell_type": "markdown",
   "metadata": {},
   "source": [
    "### Gaussian Process"
   ]
  },
  {
   "cell_type": "code",
   "execution_count": 125,
   "metadata": {
    "ExecuteTime": {
     "end_time": "2019-04-14T18:02:54.319089Z",
     "start_time": "2019-04-14T18:01:04.917785Z"
    }
   },
   "outputs": [
    {
     "data": {
      "text/plain": [
       "GaussianProcessClassifier(copy_X_train=True, kernel=None,\n",
       "             max_iter_predict=100, multi_class='one_vs_rest', n_jobs=None,\n",
       "             n_restarts_optimizer=0, optimizer='fmin_l_bfgs_b',\n",
       "             random_state=None, warm_start=False)"
      ]
     },
     "execution_count": 125,
     "metadata": {},
     "output_type": "execute_result"
    }
   ],
   "source": [
    "model_smart_Gaussian = GaussianProcessClassifier()\n",
    "model_smart_Gaussian.fit(X_smart_train, y_smart_train)"
   ]
  },
  {
   "cell_type": "code",
   "execution_count": 126,
   "metadata": {
    "ExecuteTime": {
     "end_time": "2019-04-14T18:03:23.669744Z",
     "start_time": "2019-04-14T18:02:54.437772Z"
    }
   },
   "outputs": [],
   "source": [
    "y_smart_predicted_Gaussian = model_smart_Gaussian.predict(X_smart_test)"
   ]
  },
  {
   "cell_type": "code",
   "execution_count": 127,
   "metadata": {
    "ExecuteTime": {
     "end_time": "2019-04-14T18:03:23.776969Z",
     "start_time": "2019-04-14T18:03:23.770986Z"
    }
   },
   "outputs": [
    {
     "name": "stdout",
     "output_type": "stream",
     "text": [
      "Acuratete: 0.7727882037533512\n"
     ]
    }
   ],
   "source": [
    "print('Acuratete:', metrics.accuracy_score(y_smart_test, y_smart_predicted_Gaussian))"
   ]
  },
  {
   "cell_type": "code",
   "execution_count": 128,
   "metadata": {
    "ExecuteTime": {
     "end_time": "2019-04-14T18:10:26.636830Z",
     "start_time": "2019-04-14T18:03:40.879417Z"
    }
   },
   "outputs": [
    {
     "name": "stdout",
     "output_type": "stream",
     "text": [
      "Scores cross val: [0.71361502 0.70152761 0.75910693 0.74970623 0.7485242 ], Scores cross val Mean: 0.7344960004204005\n",
      "Scores f1: 0.7710891159549987\n",
      "Scores cross val train: [0.71361502 0.70152761 0.75910693 0.74970623 0.7485242 ], Scores cross val Mean: 0.7344960004204005\n",
      "Scores cross val test: [0.69       0.68       0.65       0.69127517 0.7414966 ], Scores cross val Mean: 0.6905543532849382\n",
      "Scores cross val train f1: [0.71226907 0.69507903 0.75762571 0.75903609 0.75779263], Scores cross val Mean: 0.7363605063272692\n",
      "Scores cross val test f1: [0.67273399 0.64856241 0.60490831 0.68561364 0.74424166], Scores cross val Mean: 0.6712120045684056\n"
     ]
    }
   ],
   "source": [
    "scores_smart_Gaussian_cross_val = cross_val_score(model_smart_Gaussian, X_smart_train, y_smart_train, cv=5, scoring='accuracy')\n",
    "scores_smart_Gaussian_f1 = metrics.f1_score(y_smart_test, y_smart_predicted_Gaussian, average='weighted')\n",
    "print(f'Scores cross val: {scores_smart_Gaussian_cross_val}, Scores cross val Mean: {scores_smart_Gaussian_cross_val.mean()}')\n",
    "print(f'Scores f1: {scores_smart_Gaussian_f1}')\n",
    "\n",
    "scores_smart_Gaussian_cross_val_train = cross_val_score(model_smart_Gaussian, X_smart_train, y_smart_train, cv=5, scoring='accuracy')\n",
    "print(f'Scores cross val train: {scores_smart_Gaussian_cross_val_train}, Scores cross val Mean: {scores_smart_Gaussian_cross_val_train.mean()}')\n",
    "\n",
    "scores_smart_Gaussian_cross_val_test = cross_val_score(model_smart_Gaussian, X_smart_test, y_smart_test, cv=5, scoring='accuracy')\n",
    "print(f'Scores cross val test: {scores_smart_Gaussian_cross_val_test}, Scores cross val Mean: {scores_smart_Gaussian_cross_val_test.mean()}')\n",
    "\n",
    "scores_smart_Gaussian_cross_val_train_f1 = cross_val_score(model_smart_Gaussian, X_smart_train, y_smart_train, cv=5, scoring='f1_macro')\n",
    "print(f'Scores cross val train f1: {scores_smart_Gaussian_cross_val_train_f1}, Scores cross val Mean: {scores_smart_Gaussian_cross_val_train_f1.mean()}')\n",
    "\n",
    "scores_smart_Gaussian_cross_val_test_f1 = cross_val_score(model_smart_Gaussian, X_smart_test, y_smart_test, cv=5, scoring='f1_macro')\n",
    "print(f'Scores cross val test f1: {scores_smart_Gaussian_cross_val_test_f1}, Scores cross val Mean: {scores_smart_Gaussian_cross_val_test_f1.mean()}')"
   ]
  },
  {
   "cell_type": "code",
   "execution_count": 129,
   "metadata": {},
   "outputs": [],
   "source": [
    "#HYPERPARAMETRII\n",
    "search_gaussian(X_smart_train, y_smart_train, X_smart_test, y_smart_test)"
   ]
  },
  {
   "cell_type": "markdown",
   "metadata": {},
   "source": [
    "## [Skin Segmentation Data Set](http://archive.ics.uci.edu/ml/datasets/Skin+Segmentation) (De la noi)"
   ]
  },
  {
   "cell_type": "code",
   "execution_count": 130,
   "metadata": {
    "ExecuteTime": {
     "end_time": "2019-04-14T18:37:30.183330Z",
     "start_time": "2019-04-14T18:37:29.864276Z"
    },
    "scrolled": false
   },
   "outputs": [
    {
     "data": {
      "text/html": [
       "<div>\n",
       "<style scoped>\n",
       "    .dataframe tbody tr th:only-of-type {\n",
       "        vertical-align: middle;\n",
       "    }\n",
       "\n",
       "    .dataframe tbody tr th {\n",
       "        vertical-align: top;\n",
       "    }\n",
       "\n",
       "    .dataframe thead th {\n",
       "        text-align: right;\n",
       "    }\n",
       "</style>\n",
       "<table border=\"1\" class=\"dataframe\">\n",
       "  <thead>\n",
       "    <tr style=\"text-align: right;\">\n",
       "      <th></th>\n",
       "      <th>0</th>\n",
       "      <th>1</th>\n",
       "      <th>2</th>\n",
       "      <th>3</th>\n",
       "    </tr>\n",
       "  </thead>\n",
       "  <tbody>\n",
       "    <tr>\n",
       "      <th>0</th>\n",
       "      <td>74</td>\n",
       "      <td>85</td>\n",
       "      <td>123</td>\n",
       "      <td>1</td>\n",
       "    </tr>\n",
       "    <tr>\n",
       "      <th>1</th>\n",
       "      <td>73</td>\n",
       "      <td>84</td>\n",
       "      <td>122</td>\n",
       "      <td>1</td>\n",
       "    </tr>\n",
       "    <tr>\n",
       "      <th>2</th>\n",
       "      <td>72</td>\n",
       "      <td>83</td>\n",
       "      <td>121</td>\n",
       "      <td>1</td>\n",
       "    </tr>\n",
       "    <tr>\n",
       "      <th>3</th>\n",
       "      <td>70</td>\n",
       "      <td>81</td>\n",
       "      <td>119</td>\n",
       "      <td>1</td>\n",
       "    </tr>\n",
       "    <tr>\n",
       "      <th>4</th>\n",
       "      <td>70</td>\n",
       "      <td>81</td>\n",
       "      <td>119</td>\n",
       "      <td>1</td>\n",
       "    </tr>\n",
       "  </tbody>\n",
       "</table>\n",
       "</div>"
      ],
      "text/plain": [
       "    0   1    2  3\n",
       "0  74  85  123  1\n",
       "1  73  84  122  1\n",
       "2  72  83  121  1\n",
       "3  70  81  119  1\n",
       "4  70  81  119  1"
      ]
     },
     "execution_count": 130,
     "metadata": {},
     "output_type": "execute_result"
    }
   ],
   "source": [
    "skin_df = pd.read_csv('data/Skin_NonSkin.txt', sep=r'\\s+', header=None)\n",
    "skin_df.head()"
   ]
  },
  {
   "cell_type": "code",
   "execution_count": 131,
   "metadata": {
    "ExecuteTime": {
     "end_time": "2019-04-14T18:37:30.934957Z",
     "start_time": "2019-04-14T18:37:30.912019Z"
    },
    "scrolled": false
   },
   "outputs": [
    {
     "name": "stdout",
     "output_type": "stream",
     "text": [
      "<class 'pandas.core.frame.DataFrame'>\n",
      "RangeIndex: 245057 entries, 0 to 245056\n",
      "Data columns (total 4 columns):\n",
      "0    245057 non-null int64\n",
      "1    245057 non-null int64\n",
      "2    245057 non-null int64\n",
      "3    245057 non-null int64\n",
      "dtypes: int64(4)\n",
      "memory usage: 7.5 MB\n"
     ]
    }
   ],
   "source": [
    "skin_df.info()"
   ]
  },
  {
   "cell_type": "code",
   "execution_count": 132,
   "metadata": {
    "ExecuteTime": {
     "end_time": "2019-04-14T18:37:32.940166Z",
     "start_time": "2019-04-14T18:37:32.936176Z"
    }
   },
   "outputs": [
    {
     "name": "stdout",
     "output_type": "stream",
     "text": [
      "(245057,) (245057, 3)\n"
     ]
    }
   ],
   "source": [
    "X_skin = skin_df.values[:, :-1]\n",
    "y_skin = skin_df.values[:, -1]\n",
    "print(y_skin.shape, X_skin.shape)"
   ]
  },
  {
   "cell_type": "code",
   "execution_count": 133,
   "metadata": {
    "ExecuteTime": {
     "end_time": "2019-04-14T18:37:33.494510Z",
     "start_time": "2019-04-14T18:37:33.470575Z"
    }
   },
   "outputs": [
    {
     "name": "stdout",
     "output_type": "stream",
     "text": [
      "(163371, 3) (81686, 3) (163371,) (81686,)\n"
     ]
    }
   ],
   "source": [
    "X_skin_train, X_skin_test, y_skin_train, y_skin_test = \\\n",
    "    train_test_split(X_skin, y_skin, test_size=1/3, random_state=5)\n",
    "print(X_skin_train.shape, X_skin_test.shape, y_skin_train.shape, y_skin_test.shape)"
   ]
  },
  {
   "cell_type": "markdown",
   "metadata": {},
   "source": [
    "### KNeighborsClassifier"
   ]
  },
  {
   "cell_type": "code",
   "execution_count": 134,
   "metadata": {
    "ExecuteTime": {
     "end_time": "2019-04-14T18:12:11.835412Z",
     "start_time": "2019-04-14T18:12:11.705758Z"
    }
   },
   "outputs": [
    {
     "data": {
      "text/plain": [
       "KNeighborsClassifier(algorithm='auto', leaf_size=30, metric='minkowski',\n",
       "           metric_params=None, n_jobs=None, n_neighbors=5, p=2,\n",
       "           weights='uniform')"
      ]
     },
     "execution_count": 134,
     "metadata": {},
     "output_type": "execute_result"
    }
   ],
   "source": [
    "model_skin_KNN = KNeighborsClassifier(n_neighbors=5)\n",
    "model_skin_KNN.fit(X_skin_train, y_skin_train)"
   ]
  },
  {
   "cell_type": "code",
   "execution_count": 135,
   "metadata": {
    "ExecuteTime": {
     "end_time": "2019-04-14T18:12:13.041772Z",
     "start_time": "2019-04-14T18:12:12.427851Z"
    }
   },
   "outputs": [],
   "source": [
    "y_skin_predicted_KNN = model_skin_KNN.predict(X_skin_test)"
   ]
  },
  {
   "cell_type": "code",
   "execution_count": 136,
   "metadata": {
    "ExecuteTime": {
     "end_time": "2019-04-14T18:12:13.561165Z",
     "start_time": "2019-04-14T18:12:13.551215Z"
    }
   },
   "outputs": [
    {
     "name": "stdout",
     "output_type": "stream",
     "text": [
      "Acuratete: 0.9994735940063169\n"
     ]
    }
   ],
   "source": [
    "print('Acuratete:', metrics.accuracy_score(y_skin_test, y_skin_predicted_KNN))"
   ]
  },
  {
   "cell_type": "code",
   "execution_count": 137,
   "metadata": {
    "ExecuteTime": {
     "end_time": "2019-04-14T18:12:16.483777Z",
     "start_time": "2019-04-14T18:12:14.213707Z"
    }
   },
   "outputs": [
    {
     "name": "stdout",
     "output_type": "stream",
     "text": [
      "Scores cross val: [0.97506733 0.99540929 0.99875541 0.99300157 0.99632728], Scores cross val Mean: 0.991712175206608\n",
      "Scores f1: 0.9994738177429756\n",
      "Scores cross val train: [0.99947972 0.99929608 0.99917365 0.99960213 0.99947971], Scores cross val Mean: 0.9994062589231525\n",
      "Scores cross val test: [0.99932672 0.99957155 0.99957152 0.99877579 0.99883692], Scores cross val Mean: 0.9992165016667762\n",
      "Scores cross val train f1: [0.99921045 0.99893201 0.99874641 0.99939609 0.99921036], Scores cross val Mean: 0.9990990617610983\n",
      "Scores cross val test f1: [0.99897629 0.99934812 0.99934825 0.99813888 0.99823287], Scores cross val Mean: 0.9988088850623695\n"
     ]
    }
   ],
   "source": [
    "scores_skin_KNN_cross_val = cross_val_score(model_skin_KNN, X_skin, y_skin, cv=5, scoring='accuracy')\n",
    "scores_skin_KNN_f1 = metrics.f1_score(y_skin_test, y_skin_predicted_KNN, average='weighted')\n",
    "print(f'Scores cross val: {scores_skin_KNN_cross_val}, Scores cross val Mean: {scores_skin_KNN_cross_val.mean()}')\n",
    "print(f'Scores f1: {scores_skin_KNN_f1}')\n",
    "\n",
    "scores_skin_KNN_cross_val_train = cross_val_score(model_skin_KNN, X_skin_train, y_skin_train, cv=5, scoring='accuracy')\n",
    "print(f'Scores cross val train: {scores_skin_KNN_cross_val_train}, Scores cross val Mean: {scores_skin_KNN_cross_val_train.mean()}')\n",
    "\n",
    "scores_skin_KNN_cross_val_test = cross_val_score(model_skin_KNN, X_skin_test, y_skin_test, cv=5, scoring='accuracy')\n",
    "print(f'Scores cross val test: {scores_skin_KNN_cross_val_test}, Scores cross val Mean: {scores_skin_KNN_cross_val_test.mean()}')\n",
    "\n",
    "scores_skin_KNN_cross_val_train_f1 = cross_val_score(model_skin_KNN, X_skin_train, y_skin_train, cv=5, scoring='f1_macro')\n",
    "print(f'Scores cross val train f1: {scores_skin_KNN_cross_val_train_f1}, Scores cross val Mean: {scores_skin_KNN_cross_val_train_f1.mean()}')\n",
    "\n",
    "scores_skin_KNN_cross_val_test_f1 = cross_val_score(model_skin_KNN, X_skin_test, y_skin_test, cv=5, scoring='f1_macro')\n",
    "print(f'Scores cross val test f1: {scores_skin_KNN_cross_val_test_f1}, Scores cross val Mean: {scores_skin_KNN_cross_val_test_f1.mean()}')"
   ]
  },
  {
   "cell_type": "code",
   "execution_count": 138,
   "metadata": {},
   "outputs": [],
   "source": [
    "#HYPERPARAMETRII\n",
    "search_knn(X_skin_train, y_skin_train, X_skin_test, y_skin_test)"
   ]
  },
  {
   "cell_type": "markdown",
   "metadata": {
    "ExecuteTime": {
     "end_time": "2019-04-13T13:23:55.990763Z",
     "start_time": "2019-04-13T13:23:55.986738Z"
    }
   },
   "source": [
    "### Multi-layer Perceptron classifier"
   ]
  },
  {
   "cell_type": "code",
   "execution_count": 139,
   "metadata": {
    "ExecuteTime": {
     "end_time": "2019-04-14T18:13:25.617892Z",
     "start_time": "2019-04-14T18:12:42.005870Z"
    }
   },
   "outputs": [
    {
     "data": {
      "text/plain": [
       "MLPClassifier(activation='relu', alpha=0.0001, batch_size='auto', beta_1=0.9,\n",
       "       beta_2=0.999, early_stopping=False, epsilon=1e-08,\n",
       "       hidden_layer_sizes=(100,), learning_rate='constant',\n",
       "       learning_rate_init=0.001, max_iter=1000, momentum=0.9,\n",
       "       n_iter_no_change=10, nesterovs_momentum=True, power_t=0.5,\n",
       "       random_state=None, shuffle=True, solver='adam', tol=0.0001,\n",
       "       validation_fraction=0.1, verbose=False, warm_start=False)"
      ]
     },
     "execution_count": 139,
     "metadata": {},
     "output_type": "execute_result"
    }
   ],
   "source": [
    "model_skin_MLPC = MLPClassifier(max_iter=1000)\n",
    "model_skin_MLPC.fit(X_skin_train, y_skin_train)"
   ]
  },
  {
   "cell_type": "code",
   "execution_count": 140,
   "metadata": {
    "ExecuteTime": {
     "end_time": "2019-04-14T18:13:29.606380Z",
     "start_time": "2019-04-14T18:13:29.466783Z"
    }
   },
   "outputs": [],
   "source": [
    "y_skin_predicted_MLPC = model_skin_MLPC.predict(X_skin_test)"
   ]
  },
  {
   "cell_type": "code",
   "execution_count": 141,
   "metadata": {
    "ExecuteTime": {
     "end_time": "2019-04-14T18:13:30.202872Z",
     "start_time": "2019-04-14T18:13:30.193896Z"
    }
   },
   "outputs": [
    {
     "name": "stdout",
     "output_type": "stream",
     "text": [
      "Acuratete: 0.9988859780133683\n"
     ]
    }
   ],
   "source": [
    "print('Acuratete:', metrics.accuracy_score(y_skin_test, y_skin_predicted_MLPC))"
   ]
  },
  {
   "cell_type": "code",
   "execution_count": 142,
   "metadata": {
    "ExecuteTime": {
     "end_time": "2019-04-14T18:16:39.687756Z",
     "start_time": "2019-04-14T18:13:30.750522Z"
    }
   },
   "outputs": [
    {
     "name": "stdout",
     "output_type": "stream",
     "text": [
      "Scores cross val: [0.9658247  0.9999796  0.99691912 0.99481749 0.99875536], Scores cross val Mean: 0.9912592521349957\n",
      "Scores f1: 0.9988869354956431\n",
      "Scores cross val train: [0.99850038 0.99335863 0.99850034 0.99865336 0.99837792], Scores cross val Mean: 0.9974781263366435\n",
      "Scores cross val test: [0.99791896 0.99816379 0.99895942 0.99810247 0.99773506], Scores cross val Mean: 0.9981759399193463\n",
      "Scores cross val train f1: [0.99726602 0.99828174 0.99698894 0.99809763 0.99772619], Scores cross val Mean: 0.9976721020694072\n",
      "Scores cross val test f1: [0.99628912 0.99758322 0.997955   0.9975816  0.99683674], Scores cross val Mean: 0.9972491363323748\n"
     ]
    }
   ],
   "source": [
    "scores_skin_MLPC_cross_val = cross_val_score(model_skin_MLPC, X_skin, y_skin, cv=5, scoring='accuracy')\n",
    "scores_skin_MLPC_f1 = metrics.f1_score(y_skin_test, y_skin_predicted_MLPC, average='weighted')\n",
    "print(f'Scores cross val: {scores_skin_MLPC_cross_val}, Scores cross val Mean: {scores_skin_MLPC_cross_val.mean()}')\n",
    "print(f'Scores f1: {scores_skin_MLPC_f1}')\n",
    "\n",
    "scores_skin_MLPC_cross_val_train = cross_val_score(model_skin_MLPC, X_skin_train, y_skin_train, cv=5, scoring='accuracy')\n",
    "print(f'Scores cross val train: {scores_skin_MLPC_cross_val_train}, Scores cross val Mean: {scores_skin_MLPC_cross_val_train.mean()}')\n",
    "\n",
    "scores_skin_MLPC_cross_val_test = cross_val_score(model_skin_MLPC, X_skin_test, y_skin_test, cv=5, scoring='accuracy')\n",
    "print(f'Scores cross val test: {scores_skin_MLPC_cross_val_test}, Scores cross val Mean: {scores_skin_MLPC_cross_val_test.mean()}')\n",
    "\n",
    "scores_skin_MLPC_cross_val_train_f1 = cross_val_score(model_skin_MLPC, X_skin_train, y_skin_train, cv=5, scoring='f1_macro')\n",
    "print(f'Scores cross val train f1: {scores_skin_MLPC_cross_val_train_f1}, Scores cross val Mean: {scores_skin_MLPC_cross_val_train_f1.mean()}')\n",
    "\n",
    "scores_skin_MLPC_cross_val_test_f1 = cross_val_score(model_skin_MLPC, X_skin_test, y_skin_test, cv=5, scoring='f1_macro')\n",
    "print(f'Scores cross val test f1: {scores_skin_MLPC_cross_val_test_f1}, Scores cross val Mean: {scores_skin_MLPC_cross_val_test_f1.mean()}')"
   ]
  },
  {
   "cell_type": "code",
   "execution_count": 143,
   "metadata": {
    "ExecuteTime": {
     "end_time": "2019-04-14T18:19:04.945169Z",
     "start_time": "2019-04-14T18:19:04.942177Z"
    }
   },
   "outputs": [],
   "source": [
    "#HYPERPARAMETRII\n",
    "search_mlpc(X_skin_train, y_skin_train, X_skin_test, y_skin_test)"
   ]
  },
  {
   "cell_type": "markdown",
   "metadata": {},
   "source": [
    "### Logistic Regression"
   ]
  },
  {
   "cell_type": "code",
   "execution_count": 144,
   "metadata": {
    "ExecuteTime": {
     "end_time": "2019-04-14T18:19:06.365265Z",
     "start_time": "2019-04-14T18:19:05.825707Z"
    }
   },
   "outputs": [
    {
     "data": {
      "text/plain": [
       "LogisticRegression(C=1.0, class_weight=None, dual=False, fit_intercept=True,\n",
       "          intercept_scaling=1, max_iter=1000, multi_class='auto',\n",
       "          n_jobs=None, penalty='l2', random_state=None, solver='lbfgs',\n",
       "          tol=0.0001, verbose=0, warm_start=False)"
      ]
     },
     "execution_count": 144,
     "metadata": {},
     "output_type": "execute_result"
    }
   ],
   "source": [
    "model_skin_LogisticReg = LogisticRegression(solver='lbfgs', multi_class='auto', max_iter=1000)\n",
    "model_skin_LogisticReg.fit(X_skin_train, y_skin_train)"
   ]
  },
  {
   "cell_type": "code",
   "execution_count": 145,
   "metadata": {
    "ExecuteTime": {
     "end_time": "2019-04-14T18:19:06.931515Z",
     "start_time": "2019-04-14T18:19:06.926529Z"
    }
   },
   "outputs": [],
   "source": [
    "y_skin_predicted_LogisticReg = model_skin_LogisticReg.predict(X_skin_test)"
   ]
  },
  {
   "cell_type": "code",
   "execution_count": 146,
   "metadata": {
    "ExecuteTime": {
     "end_time": "2019-04-14T18:19:07.327759Z",
     "start_time": "2019-04-14T18:19:07.318809Z"
    }
   },
   "outputs": [
    {
     "name": "stdout",
     "output_type": "stream",
     "text": [
      "Acuratete: 0.9988859780133683\n"
     ]
    }
   ],
   "source": [
    "print('Acuratete:', metrics.accuracy_score(y_skin_test, y_skin_predicted_MLPC))"
   ]
  },
  {
   "cell_type": "code",
   "execution_count": 147,
   "metadata": {
    "ExecuteTime": {
     "end_time": "2019-04-14T18:19:10.905456Z",
     "start_time": "2019-04-14T18:19:07.933166Z"
    }
   },
   "outputs": [
    {
     "name": "stdout",
     "output_type": "stream",
     "text": [
      "Scores cross val: [0.81608586 0.90163633 0.98104546 0.92854665 0.91956744], Scores cross val Mean: 0.9093763473497235\n",
      "Scores f1: 0.9198133768606884\n",
      "Scores cross val train: [0.91856159 0.91901818 0.91880394 0.91880394 0.91834486], Scores cross val Mean: 0.9187065032650338\n",
      "Scores cross val test: [0.91841107 0.9187171  0.92220114 0.91938544 0.91650343], Scores cross val Mean: 0.9190436356156033\n",
      "Scores cross val train f1: [0.87835024 0.87892673 0.87845913 0.87765564 0.87785573], Scores cross val Mean: 0.8782494933607804\n",
      "Scores cross val test f1: [0.87797504 0.87766969 0.88337799 0.87819912 0.87482936], Scores cross val Mean: 0.878410239763074\n"
     ]
    }
   ],
   "source": [
    "scores_skin_LogisticReg_cross_val = cross_val_score(model_skin_LogisticReg, X_skin, y_skin, cv=5, scoring='accuracy')\n",
    "scores_skin_LogisticReg_f1 = metrics.f1_score(y_skin_test, y_skin_predicted_LogisticReg, average='weighted')\n",
    "print(f'Scores cross val: {scores_skin_LogisticReg_cross_val}, Scores cross val Mean: {scores_skin_LogisticReg_cross_val.mean()}')\n",
    "print(f'Scores f1: {scores_skin_LogisticReg_f1}')\n",
    "\n",
    "scores_skin_LogisticReg_cross_val_train = cross_val_score(model_skin_LogisticReg, X_skin_train, y_skin_train, cv=5, scoring='accuracy')\n",
    "print(f'Scores cross val train: {scores_skin_LogisticReg_cross_val_train}, Scores cross val Mean: {scores_skin_LogisticReg_cross_val_train.mean()}')\n",
    "\n",
    "scores_skin_LogisticReg_cross_val_test = cross_val_score(model_skin_LogisticReg, X_skin_test, y_skin_test, cv=5, scoring='accuracy')\n",
    "print(f'Scores cross val test: {scores_skin_LogisticReg_cross_val_test}, Scores cross val Mean: {scores_skin_LogisticReg_cross_val_test.mean()}')\n",
    "\n",
    "scores_skin_LogisticReg_cross_val_train_f1 = cross_val_score(model_skin_LogisticReg, X_skin_train, y_skin_train, cv=5, scoring='f1_macro')\n",
    "print(f'Scores cross val train f1: {scores_skin_LogisticReg_cross_val_train_f1}, Scores cross val Mean: {scores_skin_LogisticReg_cross_val_train_f1.mean()}')\n",
    "\n",
    "scores_skin_LogisticReg_cross_val_test_f1 = cross_val_score(model_skin_LogisticReg, X_skin_test, y_skin_test, cv=5, scoring='f1_macro')\n",
    "print(f'Scores cross val test f1: {scores_skin_LogisticReg_cross_val_test_f1}, Scores cross val Mean: {scores_skin_LogisticReg_cross_val_test_f1.mean()}')"
   ]
  },
  {
   "cell_type": "code",
   "execution_count": 148,
   "metadata": {
    "ExecuteTime": {
     "end_time": "2019-04-14T18:19:11.880291Z",
     "start_time": "2019-04-14T18:19:11.877299Z"
    }
   },
   "outputs": [],
   "source": [
    "#HYPERPARAMETRII\n",
    "search_logistic_reg(X_skin_train, y_skin_train, X_skin_test, y_skin_test)"
   ]
  },
  {
   "cell_type": "markdown",
   "metadata": {},
   "source": [
    "### SVC"
   ]
  },
  {
   "cell_type": "code",
   "execution_count": 149,
   "metadata": {
    "ExecuteTime": {
     "end_time": "2019-04-14T18:23:12.277698Z",
     "start_time": "2019-04-14T18:19:15.596995Z"
    }
   },
   "outputs": [
    {
     "data": {
      "text/plain": [
       "SVC(C=1.0, cache_size=200, class_weight=None, coef0=0.0,\n",
       "  decision_function_shape='ovr', degree=3, gamma='scale', kernel='rbf',\n",
       "  max_iter=-1, probability=False, random_state=None, shrinking=True,\n",
       "  tol=0.001, verbose=False)"
      ]
     },
     "execution_count": 149,
     "metadata": {},
     "output_type": "execute_result"
    }
   ],
   "source": [
    "model_skin_SVC = SVC(gamma='scale')\n",
    "model_skin_SVC.fit(X_skin_train, y_skin_train)"
   ]
  },
  {
   "cell_type": "code",
   "execution_count": 150,
   "metadata": {
    "ExecuteTime": {
     "end_time": "2019-04-14T18:25:02.635381Z",
     "start_time": "2019-04-14T18:24:59.732460Z"
    }
   },
   "outputs": [],
   "source": [
    "y_skin_predicted_SVC = model_skin_SVC.predict(X_skin_test)"
   ]
  },
  {
   "cell_type": "code",
   "execution_count": 151,
   "metadata": {
    "ExecuteTime": {
     "end_time": "2019-04-14T18:25:02.728641Z",
     "start_time": "2019-04-14T18:25:02.718666Z"
    }
   },
   "outputs": [
    {
     "name": "stdout",
     "output_type": "stream",
     "text": [
      "Acuratete: 0.9996449820042602\n"
     ]
    }
   ],
   "source": [
    "print('Acuratete:', metrics.accuracy_score(y_skin_test, y_skin_predicted_SVC))"
   ]
  },
  {
   "cell_type": "code",
   "execution_count": 152,
   "metadata": {
    "ExecuteTime": {
     "start_time": "2019-04-14T18:25:04.293Z"
    }
   },
   "outputs": [
    {
     "name": "stdout",
     "output_type": "stream",
     "text": [
      "Scores cross val: [0.95574553 1.         0.99755162 0.99545    0.99859212], Scores cross val Mean: 0.9894678553588883\n",
      "Scores f1: 0.9996450787878692\n",
      "Scores cross val train: [0.99954093 0.99963274 0.99935729 0.99978576 0.99951031], Scores cross val Mean: 0.9995654064948679\n",
      "Scores cross val test: [0.99926552 0.99975517 0.99975516 0.99914305 0.99951028], Scores cross val Mean: 0.9994858357054058\n",
      "Scores cross val train f1: [0.99930326 0.99944245 0.99902466 0.99967471 0.99925685], Scores cross val Mean: 0.9993403878065837\n",
      "Scores cross val test f1: [0.99888335 0.99962738 0.99962745 0.9986958  0.99925489], Scores cross val Mean: 0.9992177735333533\n"
     ]
    }
   ],
   "source": [
    "scores_skin_SVC_cross_val = cross_val_score(model_skin_SVC, X_skin, y_skin, cv=5, scoring='accuracy')\n",
    "scores_skin_SVC_f1 = metrics.f1_score(y_skin_test, y_skin_predicted_SVC, average='weighted')\n",
    "print(f'Scores cross val: {scores_skin_SVC_cross_val}, Scores cross val Mean: {scores_skin_SVC_cross_val.mean()}')\n",
    "print(f'Scores f1: {scores_skin_SVC_f1}')\n",
    "\n",
    "scores_skin_SVC_cross_val_train = cross_val_score(model_skin_SVC, X_skin_train, y_skin_train, cv=5, scoring='accuracy')\n",
    "print(f'Scores cross val train: {scores_skin_SVC_cross_val_train}, Scores cross val Mean: {scores_skin_SVC_cross_val_train.mean()}')\n",
    "\n",
    "scores_skin_SVC_cross_val_test = cross_val_score(model_skin_SVC, X_skin_test, y_skin_test, cv=5, scoring='accuracy')\n",
    "print(f'Scores cross val test: {scores_skin_SVC_cross_val_test}, Scores cross val Mean: {scores_skin_SVC_cross_val_test.mean()}')\n",
    "\n",
    "scores_skin_SVC_cross_val_train_f1 = cross_val_score(model_skin_SVC, X_skin_train, y_skin_train, cv=5, scoring='f1_macro')\n",
    "print(f'Scores cross val train f1: {scores_skin_SVC_cross_val_train_f1}, Scores cross val Mean: {scores_skin_SVC_cross_val_train_f1.mean()}')\n",
    "\n",
    "scores_skin_SVC_cross_val_test_f1 = cross_val_score(model_skin_SVC, X_skin_test, y_skin_test, cv=5, scoring='f1_macro')\n",
    "print(f'Scores cross val test f1: {scores_skin_SVC_cross_val_test_f1}, Scores cross val Mean: {scores_skin_SVC_cross_val_test_f1.mean()}')"
   ]
  },
  {
   "cell_type": "code",
   "execution_count": 153,
   "metadata": {},
   "outputs": [],
   "source": [
    "#HYPERPARAMETRII\n",
    "search_svc(X_skin_train, y_skin_train, X_skin_test, y_skin_test)"
   ]
  },
  {
   "cell_type": "markdown",
   "metadata": {},
   "source": [
    "### Gaussian Process"
   ]
  },
  {
   "cell_type": "code",
   "execution_count": 154,
   "metadata": {
    "ExecuteTime": {
     "end_time": "2019-04-13T17:52:07.624306Z",
     "start_time": "2019-04-13T17:52:01.567795Z"
    }
   },
   "outputs": [
    {
     "ename": "MemoryError",
     "evalue": "",
     "output_type": "error",
     "traceback": [
      "\u001b[1;31m---------------------------------------------------------------------------\u001b[0m",
      "\u001b[1;31mMemoryError\u001b[0m                               Traceback (most recent call last)",
      "\u001b[1;32m<ipython-input-154-2acc75aeff12>\u001b[0m in \u001b[0;36m<module>\u001b[1;34m\u001b[0m\n\u001b[0;32m      1\u001b[0m \u001b[0mmodel_skin_Gaussian\u001b[0m \u001b[1;33m=\u001b[0m \u001b[0mGaussianProcessClassifier\u001b[0m\u001b[1;33m(\u001b[0m\u001b[1;33m)\u001b[0m\u001b[1;33m\u001b[0m\u001b[1;33m\u001b[0m\u001b[0m\n\u001b[1;32m----> 2\u001b[1;33m \u001b[0mmodel_skin_Gaussian\u001b[0m\u001b[1;33m.\u001b[0m\u001b[0mfit\u001b[0m\u001b[1;33m(\u001b[0m\u001b[0mX_skin_train\u001b[0m\u001b[1;33m,\u001b[0m \u001b[0my_skin_train\u001b[0m\u001b[1;33m)\u001b[0m\u001b[1;33m\u001b[0m\u001b[1;33m\u001b[0m\u001b[0m\n\u001b[0m",
      "\u001b[1;32m~\\Anaconda3\\envs\\ids\\lib\\site-packages\\sklearn\\gaussian_process\\gpc.py\u001b[0m in \u001b[0;36mfit\u001b[1;34m(self, X, y)\u001b[0m\n\u001b[0;32m    632\u001b[0m                                  % self.multi_class)\n\u001b[0;32m    633\u001b[0m \u001b[1;33m\u001b[0m\u001b[0m\n\u001b[1;32m--> 634\u001b[1;33m         \u001b[0mself\u001b[0m\u001b[1;33m.\u001b[0m\u001b[0mbase_estimator_\u001b[0m\u001b[1;33m.\u001b[0m\u001b[0mfit\u001b[0m\u001b[1;33m(\u001b[0m\u001b[0mX\u001b[0m\u001b[1;33m,\u001b[0m \u001b[0my\u001b[0m\u001b[1;33m)\u001b[0m\u001b[1;33m\u001b[0m\u001b[1;33m\u001b[0m\u001b[0m\n\u001b[0m\u001b[0;32m    635\u001b[0m \u001b[1;33m\u001b[0m\u001b[0m\n\u001b[0;32m    636\u001b[0m         \u001b[1;32mif\u001b[0m \u001b[0mself\u001b[0m\u001b[1;33m.\u001b[0m\u001b[0mn_classes_\u001b[0m \u001b[1;33m>\u001b[0m \u001b[1;36m2\u001b[0m\u001b[1;33m:\u001b[0m\u001b[1;33m\u001b[0m\u001b[1;33m\u001b[0m\u001b[0m\n",
      "\u001b[1;32m~\\Anaconda3\\envs\\ids\\lib\\site-packages\\sklearn\\gaussian_process\\gpc.py\u001b[0m in \u001b[0;36mfit\u001b[1;34m(self, X, y)\u001b[0m\n\u001b[0;32m    233\u001b[0m         \u001b[1;32melse\u001b[0m\u001b[1;33m:\u001b[0m\u001b[1;33m\u001b[0m\u001b[1;33m\u001b[0m\u001b[0m\n\u001b[0;32m    234\u001b[0m             \u001b[0mself\u001b[0m\u001b[1;33m.\u001b[0m\u001b[0mlog_marginal_likelihood_value_\u001b[0m \u001b[1;33m=\u001b[0m\u001b[0;31m \u001b[0m\u001b[0;31m\\\u001b[0m\u001b[1;33m\u001b[0m\u001b[1;33m\u001b[0m\u001b[0m\n\u001b[1;32m--> 235\u001b[1;33m                 \u001b[0mself\u001b[0m\u001b[1;33m.\u001b[0m\u001b[0mlog_marginal_likelihood\u001b[0m\u001b[1;33m(\u001b[0m\u001b[0mself\u001b[0m\u001b[1;33m.\u001b[0m\u001b[0mkernel_\u001b[0m\u001b[1;33m.\u001b[0m\u001b[0mtheta\u001b[0m\u001b[1;33m)\u001b[0m\u001b[1;33m\u001b[0m\u001b[1;33m\u001b[0m\u001b[0m\n\u001b[0m\u001b[0;32m    236\u001b[0m \u001b[1;33m\u001b[0m\u001b[0m\n\u001b[0;32m    237\u001b[0m         \u001b[1;31m# Precompute quantities required for predictions which are independent\u001b[0m\u001b[1;33m\u001b[0m\u001b[1;33m\u001b[0m\u001b[1;33m\u001b[0m\u001b[0m\n",
      "\u001b[1;32m~\\Anaconda3\\envs\\ids\\lib\\site-packages\\sklearn\\gaussian_process\\gpc.py\u001b[0m in \u001b[0;36mlog_marginal_likelihood\u001b[1;34m(self, theta, eval_gradient)\u001b[0m\n\u001b[0;32m    341\u001b[0m             \u001b[0mK\u001b[0m\u001b[1;33m,\u001b[0m \u001b[0mK_gradient\u001b[0m \u001b[1;33m=\u001b[0m \u001b[0mkernel\u001b[0m\u001b[1;33m(\u001b[0m\u001b[0mself\u001b[0m\u001b[1;33m.\u001b[0m\u001b[0mX_train_\u001b[0m\u001b[1;33m,\u001b[0m \u001b[0meval_gradient\u001b[0m\u001b[1;33m=\u001b[0m\u001b[1;32mTrue\u001b[0m\u001b[1;33m)\u001b[0m\u001b[1;33m\u001b[0m\u001b[1;33m\u001b[0m\u001b[0m\n\u001b[0;32m    342\u001b[0m         \u001b[1;32melse\u001b[0m\u001b[1;33m:\u001b[0m\u001b[1;33m\u001b[0m\u001b[1;33m\u001b[0m\u001b[0m\n\u001b[1;32m--> 343\u001b[1;33m             \u001b[0mK\u001b[0m \u001b[1;33m=\u001b[0m \u001b[0mkernel\u001b[0m\u001b[1;33m(\u001b[0m\u001b[0mself\u001b[0m\u001b[1;33m.\u001b[0m\u001b[0mX_train_\u001b[0m\u001b[1;33m)\u001b[0m\u001b[1;33m\u001b[0m\u001b[1;33m\u001b[0m\u001b[0m\n\u001b[0m\u001b[0;32m    344\u001b[0m \u001b[1;33m\u001b[0m\u001b[0m\n\u001b[0;32m    345\u001b[0m         \u001b[1;31m# Compute log-marginal-likelihood Z and also store some temporaries\u001b[0m\u001b[1;33m\u001b[0m\u001b[1;33m\u001b[0m\u001b[1;33m\u001b[0m\u001b[0m\n",
      "\u001b[1;32m~\\Anaconda3\\envs\\ids\\lib\\site-packages\\sklearn\\gaussian_process\\kernels.py\u001b[0m in \u001b[0;36m__call__\u001b[1;34m(self, X, Y, eval_gradient)\u001b[0m\n\u001b[0;32m    767\u001b[0m                                        K2_gradient * K1[:, :, np.newaxis]))\n\u001b[0;32m    768\u001b[0m         \u001b[1;32melse\u001b[0m\u001b[1;33m:\u001b[0m\u001b[1;33m\u001b[0m\u001b[1;33m\u001b[0m\u001b[0m\n\u001b[1;32m--> 769\u001b[1;33m             \u001b[1;32mreturn\u001b[0m \u001b[0mself\u001b[0m\u001b[1;33m.\u001b[0m\u001b[0mk1\u001b[0m\u001b[1;33m(\u001b[0m\u001b[0mX\u001b[0m\u001b[1;33m,\u001b[0m \u001b[0mY\u001b[0m\u001b[1;33m)\u001b[0m \u001b[1;33m*\u001b[0m \u001b[0mself\u001b[0m\u001b[1;33m.\u001b[0m\u001b[0mk2\u001b[0m\u001b[1;33m(\u001b[0m\u001b[0mX\u001b[0m\u001b[1;33m,\u001b[0m \u001b[0mY\u001b[0m\u001b[1;33m)\u001b[0m\u001b[1;33m\u001b[0m\u001b[1;33m\u001b[0m\u001b[0m\n\u001b[0m\u001b[0;32m    770\u001b[0m \u001b[1;33m\u001b[0m\u001b[0m\n\u001b[0;32m    771\u001b[0m     \u001b[1;32mdef\u001b[0m \u001b[0mdiag\u001b[0m\u001b[1;33m(\u001b[0m\u001b[0mself\u001b[0m\u001b[1;33m,\u001b[0m \u001b[0mX\u001b[0m\u001b[1;33m)\u001b[0m\u001b[1;33m:\u001b[0m\u001b[1;33m\u001b[0m\u001b[1;33m\u001b[0m\u001b[0m\n",
      "\u001b[1;32m~\\Anaconda3\\envs\\ids\\lib\\site-packages\\sklearn\\gaussian_process\\kernels.py\u001b[0m in \u001b[0;36m__call__\u001b[1;34m(self, X, Y, eval_gradient)\u001b[0m\n\u001b[0;32m   1012\u001b[0m \u001b[1;33m\u001b[0m\u001b[0m\n\u001b[0;32m   1013\u001b[0m         K = np.full((X.shape[0], Y.shape[0]), self.constant_value,\n\u001b[1;32m-> 1014\u001b[1;33m                     dtype=np.array(self.constant_value).dtype)\n\u001b[0m\u001b[0;32m   1015\u001b[0m         \u001b[1;32mif\u001b[0m \u001b[0meval_gradient\u001b[0m\u001b[1;33m:\u001b[0m\u001b[1;33m\u001b[0m\u001b[1;33m\u001b[0m\u001b[0m\n\u001b[0;32m   1016\u001b[0m             \u001b[1;32mif\u001b[0m \u001b[1;32mnot\u001b[0m \u001b[0mself\u001b[0m\u001b[1;33m.\u001b[0m\u001b[0mhyperparameter_constant_value\u001b[0m\u001b[1;33m.\u001b[0m\u001b[0mfixed\u001b[0m\u001b[1;33m:\u001b[0m\u001b[1;33m\u001b[0m\u001b[1;33m\u001b[0m\u001b[0m\n",
      "\u001b[1;32m~\\Anaconda3\\envs\\ids\\lib\\site-packages\\numpy\\core\\numeric.py\u001b[0m in \u001b[0;36mfull\u001b[1;34m(shape, fill_value, dtype, order)\u001b[0m\n\u001b[0;32m    307\u001b[0m     \u001b[1;32mif\u001b[0m \u001b[0mdtype\u001b[0m \u001b[1;32mis\u001b[0m \u001b[1;32mNone\u001b[0m\u001b[1;33m:\u001b[0m\u001b[1;33m\u001b[0m\u001b[1;33m\u001b[0m\u001b[0m\n\u001b[0;32m    308\u001b[0m         \u001b[0mdtype\u001b[0m \u001b[1;33m=\u001b[0m \u001b[0marray\u001b[0m\u001b[1;33m(\u001b[0m\u001b[0mfill_value\u001b[0m\u001b[1;33m)\u001b[0m\u001b[1;33m.\u001b[0m\u001b[0mdtype\u001b[0m\u001b[1;33m\u001b[0m\u001b[1;33m\u001b[0m\u001b[0m\n\u001b[1;32m--> 309\u001b[1;33m     \u001b[0ma\u001b[0m \u001b[1;33m=\u001b[0m \u001b[0mempty\u001b[0m\u001b[1;33m(\u001b[0m\u001b[0mshape\u001b[0m\u001b[1;33m,\u001b[0m \u001b[0mdtype\u001b[0m\u001b[1;33m,\u001b[0m \u001b[0morder\u001b[0m\u001b[1;33m)\u001b[0m\u001b[1;33m\u001b[0m\u001b[1;33m\u001b[0m\u001b[0m\n\u001b[0m\u001b[0;32m    310\u001b[0m     \u001b[0mmultiarray\u001b[0m\u001b[1;33m.\u001b[0m\u001b[0mcopyto\u001b[0m\u001b[1;33m(\u001b[0m\u001b[0ma\u001b[0m\u001b[1;33m,\u001b[0m \u001b[0mfill_value\u001b[0m\u001b[1;33m,\u001b[0m \u001b[0mcasting\u001b[0m\u001b[1;33m=\u001b[0m\u001b[1;34m'unsafe'\u001b[0m\u001b[1;33m)\u001b[0m\u001b[1;33m\u001b[0m\u001b[1;33m\u001b[0m\u001b[0m\n\u001b[0;32m    311\u001b[0m     \u001b[1;32mreturn\u001b[0m \u001b[0ma\u001b[0m\u001b[1;33m\u001b[0m\u001b[1;33m\u001b[0m\u001b[0m\n",
      "\u001b[1;31mMemoryError\u001b[0m: "
     ]
    }
   ],
   "source": [
    "model_skin_Gaussian = GaussianProcessClassifier()\n",
    "model_skin_Gaussian.fit(X_skin_train, y_skin_train)"
   ]
  },
  {
   "cell_type": "code",
   "execution_count": null,
   "metadata": {
    "ExecuteTime": {
     "end_time": "2019-04-13T17:52:09.813482Z",
     "start_time": "2019-04-13T17:52:07.740993Z"
    }
   },
   "outputs": [],
   "source": [
    "y_skin_predicted_Gaussian = model_skin_Gaussian.predict(X_skin_test)"
   ]
  },
  {
   "cell_type": "code",
   "execution_count": null,
   "metadata": {
    "ExecuteTime": {
     "end_time": "2019-04-13T17:52:09.989520Z",
     "start_time": "2019-04-13T17:52:09.985530Z"
    }
   },
   "outputs": [],
   "source": [
    "print('Acuratete:', metrics.accuracy_score(y_skin_test, y_skin_predicted_Gaussian))"
   ]
  },
  {
   "cell_type": "code",
   "execution_count": null,
   "metadata": {
    "ExecuteTime": {
     "end_time": "2019-04-13T17:52:15.235326Z",
     "start_time": "2019-04-13T17:52:10.106099Z"
    }
   },
   "outputs": [],
   "source": [
    "scores_skin_Gaussian_cross_val = cross_val_score(model_skin_Gaussian, X_skin, y_skin, cv=5, scoring='accuracy')\n",
    "scores_skin_Gaussian_f1 = metrics.f1_score(y_skin_test, y_skin_predicted_Gaussian, average='weighted')\n",
    "print(f'Scores cross val: {scores_skin_Gaussian_cross_val}, Scores cross val Mean: {scores_skin_Gaussian_cross_val.mean()}')\n",
    "print(f'Scores f1: {scores_skin_Gaussian_f1}')\n",
    "\n",
    "scores_skin_Gaussian_cross_val_train = cross_val_score(model_skin_Gaussian, X_skin_train, y_skin_train, cv=5, scoring='accuracy')\n",
    "print(f'Scores cross val train: {scores_skin_Gaussian_cross_val_train}, Scores cross val Mean: {scores_skin_Gaussian_cross_val_train.mean()}')\n",
    "\n",
    "scores_skin_Gaussian_cross_val_test = cross_val_score(model_skin_Gaussian, X_skin_test, y_skin_test, cv=5, scoring='accuracy')\n",
    "print(f'Scores cross val test: {scores_skin_Gaussian_cross_val_test}, Scores cross val Mean: {scores_skin_Gaussian_cross_val_test.mean()}')\n",
    "\n",
    "scores_skin_Gaussian_cross_val_train_f1 = cross_val_score(model_skin_Gaussian, X_skin_train, y_skin_train, cv=5, scoring='f1_macro')\n",
    "print(f'Scores cross val train f1: {scores_skin_Gaussian_cross_val_train_f1}, Scores cross val Mean: {scores_skin_Gaussian_cross_val_train_f1.mean()}')\n",
    "\n",
    "scores_skin_Gaussian_cross_val_test_f1 = cross_val_score(model_skin_Gaussian, X_skin_test, y_skin_test, cv=5, scoring='f1_macro')\n",
    "print(f'Scores cross val test f1: {scores_skin_Gaussian_cross_val_test_f1}, Scores cross val Mean: {scores_skin_Gaussian_cross_val_test_f1.mean()}')"
   ]
  },
  {
   "cell_type": "code",
   "execution_count": null,
   "metadata": {},
   "outputs": [],
   "source": [
    "#HYPERPARAMETRII\n",
    "search_gaussian(X_skin_train, y_skin_train, X_skin_test, y_skin_test)"
   ]
  },
  {
   "cell_type": "markdown",
   "metadata": {},
   "source": [
    "## [Wine Data Set](http://archive.ics.uci.edu/ml/datasets/Wine) (De la noi)"
   ]
  },
  {
   "cell_type": "code",
   "execution_count": null,
   "metadata": {
    "ExecuteTime": {
     "end_time": "2019-04-14T18:38:04.745821Z",
     "start_time": "2019-04-14T18:38:04.725844Z"
    },
    "scrolled": false
   },
   "outputs": [],
   "source": [
    "wine_df = pd.read_csv('data/wine.data', header=None)\n",
    "wine_df.head()"
   ]
  },
  {
   "cell_type": "code",
   "execution_count": null,
   "metadata": {
    "ExecuteTime": {
     "end_time": "2019-04-14T18:38:05.989971Z",
     "start_time": "2019-04-14T18:38:05.983013Z"
    },
    "scrolled": false
   },
   "outputs": [],
   "source": [
    "wine_df.info()"
   ]
  },
  {
   "cell_type": "code",
   "execution_count": null,
   "metadata": {
    "ExecuteTime": {
     "end_time": "2019-04-14T18:38:08.153879Z",
     "start_time": "2019-04-14T18:38:08.148893Z"
    }
   },
   "outputs": [],
   "source": [
    "X_wine = wine_df.values[:, 0:]\n",
    "y_wine = wine_df.values[:, 0]\n",
    "print(y_wine.shape, X_wine.shape)"
   ]
  },
  {
   "cell_type": "code",
   "execution_count": null,
   "metadata": {
    "ExecuteTime": {
     "end_time": "2019-04-14T18:38:08.742388Z",
     "start_time": "2019-04-14T18:38:08.736404Z"
    }
   },
   "outputs": [],
   "source": [
    "X_wine_train, X_wine_test, y_wine_train, y_wine_test = \\\n",
    "    train_test_split(X_wine, y_wine, test_size=1/3, random_state=5)\n",
    "print(X_wine_train.shape, X_wine_test.shape, y_wine_train.shape, y_wine_test.shape)"
   ]
  },
  {
   "cell_type": "markdown",
   "metadata": {},
   "source": [
    "### KNeighborsClassifier"
   ]
  },
  {
   "cell_type": "code",
   "execution_count": null,
   "metadata": {
    "ExecuteTime": {
     "end_time": "2019-04-14T18:38:29.364000Z",
     "start_time": "2019-04-14T18:38:29.357995Z"
    }
   },
   "outputs": [],
   "source": [
    "model_wine_KNN = KNeighborsClassifier(n_neighbors=5)\n",
    "model_wine_KNN.fit(X_wine_train, y_wine_train)"
   ]
  },
  {
   "cell_type": "code",
   "execution_count": null,
   "metadata": {
    "ExecuteTime": {
     "end_time": "2019-04-14T18:38:29.673085Z",
     "start_time": "2019-04-14T18:38:29.669096Z"
    }
   },
   "outputs": [],
   "source": [
    "y_wine_predicted_KNN = model_wine_KNN.predict(X_wine_test)"
   ]
  },
  {
   "cell_type": "code",
   "execution_count": null,
   "metadata": {
    "ExecuteTime": {
     "end_time": "2019-04-14T18:38:29.948696Z",
     "start_time": "2019-04-14T18:38:29.943736Z"
    }
   },
   "outputs": [],
   "source": [
    "print('Acuratete:', metrics.accuracy_score(y_wine_test, y_wine_predicted_KNN))"
   ]
  },
  {
   "cell_type": "code",
   "execution_count": null,
   "metadata": {
    "ExecuteTime": {
     "end_time": "2019-04-14T18:38:30.364769Z",
     "start_time": "2019-04-14T18:38:30.349824Z"
    }
   },
   "outputs": [],
   "source": [
    "scores_wine_KNN_cross_val = cross_val_score(model_wine_KNN, X_wine, y_wine, cv=5, scoring='accuracy')\n",
    "scores_wine_KNN_f1 = metrics.f1_score(y_wine_test, y_wine_predicted_KNN, average='weighted')\n",
    "print(f'Scores cross val: {scores_wine_KNN_cross_val}, Scores cross val Mean: {scores_wine_KNN_cross_val.mean()}')\n",
    "print(f'Scores f1: {scores_wine_KNN_f1}')\n",
    "\n",
    "scores_wine_KNN_cross_val_train = cross_val_score(model_wine_KNN, X_wine_train, y_wine_train, cv=5, scoring='accuracy')\n",
    "print(f'Scores cross val train: {scores_wine_KNN_cross_val_train}, Scores cross val Mean: {scores_wine_KNN_cross_val_train.mean()}')\n",
    "\n",
    "scores_wine_KNN_cross_val_test = cross_val_score(model_wine_KNN, X_wine_test, y_wine_test, cv=5, scoring='accuracy')\n",
    "print(f'Scores cross val test: {scores_wine_KNN_cross_val_test}, Scores cross val Mean: {scores_wine_KNN_cross_val_test.mean()}')\n",
    "\n",
    "scores_wine_KNN_cross_val_train_f1 = cross_val_score(model_wine_KNN, X_wine_train, y_wine_train, cv=5, scoring='f1_macro')\n",
    "print(f'Scores cross val train f1: {scores_wine_KNN_cross_val_train_f1}, Scores cross val Mean: {scores_wine_KNN_cross_val_train_f1.mean()}')\n",
    "\n",
    "scores_wine_KNN_cross_val_test_f1 = cross_val_score(model_wine_KNN, X_wine_test, y_wine_test, cv=5, scoring='f1_macro')\n",
    "print(f'Scores cross val test f1: {scores_wine_KNN_cross_val_test_f1}, Scores cross val Mean: {scores_wine_KNN_cross_val_test_f1.mean()}')"
   ]
  },
  {
   "cell_type": "code",
   "execution_count": null,
   "metadata": {
    "ExecuteTime": {
     "end_time": "2019-04-14T18:38:30.889361Z",
     "start_time": "2019-04-14T18:38:30.886369Z"
    }
   },
   "outputs": [],
   "source": [
    "#HYPERPARAMETRII\n",
    "search_knn(X_wine_train, y_wine_train, X_wine_test, y_wine_test)"
   ]
  },
  {
   "cell_type": "markdown",
   "metadata": {
    "ExecuteTime": {
     "end_time": "2019-04-13T13:23:55.990763Z",
     "start_time": "2019-04-13T13:23:55.986738Z"
    }
   },
   "source": [
    "### Multi-layer Perceptron classifier"
   ]
  },
  {
   "cell_type": "code",
   "execution_count": null,
   "metadata": {
    "ExecuteTime": {
     "end_time": "2019-04-14T18:38:31.987699Z",
     "start_time": "2019-04-14T18:38:31.941804Z"
    }
   },
   "outputs": [],
   "source": [
    "model_wine_MLPC = MLPClassifier(max_iter=1000)\n",
    "model_wine_MLPC.fit(X_wine_train, y_wine_train)"
   ]
  },
  {
   "cell_type": "code",
   "execution_count": null,
   "metadata": {
    "ExecuteTime": {
     "end_time": "2019-04-14T18:38:34.155012Z",
     "start_time": "2019-04-14T18:38:34.151024Z"
    }
   },
   "outputs": [],
   "source": [
    "y_wine_predicted_MLPC = model_wine_MLPC.predict(X_wine_test)"
   ]
  },
  {
   "cell_type": "code",
   "execution_count": null,
   "metadata": {
    "ExecuteTime": {
     "end_time": "2019-04-14T18:38:34.483001Z",
     "start_time": "2019-04-14T18:38:34.478040Z"
    }
   },
   "outputs": [],
   "source": [
    "print('Acuratete:', metrics.accuracy_score(y_wine_test, y_wine_predicted_MLPC))"
   ]
  },
  {
   "cell_type": "code",
   "execution_count": null,
   "metadata": {
    "ExecuteTime": {
     "end_time": "2019-04-14T18:39:25.898991Z",
     "start_time": "2019-04-14T18:39:25.421735Z"
    }
   },
   "outputs": [],
   "source": [
    "scores_wine_MLPC_cross_val = cross_val_score(model_wine_MLPC, X_wine, y_wine, cv=5, scoring='accuracy')\n",
    "scores_wine_MLPC_f1 = metrics.f1_score(y_wine_test, y_wine_predicted_MLPC, average='weighted')\n",
    "print(f'Scores cross val: {scores_wine_MLPC_cross_val}, Scores cross val Mean: {scores_wine_MLPC_cross_val.mean()}')\n",
    "print(f'Scores f1: {scores_wine_MLPC_f1}')\n",
    "\n",
    "scores_wine_MLPC_cross_val_train = cross_val_score(model_wine_MLPC, X_wine_train, y_wine_train, cv=5, scoring='accuracy')\n",
    "print(f'Scores cross val train: {scores_wine_MLPC_cross_val_train}, Scores cross val Mean: {scores_wine_MLPC_cross_val_train.mean()}')\n",
    "\n",
    "scores_wine_MLPC_cross_val_test = cross_val_score(model_wine_MLPC, X_wine_test, y_wine_test, cv=5, scoring='accuracy')\n",
    "print(f'Scores cross val test: {scores_wine_MLPC_cross_val_test}, Scores cross val Mean: {scores_wine_MLPC_cross_val_test.mean()}')\n",
    "\n",
    "scores_wine_MLPC_cross_val_train_f1 = cross_val_score(model_wine_MLPC, X_wine_train, y_wine_train, cv=5, scoring='f1_macro')\n",
    "print(f'Scores cross val train f1: {scores_wine_MLPC_cross_val_train_f1}, Scores cross val Mean: {scores_wine_MLPC_cross_val_train_f1.mean()}')\n",
    "\n",
    "scores_wine_MLPC_cross_val_test_f1 = cross_val_score(model_wine_MLPC, X_wine_test, y_wine_test, cv=5, scoring='f1_macro')\n",
    "print(f'Scores cross val test f1: {scores_wine_MLPC_cross_val_test_f1}, Scores cross val Mean: {scores_wine_MLPC_cross_val_test_f1.mean()}')"
   ]
  },
  {
   "cell_type": "code",
   "execution_count": null,
   "metadata": {
    "ExecuteTime": {
     "end_time": "2019-04-14T18:39:44.174213Z",
     "start_time": "2019-04-14T18:39:44.171192Z"
    }
   },
   "outputs": [],
   "source": [
    "#HYPERPARAMETRII\n",
    "search_mlpc(X_wine_train, y_wine_train, X_wine_test, y_wine_test)"
   ]
  },
  {
   "cell_type": "markdown",
   "metadata": {},
   "source": [
    "### Logistic Regression"
   ]
  },
  {
   "cell_type": "code",
   "execution_count": null,
   "metadata": {
    "ExecuteTime": {
     "end_time": "2019-04-14T18:39:49.360442Z",
     "start_time": "2019-04-14T18:39:49.113138Z"
    }
   },
   "outputs": [],
   "source": [
    "model_wine_LogisticReg = LogisticRegression(solver='lbfgs', multi_class='auto', max_iter=10000)\n",
    "model_wine_LogisticReg.fit(X_wine_train, y_wine_train)"
   ]
  },
  {
   "cell_type": "code",
   "execution_count": null,
   "metadata": {
    "ExecuteTime": {
     "end_time": "2019-04-14T18:39:49.858216Z",
     "start_time": "2019-04-14T18:39:49.854202Z"
    }
   },
   "outputs": [],
   "source": [
    "y_wine_predicted_LogisticReg = model_wine_LogisticReg.predict(X_wine_test)"
   ]
  },
  {
   "cell_type": "code",
   "execution_count": null,
   "metadata": {
    "ExecuteTime": {
     "end_time": "2019-04-14T18:40:25.737072Z",
     "start_time": "2019-04-14T18:40:25.733085Z"
    }
   },
   "outputs": [],
   "source": [
    "print('Acuratete:', metrics.accuracy_score(y_wine_test, y_wine_predicted_MLPC))"
   ]
  },
  {
   "cell_type": "code",
   "execution_count": null,
   "metadata": {
    "ExecuteTime": {
     "end_time": "2019-04-14T18:40:42.711970Z",
     "start_time": "2019-04-14T18:40:40.805366Z"
    }
   },
   "outputs": [],
   "source": [
    "scores_wine_LogisticReg_cross_val = cross_val_score(model_wine_LogisticReg, X_wine, y_wine, cv=5, scoring='accuracy')\n",
    "scores_wine_LogisticReg_f1 = metrics.f1_score(y_wine_test, y_wine_predicted_LogisticReg, average='weighted')\n",
    "print(f'Scores cross val: {scores_wine_LogisticReg_cross_val}, Scores cross val Mean: {scores_wine_LogisticReg_cross_val.mean()}')\n",
    "print(f'Scores f1: {scores_wine_LogisticReg_f1}')\n",
    "\n",
    "scores_wine_LogisticReg_cross_val_train = cross_val_score(model_wine_LogisticReg, X_wine_train, y_wine_train, cv=5, scoring='accuracy')\n",
    "print(f'Scores cross val train: {scores_wine_LogisticReg_cross_val_train}, Scores cross val Mean: {scores_wine_LogisticReg_cross_val_train.mean()}')\n",
    "\n",
    "scores_wine_LogisticReg_cross_val_test = cross_val_score(model_wine_LogisticReg, X_wine_test, y_wine_test, cv=5, scoring='accuracy')\n",
    "print(f'Scores cross val test: {scores_wine_LogisticReg_cross_val_test}, Scores cross val Mean: {scores_wine_LogisticReg_cross_val_test.mean()}')\n",
    "\n",
    "scores_wine_LogisticReg_cross_val_train_f1 = cross_val_score(model_wine_LogisticReg, X_wine_train, y_wine_train, cv=5, scoring='f1_macro')\n",
    "print(f'Scores cross val train f1: {scores_wine_LogisticReg_cross_val_train_f1}, Scores cross val Mean: {scores_wine_LogisticReg_cross_val_train_f1.mean()}')\n",
    "\n",
    "scores_wine_LogisticReg_cross_val_test_f1 = cross_val_score(model_wine_LogisticReg, X_wine_test, y_wine_test, cv=5, scoring='f1_macro')\n",
    "print(f'Scores cross val test f1: {scores_wine_LogisticReg_cross_val_test_f1}, Scores cross val Mean: {scores_wine_LogisticReg_cross_val_test_f1.mean()}')"
   ]
  },
  {
   "cell_type": "code",
   "execution_count": null,
   "metadata": {
    "ExecuteTime": {
     "end_time": "2019-04-14T18:40:43.743461Z",
     "start_time": "2019-04-14T18:40:43.740468Z"
    }
   },
   "outputs": [],
   "source": [
    "#HYPERPARAMETRII\n",
    "search_logistic_reg(X_wine_train, y_wine_train, X_wine_test, y_wine_test)"
   ]
  },
  {
   "cell_type": "markdown",
   "metadata": {},
   "source": [
    "### SVC"
   ]
  },
  {
   "cell_type": "code",
   "execution_count": null,
   "metadata": {
    "ExecuteTime": {
     "end_time": "2019-04-14T18:40:44.485269Z",
     "start_time": "2019-04-14T18:40:44.479286Z"
    }
   },
   "outputs": [],
   "source": [
    "model_wine_SVC = SVC(gamma='scale')\n",
    "model_wine_SVC.fit(X_wine_train, y_wine_train)"
   ]
  },
  {
   "cell_type": "code",
   "execution_count": null,
   "metadata": {
    "ExecuteTime": {
     "end_time": "2019-04-14T18:40:45.048560Z",
     "start_time": "2019-04-14T18:40:45.045569Z"
    }
   },
   "outputs": [],
   "source": [
    "y_wine_predicted_SVC = model_wine_SVC.predict(X_wine_test)"
   ]
  },
  {
   "cell_type": "code",
   "execution_count": null,
   "metadata": {
    "ExecuteTime": {
     "end_time": "2019-04-14T18:40:45.481599Z",
     "start_time": "2019-04-14T18:40:45.478632Z"
    }
   },
   "outputs": [],
   "source": [
    "print('Acuratete:', metrics.accuracy_score(y_wine_test, y_wine_predicted_SVC))"
   ]
  },
  {
   "cell_type": "code",
   "execution_count": null,
   "metadata": {
    "ExecuteTime": {
     "end_time": "2019-04-14T18:40:55.886334Z",
     "start_time": "2019-04-14T18:40:55.871348Z"
    }
   },
   "outputs": [],
   "source": [
    "scores_wine_SVC_cross_val = cross_val_score(model_wine_SVC, X_wine, y_wine, cv=5, scoring='accuracy')\n",
    "scores_wine_SVC_f1 = metrics.f1_score(y_wine_test, y_wine_predicted_SVC, average='weighted')\n",
    "print(f'Scores cross val: {scores_wine_SVC_cross_val}, Scores cross val Mean: {scores_wine_SVC_cross_val.mean()}')\n",
    "print(f'Scores f1: {scores_wine_SVC_f1}')\n",
    "\n",
    "scores_wine_SVC_cross_val_train = cross_val_score(model_wine_SVC, X_wine_train, y_wine_train, cv=5, scoring='accuracy')\n",
    "print(f'Scores cross val train: {scores_wine_SVC_cross_val_train}, Scores cross val Mean: {scores_wine_SVC_cross_val_train.mean()}')\n",
    "\n",
    "scores_wine_SVC_cross_val_test = cross_val_score(model_wine_SVC, X_wine_test, y_wine_test, cv=5, scoring='accuracy')\n",
    "print(f'Scores cross val test: {scores_wine_SVC_cross_val_test}, Scores cross val Mean: {scores_wine_SVC_cross_val_test.mean()}')\n",
    "\n",
    "scores_wine_SVC_cross_val_train_f1 = cross_val_score(model_wine_SVC, X_wine_train, y_wine_train, cv=5, scoring='f1_macro')\n",
    "print(f'Scores cross val train f1: {scores_wine_SVC_cross_val_train_f1}, Scores cross val Mean: {scores_wine_SVC_cross_val_train_f1.mean()}')\n",
    "\n",
    "scores_wine_SVC_cross_val_test_f1 = cross_val_score(model_wine_SVC, X_wine_test, y_wine_test, cv=5, scoring='f1_macro')\n",
    "print(f'Scores cross val test f1: {scores_wine_SVC_cross_val_test_f1}, Scores cross val Mean: {scores_wine_SVC_cross_val_test_f1.mean()}')"
   ]
  },
  {
   "cell_type": "code",
   "execution_count": null,
   "metadata": {
    "ExecuteTime": {
     "end_time": "2019-04-14T18:40:58.929222Z",
     "start_time": "2019-04-14T18:40:58.926230Z"
    }
   },
   "outputs": [],
   "source": [
    "#HYPERPARAMETRII\n",
    "search_svc(X_wine_train, y_wine_train, X_wine_test, y_wine_test)"
   ]
  },
  {
   "cell_type": "markdown",
   "metadata": {},
   "source": [
    "### Gaussian Process"
   ]
  },
  {
   "cell_type": "code",
   "execution_count": null,
   "metadata": {
    "ExecuteTime": {
     "end_time": "2019-04-14T18:40:59.768795Z",
     "start_time": "2019-04-14T18:40:59.749873Z"
    }
   },
   "outputs": [],
   "source": [
    "model_wine_Gaussian = GaussianProcessClassifier()\n",
    "model_wine_Gaussian.fit(X_wine_train, y_wine_train)"
   ]
  },
  {
   "cell_type": "code",
   "execution_count": null,
   "metadata": {
    "ExecuteTime": {
     "end_time": "2019-04-14T18:41:00.537012Z",
     "start_time": "2019-04-14T18:41:00.493131Z"
    }
   },
   "outputs": [],
   "source": [
    "y_wine_predicted_Gaussian = model_wine_Gaussian.predict(X_wine_test)"
   ]
  },
  {
   "cell_type": "code",
   "execution_count": null,
   "metadata": {
    "ExecuteTime": {
     "end_time": "2019-04-14T18:41:00.914223Z",
     "start_time": "2019-04-14T18:41:00.910233Z"
    }
   },
   "outputs": [],
   "source": [
    "print('Acuratete:', metrics.accuracy_score(y_wine_test, y_wine_predicted_Gaussian))"
   ]
  },
  {
   "cell_type": "code",
   "execution_count": null,
   "metadata": {
    "ExecuteTime": {
     "end_time": "2019-04-14T18:41:02.753241Z",
     "start_time": "2019-04-14T18:41:02.597658Z"
    }
   },
   "outputs": [],
   "source": [
    "scores_wine_Gaussian_cross_val = cross_val_score(model_wine_Gaussian, X_wine, y_wine, cv=5, scoring='accuracy')\n",
    "scores_wine_Gaussian_f1 = metrics.f1_score(y_wine_test, y_wine_predicted_Gaussian, average='weighted')\n",
    "print(f'Scores cross val: {scores_wine_Gaussian_cross_val}, Scores cross val Mean: {scores_wine_Gaussian_cross_val.mean()}')\n",
    "print(f'Scores f1: {scores_wine_Gaussian_f1}')\n",
    "\n",
    "scores_wine_Gaussian_cross_val_train = cross_val_score(model_wine_Gaussian, X_wine_train, y_wine_train, cv=5, scoring='accuracy')\n",
    "print(f'Scores cross val train: {scores_wine_Gaussian_cross_val_train}, Scores cross val Mean: {scores_wine_Gaussian_cross_val_train.mean()}')\n",
    "\n",
    "scores_wine_Gaussian_cross_val_test = cross_val_score(model_wine_Gaussian, X_wine_test, y_wine_test, cv=5, scoring='accuracy')\n",
    "print(f'Scores cross val test: {scores_wine_Gaussian_cross_val_test}, Scores cross val Mean: {scores_wine_Gaussian_cross_val_test.mean()}')\n",
    "\n",
    "scores_wine_Gaussian_cross_val_train_f1 = cross_val_score(model_wine_Gaussian, X_wine_train, y_wine_train, cv=5, scoring='f1_macro')\n",
    "print(f'Scores cross val train f1: {scores_wine_Gaussian_cross_val_train_f1}, Scores cross val Mean: {scores_wine_Gaussian_cross_val_train_f1.mean()}')\n",
    "\n",
    "scores_wine_Gaussian_cross_val_test_f1 = cross_val_score(model_wine_Gaussian, X_wine_test, y_wine_test, cv=5, scoring='f1_macro')\n",
    "print(f'Scores cross val test f1: {scores_wine_Gaussian_cross_val_test_f1}, Scores cross val Mean: {scores_wine_Gaussian_cross_val_test_f1.mean()}')"
   ]
  },
  {
   "cell_type": "code",
   "execution_count": null,
   "metadata": {},
   "outputs": [],
   "source": [
    "#HYPERPARAMETRII\n",
    "search_gaussian(X_wine_train, y_wine_train, X_wine_test, y_wine_test)"
   ]
  },
  {
   "cell_type": "markdown",
   "metadata": {},
   "source": [
    "# Documentatie Modele de invatare"
   ]
  },
  {
   "cell_type": "markdown",
   "metadata": {},
   "source": [
    "## Logistic Regression"
   ]
  },
  {
   "cell_type": "raw",
   "metadata": {},
   "source": [
    "Regresia logistică, în ciuda numelui său, este un model liniar de clasificare mai degrabă decât de regresie. Regresia logistică este, de asemenea, cunoscută în literatură logit regression, maximum-entropy classification (MaxEnt) sau ca log-linear classifier. În acest model, probabilitățile care descriu posibilele rezultate ale unui singur studiu sunt modelate folosind o funcție logistică.\n",
    "Implementarea regresiei logistice în scikit-learn poate fi accesată din clasa LogisticRegression. Această implementare se poate potrivi reglării logice binare, One-vs-Rest, sau multinomială, cu regularizare L2 sau L1 opțională.\n",
    "\n",
    "Regularizarea aplică o pedeapsă care crește mărimea valorilor parametrilor pentru a reduce overfitting-ul. Trebuie alest parametrii care dau cea mai bună potrivire datelor. Acest lucru înseamnă minimizarea erorii între ceea ce modelul prezice pentru variabila dependentă dată datelor introduse în comparație cu variabila dependentă in sine.\n",
    "\n",
    "class sklearn.linear_model.LogisticRegression(\n",
    "penalty=’l2’             -> tipul de regularizare folosit, acesta pote fi regularizare 'l1' sau 'l2', se alege in functie de                               solver.\n",
    ",dual=False              -> formulare primara(true) sau dubla(false). Formularea dublă este implementată numai pentru                                       regularizarea 'l2' cu solver liblinear. Se prefera dual = false când samples > features.\n",
    ",tol=0.0001              -> valoare care reprezinta criteriul de oprire al invatarii.\n",
    ",C=1.0                   -> inversul forței de regularizare (C = 1 / lambda), trebuie să fie o valoare reala pozitiva. \n",
    ",fit_intercept=True      -> specifică dacă trebuie adăugată o constantă (bias sau intercept) la funcția de decizie.\n",
    ",intercept_scaling=1     -> utilizat numai atunci când este folosit solver \"liblinear\" și self.fit_intercept este setat true.                               În acest caz, x devine [x, self.intercept_scaling], adică un 'synthetic' feature cu o valoare                                   constantă egală cu intercept_scaling care este atașată vectorului initial. Intercept devine                                     intercept_scaling * synthetic_feature_weight. Acest synthetic_feature_weight este supusă                                       regularizării 'l1' sau 'l2'. Pentru a diminua efectul regularizării asupra synthetic                                           feature weight, intercept_scaling trebuie crescută.\n",
    ",class_weight=None       -> weights asociate cu clasele în forma {class_label: weight}. Dacă nu este dat, toate clasele ar                                 trebui să aibă weight = 1. Aceste weights vor fi înmulțite cu sample_weight (trecute prin etapa                                 de antrenare) dacă se specifică sample_weight.\n",
    ",random_state=None       -> folosit atunci când solver-ul este 'sag' sau 'liblinear'. Reprezinta valoarea de la care porneste                               generatorul de numere pseudo aleatoare sa amestece datele. Astfel, de fiecare data cand antrenam                               modelul, setul de data va fi amestecat in acelasi mod. Daca random_state este None atunci vom avea                             redistribuiri aleatoare ale setului de date\n",
    ",solver=’warn’           -> algoritmul utilizat în problema de optimizare {‘newton-cg’, ‘lbfgs’, ‘liblinear’, ‘sag’, ‘saga’}:\n",
    "                                - pentru seturile de date mici, \"liblinear\" este o alegere bună, în timp ce \"sag\" și \"saga\"                                       sunt mai rapide pentru cele mari.\n",
    "                                - pentru problemele multiclass, numai \"newton-cg\", \"sag\", \"saga\" și \"lbfgs\" tratează pierderi                                     multinomiale; \"Liblinear\" se limitează la schemele de tip one-versus-rest.\n",
    "                                - \"newton-cg\", \"lbfgs\" și \"sag\" se ocupă numai de regularizarea 'l2', în timp ce \"liblinear\" și                                   \"saga\" se ocupă de regularizarea 'l2'.\n",
    ",max_iter=100            -> utilizat pentru solverii \"newton-cg\", \"sag\" și \"lbfgs\". Reprezinta numărul maxim de iterații                                   necesare pentru ca solverii să converge.\n",
    ",multi_class=’warn’      -> {‘ovr’, ‘multinomial’, ‘auto’}. Dacă opțiunea aleasă este \"ovr\", atunci o problemă binară este                                 potrivită pentru fiecare etichetă. Pentru \"multinomial\", pierderea minimizată este o pierdere                                   multinomială care se potrivește întregii distribuții de probabilități, chiar și atunci când datele                             sunt binare. \n",
    ",verbose=0               -> specific pentru solverii \"liblinear\" și \"lbfgs\" se seteaza verbose la orice număr pozitiv.\n",
    ",warm_start=False        -> cand este setat true, se reutilizeaza soluția din apelul precedent pentru a se potrivi ca                                       inițializare, în caz contrar, se sterge doar soluția anterioară. \n",
    ",n_jobs=None)            -> reprezinta numărul de nuclee CPU utilizate la paralelizarea peste clase dacă multi_class = 'ovr'.                               Acest parametru este ignorat atunci când solverul este setat la \"liblinear\" indiferent dacă este                               specificat sau nu \"multi_class\". None înseamnă 1 în contextul joblib.parallel_backend. -1 înseamnă                             utilizarea tuturor procesoarelor. "
   ]
  },
  {
   "cell_type": "markdown",
   "metadata": {},
   "source": [
    "## KNeighborsClassifier"
   ]
  },
  {
   "cell_type": "raw",
   "metadata": {},
   "source": [
    "KNN clasifica un obiect prin votul majorității vecinilor obiectului, în spațiul parametrului de intrare. Obiectul este atribuit clasei care este cel mai frecvent întâlnită în cel mai apropiat vecin k (un întreg specificat de programator). Este un algoritm non-parametric, leneș. Este neparametric, deoarece nu face nicio ipoteză privind distribuția datelor (datele nu trebuie distribuite în mod normal). Este leneș, deoarece nu învață cu adevărat niciun model și nu face generalizarea datelor (nu instruiește câțiva parametri ai unei anumite funcții, unde intrarea X dă output y).\n",
    "\n",
    "În mod strict vorbind, acest nu este un algoritm de învățare. Pur și simplu clasifică obiectele bazate pe similaritatea caracteristicilor (caracteristică = variabile de intrare). Clasificarea se calculează prin votul majorității simple a celor mai apropiați vecini k din fiecare punct.\n",
    "\n",
    "class sklearn.neighbors.KNeighborsClassifier(\n",
    "n_neighbors=5           -> numărul de vecini care vor fi utilizați în mod implicit pentru interogări de tip kneighbors.\n",
    ",weights=’uniform’      -> funcția weight utilizată în predicție. Valorile posibile:\n",
    "                                - \"uniform\": weights uniforme. Toate punctele din fiecare cartier sunt ponderate în mod egal.\n",
    "                                - \"distance\": punctele weight prin inversul distanței lor. In acest caz, vecinii mai apropiați                                    ai unui punct de interogare vor avea o influență mai mare decât vecinii aflați mai departe.\n",
    "                                - [callable]: o funcție definită de utilizator care acceptă o serie de distanțe și returnează o                                   matrice de aceeași formă care conține weights-urile.\n",
    ",algorithm=’auto’       -> {‘auto’, ‘ball_tree’, ‘kd_tree’, ‘brute’} Algoritmul folosit pentru a calcula cei mai apropiați                                vecini:\n",
    "                                -\"Ball_tree\" va folosi BallTree\n",
    "                                -\"Kd_tree\" va folosi KDTree\n",
    "                                -\"Brute\" va folosi o căutare de forțe brute.\n",
    "                                -\"Auto\" va încerca să decidă cel mai potrivit algoritm pe baza valorilor transmise pentru a se                                  potrivi cu metoda.\n",
    ",leaf_size=30           -> leaf_size a trecut la BallTree sau KDTree. Acest lucru poate afecta viteza construcției și                                      interogarea, precum și memoria necesară pentru stocarea copacului. Valoarea optimă depinde de natura                            problemei.\n",
    ",p=2                    -> parametrul de putere pentru valoarea Minkowski. Atunci când p = 1, aceasta este echivalentă cu                                  folosirea manhattan_distance (l1), iar cand p = 2 se foloseste durata euclidana (l2). Pentru p                                  arbitrar, se utilizează minkowski_distance (l_p).\n",
    ",metric=’minkowski’     -> metrica de distanță care trebuie utilizată pentru arbore. Valoarea implicită este minkowski, iar cu                            p = 2 este echivalentă cu ecuația standard Euclidiană\n",
    ",metric_params=None     -> argumente suplimentare de cuvinte cheie pentru funcția de metrică.\n",
    ",n_jobs=None)           -> numărul de joburi paralele care se execută pentru căutarea vecinilor.\n"
   ]
  },
  {
   "cell_type": "markdown",
   "metadata": {},
   "source": [
    "## Gaussian Process"
   ]
  },
  {
   "cell_type": "markdown",
   "metadata": {},
   "source": [
    "GaussianProcessClassifier suporta clasificarea multi-clasa prin efectuarea unei instruiri si a unei predictii bazate pe one-versus-rest sau one-versus-one. În cazul one-versus-rest, un clasificator binar de proces Gaussian este montat pentru fiecare clasă, care este instruit să despartă această clasă de restul. În one_vs_one, un clasificator binar de proces Gaussian este montat pentru fiecare pereche de clase, care este instruit sa separe aceste două clase. Predicțiile acestor predictori binari sunt combinate în predicții multiple.\n",
    "\n",
    "Media anterioară a GaussianProcess se presupune a fi zero. Covarianța precedentului este specificată prin trecerea unui obiect kernel. Hiperparametrii kernel-ului sunt optimizati în timpul antrenarii GaussianProcessRegressor prin maximizarea log-marginal-likelihood (LML) bazată pe optimizatorul trecut. Deoarece LML poate avea mai multe optimizări locale, optimizatorul poate fi pornit în mod repetat prin specificarea n_restarts_optimizer. Prima rulare se efectuează întotdeauna pornind de la valorile inițiale ale hiperparametrului kernel-ului. Etapele următoare sunt efectuate din valorile hiperparametrului care au fost alese aleatoriu din intervalul de valori permise. Dacă hiperparametrii inițiali ar trebui să fie ficsi, None poate fi trecut ca optimizator.\n",
    "\n",
    "class sklearn.gaussian_process.GaussianProcessClassifier(\n",
    "kernel=None                     -> kernel-ul specifica funcția de covarianță a GP. Dacă nu este trecut niciunul, kernel-ul                                        \"1.0 * RBF (1.0)\" este folosit ca implicit. Hiperparametrii kernelului sunt optimizati în                                      timpul antrenarii\n",
    ",optimizer=’fmin_l_bfgs_b’      -> poate fi unul dintre optimizatorii suportați intern pentru optimizarea parametrilor                                            kernelului, specificați printr-un string, sau un optimizator definit extern, trecut                                            ca si callable.\n",
    ",n_restarts_optimizer=0         -> numărul de repornări ale optimizatorului pentru găsirea parametrilor kernelului care                                            maximizează log-marginal-likelihood\n",
    ",max_iter_predict=100           -> numărul maxim de iterații din metoda lui Newton pentru aproximarea ulterioara în timpul                                        prezicerii.\n",
    ",warm_start=False               -> dacă warm_start este true, atunci soluția ultimei iterații Newton din aproximația Laplace a                                    modului ulterior este folosită ca inițializare pentru următorul apel de \"_posterior_mode()\". \n",
    ",copy_X_train=True              -> dacă copy_X_train este true, o copie persistentă a datelor de antrenament este stocată în                                      obiect. În caz contrar, este stocată doar o referință la datele de antrenament, ceea ce ar                                      putea determina modificarea predictilor dacă datele sunt modificate extern.\n",
    ",random_state=None              -> folosit atunci când solver-ul este 'sag' sau 'liblinear'. Reprezinta valoarea de la care                                        porneste generatorul de numere pseudo aleatoare sa amestece datele. Astfel, de fiecare data                                    cand antrenam modelul, setul de data va fi amestecat in acelasi mod. Daca random_state este                                    None atunci vom avea redistribuiri aleatoare ale setului de date.\n",
    ",multi_class=’one_vs_rest’      -> specifică modul în care sunt tratate problemele de clasificare multi-clasă. Sunt acceptate                                      \"one_vs_rest\" și \"one_vs_one\".\n",
    ",n_jobs=None)                   -> numărul de joburi utilizate pentru calcul."
   ]
  },
  {
   "cell_type": "markdown",
   "metadata": {},
   "source": [
    "## SVC"
   ]
  },
  {
   "cell_type": "markdown",
   "metadata": {},
   "source": [
    "Support Vector Classification (SVC) este o metodă care se bazează, de asemenea, pe funcțiile kernelului, dar este potrivită pentru învățarea nesupravegheată. Este considerată o metodă fundamentală în știința datelor. Implementarea se bazează pe \"libsvm\". Complexitatea timpului de antrenare este mai mult decât quadratic cu numărul de sample-uri care face dificilă scalarea setului de date cu mai mult de 10000 de sample-uri.\n",
    "\n",
    "Suportul multiclass este tratat în conformitate cu o schemă one-vs-one.\n",
    "\n",
    "\n",
    "class sklearn.svm.SVC(\n",
    "C=1.0,                               -> parametrul de penalizare C al termenului de eroare.\n",
    ",kernel=’rbf’                        -> se specifică tipul de kernel care va fi folosit în algoritm. Trebuie să fie unul dintre                                         {\"linear\", \"poli\", \"rbf\", \"sigmoid\", \"precomputed\"} sau callable.\n",
    ",degree=3                            -> gradul funcției kernelului polinomial (\"poli\"). Ignorat de toate celelalte kernel-uri.\n",
    ",gamma=’auto_deprecated’             -> coeficientul kernel-ului pentru \"rbf\", \"poly\" și \"sigmoid\".\n",
    ",coef0=0.0                           -> termen independent în funcția de kernel. Este semnificativ numai în \"poli\" și                                                   \"sigmoid\".\n",
    ",shrinking=True                      -> tehnica de shrinking reduce dimensiunea problemei eliminând temporar variabilele α_i                                           care sunt puțin probabil să fie selectate\n",
    ",probability=False                   -> pentru a permite estimarea probabilităților\n",
    ",tol=0.001                           -> valoare care reprezinta criteriul de oprire al invatarii.\n",
    ",cache_size=200                      -> specifica dimensiunea memoriei cache a kernel-ului (în MB).\n",
    ",class_weight=None                   -> seteaza parametrul C al clasei i la class_weight [i] * C pentru SVC. Dacă nu este dat,                                         toate clasele ar trebui să aibă weight = 1\n",
    ",verbose=False                       -> activeaza ieșirea detaliată\n",
    ",max_iter=-1                         -> limita maximă a iterațiilor în cadrul solver-ului sau -1 pentru nici o limită.\n",
    ",decision_function_shape=’ovr’       -> returneaza funcția de decizie a formei (n_samples, n_classes) ca și ceilalți                                                   clasificatori, sau funcția de decizie inițială one-vs-one (\"ovo\") a libsvm care are                                             forma (n_samples , n_classes * (n_classes - 1) / 2).\n",
    ",random_state=None)                  -> folosit atunci când solver-ul este 'sag' sau 'liblinear'. Reprezinta valoarea de la                                             care porneste generatorul de numere pseudo aleatoare sa amestece datele. Astfel, de                                             fiecare data cand antrenam modelul, setul de data va fi amestecat in acelasi mod. Daca                                         random_state este None atunci vom avea redistribuiri aleatoare ale setului de date\n"
   ]
  },
  {
   "cell_type": "markdown",
   "metadata": {},
   "source": [
    "## Multi-layer Perceptron classifier"
   ]
  },
  {
   "cell_type": "markdown",
   "metadata": {},
   "source": [
    "Multi-layer Perceptron (MLP) este o clasă a rețelei neuronale artificiale. Un MLP constă din cel puțin trei straturi de noduri: un strat de intrare, un strat ascuns și un strat de ieșire. Cu excepția nodurilor de intrare, fiecare nod este un neuron care utilizează o funcție de activare neliniară. MLP utilizează o tehnică de învățare supravegheată numită backpropagation pentru formare. Straturile sale multiple și activarea neliniară disting MLP de un perceptron liniar. Poate distinge date care nu pot fi separate liniar.\n",
    "\n",
    "Multi-layer Perceptron classifier optimizează funcția log-loss folosind LBFGS sau stochastic gradient descent.\n",
    "\n",
    "class sklearn.neural_network.MLPClassifier(\n",
    "hidden_layer_sizes=(100, )          -> elementul i reprezintă numărul de neuroni din stratul i ascuns.\n",
    ",activation=’relu’                  -> funcția de activare pentru stratul ascuns:\n",
    "                                             - \"identity\", activare no-op, utilă pentru a pune în aplicare linear bottleneck,                                                   returnează f (x) = x\n",
    "                                             - 'logistic', funcția sigmoid logistică, returnează f (x) = 1 / (1 + exp (-x)).\n",
    "                                             - 'tanh', funcția tan hiperbolică, returnează f (x) = tanh (x).\n",
    "                                             - 'relu', funcția liniară rectificată, returnează f (x) = max (0, x) \n",
    ",solver=’adam’                      -> solver-ul pentru optimizarea weight-urilor: {‘lbfgs’, ‘sgd’, ‘adam’}\n",
    ",alpha=0.0001                       -> valoarea regularizarii 'l2'\n",
    ",batch_size=’auto’                  -> dimensiunea minibatch-urilor pentru optimizatorii stochastici. Dacă solver-ul este                                             \"lbfgs\", clasificatorul nu va folosi minibatch. Când este setat la \"auto\", batch_size =                                          min (200, n_samples)\n",
    ",learning_rate=’constant’           -> rata de învățare pentru actualizarea weight-urilor. {‘constant’, ‘invscaling’,                                                  ‘adaptive’}\n",
    ",learning_rate_init=0.001           -> rata de învățare inițială utilizată. Controlează dimensiunea pasului în actualizarea                                            weight-urilor. Se folosește numai atunci când solver = 'sgd' sau 'adam'.\n",
    ",power_t=0.5, max_iter=200          -> exponentul pentru inversul scalarii ratei de invatare. Se folosește la actualizarea                                            ratei efective de învățare când learning_rate este setat la \"invscaling\".\n",
    ",shuffle=True                       -> amesteca sample-urile în fiecare iterație. Se folosește numai atunci când solver = 'sgd'                                        sau 'adam'.\n",
    ",random_state=None                  -> folosit atunci când solver-ul este 'sag' sau 'liblinear'. Reprezinta valoarea de la                                            care porneste generatorul de numere pseudo aleatoare sa amestece datele. Astfel, de                                            fiecare data cand antrenam modelul, setul de data va fi amestecat in acelasi mod. Daca                                          random_state este None atunci vom avea redistribuiri aleatoare ale setului de date\n",
    ",tol=0.0001                         -> valoare care reprezinta criteriul de oprire al invatarii.\n",
    ",verbose=False                      -> pentru a imprima mesajele de progres la iesire.\n",
    ",warm_start=False                   -> C=când este setat true, reutilizeaza soluția din apelul precedent pentru a se potrivi ca                                        inițializare, în caz contrar, șterge doar soluția anterioară\n",
    ",momentum=0.9                       -> momentul actualizării gradient descent. Ar trebui să fie între 0 și 1. Se folosește                                            numai când solver = 'sgd'.\n",
    ",nesterovs_momentum=True            -> folosește impulsul lui Nesterov, numai atunci când solver = 'sgd' și impulsul> 0.\n",
    ",early_stopping=False               -> utilizata pentru oprirea precoce a antrenamentului atunci când nota de validare nu se                                          îmbunătățește cu cel puțin 'tol' pentru epocile consecutive n_iter_no_change. Dacă este                                        setat la true, acesta va aloca automat 10% din datele de antrenament ca validare și va                                          încheia antrenamentul.\n",
    ",validation_fraction=0.1            -> proporția datelor de antrenament rezervat ca validare stabilită pentru oprirea                                                  anticipată. Trebuie să fie între 0 și 1.\n",
    ",beta_1=0.9                         -> rata de decădere exponențială pentru estimările primului vector de moment în adam. Ar                                          trebui să fie între [0, 1) fara']'. Se folosește numai atunci când solver = 'adam'\n",
    ",beta_2=0.999                       -> rata de decădere exponențială pentru estimările vectorului secundar de moment în adam.                                          Ar trebui să fie între [0, 1) fara']'. Se folosește numai atunci când solver = 'adam'\n",
    ",epsilon=1e-08                      -> valoarea pentru stabilitatea numerică în adam.\n",
    ",n_iter_no_change=10)               -> numărul maxim de epoci care nu îndeplinesc toate îmbunătățirile. "
   ]
  },
  {
   "cell_type": "code",
   "execution_count": null,
   "metadata": {},
   "outputs": [],
   "source": []
  }
 ],
 "metadata": {
  "kernelspec": {
   "display_name": "Python 3",
   "language": "python",
   "name": "python3"
  },
  "language_info": {
   "codemirror_mode": {
    "name": "ipython",
    "version": 3
   },
   "file_extension": ".py",
   "mimetype": "text/x-python",
   "name": "python",
   "nbconvert_exporter": "python",
   "pygments_lexer": "ipython3",
   "version": "3.7.2"
  },
  "notify_time": "5",
  "toc": {
   "base_numbering": 1,
   "nav_menu": {},
   "number_sections": true,
   "sideBar": true,
   "skip_h1_title": false,
   "title_cell": "Table of Contents",
   "title_sidebar": "Contents",
   "toc_cell": false,
   "toc_position": {
    "height": "calc(100% - 180px)",
    "left": "10px",
    "top": "150px",
    "width": "352px"
   },
   "toc_section_display": true,
   "toc_window_display": true
  },
  "varInspector": {
   "cols": {
    "lenName": 16,
    "lenType": 16,
    "lenVar": 40
   },
   "kernels_config": {
    "python": {
     "delete_cmd_postfix": "",
     "delete_cmd_prefix": "del ",
     "library": "var_list.py",
     "varRefreshCmd": "print(var_dic_list())"
    },
    "r": {
     "delete_cmd_postfix": ") ",
     "delete_cmd_prefix": "rm(",
     "library": "var_list.r",
     "varRefreshCmd": "cat(var_dic_list()) "
    }
   },
   "types_to_exclude": [
    "module",
    "function",
    "builtin_function_or_method",
    "instance",
    "_Feature"
   ],
   "window_display": false
  }
 },
 "nbformat": 4,
 "nbformat_minor": 2
}
